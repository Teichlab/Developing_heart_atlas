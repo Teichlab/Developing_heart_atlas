{
 "cells": [
  {
   "cell_type": "code",
   "execution_count": null,
   "id": "powered-attack",
   "metadata": {},
   "outputs": [],
   "source": [
    "# use with bioconda kernel"
   ]
  },
  {
   "cell_type": "code",
   "execution_count": 32,
   "id": "silver-possible",
   "metadata": {},
   "outputs": [],
   "source": [
    "import pandas as pd\n",
    "import urllib.request\n",
    "import os"
   ]
  },
  {
   "cell_type": "code",
   "execution_count": 18,
   "id": "strange-pilot",
   "metadata": {},
   "outputs": [
    {
     "name": "stdout",
     "output_type": "stream",
     "text": [
      "/home/jovyan/data\n"
     ]
    }
   ],
   "source": [
    "! cd /home/jovyan/data/\n",
    "! pwd"
   ]
  },
  {
   "cell_type": "code",
   "execution_count": 26,
   "id": "protective-cooper",
   "metadata": {},
   "outputs": [
    {
     "data": {
      "text/plain": [
       "('/home/jovyan/data/variant_summary.txt.gz',\n",
       " <http.client.HTTPMessage at 0x7f97a925ddc0>)"
      ]
     },
     "execution_count": 26,
     "metadata": {},
     "output_type": "execute_result"
    }
   ],
   "source": [
    "urllib.request.urlretrieve('https://ftp.ncbi.nlm.nih.gov/pub/clinvar/tab_delimited/variant_summary.txt.gz', '/home/jovyan/data/variant_summary.txt.gz')"
   ]
  },
  {
   "cell_type": "code",
   "execution_count": 27,
   "id": "acknowledged-terry",
   "metadata": {},
   "outputs": [],
   "source": [
    "! gunzip /home/jovyan/data/variant_summary.txt.gz"
   ]
  },
  {
   "cell_type": "code",
   "execution_count": 34,
   "id": "false-williams",
   "metadata": {},
   "outputs": [
    {
     "name": "stderr",
     "output_type": "stream",
     "text": [
      "/tmp/ipykernel_7937/2819904544.py:1: DtypeWarning: Columns (18) have mixed types. Specify dtype option on import or set low_memory=False.\n",
      "  clinvar_summary_df=pd.read_csv('/home/jovyan/data/variant_summary.txt',sep='\\t')\n"
     ]
    }
   ],
   "source": [
    "clinvar_summary_df=pd.read_csv('/home/jovyan/data/variant_summary.txt',sep='\\t')"
   ]
  },
  {
   "cell_type": "code",
   "execution_count": 38,
   "id": "unlimited-recall",
   "metadata": {},
   "outputs": [
    {
     "data": {
      "text/plain": [
       "0                              Indel\n",
       "1                              Indel\n",
       "2                           Deletion\n",
       "3                           Deletion\n",
       "4          single nucleotide variant\n",
       "                     ...            \n",
       "3093514                    Insertion\n",
       "3093515    single nucleotide variant\n",
       "3093516    single nucleotide variant\n",
       "3093517    single nucleotide variant\n",
       "3093518    single nucleotide variant\n",
       "Name: Type, Length: 3093519, dtype: object"
      ]
     },
     "execution_count": 38,
     "metadata": {},
     "output_type": "execute_result"
    }
   ],
   "source": [
    "clinvar_summary_df['Type']"
   ]
  },
  {
   "cell_type": "code",
   "execution_count": 36,
   "id": "cheap-madagascar",
   "metadata": {},
   "outputs": [
    {
     "data": {
      "text/plain": [
       "array(['Pathogenic', 'Uncertain significance',\n",
       "       'Conflicting interpretations of pathogenicity; other; risk factor',\n",
       "       'Conflicting interpretations of pathogenicity; other',\n",
       "       'Conflicting interpretations of pathogenicity', 'Benign',\n",
       "       'Likely pathogenic', 'Pathogenic/Likely pathogenic', 'risk factor',\n",
       "       'association', 'Likely pathogenic; risk factor',\n",
       "       'no interpretation for the single variant',\n",
       "       'Conflicting interpretations of pathogenicity; risk factor',\n",
       "       'drug response', 'Affects', 'Pathogenic; risk factor',\n",
       "       'Conflicting interpretations of pathogenicity; association; risk factor',\n",
       "       'Benign/Likely benign', 'Likely benign',\n",
       "       'Uncertain significance; risk factor',\n",
       "       'Benign/Likely benign; other', 'not provided',\n",
       "       'Pathogenic/Likely pathogenic; other',\n",
       "       'Pathogenic/Likely pathogenic; risk factor', 'Benign; risk factor',\n",
       "       'Likely pathogenic; Affects', 'Benign; other',\n",
       "       'protective; risk factor', 'Likely benign; other',\n",
       "       'Conflicting interpretations of pathogenicity; association',\n",
       "       'Pathogenic; Affects', 'Benign/Likely benign; association',\n",
       "       'association; drug response; risk factor', 'Affects; risk factor',\n",
       "       'Benign/Likely benign; other; risk factor', 'protective',\n",
       "       'Benign; protective', 'drug response; risk factor',\n",
       "       'Pathogenic; drug response', 'Pathogenic; association',\n",
       "       'Conflicting interpretations of pathogenicity; protective',\n",
       "       'Uncertain risk allele; protective', 'drug response; other',\n",
       "       'Likely benign; drug response; other', 'Likely risk allele',\n",
       "       'Benign/Likely benign; risk factor',\n",
       "       'Uncertain significance; drug response',\n",
       "       'Likely pathogenic; drug response', 'other', 'Pathogenic; other',\n",
       "       'Conflicting interpretations of pathogenicity; drug response; other',\n",
       "       'Conflicting interpretations of pathogenicity; drug response',\n",
       "       'Likely pathogenic; other', 'Benign; association',\n",
       "       'Benign; association; confers sensitivity',\n",
       "       'Benign; confers sensitivity', 'Pathogenic; protective',\n",
       "       'Pathogenic; drug response; other',\n",
       "       'Pathogenic/Likely pathogenic; drug response',\n",
       "       'Conflicting interpretations of pathogenicity; Affects',\n",
       "       'Pathogenic; association; protective', 'Affects; association',\n",
       "       'conflicting data from submitters',\n",
       "       'Uncertain significance; Pathogenic/Likely pathogenic',\n",
       "       'Uncertain risk allele; risk factor',\n",
       "       'Uncertain significance; other', 'Benign; drug response',\n",
       "       'Pathogenic/Likely risk allele',\n",
       "       'Uncertain significance; association',\n",
       "       'Benign/Likely benign; drug response',\n",
       "       'Benign/Likely benign; drug response; other',\n",
       "       'association; risk factor', 'Pathogenic; confers sensitivity',\n",
       "       'Uncertain significance; Affects', 'association not found',\n",
       "       'Likely benign; risk factor', 'Likely pathogenic; association',\n",
       "       'confers sensitivity', 'Likely pathogenic, low penetrance',\n",
       "       'Uncertain risk allele'], dtype=object)"
      ]
     },
     "execution_count": 36,
     "metadata": {},
     "output_type": "execute_result"
    }
   ],
   "source": [
    "clinvar_summary_df['ClinicalSignificance'].unique()"
   ]
  },
  {
   "cell_type": "code",
   "execution_count": null,
   "id": "going-fighter",
   "metadata": {},
   "outputs": [],
   "source": [
    "ClinicalSignificance=['Pathogenic','Likely pathogenic', 'Pathogenic/Likely pathogenic', 'Likely pathogenic; risk factor','Pathogenic; risk factor',\n",
    "       'Pathogenic/Likely pathogenic; other',\n",
    "       'Pathogenic/Likely pathogenic; risk factor',       'Likely pathogenic; Affects', \n",
    "       'Pathogenic; Affects', \n",
    "       'Pathogenic; drug response', 'Pathogenic; association',\n",
    "       'Likely pathogenic; drug response', 'Pathogenic; other',\n",
    "       'Pathogenic; drug response; other',\n",
    "       'Pathogenic/Likely pathogenic; drug response',\n",
    "       'Pathogenic/Likely risk allele','Pathogenic; confers sensitivity']"
   ]
  }
 ],
 "metadata": {
  "kernelspec": {
   "display_name": "bioconda",
   "language": "python",
   "name": "bioconda"
  },
  "language_info": {
   "codemirror_mode": {
    "name": "ipython",
    "version": 3
   },
   "file_extension": ".py",
   "mimetype": "text/x-python",
   "name": "python",
   "nbconvert_exporter": "python",
   "pygments_lexer": "ipython3",
   "version": "3.9.13"
  }
 },
 "nbformat": 4,
 "nbformat_minor": 5
}
