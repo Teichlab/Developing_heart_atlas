{
 "cells": [
  {
   "cell_type": "code",
   "execution_count": 1,
   "id": "parental-champion",
   "metadata": {},
   "outputs": [],
   "source": [
    "# supress warnings\n",
    "options(warn=-1)"
   ]
  },
  {
   "cell_type": "code",
   "execution_count": 2,
   "id": "chief-arbitration",
   "metadata": {},
   "outputs": [],
   "source": [
    "# get date for time stamping\n",
    "today=format(Sys.Date(), \"%Y-%m-%d\")"
   ]
  },
  {
   "cell_type": "code",
   "execution_count": 24,
   "id": "divided-effort",
   "metadata": {},
   "outputs": [],
   "source": [
    "# load packages\n",
    "library('gwasrapidd')\n",
    "library('tidyverse')\n",
    "library('glue')                     "
   ]
  },
  {
   "cell_type": "code",
   "execution_count": 35,
   "id": "wound-price",
   "metadata": {},
   "outputs": [
    {
     "name": "stderr",
     "output_type": "stream",
     "text": [
      "\u001b[1mRows: \u001b[22m\u001b[34m45887\u001b[39m \u001b[1mColumns: \u001b[22m\u001b[34m6\u001b[39m\n",
      "\u001b[36m──\u001b[39m \u001b[1mColumn specification\u001b[22m \u001b[36m────────────────────────────────────────────────────────\u001b[39m\n",
      "\u001b[1mDelimiter:\u001b[22m \",\"\n",
      "\u001b[31mchr\u001b[39m (6): Disease trait, EFO term, EFO URI, Parent term, Parent URI, EFO_ids\n",
      "\n",
      "\u001b[36mℹ\u001b[39m Use `spec()` to retrieve the full column specification for this data.\n",
      "\u001b[36mℹ\u001b[39m Specify the column types or set `show_col_types = FALSE` to quiet this message.\n"
     ]
    },
    {
     "data": {
      "text/html": [
       "<table class=\"dataframe\">\n",
       "<caption>A tibble: 6 × 6</caption>\n",
       "<thead>\n",
       "\t<tr><th scope=col>Disease trait</th><th scope=col>EFO term</th><th scope=col>EFO URI</th><th scope=col>Parent term</th><th scope=col>Parent URI</th><th scope=col>EFO_ids</th></tr>\n",
       "\t<tr><th scope=col>&lt;chr&gt;</th><th scope=col>&lt;chr&gt;</th><th scope=col>&lt;chr&gt;</th><th scope=col>&lt;chr&gt;</th><th scope=col>&lt;chr&gt;</th><th scope=col>&lt;chr&gt;</th></tr>\n",
       "</thead>\n",
       "<tbody>\n",
       "\t<tr><td>Cervical cancer                                                      </td><td>cervical cancer                                                  </td><td>http://purl.obolibrary.org/obo/MONDO_0002974</td><td>Cancer               </td><td>http://www.ebi.ac.uk/efo/EFO_0000616</td><td>MONDO_0002974  </td></tr>\n",
       "\t<tr><td>Clubfoot                                                             </td><td>familial clubfoot with or without associated lower limb anomalies</td><td>http://www.orpha.net/ORDO/Orphanet_199315   </td><td>NR                   </td><td>NR                                  </td><td>Orphanet_199315</td></tr>\n",
       "\t<tr><td>X-12093 levels                                                       </td><td>X-12093 measurement                                              </td><td>http://www.ebi.ac.uk/efo/EFO_0021285        </td><td>Other measurement    </td><td>http://www.ebi.ac.uk/efo/EFO_0001444</td><td>EFO_0021285    </td></tr>\n",
       "\t<tr><td>Alcohol dependence or heroin dependence or methamphetamine dependence</td><td>methamphetamine dependence                                       </td><td>http://www.ebi.ac.uk/efo/EFO_0004701        </td><td>Neurological disorder</td><td>http://www.ebi.ac.uk/efo/EFO_0000618</td><td>EFO_0004701    </td></tr>\n",
       "\t<tr><td>Methamphetamine dependence                                           </td><td>methamphetamine dependence                                       </td><td>http://www.ebi.ac.uk/efo/EFO_0004701        </td><td>Neurological disorder</td><td>http://www.ebi.ac.uk/efo/EFO_0000618</td><td>EFO_0004701    </td></tr>\n",
       "\t<tr><td>X-12063 levels                                                       </td><td>X-12063 measurement                                              </td><td>http://www.ebi.ac.uk/efo/EFO_0021283        </td><td>Other measurement    </td><td>http://www.ebi.ac.uk/efo/EFO_0001444</td><td>EFO_0021283    </td></tr>\n",
       "</tbody>\n",
       "</table>\n"
      ],
      "text/latex": [
       "A tibble: 6 × 6\n",
       "\\begin{tabular}{llllll}\n",
       " Disease trait & EFO term & EFO URI & Parent term & Parent URI & EFO\\_ids\\\\\n",
       " <chr> & <chr> & <chr> & <chr> & <chr> & <chr>\\\\\n",
       "\\hline\n",
       "\t Cervical cancer                                                       & cervical cancer                                                   & http://purl.obolibrary.org/obo/MONDO\\_0002974 & Cancer                & http://www.ebi.ac.uk/efo/EFO\\_0000616 & MONDO\\_0002974  \\\\\n",
       "\t Clubfoot                                                              & familial clubfoot with or without associated lower limb anomalies & http://www.orpha.net/ORDO/Orphanet\\_199315    & NR                    & NR                                   & Orphanet\\_199315\\\\\n",
       "\t X-12093 levels                                                        & X-12093 measurement                                               & http://www.ebi.ac.uk/efo/EFO\\_0021285         & Other measurement     & http://www.ebi.ac.uk/efo/EFO\\_0001444 & EFO\\_0021285    \\\\\n",
       "\t Alcohol dependence or heroin dependence or methamphetamine dependence & methamphetamine dependence                                        & http://www.ebi.ac.uk/efo/EFO\\_0004701         & Neurological disorder & http://www.ebi.ac.uk/efo/EFO\\_0000618 & EFO\\_0004701    \\\\\n",
       "\t Methamphetamine dependence                                            & methamphetamine dependence                                        & http://www.ebi.ac.uk/efo/EFO\\_0004701         & Neurological disorder & http://www.ebi.ac.uk/efo/EFO\\_0000618 & EFO\\_0004701    \\\\\n",
       "\t X-12063 levels                                                        & X-12063 measurement                                               & http://www.ebi.ac.uk/efo/EFO\\_0021283         & Other measurement     & http://www.ebi.ac.uk/efo/EFO\\_0001444 & EFO\\_0021283    \\\\\n",
       "\\end{tabular}\n"
      ],
      "text/markdown": [
       "\n",
       "A tibble: 6 × 6\n",
       "\n",
       "| Disease trait &lt;chr&gt; | EFO term &lt;chr&gt; | EFO URI &lt;chr&gt; | Parent term &lt;chr&gt; | Parent URI &lt;chr&gt; | EFO_ids &lt;chr&gt; |\n",
       "|---|---|---|---|---|---|\n",
       "| Cervical cancer                                                       | cervical cancer                                                   | http://purl.obolibrary.org/obo/MONDO_0002974 | Cancer                | http://www.ebi.ac.uk/efo/EFO_0000616 | MONDO_0002974   |\n",
       "| Clubfoot                                                              | familial clubfoot with or without associated lower limb anomalies | http://www.orpha.net/ORDO/Orphanet_199315    | NR                    | NR                                   | Orphanet_199315 |\n",
       "| X-12093 levels                                                        | X-12093 measurement                                               | http://www.ebi.ac.uk/efo/EFO_0021285         | Other measurement     | http://www.ebi.ac.uk/efo/EFO_0001444 | EFO_0021285     |\n",
       "| Alcohol dependence or heroin dependence or methamphetamine dependence | methamphetamine dependence                                        | http://www.ebi.ac.uk/efo/EFO_0004701         | Neurological disorder | http://www.ebi.ac.uk/efo/EFO_0000618 | EFO_0004701     |\n",
       "| Methamphetamine dependence                                            | methamphetamine dependence                                        | http://www.ebi.ac.uk/efo/EFO_0004701         | Neurological disorder | http://www.ebi.ac.uk/efo/EFO_0000618 | EFO_0004701     |\n",
       "| X-12063 levels                                                        | X-12063 measurement                                               | http://www.ebi.ac.uk/efo/EFO_0021283         | Other measurement     | http://www.ebi.ac.uk/efo/EFO_0001444 | EFO_0021283     |\n",
       "\n"
      ],
      "text/plain": [
       "  Disease trait                                                        \n",
       "1 Cervical cancer                                                      \n",
       "2 Clubfoot                                                             \n",
       "3 X-12093 levels                                                       \n",
       "4 Alcohol dependence or heroin dependence or methamphetamine dependence\n",
       "5 Methamphetamine dependence                                           \n",
       "6 X-12063 levels                                                       \n",
       "  EFO term                                                         \n",
       "1 cervical cancer                                                  \n",
       "2 familial clubfoot with or without associated lower limb anomalies\n",
       "3 X-12093 measurement                                              \n",
       "4 methamphetamine dependence                                       \n",
       "5 methamphetamine dependence                                       \n",
       "6 X-12063 measurement                                              \n",
       "  EFO URI                                      Parent term          \n",
       "1 http://purl.obolibrary.org/obo/MONDO_0002974 Cancer               \n",
       "2 http://www.orpha.net/ORDO/Orphanet_199315    NR                   \n",
       "3 http://www.ebi.ac.uk/efo/EFO_0021285         Other measurement    \n",
       "4 http://www.ebi.ac.uk/efo/EFO_0004701         Neurological disorder\n",
       "5 http://www.ebi.ac.uk/efo/EFO_0004701         Neurological disorder\n",
       "6 http://www.ebi.ac.uk/efo/EFO_0021283         Other measurement    \n",
       "  Parent URI                           EFO_ids        \n",
       "1 http://www.ebi.ac.uk/efo/EFO_0000616 MONDO_0002974  \n",
       "2 NR                                   Orphanet_199315\n",
       "3 http://www.ebi.ac.uk/efo/EFO_0001444 EFO_0021285    \n",
       "4 http://www.ebi.ac.uk/efo/EFO_0000618 EFO_0004701    \n",
       "5 http://www.ebi.ac.uk/efo/EFO_0000618 EFO_0004701    \n",
       "6 http://www.ebi.ac.uk/efo/EFO_0001444 EFO_0021283    "
      ]
     },
     "metadata": {},
     "output_type": "display_data"
    }
   ],
   "source": [
    "# Get all efo_ids \n",
    "ebi<-read_csv('/home/jovyan/EBI_codes.csv')\n",
    "head(ebi)"
   ]
  },
  {
   "cell_type": "code",
   "execution_count": 45,
   "id": "dying-jaguar",
   "metadata": {},
   "outputs": [],
   "source": [
    "# get traits for Cardiovascular Disease Traits\n",
    "cv_only <- ebi %>% filter(str_detect(ebi$`Parent term`, \"ardiovascular\") | str_detect(ebi$`Disease trait`, \"ongenital\")) # get a broad list of traits\n",
    "efo_ids=unique(cv_only$EFO_ids)\n",
    "efo_ids<-append(efo_ids,'MONDO_0005090') # Add Schizophrenia as a negative control\n",
    "efo_ids<-append(efo_ids,'MONDO_0005178') # Add Osteoarthritis as a negative control"
   ]
  },
  {
   "cell_type": "code",
   "execution_count": 48,
   "id": "prime-router",
   "metadata": {},
   "outputs": [
    {
     "name": "stdout",
     "output_type": "stream",
     "text": [
      "[1] 273   3\n"
     ]
    },
    {
     "data": {
      "text/html": [
       "<table class=\"dataframe\">\n",
       "<caption>A tibble: 6 × 3</caption>\n",
       "<thead>\n",
       "\t<tr><th scope=col>efo_id</th><th scope=col>trait</th><th scope=col>uri</th></tr>\n",
       "\t<tr><th scope=col>&lt;chr&gt;</th><th scope=col>&lt;chr&gt;</th><th scope=col>&lt;chr&gt;</th></tr>\n",
       "</thead>\n",
       "<tbody>\n",
       "\t<tr><td>EFO_0004715 </td><td>mri defined brain infarct                                                                 </td><td>http://www.ebi.ac.uk/efo/EFO_0004715  </td></tr>\n",
       "\t<tr><td>EFO_0004718 </td><td>vascular dementia                                                                         </td><td>http://www.ebi.ac.uk/efo/EFO_0004718  </td></tr>\n",
       "\t<tr><td>EFO_0001666 </td><td>aortic aneurysm                                                                           </td><td>http://www.ebi.ac.uk/efo/EFO_0001666  </td></tr>\n",
       "\t<tr><td>Orphanet_136</td><td>cerebral autosomal dominant arteriopathy with subcortical infarcts and leukoencephalopathy</td><td>http://www.orpha.net/ORDO/Orphanet_136</td></tr>\n",
       "\t<tr><td>EFO_0004745 </td><td>nt-probnp measurement                                                                     </td><td>http://www.ebi.ac.uk/efo/EFO_0004745  </td></tr>\n",
       "\t<tr><td>EFO_0011035 </td><td>TP segment duration                                                                       </td><td>http://www.ebi.ac.uk/efo/EFO_0011035  </td></tr>\n",
       "</tbody>\n",
       "</table>\n"
      ],
      "text/latex": [
       "A tibble: 6 × 3\n",
       "\\begin{tabular}{lll}\n",
       " efo\\_id & trait & uri\\\\\n",
       " <chr> & <chr> & <chr>\\\\\n",
       "\\hline\n",
       "\t EFO\\_0004715  & mri defined brain infarct                                                                  & http://www.ebi.ac.uk/efo/EFO\\_0004715  \\\\\n",
       "\t EFO\\_0004718  & vascular dementia                                                                          & http://www.ebi.ac.uk/efo/EFO\\_0004718  \\\\\n",
       "\t EFO\\_0001666  & aortic aneurysm                                                                            & http://www.ebi.ac.uk/efo/EFO\\_0001666  \\\\\n",
       "\t Orphanet\\_136 & cerebral autosomal dominant arteriopathy with subcortical infarcts and leukoencephalopathy & http://www.orpha.net/ORDO/Orphanet\\_136\\\\\n",
       "\t EFO\\_0004745  & nt-probnp measurement                                                                      & http://www.ebi.ac.uk/efo/EFO\\_0004745  \\\\\n",
       "\t EFO\\_0011035  & TP segment duration                                                                        & http://www.ebi.ac.uk/efo/EFO\\_0011035  \\\\\n",
       "\\end{tabular}\n"
      ],
      "text/markdown": [
       "\n",
       "A tibble: 6 × 3\n",
       "\n",
       "| efo_id &lt;chr&gt; | trait &lt;chr&gt; | uri &lt;chr&gt; |\n",
       "|---|---|---|\n",
       "| EFO_0004715  | mri defined brain infarct                                                                  | http://www.ebi.ac.uk/efo/EFO_0004715   |\n",
       "| EFO_0004718  | vascular dementia                                                                          | http://www.ebi.ac.uk/efo/EFO_0004718   |\n",
       "| EFO_0001666  | aortic aneurysm                                                                            | http://www.ebi.ac.uk/efo/EFO_0001666   |\n",
       "| Orphanet_136 | cerebral autosomal dominant arteriopathy with subcortical infarcts and leukoencephalopathy | http://www.orpha.net/ORDO/Orphanet_136 |\n",
       "| EFO_0004745  | nt-probnp measurement                                                                      | http://www.ebi.ac.uk/efo/EFO_0004745   |\n",
       "| EFO_0011035  | TP segment duration                                                                        | http://www.ebi.ac.uk/efo/EFO_0011035   |\n",
       "\n"
      ],
      "text/plain": [
       "  efo_id      \n",
       "1 EFO_0004715 \n",
       "2 EFO_0004718 \n",
       "3 EFO_0001666 \n",
       "4 Orphanet_136\n",
       "5 EFO_0004745 \n",
       "6 EFO_0011035 \n",
       "  trait                                                                                     \n",
       "1 mri defined brain infarct                                                                 \n",
       "2 vascular dementia                                                                         \n",
       "3 aortic aneurysm                                                                           \n",
       "4 cerebral autosomal dominant arteriopathy with subcortical infarcts and leukoencephalopathy\n",
       "5 nt-probnp measurement                                                                     \n",
       "6 TP segment duration                                                                       \n",
       "  uri                                   \n",
       "1 http://www.ebi.ac.uk/efo/EFO_0004715  \n",
       "2 http://www.ebi.ac.uk/efo/EFO_0004718  \n",
       "3 http://www.ebi.ac.uk/efo/EFO_0001666  \n",
       "4 http://www.orpha.net/ORDO/Orphanet_136\n",
       "5 http://www.ebi.ac.uk/efo/EFO_0004745  \n",
       "6 http://www.ebi.ac.uk/efo/EFO_0011035  "
      ]
     },
     "metadata": {},
     "output_type": "display_data"
    }
   ],
   "source": [
    "# get metadata for those trait terms, the efo_ids in particular\n",
    "efos <- get_traits(efo_id = efo_ids)\n",
    "efos <- efos@traits # gets the (only) traits 'slot' of the output\n",
    "print(dim(efos))\n",
    "head(efos)"
   ]
  },
  {
   "cell_type": "code",
   "execution_count": null,
   "id": "sealed-handy",
   "metadata": {},
   "outputs": [],
   "source": [
    "# Make a table of index SNPs for each trait\n",
    "\n",
    "list_of_tibbles<-list()\n",
    "\n",
    "for (i in seq_along(efos$trait)) {\n",
    "    if (file.exists(glue('/nfs/team205/heart/EBI_GWAS/index_snps/{efos$efo_id[i]}_{efos$trait[i]}_index_SNPs.csv'))==FALSE) {\n",
    "        print(glue('{efos$trait[i]}: file needs to be made'))\n",
    "        variants_table<-get_variants(efo_id=efos$efo_id[i])@variants #gets variants for the trait\n",
    "        variants_table<-variants_table[complete.cases(variants_table), ] # removes any variants where SNP coordinates are not known, since these are useless to us\n",
    "        if (dim(variants_table)[1]>0) { # only keep traits for which there are SNPs\n",
    "            variants_table$efo_id=efos$efo_id[i]\n",
    "            variants_table$efo_term=efos$trait[i]\n",
    "            n_SNPs<-dim(variants_table)[1]\n",
    "            print(efos$efo_id[i])\n",
    "            list_of_tibbles[[i]]<-variants_table\n",
    "            write_csv(list_of_tibbles[[i]],glue('/nfs/team205/heart/EBI_GWAS/index_snps/{efos$efo_id[i]}_{efos$trait[i]}_index_SNPs.csv'))\n",
    "        }\n",
    "    } else {\n",
    "        print(glue('{efos$trait[i]}: file already exists'))\n",
    "    }\n",
    "}"
   ]
  }
 ],
 "metadata": {
  "kernelspec": {
   "display_name": "R",
   "language": "R",
   "name": "ir"
  },
  "language_info": {
   "codemirror_mode": "r",
   "file_extension": ".r",
   "mimetype": "text/x-r-source",
   "name": "R",
   "pygments_lexer": "r",
   "version": "4.0.4"
  }
 },
 "nbformat": 4,
 "nbformat_minor": 5
}
