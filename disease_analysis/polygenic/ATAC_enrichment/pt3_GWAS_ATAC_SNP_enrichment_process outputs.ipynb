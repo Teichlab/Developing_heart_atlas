{
 "cells": [
  {
   "cell_type": "code",
   "execution_count": 13,
   "id": "interracial-basic",
   "metadata": {},
   "outputs": [],
   "source": [
    "import numpy as np\n",
    "import pandas as pd\n",
    "import scanpy as sc\n",
    "import matplotlib.pyplot as plt\n",
    "import seaborn as sns\n",
    "from matplotlib.pyplot import rc_context\n",
    "import bbknn\n",
    "import re\n",
    "import json\n",
    "import os\n",
    "import rpy2\n",
    "import anndata\n",
    "from datetime import date\n",
    "from scipy.stats import binom_test\n",
    "from datetime import datetime\n",
    "\n",
    "# YYYY-MM-DD\n",
    "today = date.today()\n",
    "today = today.strftime(\"%Y-%m-%d\")\n",
    "\n",
    "import warnings\n",
    "warnings.filterwarnings('ignore')"
   ]
  },
  {
   "cell_type": "markdown",
   "id": "economic-childhood",
   "metadata": {},
   "source": [
    "# Set up"
   ]
  },
  {
   "cell_type": "code",
   "execution_count": 14,
   "id": "personalized-boards",
   "metadata": {},
   "outputs": [
    {
     "name": "stdout",
     "output_type": "stream",
     "text": [
      "0p1\n"
     ]
    }
   ],
   "source": [
    "# Check the threshold for binarisation, the ouput is specific to that\n",
    "threshold=0.1\n",
    "threshold_for_filename=str(threshold).replace('.','p')\n",
    "print(threshold_for_filename)\n",
    "\n",
    "# Confirm the output path\n",
    "output_path='/nfs/team205/heart/EBI_GWAS/enrichment_testing_output_proportion_of_SNPs/'"
   ]
  },
  {
   "cell_type": "markdown",
   "id": "helpful-penny",
   "metadata": {},
   "source": [
    "# Read in output file"
   ]
  },
  {
   "cell_type": "code",
   "execution_count": 15,
   "id": "prospective-hepatitis",
   "metadata": {},
   "outputs": [
    {
     "data": {
      "text/html": [
       "<div>\n",
       "<style scoped>\n",
       "    .dataframe tbody tr th:only-of-type {\n",
       "        vertical-align: middle;\n",
       "    }\n",
       "\n",
       "    .dataframe tbody tr th {\n",
       "        vertical-align: top;\n",
       "    }\n",
       "\n",
       "    .dataframe thead th {\n",
       "        text-align: right;\n",
       "    }\n",
       "</style>\n",
       "<table border=\"1\" class=\"dataframe\">\n",
       "  <thead>\n",
       "    <tr style=\"text-align: right;\">\n",
       "      <th></th>\n",
       "      <th>proportion_of_all_open_peaks_found_in_this_celltype</th>\n",
       "      <th>proportion_of_SNPs_found_in_celltype_specific_open_peaks</th>\n",
       "      <th>mean_proportions_of_SNPs_in_open_peaks</th>\n",
       "      <th>p_value</th>\n",
       "      <th>n_SNPs</th>\n",
       "      <th>efo_id</th>\n",
       "      <th>efo_term</th>\n",
       "    </tr>\n",
       "    <tr>\n",
       "      <th>cell_type</th>\n",
       "      <th></th>\n",
       "      <th></th>\n",
       "      <th></th>\n",
       "      <th></th>\n",
       "      <th></th>\n",
       "      <th></th>\n",
       "      <th></th>\n",
       "    </tr>\n",
       "  </thead>\n",
       "  <tbody>\n",
       "    <tr>\n",
       "      <th>MyocardialInterstitialFibroblasts</th>\n",
       "      <td>0.029137</td>\n",
       "      <td>0.083333</td>\n",
       "      <td>0.030517</td>\n",
       "      <td>0.330</td>\n",
       "      <td>46</td>\n",
       "      <td>EFO_0004644</td>\n",
       "      <td>TPE interval measurement_46</td>\n",
       "    </tr>\n",
       "    <tr>\n",
       "      <th>CoronaryEndothelialCellsArterial</th>\n",
       "      <td>0.039600</td>\n",
       "      <td>0.083333</td>\n",
       "      <td>0.034919</td>\n",
       "      <td>0.731</td>\n",
       "      <td>46</td>\n",
       "      <td>EFO_0004644</td>\n",
       "      <td>TPE interval measurement_46</td>\n",
       "    </tr>\n",
       "    <tr>\n",
       "      <th>MyocardialInterstitialFibroblasts</th>\n",
       "      <td>0.029137</td>\n",
       "      <td>0.058824</td>\n",
       "      <td>0.028451</td>\n",
       "      <td>0.078</td>\n",
       "      <td>633</td>\n",
       "      <td>EFO_0004761</td>\n",
       "      <td>uric acid measurement_633</td>\n",
       "    </tr>\n",
       "    <tr>\n",
       "      <th>CoronaryEndothelialCellsArterial</th>\n",
       "      <td>0.039600</td>\n",
       "      <td>0.049020</td>\n",
       "      <td>0.033698</td>\n",
       "      <td>0.882</td>\n",
       "      <td>633</td>\n",
       "      <td>EFO_0004761</td>\n",
       "      <td>uric acid measurement_633</td>\n",
       "    </tr>\n",
       "  </tbody>\n",
       "</table>\n",
       "</div>"
      ],
      "text/plain": [
       "                                   proportion_of_all_open_peaks_found_in_this_celltype  \\\n",
       "cell_type                                                                                \n",
       "MyocardialInterstitialFibroblasts                                           0.029137     \n",
       "CoronaryEndothelialCellsArterial                                            0.039600     \n",
       "MyocardialInterstitialFibroblasts                                           0.029137     \n",
       "CoronaryEndothelialCellsArterial                                            0.039600     \n",
       "\n",
       "                                   proportion_of_SNPs_found_in_celltype_specific_open_peaks  \\\n",
       "cell_type                                                                                     \n",
       "MyocardialInterstitialFibroblasts                                           0.083333          \n",
       "CoronaryEndothelialCellsArterial                                            0.083333          \n",
       "MyocardialInterstitialFibroblasts                                           0.058824          \n",
       "CoronaryEndothelialCellsArterial                                            0.049020          \n",
       "\n",
       "                                   mean_proportions_of_SNPs_in_open_peaks  \\\n",
       "cell_type                                                                   \n",
       "MyocardialInterstitialFibroblasts                                0.030517   \n",
       "CoronaryEndothelialCellsArterial                                 0.034919   \n",
       "MyocardialInterstitialFibroblasts                                0.028451   \n",
       "CoronaryEndothelialCellsArterial                                 0.033698   \n",
       "\n",
       "                                   p_value  n_SNPs       efo_id  \\\n",
       "cell_type                                                         \n",
       "MyocardialInterstitialFibroblasts    0.330      46  EFO_0004644   \n",
       "CoronaryEndothelialCellsArterial     0.731      46  EFO_0004644   \n",
       "MyocardialInterstitialFibroblasts    0.078     633  EFO_0004761   \n",
       "CoronaryEndothelialCellsArterial     0.882     633  EFO_0004761   \n",
       "\n",
       "                                                      efo_term  \n",
       "cell_type                                                       \n",
       "MyocardialInterstitialFibroblasts  TPE interval measurement_46  \n",
       "CoronaryEndothelialCellsArterial   TPE interval measurement_46  \n",
       "MyocardialInterstitialFibroblasts    uric acid measurement_633  \n",
       "CoronaryEndothelialCellsArterial     uric acid measurement_633  "
      ]
     },
     "execution_count": 15,
     "metadata": {},
     "output_type": "execute_result"
    }
   ],
   "source": [
    "combined_output_df=pd.read_csv(f'{output_path}{threshold_for_filename}_all_traits_summary.csv',index_col='cell_type')\n",
    "combined_output_df['efo_term']=combined_output_df['efo_term'].astype(str)+\"_\"+combined_output_df['n_SNPs'].astype(str) # Add the n_SNPs - useful for later inspection\n",
    "combined_output_df"
   ]
  },
  {
   "cell_type": "code",
   "execution_count": 16,
   "id": "progressive-innocent",
   "metadata": {},
   "outputs": [
    {
     "data": {
      "text/plain": [
       "<AxesSubplot:>"
      ]
     },
     "execution_count": 16,
     "metadata": {},
     "output_type": "execute_result"
    },
    {
     "data": {
      "image/png": "[encoded data removed]",
      "text/plain": [
       "<Figure size 432x288 with 1 Axes>"
      ]
     },
     "metadata": {
      "needs_background": "light"
     },
     "output_type": "display_data"
    }
   ],
   "source": [
    "combined_output_df.proportion_of_SNPs_found_in_celltype_specific_open_peaks.hist(bins=100)"
   ]
  },
  {
   "cell_type": "code",
   "execution_count": 17,
   "id": "virgin-representation",
   "metadata": {},
   "outputs": [
    {
     "data": {
      "text/html": [
       "<div>\n",
       "<style scoped>\n",
       "    .dataframe tbody tr th:only-of-type {\n",
       "        vertical-align: middle;\n",
       "    }\n",
       "\n",
       "    .dataframe tbody tr th {\n",
       "        vertical-align: top;\n",
       "    }\n",
       "\n",
       "    .dataframe thead th {\n",
       "        text-align: right;\n",
       "    }\n",
       "</style>\n",
       "<table border=\"1\" class=\"dataframe\">\n",
       "  <thead>\n",
       "    <tr style=\"text-align: right;\">\n",
       "      <th>efo_term</th>\n",
       "      <th>TPE interval measurement_46</th>\n",
       "      <th>uric acid measurement_633</th>\n",
       "    </tr>\n",
       "    <tr>\n",
       "      <th>cell_type</th>\n",
       "      <th></th>\n",
       "      <th></th>\n",
       "    </tr>\n",
       "  </thead>\n",
       "  <tbody>\n",
       "    <tr>\n",
       "      <th>CoronaryEndothelialCellsArterial</th>\n",
       "      <td>0.731</td>\n",
       "      <td>0.882</td>\n",
       "    </tr>\n",
       "    <tr>\n",
       "      <th>MyocardialInterstitialFibroblasts</th>\n",
       "      <td>0.330</td>\n",
       "      <td>0.078</td>\n",
       "    </tr>\n",
       "  </tbody>\n",
       "</table>\n",
       "</div>"
      ],
      "text/plain": [
       "efo_term                           TPE interval measurement_46  \\\n",
       "cell_type                                                        \n",
       "CoronaryEndothelialCellsArterial                         0.731   \n",
       "MyocardialInterstitialFibroblasts                        0.330   \n",
       "\n",
       "efo_term                           uric acid measurement_633  \n",
       "cell_type                                                     \n",
       "CoronaryEndothelialCellsArterial                       0.882  \n",
       "MyocardialInterstitialFibroblasts                      0.078  "
      ]
     },
     "execution_count": 17,
     "metadata": {},
     "output_type": "execute_result"
    }
   ],
   "source": [
    "#pivot the table to prepare for heatmap\n",
    "df=combined_output_df[['p_value','efo_term']]\n",
    "df=df.pivot_table(values='p_value',index='cell_type',columns='efo_term')\n",
    "df.head()"
   ]
  },
  {
   "cell_type": "code",
   "execution_count": 18,
   "id": "handled-belly",
   "metadata": {},
   "outputs": [
    {
     "data": {
      "text/html": [
       "<div>\n",
       "<style scoped>\n",
       "    .dataframe tbody tr th:only-of-type {\n",
       "        vertical-align: middle;\n",
       "    }\n",
       "\n",
       "    .dataframe tbody tr th {\n",
       "        vertical-align: top;\n",
       "    }\n",
       "\n",
       "    .dataframe thead th {\n",
       "        text-align: right;\n",
       "    }\n",
       "</style>\n",
       "<table border=\"1\" class=\"dataframe\">\n",
       "  <thead>\n",
       "    <tr style=\"text-align: right;\">\n",
       "      <th>efo_term</th>\n",
       "      <th>TPE interval measurement_46</th>\n",
       "      <th>uric acid measurement_633</th>\n",
       "    </tr>\n",
       "    <tr>\n",
       "      <th>cell_type</th>\n",
       "      <th></th>\n",
       "      <th></th>\n",
       "    </tr>\n",
       "  </thead>\n",
       "  <tbody>\n",
       "    <tr>\n",
       "      <th>CoronaryEndothelialCellsArterial</th>\n",
       "      <td>1.00</td>\n",
       "      <td>1.000</td>\n",
       "    </tr>\n",
       "    <tr>\n",
       "      <th>MyocardialInterstitialFibroblasts</th>\n",
       "      <td>0.66</td>\n",
       "      <td>0.156</td>\n",
       "    </tr>\n",
       "  </tbody>\n",
       "</table>\n",
       "</div>"
      ],
      "text/plain": [
       "efo_term                           TPE interval measurement_46  \\\n",
       "cell_type                                                        \n",
       "CoronaryEndothelialCellsArterial                          1.00   \n",
       "MyocardialInterstitialFibroblasts                         0.66   \n",
       "\n",
       "efo_term                           uric acid measurement_633  \n",
       "cell_type                                                     \n",
       "CoronaryEndothelialCellsArterial                       1.000  \n",
       "MyocardialInterstitialFibroblasts                      0.156  "
      ]
     },
     "execution_count": 18,
     "metadata": {},
     "output_type": "execute_result"
    }
   ],
   "source": [
    "# multiple testing correction\n",
    "import statsmodels.stats.multitest\n",
    "from statsmodels.stats.multitest import multipletests\n",
    "\n",
    "method='bonferroni'\n",
    "columns=df.columns.tolist()\n",
    "\n",
    "# correct for multiple testing (each test being one cell type)\n",
    "for column in columns:\n",
    "    df[column]=statsmodels.stats.multitest.multipletests(df[column],method=method)[1]\n",
    "df.head()"
   ]
  },
  {
   "cell_type": "code",
   "execution_count": 19,
   "id": "native-mineral",
   "metadata": {},
   "outputs": [
    {
     "data": {
      "text/html": [
       "<div>\n",
       "<style scoped>\n",
       "    .dataframe tbody tr th:only-of-type {\n",
       "        vertical-align: middle;\n",
       "    }\n",
       "\n",
       "    .dataframe tbody tr th {\n",
       "        vertical-align: top;\n",
       "    }\n",
       "\n",
       "    .dataframe thead th {\n",
       "        text-align: right;\n",
       "    }\n",
       "</style>\n",
       "<table border=\"1\" class=\"dataframe\">\n",
       "  <thead>\n",
       "    <tr style=\"text-align: right;\">\n",
       "      <th>efo_term</th>\n",
       "      <th>TPE interval measurement_46</th>\n",
       "      <th>uric acid measurement_633</th>\n",
       "    </tr>\n",
       "    <tr>\n",
       "      <th>cell_type</th>\n",
       "      <th></th>\n",
       "      <th></th>\n",
       "    </tr>\n",
       "  </thead>\n",
       "  <tbody>\n",
       "    <tr>\n",
       "      <th>CoronaryEndothelialCellsArterial</th>\n",
       "      <td>0.000000</td>\n",
       "      <td>0.000000</td>\n",
       "    </tr>\n",
       "    <tr>\n",
       "      <th>MyocardialInterstitialFibroblasts</th>\n",
       "      <td>0.180456</td>\n",
       "      <td>0.806875</td>\n",
       "    </tr>\n",
       "  </tbody>\n",
       "</table>\n",
       "</div>"
      ],
      "text/plain": [
       "efo_term                           TPE interval measurement_46  \\\n",
       "cell_type                                                        \n",
       "CoronaryEndothelialCellsArterial                      0.000000   \n",
       "MyocardialInterstitialFibroblasts                     0.180456   \n",
       "\n",
       "efo_term                           uric acid measurement_633  \n",
       "cell_type                                                     \n",
       "CoronaryEndothelialCellsArterial                    0.000000  \n",
       "MyocardialInterstitialFibroblasts                   0.806875  "
      ]
     },
     "execution_count": 19,
     "metadata": {},
     "output_type": "execute_result"
    },
    {
     "data": {
      "image/png": "[encoded data removed]",
      "text/plain": [
       "<Figure size 3600x1440 with 4 Axes>"
      ]
     },
     "metadata": {
      "needs_background": "light"
     },
     "output_type": "display_data"
    }
   ],
   "source": [
    "# log-neg transform, then plot\n",
    "\n",
    "df=np.negative(np.log10(df))\n",
    "df[df == -0] = 0 # replace '-0' with '0'\n",
    "df.replace(to_replace=[np.inf, -np.inf], value='inf', inplace=True) # replace infinities with something sensible (the maximum real number found elsewhere in the df)\n",
    "df.replace(to_replace='inf', value=df.max().max(), inplace=True)\n",
    "\n",
    "sns.clustermap(df,xticklabels=True,yticklabels=True,cmap='viridis',figsize=(50,20))\n",
    "\n",
    "df.head()"
   ]
  },
  {
   "cell_type": "code",
   "execution_count": 20,
   "id": "dangerous-legislation",
   "metadata": {},
   "outputs": [
    {
     "data": {
      "text/html": [
       "<div>\n",
       "<style scoped>\n",
       "    .dataframe tbody tr th:only-of-type {\n",
       "        vertical-align: middle;\n",
       "    }\n",
       "\n",
       "    .dataframe tbody tr th {\n",
       "        vertical-align: top;\n",
       "    }\n",
       "\n",
       "    .dataframe thead th {\n",
       "        text-align: right;\n",
       "    }\n",
       "</style>\n",
       "<table border=\"1\" class=\"dataframe\">\n",
       "  <thead>\n",
       "    <tr style=\"text-align: right;\">\n",
       "      <th>efo_term</th>\n",
       "      <th>TPE interval measurement_46</th>\n",
       "      <th>uric acid measurement_633</th>\n",
       "    </tr>\n",
       "    <tr>\n",
       "      <th>cell_type</th>\n",
       "      <th></th>\n",
       "      <th></th>\n",
       "    </tr>\n",
       "  </thead>\n",
       "  <tbody>\n",
       "    <tr>\n",
       "      <th>CoronaryEndothelialCellsArterial</th>\n",
       "      <td>0.000000</td>\n",
       "      <td>0.000000</td>\n",
       "    </tr>\n",
       "    <tr>\n",
       "      <th>MyocardialInterstitialFibroblasts</th>\n",
       "      <td>0.180456</td>\n",
       "      <td>0.806875</td>\n",
       "    </tr>\n",
       "  </tbody>\n",
       "</table>\n",
       "</div>"
      ],
      "text/plain": [
       "efo_term                           TPE interval measurement_46  \\\n",
       "cell_type                                                        \n",
       "CoronaryEndothelialCellsArterial                      0.000000   \n",
       "MyocardialInterstitialFibroblasts                     0.180456   \n",
       "\n",
       "efo_term                           uric acid measurement_633  \n",
       "cell_type                                                     \n",
       "CoronaryEndothelialCellsArterial                    0.000000  \n",
       "MyocardialInterstitialFibroblasts                   0.806875  "
      ]
     },
     "execution_count": 20,
     "metadata": {},
     "output_type": "execute_result"
    },
    {
     "data": {
      "image/png": "[encoded data removed]",
      "text/plain": [
       "<Figure size 3600x1440 with 4 Axes>"
      ]
     },
     "metadata": {
      "needs_background": "light"
     },
     "output_type": "display_data"
    }
   ],
   "source": [
    "# remove any columns (traits) where all log-neg pvalues are 0\n",
    "df = df.loc[:, (df != 0).any(axis=0)]\n",
    "\n",
    "sns.clustermap(df,xticklabels=True,yticklabels=True,cmap='Reds',figsize=(50,20))\n",
    "\n",
    "df.head()"
   ]
  },
  {
   "cell_type": "code",
   "execution_count": 21,
   "id": "supreme-essay",
   "metadata": {},
   "outputs": [
    {
     "ename": "KeyError",
     "evalue": "\"['AtrialCardiomyocytesCycling', 'VentricularCardiomyocytesCycling'] not found in axis\"",
     "output_type": "error",
     "traceback": [
      "\u001b[0;31m---------------------------------------------------------------------------\u001b[0m",
      "\u001b[0;31mKeyError\u001b[0m                                  Traceback (most recent call last)",
      "Input \u001b[0;32mIn [21]\u001b[0m, in \u001b[0;36m<cell line: 29>\u001b[0;34m()\u001b[0m\n\u001b[1;32m      1\u001b[0m traits_to_keep\u001b[38;5;241m=\u001b[39m[\n\u001b[1;32m      2\u001b[0m \u001b[38;5;124m'\u001b[39m\u001b[38;5;124mBrugada syndrome_26\u001b[39m\u001b[38;5;124m'\u001b[39m,\u001b[38;5;124m'\u001b[39m\u001b[38;5;124mMitral valve prolapse_36\u001b[39m\u001b[38;5;124m'\u001b[39m, \u001b[38;5;124m'\u001b[39m\u001b[38;5;124mPR interval_467\u001b[39m\u001b[38;5;124m'\u001b[39m,\u001b[38;5;124m'\u001b[39m\u001b[38;5;124mQRS amplitude_44\u001b[39m\u001b[38;5;124m'\u001b[39m, \u001b[38;5;124m'\u001b[39m\u001b[38;5;124mQRS complex_73\u001b[39m\u001b[38;5;124m'\u001b[39m,\n\u001b[1;32m      3\u001b[0m        \u001b[38;5;124m'\u001b[39m\u001b[38;5;124mQRS duration_327\u001b[39m\u001b[38;5;124m'\u001b[39m, \u001b[38;5;124m'\u001b[39m\u001b[38;5;124mQT interval_592\u001b[39m\u001b[38;5;124m'\u001b[39m, \u001b[38;5;124m'\u001b[39m\u001b[38;5;124mRR interval_31\u001b[39m\u001b[38;5;124m'\u001b[39m,\n\u001b[0;32m   (...)\u001b[0m\n\u001b[1;32m     25\u001b[0m        \u001b[38;5;124m'\u001b[39m\u001b[38;5;124mthoracic aortic aneurysm_28\u001b[39m\u001b[38;5;124m'\u001b[39m\n\u001b[1;32m     26\u001b[0m ]\n\u001b[0;32m---> 29\u001b[0m pruned_df\u001b[38;5;241m=\u001b[39m\u001b[43mdf\u001b[49m\u001b[38;5;241;43m.\u001b[39;49m\u001b[43mfilter\u001b[49m\u001b[43m(\u001b[49m\u001b[43mitems\u001b[49m\u001b[38;5;241;43m=\u001b[39;49m\u001b[43mtraits_to_keep\u001b[49m\u001b[43m)\u001b[49m\u001b[38;5;241;43m.\u001b[39;49m\u001b[43mdrop\u001b[49m\u001b[43m(\u001b[49m\u001b[43m[\u001b[49m\u001b[38;5;124;43m'\u001b[39;49m\u001b[38;5;124;43mAtrialCardiomyocytesCycling\u001b[39;49m\u001b[38;5;124;43m'\u001b[39;49m\u001b[43m,\u001b[49m\u001b[38;5;124;43m'\u001b[39;49m\u001b[38;5;124;43mVentricularCardiomyocytesCycling\u001b[39;49m\u001b[38;5;124;43m'\u001b[39;49m\u001b[43m]\u001b[49m\u001b[43m)\u001b[49m\n\u001b[1;32m     31\u001b[0m pruned_df_anno\u001b[38;5;241m=\u001b[39mpruned_df\n\u001b[1;32m     32\u001b[0m pruned_df_anno\u001b[38;5;241m=\u001b[39mpruned_df_anno\u001b[38;5;241m.\u001b[39mwhere(pruned_df_anno\u001b[38;5;241m<\u001b[39m\u001b[38;5;241m1.2\u001b[39m, other\u001b[38;5;241m=\u001b[39m\u001b[38;5;124m\"\u001b[39m\u001b[38;5;124m***\u001b[39m\u001b[38;5;124m\"\u001b[39m)\n",
      "File \u001b[0;32m~/my-conda-envs/scanpy/lib/python3.9/site-packages/pandas/util/_decorators.py:311\u001b[0m, in \u001b[0;36mdeprecate_nonkeyword_arguments.<locals>.decorate.<locals>.wrapper\u001b[0;34m(*args, **kwargs)\u001b[0m\n\u001b[1;32m    305\u001b[0m \u001b[38;5;28;01mif\u001b[39;00m \u001b[38;5;28mlen\u001b[39m(args) \u001b[38;5;241m>\u001b[39m num_allow_args:\n\u001b[1;32m    306\u001b[0m     warnings\u001b[38;5;241m.\u001b[39mwarn(\n\u001b[1;32m    307\u001b[0m         msg\u001b[38;5;241m.\u001b[39mformat(arguments\u001b[38;5;241m=\u001b[39marguments),\n\u001b[1;32m    308\u001b[0m         \u001b[38;5;167;01mFutureWarning\u001b[39;00m,\n\u001b[1;32m    309\u001b[0m         stacklevel\u001b[38;5;241m=\u001b[39mstacklevel,\n\u001b[1;32m    310\u001b[0m     )\n\u001b[0;32m--> 311\u001b[0m \u001b[38;5;28;01mreturn\u001b[39;00m \u001b[43mfunc\u001b[49m\u001b[43m(\u001b[49m\u001b[38;5;241;43m*\u001b[39;49m\u001b[43margs\u001b[49m\u001b[43m,\u001b[49m\u001b[43m \u001b[49m\u001b[38;5;241;43m*\u001b[39;49m\u001b[38;5;241;43m*\u001b[39;49m\u001b[43mkwargs\u001b[49m\u001b[43m)\u001b[49m\n",
      "File \u001b[0;32m~/my-conda-envs/scanpy/lib/python3.9/site-packages/pandas/core/frame.py:4954\u001b[0m, in \u001b[0;36mDataFrame.drop\u001b[0;34m(self, labels, axis, index, columns, level, inplace, errors)\u001b[0m\n\u001b[1;32m   4806\u001b[0m \u001b[38;5;129m@deprecate_nonkeyword_arguments\u001b[39m(version\u001b[38;5;241m=\u001b[39m\u001b[38;5;28;01mNone\u001b[39;00m, allowed_args\u001b[38;5;241m=\u001b[39m[\u001b[38;5;124m\"\u001b[39m\u001b[38;5;124mself\u001b[39m\u001b[38;5;124m\"\u001b[39m, \u001b[38;5;124m\"\u001b[39m\u001b[38;5;124mlabels\u001b[39m\u001b[38;5;124m\"\u001b[39m])\n\u001b[1;32m   4807\u001b[0m \u001b[38;5;28;01mdef\u001b[39;00m \u001b[38;5;21mdrop\u001b[39m(\n\u001b[1;32m   4808\u001b[0m     \u001b[38;5;28mself\u001b[39m,\n\u001b[0;32m   (...)\u001b[0m\n\u001b[1;32m   4815\u001b[0m     errors: \u001b[38;5;28mstr\u001b[39m \u001b[38;5;241m=\u001b[39m \u001b[38;5;124m\"\u001b[39m\u001b[38;5;124mraise\u001b[39m\u001b[38;5;124m\"\u001b[39m,\n\u001b[1;32m   4816\u001b[0m ):\n\u001b[1;32m   4817\u001b[0m     \u001b[38;5;124;03m\"\"\"\u001b[39;00m\n\u001b[1;32m   4818\u001b[0m \u001b[38;5;124;03m    Drop specified labels from rows or columns.\u001b[39;00m\n\u001b[1;32m   4819\u001b[0m \n\u001b[0;32m   (...)\u001b[0m\n\u001b[1;32m   4952\u001b[0m \u001b[38;5;124;03m            weight  1.0     0.8\u001b[39;00m\n\u001b[1;32m   4953\u001b[0m \u001b[38;5;124;03m    \"\"\"\u001b[39;00m\n\u001b[0;32m-> 4954\u001b[0m     \u001b[38;5;28;01mreturn\u001b[39;00m \u001b[38;5;28;43msuper\u001b[39;49m\u001b[43m(\u001b[49m\u001b[43m)\u001b[49m\u001b[38;5;241;43m.\u001b[39;49m\u001b[43mdrop\u001b[49m\u001b[43m(\u001b[49m\n\u001b[1;32m   4955\u001b[0m \u001b[43m        \u001b[49m\u001b[43mlabels\u001b[49m\u001b[38;5;241;43m=\u001b[39;49m\u001b[43mlabels\u001b[49m\u001b[43m,\u001b[49m\n\u001b[1;32m   4956\u001b[0m \u001b[43m        \u001b[49m\u001b[43maxis\u001b[49m\u001b[38;5;241;43m=\u001b[39;49m\u001b[43maxis\u001b[49m\u001b[43m,\u001b[49m\n\u001b[1;32m   4957\u001b[0m \u001b[43m        \u001b[49m\u001b[43mindex\u001b[49m\u001b[38;5;241;43m=\u001b[39;49m\u001b[43mindex\u001b[49m\u001b[43m,\u001b[49m\n\u001b[1;32m   4958\u001b[0m \u001b[43m        \u001b[49m\u001b[43mcolumns\u001b[49m\u001b[38;5;241;43m=\u001b[39;49m\u001b[43mcolumns\u001b[49m\u001b[43m,\u001b[49m\n\u001b[1;32m   4959\u001b[0m \u001b[43m        \u001b[49m\u001b[43mlevel\u001b[49m\u001b[38;5;241;43m=\u001b[39;49m\u001b[43mlevel\u001b[49m\u001b[43m,\u001b[49m\n\u001b[1;32m   4960\u001b[0m \u001b[43m        \u001b[49m\u001b[43minplace\u001b[49m\u001b[38;5;241;43m=\u001b[39;49m\u001b[43minplace\u001b[49m\u001b[43m,\u001b[49m\n\u001b[1;32m   4961\u001b[0m \u001b[43m        \u001b[49m\u001b[43merrors\u001b[49m\u001b[38;5;241;43m=\u001b[39;49m\u001b[43merrors\u001b[49m\u001b[43m,\u001b[49m\n\u001b[1;32m   4962\u001b[0m \u001b[43m    \u001b[49m\u001b[43m)\u001b[49m\n",
      "File \u001b[0;32m~/my-conda-envs/scanpy/lib/python3.9/site-packages/pandas/core/generic.py:4267\u001b[0m, in \u001b[0;36mNDFrame.drop\u001b[0;34m(self, labels, axis, index, columns, level, inplace, errors)\u001b[0m\n\u001b[1;32m   4265\u001b[0m \u001b[38;5;28;01mfor\u001b[39;00m axis, labels \u001b[38;5;129;01min\u001b[39;00m axes\u001b[38;5;241m.\u001b[39mitems():\n\u001b[1;32m   4266\u001b[0m     \u001b[38;5;28;01mif\u001b[39;00m labels \u001b[38;5;129;01mis\u001b[39;00m \u001b[38;5;129;01mnot\u001b[39;00m \u001b[38;5;28;01mNone\u001b[39;00m:\n\u001b[0;32m-> 4267\u001b[0m         obj \u001b[38;5;241m=\u001b[39m \u001b[43mobj\u001b[49m\u001b[38;5;241;43m.\u001b[39;49m\u001b[43m_drop_axis\u001b[49m\u001b[43m(\u001b[49m\u001b[43mlabels\u001b[49m\u001b[43m,\u001b[49m\u001b[43m \u001b[49m\u001b[43maxis\u001b[49m\u001b[43m,\u001b[49m\u001b[43m \u001b[49m\u001b[43mlevel\u001b[49m\u001b[38;5;241;43m=\u001b[39;49m\u001b[43mlevel\u001b[49m\u001b[43m,\u001b[49m\u001b[43m \u001b[49m\u001b[43merrors\u001b[49m\u001b[38;5;241;43m=\u001b[39;49m\u001b[43merrors\u001b[49m\u001b[43m)\u001b[49m\n\u001b[1;32m   4269\u001b[0m \u001b[38;5;28;01mif\u001b[39;00m inplace:\n\u001b[1;32m   4270\u001b[0m     \u001b[38;5;28mself\u001b[39m\u001b[38;5;241m.\u001b[39m_update_inplace(obj)\n",
      "File \u001b[0;32m~/my-conda-envs/scanpy/lib/python3.9/site-packages/pandas/core/generic.py:4311\u001b[0m, in \u001b[0;36mNDFrame._drop_axis\u001b[0;34m(self, labels, axis, level, errors, consolidate, only_slice)\u001b[0m\n\u001b[1;32m   4309\u001b[0m         new_axis \u001b[38;5;241m=\u001b[39m axis\u001b[38;5;241m.\u001b[39mdrop(labels, level\u001b[38;5;241m=\u001b[39mlevel, errors\u001b[38;5;241m=\u001b[39merrors)\n\u001b[1;32m   4310\u001b[0m     \u001b[38;5;28;01melse\u001b[39;00m:\n\u001b[0;32m-> 4311\u001b[0m         new_axis \u001b[38;5;241m=\u001b[39m \u001b[43maxis\u001b[49m\u001b[38;5;241;43m.\u001b[39;49m\u001b[43mdrop\u001b[49m\u001b[43m(\u001b[49m\u001b[43mlabels\u001b[49m\u001b[43m,\u001b[49m\u001b[43m \u001b[49m\u001b[43merrors\u001b[49m\u001b[38;5;241;43m=\u001b[39;49m\u001b[43merrors\u001b[49m\u001b[43m)\u001b[49m\n\u001b[1;32m   4312\u001b[0m     indexer \u001b[38;5;241m=\u001b[39m axis\u001b[38;5;241m.\u001b[39mget_indexer(new_axis)\n\u001b[1;32m   4314\u001b[0m \u001b[38;5;66;03m# Case for non-unique axis\u001b[39;00m\n\u001b[1;32m   4315\u001b[0m \u001b[38;5;28;01melse\u001b[39;00m:\n",
      "File \u001b[0;32m~/my-conda-envs/scanpy/lib/python3.9/site-packages/pandas/core/indexes/base.py:6644\u001b[0m, in \u001b[0;36mIndex.drop\u001b[0;34m(self, labels, errors)\u001b[0m\n\u001b[1;32m   6642\u001b[0m \u001b[38;5;28;01mif\u001b[39;00m mask\u001b[38;5;241m.\u001b[39many():\n\u001b[1;32m   6643\u001b[0m     \u001b[38;5;28;01mif\u001b[39;00m errors \u001b[38;5;241m!=\u001b[39m \u001b[38;5;124m\"\u001b[39m\u001b[38;5;124mignore\u001b[39m\u001b[38;5;124m\"\u001b[39m:\n\u001b[0;32m-> 6644\u001b[0m         \u001b[38;5;28;01mraise\u001b[39;00m \u001b[38;5;167;01mKeyError\u001b[39;00m(\u001b[38;5;124mf\u001b[39m\u001b[38;5;124m\"\u001b[39m\u001b[38;5;132;01m{\u001b[39;00m\u001b[38;5;28mlist\u001b[39m(labels[mask])\u001b[38;5;132;01m}\u001b[39;00m\u001b[38;5;124m not found in axis\u001b[39m\u001b[38;5;124m\"\u001b[39m)\n\u001b[1;32m   6645\u001b[0m     indexer \u001b[38;5;241m=\u001b[39m indexer[\u001b[38;5;241m~\u001b[39mmask]\n\u001b[1;32m   6646\u001b[0m \u001b[38;5;28;01mreturn\u001b[39;00m \u001b[38;5;28mself\u001b[39m\u001b[38;5;241m.\u001b[39mdelete(indexer)\n",
      "\u001b[0;31mKeyError\u001b[0m: \"['AtrialCardiomyocytesCycling', 'VentricularCardiomyocytesCycling'] not found in axis\""
     ]
    }
   ],
   "source": [
    "traits_to_keep=[\n",
    "'Brugada syndrome_26','Mitral valve prolapse_36', 'PR interval_467','QRS amplitude_44', 'QRS complex_73',\n",
    "       'QRS duration_327', 'QT interval_592', 'RR interval_31',\n",
    "       'T wave morphology measurement_13','aortic measurement_285', 'aortic root size_21',\n",
    "       'aortic stenosis_32', 'aortic valve calcification_27', 'ascending aortic diameter_110',\n",
    "       'atrial fibrillation_473',\n",
    "       'congenital left-sided heart lesions_31',\n",
    "       'coronary artery disease_1907',\n",
    "       'dilated cardiomyopathy_16',\n",
    "#    'ejection fraction measurement_28',\n",
    "#       'electrocardiography_464',\n",
    "#    'essential hypertension_34',\n",
    "    'heart failure_87', 'heart rate response to exercise_40',\n",
    "       'heart rate response to recovery post exercise_65',\n",
    "       'heart rate variability measurement_61', 'heart rate_301', 'hypertension_414',\n",
    "       'hypertrophic cardiomyopathy_73',\n",
    "       'left ventricular diastolic function measurement_33',\n",
    "#       'left ventricular ejection fraction measurement_26',\n",
    "       'left ventricular systolic function measurement_25',\n",
    "       'myocardial infarction_346',\n",
    "       'osteoarthritis_123', 'pulmonary embolism_13',\n",
    "    #   'pulse pressure measurement_1706',\n",
    "    'resting heart rate_128',\n",
    "       'right ventricular ejection fraction measurement_14','sick sinus syndrome_6',\n",
    "       'thoracic aortic aneurysm_28'\n",
    "]\n",
    "\n",
    "\n",
    "pruned_df=df.filter(items=traits_to_keep).drop(['AtrialCardiomyocytesCycling','VentricularCardiomyocytesCycling'])\n",
    "\n",
    "pruned_df_anno=pruned_df\n",
    "pruned_df_anno=pruned_df_anno.where(pruned_df_anno<1.2, other=\"***\")\n",
    "pruned_df_anno=pruned_df_anno.where(pruned_df_anno=='***', other=\" \")\n",
    "pruned_df_anno=pruned_df_anno.astype(str)\n",
    "\n",
    "\n",
    "g=sns.clustermap(pruned_df,\n",
    "               xticklabels=True,\n",
    "               yticklabels=True,\n",
    "               cmap='viridis',\n",
    "               figsize=(20,20),\n",
    "               annot=pruned_df_anno,\n",
    "               fmt = '',\n",
    "               dendrogram_ratio=0.05,\n",
    "               cbar_pos=(0.98,0.9,0.02,0.1),\n",
    "              )\n",
    "\n",
    "g.ax_col_dendrogram.set_title(f'Enrichment of cell type-specific open chromatin for GWAS trait SNPs.\\nScale = -log(p), \"***\" = p<0.05 (-log(p)>1.3), \"open threshold\" = {threshold}')\n",
    "ax = g.ax_heatmap\n",
    "ax.set_xlabel('GWAS traits')\n",
    "ax.set_ylabel('Cell types')\n",
    "plt.savefig(f'{output_path}_overview_heatmap_{threshold_for_filename}_SNP_enrichment.png')\n",
    "plt.show()"
   ]
  },
  {
   "cell_type": "code",
   "execution_count": 18,
   "id": "genuine-monitoring",
   "metadata": {},
   "outputs": [
    {
     "ename": "NameError",
     "evalue": "name 'pruned_df_corrected' is not defined",
     "output_type": "error",
     "traceback": [
      "\u001b[0;31m---------------------------------------------------------------------------\u001b[0m",
      "\u001b[0;31mNameError\u001b[0m                                 Traceback (most recent call last)",
      "Input \u001b[0;32mIn [18]\u001b[0m, in \u001b[0;36m<cell line: 1>\u001b[0;34m()\u001b[0m\n\u001b[0;32m----> 1\u001b[0m df_for_plotting\u001b[38;5;241m=\u001b[39m\u001b[43mpruned_df_corrected\u001b[49m\n\u001b[1;32m      2\u001b[0m g\u001b[38;5;241m=\u001b[39msns\u001b[38;5;241m.\u001b[39mclustermap(pruned_df,\n\u001b[1;32m      3\u001b[0m                xticklabels\u001b[38;5;241m=\u001b[39m\u001b[38;5;28;01mTrue\u001b[39;00m,\n\u001b[1;32m      4\u001b[0m                yticklabels\u001b[38;5;241m=\u001b[39m\u001b[38;5;28;01mTrue\u001b[39;00m,\n\u001b[0;32m   (...)\u001b[0m\n\u001b[1;32m     10\u001b[0m                cbar_pos\u001b[38;5;241m=\u001b[39m(\u001b[38;5;241m0.98\u001b[39m,\u001b[38;5;241m0.9\u001b[39m,\u001b[38;5;241m0.02\u001b[39m,\u001b[38;5;241m0.1\u001b[39m),\n\u001b[1;32m     11\u001b[0m               )\n\u001b[1;32m     13\u001b[0m g\u001b[38;5;241m.\u001b[39max_col_dendrogram\u001b[38;5;241m.\u001b[39mset_title(\u001b[38;5;124mf\u001b[39m\u001b[38;5;124m'\u001b[39m\u001b[38;5;124mEnrichment of cell type-specific open chromatin for GWAS trait SNPs.\u001b[39m\u001b[38;5;130;01m\\n\u001b[39;00m\u001b[38;5;124mScale = -log(p), \u001b[39m\u001b[38;5;124m\"\u001b[39m\u001b[38;5;124m***\u001b[39m\u001b[38;5;124m\"\u001b[39m\u001b[38;5;124m = p<0.05 (-log(p)>1.3), \u001b[39m\u001b[38;5;124m\"\u001b[39m\u001b[38;5;124mopen threshold\u001b[39m\u001b[38;5;124m\"\u001b[39m\u001b[38;5;124m = \u001b[39m\u001b[38;5;132;01m{\u001b[39;00mthreshold\u001b[38;5;132;01m}\u001b[39;00m\u001b[38;5;124m'\u001b[39m)\n",
      "\u001b[0;31mNameError\u001b[0m: name 'pruned_df_corrected' is not defined"
     ]
    }
   ],
   "source": [
    "df_for_plotting=pruned_df_corrected\n",
    "g=sns.clustermap(pruned_df,\n",
    "               xticklabels=True,\n",
    "               yticklabels=True,\n",
    "               cmap='viridis',\n",
    "               figsize=(20,20),\n",
    "               annot=pruned_df_anno,\n",
    "               fmt = '',\n",
    "               dendrogram_ratio=0.05,\n",
    "               cbar_pos=(0.98,0.9,0.02,0.1),\n",
    "              )\n",
    "\n",
    "g.ax_col_dendrogram.set_title(f'Enrichment of cell type-specific open chromatin for GWAS trait SNPs.\\nScale = -log(p), \"***\" = p<0.05 (-log(p)>1.3), \"open threshold\" = {threshold}')\n",
    "ax = g.ax_heatmap\n",
    "ax.set_xlabel('GWAS traits')\n",
    "ax.set_ylabel('Cell types')\n",
    "plt.savefig(f'{output_path}_overview_heatmap_{threshold_for_filename}_SNP_enrichment.png')\n",
    "plt.show()"
   ]
  },
  {
   "cell_type": "code",
   "execution_count": null,
   "id": "conventional-peter",
   "metadata": {},
   "outputs": [],
   "source": []
  }
 ],
 "metadata": {
  "kernelspec": {
   "display_name": "scanpy",
   "language": "python",
   "name": "scanpy"
  },
  "language_info": {
   "codemirror_mode": {
    "name": "ipython",
    "version": 3
   },
   "file_extension": ".py",
   "mimetype": "text/x-python",
   "name": "python",
   "nbconvert_exporter": "python",
   "pygments_lexer": "ipython3",
   "version": "3.9.13"
  }
 },
 "nbformat": 4,
 "nbformat_minor": 5
}
