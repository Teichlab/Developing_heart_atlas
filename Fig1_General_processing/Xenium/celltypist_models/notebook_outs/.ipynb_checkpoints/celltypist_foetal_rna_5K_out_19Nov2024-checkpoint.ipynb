{
 "cells": [
  {
   "cell_type": "markdown",
   "id": "185c062f",
   "metadata": {
    "id": "Bo3ACEE1ALEw",
    "papermill": {
     "duration": 0.010485,
     "end_time": "2024-11-19T16:07:06.110237",
     "exception": false,
     "start_time": "2024-11-19T16:07:06.099752",
     "status": "completed"
    },
    "tags": []
   },
   "source": [
    "## Import modules"
   ]
  },
  {
   "cell_type": "code",
   "execution_count": 1,
   "id": "2deabd5d",
   "metadata": {
    "colab": {
     "base_uri": "https://localhost:8080/"
    },
    "execution": {
     "iopub.execute_input": "2024-11-19T16:07:06.130232Z",
     "iopub.status.busy": "2024-11-19T16:07:06.129755Z",
     "iopub.status.idle": "2024-11-19T16:07:17.213458Z",
     "shell.execute_reply": "2024-11-19T16:07:17.212349Z"
    },
    "executionInfo": {
     "elapsed": 8522,
     "status": "ok",
     "timestamp": 1630962117458,
     "user": {
      "displayName": "Kazumasa Kanemaru",
      "photoUrl": "https://lh3.googleusercontent.com/a/default-user=s64",
      "userId": "09579449744665019665"
     },
     "user_tz": -60
    },
    "id": "Kz5pURyJAG_L",
    "outputId": "41124ca8-a427-4e11-f272-e3a2ed47e941",
    "papermill": {
     "duration": 11.098798,
     "end_time": "2024-11-19T16:07:17.217454",
     "exception": false,
     "start_time": "2024-11-19T16:07:06.118656",
     "status": "completed"
    },
    "tags": []
   },
   "outputs": [],
   "source": [
    "import numpy as np\n",
    "import pandas as pd\n",
    "import anndata\n",
    "import scipy\n",
    "import scanpy as sc\n",
    "import os\n",
    "\n",
    "import matplotlib.pyplot as plt\n",
    "import seaborn as sns\n",
    "\n",
    "import celltypist\n",
    "from celltypist import models\n",
    "\n",
    "import warnings\n",
    "warnings.simplefilter(\"ignore\", UserWarning)"
   ]
  },
  {
   "cell_type": "code",
   "execution_count": 2,
   "id": "0bf0e907",
   "metadata": {
    "colab": {
     "base_uri": "https://localhost:8080/",
     "height": 34
    },
    "execution": {
     "iopub.execute_input": "2024-11-19T16:07:17.239317Z",
     "iopub.status.busy": "2024-11-19T16:07:17.237902Z",
     "iopub.status.idle": "2024-11-19T16:07:20.097604Z",
     "shell.execute_reply": "2024-11-19T16:07:20.096786Z"
    },
    "executionInfo": {
     "elapsed": 261,
     "status": "ok",
     "timestamp": 1630962117716,
     "user": {
      "displayName": "Kazumasa Kanemaru",
      "photoUrl": "https://lh3.googleusercontent.com/a/default-user=s64",
      "userId": "09579449744665019665"
     },
     "user_tz": -60
    },
    "id": "rIlaJnwlASLg",
    "outputId": "4622ab27-d21d-4673-8ac0-335f7f8f3027",
    "papermill": {
     "duration": 2.872741,
     "end_time": "2024-11-19T16:07:20.100178",
     "exception": false,
     "start_time": "2024-11-19T16:07:17.227437",
     "status": "completed"
    },
    "tags": []
   },
   "outputs": [
    {
     "data": {
      "text/html": [
       "<details>\n",
       "<summary>Click to view session information</summary>\n",
       "<pre>\n",
       "-----\n",
       "anndata             0.10.8\n",
       "celltypist          1.6.3\n",
       "distributed         2024.10.0\n",
       "matplotlib          3.9.1\n",
       "numpy               1.26.4\n",
       "pandas              2.2.2\n",
       "scanpy              1.10.2\n",
       "scipy               1.14.0\n",
       "seaborn             0.13.2\n",
       "session_info        1.0.0\n",
       "-----\n",
       "</pre>\n",
       "<details>\n",
       "<summary>Click to view modules imported as dependencies</summary>\n",
       "<pre>\n",
       "PIL                         10.4.0\n",
       "anyio                       NA\n",
       "arrow                       1.3.0\n",
       "asciitree                   NA\n",
       "asttokens                   NA\n",
       "attr                        24.2.0\n",
       "attrs                       24.2.0\n",
       "babel                       2.16.0\n",
       "certifi                     2024.07.04\n",
       "cffi                        1.17.1\n",
       "charset_normalizer          3.3.2\n",
       "click                       8.1.7\n",
       "cloudpickle                 3.1.0\n",
       "comm                        0.2.2\n",
       "cycler                      0.12.1\n",
       "cython_runtime              NA\n",
       "dask                        2024.10.0\n",
       "dateutil                    2.9.0.post0\n",
       "debugpy                     1.8.2\n",
       "decorator                   5.1.1\n",
       "defusedxml                  0.7.1\n",
       "executing                   2.0.1\n",
       "fastjsonschema              NA\n",
       "fqdn                        NA\n",
       "h5py                        3.11.0\n",
       "idna                        3.7\n",
       "igraph                      0.11.6\n",
       "importlib_metadata          NA\n",
       "ipykernel                   6.29.5\n",
       "ipywidgets                  8.1.5\n",
       "isoduration                 NA\n",
       "jedi                        0.19.1\n",
       "jinja2                      3.1.4\n",
       "joblib                      1.4.2\n",
       "json5                       0.9.25\n",
       "jsonpointer                 3.0.0\n",
       "jsonschema                  4.23.0\n",
       "jsonschema_specifications   NA\n",
       "jupyter_events              0.10.0\n",
       "jupyter_server              2.14.2\n",
       "jupyterlab_server           2.27.3\n",
       "kiwisolver                  1.4.5\n",
       "legacy_api_wrap             NA\n",
       "leidenalg                   0.10.2\n",
       "llvmlite                    0.43.0\n",
       "locket                      NA\n",
       "markupsafe                  2.1.5\n",
       "mpl_toolkits                NA\n",
       "msgpack                     1.1.0\n",
       "natsort                     8.4.0\n",
       "nbformat                    5.10.4\n",
       "numba                       0.60.0\n",
       "numcodecs                   0.13.1\n",
       "overrides                   NA\n",
       "packaging                   24.1\n",
       "parso                       0.8.4\n",
       "patsy                       0.5.6\n",
       "platformdirs                4.2.2\n",
       "prometheus_client           NA\n",
       "prompt_toolkit              3.0.47\n",
       "psutil                      6.0.0\n",
       "pure_eval                   0.2.2\n",
       "pyarrow                     18.0.0\n",
       "pydev_ipython               NA\n",
       "pydevconsole                NA\n",
       "pydevd                      2.9.5\n",
       "pydevd_file_utils           NA\n",
       "pydevd_plugins              NA\n",
       "pydevd_tracing              NA\n",
       "pygments                    2.18.0\n",
       "pyparsing                   3.1.2\n",
       "pythonjsonlogger            NA\n",
       "pytz                        2024.1\n",
       "referencing                 NA\n",
       "requests                    2.32.3\n",
       "rfc3339_validator           0.1.4\n",
       "rfc3986_validator           0.1.1\n",
       "rpds                        NA\n",
       "send2trash                  NA\n",
       "six                         1.16.0\n",
       "sklearn                     1.5.1\n",
       "sniffio                     1.3.1\n",
       "sortedcontainers            2.4.0\n",
       "stack_data                  0.6.3\n",
       "statsmodels                 0.14.2\n",
       "tblib                       3.0.0\n",
       "texttable                   1.7.0\n",
       "threadpoolctl               3.5.0\n",
       "tlz                         1.0.0\n",
       "toolz                       1.0.0\n",
       "tornado                     6.4.1\n",
       "traitlets                   5.14.3\n",
       "typing_extensions           NA\n",
       "uri_template                NA\n",
       "urllib3                     1.26.20\n",
       "wcwidth                     0.2.13\n",
       "webcolors                   24.8.0\n",
       "websocket                   1.8.0\n",
       "yaml                        6.0.2\n",
       "zarr                        2.18.3\n",
       "zict                        3.0.0\n",
       "zipp                        NA\n",
       "zmq                         26.0.3\n",
       "</pre>\n",
       "</details> <!-- seems like this ends pre, so might as well be explicit -->\n",
       "<pre>\n",
       "-----\n",
       "IPython             8.26.0\n",
       "jupyter_client      8.6.2\n",
       "jupyter_core        5.7.2\n",
       "jupyterlab          4.3.0\n",
       "-----\n",
       "Python 3.11.9 (main, Apr 19 2024, 16:48:06) [GCC 11.2.0]\n",
       "Linux-5.15.0-125-generic-x86_64-with-glibc2.35\n",
       "-----\n",
       "Session information updated at 2024-11-19 16:07\n",
       "</pre>\n",
       "</details>"
      ],
      "text/plain": [
       "<IPython.core.display.HTML object>"
      ]
     },
     "execution_count": 2,
     "metadata": {},
     "output_type": "execute_result"
    }
   ],
   "source": [
    "import distributed\n",
    "import session_info\n",
    "session_info.show()"
   ]
  },
  {
   "cell_type": "code",
   "execution_count": 3,
   "id": "2c3191e8",
   "metadata": {
    "execution": {
     "iopub.execute_input": "2024-11-19T16:07:20.122724Z",
     "iopub.status.busy": "2024-11-19T16:07:20.120931Z",
     "iopub.status.idle": "2024-11-19T16:07:20.140290Z",
     "shell.execute_reply": "2024-11-19T16:07:20.139056Z"
    },
    "papermill": {
     "duration": 0.033567,
     "end_time": "2024-11-19T16:07:20.143593",
     "exception": false,
     "start_time": "2024-11-19T16:07:20.110026",
     "status": "completed"
    },
    "tags": []
   },
   "outputs": [],
   "source": [
    "# import own function\n",
    "import importlib.util\n",
    "import sys\n",
    "spec = importlib.util.spec_from_file_location(\"module.name\", \"/nfs/team205/kk18/function/python/utils.py\")\n",
    "utils = importlib.util.module_from_spec(spec)\n",
    "sys.modules[\"module.name\"] = utils\n",
    "spec.loader.exec_module(utils)"
   ]
  },
  {
   "cell_type": "code",
   "execution_count": 4,
   "id": "c04c26a2",
   "metadata": {
    "execution": {
     "iopub.execute_input": "2024-11-19T16:07:20.167181Z",
     "iopub.status.busy": "2024-11-19T16:07:20.166459Z",
     "iopub.status.idle": "2024-11-19T16:07:20.211927Z",
     "shell.execute_reply": "2024-11-19T16:07:20.210740Z"
    },
    "papermill": {
     "duration": 0.062907,
     "end_time": "2024-11-19T16:07:20.216540",
     "exception": false,
     "start_time": "2024-11-19T16:07:20.153633",
     "status": "completed"
    },
    "tags": []
   },
   "outputs": [],
   "source": [
    "sc.settings.set_figure_params(dpi=120)"
   ]
  },
  {
   "cell_type": "markdown",
   "id": "14da433b",
   "metadata": {
    "id": "JMpCCPgZAeiO",
    "papermill": {
     "duration": 0.009571,
     "end_time": "2024-11-19T16:07:20.236988",
     "exception": false,
     "start_time": "2024-11-19T16:07:20.227417",
     "status": "completed"
    },
    "tags": []
   },
   "source": [
    "## Read in reference anndata"
   ]
  },
  {
   "cell_type": "code",
   "execution_count": 5,
   "id": "86848e43",
   "metadata": {
    "execution": {
     "iopub.execute_input": "2024-11-19T16:07:20.265448Z",
     "iopub.status.busy": "2024-11-19T16:07:20.264546Z",
     "iopub.status.idle": "2024-11-19T16:07:41.309270Z",
     "shell.execute_reply": "2024-11-19T16:07:41.308472Z"
    },
    "papermill": {
     "duration": 21.060808,
     "end_time": "2024-11-19T16:07:41.311160",
     "exception": false,
     "start_time": "2024-11-19T16:07:20.250352",
     "status": "completed"
    },
    "tags": []
   },
   "outputs": [
    {
     "data": {
      "text/plain": [
       "AnnData object with n_obs × n_vars = 297473 × 36601\n",
       "    obs: 'latent_RT_efficiency', 'latent_cell_probability', 'latent_scale', 'sangerID', 'combinedID', 'donor', 'region', 'age', 'facility', 'cell_or_nuclei', 'modality', 'kit_10x', 'scrublet_score', 'doublet_pval', 'doublet_bh_pval', 'n_genes', 'n_counts', 'n_genes_by_counts', 'log1p_n_genes_by_counts', 'total_counts', 'log1p_total_counts', 'total_counts_mt', 'log1p_total_counts_mt', 'pct_counts_mt', 'total_counts_ribo', 'log1p_total_counts_ribo', 'pct_counts_ribo', 'HB_score', 'donor_by_library-prep', 'multiplexed', 'SOC | status', 'SOC | log_prob_singleton', 'SOC | log_prob_doublet', 'batch_key', '_scvi_batch', 'FACSgate', 'fine_grain', 'mid_grain', 'coarse_grain', 'sex', 'week', 'trimester', 'heart_or_greatvessels', 'cycling', 'S_score', 'G2M_score', 'phase', '_scvi_labels', 'stress_score', 'hb1_score'\n",
       "    var: 'gene_name_scRNA-0', 'gene_id'\n",
       "    uns: 'FACSgate_colors', '_scvi_manager_uuid', '_scvi_uuid', 'age_colors', 'cell_or_nuclei_colors', 'coarse_grain_colors', 'cycling_colors', 'donor_colors', 'fine_grain_colors', 'heart_or_greatvessels_colors', 'hvg', 'kit_10x_colors', 'mid_grain_colors', 'modality_colors', 'neighbors', 'phase_colors', 'region_colors', 'sex_colors', 'trimester_colors', 'umap', 'week_colors'\n",
       "    obsm: 'X_scVI', 'X_umap', '_scvi_extra_categorical_covs', '_scvi_extra_continuous', '_scvi_extra_continuous_covs', 'latent_gene_encoding'\n",
       "    obsp: 'connectivities', 'distances'"
      ]
     },
     "execution_count": 5,
     "metadata": {},
     "output_type": "execute_result"
    }
   ],
   "source": [
    "adata = sc.read_h5ad('/nfs/team205/heart/anndata_objects/Foetal/Feb28ObjectRaw_finegrain_updated.h5ad')\n",
    "adata"
   ]
  },
  {
   "cell_type": "code",
   "execution_count": 6,
   "id": "7a2b3a1a",
   "metadata": {
    "execution": {
     "iopub.execute_input": "2024-11-19T16:07:41.331381Z",
     "iopub.status.busy": "2024-11-19T16:07:41.330992Z",
     "iopub.status.idle": "2024-11-19T16:07:41.340378Z",
     "shell.execute_reply": "2024-11-19T16:07:41.339709Z"
    },
    "papermill": {
     "duration": 0.020975,
     "end_time": "2024-11-19T16:07:41.342191",
     "exception": false,
     "start_time": "2024-11-19T16:07:41.321216",
     "status": "completed"
    },
    "tags": []
   },
   "outputs": [
    {
     "data": {
      "text/plain": [
       "array([1., 1., 5., 5., 8.], dtype=float32)"
      ]
     },
     "execution_count": 6,
     "metadata": {},
     "output_type": "execute_result"
    }
   ],
   "source": [
    "adata.X.data[:5]"
   ]
  },
  {
   "cell_type": "markdown",
   "id": "42f546de",
   "metadata": {
    "papermill": {
     "duration": 0.007924,
     "end_time": "2024-11-19T16:07:41.358798",
     "exception": false,
     "start_time": "2024-11-19T16:07:41.350874",
     "status": "completed"
    },
    "tags": []
   },
   "source": [
    "## Subset Xenium genes"
   ]
  },
  {
   "cell_type": "code",
   "execution_count": 7,
   "id": "2c3616a4",
   "metadata": {
    "execution": {
     "iopub.execute_input": "2024-11-19T16:07:41.377011Z",
     "iopub.status.busy": "2024-11-19T16:07:41.376526Z",
     "iopub.status.idle": "2024-11-19T16:07:43.126783Z",
     "shell.execute_reply": "2024-11-19T16:07:43.126150Z"
    },
    "papermill": {
     "duration": 1.76171,
     "end_time": "2024-11-19T16:07:43.128516",
     "exception": false,
     "start_time": "2024-11-19T16:07:41.366806",
     "status": "completed"
    },
    "tags": []
   },
   "outputs": [
    {
     "name": "stdout",
     "output_type": "stream",
     "text": [
      "5001\n"
     ]
    },
    {
     "data": {
      "text/plain": [
       "['A2ML1', 'AAMP', 'AAR2', 'AARSD1', 'ABAT']"
      ]
     },
     "execution_count": 7,
     "metadata": {},
     "output_type": "execute_result"
    }
   ],
   "source": [
    "# read in genes\n",
    "adata_xenium = sc.read_h5ad('/lustre/scratch126/cellgen/team205/kk18/xenium/objects/foetal/C194-HEA-0-FFPE-1_5K_filtered_raw.h5ad',\n",
    "                            backed='r'\n",
    "                           )\n",
    "xenium_genes = list(adata_xenium.var_names)\n",
    "print(len(xenium_genes))\n",
    "xenium_genes[:5]"
   ]
  },
  {
   "cell_type": "code",
   "execution_count": 8,
   "id": "af4a3260",
   "metadata": {
    "execution": {
     "iopub.execute_input": "2024-11-19T16:07:43.155838Z",
     "iopub.status.busy": "2024-11-19T16:07:43.155455Z",
     "iopub.status.idle": "2024-11-19T16:07:50.631155Z",
     "shell.execute_reply": "2024-11-19T16:07:50.630545Z"
    },
    "papermill": {
     "duration": 7.489389,
     "end_time": "2024-11-19T16:07:50.632930",
     "exception": false,
     "start_time": "2024-11-19T16:07:43.143541",
     "status": "completed"
    },
    "tags": []
   },
   "outputs": [
    {
     "name": "stdout",
     "output_type": "stream",
     "text": [
      "(297473, 5001)\n"
     ]
    },
    {
     "name": "stdout",
     "output_type": "stream",
     "text": [
      "[1. 1. 3. 4. 1.]\n"
     ]
    }
   ],
   "source": [
    "# subset\n",
    "adata = adata[:,xenium_genes]\n",
    "print(adata.shape)\n",
    "print(adata.X.data[:5])"
   ]
  },
  {
   "cell_type": "markdown",
   "id": "638d85b3",
   "metadata": {
    "papermill": {
     "duration": 0.008863,
     "end_time": "2024-11-19T16:07:50.652851",
     "exception": false,
     "start_time": "2024-11-19T16:07:50.643988",
     "status": "completed"
    },
    "tags": []
   },
   "source": [
    "## Log-normalise"
   ]
  },
  {
   "cell_type": "markdown",
   "id": "aed78dd0",
   "metadata": {
    "papermill": {
     "duration": 0.008989,
     "end_time": "2024-11-19T16:07:50.670835",
     "exception": false,
     "start_time": "2024-11-19T16:07:50.661846",
     "status": "completed"
    },
    "tags": []
   },
   "source": [
    "* It's important to first subset genes, and then normalise\n",
    "* Since that will be the case for query Xenium data"
   ]
  },
  {
   "cell_type": "code",
   "execution_count": 9,
   "id": "9ba917f3",
   "metadata": {
    "execution": {
     "iopub.execute_input": "2024-11-19T16:07:50.690913Z",
     "iopub.status.busy": "2024-11-19T16:07:50.690489Z",
     "iopub.status.idle": "2024-11-19T16:08:01.980234Z",
     "shell.execute_reply": "2024-11-19T16:08:01.979040Z"
    },
    "papermill": {
     "duration": 11.303475,
     "end_time": "2024-11-19T16:08:01.983481",
     "exception": false,
     "start_time": "2024-11-19T16:07:50.680006",
     "status": "completed"
    },
    "tags": []
   },
   "outputs": [
    {
     "data": {
      "text/plain": [
       "array([0.04801895, 0.04801895, 0.13764806, 0.1796197 , 0.04801895],\n",
       "      dtype=float32)"
      ]
     },
     "execution_count": 9,
     "metadata": {},
     "output_type": "execute_result"
    }
   ],
   "source": [
    "sc.pp.normalize_total(adata)\n",
    "sc.pp.log1p(adata)\n",
    "adata.X.data[:5]"
   ]
  },
  {
   "cell_type": "markdown",
   "id": "7d0a891f",
   "metadata": {
    "papermill": {
     "duration": 0.010406,
     "end_time": "2024-11-19T16:08:02.006625",
     "exception": false,
     "start_time": "2024-11-19T16:08:01.996219",
     "status": "completed"
    },
    "tags": []
   },
   "source": [
    "## Coarse-grained model"
   ]
  },
  {
   "cell_type": "code",
   "execution_count": 10,
   "id": "2e45f596",
   "metadata": {
    "execution": {
     "iopub.execute_input": "2024-11-19T16:08:02.030691Z",
     "iopub.status.busy": "2024-11-19T16:08:02.029931Z",
     "iopub.status.idle": "2024-11-19T16:08:02.058899Z",
     "shell.execute_reply": "2024-11-19T16:08:02.057635Z"
    },
    "papermill": {
     "duration": 0.045104,
     "end_time": "2024-11-19T16:08:02.061460",
     "exception": false,
     "start_time": "2024-11-19T16:08:02.016356",
     "status": "completed"
    },
    "tags": []
   },
   "outputs": [
    {
     "data": {
      "text/plain": [
       "coarse_grain\n",
       "Mesenchymal       148099\n",
       "Cardiomyocytes     74884\n",
       "Leukocytes         41046\n",
       "Endothelium        23109\n",
       "Neural              6149\n",
       "Epicardium          4186\n",
       "Name: count, dtype: int64"
      ]
     },
     "execution_count": 10,
     "metadata": {},
     "output_type": "execute_result"
    }
   ],
   "source": [
    "adata.obs['coarse_grain'].value_counts()"
   ]
  },
  {
   "cell_type": "code",
   "execution_count": 11,
   "id": "f2976ec4",
   "metadata": {
    "execution": {
     "iopub.execute_input": "2024-11-19T16:08:02.088241Z",
     "iopub.status.busy": "2024-11-19T16:08:02.087609Z",
     "iopub.status.idle": "2024-11-19T16:08:04.228169Z",
     "shell.execute_reply": "2024-11-19T16:08:04.227192Z"
    },
    "papermill": {
     "duration": 2.15672,
     "end_time": "2024-11-19T16:08:04.231057",
     "exception": false,
     "start_time": "2024-11-19T16:08:02.074337",
     "status": "completed"
    },
    "tags": []
   },
   "outputs": [
    {
     "data": {
      "text/plain": [
       "coarse_grain\n",
       "Cardiomyocytes    20000\n",
       "Mesenchymal       20000\n",
       "Endothelium       20000\n",
       "Leukocytes        20000\n",
       "Neural             6149\n",
       "Epicardium         4186\n",
       "Name: count, dtype: int64"
      ]
     },
     "execution_count": 11,
     "metadata": {},
     "output_type": "execute_result"
    }
   ],
   "source": [
    "# subsample\n",
    "n_cell_subsample = 20000\n",
    "label_target = 'coarse_grain'\n",
    "adata_sub = utils.sctk_subsample(adata,fraction=1,groupby=label_target,max_n=n_cell_subsample,random_state=0)\n",
    "adata_sub.obs[label_target].value_counts()"
   ]
  },
  {
   "cell_type": "code",
   "execution_count": null,
   "id": "279bb83b",
   "metadata": {
    "papermill": {
     "duration": null,
     "end_time": null,
     "exception": false,
     "start_time": "2024-11-19T16:08:04.245215",
     "status": "running"
    },
    "tags": []
   },
   "outputs": [],
   "source": [
    "# training\n",
    "model = celltypist.train(adata_sub,\n",
    "                     labels = label_target,\n",
    "                     n_jobs = 10,\n",
    "                     feature_selection = False, # since manually selected\n",
    "                     check_expression = False\n",
    "                    )\n",
    "# save model\n",
    "model.write(f'/nfs/team205/kk18/notebooks/Foetal/Xenium/5K/celltypist_models/global2coarse.pkl')"
   ]
  },
  {
   "cell_type": "markdown",
   "id": "0b60e231",
   "metadata": {
    "papermill": {
     "duration": null,
     "end_time": null,
     "exception": null,
     "start_time": null,
     "status": "pending"
    },
    "tags": []
   },
   "source": [
    "## Create per coarse-grained model, to predict modified mid-grained"
   ]
  },
  {
   "cell_type": "markdown",
   "id": "c1630f09",
   "metadata": {
    "papermill": {
     "duration": null,
     "end_time": null,
     "exception": null,
     "start_time": null,
     "status": "pending"
    },
    "tags": []
   },
   "source": [
    "* Modified mid-grained: split CCS cells into atiral and ventricular CMs"
   ]
  },
  {
   "cell_type": "code",
   "execution_count": null,
   "id": "e1d120f1",
   "metadata": {
    "papermill": {
     "duration": null,
     "end_time": null,
     "exception": null,
     "start_time": null,
     "status": "pending"
    },
    "tags": []
   },
   "outputs": [],
   "source": [
    "set(adata[adata.obs['mid_grain']=='CardiacConductionSystem'].obs['fine_grain'])"
   ]
  },
  {
   "cell_type": "code",
   "execution_count": null,
   "id": "019b98d6",
   "metadata": {
    "papermill": {
     "duration": null,
     "end_time": null,
     "exception": null,
     "start_time": null,
     "status": "pending"
    },
    "tags": []
   },
   "outputs": [],
   "source": [
    "# modify mid-grain cell types\n",
    "CCS_atrial_obsnames = adata.obs_names[adata.obs['fine_grain'].isin(['AtrioventricularNodePacemakerCells','SinoatrialNodePacemakerCells'])]\n",
    "CCS_vent_obsnames = adata.obs_names[adata.obs['fine_grain'].isin(['VentricularConductionSystemDistal','VentricularConductionSystemProximal'])]\n",
    "adata.obs['mid_grain_mod'] = adata.obs['mid_grain'].astype('str').copy()\n",
    "adata.obs.loc[CCS_atrial_obsnames,'mid_grain_mod'] = 'AtrialCardiomyocytes'\n",
    "adata.obs.loc[CCS_vent_obsnames,'mid_grain_mod'] = 'VentricularCardiomyocytes'\n",
    "adata.obs['mid_grain_mod'] = adata.obs['mid_grain_mod'].astype('category')\n",
    "adata.obs['mid_grain_mod'] = adata.obs['mid_grain_mod'].cat.reorder_categories(['AtrialCardiomyocytes', 'VentricularCardiomyocytes',\n",
    "       'Fibroblasts', 'MuralCells',\n",
    "       'PericardialCells', 'BloodVesselEndothelialCells', 'EndocardialCells',\n",
    "       'LymphaticEndothelialCells', 'EpicardialCells', 'Neurons', 'Glia',\n",
    "       'MyeloidCells', 'LymphoidCells'])"
   ]
  },
  {
   "cell_type": "code",
   "execution_count": null,
   "id": "161c3908",
   "metadata": {
    "papermill": {
     "duration": null,
     "end_time": null,
     "exception": null,
     "start_time": null,
     "status": "pending"
    },
    "tags": []
   },
   "outputs": [],
   "source": [
    "pd.crosstab(adata.obs['mid_grain_mod'],adata.obs['coarse_grain'])"
   ]
  },
  {
   "cell_type": "code",
   "execution_count": null,
   "id": "bb855763",
   "metadata": {
    "papermill": {
     "duration": null,
     "end_time": null,
     "exception": null,
     "start_time": null,
     "status": "pending"
    },
    "tags": []
   },
   "outputs": [],
   "source": [
    "%%time\n",
    "n_cell_subsample_dict = {\n",
    "    'Cardiomyocytes':20000,\n",
    "    'Mesenchymal':20000,\n",
    "    'Endothelium':None,\n",
    "    # 'Epicardium':None, # only one cell type\n",
    "    'Neural':None,\n",
    "    'Leukocytes':None\n",
    "}\n",
    "label_compartment = 'coarse_grain'\n",
    "label_target = 'mid_grain_mod'\n",
    "\n",
    "for celltype,n_cell_subsample in n_cell_subsample_dict.items():\n",
    "    print(celltype)\n",
    "    # subset\n",
    "    adata_sub = adata[adata.obs[label_compartment]==celltype]\n",
    "    # subsample\n",
    "    if n_cell_subsample!=None:\n",
    "        print('subsampling')\n",
    "        adata_sub = utils.sctk_subsample(adata_sub,fraction=1,groupby=label_target,max_n=n_cell_subsample,random_state=0)\n",
    "    else:\n",
    "        print('no subsampling')\n",
    "    print(adata_sub.obs[label_target].value_counts())\n",
    "    # training\n",
    "    model = celltypist.train(adata_sub,\n",
    "                         labels = label_target,\n",
    "                         n_jobs = 10,\n",
    "                         feature_selection = False, # since manually selected\n",
    "                         check_expression = False\n",
    "                        )\n",
    "    # save model\n",
    "    model.write(f'/nfs/team205/kk18/notebooks/Foetal/Xenium/5K/celltypist_models/coarse2midmod_{celltype}.pkl')\n",
    "    print('')"
   ]
  },
  {
   "cell_type": "code",
   "execution_count": null,
   "id": "78ba1e90",
   "metadata": {
    "papermill": {
     "duration": null,
     "end_time": null,
     "exception": null,
     "start_time": null,
     "status": "pending"
    },
    "tags": []
   },
   "outputs": [],
   "source": [
    "os.getcwd()"
   ]
  },
  {
   "cell_type": "markdown",
   "id": "23f4c0d3",
   "metadata": {
    "papermill": {
     "duration": null,
     "end_time": null,
     "exception": null,
     "start_time": null,
     "status": "pending"
    },
    "tags": []
   },
   "source": [
    "## Create per mid-grained (modified) model, to predict fine-grained"
   ]
  },
  {
   "cell_type": "code",
   "execution_count": null,
   "id": "e758b5d4",
   "metadata": {
    "papermill": {
     "duration": null,
     "end_time": null,
     "exception": null,
     "start_time": null,
     "status": "pending"
    },
    "tags": []
   },
   "outputs": [],
   "source": [
    "with pd.option_context('display.max_rows', None,):\n",
    "    display(pd.crosstab(adata.obs['fine_grain'],adata.obs['mid_grain_mod']))"
   ]
  },
  {
   "cell_type": "code",
   "execution_count": null,
   "id": "a96d27d2",
   "metadata": {
    "papermill": {
     "duration": null,
     "end_time": null,
     "exception": null,
     "start_time": null,
     "status": "pending"
    },
    "tags": []
   },
   "outputs": [],
   "source": [
    "adata.obs['mid_grain_mod'].cat.categories"
   ]
  },
  {
   "cell_type": "code",
   "execution_count": null,
   "id": "f334fbcc",
   "metadata": {
    "papermill": {
     "duration": null,
     "end_time": null,
     "exception": null,
     "start_time": null,
     "status": "pending"
    },
    "tags": []
   },
   "outputs": [],
   "source": [
    "%%time\n",
    "n_cell_subsample_dict = {\n",
    "    'AtrialCardiomyocytes':2000,\n",
    "    'VentricularCardiomyocytes':5000,\n",
    "    'Fibroblasts':5000,\n",
    "    'MuralCells':5000,\n",
    "    'PericardialCells':5000,\n",
    "    'BloodVesselEndothelialCells':2000,\n",
    "    'EndocardialCells':2000,\n",
    "    # 'LymphaticEndothelialCells':None, # only one cell type\n",
    "    'EpicardialCells':None,\n",
    "    'Neurons':None,\n",
    "    'Glia':None,\n",
    "    'MyeloidCells':2000,\n",
    "    'LymphoidCells':None\n",
    "}\n",
    "label_compartment = 'mid_grain_mod'\n",
    "label_target = 'fine_grain'\n",
    "\n",
    "for celltype,n_cell_subsample in n_cell_subsample_dict.items():\n",
    "    print(celltype)\n",
    "    # subset\n",
    "    adata_sub = adata[adata.obs[label_compartment]==celltype]\n",
    "    # subsample\n",
    "    if n_cell_subsample!=None:\n",
    "        print('subsampling')\n",
    "        adata_sub = utils.sctk_subsample(adata_sub,fraction=1,groupby=label_target,max_n=n_cell_subsample,random_state=0)\n",
    "    else:\n",
    "        print('no subsampling')\n",
    "    print(adata_sub.obs[label_target].value_counts())\n",
    "    # training\n",
    "    model = celltypist.train(adata_sub,\n",
    "                         labels = label_target,\n",
    "                         n_jobs = 10,\n",
    "                         feature_selection = False, # since manually selected\n",
    "                         check_expression = False\n",
    "                        )\n",
    "    # save model\n",
    "    model.write(f'/nfs/team205/kk18/notebooks/Foetal/Xenium/5K/celltypist_models/midmod2fine_{celltype}.pkl')\n",
    "    print('')"
   ]
  },
  {
   "cell_type": "code",
   "execution_count": null,
   "id": "87d44792",
   "metadata": {
    "papermill": {
     "duration": null,
     "end_time": null,
     "exception": null,
     "start_time": null,
     "status": "pending"
    },
    "tags": []
   },
   "outputs": [],
   "source": []
  }
 ],
 "metadata": {
  "accelerator": "GPU",
  "colab": {
   "authorship_tag": "ABX9TyP8dftkXIq4ic4InSf6yIDe",
   "name": "kk36_Adult-heart_MultiVI_20210906.ipynb",
   "provenance": []
  },
  "kernelspec": {
   "display_name": "bin2cell",
   "language": "python",
   "name": "bin2cell"
  },
  "language_info": {
   "codemirror_mode": {
    "name": "ipython",
    "version": 3
   },
   "file_extension": ".py",
   "mimetype": "text/x-python",
   "name": "python",
   "nbconvert_exporter": "python",
   "pygments_lexer": "ipython3",
   "version": "3.11.9"
  },
  "papermill": {
   "default_parameters": {},
   "duration": null,
   "end_time": null,
   "environment_variables": {},
   "exception": null,
   "input_path": "../celltypist_foetal_rna_5K.ipynb",
   "output_path": "../notebook_outs/celltypist_foetal_rna_5K_out_19Nov2024.ipynb",
   "parameters": {},
   "start_time": "2024-11-19T16:07:02.234656",
   "version": "2.6.0"
  }
 },
 "nbformat": 4,
 "nbformat_minor": 5
}