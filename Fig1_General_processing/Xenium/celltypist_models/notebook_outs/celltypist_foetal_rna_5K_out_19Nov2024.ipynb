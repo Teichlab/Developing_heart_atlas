{
 "cells": [
  {
   "cell_type": "markdown",
   "id": "185c062f",
   "metadata": {
    "id": "Bo3ACEE1ALEw",
    "papermill": {
     "duration": 0.010485,
     "end_time": "2024-11-19T16:07:06.110237",
     "exception": false,
     "start_time": "2024-11-19T16:07:06.099752",
     "status": "completed"
    },
    "tags": []
   },
   "source": [
    "## Import modules"
   ]
  },
  {
   "cell_type": "code",
   "execution_count": 1,
   "id": "2deabd5d",
   "metadata": {
    "colab": {
     "base_uri": "https://localhost:8080/"
    },
    "execution": {
     "iopub.execute_input": "2024-11-19T16:07:06.130232Z",
     "iopub.status.busy": "2024-11-19T16:07:06.129755Z",
     "iopub.status.idle": "2024-11-19T16:07:17.213458Z",
     "shell.execute_reply": "2024-11-19T16:07:17.212349Z"
    },
    "executionInfo": {
     "elapsed": 8522,
     "status": "ok",
     "timestamp": 1630962117458,
     "user": {
      "displayName": "Kazumasa Kanemaru",
      "photoUrl": "https://lh3.googleusercontent.com/a/default-user=s64",
      "userId": "09579449744665019665"
     },
     "user_tz": -60
    },
    "id": "Kz5pURyJAG_L",
    "outputId": "41124ca8-a427-4e11-f272-e3a2ed47e941",
    "papermill": {
     "duration": 11.098798,
     "end_time": "2024-11-19T16:07:17.217454",
     "exception": false,
     "start_time": "2024-11-19T16:07:06.118656",
     "status": "completed"
    },
    "tags": []
   },
   "outputs": [],
   "source": [
    "import numpy as np\n",
    "import pandas as pd\n",
    "import anndata\n",
    "import scipy\n",
    "import scanpy as sc\n",
    "import os\n",
    "\n",
    "import matplotlib.pyplot as plt\n",
    "import seaborn as sns\n",
    "\n",
    "import celltypist\n",
    "from celltypist import models\n",
    "\n",
    "import warnings\n",
    "warnings.simplefilter(\"ignore\", UserWarning)"
   ]
  },
  {
   "cell_type": "code",
   "execution_count": 2,
   "id": "0bf0e907",
   "metadata": {
    "colab": {
     "base_uri": "https://localhost:8080/",
     "height": 34
    },
    "execution": {
     "iopub.execute_input": "2024-11-19T16:07:17.239317Z",
     "iopub.status.busy": "2024-11-19T16:07:17.237902Z",
     "iopub.status.idle": "2024-11-19T16:07:20.097604Z",
     "shell.execute_reply": "2024-11-19T16:07:20.096786Z"
    },
    "executionInfo": {
     "elapsed": 261,
     "status": "ok",
     "timestamp": 1630962117716,
     "user": {
      "displayName": "Kazumasa Kanemaru",
      "photoUrl": "https://lh3.googleusercontent.com/a/default-user=s64",
      "userId": "09579449744665019665"
     },
     "user_tz": -60
    },
    "id": "rIlaJnwlASLg",
    "outputId": "4622ab27-d21d-4673-8ac0-335f7f8f3027",
    "papermill": {
     "duration": 2.872741,
     "end_time": "2024-11-19T16:07:20.100178",
     "exception": false,
     "start_time": "2024-11-19T16:07:17.227437",
     "status": "completed"
    },
    "tags": []
   },
   "outputs": [
    {
     "data": {
      "text/html": [
       "<details>\n",
       "<summary>Click to view session information</summary>\n",
       "<pre>\n",
       "-----\n",
       "anndata             0.10.8\n",
       "celltypist          1.6.3\n",
       "distributed         2024.10.0\n",
       "matplotlib          3.9.1\n",
       "numpy               1.26.4\n",
       "pandas              2.2.2\n",
       "scanpy              1.10.2\n",
       "scipy               1.14.0\n",
       "seaborn             0.13.2\n",
       "session_info        1.0.0\n",
       "-----\n",
       "</pre>\n",
       "<details>\n",
       "<summary>Click to view modules imported as dependencies</summary>\n",
       "<pre>\n",
       "PIL                         10.4.0\n",
       "anyio                       NA\n",
       "arrow                       1.3.0\n",
       "asciitree                   NA\n",
       "asttokens                   NA\n",
       "attr                        24.2.0\n",
       "attrs                       24.2.0\n",
       "babel                       2.16.0\n",
       "certifi                     2024.07.04\n",
       "cffi                        1.17.1\n",
       "charset_normalizer          3.3.2\n",
       "click                       8.1.7\n",
       "cloudpickle                 3.1.0\n",
       "comm                        0.2.2\n",
       "cycler                      0.12.1\n",
       "cython_runtime              NA\n",
       "dask                        2024.10.0\n",
       "dateutil                    2.9.0.post0\n",
       "debugpy                     1.8.2\n",
       "decorator                   5.1.1\n",
       "defusedxml                  0.7.1\n",
       "executing                   2.0.1\n",
       "fastjsonschema              NA\n",
       "fqdn                        NA\n",
       "h5py                        3.11.0\n",
       "idna                        3.7\n",
       "igraph                      0.11.6\n",
       "importlib_metadata          NA\n",
       "ipykernel                   6.29.5\n",
       "ipywidgets                  8.1.5\n",
       "isoduration                 NA\n",
       "jedi                        0.19.1\n",
       "jinja2                      3.1.4\n",
       "joblib                      1.4.2\n",
       "json5                       0.9.25\n",
       "jsonpointer                 3.0.0\n",
       "jsonschema                  4.23.0\n",
       "jsonschema_specifications   NA\n",
       "jupyter_events              0.10.0\n",
       "jupyter_server              2.14.2\n",
       "jupyterlab_server           2.27.3\n",
       "kiwisolver                  1.4.5\n",
       "legacy_api_wrap             NA\n",
       "leidenalg                   0.10.2\n",
       "llvmlite                    0.43.0\n",
       "locket                      NA\n",
       "markupsafe                  2.1.5\n",
       "mpl_toolkits                NA\n",
       "msgpack                     1.1.0\n",
       "natsort                     8.4.0\n",
       "nbformat                    5.10.4\n",
       "numba                       0.60.0\n",
       "numcodecs                   0.13.1\n",
       "overrides                   NA\n",
       "packaging                   24.1\n",
       "parso                       0.8.4\n",
       "patsy                       0.5.6\n",
       "platformdirs                4.2.2\n",
       "prometheus_client           NA\n",
       "prompt_toolkit              3.0.47\n",
       "psutil                      6.0.0\n",
       "pure_eval                   0.2.2\n",
       "pyarrow                     18.0.0\n",
       "pydev_ipython               NA\n",
       "pydevconsole                NA\n",
       "pydevd                      2.9.5\n",
       "pydevd_file_utils           NA\n",
       "pydevd_plugins              NA\n",
       "pydevd_tracing              NA\n",
       "pygments                    2.18.0\n",
       "pyparsing                   3.1.2\n",
       "pythonjsonlogger            NA\n",
       "pytz                        2024.1\n",
       "referencing                 NA\n",
       "requests                    2.32.3\n",
       "rfc3339_validator           0.1.4\n",
       "rfc3986_validator           0.1.1\n",
       "rpds                        NA\n",
       "send2trash                  NA\n",
       "six                         1.16.0\n",
       "sklearn                     1.5.1\n",
       "sniffio                     1.3.1\n",
       "sortedcontainers            2.4.0\n",
       "stack_data                  0.6.3\n",
       "statsmodels                 0.14.2\n",
       "tblib                       3.0.0\n",
       "texttable                   1.7.0\n",
       "threadpoolctl               3.5.0\n",
       "tlz                         1.0.0\n",
       "toolz                       1.0.0\n",
       "tornado                     6.4.1\n",
       "traitlets                   5.14.3\n",
       "typing_extensions           NA\n",
       "uri_template                NA\n",
       "urllib3                     1.26.20\n",
       "wcwidth                     0.2.13\n",
       "webcolors                   24.8.0\n",
       "websocket                   1.8.0\n",
       "yaml                        6.0.2\n",
       "zarr                        2.18.3\n",
       "zict                        3.0.0\n",
       "zipp                        NA\n",
       "zmq                         26.0.3\n",
       "</pre>\n",
       "</details> <!-- seems like this ends pre, so might as well be explicit -->\n",
       "<pre>\n",
       "-----\n",
       "IPython             8.26.0\n",
       "jupyter_client      8.6.2\n",
       "jupyter_core        5.7.2\n",
       "jupyterlab          4.3.0\n",
       "-----\n",
       "Python 3.11.9 (main, Apr 19 2024, 16:48:06) [GCC 11.2.0]\n",
       "Linux-5.15.0-125-generic-x86_64-with-glibc2.35\n",
       "-----\n",
       "Session information updated at 2024-11-19 16:07\n",
       "</pre>\n",
       "</details>"
      ],
      "text/plain": [
       "<IPython.core.display.HTML object>"
      ]
     },
     "execution_count": 2,
     "metadata": {},
     "output_type": "execute_result"
    }
   ],
   "source": [
    "import distributed\n",
    "import session_info\n",
    "session_info.show()"
   ]
  },
  {
   "cell_type": "code",
   "execution_count": 3,
   "id": "2c3191e8",
   "metadata": {
    "execution": {
     "iopub.execute_input": "2024-11-19T16:07:20.122724Z",
     "iopub.status.busy": "2024-11-19T16:07:20.120931Z",
     "iopub.status.idle": "2024-11-19T16:07:20.140290Z",
     "shell.execute_reply": "2024-11-19T16:07:20.139056Z"
    },
    "papermill": {
     "duration": 0.033567,
     "end_time": "2024-11-19T16:07:20.143593",
     "exception": false,
     "start_time": "2024-11-19T16:07:20.110026",
     "status": "completed"
    },
    "tags": []
   },
   "outputs": [],
   "source": [
    "# import own function\n",
    "import importlib.util\n",
    "import sys\n",
    "spec = importlib.util.spec_from_file_location(\"module.name\", \"/nfs/team205/kk18/function/python/utils.py\")\n",
    "utils = importlib.util.module_from_spec(spec)\n",
    "sys.modules[\"module.name\"] = utils\n",
    "spec.loader.exec_module(utils)"
   ]
  },
  {
   "cell_type": "code",
   "execution_count": 4,
   "id": "c04c26a2",
   "metadata": {
    "execution": {
     "iopub.execute_input": "2024-11-19T16:07:20.167181Z",
     "iopub.status.busy": "2024-11-19T16:07:20.166459Z",
     "iopub.status.idle": "2024-11-19T16:07:20.211927Z",
     "shell.execute_reply": "2024-11-19T16:07:20.210740Z"
    },
    "papermill": {
     "duration": 0.062907,
     "end_time": "2024-11-19T16:07:20.216540",
     "exception": false,
     "start_time": "2024-11-19T16:07:20.153633",
     "status": "completed"
    },
    "tags": []
   },
   "outputs": [],
   "source": [
    "sc.settings.set_figure_params(dpi=120)"
   ]
  },
  {
   "cell_type": "markdown",
   "id": "14da433b",
   "metadata": {
    "id": "JMpCCPgZAeiO",
    "papermill": {
     "duration": 0.009571,
     "end_time": "2024-11-19T16:07:20.236988",
     "exception": false,
     "start_time": "2024-11-19T16:07:20.227417",
     "status": "completed"
    },
    "tags": []
   },
   "source": [
    "## Read in reference anndata"
   ]
  },
  {
   "cell_type": "code",
   "execution_count": 5,
   "id": "86848e43",
   "metadata": {
    "execution": {
     "iopub.execute_input": "2024-11-19T16:07:20.265448Z",
     "iopub.status.busy": "2024-11-19T16:07:20.264546Z",
     "iopub.status.idle": "2024-11-19T16:07:41.309270Z",
     "shell.execute_reply": "2024-11-19T16:07:41.308472Z"
    },
    "papermill": {
     "duration": 21.060808,
     "end_time": "2024-11-19T16:07:41.311160",
     "exception": false,
     "start_time": "2024-11-19T16:07:20.250352",
     "status": "completed"
    },
    "tags": []
   },
   "outputs": [
    {
     "data": {
      "text/plain": [
       "AnnData object with n_obs × n_vars = 297473 × 36601\n",
       "    obs: 'latent_RT_efficiency', 'latent_cell_probability', 'latent_scale', 'sangerID', 'combinedID', 'donor', 'region', 'age', 'facility', 'cell_or_nuclei', 'modality', 'kit_10x', 'scrublet_score', 'doublet_pval', 'doublet_bh_pval', 'n_genes', 'n_counts', 'n_genes_by_counts', 'log1p_n_genes_by_counts', 'total_counts', 'log1p_total_counts', 'total_counts_mt', 'log1p_total_counts_mt', 'pct_counts_mt', 'total_counts_ribo', 'log1p_total_counts_ribo', 'pct_counts_ribo', 'HB_score', 'donor_by_library-prep', 'multiplexed', 'SOC | status', 'SOC | log_prob_singleton', 'SOC | log_prob_doublet', 'batch_key', '_scvi_batch', 'FACSgate', 'fine_grain', 'mid_grain', 'coarse_grain', 'sex', 'week', 'trimester', 'heart_or_greatvessels', 'cycling', 'S_score', 'G2M_score', 'phase', '_scvi_labels', 'stress_score', 'hb1_score'\n",
       "    var: 'gene_name_scRNA-0', 'gene_id'\n",
       "    uns: 'FACSgate_colors', '_scvi_manager_uuid', '_scvi_uuid', 'age_colors', 'cell_or_nuclei_colors', 'coarse_grain_colors', 'cycling_colors', 'donor_colors', 'fine_grain_colors', 'heart_or_greatvessels_colors', 'hvg', 'kit_10x_colors', 'mid_grain_colors', 'modality_colors', 'neighbors', 'phase_colors', 'region_colors', 'sex_colors', 'trimester_colors', 'umap', 'week_colors'\n",
       "    obsm: 'X_scVI', 'X_umap', '_scvi_extra_categorical_covs', '_scvi_extra_continuous', '_scvi_extra_continuous_covs', 'latent_gene_encoding'\n",
       "    obsp: 'connectivities', 'distances'"
      ]
     },
     "execution_count": 5,
     "metadata": {},
     "output_type": "execute_result"
    }
   ],
   "source": [
    "adata = sc.read_h5ad('/nfs/team205/heart/anndata_objects/Foetal/Feb28ObjectRaw_finegrain_updated.h5ad')\n",
    "adata"
   ]
  },
  {
   "cell_type": "code",
   "execution_count": 6,
   "id": "7a2b3a1a",
   "metadata": {
    "execution": {
     "iopub.execute_input": "2024-11-19T16:07:41.331381Z",
     "iopub.status.busy": "2024-11-19T16:07:41.330992Z",
     "iopub.status.idle": "2024-11-19T16:07:41.340378Z",
     "shell.execute_reply": "2024-11-19T16:07:41.339709Z"
    },
    "papermill": {
     "duration": 0.020975,
     "end_time": "2024-11-19T16:07:41.342191",
     "exception": false,
     "start_time": "2024-11-19T16:07:41.321216",
     "status": "completed"
    },
    "tags": []
   },
   "outputs": [
    {
     "data": {
      "text/plain": [
       "array([1., 1., 5., 5., 8.], dtype=float32)"
      ]
     },
     "execution_count": 6,
     "metadata": {},
     "output_type": "execute_result"
    }
   ],
   "source": [
    "adata.X.data[:5]"
   ]
  },
  {
   "cell_type": "markdown",
   "id": "42f546de",
   "metadata": {
    "papermill": {
     "duration": 0.007924,
     "end_time": "2024-11-19T16:07:41.358798",
     "exception": false,
     "start_time": "2024-11-19T16:07:41.350874",
     "status": "completed"
    },
    "tags": []
   },
   "source": [
    "## Subset Xenium genes"
   ]
  },
  {
   "cell_type": "code",
   "execution_count": 7,
   "id": "2c3616a4",
   "metadata": {
    "execution": {
     "iopub.execute_input": "2024-11-19T16:07:41.377011Z",
     "iopub.status.busy": "2024-11-19T16:07:41.376526Z",
     "iopub.status.idle": "2024-11-19T16:07:43.126783Z",
     "shell.execute_reply": "2024-11-19T16:07:43.126150Z"
    },
    "papermill": {
     "duration": 1.76171,
     "end_time": "2024-11-19T16:07:43.128516",
     "exception": false,
     "start_time": "2024-11-19T16:07:41.366806",
     "status": "completed"
    },
    "tags": []
   },
   "outputs": [
    {
     "name": "stdout",
     "output_type": "stream",
     "text": [
      "5001\n"
     ]
    },
    {
     "data": {
      "text/plain": [
       "['A2ML1', 'AAMP', 'AAR2', 'AARSD1', 'ABAT']"
      ]
     },
     "execution_count": 7,
     "metadata": {},
     "output_type": "execute_result"
    }
   ],
   "source": [
    "# read in genes\n",
    "adata_xenium = sc.read_h5ad('/lustre/scratch126/cellgen/team205/kk18/xenium/objects/foetal/C194-HEA-0-FFPE-1_5K_filtered_raw.h5ad',\n",
    "                            backed='r'\n",
    "                           )\n",
    "xenium_genes = list(adata_xenium.var_names)\n",
    "print(len(xenium_genes))\n",
    "xenium_genes[:5]"
   ]
  },
  {
   "cell_type": "code",
   "execution_count": 8,
   "id": "af4a3260",
   "metadata": {
    "execution": {
     "iopub.execute_input": "2024-11-19T16:07:43.155838Z",
     "iopub.status.busy": "2024-11-19T16:07:43.155455Z",
     "iopub.status.idle": "2024-11-19T16:07:50.631155Z",
     "shell.execute_reply": "2024-11-19T16:07:50.630545Z"
    },
    "papermill": {
     "duration": 7.489389,
     "end_time": "2024-11-19T16:07:50.632930",
     "exception": false,
     "start_time": "2024-11-19T16:07:43.143541",
     "status": "completed"
    },
    "tags": []
   },
   "outputs": [
    {
     "name": "stdout",
     "output_type": "stream",
     "text": [
      "(297473, 5001)\n"
     ]
    },
    {
     "name": "stdout",
     "output_type": "stream",
     "text": [
      "[1. 1. 3. 4. 1.]\n"
     ]
    }
   ],
   "source": [
    "# subset\n",
    "adata = adata[:,xenium_genes]\n",
    "print(adata.shape)\n",
    "print(adata.X.data[:5])"
   ]
  },
  {
   "cell_type": "markdown",
   "id": "638d85b3",
   "metadata": {
    "papermill": {
     "duration": 0.008863,
     "end_time": "2024-11-19T16:07:50.652851",
     "exception": false,
     "start_time": "2024-11-19T16:07:50.643988",
     "status": "completed"
    },
    "tags": []
   },
   "source": [
    "## Log-normalise"
   ]
  },
  {
   "cell_type": "markdown",
   "id": "aed78dd0",
   "metadata": {
    "papermill": {
     "duration": 0.008989,
     "end_time": "2024-11-19T16:07:50.670835",
     "exception": false,
     "start_time": "2024-11-19T16:07:50.661846",
     "status": "completed"
    },
    "tags": []
   },
   "source": [
    "* It's important to first subset genes, and then normalise\n",
    "* Since that will be the case for query Xenium data"
   ]
  },
  {
   "cell_type": "code",
   "execution_count": 9,
   "id": "9ba917f3",
   "metadata": {
    "execution": {
     "iopub.execute_input": "2024-11-19T16:07:50.690913Z",
     "iopub.status.busy": "2024-11-19T16:07:50.690489Z",
     "iopub.status.idle": "2024-11-19T16:08:01.980234Z",
     "shell.execute_reply": "2024-11-19T16:08:01.979040Z"
    },
    "papermill": {
     "duration": 11.303475,
     "end_time": "2024-11-19T16:08:01.983481",
     "exception": false,
     "start_time": "2024-11-19T16:07:50.680006",
     "status": "completed"
    },
    "tags": []
   },
   "outputs": [
    {
     "data": {
      "text/plain": [
       "array([0.04801895, 0.04801895, 0.13764806, 0.1796197 , 0.04801895],\n",
       "      dtype=float32)"
      ]
     },
     "execution_count": 9,
     "metadata": {},
     "output_type": "execute_result"
    }
   ],
   "source": [
    "sc.pp.normalize_total(adata)\n",
    "sc.pp.log1p(adata)\n",
    "adata.X.data[:5]"
   ]
  },
  {
   "cell_type": "markdown",
   "id": "7d0a891f",
   "metadata": {
    "papermill": {
     "duration": 0.010406,
     "end_time": "2024-11-19T16:08:02.006625",
     "exception": false,
     "start_time": "2024-11-19T16:08:01.996219",
     "status": "completed"
    },
    "tags": []
   },
   "source": [
    "## Coarse-grained model"
   ]
  },
  {
   "cell_type": "code",
   "execution_count": 10,
   "id": "2e45f596",
   "metadata": {
    "execution": {
     "iopub.execute_input": "2024-11-19T16:08:02.030691Z",
     "iopub.status.busy": "2024-11-19T16:08:02.029931Z",
     "iopub.status.idle": "2024-11-19T16:08:02.058899Z",
     "shell.execute_reply": "2024-11-19T16:08:02.057635Z"
    },
    "papermill": {
     "duration": 0.045104,
     "end_time": "2024-11-19T16:08:02.061460",
     "exception": false,
     "start_time": "2024-11-19T16:08:02.016356",
     "status": "completed"
    },
    "tags": []
   },
   "outputs": [
    {
     "data": {
      "text/plain": [
       "coarse_grain\n",
       "Mesenchymal       148099\n",
       "Cardiomyocytes     74884\n",
       "Leukocytes         41046\n",
       "Endothelium        23109\n",
       "Neural              6149\n",
       "Epicardium          4186\n",
       "Name: count, dtype: int64"
      ]
     },
     "execution_count": 10,
     "metadata": {},
     "output_type": "execute_result"
    }
   ],
   "source": [
    "adata.obs['coarse_grain'].value_counts()"
   ]
  },
  {
   "cell_type": "code",
   "execution_count": 11,
   "id": "f2976ec4",
   "metadata": {
    "execution": {
     "iopub.execute_input": "2024-11-19T16:08:02.088241Z",
     "iopub.status.busy": "2024-11-19T16:08:02.087609Z",
     "iopub.status.idle": "2024-11-19T16:08:04.228169Z",
     "shell.execute_reply": "2024-11-19T16:08:04.227192Z"
    },
    "papermill": {
     "duration": 2.15672,
     "end_time": "2024-11-19T16:08:04.231057",
     "exception": false,
     "start_time": "2024-11-19T16:08:02.074337",
     "status": "completed"
    },
    "tags": []
   },
   "outputs": [
    {
     "data": {
      "text/plain": [
       "coarse_grain\n",
       "Cardiomyocytes    20000\n",
       "Mesenchymal       20000\n",
       "Endothelium       20000\n",
       "Leukocytes        20000\n",
       "Neural             6149\n",
       "Epicardium         4186\n",
       "Name: count, dtype: int64"
      ]
     },
     "execution_count": 11,
     "metadata": {},
     "output_type": "execute_result"
    }
   ],
   "source": [
    "# subsample\n",
    "n_cell_subsample = 20000\n",
    "label_target = 'coarse_grain'\n",
    "adata_sub = utils.sctk_subsample(adata,fraction=1,groupby=label_target,max_n=n_cell_subsample,random_state=0)\n",
    "adata_sub.obs[label_target].value_counts()"
   ]
  },
  {
   "cell_type": "code",
   "execution_count": 12,
   "id": "279bb83b",
   "metadata": {
    "execution": {
     "iopub.execute_input": "2024-11-19T16:08:04.260592Z",
     "iopub.status.busy": "2024-11-19T16:08:04.260083Z",
     "iopub.status.idle": "2024-11-19T20:34:56.007238Z",
     "shell.execute_reply": "2024-11-19T20:34:56.006417Z"
    },
    "papermill": {
     "duration": 16011.765304,
     "end_time": "2024-11-19T20:34:56.010519",
     "exception": false,
     "start_time": "2024-11-19T16:08:04.245215",
     "status": "completed"
    },
    "tags": []
   },
   "outputs": [
    {
     "name": "stderr",
     "output_type": "stream",
     "text": [
      "🍳 Preparing data before training\n"
     ]
    },
    {
     "name": "stderr",
     "output_type": "stream",
     "text": [
      "✂️ 26 non-expressed genes are filtered out\n"
     ]
    },
    {
     "name": "stderr",
     "output_type": "stream",
     "text": [
      "🔬 Input data has 90335 cells and 4975 genes\n"
     ]
    },
    {
     "name": "stderr",
     "output_type": "stream",
     "text": [
      "⚖️ Scaling input data\n"
     ]
    },
    {
     "name": "stderr",
     "output_type": "stream",
     "text": [
      "🏋️ Training data using logistic regression\n"
     ]
    },
    {
     "name": "stderr",
     "output_type": "stream",
     "text": [
      "✅ Model training done!\n"
     ]
    }
   ],
   "source": [
    "# training\n",
    "model = celltypist.train(adata_sub,\n",
    "                     labels = label_target,\n",
    "                     n_jobs = 10,\n",
    "                     feature_selection = False, # since manually selected\n",
    "                     check_expression = False\n",
    "                    )\n",
    "# save model\n",
    "model.write(f'/nfs/team205/kk18/notebooks/Foetal/Xenium/5K/celltypist_models/global2coarse.pkl')"
   ]
  },
  {
   "cell_type": "markdown",
   "id": "0b60e231",
   "metadata": {
    "papermill": {
     "duration": 0.008753,
     "end_time": "2024-11-19T20:34:56.029898",
     "exception": false,
     "start_time": "2024-11-19T20:34:56.021145",
     "status": "completed"
    },
    "tags": []
   },
   "source": [
    "## Create per coarse-grained model, to predict modified mid-grained"
   ]
  },
  {
   "cell_type": "markdown",
   "id": "c1630f09",
   "metadata": {
    "papermill": {
     "duration": 0.007185,
     "end_time": "2024-11-19T20:34:56.044928",
     "exception": false,
     "start_time": "2024-11-19T20:34:56.037743",
     "status": "completed"
    },
    "tags": []
   },
   "source": [
    "* Modified mid-grained: split CCS cells into atiral and ventricular CMs"
   ]
  },
  {
   "cell_type": "code",
   "execution_count": 13,
   "id": "e1d120f1",
   "metadata": {
    "execution": {
     "iopub.execute_input": "2024-11-19T20:34:56.062204Z",
     "iopub.status.busy": "2024-11-19T20:34:56.061862Z",
     "iopub.status.idle": "2024-11-19T20:34:56.095161Z",
     "shell.execute_reply": "2024-11-19T20:34:56.094528Z"
    },
    "papermill": {
     "duration": 0.044325,
     "end_time": "2024-11-19T20:34:56.096684",
     "exception": false,
     "start_time": "2024-11-19T20:34:56.052359",
     "status": "completed"
    },
    "tags": []
   },
   "outputs": [
    {
     "data": {
      "text/plain": [
       "{'AtrioventricularNodePacemakerCells',\n",
       " 'SinoatrialNodePacemakerCells',\n",
       " 'VentricularConductionSystemDistal',\n",
       " 'VentricularConductionSystemProximal'}"
      ]
     },
     "execution_count": 13,
     "metadata": {},
     "output_type": "execute_result"
    }
   ],
   "source": [
    "set(adata[adata.obs['mid_grain']=='CardiacConductionSystem'].obs['fine_grain'])"
   ]
  },
  {
   "cell_type": "code",
   "execution_count": 14,
   "id": "019b98d6",
   "metadata": {
    "execution": {
     "iopub.execute_input": "2024-11-19T20:34:56.115912Z",
     "iopub.status.busy": "2024-11-19T20:34:56.115658Z",
     "iopub.status.idle": "2024-11-19T20:34:56.290710Z",
     "shell.execute_reply": "2024-11-19T20:34:56.290091Z"
    },
    "papermill": {
     "duration": 0.187357,
     "end_time": "2024-11-19T20:34:56.292869",
     "exception": false,
     "start_time": "2024-11-19T20:34:56.105512",
     "status": "completed"
    },
    "tags": []
   },
   "outputs": [],
   "source": [
    "# modify mid-grain cell types\n",
    "CCS_atrial_obsnames = adata.obs_names[adata.obs['fine_grain'].isin(['AtrioventricularNodePacemakerCells','SinoatrialNodePacemakerCells'])]\n",
    "CCS_vent_obsnames = adata.obs_names[adata.obs['fine_grain'].isin(['VentricularConductionSystemDistal','VentricularConductionSystemProximal'])]\n",
    "adata.obs['mid_grain_mod'] = adata.obs['mid_grain'].astype('str').copy()\n",
    "adata.obs.loc[CCS_atrial_obsnames,'mid_grain_mod'] = 'AtrialCardiomyocytes'\n",
    "adata.obs.loc[CCS_vent_obsnames,'mid_grain_mod'] = 'VentricularCardiomyocytes'\n",
    "adata.obs['mid_grain_mod'] = adata.obs['mid_grain_mod'].astype('category')\n",
    "adata.obs['mid_grain_mod'] = adata.obs['mid_grain_mod'].cat.reorder_categories(['AtrialCardiomyocytes', 'VentricularCardiomyocytes',\n",
    "       'Fibroblasts', 'MuralCells',\n",
    "       'PericardialCells', 'BloodVesselEndothelialCells', 'EndocardialCells',\n",
    "       'LymphaticEndothelialCells', 'EpicardialCells', 'Neurons', 'Glia',\n",
    "       'MyeloidCells', 'LymphoidCells'])"
   ]
  },
  {
   "cell_type": "code",
   "execution_count": 15,
   "id": "161c3908",
   "metadata": {
    "execution": {
     "iopub.execute_input": "2024-11-19T20:34:56.311268Z",
     "iopub.status.busy": "2024-11-19T20:34:56.310994Z",
     "iopub.status.idle": "2024-11-19T20:34:56.422497Z",
     "shell.execute_reply": "2024-11-19T20:34:56.421925Z"
    },
    "papermill": {
     "duration": 0.122461,
     "end_time": "2024-11-19T20:34:56.424201",
     "exception": false,
     "start_time": "2024-11-19T20:34:56.301740",
     "status": "completed"
    },
    "tags": []
   },
   "outputs": [
    {
     "data": {
      "text/html": [
       "<div>\n",
       "<style scoped>\n",
       "    .dataframe tbody tr th:only-of-type {\n",
       "        vertical-align: middle;\n",
       "    }\n",
       "\n",
       "    .dataframe tbody tr th {\n",
       "        vertical-align: top;\n",
       "    }\n",
       "\n",
       "    .dataframe thead th {\n",
       "        text-align: right;\n",
       "    }\n",
       "</style>\n",
       "<table border=\"1\" class=\"dataframe\">\n",
       "  <thead>\n",
       "    <tr style=\"text-align: right;\">\n",
       "      <th>coarse_grain</th>\n",
       "      <th>Cardiomyocytes</th>\n",
       "      <th>Mesenchymal</th>\n",
       "      <th>Endothelium</th>\n",
       "      <th>Epicardium</th>\n",
       "      <th>Neural</th>\n",
       "      <th>Leukocytes</th>\n",
       "    </tr>\n",
       "    <tr>\n",
       "      <th>mid_grain_mod</th>\n",
       "      <th></th>\n",
       "      <th></th>\n",
       "      <th></th>\n",
       "      <th></th>\n",
       "      <th></th>\n",
       "      <th></th>\n",
       "    </tr>\n",
       "  </thead>\n",
       "  <tbody>\n",
       "    <tr>\n",
       "      <th>AtrialCardiomyocytes</th>\n",
       "      <td>21616</td>\n",
       "      <td>0</td>\n",
       "      <td>0</td>\n",
       "      <td>0</td>\n",
       "      <td>0</td>\n",
       "      <td>0</td>\n",
       "    </tr>\n",
       "    <tr>\n",
       "      <th>VentricularCardiomyocytes</th>\n",
       "      <td>53268</td>\n",
       "      <td>0</td>\n",
       "      <td>0</td>\n",
       "      <td>0</td>\n",
       "      <td>0</td>\n",
       "      <td>0</td>\n",
       "    </tr>\n",
       "    <tr>\n",
       "      <th>Fibroblasts</th>\n",
       "      <td>0</td>\n",
       "      <td>102791</td>\n",
       "      <td>0</td>\n",
       "      <td>0</td>\n",
       "      <td>0</td>\n",
       "      <td>0</td>\n",
       "    </tr>\n",
       "    <tr>\n",
       "      <th>MuralCells</th>\n",
       "      <td>0</td>\n",
       "      <td>28497</td>\n",
       "      <td>0</td>\n",
       "      <td>0</td>\n",
       "      <td>0</td>\n",
       "      <td>0</td>\n",
       "    </tr>\n",
       "    <tr>\n",
       "      <th>PericardialCells</th>\n",
       "      <td>0</td>\n",
       "      <td>16811</td>\n",
       "      <td>0</td>\n",
       "      <td>0</td>\n",
       "      <td>0</td>\n",
       "      <td>0</td>\n",
       "    </tr>\n",
       "    <tr>\n",
       "      <th>BloodVesselEndothelialCells</th>\n",
       "      <td>0</td>\n",
       "      <td>0</td>\n",
       "      <td>11352</td>\n",
       "      <td>0</td>\n",
       "      <td>0</td>\n",
       "      <td>0</td>\n",
       "    </tr>\n",
       "    <tr>\n",
       "      <th>EndocardialCells</th>\n",
       "      <td>0</td>\n",
       "      <td>0</td>\n",
       "      <td>9346</td>\n",
       "      <td>0</td>\n",
       "      <td>0</td>\n",
       "      <td>0</td>\n",
       "    </tr>\n",
       "    <tr>\n",
       "      <th>LymphaticEndothelialCells</th>\n",
       "      <td>0</td>\n",
       "      <td>0</td>\n",
       "      <td>2411</td>\n",
       "      <td>0</td>\n",
       "      <td>0</td>\n",
       "      <td>0</td>\n",
       "    </tr>\n",
       "    <tr>\n",
       "      <th>EpicardialCells</th>\n",
       "      <td>0</td>\n",
       "      <td>0</td>\n",
       "      <td>0</td>\n",
       "      <td>4186</td>\n",
       "      <td>0</td>\n",
       "      <td>0</td>\n",
       "    </tr>\n",
       "    <tr>\n",
       "      <th>Neurons</th>\n",
       "      <td>0</td>\n",
       "      <td>0</td>\n",
       "      <td>0</td>\n",
       "      <td>0</td>\n",
       "      <td>2608</td>\n",
       "      <td>0</td>\n",
       "    </tr>\n",
       "    <tr>\n",
       "      <th>Glia</th>\n",
       "      <td>0</td>\n",
       "      <td>0</td>\n",
       "      <td>0</td>\n",
       "      <td>0</td>\n",
       "      <td>3541</td>\n",
       "      <td>0</td>\n",
       "    </tr>\n",
       "    <tr>\n",
       "      <th>MyeloidCells</th>\n",
       "      <td>0</td>\n",
       "      <td>0</td>\n",
       "      <td>0</td>\n",
       "      <td>0</td>\n",
       "      <td>0</td>\n",
       "      <td>19962</td>\n",
       "    </tr>\n",
       "    <tr>\n",
       "      <th>LymphoidCells</th>\n",
       "      <td>0</td>\n",
       "      <td>0</td>\n",
       "      <td>0</td>\n",
       "      <td>0</td>\n",
       "      <td>0</td>\n",
       "      <td>21084</td>\n",
       "    </tr>\n",
       "  </tbody>\n",
       "</table>\n",
       "</div>"
      ],
      "text/plain": [
       "coarse_grain                 Cardiomyocytes  Mesenchymal  Endothelium  \\\n",
       "mid_grain_mod                                                           \n",
       "AtrialCardiomyocytes                  21616            0            0   \n",
       "VentricularCardiomyocytes             53268            0            0   \n",
       "Fibroblasts                               0       102791            0   \n",
       "MuralCells                                0        28497            0   \n",
       "PericardialCells                          0        16811            0   \n",
       "BloodVesselEndothelialCells               0            0        11352   \n",
       "EndocardialCells                          0            0         9346   \n",
       "LymphaticEndothelialCells                 0            0         2411   \n",
       "EpicardialCells                           0            0            0   \n",
       "Neurons                                   0            0            0   \n",
       "Glia                                      0            0            0   \n",
       "MyeloidCells                              0            0            0   \n",
       "LymphoidCells                             0            0            0   \n",
       "\n",
       "coarse_grain                 Epicardium  Neural  Leukocytes  \n",
       "mid_grain_mod                                                \n",
       "AtrialCardiomyocytes                  0       0           0  \n",
       "VentricularCardiomyocytes             0       0           0  \n",
       "Fibroblasts                           0       0           0  \n",
       "MuralCells                            0       0           0  \n",
       "PericardialCells                      0       0           0  \n",
       "BloodVesselEndothelialCells           0       0           0  \n",
       "EndocardialCells                      0       0           0  \n",
       "LymphaticEndothelialCells             0       0           0  \n",
       "EpicardialCells                    4186       0           0  \n",
       "Neurons                               0    2608           0  \n",
       "Glia                                  0    3541           0  \n",
       "MyeloidCells                          0       0       19962  \n",
       "LymphoidCells                         0       0       21084  "
      ]
     },
     "execution_count": 15,
     "metadata": {},
     "output_type": "execute_result"
    }
   ],
   "source": [
    "pd.crosstab(adata.obs['mid_grain_mod'],adata.obs['coarse_grain'])"
   ]
  },
  {
   "cell_type": "code",
   "execution_count": 16,
   "id": "bb855763",
   "metadata": {
    "execution": {
     "iopub.execute_input": "2024-11-19T20:34:56.443861Z",
     "iopub.status.busy": "2024-11-19T20:34:56.443612Z",
     "iopub.status.idle": "2024-11-19T21:33:15.981490Z",
     "shell.execute_reply": "2024-11-19T21:33:15.980925Z"
    },
    "papermill": {
     "duration": 3499.549621,
     "end_time": "2024-11-19T21:33:15.983122",
     "exception": false,
     "start_time": "2024-11-19T20:34:56.433501",
     "status": "completed"
    },
    "tags": []
   },
   "outputs": [
    {
     "name": "stdout",
     "output_type": "stream",
     "text": [
      "Cardiomyocytes\n",
      "subsampling\n"
     ]
    },
    {
     "name": "stderr",
     "output_type": "stream",
     "text": [
      "🍳 Preparing data before training\n"
     ]
    },
    {
     "name": "stdout",
     "output_type": "stream",
     "text": [
      "mid_grain_mod\n",
      "AtrialCardiomyocytes         20000\n",
      "VentricularCardiomyocytes    20000\n",
      "Name: count, dtype: int64\n"
     ]
    },
    {
     "name": "stderr",
     "output_type": "stream",
     "text": [
      "✂️ 134 non-expressed genes are filtered out\n"
     ]
    },
    {
     "name": "stderr",
     "output_type": "stream",
     "text": [
      "🔬 Input data has 40000 cells and 4867 genes\n"
     ]
    },
    {
     "name": "stderr",
     "output_type": "stream",
     "text": [
      "⚖️ Scaling input data\n"
     ]
    },
    {
     "name": "stderr",
     "output_type": "stream",
     "text": [
      "🏋️ Training data using logistic regression\n"
     ]
    },
    {
     "name": "stderr",
     "output_type": "stream",
     "text": [
      "✅ Model training done!\n"
     ]
    },
    {
     "name": "stdout",
     "output_type": "stream",
     "text": [
      "\n",
      "Mesenchymal\n",
      "subsampling\n"
     ]
    },
    {
     "name": "stderr",
     "output_type": "stream",
     "text": [
      "🍳 Preparing data before training\n"
     ]
    },
    {
     "name": "stdout",
     "output_type": "stream",
     "text": [
      "mid_grain_mod\n",
      "Fibroblasts         20000\n",
      "MuralCells          20000\n",
      "PericardialCells    16811\n",
      "Name: count, dtype: int64\n"
     ]
    },
    {
     "name": "stderr",
     "output_type": "stream",
     "text": [
      "✂️ 43 non-expressed genes are filtered out\n"
     ]
    },
    {
     "name": "stderr",
     "output_type": "stream",
     "text": [
      "🔬 Input data has 56811 cells and 4958 genes\n"
     ]
    },
    {
     "name": "stderr",
     "output_type": "stream",
     "text": [
      "⚖️ Scaling input data\n"
     ]
    },
    {
     "name": "stderr",
     "output_type": "stream",
     "text": [
      "🏋️ Training data using logistic regression\n"
     ]
    },
    {
     "name": "stderr",
     "output_type": "stream",
     "text": [
      "✅ Model training done!\n"
     ]
    },
    {
     "name": "stderr",
     "output_type": "stream",
     "text": [
      "🍳 Preparing data before training\n"
     ]
    },
    {
     "name": "stdout",
     "output_type": "stream",
     "text": [
      "\n",
      "Endothelium\n",
      "no subsampling\n",
      "mid_grain_mod\n",
      "BloodVesselEndothelialCells    11352\n",
      "EndocardialCells                9346\n",
      "LymphaticEndothelialCells       2411\n",
      "Name: count, dtype: int64\n"
     ]
    },
    {
     "name": "stderr",
     "output_type": "stream",
     "text": [
      "✂️ 85 non-expressed genes are filtered out\n"
     ]
    },
    {
     "name": "stderr",
     "output_type": "stream",
     "text": [
      "🔬 Input data has 23109 cells and 4916 genes\n"
     ]
    },
    {
     "name": "stderr",
     "output_type": "stream",
     "text": [
      "⚖️ Scaling input data\n"
     ]
    },
    {
     "name": "stderr",
     "output_type": "stream",
     "text": [
      "🏋️ Training data using logistic regression\n"
     ]
    },
    {
     "name": "stderr",
     "output_type": "stream",
     "text": [
      "✅ Model training done!\n"
     ]
    },
    {
     "name": "stderr",
     "output_type": "stream",
     "text": [
      "🍳 Preparing data before training\n"
     ]
    },
    {
     "name": "stdout",
     "output_type": "stream",
     "text": [
      "\n",
      "Neural\n",
      "no subsampling\n",
      "mid_grain_mod\n",
      "Glia       3541\n",
      "Neurons    2608\n",
      "Name: count, dtype: int64\n"
     ]
    },
    {
     "name": "stderr",
     "output_type": "stream",
     "text": [
      "✂️ 199 non-expressed genes are filtered out\n"
     ]
    },
    {
     "name": "stderr",
     "output_type": "stream",
     "text": [
      "🔬 Input data has 6149 cells and 4802 genes\n"
     ]
    },
    {
     "name": "stderr",
     "output_type": "stream",
     "text": [
      "⚖️ Scaling input data\n"
     ]
    },
    {
     "name": "stderr",
     "output_type": "stream",
     "text": [
      "🏋️ Training data using logistic regression\n"
     ]
    },
    {
     "name": "stderr",
     "output_type": "stream",
     "text": [
      "✅ Model training done!\n"
     ]
    },
    {
     "name": "stderr",
     "output_type": "stream",
     "text": [
      "🍳 Preparing data before training\n"
     ]
    },
    {
     "name": "stdout",
     "output_type": "stream",
     "text": [
      "\n",
      "Leukocytes\n",
      "no subsampling\n",
      "mid_grain_mod\n",
      "LymphoidCells    21084\n",
      "MyeloidCells     19962\n",
      "Name: count, dtype: int64\n"
     ]
    },
    {
     "name": "stderr",
     "output_type": "stream",
     "text": [
      "✂️ 54 non-expressed genes are filtered out\n"
     ]
    },
    {
     "name": "stderr",
     "output_type": "stream",
     "text": [
      "🔬 Input data has 41046 cells and 4947 genes\n"
     ]
    },
    {
     "name": "stderr",
     "output_type": "stream",
     "text": [
      "⚖️ Scaling input data\n"
     ]
    },
    {
     "name": "stderr",
     "output_type": "stream",
     "text": [
      "🏋️ Training data using logistic regression\n"
     ]
    },
    {
     "name": "stderr",
     "output_type": "stream",
     "text": [
      "✅ Model training done!\n"
     ]
    },
    {
     "name": "stdout",
     "output_type": "stream",
     "text": [
      "\n",
      "CPU times: user 57min 8s, sys: 24.3 s, total: 57min 32s\n",
      "Wall time: 58min 19s\n"
     ]
    }
   ],
   "source": [
    "%%time\n",
    "n_cell_subsample_dict = {\n",
    "    'Cardiomyocytes':20000,\n",
    "    'Mesenchymal':20000,\n",
    "    'Endothelium':None,\n",
    "    # 'Epicardium':None, # only one cell type\n",
    "    'Neural':None,\n",
    "    'Leukocytes':None\n",
    "}\n",
    "label_compartment = 'coarse_grain'\n",
    "label_target = 'mid_grain_mod'\n",
    "\n",
    "for celltype,n_cell_subsample in n_cell_subsample_dict.items():\n",
    "    print(celltype)\n",
    "    # subset\n",
    "    adata_sub = adata[adata.obs[label_compartment]==celltype]\n",
    "    # subsample\n",
    "    if n_cell_subsample!=None:\n",
    "        print('subsampling')\n",
    "        adata_sub = utils.sctk_subsample(adata_sub,fraction=1,groupby=label_target,max_n=n_cell_subsample,random_state=0)\n",
    "    else:\n",
    "        print('no subsampling')\n",
    "    print(adata_sub.obs[label_target].value_counts())\n",
    "    # training\n",
    "    model = celltypist.train(adata_sub,\n",
    "                         labels = label_target,\n",
    "                         n_jobs = 10,\n",
    "                         feature_selection = False, # since manually selected\n",
    "                         check_expression = False\n",
    "                        )\n",
    "    # save model\n",
    "    model.write(f'/nfs/team205/kk18/notebooks/Foetal/Xenium/5K/celltypist_models/coarse2midmod_{celltype}.pkl')\n",
    "    print('')"
   ]
  },
  {
   "cell_type": "code",
   "execution_count": 17,
   "id": "78ba1e90",
   "metadata": {
    "execution": {
     "iopub.execute_input": "2024-11-19T21:33:16.031297Z",
     "iopub.status.busy": "2024-11-19T21:33:16.030983Z",
     "iopub.status.idle": "2024-11-19T21:33:16.049429Z",
     "shell.execute_reply": "2024-11-19T21:33:16.048911Z"
    },
    "papermill": {
     "duration": 0.045549,
     "end_time": "2024-11-19T21:33:16.050790",
     "exception": false,
     "start_time": "2024-11-19T21:33:16.005241",
     "status": "completed"
    },
    "tags": []
   },
   "outputs": [
    {
     "data": {
      "text/plain": [
       "'/nfs/team205/kk18/notebooks/Foetal/Xenium/5K/celltypist_models/bsub'"
      ]
     },
     "execution_count": 17,
     "metadata": {},
     "output_type": "execute_result"
    }
   ],
   "source": [
    "os.getcwd()"
   ]
  },
  {
   "cell_type": "markdown",
   "id": "23f4c0d3",
   "metadata": {
    "papermill": {
     "duration": 0.024101,
     "end_time": "2024-11-19T21:33:16.097072",
     "exception": false,
     "start_time": "2024-11-19T21:33:16.072971",
     "status": "completed"
    },
    "tags": []
   },
   "source": [
    "## Create per mid-grained (modified) model, to predict fine-grained"
   ]
  },
  {
   "cell_type": "code",
   "execution_count": 18,
   "id": "e758b5d4",
   "metadata": {
    "execution": {
     "iopub.execute_input": "2024-11-19T21:33:16.146843Z",
     "iopub.status.busy": "2024-11-19T21:33:16.146555Z",
     "iopub.status.idle": "2024-11-19T21:33:16.296939Z",
     "shell.execute_reply": "2024-11-19T21:33:16.294096Z"
    },
    "papermill": {
     "duration": 0.177347,
     "end_time": "2024-11-19T21:33:16.298538",
     "exception": false,
     "start_time": "2024-11-19T21:33:16.121191",
     "status": "completed"
    },
    "tags": []
   },
   "outputs": [
    {
     "data": {
      "text/html": [
       "<div>\n",
       "<style scoped>\n",
       "    .dataframe tbody tr th:only-of-type {\n",
       "        vertical-align: middle;\n",
       "    }\n",
       "\n",
       "    .dataframe tbody tr th {\n",
       "        vertical-align: top;\n",
       "    }\n",
       "\n",
       "    .dataframe thead th {\n",
       "        text-align: right;\n",
       "    }\n",
       "</style>\n",
       "<table border=\"1\" class=\"dataframe\">\n",
       "  <thead>\n",
       "    <tr style=\"text-align: right;\">\n",
       "      <th>mid_grain_mod</th>\n",
       "      <th>AtrialCardiomyocytes</th>\n",
       "      <th>VentricularCardiomyocytes</th>\n",
       "      <th>Fibroblasts</th>\n",
       "      <th>MuralCells</th>\n",
       "      <th>PericardialCells</th>\n",
       "      <th>BloodVesselEndothelialCells</th>\n",
       "      <th>EndocardialCells</th>\n",
       "      <th>LymphaticEndothelialCells</th>\n",
       "      <th>EpicardialCells</th>\n",
       "      <th>Neurons</th>\n",
       "      <th>Glia</th>\n",
       "      <th>MyeloidCells</th>\n",
       "      <th>LymphoidCells</th>\n",
       "    </tr>\n",
       "    <tr>\n",
       "      <th>fine_grain</th>\n",
       "      <th></th>\n",
       "      <th></th>\n",
       "      <th></th>\n",
       "      <th></th>\n",
       "      <th></th>\n",
       "      <th></th>\n",
       "      <th></th>\n",
       "      <th></th>\n",
       "      <th></th>\n",
       "      <th></th>\n",
       "      <th></th>\n",
       "      <th></th>\n",
       "      <th></th>\n",
       "    </tr>\n",
       "  </thead>\n",
       "  <tbody>\n",
       "    <tr>\n",
       "      <th>AtrialCardiomyocytesLeft</th>\n",
       "      <td>6606</td>\n",
       "      <td>0</td>\n",
       "      <td>0</td>\n",
       "      <td>0</td>\n",
       "      <td>0</td>\n",
       "      <td>0</td>\n",
       "      <td>0</td>\n",
       "      <td>0</td>\n",
       "      <td>0</td>\n",
       "      <td>0</td>\n",
       "      <td>0</td>\n",
       "      <td>0</td>\n",
       "      <td>0</td>\n",
       "    </tr>\n",
       "    <tr>\n",
       "      <th>AtrialCardiomyocytesRight</th>\n",
       "      <td>10696</td>\n",
       "      <td>0</td>\n",
       "      <td>0</td>\n",
       "      <td>0</td>\n",
       "      <td>0</td>\n",
       "      <td>0</td>\n",
       "      <td>0</td>\n",
       "      <td>0</td>\n",
       "      <td>0</td>\n",
       "      <td>0</td>\n",
       "      <td>0</td>\n",
       "      <td>0</td>\n",
       "      <td>0</td>\n",
       "    </tr>\n",
       "    <tr>\n",
       "      <th>AtrialCardiomyocytesCycling</th>\n",
       "      <td>2396</td>\n",
       "      <td>0</td>\n",
       "      <td>0</td>\n",
       "      <td>0</td>\n",
       "      <td>0</td>\n",
       "      <td>0</td>\n",
       "      <td>0</td>\n",
       "      <td>0</td>\n",
       "      <td>0</td>\n",
       "      <td>0</td>\n",
       "      <td>0</td>\n",
       "      <td>0</td>\n",
       "      <td>0</td>\n",
       "    </tr>\n",
       "    <tr>\n",
       "      <th>VentricularCardiomyocytesLeftCompact</th>\n",
       "      <td>0</td>\n",
       "      <td>15591</td>\n",
       "      <td>0</td>\n",
       "      <td>0</td>\n",
       "      <td>0</td>\n",
       "      <td>0</td>\n",
       "      <td>0</td>\n",
       "      <td>0</td>\n",
       "      <td>0</td>\n",
       "      <td>0</td>\n",
       "      <td>0</td>\n",
       "      <td>0</td>\n",
       "      <td>0</td>\n",
       "    </tr>\n",
       "    <tr>\n",
       "      <th>VentricularCardiomyocytesRightCompact</th>\n",
       "      <td>0</td>\n",
       "      <td>16215</td>\n",
       "      <td>0</td>\n",
       "      <td>0</td>\n",
       "      <td>0</td>\n",
       "      <td>0</td>\n",
       "      <td>0</td>\n",
       "      <td>0</td>\n",
       "      <td>0</td>\n",
       "      <td>0</td>\n",
       "      <td>0</td>\n",
       "      <td>0</td>\n",
       "      <td>0</td>\n",
       "    </tr>\n",
       "    <tr>\n",
       "      <th>VentricularCardiomyocytesLeftTrabeculated</th>\n",
       "      <td>0</td>\n",
       "      <td>6997</td>\n",
       "      <td>0</td>\n",
       "      <td>0</td>\n",
       "      <td>0</td>\n",
       "      <td>0</td>\n",
       "      <td>0</td>\n",
       "      <td>0</td>\n",
       "      <td>0</td>\n",
       "      <td>0</td>\n",
       "      <td>0</td>\n",
       "      <td>0</td>\n",
       "      <td>0</td>\n",
       "    </tr>\n",
       "    <tr>\n",
       "      <th>VentricularCardiomyocytesRightTrabeculated</th>\n",
       "      <td>0</td>\n",
       "      <td>3101</td>\n",
       "      <td>0</td>\n",
       "      <td>0</td>\n",
       "      <td>0</td>\n",
       "      <td>0</td>\n",
       "      <td>0</td>\n",
       "      <td>0</td>\n",
       "      <td>0</td>\n",
       "      <td>0</td>\n",
       "      <td>0</td>\n",
       "      <td>0</td>\n",
       "      <td>0</td>\n",
       "    </tr>\n",
       "    <tr>\n",
       "      <th>VentricularCardiomyocytesCycling</th>\n",
       "      <td>0</td>\n",
       "      <td>8195</td>\n",
       "      <td>0</td>\n",
       "      <td>0</td>\n",
       "      <td>0</td>\n",
       "      <td>0</td>\n",
       "      <td>0</td>\n",
       "      <td>0</td>\n",
       "      <td>0</td>\n",
       "      <td>0</td>\n",
       "      <td>0</td>\n",
       "      <td>0</td>\n",
       "      <td>0</td>\n",
       "    </tr>\n",
       "    <tr>\n",
       "      <th>SinoatrialNodePacemakerCells</th>\n",
       "      <td>981</td>\n",
       "      <td>0</td>\n",
       "      <td>0</td>\n",
       "      <td>0</td>\n",
       "      <td>0</td>\n",
       "      <td>0</td>\n",
       "      <td>0</td>\n",
       "      <td>0</td>\n",
       "      <td>0</td>\n",
       "      <td>0</td>\n",
       "      <td>0</td>\n",
       "      <td>0</td>\n",
       "      <td>0</td>\n",
       "    </tr>\n",
       "    <tr>\n",
       "      <th>AtrioventricularNodePacemakerCells</th>\n",
       "      <td>937</td>\n",
       "      <td>0</td>\n",
       "      <td>0</td>\n",
       "      <td>0</td>\n",
       "      <td>0</td>\n",
       "      <td>0</td>\n",
       "      <td>0</td>\n",
       "      <td>0</td>\n",
       "      <td>0</td>\n",
       "      <td>0</td>\n",
       "      <td>0</td>\n",
       "      <td>0</td>\n",
       "      <td>0</td>\n",
       "    </tr>\n",
       "    <tr>\n",
       "      <th>VentricularConductionSystemProximal</th>\n",
       "      <td>0</td>\n",
       "      <td>2209</td>\n",
       "      <td>0</td>\n",
       "      <td>0</td>\n",
       "      <td>0</td>\n",
       "      <td>0</td>\n",
       "      <td>0</td>\n",
       "      <td>0</td>\n",
       "      <td>0</td>\n",
       "      <td>0</td>\n",
       "      <td>0</td>\n",
       "      <td>0</td>\n",
       "      <td>0</td>\n",
       "    </tr>\n",
       "    <tr>\n",
       "      <th>VentricularConductionSystemDistal</th>\n",
       "      <td>0</td>\n",
       "      <td>960</td>\n",
       "      <td>0</td>\n",
       "      <td>0</td>\n",
       "      <td>0</td>\n",
       "      <td>0</td>\n",
       "      <td>0</td>\n",
       "      <td>0</td>\n",
       "      <td>0</td>\n",
       "      <td>0</td>\n",
       "      <td>0</td>\n",
       "      <td>0</td>\n",
       "      <td>0</td>\n",
       "    </tr>\n",
       "    <tr>\n",
       "      <th>GreatVesselAdventitialFibroblasts</th>\n",
       "      <td>0</td>\n",
       "      <td>0</td>\n",
       "      <td>61593</td>\n",
       "      <td>0</td>\n",
       "      <td>0</td>\n",
       "      <td>0</td>\n",
       "      <td>0</td>\n",
       "      <td>0</td>\n",
       "      <td>0</td>\n",
       "      <td>0</td>\n",
       "      <td>0</td>\n",
       "      <td>0</td>\n",
       "      <td>0</td>\n",
       "    </tr>\n",
       "    <tr>\n",
       "      <th>CoronaryVesselAdventitialFibroblasts</th>\n",
       "      <td>0</td>\n",
       "      <td>0</td>\n",
       "      <td>3651</td>\n",
       "      <td>0</td>\n",
       "      <td>0</td>\n",
       "      <td>0</td>\n",
       "      <td>0</td>\n",
       "      <td>0</td>\n",
       "      <td>0</td>\n",
       "      <td>0</td>\n",
       "      <td>0</td>\n",
       "      <td>0</td>\n",
       "      <td>0</td>\n",
       "    </tr>\n",
       "    <tr>\n",
       "      <th>MyocardialInterstitialFibroblasts</th>\n",
       "      <td>0</td>\n",
       "      <td>0</td>\n",
       "      <td>13880</td>\n",
       "      <td>0</td>\n",
       "      <td>0</td>\n",
       "      <td>0</td>\n",
       "      <td>0</td>\n",
       "      <td>0</td>\n",
       "      <td>0</td>\n",
       "      <td>0</td>\n",
       "      <td>0</td>\n",
       "      <td>0</td>\n",
       "      <td>0</td>\n",
       "    </tr>\n",
       "    <tr>\n",
       "      <th>SubEpicardialFibroblasts</th>\n",
       "      <td>0</td>\n",
       "      <td>0</td>\n",
       "      <td>9119</td>\n",
       "      <td>0</td>\n",
       "      <td>0</td>\n",
       "      <td>0</td>\n",
       "      <td>0</td>\n",
       "      <td>0</td>\n",
       "      <td>0</td>\n",
       "      <td>0</td>\n",
       "      <td>0</td>\n",
       "      <td>0</td>\n",
       "      <td>0</td>\n",
       "    </tr>\n",
       "    <tr>\n",
       "      <th>Myofibroblasts</th>\n",
       "      <td>0</td>\n",
       "      <td>0</td>\n",
       "      <td>5995</td>\n",
       "      <td>0</td>\n",
       "      <td>0</td>\n",
       "      <td>0</td>\n",
       "      <td>0</td>\n",
       "      <td>0</td>\n",
       "      <td>0</td>\n",
       "      <td>0</td>\n",
       "      <td>0</td>\n",
       "      <td>0</td>\n",
       "      <td>0</td>\n",
       "    </tr>\n",
       "    <tr>\n",
       "      <th>LymphNodeFibroblasticReticularCells</th>\n",
       "      <td>0</td>\n",
       "      <td>0</td>\n",
       "      <td>1155</td>\n",
       "      <td>0</td>\n",
       "      <td>0</td>\n",
       "      <td>0</td>\n",
       "      <td>0</td>\n",
       "      <td>0</td>\n",
       "      <td>0</td>\n",
       "      <td>0</td>\n",
       "      <td>0</td>\n",
       "      <td>0</td>\n",
       "      <td>0</td>\n",
       "    </tr>\n",
       "    <tr>\n",
       "      <th>ValveInterstitialCells</th>\n",
       "      <td>0</td>\n",
       "      <td>0</td>\n",
       "      <td>7398</td>\n",
       "      <td>0</td>\n",
       "      <td>0</td>\n",
       "      <td>0</td>\n",
       "      <td>0</td>\n",
       "      <td>0</td>\n",
       "      <td>0</td>\n",
       "      <td>0</td>\n",
       "      <td>0</td>\n",
       "      <td>0</td>\n",
       "      <td>0</td>\n",
       "    </tr>\n",
       "    <tr>\n",
       "      <th>GreatVesselSmoothMuscleCells</th>\n",
       "      <td>0</td>\n",
       "      <td>0</td>\n",
       "      <td>0</td>\n",
       "      <td>22992</td>\n",
       "      <td>0</td>\n",
       "      <td>0</td>\n",
       "      <td>0</td>\n",
       "      <td>0</td>\n",
       "      <td>0</td>\n",
       "      <td>0</td>\n",
       "      <td>0</td>\n",
       "      <td>0</td>\n",
       "      <td>0</td>\n",
       "    </tr>\n",
       "    <tr>\n",
       "      <th>CoronarySmoothMuscleCells</th>\n",
       "      <td>0</td>\n",
       "      <td>0</td>\n",
       "      <td>0</td>\n",
       "      <td>1895</td>\n",
       "      <td>0</td>\n",
       "      <td>0</td>\n",
       "      <td>0</td>\n",
       "      <td>0</td>\n",
       "      <td>0</td>\n",
       "      <td>0</td>\n",
       "      <td>0</td>\n",
       "      <td>0</td>\n",
       "      <td>0</td>\n",
       "    </tr>\n",
       "    <tr>\n",
       "      <th>DuctusArteriosusSmoothMuscleCells</th>\n",
       "      <td>0</td>\n",
       "      <td>0</td>\n",
       "      <td>0</td>\n",
       "      <td>1479</td>\n",
       "      <td>0</td>\n",
       "      <td>0</td>\n",
       "      <td>0</td>\n",
       "      <td>0</td>\n",
       "      <td>0</td>\n",
       "      <td>0</td>\n",
       "      <td>0</td>\n",
       "      <td>0</td>\n",
       "      <td>0</td>\n",
       "    </tr>\n",
       "    <tr>\n",
       "      <th>CoronaryPericytes</th>\n",
       "      <td>0</td>\n",
       "      <td>0</td>\n",
       "      <td>0</td>\n",
       "      <td>2131</td>\n",
       "      <td>0</td>\n",
       "      <td>0</td>\n",
       "      <td>0</td>\n",
       "      <td>0</td>\n",
       "      <td>0</td>\n",
       "      <td>0</td>\n",
       "      <td>0</td>\n",
       "      <td>0</td>\n",
       "      <td>0</td>\n",
       "    </tr>\n",
       "    <tr>\n",
       "      <th>PericardialCellsIntermediate</th>\n",
       "      <td>0</td>\n",
       "      <td>0</td>\n",
       "      <td>0</td>\n",
       "      <td>0</td>\n",
       "      <td>13040</td>\n",
       "      <td>0</td>\n",
       "      <td>0</td>\n",
       "      <td>0</td>\n",
       "      <td>0</td>\n",
       "      <td>0</td>\n",
       "      <td>0</td>\n",
       "      <td>0</td>\n",
       "      <td>0</td>\n",
       "    </tr>\n",
       "    <tr>\n",
       "      <th>PericardialCellsFibrous</th>\n",
       "      <td>0</td>\n",
       "      <td>0</td>\n",
       "      <td>0</td>\n",
       "      <td>0</td>\n",
       "      <td>2018</td>\n",
       "      <td>0</td>\n",
       "      <td>0</td>\n",
       "      <td>0</td>\n",
       "      <td>0</td>\n",
       "      <td>0</td>\n",
       "      <td>0</td>\n",
       "      <td>0</td>\n",
       "      <td>0</td>\n",
       "    </tr>\n",
       "    <tr>\n",
       "      <th>PericardialCellsParietal</th>\n",
       "      <td>0</td>\n",
       "      <td>0</td>\n",
       "      <td>0</td>\n",
       "      <td>0</td>\n",
       "      <td>1753</td>\n",
       "      <td>0</td>\n",
       "      <td>0</td>\n",
       "      <td>0</td>\n",
       "      <td>0</td>\n",
       "      <td>0</td>\n",
       "      <td>0</td>\n",
       "      <td>0</td>\n",
       "      <td>0</td>\n",
       "    </tr>\n",
       "    <tr>\n",
       "      <th>GreatVesselArterialEndothelialCells</th>\n",
       "      <td>0</td>\n",
       "      <td>0</td>\n",
       "      <td>0</td>\n",
       "      <td>0</td>\n",
       "      <td>0</td>\n",
       "      <td>2274</td>\n",
       "      <td>0</td>\n",
       "      <td>0</td>\n",
       "      <td>0</td>\n",
       "      <td>0</td>\n",
       "      <td>0</td>\n",
       "      <td>0</td>\n",
       "      <td>0</td>\n",
       "    </tr>\n",
       "    <tr>\n",
       "      <th>GreatVesselVenousEndothelialCells</th>\n",
       "      <td>0</td>\n",
       "      <td>0</td>\n",
       "      <td>0</td>\n",
       "      <td>0</td>\n",
       "      <td>0</td>\n",
       "      <td>703</td>\n",
       "      <td>0</td>\n",
       "      <td>0</td>\n",
       "      <td>0</td>\n",
       "      <td>0</td>\n",
       "      <td>0</td>\n",
       "      <td>0</td>\n",
       "      <td>0</td>\n",
       "    </tr>\n",
       "    <tr>\n",
       "      <th>CoronaryArterialEndothelialCells</th>\n",
       "      <td>0</td>\n",
       "      <td>0</td>\n",
       "      <td>0</td>\n",
       "      <td>0</td>\n",
       "      <td>0</td>\n",
       "      <td>846</td>\n",
       "      <td>0</td>\n",
       "      <td>0</td>\n",
       "      <td>0</td>\n",
       "      <td>0</td>\n",
       "      <td>0</td>\n",
       "      <td>0</td>\n",
       "      <td>0</td>\n",
       "    </tr>\n",
       "    <tr>\n",
       "      <th>CoronaryVenousEndothelialCells</th>\n",
       "      <td>0</td>\n",
       "      <td>0</td>\n",
       "      <td>0</td>\n",
       "      <td>0</td>\n",
       "      <td>0</td>\n",
       "      <td>1137</td>\n",
       "      <td>0</td>\n",
       "      <td>0</td>\n",
       "      <td>0</td>\n",
       "      <td>0</td>\n",
       "      <td>0</td>\n",
       "      <td>0</td>\n",
       "      <td>0</td>\n",
       "    </tr>\n",
       "    <tr>\n",
       "      <th>CoronaryCapillaryEndothelialCells</th>\n",
       "      <td>0</td>\n",
       "      <td>0</td>\n",
       "      <td>0</td>\n",
       "      <td>0</td>\n",
       "      <td>0</td>\n",
       "      <td>6392</td>\n",
       "      <td>0</td>\n",
       "      <td>0</td>\n",
       "      <td>0</td>\n",
       "      <td>0</td>\n",
       "      <td>0</td>\n",
       "      <td>0</td>\n",
       "      <td>0</td>\n",
       "    </tr>\n",
       "    <tr>\n",
       "      <th>EndocardialCells</th>\n",
       "      <td>0</td>\n",
       "      <td>0</td>\n",
       "      <td>0</td>\n",
       "      <td>0</td>\n",
       "      <td>0</td>\n",
       "      <td>0</td>\n",
       "      <td>7431</td>\n",
       "      <td>0</td>\n",
       "      <td>0</td>\n",
       "      <td>0</td>\n",
       "      <td>0</td>\n",
       "      <td>0</td>\n",
       "      <td>0</td>\n",
       "    </tr>\n",
       "    <tr>\n",
       "      <th>EndocardialCushionCells</th>\n",
       "      <td>0</td>\n",
       "      <td>0</td>\n",
       "      <td>0</td>\n",
       "      <td>0</td>\n",
       "      <td>0</td>\n",
       "      <td>0</td>\n",
       "      <td>619</td>\n",
       "      <td>0</td>\n",
       "      <td>0</td>\n",
       "      <td>0</td>\n",
       "      <td>0</td>\n",
       "      <td>0</td>\n",
       "      <td>0</td>\n",
       "    </tr>\n",
       "    <tr>\n",
       "      <th>ValveEndothelialCells</th>\n",
       "      <td>0</td>\n",
       "      <td>0</td>\n",
       "      <td>0</td>\n",
       "      <td>0</td>\n",
       "      <td>0</td>\n",
       "      <td>0</td>\n",
       "      <td>1296</td>\n",
       "      <td>0</td>\n",
       "      <td>0</td>\n",
       "      <td>0</td>\n",
       "      <td>0</td>\n",
       "      <td>0</td>\n",
       "      <td>0</td>\n",
       "    </tr>\n",
       "    <tr>\n",
       "      <th>LymphaticEndothelialCells</th>\n",
       "      <td>0</td>\n",
       "      <td>0</td>\n",
       "      <td>0</td>\n",
       "      <td>0</td>\n",
       "      <td>0</td>\n",
       "      <td>0</td>\n",
       "      <td>0</td>\n",
       "      <td>2411</td>\n",
       "      <td>0</td>\n",
       "      <td>0</td>\n",
       "      <td>0</td>\n",
       "      <td>0</td>\n",
       "      <td>0</td>\n",
       "    </tr>\n",
       "    <tr>\n",
       "      <th>MesothelialEpicardialCells</th>\n",
       "      <td>0</td>\n",
       "      <td>0</td>\n",
       "      <td>0</td>\n",
       "      <td>0</td>\n",
       "      <td>0</td>\n",
       "      <td>0</td>\n",
       "      <td>0</td>\n",
       "      <td>0</td>\n",
       "      <td>2839</td>\n",
       "      <td>0</td>\n",
       "      <td>0</td>\n",
       "      <td>0</td>\n",
       "      <td>0</td>\n",
       "    </tr>\n",
       "    <tr>\n",
       "      <th>EpicardiumDerivedCells</th>\n",
       "      <td>0</td>\n",
       "      <td>0</td>\n",
       "      <td>0</td>\n",
       "      <td>0</td>\n",
       "      <td>0</td>\n",
       "      <td>0</td>\n",
       "      <td>0</td>\n",
       "      <td>0</td>\n",
       "      <td>1347</td>\n",
       "      <td>0</td>\n",
       "      <td>0</td>\n",
       "      <td>0</td>\n",
       "      <td>0</td>\n",
       "    </tr>\n",
       "    <tr>\n",
       "      <th>NeuronPrecursors</th>\n",
       "      <td>0</td>\n",
       "      <td>0</td>\n",
       "      <td>0</td>\n",
       "      <td>0</td>\n",
       "      <td>0</td>\n",
       "      <td>0</td>\n",
       "      <td>0</td>\n",
       "      <td>0</td>\n",
       "      <td>0</td>\n",
       "      <td>776</td>\n",
       "      <td>0</td>\n",
       "      <td>0</td>\n",
       "      <td>0</td>\n",
       "    </tr>\n",
       "    <tr>\n",
       "      <th>ChromaffinCells</th>\n",
       "      <td>0</td>\n",
       "      <td>0</td>\n",
       "      <td>0</td>\n",
       "      <td>0</td>\n",
       "      <td>0</td>\n",
       "      <td>0</td>\n",
       "      <td>0</td>\n",
       "      <td>0</td>\n",
       "      <td>0</td>\n",
       "      <td>228</td>\n",
       "      <td>0</td>\n",
       "      <td>0</td>\n",
       "      <td>0</td>\n",
       "    </tr>\n",
       "    <tr>\n",
       "      <th>SympatheticNeurons</th>\n",
       "      <td>0</td>\n",
       "      <td>0</td>\n",
       "      <td>0</td>\n",
       "      <td>0</td>\n",
       "      <td>0</td>\n",
       "      <td>0</td>\n",
       "      <td>0</td>\n",
       "      <td>0</td>\n",
       "      <td>0</td>\n",
       "      <td>1055</td>\n",
       "      <td>0</td>\n",
       "      <td>0</td>\n",
       "      <td>0</td>\n",
       "    </tr>\n",
       "    <tr>\n",
       "      <th>ParasympatheticNeurons</th>\n",
       "      <td>0</td>\n",
       "      <td>0</td>\n",
       "      <td>0</td>\n",
       "      <td>0</td>\n",
       "      <td>0</td>\n",
       "      <td>0</td>\n",
       "      <td>0</td>\n",
       "      <td>0</td>\n",
       "      <td>0</td>\n",
       "      <td>549</td>\n",
       "      <td>0</td>\n",
       "      <td>0</td>\n",
       "      <td>0</td>\n",
       "    </tr>\n",
       "    <tr>\n",
       "      <th>SchwannCellPrecursors</th>\n",
       "      <td>0</td>\n",
       "      <td>0</td>\n",
       "      <td>0</td>\n",
       "      <td>0</td>\n",
       "      <td>0</td>\n",
       "      <td>0</td>\n",
       "      <td>0</td>\n",
       "      <td>0</td>\n",
       "      <td>0</td>\n",
       "      <td>0</td>\n",
       "      <td>1278</td>\n",
       "      <td>0</td>\n",
       "      <td>0</td>\n",
       "    </tr>\n",
       "    <tr>\n",
       "      <th>SchwannCells</th>\n",
       "      <td>0</td>\n",
       "      <td>0</td>\n",
       "      <td>0</td>\n",
       "      <td>0</td>\n",
       "      <td>0</td>\n",
       "      <td>0</td>\n",
       "      <td>0</td>\n",
       "      <td>0</td>\n",
       "      <td>0</td>\n",
       "      <td>0</td>\n",
       "      <td>2263</td>\n",
       "      <td>0</td>\n",
       "      <td>0</td>\n",
       "    </tr>\n",
       "    <tr>\n",
       "      <th>MonocytesMPOpos</th>\n",
       "      <td>0</td>\n",
       "      <td>0</td>\n",
       "      <td>0</td>\n",
       "      <td>0</td>\n",
       "      <td>0</td>\n",
       "      <td>0</td>\n",
       "      <td>0</td>\n",
       "      <td>0</td>\n",
       "      <td>0</td>\n",
       "      <td>0</td>\n",
       "      <td>0</td>\n",
       "      <td>414</td>\n",
       "      <td>0</td>\n",
       "    </tr>\n",
       "    <tr>\n",
       "      <th>Monocytes</th>\n",
       "      <td>0</td>\n",
       "      <td>0</td>\n",
       "      <td>0</td>\n",
       "      <td>0</td>\n",
       "      <td>0</td>\n",
       "      <td>0</td>\n",
       "      <td>0</td>\n",
       "      <td>0</td>\n",
       "      <td>0</td>\n",
       "      <td>0</td>\n",
       "      <td>0</td>\n",
       "      <td>900</td>\n",
       "      <td>0</td>\n",
       "    </tr>\n",
       "    <tr>\n",
       "      <th>MonocyteDerivedCells</th>\n",
       "      <td>0</td>\n",
       "      <td>0</td>\n",
       "      <td>0</td>\n",
       "      <td>0</td>\n",
       "      <td>0</td>\n",
       "      <td>0</td>\n",
       "      <td>0</td>\n",
       "      <td>0</td>\n",
       "      <td>0</td>\n",
       "      <td>0</td>\n",
       "      <td>0</td>\n",
       "      <td>661</td>\n",
       "      <td>0</td>\n",
       "    </tr>\n",
       "    <tr>\n",
       "      <th>MacrophagesCX3CR1pos</th>\n",
       "      <td>0</td>\n",
       "      <td>0</td>\n",
       "      <td>0</td>\n",
       "      <td>0</td>\n",
       "      <td>0</td>\n",
       "      <td>0</td>\n",
       "      <td>0</td>\n",
       "      <td>0</td>\n",
       "      <td>0</td>\n",
       "      <td>0</td>\n",
       "      <td>0</td>\n",
       "      <td>2046</td>\n",
       "      <td>0</td>\n",
       "    </tr>\n",
       "    <tr>\n",
       "      <th>MacrophagesTIMD4pos</th>\n",
       "      <td>0</td>\n",
       "      <td>0</td>\n",
       "      <td>0</td>\n",
       "      <td>0</td>\n",
       "      <td>0</td>\n",
       "      <td>0</td>\n",
       "      <td>0</td>\n",
       "      <td>0</td>\n",
       "      <td>0</td>\n",
       "      <td>0</td>\n",
       "      <td>0</td>\n",
       "      <td>470</td>\n",
       "      <td>0</td>\n",
       "    </tr>\n",
       "    <tr>\n",
       "      <th>MacrophagesLYVE1pos</th>\n",
       "      <td>0</td>\n",
       "      <td>0</td>\n",
       "      <td>0</td>\n",
       "      <td>0</td>\n",
       "      <td>0</td>\n",
       "      <td>0</td>\n",
       "      <td>0</td>\n",
       "      <td>0</td>\n",
       "      <td>0</td>\n",
       "      <td>0</td>\n",
       "      <td>0</td>\n",
       "      <td>11000</td>\n",
       "      <td>0</td>\n",
       "    </tr>\n",
       "    <tr>\n",
       "      <th>MacrophagesATF3pos</th>\n",
       "      <td>0</td>\n",
       "      <td>0</td>\n",
       "      <td>0</td>\n",
       "      <td>0</td>\n",
       "      <td>0</td>\n",
       "      <td>0</td>\n",
       "      <td>0</td>\n",
       "      <td>0</td>\n",
       "      <td>0</td>\n",
       "      <td>0</td>\n",
       "      <td>0</td>\n",
       "      <td>1844</td>\n",
       "      <td>0</td>\n",
       "    </tr>\n",
       "    <tr>\n",
       "      <th>DendriticCellsType1</th>\n",
       "      <td>0</td>\n",
       "      <td>0</td>\n",
       "      <td>0</td>\n",
       "      <td>0</td>\n",
       "      <td>0</td>\n",
       "      <td>0</td>\n",
       "      <td>0</td>\n",
       "      <td>0</td>\n",
       "      <td>0</td>\n",
       "      <td>0</td>\n",
       "      <td>0</td>\n",
       "      <td>609</td>\n",
       "      <td>0</td>\n",
       "    </tr>\n",
       "    <tr>\n",
       "      <th>DendriticCellsMature</th>\n",
       "      <td>0</td>\n",
       "      <td>0</td>\n",
       "      <td>0</td>\n",
       "      <td>0</td>\n",
       "      <td>0</td>\n",
       "      <td>0</td>\n",
       "      <td>0</td>\n",
       "      <td>0</td>\n",
       "      <td>0</td>\n",
       "      <td>0</td>\n",
       "      <td>0</td>\n",
       "      <td>184</td>\n",
       "      <td>0</td>\n",
       "    </tr>\n",
       "    <tr>\n",
       "      <th>PlasmacytoidDendriticCells</th>\n",
       "      <td>0</td>\n",
       "      <td>0</td>\n",
       "      <td>0</td>\n",
       "      <td>0</td>\n",
       "      <td>0</td>\n",
       "      <td>0</td>\n",
       "      <td>0</td>\n",
       "      <td>0</td>\n",
       "      <td>0</td>\n",
       "      <td>0</td>\n",
       "      <td>0</td>\n",
       "      <td>608</td>\n",
       "      <td>0</td>\n",
       "    </tr>\n",
       "    <tr>\n",
       "      <th>MastCells</th>\n",
       "      <td>0</td>\n",
       "      <td>0</td>\n",
       "      <td>0</td>\n",
       "      <td>0</td>\n",
       "      <td>0</td>\n",
       "      <td>0</td>\n",
       "      <td>0</td>\n",
       "      <td>0</td>\n",
       "      <td>0</td>\n",
       "      <td>0</td>\n",
       "      <td>0</td>\n",
       "      <td>866</td>\n",
       "      <td>0</td>\n",
       "    </tr>\n",
       "    <tr>\n",
       "      <th>Megakaryocytes</th>\n",
       "      <td>0</td>\n",
       "      <td>0</td>\n",
       "      <td>0</td>\n",
       "      <td>0</td>\n",
       "      <td>0</td>\n",
       "      <td>0</td>\n",
       "      <td>0</td>\n",
       "      <td>0</td>\n",
       "      <td>0</td>\n",
       "      <td>0</td>\n",
       "      <td>0</td>\n",
       "      <td>360</td>\n",
       "      <td>0</td>\n",
       "    </tr>\n",
       "    <tr>\n",
       "      <th>TCellsCD4pos</th>\n",
       "      <td>0</td>\n",
       "      <td>0</td>\n",
       "      <td>0</td>\n",
       "      <td>0</td>\n",
       "      <td>0</td>\n",
       "      <td>0</td>\n",
       "      <td>0</td>\n",
       "      <td>0</td>\n",
       "      <td>0</td>\n",
       "      <td>0</td>\n",
       "      <td>0</td>\n",
       "      <td>0</td>\n",
       "      <td>5660</td>\n",
       "    </tr>\n",
       "    <tr>\n",
       "      <th>TCellsCD8pos</th>\n",
       "      <td>0</td>\n",
       "      <td>0</td>\n",
       "      <td>0</td>\n",
       "      <td>0</td>\n",
       "      <td>0</td>\n",
       "      <td>0</td>\n",
       "      <td>0</td>\n",
       "      <td>0</td>\n",
       "      <td>0</td>\n",
       "      <td>0</td>\n",
       "      <td>0</td>\n",
       "      <td>0</td>\n",
       "      <td>2297</td>\n",
       "    </tr>\n",
       "    <tr>\n",
       "      <th>TregsCD4pos</th>\n",
       "      <td>0</td>\n",
       "      <td>0</td>\n",
       "      <td>0</td>\n",
       "      <td>0</td>\n",
       "      <td>0</td>\n",
       "      <td>0</td>\n",
       "      <td>0</td>\n",
       "      <td>0</td>\n",
       "      <td>0</td>\n",
       "      <td>0</td>\n",
       "      <td>0</td>\n",
       "      <td>0</td>\n",
       "      <td>2096</td>\n",
       "    </tr>\n",
       "    <tr>\n",
       "      <th>ProBCells</th>\n",
       "      <td>0</td>\n",
       "      <td>0</td>\n",
       "      <td>0</td>\n",
       "      <td>0</td>\n",
       "      <td>0</td>\n",
       "      <td>0</td>\n",
       "      <td>0</td>\n",
       "      <td>0</td>\n",
       "      <td>0</td>\n",
       "      <td>0</td>\n",
       "      <td>0</td>\n",
       "      <td>0</td>\n",
       "      <td>1301</td>\n",
       "    </tr>\n",
       "    <tr>\n",
       "      <th>BCells</th>\n",
       "      <td>0</td>\n",
       "      <td>0</td>\n",
       "      <td>0</td>\n",
       "      <td>0</td>\n",
       "      <td>0</td>\n",
       "      <td>0</td>\n",
       "      <td>0</td>\n",
       "      <td>0</td>\n",
       "      <td>0</td>\n",
       "      <td>0</td>\n",
       "      <td>0</td>\n",
       "      <td>0</td>\n",
       "      <td>2058</td>\n",
       "    </tr>\n",
       "    <tr>\n",
       "      <th>BCellsMS4A1pos</th>\n",
       "      <td>0</td>\n",
       "      <td>0</td>\n",
       "      <td>0</td>\n",
       "      <td>0</td>\n",
       "      <td>0</td>\n",
       "      <td>0</td>\n",
       "      <td>0</td>\n",
       "      <td>0</td>\n",
       "      <td>0</td>\n",
       "      <td>0</td>\n",
       "      <td>0</td>\n",
       "      <td>0</td>\n",
       "      <td>3470</td>\n",
       "    </tr>\n",
       "    <tr>\n",
       "      <th>NaturalKillerCells</th>\n",
       "      <td>0</td>\n",
       "      <td>0</td>\n",
       "      <td>0</td>\n",
       "      <td>0</td>\n",
       "      <td>0</td>\n",
       "      <td>0</td>\n",
       "      <td>0</td>\n",
       "      <td>0</td>\n",
       "      <td>0</td>\n",
       "      <td>0</td>\n",
       "      <td>0</td>\n",
       "      <td>0</td>\n",
       "      <td>2483</td>\n",
       "    </tr>\n",
       "    <tr>\n",
       "      <th>InnateLymphoidCells</th>\n",
       "      <td>0</td>\n",
       "      <td>0</td>\n",
       "      <td>0</td>\n",
       "      <td>0</td>\n",
       "      <td>0</td>\n",
       "      <td>0</td>\n",
       "      <td>0</td>\n",
       "      <td>0</td>\n",
       "      <td>0</td>\n",
       "      <td>0</td>\n",
       "      <td>0</td>\n",
       "      <td>0</td>\n",
       "      <td>1719</td>\n",
       "    </tr>\n",
       "  </tbody>\n",
       "</table>\n",
       "</div>"
      ],
      "text/plain": [
       "mid_grain_mod                               AtrialCardiomyocytes  \\\n",
       "fine_grain                                                         \n",
       "AtrialCardiomyocytesLeft                                    6606   \n",
       "AtrialCardiomyocytesRight                                  10696   \n",
       "AtrialCardiomyocytesCycling                                 2396   \n",
       "VentricularCardiomyocytesLeftCompact                           0   \n",
       "VentricularCardiomyocytesRightCompact                          0   \n",
       "VentricularCardiomyocytesLeftTrabeculated                      0   \n",
       "VentricularCardiomyocytesRightTrabeculated                     0   \n",
       "VentricularCardiomyocytesCycling                               0   \n",
       "SinoatrialNodePacemakerCells                                 981   \n",
       "AtrioventricularNodePacemakerCells                           937   \n",
       "VentricularConductionSystemProximal                            0   \n",
       "VentricularConductionSystemDistal                              0   \n",
       "GreatVesselAdventitialFibroblasts                              0   \n",
       "CoronaryVesselAdventitialFibroblasts                           0   \n",
       "MyocardialInterstitialFibroblasts                              0   \n",
       "SubEpicardialFibroblasts                                       0   \n",
       "Myofibroblasts                                                 0   \n",
       "LymphNodeFibroblasticReticularCells                            0   \n",
       "ValveInterstitialCells                                         0   \n",
       "GreatVesselSmoothMuscleCells                                   0   \n",
       "CoronarySmoothMuscleCells                                      0   \n",
       "DuctusArteriosusSmoothMuscleCells                              0   \n",
       "CoronaryPericytes                                              0   \n",
       "PericardialCellsIntermediate                                   0   \n",
       "PericardialCellsFibrous                                        0   \n",
       "PericardialCellsParietal                                       0   \n",
       "GreatVesselArterialEndothelialCells                            0   \n",
       "GreatVesselVenousEndothelialCells                              0   \n",
       "CoronaryArterialEndothelialCells                               0   \n",
       "CoronaryVenousEndothelialCells                                 0   \n",
       "CoronaryCapillaryEndothelialCells                              0   \n",
       "EndocardialCells                                               0   \n",
       "EndocardialCushionCells                                        0   \n",
       "ValveEndothelialCells                                          0   \n",
       "LymphaticEndothelialCells                                      0   \n",
       "MesothelialEpicardialCells                                     0   \n",
       "EpicardiumDerivedCells                                         0   \n",
       "NeuronPrecursors                                               0   \n",
       "ChromaffinCells                                                0   \n",
       "SympatheticNeurons                                             0   \n",
       "ParasympatheticNeurons                                         0   \n",
       "SchwannCellPrecursors                                          0   \n",
       "SchwannCells                                                   0   \n",
       "MonocytesMPOpos                                                0   \n",
       "Monocytes                                                      0   \n",
       "MonocyteDerivedCells                                           0   \n",
       "MacrophagesCX3CR1pos                                           0   \n",
       "MacrophagesTIMD4pos                                            0   \n",
       "MacrophagesLYVE1pos                                            0   \n",
       "MacrophagesATF3pos                                             0   \n",
       "DendriticCellsType1                                            0   \n",
       "DendriticCellsMature                                           0   \n",
       "PlasmacytoidDendriticCells                                     0   \n",
       "MastCells                                                      0   \n",
       "Megakaryocytes                                                 0   \n",
       "TCellsCD4pos                                                   0   \n",
       "TCellsCD8pos                                                   0   \n",
       "TregsCD4pos                                                    0   \n",
       "ProBCells                                                      0   \n",
       "BCells                                                         0   \n",
       "BCellsMS4A1pos                                                 0   \n",
       "NaturalKillerCells                                             0   \n",
       "InnateLymphoidCells                                            0   \n",
       "\n",
       "mid_grain_mod                               VentricularCardiomyocytes  \\\n",
       "fine_grain                                                              \n",
       "AtrialCardiomyocytesLeft                                            0   \n",
       "AtrialCardiomyocytesRight                                           0   \n",
       "AtrialCardiomyocytesCycling                                         0   \n",
       "VentricularCardiomyocytesLeftCompact                            15591   \n",
       "VentricularCardiomyocytesRightCompact                           16215   \n",
       "VentricularCardiomyocytesLeftTrabeculated                        6997   \n",
       "VentricularCardiomyocytesRightTrabeculated                       3101   \n",
       "VentricularCardiomyocytesCycling                                 8195   \n",
       "SinoatrialNodePacemakerCells                                        0   \n",
       "AtrioventricularNodePacemakerCells                                  0   \n",
       "VentricularConductionSystemProximal                              2209   \n",
       "VentricularConductionSystemDistal                                 960   \n",
       "GreatVesselAdventitialFibroblasts                                   0   \n",
       "CoronaryVesselAdventitialFibroblasts                                0   \n",
       "MyocardialInterstitialFibroblasts                                   0   \n",
       "SubEpicardialFibroblasts                                            0   \n",
       "Myofibroblasts                                                      0   \n",
       "LymphNodeFibroblasticReticularCells                                 0   \n",
       "ValveInterstitialCells                                              0   \n",
       "GreatVesselSmoothMuscleCells                                        0   \n",
       "CoronarySmoothMuscleCells                                           0   \n",
       "DuctusArteriosusSmoothMuscleCells                                   0   \n",
       "CoronaryPericytes                                                   0   \n",
       "PericardialCellsIntermediate                                        0   \n",
       "PericardialCellsFibrous                                             0   \n",
       "PericardialCellsParietal                                            0   \n",
       "GreatVesselArterialEndothelialCells                                 0   \n",
       "GreatVesselVenousEndothelialCells                                   0   \n",
       "CoronaryArterialEndothelialCells                                    0   \n",
       "CoronaryVenousEndothelialCells                                      0   \n",
       "CoronaryCapillaryEndothelialCells                                   0   \n",
       "EndocardialCells                                                    0   \n",
       "EndocardialCushionCells                                             0   \n",
       "ValveEndothelialCells                                               0   \n",
       "LymphaticEndothelialCells                                           0   \n",
       "MesothelialEpicardialCells                                          0   \n",
       "EpicardiumDerivedCells                                              0   \n",
       "NeuronPrecursors                                                    0   \n",
       "ChromaffinCells                                                     0   \n",
       "SympatheticNeurons                                                  0   \n",
       "ParasympatheticNeurons                                              0   \n",
       "SchwannCellPrecursors                                               0   \n",
       "SchwannCells                                                        0   \n",
       "MonocytesMPOpos                                                     0   \n",
       "Monocytes                                                           0   \n",
       "MonocyteDerivedCells                                                0   \n",
       "MacrophagesCX3CR1pos                                                0   \n",
       "MacrophagesTIMD4pos                                                 0   \n",
       "MacrophagesLYVE1pos                                                 0   \n",
       "MacrophagesATF3pos                                                  0   \n",
       "DendriticCellsType1                                                 0   \n",
       "DendriticCellsMature                                                0   \n",
       "PlasmacytoidDendriticCells                                          0   \n",
       "MastCells                                                           0   \n",
       "Megakaryocytes                                                      0   \n",
       "TCellsCD4pos                                                        0   \n",
       "TCellsCD8pos                                                        0   \n",
       "TregsCD4pos                                                         0   \n",
       "ProBCells                                                           0   \n",
       "BCells                                                              0   \n",
       "BCellsMS4A1pos                                                      0   \n",
       "NaturalKillerCells                                                  0   \n",
       "InnateLymphoidCells                                                 0   \n",
       "\n",
       "mid_grain_mod                               Fibroblasts  MuralCells  \\\n",
       "fine_grain                                                            \n",
       "AtrialCardiomyocytesLeft                              0           0   \n",
       "AtrialCardiomyocytesRight                             0           0   \n",
       "AtrialCardiomyocytesCycling                           0           0   \n",
       "VentricularCardiomyocytesLeftCompact                  0           0   \n",
       "VentricularCardiomyocytesRightCompact                 0           0   \n",
       "VentricularCardiomyocytesLeftTrabeculated             0           0   \n",
       "VentricularCardiomyocytesRightTrabeculated            0           0   \n",
       "VentricularCardiomyocytesCycling                      0           0   \n",
       "SinoatrialNodePacemakerCells                          0           0   \n",
       "AtrioventricularNodePacemakerCells                    0           0   \n",
       "VentricularConductionSystemProximal                   0           0   \n",
       "VentricularConductionSystemDistal                     0           0   \n",
       "GreatVesselAdventitialFibroblasts                 61593           0   \n",
       "CoronaryVesselAdventitialFibroblasts               3651           0   \n",
       "MyocardialInterstitialFibroblasts                 13880           0   \n",
       "SubEpicardialFibroblasts                           9119           0   \n",
       "Myofibroblasts                                     5995           0   \n",
       "LymphNodeFibroblasticReticularCells                1155           0   \n",
       "ValveInterstitialCells                             7398           0   \n",
       "GreatVesselSmoothMuscleCells                          0       22992   \n",
       "CoronarySmoothMuscleCells                             0        1895   \n",
       "DuctusArteriosusSmoothMuscleCells                     0        1479   \n",
       "CoronaryPericytes                                     0        2131   \n",
       "PericardialCellsIntermediate                          0           0   \n",
       "PericardialCellsFibrous                               0           0   \n",
       "PericardialCellsParietal                              0           0   \n",
       "GreatVesselArterialEndothelialCells                   0           0   \n",
       "GreatVesselVenousEndothelialCells                     0           0   \n",
       "CoronaryArterialEndothelialCells                      0           0   \n",
       "CoronaryVenousEndothelialCells                        0           0   \n",
       "CoronaryCapillaryEndothelialCells                     0           0   \n",
       "EndocardialCells                                      0           0   \n",
       "EndocardialCushionCells                               0           0   \n",
       "ValveEndothelialCells                                 0           0   \n",
       "LymphaticEndothelialCells                             0           0   \n",
       "MesothelialEpicardialCells                            0           0   \n",
       "EpicardiumDerivedCells                                0           0   \n",
       "NeuronPrecursors                                      0           0   \n",
       "ChromaffinCells                                       0           0   \n",
       "SympatheticNeurons                                    0           0   \n",
       "ParasympatheticNeurons                                0           0   \n",
       "SchwannCellPrecursors                                 0           0   \n",
       "SchwannCells                                          0           0   \n",
       "MonocytesMPOpos                                       0           0   \n",
       "Monocytes                                             0           0   \n",
       "MonocyteDerivedCells                                  0           0   \n",
       "MacrophagesCX3CR1pos                                  0           0   \n",
       "MacrophagesTIMD4pos                                   0           0   \n",
       "MacrophagesLYVE1pos                                   0           0   \n",
       "MacrophagesATF3pos                                    0           0   \n",
       "DendriticCellsType1                                   0           0   \n",
       "DendriticCellsMature                                  0           0   \n",
       "PlasmacytoidDendriticCells                            0           0   \n",
       "MastCells                                             0           0   \n",
       "Megakaryocytes                                        0           0   \n",
       "TCellsCD4pos                                          0           0   \n",
       "TCellsCD8pos                                          0           0   \n",
       "TregsCD4pos                                           0           0   \n",
       "ProBCells                                             0           0   \n",
       "BCells                                                0           0   \n",
       "BCellsMS4A1pos                                        0           0   \n",
       "NaturalKillerCells                                    0           0   \n",
       "InnateLymphoidCells                                   0           0   \n",
       "\n",
       "mid_grain_mod                               PericardialCells  \\\n",
       "fine_grain                                                     \n",
       "AtrialCardiomyocytesLeft                                   0   \n",
       "AtrialCardiomyocytesRight                                  0   \n",
       "AtrialCardiomyocytesCycling                                0   \n",
       "VentricularCardiomyocytesLeftCompact                       0   \n",
       "VentricularCardiomyocytesRightCompact                      0   \n",
       "VentricularCardiomyocytesLeftTrabeculated                  0   \n",
       "VentricularCardiomyocytesRightTrabeculated                 0   \n",
       "VentricularCardiomyocytesCycling                           0   \n",
       "SinoatrialNodePacemakerCells                               0   \n",
       "AtrioventricularNodePacemakerCells                         0   \n",
       "VentricularConductionSystemProximal                        0   \n",
       "VentricularConductionSystemDistal                          0   \n",
       "GreatVesselAdventitialFibroblasts                          0   \n",
       "CoronaryVesselAdventitialFibroblasts                       0   \n",
       "MyocardialInterstitialFibroblasts                          0   \n",
       "SubEpicardialFibroblasts                                   0   \n",
       "Myofibroblasts                                             0   \n",
       "LymphNodeFibroblasticReticularCells                        0   \n",
       "ValveInterstitialCells                                     0   \n",
       "GreatVesselSmoothMuscleCells                               0   \n",
       "CoronarySmoothMuscleCells                                  0   \n",
       "DuctusArteriosusSmoothMuscleCells                          0   \n",
       "CoronaryPericytes                                          0   \n",
       "PericardialCellsIntermediate                           13040   \n",
       "PericardialCellsFibrous                                 2018   \n",
       "PericardialCellsParietal                                1753   \n",
       "GreatVesselArterialEndothelialCells                        0   \n",
       "GreatVesselVenousEndothelialCells                          0   \n",
       "CoronaryArterialEndothelialCells                           0   \n",
       "CoronaryVenousEndothelialCells                             0   \n",
       "CoronaryCapillaryEndothelialCells                          0   \n",
       "EndocardialCells                                           0   \n",
       "EndocardialCushionCells                                    0   \n",
       "ValveEndothelialCells                                      0   \n",
       "LymphaticEndothelialCells                                  0   \n",
       "MesothelialEpicardialCells                                 0   \n",
       "EpicardiumDerivedCells                                     0   \n",
       "NeuronPrecursors                                           0   \n",
       "ChromaffinCells                                            0   \n",
       "SympatheticNeurons                                         0   \n",
       "ParasympatheticNeurons                                     0   \n",
       "SchwannCellPrecursors                                      0   \n",
       "SchwannCells                                               0   \n",
       "MonocytesMPOpos                                            0   \n",
       "Monocytes                                                  0   \n",
       "MonocyteDerivedCells                                       0   \n",
       "MacrophagesCX3CR1pos                                       0   \n",
       "MacrophagesTIMD4pos                                        0   \n",
       "MacrophagesLYVE1pos                                        0   \n",
       "MacrophagesATF3pos                                         0   \n",
       "DendriticCellsType1                                        0   \n",
       "DendriticCellsMature                                       0   \n",
       "PlasmacytoidDendriticCells                                 0   \n",
       "MastCells                                                  0   \n",
       "Megakaryocytes                                             0   \n",
       "TCellsCD4pos                                               0   \n",
       "TCellsCD8pos                                               0   \n",
       "TregsCD4pos                                                0   \n",
       "ProBCells                                                  0   \n",
       "BCells                                                     0   \n",
       "BCellsMS4A1pos                                             0   \n",
       "NaturalKillerCells                                         0   \n",
       "InnateLymphoidCells                                        0   \n",
       "\n",
       "mid_grain_mod                               BloodVesselEndothelialCells  \\\n",
       "fine_grain                                                                \n",
       "AtrialCardiomyocytesLeft                                              0   \n",
       "AtrialCardiomyocytesRight                                             0   \n",
       "AtrialCardiomyocytesCycling                                           0   \n",
       "VentricularCardiomyocytesLeftCompact                                  0   \n",
       "VentricularCardiomyocytesRightCompact                                 0   \n",
       "VentricularCardiomyocytesLeftTrabeculated                             0   \n",
       "VentricularCardiomyocytesRightTrabeculated                            0   \n",
       "VentricularCardiomyocytesCycling                                      0   \n",
       "SinoatrialNodePacemakerCells                                          0   \n",
       "AtrioventricularNodePacemakerCells                                    0   \n",
       "VentricularConductionSystemProximal                                   0   \n",
       "VentricularConductionSystemDistal                                     0   \n",
       "GreatVesselAdventitialFibroblasts                                     0   \n",
       "CoronaryVesselAdventitialFibroblasts                                  0   \n",
       "MyocardialInterstitialFibroblasts                                     0   \n",
       "SubEpicardialFibroblasts                                              0   \n",
       "Myofibroblasts                                                        0   \n",
       "LymphNodeFibroblasticReticularCells                                   0   \n",
       "ValveInterstitialCells                                                0   \n",
       "GreatVesselSmoothMuscleCells                                          0   \n",
       "CoronarySmoothMuscleCells                                             0   \n",
       "DuctusArteriosusSmoothMuscleCells                                     0   \n",
       "CoronaryPericytes                                                     0   \n",
       "PericardialCellsIntermediate                                          0   \n",
       "PericardialCellsFibrous                                               0   \n",
       "PericardialCellsParietal                                              0   \n",
       "GreatVesselArterialEndothelialCells                                2274   \n",
       "GreatVesselVenousEndothelialCells                                   703   \n",
       "CoronaryArterialEndothelialCells                                    846   \n",
       "CoronaryVenousEndothelialCells                                     1137   \n",
       "CoronaryCapillaryEndothelialCells                                  6392   \n",
       "EndocardialCells                                                      0   \n",
       "EndocardialCushionCells                                               0   \n",
       "ValveEndothelialCells                                                 0   \n",
       "LymphaticEndothelialCells                                             0   \n",
       "MesothelialEpicardialCells                                            0   \n",
       "EpicardiumDerivedCells                                                0   \n",
       "NeuronPrecursors                                                      0   \n",
       "ChromaffinCells                                                       0   \n",
       "SympatheticNeurons                                                    0   \n",
       "ParasympatheticNeurons                                                0   \n",
       "SchwannCellPrecursors                                                 0   \n",
       "SchwannCells                                                          0   \n",
       "MonocytesMPOpos                                                       0   \n",
       "Monocytes                                                             0   \n",
       "MonocyteDerivedCells                                                  0   \n",
       "MacrophagesCX3CR1pos                                                  0   \n",
       "MacrophagesTIMD4pos                                                   0   \n",
       "MacrophagesLYVE1pos                                                   0   \n",
       "MacrophagesATF3pos                                                    0   \n",
       "DendriticCellsType1                                                   0   \n",
       "DendriticCellsMature                                                  0   \n",
       "PlasmacytoidDendriticCells                                            0   \n",
       "MastCells                                                             0   \n",
       "Megakaryocytes                                                        0   \n",
       "TCellsCD4pos                                                          0   \n",
       "TCellsCD8pos                                                          0   \n",
       "TregsCD4pos                                                           0   \n",
       "ProBCells                                                             0   \n",
       "BCells                                                                0   \n",
       "BCellsMS4A1pos                                                        0   \n",
       "NaturalKillerCells                                                    0   \n",
       "InnateLymphoidCells                                                   0   \n",
       "\n",
       "mid_grain_mod                               EndocardialCells  \\\n",
       "fine_grain                                                     \n",
       "AtrialCardiomyocytesLeft                                   0   \n",
       "AtrialCardiomyocytesRight                                  0   \n",
       "AtrialCardiomyocytesCycling                                0   \n",
       "VentricularCardiomyocytesLeftCompact                       0   \n",
       "VentricularCardiomyocytesRightCompact                      0   \n",
       "VentricularCardiomyocytesLeftTrabeculated                  0   \n",
       "VentricularCardiomyocytesRightTrabeculated                 0   \n",
       "VentricularCardiomyocytesCycling                           0   \n",
       "SinoatrialNodePacemakerCells                               0   \n",
       "AtrioventricularNodePacemakerCells                         0   \n",
       "VentricularConductionSystemProximal                        0   \n",
       "VentricularConductionSystemDistal                          0   \n",
       "GreatVesselAdventitialFibroblasts                          0   \n",
       "CoronaryVesselAdventitialFibroblasts                       0   \n",
       "MyocardialInterstitialFibroblasts                          0   \n",
       "SubEpicardialFibroblasts                                   0   \n",
       "Myofibroblasts                                             0   \n",
       "LymphNodeFibroblasticReticularCells                        0   \n",
       "ValveInterstitialCells                                     0   \n",
       "GreatVesselSmoothMuscleCells                               0   \n",
       "CoronarySmoothMuscleCells                                  0   \n",
       "DuctusArteriosusSmoothMuscleCells                          0   \n",
       "CoronaryPericytes                                          0   \n",
       "PericardialCellsIntermediate                               0   \n",
       "PericardialCellsFibrous                                    0   \n",
       "PericardialCellsParietal                                   0   \n",
       "GreatVesselArterialEndothelialCells                        0   \n",
       "GreatVesselVenousEndothelialCells                          0   \n",
       "CoronaryArterialEndothelialCells                           0   \n",
       "CoronaryVenousEndothelialCells                             0   \n",
       "CoronaryCapillaryEndothelialCells                          0   \n",
       "EndocardialCells                                        7431   \n",
       "EndocardialCushionCells                                  619   \n",
       "ValveEndothelialCells                                   1296   \n",
       "LymphaticEndothelialCells                                  0   \n",
       "MesothelialEpicardialCells                                 0   \n",
       "EpicardiumDerivedCells                                     0   \n",
       "NeuronPrecursors                                           0   \n",
       "ChromaffinCells                                            0   \n",
       "SympatheticNeurons                                         0   \n",
       "ParasympatheticNeurons                                     0   \n",
       "SchwannCellPrecursors                                      0   \n",
       "SchwannCells                                               0   \n",
       "MonocytesMPOpos                                            0   \n",
       "Monocytes                                                  0   \n",
       "MonocyteDerivedCells                                       0   \n",
       "MacrophagesCX3CR1pos                                       0   \n",
       "MacrophagesTIMD4pos                                        0   \n",
       "MacrophagesLYVE1pos                                        0   \n",
       "MacrophagesATF3pos                                         0   \n",
       "DendriticCellsType1                                        0   \n",
       "DendriticCellsMature                                       0   \n",
       "PlasmacytoidDendriticCells                                 0   \n",
       "MastCells                                                  0   \n",
       "Megakaryocytes                                             0   \n",
       "TCellsCD4pos                                               0   \n",
       "TCellsCD8pos                                               0   \n",
       "TregsCD4pos                                                0   \n",
       "ProBCells                                                  0   \n",
       "BCells                                                     0   \n",
       "BCellsMS4A1pos                                             0   \n",
       "NaturalKillerCells                                         0   \n",
       "InnateLymphoidCells                                        0   \n",
       "\n",
       "mid_grain_mod                               LymphaticEndothelialCells  \\\n",
       "fine_grain                                                              \n",
       "AtrialCardiomyocytesLeft                                            0   \n",
       "AtrialCardiomyocytesRight                                           0   \n",
       "AtrialCardiomyocytesCycling                                         0   \n",
       "VentricularCardiomyocytesLeftCompact                                0   \n",
       "VentricularCardiomyocytesRightCompact                               0   \n",
       "VentricularCardiomyocytesLeftTrabeculated                           0   \n",
       "VentricularCardiomyocytesRightTrabeculated                          0   \n",
       "VentricularCardiomyocytesCycling                                    0   \n",
       "SinoatrialNodePacemakerCells                                        0   \n",
       "AtrioventricularNodePacemakerCells                                  0   \n",
       "VentricularConductionSystemProximal                                 0   \n",
       "VentricularConductionSystemDistal                                   0   \n",
       "GreatVesselAdventitialFibroblasts                                   0   \n",
       "CoronaryVesselAdventitialFibroblasts                                0   \n",
       "MyocardialInterstitialFibroblasts                                   0   \n",
       "SubEpicardialFibroblasts                                            0   \n",
       "Myofibroblasts                                                      0   \n",
       "LymphNodeFibroblasticReticularCells                                 0   \n",
       "ValveInterstitialCells                                              0   \n",
       "GreatVesselSmoothMuscleCells                                        0   \n",
       "CoronarySmoothMuscleCells                                           0   \n",
       "DuctusArteriosusSmoothMuscleCells                                   0   \n",
       "CoronaryPericytes                                                   0   \n",
       "PericardialCellsIntermediate                                        0   \n",
       "PericardialCellsFibrous                                             0   \n",
       "PericardialCellsParietal                                            0   \n",
       "GreatVesselArterialEndothelialCells                                 0   \n",
       "GreatVesselVenousEndothelialCells                                   0   \n",
       "CoronaryArterialEndothelialCells                                    0   \n",
       "CoronaryVenousEndothelialCells                                      0   \n",
       "CoronaryCapillaryEndothelialCells                                   0   \n",
       "EndocardialCells                                                    0   \n",
       "EndocardialCushionCells                                             0   \n",
       "ValveEndothelialCells                                               0   \n",
       "LymphaticEndothelialCells                                        2411   \n",
       "MesothelialEpicardialCells                                          0   \n",
       "EpicardiumDerivedCells                                              0   \n",
       "NeuronPrecursors                                                    0   \n",
       "ChromaffinCells                                                     0   \n",
       "SympatheticNeurons                                                  0   \n",
       "ParasympatheticNeurons                                              0   \n",
       "SchwannCellPrecursors                                               0   \n",
       "SchwannCells                                                        0   \n",
       "MonocytesMPOpos                                                     0   \n",
       "Monocytes                                                           0   \n",
       "MonocyteDerivedCells                                                0   \n",
       "MacrophagesCX3CR1pos                                                0   \n",
       "MacrophagesTIMD4pos                                                 0   \n",
       "MacrophagesLYVE1pos                                                 0   \n",
       "MacrophagesATF3pos                                                  0   \n",
       "DendriticCellsType1                                                 0   \n",
       "DendriticCellsMature                                                0   \n",
       "PlasmacytoidDendriticCells                                          0   \n",
       "MastCells                                                           0   \n",
       "Megakaryocytes                                                      0   \n",
       "TCellsCD4pos                                                        0   \n",
       "TCellsCD8pos                                                        0   \n",
       "TregsCD4pos                                                         0   \n",
       "ProBCells                                                           0   \n",
       "BCells                                                              0   \n",
       "BCellsMS4A1pos                                                      0   \n",
       "NaturalKillerCells                                                  0   \n",
       "InnateLymphoidCells                                                 0   \n",
       "\n",
       "mid_grain_mod                               EpicardialCells  Neurons  Glia  \\\n",
       "fine_grain                                                                   \n",
       "AtrialCardiomyocytesLeft                                  0        0     0   \n",
       "AtrialCardiomyocytesRight                                 0        0     0   \n",
       "AtrialCardiomyocytesCycling                               0        0     0   \n",
       "VentricularCardiomyocytesLeftCompact                      0        0     0   \n",
       "VentricularCardiomyocytesRightCompact                     0        0     0   \n",
       "VentricularCardiomyocytesLeftTrabeculated                 0        0     0   \n",
       "VentricularCardiomyocytesRightTrabeculated                0        0     0   \n",
       "VentricularCardiomyocytesCycling                          0        0     0   \n",
       "SinoatrialNodePacemakerCells                              0        0     0   \n",
       "AtrioventricularNodePacemakerCells                        0        0     0   \n",
       "VentricularConductionSystemProximal                       0        0     0   \n",
       "VentricularConductionSystemDistal                         0        0     0   \n",
       "GreatVesselAdventitialFibroblasts                         0        0     0   \n",
       "CoronaryVesselAdventitialFibroblasts                      0        0     0   \n",
       "MyocardialInterstitialFibroblasts                         0        0     0   \n",
       "SubEpicardialFibroblasts                                  0        0     0   \n",
       "Myofibroblasts                                            0        0     0   \n",
       "LymphNodeFibroblasticReticularCells                       0        0     0   \n",
       "ValveInterstitialCells                                    0        0     0   \n",
       "GreatVesselSmoothMuscleCells                              0        0     0   \n",
       "CoronarySmoothMuscleCells                                 0        0     0   \n",
       "DuctusArteriosusSmoothMuscleCells                         0        0     0   \n",
       "CoronaryPericytes                                         0        0     0   \n",
       "PericardialCellsIntermediate                              0        0     0   \n",
       "PericardialCellsFibrous                                   0        0     0   \n",
       "PericardialCellsParietal                                  0        0     0   \n",
       "GreatVesselArterialEndothelialCells                       0        0     0   \n",
       "GreatVesselVenousEndothelialCells                         0        0     0   \n",
       "CoronaryArterialEndothelialCells                          0        0     0   \n",
       "CoronaryVenousEndothelialCells                            0        0     0   \n",
       "CoronaryCapillaryEndothelialCells                         0        0     0   \n",
       "EndocardialCells                                          0        0     0   \n",
       "EndocardialCushionCells                                   0        0     0   \n",
       "ValveEndothelialCells                                     0        0     0   \n",
       "LymphaticEndothelialCells                                 0        0     0   \n",
       "MesothelialEpicardialCells                             2839        0     0   \n",
       "EpicardiumDerivedCells                                 1347        0     0   \n",
       "NeuronPrecursors                                          0      776     0   \n",
       "ChromaffinCells                                           0      228     0   \n",
       "SympatheticNeurons                                        0     1055     0   \n",
       "ParasympatheticNeurons                                    0      549     0   \n",
       "SchwannCellPrecursors                                     0        0  1278   \n",
       "SchwannCells                                              0        0  2263   \n",
       "MonocytesMPOpos                                           0        0     0   \n",
       "Monocytes                                                 0        0     0   \n",
       "MonocyteDerivedCells                                      0        0     0   \n",
       "MacrophagesCX3CR1pos                                      0        0     0   \n",
       "MacrophagesTIMD4pos                                       0        0     0   \n",
       "MacrophagesLYVE1pos                                       0        0     0   \n",
       "MacrophagesATF3pos                                        0        0     0   \n",
       "DendriticCellsType1                                       0        0     0   \n",
       "DendriticCellsMature                                      0        0     0   \n",
       "PlasmacytoidDendriticCells                                0        0     0   \n",
       "MastCells                                                 0        0     0   \n",
       "Megakaryocytes                                            0        0     0   \n",
       "TCellsCD4pos                                              0        0     0   \n",
       "TCellsCD8pos                                              0        0     0   \n",
       "TregsCD4pos                                               0        0     0   \n",
       "ProBCells                                                 0        0     0   \n",
       "BCells                                                    0        0     0   \n",
       "BCellsMS4A1pos                                            0        0     0   \n",
       "NaturalKillerCells                                        0        0     0   \n",
       "InnateLymphoidCells                                       0        0     0   \n",
       "\n",
       "mid_grain_mod                               MyeloidCells  LymphoidCells  \n",
       "fine_grain                                                               \n",
       "AtrialCardiomyocytesLeft                               0              0  \n",
       "AtrialCardiomyocytesRight                              0              0  \n",
       "AtrialCardiomyocytesCycling                            0              0  \n",
       "VentricularCardiomyocytesLeftCompact                   0              0  \n",
       "VentricularCardiomyocytesRightCompact                  0              0  \n",
       "VentricularCardiomyocytesLeftTrabeculated              0              0  \n",
       "VentricularCardiomyocytesRightTrabeculated             0              0  \n",
       "VentricularCardiomyocytesCycling                       0              0  \n",
       "SinoatrialNodePacemakerCells                           0              0  \n",
       "AtrioventricularNodePacemakerCells                     0              0  \n",
       "VentricularConductionSystemProximal                    0              0  \n",
       "VentricularConductionSystemDistal                      0              0  \n",
       "GreatVesselAdventitialFibroblasts                      0              0  \n",
       "CoronaryVesselAdventitialFibroblasts                   0              0  \n",
       "MyocardialInterstitialFibroblasts                      0              0  \n",
       "SubEpicardialFibroblasts                               0              0  \n",
       "Myofibroblasts                                         0              0  \n",
       "LymphNodeFibroblasticReticularCells                    0              0  \n",
       "ValveInterstitialCells                                 0              0  \n",
       "GreatVesselSmoothMuscleCells                           0              0  \n",
       "CoronarySmoothMuscleCells                              0              0  \n",
       "DuctusArteriosusSmoothMuscleCells                      0              0  \n",
       "CoronaryPericytes                                      0              0  \n",
       "PericardialCellsIntermediate                           0              0  \n",
       "PericardialCellsFibrous                                0              0  \n",
       "PericardialCellsParietal                               0              0  \n",
       "GreatVesselArterialEndothelialCells                    0              0  \n",
       "GreatVesselVenousEndothelialCells                      0              0  \n",
       "CoronaryArterialEndothelialCells                       0              0  \n",
       "CoronaryVenousEndothelialCells                         0              0  \n",
       "CoronaryCapillaryEndothelialCells                      0              0  \n",
       "EndocardialCells                                       0              0  \n",
       "EndocardialCushionCells                                0              0  \n",
       "ValveEndothelialCells                                  0              0  \n",
       "LymphaticEndothelialCells                              0              0  \n",
       "MesothelialEpicardialCells                             0              0  \n",
       "EpicardiumDerivedCells                                 0              0  \n",
       "NeuronPrecursors                                       0              0  \n",
       "ChromaffinCells                                        0              0  \n",
       "SympatheticNeurons                                     0              0  \n",
       "ParasympatheticNeurons                                 0              0  \n",
       "SchwannCellPrecursors                                  0              0  \n",
       "SchwannCells                                           0              0  \n",
       "MonocytesMPOpos                                      414              0  \n",
       "Monocytes                                            900              0  \n",
       "MonocyteDerivedCells                                 661              0  \n",
       "MacrophagesCX3CR1pos                                2046              0  \n",
       "MacrophagesTIMD4pos                                  470              0  \n",
       "MacrophagesLYVE1pos                                11000              0  \n",
       "MacrophagesATF3pos                                  1844              0  \n",
       "DendriticCellsType1                                  609              0  \n",
       "DendriticCellsMature                                 184              0  \n",
       "PlasmacytoidDendriticCells                           608              0  \n",
       "MastCells                                            866              0  \n",
       "Megakaryocytes                                       360              0  \n",
       "TCellsCD4pos                                           0           5660  \n",
       "TCellsCD8pos                                           0           2297  \n",
       "TregsCD4pos                                            0           2096  \n",
       "ProBCells                                              0           1301  \n",
       "BCells                                                 0           2058  \n",
       "BCellsMS4A1pos                                         0           3470  \n",
       "NaturalKillerCells                                     0           2483  \n",
       "InnateLymphoidCells                                    0           1719  "
      ]
     },
     "metadata": {},
     "output_type": "display_data"
    }
   ],
   "source": [
    "with pd.option_context('display.max_rows', None,):\n",
    "    display(pd.crosstab(adata.obs['fine_grain'],adata.obs['mid_grain_mod']))"
   ]
  },
  {
   "cell_type": "code",
   "execution_count": 19,
   "id": "a96d27d2",
   "metadata": {
    "execution": {
     "iopub.execute_input": "2024-11-19T21:33:16.351324Z",
     "iopub.status.busy": "2024-11-19T21:33:16.351023Z",
     "iopub.status.idle": "2024-11-19T21:33:16.365675Z",
     "shell.execute_reply": "2024-11-19T21:33:16.365004Z"
    },
    "papermill": {
     "duration": 0.038312,
     "end_time": "2024-11-19T21:33:16.367282",
     "exception": false,
     "start_time": "2024-11-19T21:33:16.328970",
     "status": "completed"
    },
    "tags": []
   },
   "outputs": [
    {
     "data": {
      "text/plain": [
       "Index(['AtrialCardiomyocytes', 'VentricularCardiomyocytes', 'Fibroblasts',\n",
       "       'MuralCells', 'PericardialCells', 'BloodVesselEndothelialCells',\n",
       "       'EndocardialCells', 'LymphaticEndothelialCells', 'EpicardialCells',\n",
       "       'Neurons', 'Glia', 'MyeloidCells', 'LymphoidCells'],\n",
       "      dtype='object')"
      ]
     },
     "execution_count": 19,
     "metadata": {},
     "output_type": "execute_result"
    }
   ],
   "source": [
    "adata.obs['mid_grain_mod'].cat.categories"
   ]
  },
  {
   "cell_type": "code",
   "execution_count": 20,
   "id": "f334fbcc",
   "metadata": {
    "execution": {
     "iopub.execute_input": "2024-11-19T21:33:16.414923Z",
     "iopub.status.busy": "2024-11-19T21:33:16.414621Z",
     "iopub.status.idle": "2024-11-19T21:40:35.450625Z",
     "shell.execute_reply": "2024-11-19T21:40:35.449019Z"
    },
    "papermill": {
     "duration": 439.065049,
     "end_time": "2024-11-19T21:40:35.454256",
     "exception": false,
     "start_time": "2024-11-19T21:33:16.389207",
     "status": "completed"
    },
    "tags": []
   },
   "outputs": [
    {
     "name": "stdout",
     "output_type": "stream",
     "text": [
      "AtrialCardiomyocytes\n",
      "subsampling\n"
     ]
    },
    {
     "name": "stderr",
     "output_type": "stream",
     "text": [
      "🍳 Preparing data before training\n"
     ]
    },
    {
     "name": "stderr",
     "output_type": "stream",
     "text": [
      "✂️ 292 non-expressed genes are filtered out\n"
     ]
    },
    {
     "name": "stderr",
     "output_type": "stream",
     "text": [
      "🔬 Input data has 7918 cells and 4709 genes\n"
     ]
    },
    {
     "name": "stderr",
     "output_type": "stream",
     "text": [
      "⚖️ Scaling input data\n"
     ]
    },
    {
     "name": "stdout",
     "output_type": "stream",
     "text": [
      "fine_grain\n",
      "AtrialCardiomyocytesLeft              2000\n",
      "AtrialCardiomyocytesRight             2000\n",
      "AtrialCardiomyocytesCycling           2000\n",
      "SinoatrialNodePacemakerCells           981\n",
      "AtrioventricularNodePacemakerCells     937\n",
      "Name: count, dtype: int64\n"
     ]
    },
    {
     "name": "stderr",
     "output_type": "stream",
     "text": [
      "🏋️ Training data using logistic regression\n"
     ]
    },
    {
     "name": "stderr",
     "output_type": "stream",
     "text": [
      "✅ Model training done!\n"
     ]
    },
    {
     "name": "stdout",
     "output_type": "stream",
     "text": [
      "\n",
      "VentricularCardiomyocytes\n",
      "subsampling\n"
     ]
    },
    {
     "name": "stderr",
     "output_type": "stream",
     "text": [
      "🍳 Preparing data before training\n"
     ]
    },
    {
     "name": "stdout",
     "output_type": "stream",
     "text": [
      "fine_grain\n",
      "VentricularCardiomyocytesLeftCompact          5000\n",
      "VentricularCardiomyocytesRightCompact         5000\n",
      "VentricularCardiomyocytesLeftTrabeculated     5000\n",
      "VentricularCardiomyocytesCycling              5000\n",
      "VentricularCardiomyocytesRightTrabeculated    3101\n",
      "VentricularConductionSystemProximal           2209\n",
      "VentricularConductionSystemDistal              960\n",
      "Name: count, dtype: int64\n"
     ]
    },
    {
     "name": "stderr",
     "output_type": "stream",
     "text": [
      "✂️ 179 non-expressed genes are filtered out\n"
     ]
    },
    {
     "name": "stderr",
     "output_type": "stream",
     "text": [
      "🔬 Input data has 26270 cells and 4822 genes\n"
     ]
    },
    {
     "name": "stderr",
     "output_type": "stream",
     "text": [
      "⚖️ Scaling input data\n"
     ]
    },
    {
     "name": "stderr",
     "output_type": "stream",
     "text": [
      "🏋️ Training data using logistic regression\n"
     ]
    },
    {
     "name": "stderr",
     "output_type": "stream",
     "text": [
      "✅ Model training done!\n"
     ]
    },
    {
     "name": "stdout",
     "output_type": "stream",
     "text": [
      "\n",
      "Fibroblasts\n",
      "subsampling\n"
     ]
    },
    {
     "name": "stderr",
     "output_type": "stream",
     "text": [
      "🍳 Preparing data before training\n"
     ]
    },
    {
     "name": "stdout",
     "output_type": "stream",
     "text": [
      "fine_grain\n",
      "GreatVesselAdventitialFibroblasts       5000\n",
      "MyocardialInterstitialFibroblasts       5000\n",
      "SubEpicardialFibroblasts                5000\n",
      "Myofibroblasts                          5000\n",
      "ValveInterstitialCells                  5000\n",
      "CoronaryVesselAdventitialFibroblasts    3651\n",
      "LymphNodeFibroblasticReticularCells     1155\n",
      "Name: count, dtype: int64\n"
     ]
    },
    {
     "name": "stderr",
     "output_type": "stream",
     "text": [
      "✂️ 78 non-expressed genes are filtered out\n"
     ]
    },
    {
     "name": "stderr",
     "output_type": "stream",
     "text": [
      "🔬 Input data has 29806 cells and 4923 genes\n"
     ]
    },
    {
     "name": "stderr",
     "output_type": "stream",
     "text": [
      "⚖️ Scaling input data\n"
     ]
    },
    {
     "name": "stderr",
     "output_type": "stream",
     "text": [
      "🏋️ Training data using logistic regression\n"
     ]
    },
    {
     "name": "stderr",
     "output_type": "stream",
     "text": [
      "✅ Model training done!\n"
     ]
    },
    {
     "name": "stdout",
     "output_type": "stream",
     "text": [
      "\n",
      "MuralCells\n",
      "subsampling\n"
     ]
    },
    {
     "name": "stderr",
     "output_type": "stream",
     "text": [
      "🍳 Preparing data before training\n"
     ]
    },
    {
     "name": "stdout",
     "output_type": "stream",
     "text": [
      "fine_grain\n",
      "GreatVesselSmoothMuscleCells         5000\n",
      "CoronaryPericytes                    2131\n",
      "CoronarySmoothMuscleCells            1895\n",
      "DuctusArteriosusSmoothMuscleCells    1479\n",
      "Name: count, dtype: int64\n"
     ]
    },
    {
     "name": "stderr",
     "output_type": "stream",
     "text": [
      "✂️ 155 non-expressed genes are filtered out\n"
     ]
    },
    {
     "name": "stderr",
     "output_type": "stream",
     "text": [
      "🔬 Input data has 10505 cells and 4846 genes\n"
     ]
    },
    {
     "name": "stderr",
     "output_type": "stream",
     "text": [
      "⚖️ Scaling input data\n"
     ]
    },
    {
     "name": "stderr",
     "output_type": "stream",
     "text": [
      "🏋️ Training data using logistic regression\n"
     ]
    },
    {
     "name": "stderr",
     "output_type": "stream",
     "text": [
      "✅ Model training done!\n"
     ]
    },
    {
     "name": "stdout",
     "output_type": "stream",
     "text": [
      "\n",
      "PericardialCells\n",
      "subsampling\n"
     ]
    },
    {
     "name": "stderr",
     "output_type": "stream",
     "text": [
      "🍳 Preparing data before training\n"
     ]
    },
    {
     "name": "stderr",
     "output_type": "stream",
     "text": [
      "✂️ 190 non-expressed genes are filtered out\n"
     ]
    },
    {
     "name": "stderr",
     "output_type": "stream",
     "text": [
      "🔬 Input data has 8771 cells and 4811 genes\n"
     ]
    },
    {
     "name": "stdout",
     "output_type": "stream",
     "text": [
      "fine_grain\n",
      "PericardialCellsIntermediate    5000\n",
      "PericardialCellsFibrous         2018\n",
      "PericardialCellsParietal        1753\n",
      "Name: count, dtype: int64\n"
     ]
    },
    {
     "name": "stderr",
     "output_type": "stream",
     "text": [
      "⚖️ Scaling input data\n"
     ]
    },
    {
     "name": "stderr",
     "output_type": "stream",
     "text": [
      "🏋️ Training data using logistic regression\n"
     ]
    },
    {
     "name": "stderr",
     "output_type": "stream",
     "text": [
      "✅ Model training done!\n"
     ]
    },
    {
     "name": "stdout",
     "output_type": "stream",
     "text": [
      "\n",
      "BloodVesselEndothelialCells\n",
      "subsampling\n"
     ]
    },
    {
     "name": "stderr",
     "output_type": "stream",
     "text": [
      "🍳 Preparing data before training\n"
     ]
    },
    {
     "name": "stderr",
     "output_type": "stream",
     "text": [
      "✂️ 168 non-expressed genes are filtered out\n"
     ]
    },
    {
     "name": "stderr",
     "output_type": "stream",
     "text": [
      "🔬 Input data has 6686 cells and 4833 genes\n"
     ]
    },
    {
     "name": "stderr",
     "output_type": "stream",
     "text": [
      "⚖️ Scaling input data\n"
     ]
    },
    {
     "name": "stdout",
     "output_type": "stream",
     "text": [
      "fine_grain\n",
      "GreatVesselArterialEndothelialCells    2000\n",
      "CoronaryCapillaryEndothelialCells      2000\n",
      "CoronaryVenousEndothelialCells         1137\n",
      "CoronaryArterialEndothelialCells        846\n",
      "GreatVesselVenousEndothelialCells       703\n",
      "Name: count, dtype: int64\n"
     ]
    },
    {
     "name": "stderr",
     "output_type": "stream",
     "text": [
      "🏋️ Training data using logistic regression\n"
     ]
    },
    {
     "name": "stderr",
     "output_type": "stream",
     "text": [
      "✅ Model training done!\n"
     ]
    },
    {
     "name": "stdout",
     "output_type": "stream",
     "text": [
      "\n",
      "EndocardialCells\n",
      "subsampling\n"
     ]
    },
    {
     "name": "stderr",
     "output_type": "stream",
     "text": [
      "🍳 Preparing data before training\n"
     ]
    },
    {
     "name": "stderr",
     "output_type": "stream",
     "text": [
      "✂️ 326 non-expressed genes are filtered out\n"
     ]
    },
    {
     "name": "stderr",
     "output_type": "stream",
     "text": [
      "🔬 Input data has 3915 cells and 4675 genes\n"
     ]
    },
    {
     "name": "stderr",
     "output_type": "stream",
     "text": [
      "⚖️ Scaling input data\n"
     ]
    },
    {
     "name": "stdout",
     "output_type": "stream",
     "text": [
      "fine_grain\n",
      "EndocardialCells           2000\n",
      "ValveEndothelialCells      1296\n",
      "EndocardialCushionCells     619\n",
      "Name: count, dtype: int64\n"
     ]
    },
    {
     "name": "stderr",
     "output_type": "stream",
     "text": [
      "🏋️ Training data using logistic regression\n"
     ]
    },
    {
     "name": "stderr",
     "output_type": "stream",
     "text": [
      "✅ Model training done!\n"
     ]
    },
    {
     "name": "stderr",
     "output_type": "stream",
     "text": [
      "🍳 Preparing data before training\n"
     ]
    },
    {
     "name": "stdout",
     "output_type": "stream",
     "text": [
      "\n",
      "EpicardialCells\n",
      "no subsampling\n",
      "fine_grain\n",
      "MesothelialEpicardialCells    2839\n",
      "EpicardiumDerivedCells        1347\n",
      "Name: count, dtype: int64\n"
     ]
    },
    {
     "name": "stderr",
     "output_type": "stream",
     "text": [
      "✂️ 172 non-expressed genes are filtered out\n"
     ]
    },
    {
     "name": "stderr",
     "output_type": "stream",
     "text": [
      "🔬 Input data has 4186 cells and 4829 genes\n"
     ]
    },
    {
     "name": "stderr",
     "output_type": "stream",
     "text": [
      "⚖️ Scaling input data\n"
     ]
    },
    {
     "name": "stderr",
     "output_type": "stream",
     "text": [
      "🏋️ Training data using logistic regression\n"
     ]
    },
    {
     "name": "stderr",
     "output_type": "stream",
     "text": [
      "✅ Model training done!\n"
     ]
    },
    {
     "name": "stderr",
     "output_type": "stream",
     "text": [
      "🍳 Preparing data before training\n"
     ]
    },
    {
     "name": "stdout",
     "output_type": "stream",
     "text": [
      "\n",
      "Neurons\n",
      "no subsampling\n",
      "fine_grain\n",
      "SympatheticNeurons        1055\n",
      "NeuronPrecursors           776\n",
      "ParasympatheticNeurons     549\n",
      "ChromaffinCells            228\n",
      "Name: count, dtype: int64\n"
     ]
    },
    {
     "name": "stderr",
     "output_type": "stream",
     "text": [
      "✂️ 327 non-expressed genes are filtered out\n"
     ]
    },
    {
     "name": "stderr",
     "output_type": "stream",
     "text": [
      "🔬 Input data has 2608 cells and 4674 genes\n"
     ]
    },
    {
     "name": "stderr",
     "output_type": "stream",
     "text": [
      "⚖️ Scaling input data\n"
     ]
    },
    {
     "name": "stderr",
     "output_type": "stream",
     "text": [
      "🏋️ Training data using logistic regression\n"
     ]
    },
    {
     "name": "stderr",
     "output_type": "stream",
     "text": [
      "✅ Model training done!\n"
     ]
    },
    {
     "name": "stderr",
     "output_type": "stream",
     "text": [
      "🍳 Preparing data before training\n"
     ]
    },
    {
     "name": "stdout",
     "output_type": "stream",
     "text": [
      "\n",
      "Glia\n",
      "no subsampling\n",
      "fine_grain\n",
      "SchwannCells             2263\n",
      "SchwannCellPrecursors    1278\n",
      "Name: count, dtype: int64\n"
     ]
    },
    {
     "name": "stderr",
     "output_type": "stream",
     "text": [
      "✂️ 295 non-expressed genes are filtered out\n"
     ]
    },
    {
     "name": "stderr",
     "output_type": "stream",
     "text": [
      "🔬 Input data has 3541 cells and 4706 genes\n"
     ]
    },
    {
     "name": "stderr",
     "output_type": "stream",
     "text": [
      "⚖️ Scaling input data\n"
     ]
    },
    {
     "name": "stderr",
     "output_type": "stream",
     "text": [
      "🏋️ Training data using logistic regression\n"
     ]
    },
    {
     "name": "stderr",
     "output_type": "stream",
     "text": [
      "✅ Model training done!\n"
     ]
    },
    {
     "name": "stdout",
     "output_type": "stream",
     "text": [
      "\n",
      "MyeloidCells\n",
      "subsampling\n"
     ]
    },
    {
     "name": "stderr",
     "output_type": "stream",
     "text": [
      "🍳 Preparing data before training\n"
     ]
    },
    {
     "name": "stdout",
     "output_type": "stream",
     "text": [
      "fine_grain\n",
      "MacrophagesCX3CR1pos          2000\n",
      "MacrophagesLYVE1pos           2000\n",
      "MacrophagesATF3pos            1844\n",
      "Monocytes                      900\n",
      "MastCells                      866\n",
      "MonocyteDerivedCells           661\n",
      "DendriticCellsType1            609\n",
      "PlasmacytoidDendriticCells     608\n",
      "MacrophagesTIMD4pos            470\n",
      "MonocytesMPOpos                414\n",
      "Megakaryocytes                 360\n",
      "DendriticCellsMature           184\n",
      "Name: count, dtype: int64\n"
     ]
    },
    {
     "name": "stderr",
     "output_type": "stream",
     "text": [
      "✂️ 126 non-expressed genes are filtered out\n"
     ]
    },
    {
     "name": "stderr",
     "output_type": "stream",
     "text": [
      "🔬 Input data has 10916 cells and 4875 genes\n"
     ]
    },
    {
     "name": "stderr",
     "output_type": "stream",
     "text": [
      "⚖️ Scaling input data\n"
     ]
    },
    {
     "name": "stderr",
     "output_type": "stream",
     "text": [
      "🏋️ Training data using logistic regression\n"
     ]
    },
    {
     "name": "stderr",
     "output_type": "stream",
     "text": [
      "✅ Model training done!\n"
     ]
    },
    {
     "name": "stderr",
     "output_type": "stream",
     "text": [
      "🍳 Preparing data before training\n"
     ]
    },
    {
     "name": "stdout",
     "output_type": "stream",
     "text": [
      "\n",
      "LymphoidCells\n",
      "no subsampling\n",
      "fine_grain\n",
      "TCellsCD4pos           5660\n",
      "BCellsMS4A1pos         3470\n",
      "NaturalKillerCells     2483\n",
      "TCellsCD8pos           2297\n",
      "TregsCD4pos            2096\n",
      "BCells                 2058\n",
      "InnateLymphoidCells    1719\n",
      "ProBCells              1301\n",
      "Name: count, dtype: int64\n"
     ]
    },
    {
     "name": "stderr",
     "output_type": "stream",
     "text": [
      "✂️ 112 non-expressed genes are filtered out\n"
     ]
    },
    {
     "name": "stderr",
     "output_type": "stream",
     "text": [
      "🔬 Input data has 21084 cells and 4889 genes\n"
     ]
    },
    {
     "name": "stderr",
     "output_type": "stream",
     "text": [
      "⚖️ Scaling input data\n"
     ]
    },
    {
     "name": "stderr",
     "output_type": "stream",
     "text": [
      "🏋️ Training data using logistic regression\n"
     ]
    },
    {
     "name": "stderr",
     "output_type": "stream",
     "text": [
      "✅ Model training done!\n"
     ]
    },
    {
     "name": "stdout",
     "output_type": "stream",
     "text": [
      "\n",
      "CPU times: user 20.3 s, sys: 9.29 s, total: 29.6 s\n",
      "Wall time: 7min 19s\n"
     ]
    }
   ],
   "source": [
    "%%time\n",
    "n_cell_subsample_dict = {\n",
    "    'AtrialCardiomyocytes':2000,\n",
    "    'VentricularCardiomyocytes':5000,\n",
    "    'Fibroblasts':5000,\n",
    "    'MuralCells':5000,\n",
    "    'PericardialCells':5000,\n",
    "    'BloodVesselEndothelialCells':2000,\n",
    "    'EndocardialCells':2000,\n",
    "    # 'LymphaticEndothelialCells':None, # only one cell type\n",
    "    'EpicardialCells':None,\n",
    "    'Neurons':None,\n",
    "    'Glia':None,\n",
    "    'MyeloidCells':2000,\n",
    "    'LymphoidCells':None\n",
    "}\n",
    "label_compartment = 'mid_grain_mod'\n",
    "label_target = 'fine_grain'\n",
    "\n",
    "for celltype,n_cell_subsample in n_cell_subsample_dict.items():\n",
    "    print(celltype)\n",
    "    # subset\n",
    "    adata_sub = adata[adata.obs[label_compartment]==celltype]\n",
    "    # subsample\n",
    "    if n_cell_subsample!=None:\n",
    "        print('subsampling')\n",
    "        adata_sub = utils.sctk_subsample(adata_sub,fraction=1,groupby=label_target,max_n=n_cell_subsample,random_state=0)\n",
    "    else:\n",
    "        print('no subsampling')\n",
    "    print(adata_sub.obs[label_target].value_counts())\n",
    "    # training\n",
    "    model = celltypist.train(adata_sub,\n",
    "                         labels = label_target,\n",
    "                         n_jobs = 10,\n",
    "                         feature_selection = False, # since manually selected\n",
    "                         check_expression = False\n",
    "                        )\n",
    "    # save model\n",
    "    model.write(f'/nfs/team205/kk18/notebooks/Foetal/Xenium/5K/celltypist_models/midmod2fine_{celltype}.pkl')\n",
    "    print('')"
   ]
  },
  {
   "cell_type": "code",
   "execution_count": null,
   "id": "87d44792",
   "metadata": {
    "papermill": {
     "duration": 0.039441,
     "end_time": "2024-11-19T21:40:35.545752",
     "exception": false,
     "start_time": "2024-11-19T21:40:35.506311",
     "status": "completed"
    },
    "tags": []
   },
   "outputs": [],
   "source": []
  }
 ],
 "metadata": {
  "accelerator": "GPU",
  "colab": {
   "authorship_tag": "ABX9TyP8dftkXIq4ic4InSf6yIDe",
   "name": "kk36_Adult-heart_MultiVI_20210906.ipynb",
   "provenance": []
  },
  "kernelspec": {
   "display_name": "bin2cell",
   "language": "python",
   "name": "bin2cell"
  },
  "language_info": {
   "codemirror_mode": {
    "name": "ipython",
    "version": 3
   },
   "file_extension": ".py",
   "mimetype": "text/x-python",
   "name": "python",
   "nbconvert_exporter": "python",
   "pygments_lexer": "ipython3",
   "version": "3.11.9"
  },
  "papermill": {
   "default_parameters": {},
   "duration": 20016.904769,
   "end_time": "2024-11-19T21:40:39.139425",
   "environment_variables": {},
   "exception": null,
   "input_path": "../celltypist_foetal_rna_5K.ipynb",
   "output_path": "../notebook_outs/celltypist_foetal_rna_5K_out_19Nov2024.ipynb",
   "parameters": {},
   "start_time": "2024-11-19T16:07:02.234656",
   "version": "2.6.0"
  }
 },
 "nbformat": 4,
 "nbformat_minor": 5
}