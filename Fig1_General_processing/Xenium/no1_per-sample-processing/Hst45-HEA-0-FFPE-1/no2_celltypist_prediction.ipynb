{
 "cells": [
  {
   "cell_type": "code",
   "execution_count": null,
   "id": "78ec7d26-9a88-4ec0-87b3-279e2ed71186",
   "metadata": {
    "tags": []
   },
   "outputs": [],
   "source": [
    "import matplotlib.pyplot as plt\n",
    "import scanpy as sc\n",
    "import numpy as np\n",
    "import pandas as pd\n",
    "import matplotlib.pyplot as plt\n",
    "import seaborn as sns\n",
    "import os\n",
    "\n",
    "import celltypist"
   ]
  },
  {
   "cell_type": "code",
   "execution_count": null,
   "id": "6727870c-7a27-4978-9794-0dfb6c5c12bd",
   "metadata": {
    "tags": []
   },
   "outputs": [],
   "source": [
    "import session_info\n",
    "session_info.show()"
   ]
  },
  {
   "cell_type": "code",
   "execution_count": null,
   "id": "9917c460-8582-4d59-aad6-89ba51b26048",
   "metadata": {
    "tags": []
   },
   "outputs": [],
   "source": [
    "sc.settings.set_figure_params(dpi=80)"
   ]
  },
  {
   "cell_type": "markdown",
   "id": "86c1f297-16ad-4600-a1fa-2c2a1deca331",
   "metadata": {},
   "source": [
    "# Variables"
   ]
  },
  {
   "cell_type": "code",
   "execution_count": null,
   "id": "eaf3fab0-0a55-49b2-91e0-7bdc55db118a",
   "metadata": {
    "tags": []
   },
   "outputs": [],
   "source": [
    "sample_id = 'Hst45-HEA-0-FFPE-1'\n",
    "path_adata = f'/home/kk837/rds/rds-teichlab-C9woKbOCf2Y/kk837/Foetal/anndata_objects/Xenium/{sample_id}_5K_filtered_raw.h5ad'\n",
    "celltypist_model_dir = '/rfs/project/rfs-iCNyzSAaucw/kk837/notebooks/Foetal/Xenium/5K/celltypist_models'"
   ]
  },
  {
   "cell_type": "code",
   "execution_count": null,
   "id": "ffd44500-c132-4604-973a-2c8842227178",
   "metadata": {
    "tags": []
   },
   "outputs": [],
   "source": [
    "os.getcwd()"
   ]
  },
  {
   "cell_type": "markdown",
   "id": "cb9e6fd0-f4e7-4f19-bcaf-c256d8c9b267",
   "metadata": {},
   "source": [
    "# Read in data"
   ]
  },
  {
   "cell_type": "code",
   "execution_count": null,
   "id": "bc2e8956-79c6-47f0-ac16-05f6a48ac0cd",
   "metadata": {
    "tags": []
   },
   "outputs": [],
   "source": [
    "adata = sc.read_h5ad(path_adata)\n",
    "adata"
   ]
  },
  {
   "cell_type": "markdown",
   "id": "aa5d3f12-fea0-4120-b159-1070ab52ef18",
   "metadata": {},
   "source": [
    "# Normalise the counts"
   ]
  },
  {
   "cell_type": "code",
   "execution_count": null,
   "id": "e95cb796-8f4d-4a76-920e-50913032a958",
   "metadata": {
    "tags": []
   },
   "outputs": [],
   "source": [
    "sc.pp.filter_genes(adata, min_cells=3)"
   ]
  },
  {
   "cell_type": "code",
   "execution_count": null,
   "id": "a59341bf-5753-448d-a3c8-aa1ffa565a67",
   "metadata": {
    "tags": []
   },
   "outputs": [],
   "source": [
    "adata.shape"
   ]
  },
  {
   "cell_type": "code",
   "execution_count": null,
   "id": "ceadefcf-8a9d-41db-9a03-4e63f530d235",
   "metadata": {
    "tags": []
   },
   "outputs": [],
   "source": [
    "sc.pp.normalize_total(adata, target_sum=1e4)\n",
    "sc.pp.log1p(adata)"
   ]
  },
  {
   "cell_type": "code",
   "execution_count": null,
   "id": "041f2b7e-12e2-4e4e-bae5-139d7cd5f6c7",
   "metadata": {},
   "outputs": [],
   "source": [
    "adata.X.data[:5]"
   ]
  },
  {
   "cell_type": "markdown",
   "id": "e0b8299d-448c-4695-8593-9735f933af34",
   "metadata": {},
   "source": [
    "# CellTypist prediction: coarse-grain"
   ]
  },
  {
   "cell_type": "code",
   "execution_count": null,
   "id": "b68b926d-dc32-45a4-9792-34900c3f802f",
   "metadata": {
    "tags": []
   },
   "outputs": [],
   "source": [
    "# coarse-grained\n",
    "predictions_b2c = celltypist.annotate(adata, \n",
    "                                  model = f'{celltypist_model_dir}/global2coarse.pkl', \n",
    "                                  majority_voting = False)\n",
    "\n",
    "# add to anndata\n",
    "adata = predictions_b2c.to_adata(insert_labels = True, insert_conf = True)\n",
    "adata.obs.rename(columns={'predicted_labels':'celltypist_coarse',\n",
    "                              'conf_score':'conf_score_coarse'\n",
    "                             },inplace=True)\n",
    "adata.obs.head()"
   ]
  },
  {
   "cell_type": "code",
   "execution_count": null,
   "id": "de789580",
   "metadata": {},
   "outputs": [],
   "source": [
    "sc.pl.spatial(adata,color=['celltypist_coarse','conf_score_coarse'],cmap='RdPu',spot_size=20,vmax='p99',ncols=1)"
   ]
  },
  {
   "cell_type": "code",
   "execution_count": null,
   "id": "99bf5b6c-db1e-49ff-bbe4-199b3cd21763",
   "metadata": {},
   "outputs": [],
   "source": [
    "# celltypist confidence\n",
    "plt.figure(figsize=(6, 2))\n",
    "sns.histplot(adata.obs[f'conf_score_coarse'], kde=False, bins=100)\n",
    "# plt.yscale('log')\n",
    "plt.title('coarse_grained')\n",
    "plt.show()"
   ]
  },
  {
   "cell_type": "code",
   "execution_count": null,
   "id": "2fedb7ff-4f8e-4100-9816-bc5a0175c7b5",
   "metadata": {
    "tags": []
   },
   "outputs": [],
   "source": [
    "# check\n",
    "conf_thresh = 0.5 # starting from relaxed threshold\n",
    "pd.crosstab(adata.obs['celltypist_coarse'],adata.obs[f'conf_score_coarse']<conf_thresh)"
   ]
  },
  {
   "cell_type": "code",
   "execution_count": null,
   "id": "e60a3ec4-7298-4a76-8d96-c348306e05d8",
   "metadata": {
    "tags": []
   },
   "outputs": [],
   "source": [
    "# finalised coarse-grained labels\n",
    "conf_thresh = 0.5\n",
    "adata.obs['celltypist_coarse_fin'] = adata.obs['celltypist_coarse'].astype('str').copy()\n",
    "low_quality_cells = adata.obs_names[adata.obs[f'conf_score_coarse']<conf_thresh]\n",
    "adata.obs.loc[low_quality_cells,'celltypist_coarse_fin'] = 'unassigned'\n",
    "adata.obs['celltypist_coarse_fin'].value_counts()"
   ]
  },
  {
   "cell_type": "code",
   "execution_count": null,
   "id": "494057b4-31a5-4d08-a3cf-69d7c082fcf9",
   "metadata": {
    "tags": []
   },
   "outputs": [],
   "source": [
    "sc.pl.spatial(adata,color=['celltypist_coarse_fin'],cmap='RdPu',spot_size=20,vmax='p99',ncols=1)"
   ]
  },
  {
   "cell_type": "markdown",
   "id": "69daf904-dd7f-4086-84c3-326604e5db03",
   "metadata": {},
   "source": [
    "# CellTypist prediction: mid-grain"
   ]
  },
  {
   "cell_type": "code",
   "execution_count": null,
   "id": "ad99b7b3-1ecf-4fdd-9e6d-240b8cb69fda",
   "metadata": {
    "tags": []
   },
   "outputs": [],
   "source": [
    "adata.obs['celltypist_coarse2midmod'] = np.nan\n",
    "adata.obs['conf_score_coarse2midmod'] = np.nan\n",
    "\n",
    "for celltype in adata.obs['celltypist_coarse_fin'].unique():\n",
    "    if celltype not in ['unassigned', 'Epicardium']: # 'Epicardium' is also 'Epicardium' in mid-grained\n",
    "        print(celltype)\n",
    "        # subset\n",
    "        adata_sub = adata[adata.obs['celltypist_coarse_fin']==celltype]\n",
    "        # predict\n",
    "        predictions = celltypist.annotate(adata_sub, \n",
    "                                      model = f'{celltypist_model_dir}/coarse2midmod_{celltype}.pkl', \n",
    "                                      majority_voting = False)\n",
    "        # add to anndata\n",
    "        adata_sub = predictions.to_adata(insert_labels = True, insert_conf = True)\n",
    "        adata.obs.loc[adata_sub.obs_names,'celltypist_coarse2midmod'] = adata_sub.obs['predicted_labels']\n",
    "        adata.obs.loc[adata_sub.obs_names,'conf_score_coarse2midmod'] = adata_sub.obs['conf_score']\n",
    "        print('')"
   ]
  },
  {
   "cell_type": "code",
   "execution_count": null,
   "id": "dd390176-03e8-486e-b0e3-fe3ab739a521",
   "metadata": {
    "tags": []
   },
   "outputs": [],
   "source": [
    "sc.pl.spatial(adata,color=['celltypist_coarse2midmod','conf_score_coarse2midmod'],\n",
    "              cmap='RdPu',spot_size=20,vmax='p99',ncols=1)"
   ]
  },
  {
   "cell_type": "code",
   "execution_count": null,
   "id": "5686054d-37cd-4179-80ef-c213ebb34662",
   "metadata": {
    "tags": []
   },
   "outputs": [],
   "source": [
    "# check\n",
    "conf_thresh = 0.8\n",
    "pd.crosstab(adata.obs['celltypist_coarse2midmod'],adata.obs[f'conf_score_coarse2midmod']<conf_thresh)"
   ]
  },
  {
   "cell_type": "code",
   "execution_count": null,
   "id": "96ea37fe-ad50-455f-8b22-ba7c0f2b7392",
   "metadata": {
    "tags": []
   },
   "outputs": [],
   "source": [
    "# finalised mid-grained labels\n",
    "conf_thresh = 0.8\n",
    "adata.obs['celltypist_mid_fin'] = adata.obs['celltypist_coarse_fin'].astype('str').copy()\n",
    "adata.obs.replace({'celltypist_mid_fin':{'Epicardium':'EpicardialCells'}},inplace=True)\n",
    "passed = adata.obs_names[adata.obs['conf_score_coarse2midmod']>=conf_thresh]\n",
    "low_quality_cells = adata.obs_names[adata.obs[f'conf_score_coarse2midmod']<conf_thresh]\n",
    "\n",
    "adata.obs.loc[passed,'celltypist_mid_fin'] = adata.obs.loc[passed,'celltypist_coarse2midmod'].copy()\n",
    "adata.obs.loc[low_quality_cells,'celltypist_mid_fin'] = 'unassigned'\n",
    "adata.obs['celltypist_mid_fin'].value_counts()"
   ]
  },
  {
   "cell_type": "code",
   "execution_count": null,
   "id": "1f7b288d-f3b9-4cf6-956e-802378578810",
   "metadata": {
    "tags": []
   },
   "outputs": [],
   "source": [
    "sc.pl.spatial(adata,color=['celltypist_mid_fin'],\n",
    "              cmap='RdPu',spot_size=20,vmax='p99',ncols=1)"
   ]
  },
  {
   "cell_type": "code",
   "execution_count": null,
   "id": "7ebc219c-a162-4a9e-bcf5-d1ecff284d54",
   "metadata": {},
   "outputs": [],
   "source": []
  },
  {
   "cell_type": "markdown",
   "id": "a700cdcd-d993-417e-aee3-5def6140c816",
   "metadata": {},
   "source": [
    "# celltypist prediction: fine-grain"
   ]
  },
  {
   "cell_type": "code",
   "execution_count": null,
   "id": "abf4e531-bf2e-4ace-9d00-8b214c02126d",
   "metadata": {
    "tags": []
   },
   "outputs": [],
   "source": [
    "adata.obs['celltypist_midmod2fine'] = np.nan\n",
    "adata.obs['conf_score_midmod2fine'] = np.nan\n",
    "\n",
    "for celltype in adata.obs['celltypist_mid_fin'].unique():\n",
    "    if celltype not in ['unassigned', 'LymphaticEndothelialCells']: # 'LymphaticEndothelialCells' is also 'LymphaticEndothelialCells' in fine-grained\n",
    "        print(celltype)\n",
    "        # subset\n",
    "        adata_sub = adata[adata.obs['celltypist_mid_fin']==celltype]\n",
    "        # predict\n",
    "        predictions = celltypist.annotate(adata_sub, \n",
    "                                      model = f'{celltypist_model_dir}/midmod2fine_{celltype}.pkl', \n",
    "                                      majority_voting = False)\n",
    "        # add to anndata\n",
    "        adata_sub = predictions.to_adata(insert_labels = True, insert_conf = True)\n",
    "        adata.obs.loc[adata_sub.obs_names,'celltypist_midmod2fine'] = adata_sub.obs['predicted_labels']\n",
    "        adata.obs.loc[adata_sub.obs_names,'conf_score_midmod2fine'] = adata_sub.obs['conf_score']\n",
    "        print('')"
   ]
  },
  {
   "cell_type": "code",
   "execution_count": null,
   "id": "98a8b3f4-a47f-4ba7-aae5-4ec516714d39",
   "metadata": {
    "tags": []
   },
   "outputs": [],
   "source": [
    "sc.pl.spatial(adata,color=['celltypist_midmod2fine','conf_score_midmod2fine'],\n",
    "              cmap='RdPu',spot_size=20,vmax='p99',ncols=1)"
   ]
  },
  {
   "cell_type": "code",
   "execution_count": null,
   "id": "18a0e219-1d15-4fc4-937e-ea1f07de4af6",
   "metadata": {
    "tags": []
   },
   "outputs": [],
   "source": [
    "sc.pl.spatial(adata,color=['celltypist_midmod2fine'],\n",
    "              groups=['SinoatrialNodePacemakerCells','AtrioventricularNodePacemakerCells'],\n",
    "              cmap='RdPu',spot_size=20,vmax='p99',ncols=3)"
   ]
  },
  {
   "cell_type": "code",
   "execution_count": null,
   "id": "95bb64e9-c103-4e98-bd64-42e97945a627",
   "metadata": {
    "tags": []
   },
   "outputs": [],
   "source": [
    "sc.pl.spatial(adata,color=['celltypist_midmod2fine'],\n",
    "              groups=['MacrophagesCX3CR1pos','MacrophagesLYVE1pos'],\n",
    "              cmap='RdPu',spot_size=20,vmax='p99',ncols=3)"
   ]
  },
  {
   "cell_type": "code",
   "execution_count": null,
   "id": "55f9ad25-0a0b-4ffe-8ecd-43cd39f309aa",
   "metadata": {},
   "outputs": [],
   "source": []
  },
  {
   "cell_type": "markdown",
   "id": "31e7c235-bed9-4b65-907f-ac767748258a",
   "metadata": {},
   "source": [
    "# Save"
   ]
  },
  {
   "cell_type": "code",
   "execution_count": null,
   "id": "f361920b-0fbe-49f9-bc5f-25733e6d8007",
   "metadata": {
    "tags": []
   },
   "outputs": [],
   "source": [
    "adata.write(f'/home/kk837/rds/rds-teichlab-C9woKbOCf2Y/kk837/Foetal/anndata_objects/Xenium/{sample_id}_5K_filtered_lognorm.h5ad')"
   ]
  },
  {
   "cell_type": "code",
   "execution_count": null,
   "id": "58e7c829-3a42-4254-8cc1-a6d9cc04571e",
   "metadata": {
    "tags": []
   },
   "outputs": [],
   "source": [
    "print(f'/home/kk837/rds/rds-teichlab-C9woKbOCf2Y/kk837/Foetal/anndata_objects/Xenium/{sample_id}_5K_filtered_lognorm.h5ad')"
   ]
  },
  {
   "cell_type": "code",
   "execution_count": null,
   "id": "06db2f0c-c867-4164-b5d8-6f2baff22d70",
   "metadata": {},
   "outputs": [],
   "source": [
    "adata"
   ]
  },
  {
   "cell_type": "code",
   "execution_count": null,
   "id": "14d7fe22-c5c3-480c-b450-fe18fdfbaa9e",
   "metadata": {},
   "outputs": [],
   "source": []
  }
 ],
 "metadata": {
  "kernelspec": {
   "display_name": "generic_env",
   "language": "python",
   "name": "generic_env"
  },
  "language_info": {
   "codemirror_mode": {
    "name": "ipython",
    "version": 3
   },
   "file_extension": ".py",
   "mimetype": "text/x-python",
   "name": "python",
   "nbconvert_exporter": "python",
   "pygments_lexer": "ipython3",
   "version": "3.10.14"
  }
 },
 "nbformat": 4,
 "nbformat_minor": 5
}
