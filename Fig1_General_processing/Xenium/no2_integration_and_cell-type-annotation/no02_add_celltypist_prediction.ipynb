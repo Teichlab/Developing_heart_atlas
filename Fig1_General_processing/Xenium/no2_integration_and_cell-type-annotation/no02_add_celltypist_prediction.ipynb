{
 "cells": [
  {
   "cell_type": "code",
   "execution_count": 1,
   "id": "78ec7d26-9a88-4ec0-87b3-279e2ed71186",
   "metadata": {
    "tags": []
   },
   "outputs": [],
   "source": [
    "import matplotlib.pyplot as plt\n",
    "import scanpy as sc\n",
    "import numpy as np\n",
    "import pandas as pd\n",
    "import matplotlib.pyplot as plt\n",
    "import seaborn as sns\n",
    "import os\n",
    "\n",
    "import celltypist"
   ]
  },
  {
   "cell_type": "code",
   "execution_count": 2,
   "id": "6727870c-7a27-4978-9794-0dfb6c5c12bd",
   "metadata": {
    "tags": []
   },
   "outputs": [],
   "source": [
    "# import session_info\n",
    "# session_info.show()"
   ]
  },
  {
   "cell_type": "code",
   "execution_count": 3,
   "id": "9917c460-8582-4d59-aad6-89ba51b26048",
   "metadata": {
    "tags": []
   },
   "outputs": [],
   "source": [
    "sc.settings.set_figure_params(dpi=80)"
   ]
  },
  {
   "cell_type": "code",
   "execution_count": 4,
   "id": "ffd44500-c132-4604-973a-2c8842227178",
   "metadata": {
    "tags": []
   },
   "outputs": [
    {
     "data": {
      "text/plain": [
       "'/rfs/project/rfs-iCNyzSAaucw/kk837/notebooks/Foetal/Xenium/5K/C194_Hst45/CamU'"
      ]
     },
     "execution_count": 4,
     "metadata": {},
     "output_type": "execute_result"
    }
   ],
   "source": [
    "os.getcwd()"
   ]
  },
  {
   "cell_type": "markdown",
   "id": "86c1f297-16ad-4600-a1fa-2c2a1deca331",
   "metadata": {},
   "source": [
    "# Variables"
   ]
  },
  {
   "cell_type": "code",
   "execution_count": 5,
   "id": "eaf3fab0-0a55-49b2-91e0-7bdc55db118a",
   "metadata": {
    "tags": []
   },
   "outputs": [],
   "source": [
    "objects_dir = '/home/kk837/rds/rds-teichlab-C9woKbOCf2Y/kk837/Foetal/anndata_objects/Xenium'"
   ]
  },
  {
   "cell_type": "markdown",
   "id": "cb9e6fd0-f4e7-4f19-bcaf-c256d8c9b267",
   "metadata": {},
   "source": [
    "# Read in data"
   ]
  },
  {
   "cell_type": "code",
   "execution_count": 6,
   "id": "bc2e8956-79c6-47f0-ac16-05f6a48ac0cd",
   "metadata": {
    "tags": []
   },
   "outputs": [
    {
     "data": {
      "text/plain": [
       "AnnData object with n_obs × n_vars = 362277 × 5001\n",
       "    obs: 'cell_id', 'x_centroid', 'y_centroid', 'transcript_counts', 'control_probe_counts', 'genomic_control_counts', 'control_codeword_counts', 'unassigned_codeword_counts', 'deprecated_codeword_counts', 'total_counts', 'cell_area', 'nucleus_area', 'nucleus_count', 'segmentation_method', 'n_genes_by_counts', 'log1p_n_genes_by_counts', 'log1p_total_counts', 'pct_counts_in_top_10_genes', 'pct_counts_in_top_20_genes', 'pct_counts_in_top_50_genes', 'pct_counts_in_top_150_genes', 'n_counts', 'n_genes', 'tissue_block_id'\n",
       "    var: 'gene_ids', 'feature_types', 'genome', 'n_cells_by_counts-0', 'mean_counts-0', 'log1p_mean_counts-0', 'pct_dropout_by_counts-0', 'total_counts-0', 'log1p_total_counts-0', 'n_cells_by_counts-1', 'mean_counts-1', 'log1p_mean_counts-1', 'pct_dropout_by_counts-1', 'total_counts-1', 'log1p_total_counts-1'\n",
       "    obsm: 'spatial'"
      ]
     },
     "execution_count": 6,
     "metadata": {},
     "output_type": "execute_result"
    }
   ],
   "source": [
    "adata = sc.read_h5ad(f'{objects_dir}/C194-HEA-0-FFPE-1_Hst45-HEA-0-FFPE-1_concat_5K_filtered_raw.h5ad')\n",
    "adata"
   ]
  },
  {
   "cell_type": "code",
   "execution_count": 7,
   "id": "041f2b7e-12e2-4e4e-bae5-139d7cd5f6c7",
   "metadata": {},
   "outputs": [
    {
     "data": {
      "text/plain": [
       "array([5., 1., 1., 2., 2.], dtype=float32)"
      ]
     },
     "execution_count": 7,
     "metadata": {},
     "output_type": "execute_result"
    }
   ],
   "source": [
    "adata.X.data[:5]"
   ]
  },
  {
   "cell_type": "markdown",
   "id": "925551e4-37a1-4139-a3ff-ee26631c5253",
   "metadata": {},
   "source": [
    "# Add celltypist prediction results"
   ]
  },
  {
   "cell_type": "code",
   "execution_count": 8,
   "id": "b4cc03cf-19d5-49d0-bec1-6b5746bce95a",
   "metadata": {
    "tags": []
   },
   "outputs": [],
   "source": [
    "columns_to_transfer = ['celltypist_coarse', 'conf_score_coarse', 'celltypist_coarse_fin', 'celltypist_coarse2midmod', 'conf_score_coarse2midmod',\n",
    "                       'celltypist_mid_fin', 'celltypist_midmod2fine', 'conf_score_midmod2fine']"
   ]
  },
  {
   "cell_type": "code",
   "execution_count": 9,
   "id": "c4208a1b-ac23-4ada-b132-76feb39711e7",
   "metadata": {
    "tags": []
   },
   "outputs": [],
   "source": [
    "c194 = sc.read_h5ad(f'{objects_dir}/C194-HEA-0-FFPE-1_5K_filtered_lognorm.h5ad',\n",
    "                    backed='r'\n",
    "                   )\n",
    "hst45 = sc.read_h5ad(f'{objects_dir}/Hst45-HEA-0-FFPE-1_5K_filtered_lognorm.h5ad',\n",
    "                    backed='r'\n",
    "                   )"
   ]
  },
  {
   "cell_type": "code",
   "execution_count": 10,
   "id": "a81b0a17-d973-4f94-8738-d14614a7eacd",
   "metadata": {
    "tags": []
   },
   "outputs": [
    {
     "name": "stdout",
     "output_type": "stream",
     "text": [
      "celltypist_coarse              0\n",
      "conf_score_coarse              0\n",
      "celltypist_coarse_fin          0\n",
      "celltypist_coarse2midmod    4000\n",
      "conf_score_coarse2midmod    4000\n",
      "celltypist_mid_fin             0\n",
      "celltypist_midmod2fine      6917\n",
      "conf_score_midmod2fine      6917\n",
      "dtype: int64\n",
      "celltypist_coarse              0\n",
      "conf_score_coarse              0\n",
      "celltypist_coarse_fin          0\n",
      "celltypist_coarse2midmod    2081\n",
      "conf_score_coarse2midmod    2081\n",
      "celltypist_mid_fin             0\n",
      "celltypist_midmod2fine      4724\n",
      "conf_score_midmod2fine      4724\n",
      "dtype: int64\n"
     ]
    }
   ],
   "source": [
    "print(c194.obs[columns_to_transfer].isna().sum())\n",
    "print(hst45.obs[columns_to_transfer].isna().sum())"
   ]
  },
  {
   "cell_type": "code",
   "execution_count": 11,
   "id": "aa8d0063-c4f3-430b-b7fb-f89b0f14d6fd",
   "metadata": {
    "tags": []
   },
   "outputs": [],
   "source": [
    "# update obsnames\n",
    "c194.obs_names = list('C194-HEA-0-FFPE-1_'+c194.obs_names.astype('str'))\n",
    "hst45.obs_names = list('Hst45-HEA-0-FFPE-1_'+hst45.obs_names.astype('str'))"
   ]
  },
  {
   "cell_type": "code",
   "execution_count": 12,
   "id": "3c35b0dd-b856-4cd1-a67a-555051393f87",
   "metadata": {
    "tags": []
   },
   "outputs": [],
   "source": [
    "# add\n",
    "adata.obs[columns_to_transfer] = np.nan\n",
    "adata.obs.loc[c194.obs_names,columns_to_transfer] = c194.obs[columns_to_transfer]\n",
    "adata.obs.loc[hst45.obs_names,columns_to_transfer] = hst45.obs[columns_to_transfer]"
   ]
  },
  {
   "cell_type": "code",
   "execution_count": 13,
   "id": "97450d97-f370-4d19-a70b-5466e26a8518",
   "metadata": {
    "tags": []
   },
   "outputs": [
    {
     "data": {
      "text/plain": [
       "celltypist_coarse               0\n",
       "conf_score_coarse               0\n",
       "celltypist_coarse_fin           0\n",
       "celltypist_coarse2midmod     6081\n",
       "conf_score_coarse2midmod     6081\n",
       "celltypist_mid_fin              0\n",
       "celltypist_midmod2fine      11641\n",
       "conf_score_midmod2fine      11641\n",
       "dtype: int64"
      ]
     },
     "execution_count": 13,
     "metadata": {},
     "output_type": "execute_result"
    }
   ],
   "source": [
    "# check if there's rows missing prediction results\n",
    "adata.obs[columns_to_transfer].isna().sum()"
   ]
  },
  {
   "cell_type": "markdown",
   "id": "8d9c9770-2662-48e8-a357-bea20c023162",
   "metadata": {},
   "source": [
    "--> looks ok"
   ]
  },
  {
   "cell_type": "code",
   "execution_count": null,
   "id": "98bf6931-bd1d-4377-a0e5-16a868aa8226",
   "metadata": {},
   "outputs": [],
   "source": []
  },
  {
   "cell_type": "markdown",
   "id": "de816ac3-7434-46ec-8e57-133f28e374ed",
   "metadata": {},
   "source": [
    "# Save"
   ]
  },
  {
   "cell_type": "code",
   "execution_count": 14,
   "id": "53605210-7da2-429b-83a0-aae15c142a4a",
   "metadata": {
    "tags": []
   },
   "outputs": [
    {
     "name": "stderr",
     "output_type": "stream",
     "text": [
      "... storing 'celltypist_coarse' as categorical\n",
      "... storing 'celltypist_coarse_fin' as categorical\n",
      "... storing 'celltypist_coarse2midmod' as categorical\n",
      "... storing 'celltypist_mid_fin' as categorical\n",
      "... storing 'celltypist_midmod2fine' as categorical\n"
     ]
    },
    {
     "data": {
      "text/plain": [
       "'/home/kk837/rds/rds-teichlab-C9woKbOCf2Y/kk837/Foetal/anndata_objects/Xenium/C194-HEA-0-FFPE-1_Hst45-HEA-0-FFPE-1_concat_5K_filtered_raw.h5ad'"
      ]
     },
     "execution_count": 14,
     "metadata": {},
     "output_type": "execute_result"
    }
   ],
   "source": [
    "adata.write(f'{objects_dir}/C194-HEA-0-FFPE-1_Hst45-HEA-0-FFPE-1_concat_5K_filtered_raw.h5ad')\n",
    "f'{objects_dir}/C194-HEA-0-FFPE-1_Hst45-HEA-0-FFPE-1_concat_5K_filtered_raw.h5ad'"
   ]
  },
  {
   "cell_type": "code",
   "execution_count": 15,
   "id": "06db2f0c-c867-4164-b5d8-6f2baff22d70",
   "metadata": {},
   "outputs": [
    {
     "data": {
      "text/plain": [
       "array([5., 1., 1., 2., 2.], dtype=float32)"
      ]
     },
     "execution_count": 15,
     "metadata": {},
     "output_type": "execute_result"
    }
   ],
   "source": [
    "adata.X.data[:5]"
   ]
  },
  {
   "cell_type": "code",
   "execution_count": null,
   "id": "14d7fe22-c5c3-480c-b450-fe18fdfbaa9e",
   "metadata": {},
   "outputs": [],
   "source": []
  }
 ],
 "metadata": {
  "kernelspec": {
   "display_name": "generic_env",
   "language": "python",
   "name": "generic_env"
  },
  "language_info": {
   "codemirror_mode": {
    "name": "ipython",
    "version": 3
   },
   "file_extension": ".py",
   "mimetype": "text/x-python",
   "name": "python",
   "nbconvert_exporter": "python",
   "pygments_lexer": "ipython3",
   "version": "3.10.14"
  }
 },
 "nbformat": 4,
 "nbformat_minor": 5
}
