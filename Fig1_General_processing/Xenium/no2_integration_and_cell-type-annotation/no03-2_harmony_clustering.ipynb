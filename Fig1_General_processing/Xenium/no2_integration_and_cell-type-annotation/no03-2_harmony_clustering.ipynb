{
 "cells": [
  {
   "cell_type": "code",
   "execution_count": null,
   "id": "e5c78328-4470-4144-a6d1-b7576b7ebb3b",
   "metadata": {
    "papermill": {
     "duration": 6.17179,
     "end_time": "2024-12-02T22:51:31.334161",
     "exception": false,
     "start_time": "2024-12-02T22:51:25.162371",
     "status": "completed"
    },
    "tags": []
   },
   "outputs": [],
   "source": [
    "import scanpy as sc\n",
    "import numpy as np\n",
    "import pandas as pd\n",
    "import os\n",
    "# import rapids_singlecell as rsc\n",
    "from tqdm import tqdm\n",
    "\n",
    "import matplotlib.pyplot as plt\n",
    "import seaborn as sns"
   ]
  },
  {
   "cell_type": "code",
   "execution_count": null,
   "id": "00cb66e9-7f83-42a5-ad25-3c666b3e7d88",
   "metadata": {
    "papermill": {
     "duration": 0.71818,
     "end_time": "2024-12-02T22:51:32.057397",
     "exception": false,
     "start_time": "2024-12-02T22:51:31.339217",
     "status": "completed"
    },
    "tags": []
   },
   "outputs": [],
   "source": [
    "import session_info\n",
    "session_info.show()"
   ]
  },
  {
   "cell_type": "code",
   "execution_count": null,
   "id": "f02cda16-79d6-4a43-a2d6-ccc9cd864bc1",
   "metadata": {
    "papermill": {
     "duration": 0.027665,
     "end_time": "2024-12-02T22:51:32.091004",
     "exception": false,
     "start_time": "2024-12-02T22:51:32.063339",
     "status": "completed"
    },
    "tags": []
   },
   "outputs": [],
   "source": [
    "sc.settings.set_figure_params(dpi=120)"
   ]
  },
  {
   "cell_type": "markdown",
   "id": "4dd3f31f-9fd4-4ff2-b641-24b2efe2c4a8",
   "metadata": {
    "papermill": {
     "duration": 0.00473,
     "end_time": "2024-12-02T22:51:32.100876",
     "exception": false,
     "start_time": "2024-12-02T22:51:32.096146",
     "status": "completed"
    },
    "tags": []
   },
   "source": [
    "# Read in"
   ]
  },
  {
   "cell_type": "code",
   "execution_count": null,
   "id": "e82d7505-0a6b-484d-b191-421b72e5e888",
   "metadata": {
    "papermill": {
     "duration": 7.628301,
     "end_time": "2024-12-02T22:51:39.734234",
     "exception": false,
     "start_time": "2024-12-02T22:51:32.105933",
     "status": "completed"
    },
    "tags": []
   },
   "outputs": [],
   "source": [
    "objects_dir = '/home/kk837/rds/rds-teichlab-C9woKbOCf2Y/kk837/Foetal/anndata_objects/Xenium'\n",
    "path_adata = f'{objects_dir}/C194-HEA-0-FFPE-1_Hst45-HEA-0-FFPE-1_concat_5K_filtered_raw.h5ad'\n",
    "adata = sc.read_h5ad(path_adata)\n",
    "adata"
   ]
  },
  {
   "cell_type": "code",
   "execution_count": null,
   "id": "642fedd6-975a-4405-be3d-3fb1935f7762",
   "metadata": {
    "papermill": {
     "duration": 0.010199,
     "end_time": "2024-12-02T22:51:39.750982",
     "exception": false,
     "start_time": "2024-12-02T22:51:39.740783",
     "status": "completed"
    },
    "tags": []
   },
   "outputs": [],
   "source": [
    "latent_space = 'pca_harmony'"
   ]
  },
  {
   "cell_type": "code",
   "execution_count": null,
   "id": "a83ea94b-5b93-40fb-8b72-0cfaf5c6e916",
   "metadata": {
    "papermill": {
     "duration": 2.431084,
     "end_time": "2024-12-02T22:51:42.187398",
     "exception": false,
     "start_time": "2024-12-02T22:51:39.756314",
     "status": "completed"
    },
    "tags": []
   },
   "outputs": [],
   "source": [
    "sc.pl.embedding(adata, basis=f\"X_umap_{latent_space}\",\n",
    "                color=['total_counts','tissue_block_id'], wspace=0.3, cmap='RdPu')"
   ]
  },
  {
   "cell_type": "code",
   "execution_count": null,
   "id": "bdda1f2c-b90d-47c1-830d-6957b0744049",
   "metadata": {
    "papermill": {
     "duration": 1.630164,
     "end_time": "2024-12-02T22:51:43.846125",
     "exception": false,
     "start_time": "2024-12-02T22:51:42.215961",
     "status": "completed"
    },
    "tags": []
   },
   "outputs": [],
   "source": [
    "sc.pl.embedding(adata, basis=f\"X_umap_{latent_space}\",\n",
    "                color=['celltypist_mid_fin'], wspace=0.2, cmap='RdPu')"
   ]
  },
  {
   "cell_type": "markdown",
   "id": "0bd995ec-3063-4b2d-bb94-6abfeb387086",
   "metadata": {
    "papermill": {
     "duration": 0.04205,
     "end_time": "2024-12-02T22:51:43.932346",
     "exception": false,
     "start_time": "2024-12-02T22:51:43.890296",
     "status": "completed"
    },
    "tags": []
   },
   "source": [
    "# Clustering"
   ]
  },
  {
   "cell_type": "code",
   "execution_count": null,
   "id": "eb9a909c-96bd-4837-ab25-57fceccb1e8f",
   "metadata": {
    "papermill": {
     "duration": 10216.267257,
     "end_time": "2024-12-03T01:42:00.240392",
     "exception": false,
     "start_time": "2024-12-02T22:51:43.973135",
     "status": "completed"
    },
    "tags": []
   },
   "outputs": [],
   "source": [
    "%%time\n",
    "latent_space='pca_harmony'\n",
    "leiden_keys=[]\n",
    "for res in tqdm([0.2,0.3,0.4,0.5,0.8,1.0,1.5,2.0,3.0]):\n",
    "    leiden_key = f\"leiden_{res}\"\n",
    "    key_added=f\"{latent_space}_{leiden_key}\"\n",
    "    sc.tl.leiden(adata,neighbors_key=latent_space,resolution=res,key_added=key_added)\n",
    "    leiden_keys.append(key_added)"
   ]
  },
  {
   "cell_type": "code",
   "execution_count": null,
   "id": "ce4f155e-e935-40d1-9454-97a89a8d70d6",
   "metadata": {
    "papermill": {
     "duration": 14.261595,
     "end_time": "2024-12-03T01:42:14.545610",
     "exception": false,
     "start_time": "2024-12-03T01:42:00.284015",
     "status": "completed"
    },
    "tags": []
   },
   "outputs": [],
   "source": [
    "sc.pl.embedding(adata,basis=f\"X_umap_{latent_space}\",\n",
    "                color=leiden_keys,wspace=0.3,ncols=5)"
   ]
  },
  {
   "cell_type": "code",
   "execution_count": null,
   "id": "7df06a85-eef5-4c8c-ac78-74ce02f20a2f",
   "metadata": {
    "papermill": {
     "duration": 0.153294,
     "end_time": "2024-12-03T01:42:14.855939",
     "exception": false,
     "start_time": "2024-12-03T01:42:14.702645",
     "status": "completed"
    },
    "tags": []
   },
   "outputs": [],
   "source": []
  },
  {
   "cell_type": "markdown",
   "id": "15625a5d-f311-441a-a033-309a00f32466",
   "metadata": {
    "papermill": {
     "duration": 0.14184,
     "end_time": "2024-12-03T01:42:15.142976",
     "exception": false,
     "start_time": "2024-12-03T01:42:15.001136",
     "status": "completed"
    },
    "tags": []
   },
   "source": [
    "# Save"
   ]
  },
  {
   "cell_type": "code",
   "execution_count": null,
   "id": "14a9b3c6-7eca-48e3-b495-a35c4e5b4c69",
   "metadata": {
    "papermill": {
     "duration": 4.465312,
     "end_time": "2024-12-03T01:42:19.751263",
     "exception": false,
     "start_time": "2024-12-03T01:42:15.285951",
     "status": "completed"
    },
    "tags": []
   },
   "outputs": [],
   "source": [
    "adata.write(path_adata)\n",
    "adata"
   ]
  },
  {
   "cell_type": "code",
   "execution_count": null,
   "id": "190a3e61-0880-4b4d-a6c2-c60ed40edb41",
   "metadata": {
    "papermill": {
     "duration": 0.142583,
     "end_time": "2024-12-03T01:42:20.040633",
     "exception": false,
     "start_time": "2024-12-03T01:42:19.898050",
     "status": "completed"
    },
    "tags": []
   },
   "outputs": [],
   "source": []
  }
 ],
 "metadata": {
  "kernelspec": {
   "display_name": "generic_env",
   "language": "python",
   "name": "generic_env"
  },
  "language_info": {
   "codemirror_mode": {
    "name": "ipython",
    "version": 3
   },
   "file_extension": ".py",
   "mimetype": "text/x-python",
   "name": "python",
   "nbconvert_exporter": "python",
   "pygments_lexer": "ipython3",
   "version": "3.10.14"
  },
  "papermill": {
   "default_parameters": {},
   "duration": 10258.392336,
   "end_time": "2024-12-03T01:42:21.131871",
   "environment_variables": {},
   "exception": null,
   "input_path": "../harmony_clustering.ipynb",
   "output_path": "../notebook_outs/harmony_clustering_out_02Dec2024.ipynb",
   "parameters": {},
   "start_time": "2024-12-02T22:51:22.739535",
   "version": "2.6.0"
  }
 },
 "nbformat": 4,
 "nbformat_minor": 5
}
