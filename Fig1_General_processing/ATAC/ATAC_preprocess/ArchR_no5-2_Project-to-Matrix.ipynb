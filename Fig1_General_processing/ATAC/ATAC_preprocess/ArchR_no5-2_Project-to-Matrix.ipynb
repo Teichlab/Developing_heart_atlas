{
 "cells": [
  {
   "cell_type": "markdown",
   "id": "political-winner",
   "metadata": {},
   "source": [
    "Ref:\n",
    "https://www.archrproject.com/bookdown/creating-an-archrproject-1.html"
   ]
  },
  {
   "cell_type": "code",
   "execution_count": 1,
   "id": "decent-adaptation",
   "metadata": {},
   "outputs": [
    {
     "name": "stderr",
     "output_type": "stream",
     "text": [
      "\n",
      "                                                   / |\n",
      "                                                 /    \\\n",
      "            .                                  /      |.\n",
      "            \\\\\\                              /        |.\n",
      "              \\\\\\                          /           `|.\n",
      "                \\\\\\                      /              |.\n",
      "                  \\                    /                |\\\n",
      "                  \\\\#####\\           /                  ||\n",
      "                ==###########>      /                   ||\n",
      "                 \\\\##==......\\    /                     ||\n",
      "            ______ =       =|__ /__                     ||      \\\\\\\n",
      "        ,--' ,----`-,__ ___/'  --,-`-===================##========>\n",
      "       \\               '        ##_______ _____ ,--,__,=##,__   ///\n",
      "        ,    __==    ___,-,__,--'#'  ==='      `-'    | ##,-/\n",
      "        -,____,---'       \\\\####\\\\________________,--\\\\_##,/\n",
      "           ___      .______        ______  __    __  .______      \n",
      "          /   \\     |   _  \\      /      ||  |  |  | |   _  \\     \n",
      "         /  ^  \\    |  |_)  |    |  ,----'|  |__|  | |  |_)  |    \n",
      "        /  /_\\  \\   |      /     |  |     |   __   | |      /     \n",
      "       /  _____  \\  |  |\\  \\\\___ |  `----.|  |  |  | |  |\\  \\\\___.\n",
      "      /__/     \\__\\ | _| `._____| \\______||__|  |__| | _| `._____|\n",
      "    \n",
      "\n",
      "ArchR : Version 1.0.2\n",
      "For more information see our website : www.ArchRProject.com\n",
      "If you encounter a bug please report : https://github.com/GreenleafLab/ArchR/issues\n",
      "\n",
      "Loading Required Packages...\n",
      "\n",
      "\tLoading Package : grid v3.6.1\n",
      "\n",
      "\tLoading Package : gridExtra v2.3\n",
      "\n",
      "\tLoading Package : gtools v3.9.4\n",
      "\n",
      "\tLoading Package : gtable v0.3.3\n",
      "\n",
      "\tLoading Package : ggplot2 v3.4.2\n",
      "\n",
      "\tLoading Package : magrittr v2.0.3\n",
      "\n",
      "\tLoading Package : plyr v1.8.8\n",
      "\n",
      "\tLoading Package : stringr v1.5.0\n",
      "\n",
      "\tLoading Package : data.table v1.14.8\n",
      "\n",
      "\tLoading Package : matrixStats v1.0.0\n",
      "\n",
      "\tLoading Package : S4Vectors v0.24.4\n",
      "\n",
      "\tLoading Package : GenomicRanges v1.38.0\n",
      "\n",
      "\tLoading Package : BiocGenerics v0.32.0\n",
      "\n",
      "\tLoading Package : Matrix v1.5.4.1\n",
      "\n",
      "\tLoading Package : Rcpp v1.0.10\n",
      "\n",
      "\tLoading Package : SummarizedExperiment v1.16.1\n",
      "\n",
      "\tLoading Package : rhdf5 v2.30.1\n",
      "\n",
      "── \u001b[1mAttaching core tidyverse packages\u001b[22m ──────────────────────── tidyverse 2.0.0 ──\n",
      "\u001b[32m✔\u001b[39m \u001b[34mdplyr    \u001b[39m 1.1.2     \u001b[32m✔\u001b[39m \u001b[34mreadr    \u001b[39m 2.1.4\n",
      "\u001b[32m✔\u001b[39m \u001b[34mforcats  \u001b[39m 1.0.0     \u001b[32m✔\u001b[39m \u001b[34mtibble   \u001b[39m 3.2.1\n",
      "\u001b[32m✔\u001b[39m \u001b[34mlubridate\u001b[39m 1.9.2     \u001b[32m✔\u001b[39m \u001b[34mtidyr    \u001b[39m 1.3.0\n",
      "\u001b[32m✔\u001b[39m \u001b[34mpurrr    \u001b[39m 1.0.1     \n",
      "── \u001b[1mConflicts\u001b[22m ────────────────────────────────────────── tidyverse_conflicts() ──\n",
      "\u001b[31m✖\u001b[39m \u001b[34mlubridate\u001b[39m::\u001b[32m%within%()\u001b[39m    masks \u001b[34mIRanges\u001b[39m::%within%()\n",
      "\u001b[31m✖\u001b[39m \u001b[34mdplyr\u001b[39m::\u001b[32marrange()\u001b[39m         masks \u001b[34mplyr\u001b[39m::arrange()\n",
      "\u001b[31m✖\u001b[39m \u001b[34mdplyr\u001b[39m::\u001b[32mbetween()\u001b[39m         masks \u001b[34mdata.table\u001b[39m::between()\n",
      "\u001b[31m✖\u001b[39m \u001b[34mdplyr\u001b[39m::\u001b[32mcollapse()\u001b[39m        masks \u001b[34mIRanges\u001b[39m::collapse()\n",
      "\u001b[31m✖\u001b[39m \u001b[34mdplyr\u001b[39m::\u001b[32mcombine()\u001b[39m         masks \u001b[34mBiobase\u001b[39m::combine(), \u001b[34mBiocGenerics\u001b[39m::combine(), \u001b[34mgridExtra\u001b[39m::combine()\n",
      "\u001b[31m✖\u001b[39m \u001b[34mpurrr\u001b[39m::\u001b[32mcompact()\u001b[39m         masks \u001b[34mplyr\u001b[39m::compact()\n",
      "\u001b[31m✖\u001b[39m \u001b[34mdplyr\u001b[39m::\u001b[32mcount()\u001b[39m           masks \u001b[34mmatrixStats\u001b[39m::count(), \u001b[34mplyr\u001b[39m::count()\n",
      "\u001b[31m✖\u001b[39m \u001b[34mdplyr\u001b[39m::\u001b[32mdesc()\u001b[39m            masks \u001b[34mIRanges\u001b[39m::desc(), \u001b[34mplyr\u001b[39m::desc()\n",
      "\u001b[31m✖\u001b[39m \u001b[34mtidyr\u001b[39m::\u001b[32mexpand()\u001b[39m          masks \u001b[34mMatrix\u001b[39m::expand(), \u001b[34mS4Vectors\u001b[39m::expand()\n",
      "\u001b[31m✖\u001b[39m \u001b[34mtidyr\u001b[39m::\u001b[32mextract()\u001b[39m         masks \u001b[34mmagrittr\u001b[39m::extract()\n",
      "\u001b[31m✖\u001b[39m \u001b[34mdplyr\u001b[39m::\u001b[32mfailwith()\u001b[39m        masks \u001b[34mplyr\u001b[39m::failwith()\n",
      "\u001b[31m✖\u001b[39m \u001b[34mdplyr\u001b[39m::\u001b[32mfilter()\u001b[39m          masks \u001b[34mstats\u001b[39m::filter()\n",
      "\u001b[31m✖\u001b[39m \u001b[34mdplyr\u001b[39m::\u001b[32mfirst()\u001b[39m           masks \u001b[34mS4Vectors\u001b[39m::first(), \u001b[34mdata.table\u001b[39m::first()\n",
      "\u001b[31m✖\u001b[39m \u001b[34mlubridate\u001b[39m::\u001b[32mhour()\u001b[39m        masks \u001b[34mdata.table\u001b[39m::hour()\n",
      "\u001b[31m✖\u001b[39m \u001b[34mdplyr\u001b[39m::\u001b[32mid()\u001b[39m              masks \u001b[34mplyr\u001b[39m::id()\n",
      "\u001b[31m✖\u001b[39m \u001b[34mlubridate\u001b[39m::\u001b[32misoweek()\u001b[39m     masks \u001b[34mdata.table\u001b[39m::isoweek()\n",
      "\u001b[31m✖\u001b[39m \u001b[34mdplyr\u001b[39m::\u001b[32mlag()\u001b[39m             masks \u001b[34mstats\u001b[39m::lag()\n",
      "\u001b[31m✖\u001b[39m \u001b[34mdplyr\u001b[39m::\u001b[32mlast()\u001b[39m            masks \u001b[34mdata.table\u001b[39m::last()\n",
      "\u001b[31m✖\u001b[39m \u001b[34mlubridate\u001b[39m::\u001b[32mmday()\u001b[39m        masks \u001b[34mdata.table\u001b[39m::mday()\n",
      "\u001b[31m✖\u001b[39m \u001b[34mlubridate\u001b[39m::\u001b[32mminute()\u001b[39m      masks \u001b[34mdata.table\u001b[39m::minute()\n",
      "\u001b[31m✖\u001b[39m \u001b[34mlubridate\u001b[39m::\u001b[32mmonth()\u001b[39m       masks \u001b[34mdata.table\u001b[39m::month()\n",
      "\u001b[31m✖\u001b[39m \u001b[34mdplyr\u001b[39m::\u001b[32mmutate()\u001b[39m          masks \u001b[34mplyr\u001b[39m::mutate()\n",
      "\u001b[31m✖\u001b[39m \u001b[34mtidyr\u001b[39m::\u001b[32mpack()\u001b[39m            masks \u001b[34mMatrix\u001b[39m::pack()\n",
      "\u001b[31m✖\u001b[39m \u001b[34mBiocGenerics\u001b[39m::\u001b[32mPosition()\u001b[39m masks \u001b[34mggplot2\u001b[39m::Position(), \u001b[34mbase\u001b[39m::Position()\n",
      "\u001b[31m✖\u001b[39m \u001b[34mlubridate\u001b[39m::\u001b[32mquarter()\u001b[39m     masks \u001b[34mdata.table\u001b[39m::quarter()\n",
      "\u001b[31m✖\u001b[39m \u001b[34mpurrr\u001b[39m::\u001b[32mreduce()\u001b[39m          masks \u001b[34mGenomicRanges\u001b[39m::reduce(), \u001b[34mIRanges\u001b[39m::reduce()\n",
      "\u001b[31m✖\u001b[39m \u001b[34mdplyr\u001b[39m::\u001b[32mrename()\u001b[39m          masks \u001b[34mS4Vectors\u001b[39m::rename(), \u001b[34mplyr\u001b[39m::rename()\n",
      "\u001b[31m✖\u001b[39m \u001b[34mlubridate\u001b[39m::\u001b[32msecond()\u001b[39m      masks \u001b[34mS4Vectors\u001b[39m::second(), \u001b[34mdata.table\u001b[39m::second()\n",
      "\u001b[31m✖\u001b[39m \u001b[34mlubridate\u001b[39m::\u001b[32msecond<-()\u001b[39m    masks \u001b[34mS4Vectors\u001b[39m::second<-()\n",
      "\u001b[31m✖\u001b[39m \u001b[34mpurrr\u001b[39m::\u001b[32mset_names()\u001b[39m       masks \u001b[34mmagrittr\u001b[39m::set_names()\n",
      "\u001b[31m✖\u001b[39m \u001b[34mpurrr\u001b[39m::\u001b[32msimplify()\u001b[39m        masks \u001b[34mDelayedArray\u001b[39m::simplify()\n",
      "\u001b[31m✖\u001b[39m \u001b[34mdplyr\u001b[39m::\u001b[32mslice()\u001b[39m           masks \u001b[34mIRanges\u001b[39m::slice()\n",
      "\u001b[31m✖\u001b[39m \u001b[34mdplyr\u001b[39m::\u001b[32msummarise()\u001b[39m       masks \u001b[34mplyr\u001b[39m::summarise()\n",
      "\u001b[31m✖\u001b[39m \u001b[34mdplyr\u001b[39m::\u001b[32msummarize()\u001b[39m       masks \u001b[34mplyr\u001b[39m::summarize()\n",
      "\u001b[31m✖\u001b[39m \u001b[34mpurrr\u001b[39m::\u001b[32mtranspose()\u001b[39m       masks \u001b[34mdata.table\u001b[39m::transpose()\n",
      "\u001b[31m✖\u001b[39m \u001b[34mtidyr\u001b[39m::\u001b[32munpack()\u001b[39m          masks \u001b[34mMatrix\u001b[39m::unpack()\n",
      "\u001b[31m✖\u001b[39m \u001b[34mlubridate\u001b[39m::\u001b[32mwday()\u001b[39m        masks \u001b[34mdata.table\u001b[39m::wday()\n",
      "\u001b[31m✖\u001b[39m \u001b[34mlubridate\u001b[39m::\u001b[32mweek()\u001b[39m        masks \u001b[34mdata.table\u001b[39m::week()\n",
      "\u001b[31m✖\u001b[39m \u001b[34mlubridate\u001b[39m::\u001b[32myday()\u001b[39m        masks \u001b[34mdata.table\u001b[39m::yday()\n",
      "\u001b[31m✖\u001b[39m \u001b[34mlubridate\u001b[39m::\u001b[32myear()\u001b[39m        masks \u001b[34mdata.table\u001b[39m::year()\n",
      "\u001b[36mℹ\u001b[39m Use the conflicted package (\u001b[3m\u001b[34m<http://conflicted.r-lib.org/>\u001b[39m\u001b[23m) to force all conflicts to become errors\n",
      "Loading required package: BSgenome\n",
      "\n",
      "Loading required package: Biostrings\n",
      "\n",
      "Loading required package: XVector\n",
      "\n",
      "\n",
      "Attaching package: ‘XVector’\n",
      "\n",
      "\n",
      "The following object is masked from ‘package:purrr’:\n",
      "\n",
      "    compact\n",
      "\n",
      "\n",
      "The following object is masked from ‘package:plyr’:\n",
      "\n",
      "    compact\n",
      "\n",
      "\n",
      "\n",
      "Attaching package: ‘Biostrings’\n",
      "\n",
      "\n",
      "The following object is masked from ‘package:base’:\n",
      "\n",
      "    strsplit\n",
      "\n",
      "\n",
      "Loading required package: rtracklayer\n",
      "\n"
     ]
    }
   ],
   "source": [
    "library(ArchR)\n",
    "library(tidyverse)\n",
    "library(BSgenome.Hsapiens.UCSC.hg38)\n",
    "library(SingleCellExperiment)"
   ]
  },
  {
   "cell_type": "code",
   "execution_count": 2,
   "id": "fabulous-piece",
   "metadata": {},
   "outputs": [
    {
     "data": {
      "text/html": [
       "'/nfs/team205/heart/anndata_objects/Foetal/multiome_ATAC/ArchR'"
      ],
      "text/latex": [
       "'/nfs/team205/heart/anndata\\_objects/Foetal/multiome\\_ATAC/ArchR'"
      ],
      "text/markdown": [
       "'/nfs/team205/heart/anndata_objects/Foetal/multiome_ATAC/ArchR'"
      ],
      "text/plain": [
       "[1] \"/nfs/team205/heart/anndata_objects/Foetal/multiome_ATAC/ArchR\""
      ]
     },
     "metadata": {},
     "output_type": "display_data"
    }
   ],
   "source": [
    "getwd()"
   ]
  },
  {
   "cell_type": "code",
   "execution_count": 3,
   "id": "concerned-society",
   "metadata": {},
   "outputs": [
    {
     "name": "stderr",
     "output_type": "stream",
     "text": [
      "Setting default genome to Hg38.\n",
      "\n"
     ]
    }
   ],
   "source": [
    "# before starting a project we must set the ArchRGenome and default threads for parallelization.\n",
    "# Setting default genome to Hg38.\n",
    "addArchRGenome(\"hg38\")"
   ]
  },
  {
   "cell_type": "code",
   "execution_count": 4,
   "id": "operational-observation",
   "metadata": {},
   "outputs": [
    {
     "name": "stderr",
     "output_type": "stream",
     "text": [
      "Setting default number of Parallel threads to 1.\n",
      "\n"
     ]
    }
   ],
   "source": [
    "# Setting default number of Parallel threads to 16\n",
    "addArchRThreads(threads = 1) "
   ]
  },
  {
   "cell_type": "markdown",
   "id": "similar-federal",
   "metadata": {},
   "source": [
    "# Read in ArchR project"
   ]
  },
  {
   "cell_type": "code",
   "execution_count": 5,
   "id": "polar-dealing",
   "metadata": {},
   "outputs": [
    {
     "name": "stderr",
     "output_type": "stream",
     "text": [
      "Successfully loaded ArchRProject!\n",
      "\n",
      "\n",
      "           ___      .______        ______  __    __  .______      \n",
      "          /   \\     |   _  \\      /      ||  |  |  | |   _  \\     \n",
      "         /  ^  \\    |  |_)  |    |  ,----'|  |__|  | |  |_)  |    \n",
      "        /  /_\\  \\   |      /     |  |     |   __   | |      /     \n",
      "       /  _____  \\  |  |\\  \\\\___ |  `----.|  |  |  | |  |\\  \\\\___.\n",
      "      /__/     \\__\\ | _| `._____| \\______||__|  |__| | _| `._____|\n",
      "    \n",
      "\n"
     ]
    },
    {
     "data": {
      "text/plain": [
       "class: ArchRProject \n",
       "outputDirectory: /nfs/team205/heart/anndata_objects/Foetal/multiome_ATAC/ArchR/project_output \n",
       "samples(37): BHF_F_Hea11064670_BHF_F_Hea11031823\n",
       "  BHF_F_Hea11064671_BHF_F_Hea11031824 ...\n",
       "  HCAHeartST13386009_HCAHeartST13303419\n",
       "  HCAHeartST13386010_HCAHeartST13303420\n",
       "sampleColData names(1): ArrowFiles\n",
       "cellColData names(63): Sample TSSEnrichment ... Gex_MitoRatio\n",
       "  Gex_RiboRatio\n",
       "numberOfCells(1): 167022\n",
       "medianTSS(1): 11.614\n",
       "medianFrags(1): 10338.5"
      ]
     },
     "metadata": {},
     "output_type": "display_data"
    }
   ],
   "source": [
    "archr_project_path = '/nfs/team205/heart/anndata_objects/Foetal/multiome_ATAC/ArchR/project_output'\n",
    "proj = loadArchRProject(path = archr_project_path, showLogo = FALSE)\n",
    "proj"
   ]
  },
  {
   "cell_type": "markdown",
   "id": "reported-tanzania",
   "metadata": {},
   "source": [
    "# Peak matrix"
   ]
  },
  {
   "cell_type": "code",
   "execution_count": 6,
   "id": "representative-finding",
   "metadata": {},
   "outputs": [
    {
     "name": "stderr",
     "output_type": "stream",
     "text": [
      "ArchR logging to : ArchRLogs/ArchR-getMatrixFromProject-23502ed73aec-Date-2023-03-12_Time-19-51-39.log\n",
      "If there is an issue, please report to github with logFile!\n",
      "\n",
      "2023-03-12 20:13:14 : Organizing colData, 21.576 mins elapsed.\n",
      "\n",
      "2023-03-12 20:13:16 : Organizing rowData, 21.621 mins elapsed.\n",
      "\n",
      "2023-03-12 20:13:16 : Organizing rowRanges, 21.622 mins elapsed.\n",
      "\n",
      "2023-03-12 20:13:16 : Organizing Assays (1 of 1), 21.624 mins elapsed.\n",
      "\n",
      "2023-03-12 20:23:20 : Constructing SummarizedExperiment, 31.689 mins elapsed.\n",
      "\n",
      "2023-03-12 20:29:42 : Finished Matrix Creation, 38.046 mins elapsed.\n",
      "\n"
     ]
    }
   ],
   "source": [
    "PeakMatrix = getMatrixFromProject(\n",
    "             ArchRProj = proj,\n",
    "              useMatrix = \"PeakMatrix\",\n",
    "              useSeqnames = NULL,\n",
    "              verbose = TRUE,\n",
    "              binarize = FALSE,\n",
    "              threads = getArchRThreads(),\n",
    "              logFile = createLogFile(\"getMatrixFromProject\")\n",
    "             )"
   ]
  },
  {
   "cell_type": "code",
   "execution_count": 7,
   "id": "single-patch",
   "metadata": {
    "tags": []
   },
   "outputs": [
    {
     "data": {
      "text/html": [
       "<style>\n",
       ".list-inline {list-style: none; margin:0; padding: 0}\n",
       ".list-inline>li {display: inline-block}\n",
       ".list-inline>li:not(:last-child)::after {content: \"\\00b7\"; padding: 0 .5ex}\n",
       "</style>\n",
       "<ol class=list-inline><li>'chr1:817093_817593'</li><li>'chr1:819818_820318'</li><li>'chr1:820542_821042'</li><li>'chr1:825246_825746'</li><li>'chr1:826566_827066'</li><li>'chr1:827291_827791'</li></ol>\n"
      ],
      "text/latex": [
       "\\begin{enumerate*}\n",
       "\\item 'chr1:817093\\_817593'\n",
       "\\item 'chr1:819818\\_820318'\n",
       "\\item 'chr1:820542\\_821042'\n",
       "\\item 'chr1:825246\\_825746'\n",
       "\\item 'chr1:826566\\_827066'\n",
       "\\item 'chr1:827291\\_827791'\n",
       "\\end{enumerate*}\n"
      ],
      "text/markdown": [
       "1. 'chr1:817093_817593'\n",
       "2. 'chr1:819818_820318'\n",
       "3. 'chr1:820542_821042'\n",
       "4. 'chr1:825246_825746'\n",
       "5. 'chr1:826566_827066'\n",
       "6. 'chr1:827291_827791'\n",
       "\n",
       "\n"
      ],
      "text/plain": [
       "[1] \"chr1:817093_817593\" \"chr1:819818_820318\" \"chr1:820542_821042\"\n",
       "[4] \"chr1:825246_825746\" \"chr1:826566_827066\" \"chr1:827291_827791\""
      ]
     },
     "metadata": {},
     "output_type": "display_data"
    },
    {
     "data": {
      "text/plain": [
       "class: RangedSummarizedExperiment \n",
       "dim: 508040 167022 \n",
       "metadata(0):\n",
       "assays(1): PeakMatrix\n",
       "rownames(508040): chr1:817093_817593 chr1:819818_820318 ...\n",
       "  chrX:155881064_155881564 chrX:155881618_155882118\n",
       "rowData names(1): idx\n",
       "colnames(167022): 7089STDY13216921_BHF_F_Hea13242528#GCAATAGAGTTATGTG-1\n",
       "  7089STDY13216921_BHF_F_Hea13242528#TGGGCCTAGATGGACA-1 ...\n",
       "  BHF_F_Hea11933675_BHF_F_Hea11596628#GTACTAATCGTTTCCA-1\n",
       "  7089STDY13216923_BHF_F_Hea13242530#GCTGGTTCAAATTCGT-1\n",
       "colData names(63): BlacklistRatio Gex_MitoRatio ... ReadsInPeaks FRIP"
      ]
     },
     "metadata": {},
     "output_type": "display_data"
    }
   ],
   "source": [
    "# get peak names as ranges\n",
    "PeakSet = getPeakSet(proj)\n",
    "df = data.frame(PeakSet)\n",
    "ranges = paste0(df[['seqnames']],':',df[['start']],'_',df[['end']])\n",
    "head(ranges)\n",
    "\n",
    "# add rawnames of PeakMatrix\n",
    "rownames(PeakMatrix) = ranges\n",
    "PeakMatrix\n",
    "\n",
    "# add rawnames of PeakMatrix binarised\n",
    "# rownames(PeakMatrix_bi) = ranges\n",
    "# PeakMatrix_bi"
   ]
  },
  {
   "cell_type": "code",
   "execution_count": null,
   "id": "alternative-tulsa",
   "metadata": {},
   "outputs": [],
   "source": []
  },
  {
   "cell_type": "markdown",
   "id": "enormous-litigation",
   "metadata": {},
   "source": [
    "## Save as matrix"
   ]
  },
  {
   "cell_type": "code",
   "execution_count": 8,
   "id": "recreational-investing",
   "metadata": {},
   "outputs": [
    {
     "data": {
      "text/plain": [
       "NULL"
      ]
     },
     "metadata": {},
     "output_type": "display_data"
    }
   ],
   "source": [
    "# save as cell-by-peak\n",
    "writeMM(obj = assay(PeakMatrix), file=\"/nfs/team205/heart/anndata_objects/Foetal/multiome_ATAC/ArchR/project_output/PeakMatrix/matrix.mtx\")"
   ]
  },
  {
   "cell_type": "code",
   "execution_count": 9,
   "id": "legislative-glenn",
   "metadata": {},
   "outputs": [],
   "source": [
    "write.table(rownames(PeakMatrix), file=\"/nfs/team205/heart/anndata_objects/Foetal/multiome_ATAC/ArchR/project_output/PeakMatrix/features.tsv\",\n",
    "           col.names = FALSE, row.names = FALSE, quote = FALSE, sep='\\t')"
   ]
  },
  {
   "cell_type": "code",
   "execution_count": 10,
   "id": "painful-horizontal",
   "metadata": {},
   "outputs": [],
   "source": [
    "# row.names = TRUE to put the features in the 2nd column (for scanpy.read_10x_mtx later we use)\n",
    "write.table(colnames(PeakMatrix), file=\"/nfs/team205/heart/anndata_objects/Foetal/multiome_ATAC/ArchR/project_output/PeakMatrix/barcodes.tsv\",\n",
    "           col.names = FALSE, row.names = TRUE, quote = FALSE, sep='\\t')"
   ]
  },
  {
   "cell_type": "code",
   "execution_count": null,
   "id": "three-sociology",
   "metadata": {},
   "outputs": [],
   "source": [
    "colnames(PeakMatrix)"
   ]
  },
  {
   "cell_type": "code",
   "execution_count": null,
   "id": "boring-specific",
   "metadata": {},
   "outputs": [],
   "source": [
    "# at farm\n",
    "gzip -v /nfs/team205/heart/anndata_objects/Foetal/multiome_ATAC/ArchR/project_output/PeakMatrix/matrix.mtx\n",
    "# gzip -v /nfs/team205/heart/anndata_objects/Foetal/multiome_ATAC/ArchR/project_output/PeakMatrix/matrix_binarised.mtx\n",
    "gzip -v /nfs/team205/heart/anndata_objects/Foetal/multiome_ATAC/ArchR/project_output/PeakMatrix/features.tsv\n",
    "gzip -v /nfs/team205/heart/anndata_objects/Foetal/multiome_ATAC/ArchR/project_output/PeakMatrix/barcodes.tsv"
   ]
  },
  {
   "cell_type": "code",
   "execution_count": null,
   "id": "silver-camping",
   "metadata": {},
   "outputs": [],
   "source": []
  },
  {
   "cell_type": "markdown",
   "id": "constitutional-helping",
   "metadata": {},
   "source": [
    "# GeneScoreMatrix"
   ]
  },
  {
   "cell_type": "code",
   "execution_count": 6,
   "id": "informal-cyprus",
   "metadata": {},
   "outputs": [
    {
     "name": "stderr",
     "output_type": "stream",
     "text": [
      "ArchR logging to : ArchRLogs/ArchR-getMatrixFromProject-2d21e6a568ca7-Date-2023-11-05_Time-22-34-07.log\n",
      "If there is an issue, please report to github with logFile!\n",
      "\n",
      "2023-11-05 23:01:34 : Organizing colData, 27.446 mins elapsed.\n",
      "\n",
      "2023-11-05 23:01:38 : Organizing rowData, 27.515 mins elapsed.\n",
      "\n",
      "2023-11-05 23:01:38 : Organizing rowRanges, 27.515 mins elapsed.\n",
      "\n",
      "2023-11-05 23:01:38 : Organizing Assays (1 of 1), 27.516 mins elapsed.\n",
      "\n",
      "2023-11-05 23:15:40 : Constructing SummarizedExperiment, 41.545 mins elapsed.\n",
      "\n",
      "2023-11-05 23:15:45 : Finished Matrix Creation, 41.624 mins elapsed.\n",
      "\n"
     ]
    }
   ],
   "source": [
    "GeneScoreMatrix = getMatrixFromProject(\n",
    "             ArchRProj = proj,\n",
    "              useMatrix = \"GeneScoreMatrix\",\n",
    "              useSeqnames = NULL,\n",
    "              verbose = TRUE,\n",
    "              binarize = FALSE,\n",
    "              threads = getArchRThreads(),\n",
    "              logFile = createLogFile(\"getMatrixFromProject\")\n",
    "             )"
   ]
  },
  {
   "cell_type": "code",
   "execution_count": 7,
   "id": "eight-dancing",
   "metadata": {},
   "outputs": [
    {
     "data": {
      "text/plain": [
       "class: SummarizedExperiment \n",
       "dim: 24919 167022 \n",
       "metadata(0):\n",
       "assays(1): GeneScoreMatrix\n",
       "rownames: NULL\n",
       "rowData names(6): seqnames start ... name idx\n",
       "colnames(167022): 7089STDY13216921_BHF_F_Hea13242528#GCAATAGAGTTATGTG-1\n",
       "  7089STDY13216921_BHF_F_Hea13242528#TGGGCCTAGATGGACA-1 ...\n",
       "  BHF_F_Hea11933675_BHF_F_Hea11596628#GTACTAATCGTTTCCA-1\n",
       "  7089STDY13216923_BHF_F_Hea13242530#GCTGGTTCAAATTCGT-1\n",
       "colData names(63): BlacklistRatio Gex_MitoRatio ... ReadsInPeaks FRIP"
      ]
     },
     "metadata": {},
     "output_type": "display_data"
    }
   ],
   "source": [
    "GeneScoreMatrix"
   ]
  },
  {
   "cell_type": "code",
   "execution_count": 8,
   "id": "later-quantum",
   "metadata": {},
   "outputs": [
    {
     "data": {
      "text/html": [
       "167022"
      ],
      "text/latex": [
       "167022"
      ],
      "text/markdown": [
       "167022"
      ],
      "text/plain": [
       "[1] 167022"
      ]
     },
     "metadata": {},
     "output_type": "display_data"
    },
    {
     "data": {
      "text/html": [
       "<style>\n",
       ".list-inline {list-style: none; margin:0; padding: 0}\n",
       ".list-inline>li {display: inline-block}\n",
       ".list-inline>li:not(:last-child)::after {content: \"\\00b7\"; padding: 0 .5ex}\n",
       "</style>\n",
       "<ol class=list-inline><li>'7089STDY13216921_BHF_F_Hea13242528#GCAATAGAGTTATGTG-1'</li><li>'7089STDY13216921_BHF_F_Hea13242528#TGGGCCTAGATGGACA-1'</li><li>'7089STDY13216921_BHF_F_Hea13242528#TCCAGGTCACAAACTT-1'</li><li>'7089STDY13216921_BHF_F_Hea13242528#GGTCAATTCATTAGCA-1'</li><li>'7089STDY13216921_BHF_F_Hea13242528#TACCCGGCATAATGTC-1'</li><li>'7089STDY13216921_BHF_F_Hea13242528#CAAAGGATCTGCAAAC-1'</li></ol>\n"
      ],
      "text/latex": [
       "\\begin{enumerate*}\n",
       "\\item '7089STDY13216921\\_BHF\\_F\\_Hea13242528\\#GCAATAGAGTTATGTG-1'\n",
       "\\item '7089STDY13216921\\_BHF\\_F\\_Hea13242528\\#TGGGCCTAGATGGACA-1'\n",
       "\\item '7089STDY13216921\\_BHF\\_F\\_Hea13242528\\#TCCAGGTCACAAACTT-1'\n",
       "\\item '7089STDY13216921\\_BHF\\_F\\_Hea13242528\\#GGTCAATTCATTAGCA-1'\n",
       "\\item '7089STDY13216921\\_BHF\\_F\\_Hea13242528\\#TACCCGGCATAATGTC-1'\n",
       "\\item '7089STDY13216921\\_BHF\\_F\\_Hea13242528\\#CAAAGGATCTGCAAAC-1'\n",
       "\\end{enumerate*}\n"
      ],
      "text/markdown": [
       "1. '7089STDY13216921_BHF_F_Hea13242528#GCAATAGAGTTATGTG-1'\n",
       "2. '7089STDY13216921_BHF_F_Hea13242528#TGGGCCTAGATGGACA-1'\n",
       "3. '7089STDY13216921_BHF_F_Hea13242528#TCCAGGTCACAAACTT-1'\n",
       "4. '7089STDY13216921_BHF_F_Hea13242528#GGTCAATTCATTAGCA-1'\n",
       "5. '7089STDY13216921_BHF_F_Hea13242528#TACCCGGCATAATGTC-1'\n",
       "6. '7089STDY13216921_BHF_F_Hea13242528#CAAAGGATCTGCAAAC-1'\n",
       "\n",
       "\n"
      ],
      "text/plain": [
       "[1] \"7089STDY13216921_BHF_F_Hea13242528#GCAATAGAGTTATGTG-1\"\n",
       "[2] \"7089STDY13216921_BHF_F_Hea13242528#TGGGCCTAGATGGACA-1\"\n",
       "[3] \"7089STDY13216921_BHF_F_Hea13242528#TCCAGGTCACAAACTT-1\"\n",
       "[4] \"7089STDY13216921_BHF_F_Hea13242528#GGTCAATTCATTAGCA-1\"\n",
       "[5] \"7089STDY13216921_BHF_F_Hea13242528#TACCCGGCATAATGTC-1\"\n",
       "[6] \"7089STDY13216921_BHF_F_Hea13242528#CAAAGGATCTGCAAAC-1\""
      ]
     },
     "metadata": {},
     "output_type": "display_data"
    }
   ],
   "source": [
    "length(colnames(GeneScoreMatrix))\n",
    "head(colnames(GeneScoreMatrix))"
   ]
  },
  {
   "cell_type": "code",
   "execution_count": 9,
   "id": "unnecessary-convenience",
   "metadata": {},
   "outputs": [
    {
     "data": {
      "text/plain": [
       "class: SummarizedExperiment \n",
       "dim: 24919 167022 \n",
       "metadata(0):\n",
       "assays(1): GeneScoreMatrix\n",
       "rownames(24919): OR4F5 LOC729737 ... F8A2 TMLHE\n",
       "rowData names(6): seqnames start ... name idx\n",
       "colnames(167022): 7089STDY13216921_BHF_F_Hea13242528#GCAATAGAGTTATGTG-1\n",
       "  7089STDY13216921_BHF_F_Hea13242528#TGGGCCTAGATGGACA-1 ...\n",
       "  BHF_F_Hea11933675_BHF_F_Hea11596628#GTACTAATCGTTTCCA-1\n",
       "  7089STDY13216923_BHF_F_Hea13242530#GCTGGTTCAAATTCGT-1\n",
       "colData names(63): BlacklistRatio Gex_MitoRatio ... ReadsInPeaks FRIP"
      ]
     },
     "metadata": {},
     "output_type": "display_data"
    }
   ],
   "source": [
    "# add rawnames of GeneScoreMatrix\n",
    "rownames(GeneScoreMatrix) = rowData(GeneScoreMatrix)$name\n",
    "GeneScoreMatrix"
   ]
  },
  {
   "cell_type": "markdown",
   "id": "settled-legislature",
   "metadata": {},
   "source": [
    "## Save as matrix"
   ]
  },
  {
   "cell_type": "code",
   "execution_count": 10,
   "id": "angry-forest",
   "metadata": {},
   "outputs": [
    {
     "data": {
      "text/plain": [
       "NULL"
      ]
     },
     "metadata": {},
     "output_type": "display_data"
    }
   ],
   "source": [
    "# save\n",
    "writeMM(obj = assay(GeneScoreMatrix), file=\"/nfs/team205/heart/anndata_objects/Foetal/multiome_ATAC/ArchR/project_output/GeneScoreMatrix/matrix.mtx\")"
   ]
  },
  {
   "cell_type": "code",
   "execution_count": 11,
   "id": "animal-anaheim",
   "metadata": {},
   "outputs": [
    {
     "data": {
      "text/html": [
       "<style>\n",
       ".list-inline {list-style: none; margin:0; padding: 0}\n",
       ".list-inline>li {display: inline-block}\n",
       ".list-inline>li:not(:last-child)::after {content: \"\\00b7\"; padding: 0 .5ex}\n",
       "</style>\n",
       "<ol class=list-inline><li>'OR4F5'</li><li>'LOC729737'</li><li>'LOC101928626'</li><li>'FAM87B'</li><li>'LINC01128'</li><li>'LINC00115'</li></ol>\n"
      ],
      "text/latex": [
       "\\begin{enumerate*}\n",
       "\\item 'OR4F5'\n",
       "\\item 'LOC729737'\n",
       "\\item 'LOC101928626'\n",
       "\\item 'FAM87B'\n",
       "\\item 'LINC01128'\n",
       "\\item 'LINC00115'\n",
       "\\end{enumerate*}\n"
      ],
      "text/markdown": [
       "1. 'OR4F5'\n",
       "2. 'LOC729737'\n",
       "3. 'LOC101928626'\n",
       "4. 'FAM87B'\n",
       "5. 'LINC01128'\n",
       "6. 'LINC00115'\n",
       "\n",
       "\n"
      ],
      "text/plain": [
       "[1] \"OR4F5\"        \"LOC729737\"    \"LOC101928626\" \"FAM87B\"       \"LINC01128\"   \n",
       "[6] \"LINC00115\"   "
      ]
     },
     "metadata": {},
     "output_type": "display_data"
    },
    {
     "data": {
      "text/html": [
       "<style>\n",
       ".list-inline {list-style: none; margin:0; padding: 0}\n",
       ".list-inline>li {display: inline-block}\n",
       ".list-inline>li:not(:last-child)::after {content: \"\\00b7\"; padding: 0 .5ex}\n",
       "</style>\n",
       "<ol class=list-inline><li>'7089STDY13216921_BHF_F_Hea13242528#GCAATAGAGTTATGTG-1'</li><li>'7089STDY13216921_BHF_F_Hea13242528#TGGGCCTAGATGGACA-1'</li><li>'7089STDY13216921_BHF_F_Hea13242528#TCCAGGTCACAAACTT-1'</li><li>'7089STDY13216921_BHF_F_Hea13242528#GGTCAATTCATTAGCA-1'</li><li>'7089STDY13216921_BHF_F_Hea13242528#TACCCGGCATAATGTC-1'</li><li>'7089STDY13216921_BHF_F_Hea13242528#CAAAGGATCTGCAAAC-1'</li></ol>\n"
      ],
      "text/latex": [
       "\\begin{enumerate*}\n",
       "\\item '7089STDY13216921\\_BHF\\_F\\_Hea13242528\\#GCAATAGAGTTATGTG-1'\n",
       "\\item '7089STDY13216921\\_BHF\\_F\\_Hea13242528\\#TGGGCCTAGATGGACA-1'\n",
       "\\item '7089STDY13216921\\_BHF\\_F\\_Hea13242528\\#TCCAGGTCACAAACTT-1'\n",
       "\\item '7089STDY13216921\\_BHF\\_F\\_Hea13242528\\#GGTCAATTCATTAGCA-1'\n",
       "\\item '7089STDY13216921\\_BHF\\_F\\_Hea13242528\\#TACCCGGCATAATGTC-1'\n",
       "\\item '7089STDY13216921\\_BHF\\_F\\_Hea13242528\\#CAAAGGATCTGCAAAC-1'\n",
       "\\end{enumerate*}\n"
      ],
      "text/markdown": [
       "1. '7089STDY13216921_BHF_F_Hea13242528#GCAATAGAGTTATGTG-1'\n",
       "2. '7089STDY13216921_BHF_F_Hea13242528#TGGGCCTAGATGGACA-1'\n",
       "3. '7089STDY13216921_BHF_F_Hea13242528#TCCAGGTCACAAACTT-1'\n",
       "4. '7089STDY13216921_BHF_F_Hea13242528#GGTCAATTCATTAGCA-1'\n",
       "5. '7089STDY13216921_BHF_F_Hea13242528#TACCCGGCATAATGTC-1'\n",
       "6. '7089STDY13216921_BHF_F_Hea13242528#CAAAGGATCTGCAAAC-1'\n",
       "\n",
       "\n"
      ],
      "text/plain": [
       "[1] \"7089STDY13216921_BHF_F_Hea13242528#GCAATAGAGTTATGTG-1\"\n",
       "[2] \"7089STDY13216921_BHF_F_Hea13242528#TGGGCCTAGATGGACA-1\"\n",
       "[3] \"7089STDY13216921_BHF_F_Hea13242528#TCCAGGTCACAAACTT-1\"\n",
       "[4] \"7089STDY13216921_BHF_F_Hea13242528#GGTCAATTCATTAGCA-1\"\n",
       "[5] \"7089STDY13216921_BHF_F_Hea13242528#TACCCGGCATAATGTC-1\"\n",
       "[6] \"7089STDY13216921_BHF_F_Hea13242528#CAAAGGATCTGCAAAC-1\""
      ]
     },
     "metadata": {},
     "output_type": "display_data"
    }
   ],
   "source": [
    "head(rownames(GeneScoreMatrix))\n",
    "head(colnames(GeneScoreMatrix))"
   ]
  },
  {
   "cell_type": "code",
   "execution_count": 12,
   "id": "studied-front",
   "metadata": {},
   "outputs": [],
   "source": [
    "write.table(rownames(GeneScoreMatrix), file=\"/nfs/team205/heart/anndata_objects/Foetal/multiome_ATAC/ArchR/project_output/GeneScoreMatrix/features.tsv\",\n",
    "           col.names = FALSE, row.names = FALSE, quote = FALSE, sep='\\t')\n",
    "\n",
    "# row.names = TRUE to put the features in the 2nd column (for scanpy.read_10x_mtx later we use)\n",
    "write.table(colnames(GeneScoreMatrix), file=\"/nfs/team205/heart/anndata_objects/Foetal/multiome_ATAC/ArchR/project_output/GeneScoreMatrix/barcodes.tsv\",\n",
    "           col.names = FALSE, row.names = TRUE, quote = FALSE, sep='\\t')"
   ]
  },
  {
   "cell_type": "code",
   "execution_count": 13,
   "id": "expired-animation",
   "metadata": {},
   "outputs": [
    {
     "ename": "ERROR",
     "evalue": "Error in parse(text = x, srcfile = src): <text>:1:1: unexpected input\n1: %bash\n    ^\n",
     "output_type": "error",
     "traceback": [
      "Error in parse(text = x, srcfile = src): <text>:1:1: unexpected input\n1: %bash\n    ^\nTraceback:\n"
     ]
    }
   ],
   "source": [
    "%%bash\n",
    "gzip -v /nfs/team205/heart/anndata_objects/Foetal/multiome_ATAC/ArchR/project_output/GeneScoreMatrix/matrix.mtx\n",
    "gzip -v /nfs/team205/heart/anndata_objects/Foetal/multiome_ATAC/ArchR/project_output/GeneScoreMatrix/features.tsv\n",
    "gzip -v /nfs/team205/heart/anndata_objects/Foetal/multiome_ATAC/ArchR/project_output/GeneScoreMatrix/barcodes.tsv\n"
   ]
  },
  {
   "cell_type": "code",
   "execution_count": null,
   "id": "alternative-colony",
   "metadata": {},
   "outputs": [],
   "source": []
  },
  {
   "cell_type": "code",
   "execution_count": null,
   "id": "southeast-desktop",
   "metadata": {},
   "outputs": [],
   "source": []
  }
 ],
 "metadata": {
  "kernelspec": {
   "display_name": "R-archR",
   "language": "R",
   "name": "r-archr"
  },
  "language_info": {
   "codemirror_mode": "r",
   "file_extension": ".r",
   "mimetype": "text/x-r-source",
   "name": "R",
   "pygments_lexer": "r",
   "version": "3.6.1"
  }
 },
 "nbformat": 4,
 "nbformat_minor": 5
}
