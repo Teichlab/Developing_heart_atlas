{
 "cells": [
  {
   "cell_type": "markdown",
   "id": "73aeb362-3d64-4d80-bab2-f049ec588553",
   "metadata": {
    "papermill": {
     "duration": 0.00839,
     "end_time": "2025-04-07T11:44:18.143562",
     "exception": false,
     "start_time": "2025-04-07T11:44:18.135172",
     "status": "completed"
    },
    "tags": []
   },
   "source": [
    "- At the 1st round of cross-validatiaon, Adventitia - coronary showed poor prediction accuracy (f1 score < 0.5) compared to other labels.\n",
    "- Therefore, will remove from the label list and re-try cross validataion"
   ]
  },
  {
   "cell_type": "raw",
   "id": "08115a2d-1942-42d4-ba7f-634f8c82557e",
   "metadata": {
    "papermill": {
     "duration": 0.006359,
     "end_time": "2025-04-07T11:44:18.157115",
     "exception": false,
     "start_time": "2025-04-07T11:44:18.150756",
     "status": "completed"
    },
    "tags": []
   },
   "source": [
    "conda create --name tissuetypist_env python=3.10\n",
    "conda activate tissuetypist_env\n",
    "pip install -e /nfs/team205/kk18/github/TissueTypist"
   ]
  },
  {
   "cell_type": "markdown",
   "id": "united-judges",
   "metadata": {
    "papermill": {
     "duration": 0.005583,
     "end_time": "2025-04-07T11:44:18.168252",
     "exception": false,
     "start_time": "2025-04-07T11:44:18.162669",
     "status": "completed"
    },
    "tags": []
   },
   "source": [
    "# Import required modules"
   ]
  },
  {
   "cell_type": "code",
   "execution_count": 1,
   "id": "bored-joyce",
   "metadata": {
    "execution": {
     "iopub.execute_input": "2025-04-07T11:44:18.184381Z",
     "iopub.status.busy": "2025-04-07T11:44:18.183847Z",
     "iopub.status.idle": "2025-04-07T11:44:26.056758Z",
     "shell.execute_reply": "2025-04-07T11:44:26.055905Z"
    },
    "papermill": {
     "duration": 7.883897,
     "end_time": "2025-04-07T11:44:26.058813",
     "exception": false,
     "start_time": "2025-04-07T11:44:18.174916",
     "status": "completed"
    },
    "tags": []
   },
   "outputs": [],
   "source": [
    "import warnings\n",
    "warnings.simplefilter(action='ignore', category=FutureWarning)\n",
    "warnings.filterwarnings('ignore')\n",
    "\n",
    "import scanpy as sc\n",
    "import anndata\n",
    "import pandas as pd\n",
    "import numpy as np\n",
    "import matplotlib.pyplot as plt\n",
    "import matplotlib as mpl\n",
    "import seaborn as sns\n",
    "import os"
   ]
  },
  {
   "cell_type": "code",
   "execution_count": 2,
   "id": "285a09c8-b9a4-4712-8189-2bf98e59422a",
   "metadata": {
    "execution": {
     "iopub.execute_input": "2025-04-07T11:44:26.075603Z",
     "iopub.status.busy": "2025-04-07T11:44:26.073996Z",
     "iopub.status.idle": "2025-04-07T11:44:40.743866Z",
     "shell.execute_reply": "2025-04-07T11:44:40.742863Z"
    },
    "papermill": {
     "duration": 14.680185,
     "end_time": "2025-04-07T11:44:40.746372",
     "exception": false,
     "start_time": "2025-04-07T11:44:26.066187",
     "status": "completed"
    },
    "tags": []
   },
   "outputs": [],
   "source": [
    "import tissuetypist as tt"
   ]
  },
  {
   "cell_type": "code",
   "execution_count": 3,
   "id": "7d52795e-7a58-4845-b46a-c0cc06191e96",
   "metadata": {
    "execution": {
     "iopub.execute_input": "2025-04-07T11:44:40.764494Z",
     "iopub.status.busy": "2025-04-07T11:44:40.762333Z",
     "iopub.status.idle": "2025-04-07T11:44:40.773768Z",
     "shell.execute_reply": "2025-04-07T11:44:40.772914Z"
    },
    "papermill": {
     "duration": 0.020688,
     "end_time": "2025-04-07T11:44:40.775183",
     "exception": false,
     "start_time": "2025-04-07T11:44:40.754495",
     "status": "completed"
    },
    "tags": []
   },
   "outputs": [
    {
     "data": {
      "text/plain": [
       "<module 'tissuetypist' from '/nfs/team205/kk18/github/TissueTypist/tissuetypist/__init__.py'>"
      ]
     },
     "execution_count": 3,
     "metadata": {},
     "output_type": "execute_result"
    }
   ],
   "source": [
    "import importlib\n",
    "importlib.reload(tt)"
   ]
  },
  {
   "cell_type": "code",
   "execution_count": 4,
   "id": "bored-basis",
   "metadata": {
    "execution": {
     "iopub.execute_input": "2025-04-07T11:44:40.790493Z",
     "iopub.status.busy": "2025-04-07T11:44:40.789936Z",
     "iopub.status.idle": "2025-04-07T11:44:40.805586Z",
     "shell.execute_reply": "2025-04-07T11:44:40.804821Z"
    },
    "papermill": {
     "duration": 0.025075,
     "end_time": "2025-04-07T11:44:40.807144",
     "exception": false,
     "start_time": "2025-04-07T11:44:40.782069",
     "status": "completed"
    },
    "tags": []
   },
   "outputs": [],
   "source": [
    "sc.settings.verbosity = 1          # verbosity: errors (0), warnings (1), info (2), hints (3)\n",
    "sc.settings.set_figure_params(dpi=80)"
   ]
  },
  {
   "cell_type": "markdown",
   "id": "8103ad52-5c04-4318-9fed-4e65b2ae2c12",
   "metadata": {
    "papermill": {
     "duration": 0.007647,
     "end_time": "2025-04-07T11:44:40.821953",
     "exception": false,
     "start_time": "2025-04-07T11:44:40.814306",
     "status": "completed"
    },
    "tags": []
   },
   "source": [
    "# Variables"
   ]
  },
  {
   "cell_type": "code",
   "execution_count": 5,
   "id": "08f9a013-b5a9-4244-b924-7050eb73b20b",
   "metadata": {
    "execution": {
     "iopub.execute_input": "2025-04-07T11:44:40.837434Z",
     "iopub.status.busy": "2025-04-07T11:44:40.836556Z",
     "iopub.status.idle": "2025-04-07T11:44:40.842577Z",
     "shell.execute_reply": "2025-04-07T11:44:40.841695Z"
    },
    "papermill": {
     "duration": 0.01485,
     "end_time": "2025-04-07T11:44:40.843914",
     "exception": false,
     "start_time": "2025-04-07T11:44:40.829064",
     "status": "completed"
    },
    "tags": []
   },
   "outputs": [],
   "source": [
    "dir_to_results = '/nfs/team205/kk18/notebooks/P48_Foetal-heart_Visium/notebooks/TissueTypist/tissuetypist_package/cross_validation_results/7Apr2025_without-CoronaryAdv'\n",
    "# make the directory if not exist\n",
    "if not os.path.exists(dir_to_results):\n",
    "    os.makedirs(dir_to_results)"
   ]
  },
  {
   "cell_type": "markdown",
   "id": "constitutional-intent",
   "metadata": {
    "papermill": {
     "duration": 0.006219,
     "end_time": "2025-04-07T11:44:40.856781",
     "exception": false,
     "start_time": "2025-04-07T11:44:40.850562",
     "status": "completed"
    },
    "tags": []
   },
   "source": [
    "# Read in pre-processed dataframe"
   ]
  },
  {
   "cell_type": "code",
   "execution_count": 6,
   "id": "50927e9f-766e-4d1b-bd47-3502741e007f",
   "metadata": {
    "execution": {
     "iopub.execute_input": "2025-04-07T11:44:40.871482Z",
     "iopub.status.busy": "2025-04-07T11:44:40.870698Z",
     "iopub.status.idle": "2025-04-07T11:44:41.357022Z",
     "shell.execute_reply": "2025-04-07T11:44:41.355968Z"
    },
    "papermill": {
     "duration": 0.495518,
     "end_time": "2025-04-07T11:44:41.358623",
     "exception": false,
     "start_time": "2025-04-07T11:44:40.863105",
     "status": "completed"
    },
    "tags": []
   },
   "outputs": [
    {
     "name": "stdout",
     "output_type": "stream",
     "text": [
      "(19590, 5221)\n"
     ]
    },
    {
     "data": {
      "text/html": [
       "<div>\n",
       "<style scoped>\n",
       "    .dataframe tbody tr th:only-of-type {\n",
       "        vertical-align: middle;\n",
       "    }\n",
       "\n",
       "    .dataframe tbody tr th {\n",
       "        vertical-align: top;\n",
       "    }\n",
       "\n",
       "    .dataframe thead th {\n",
       "        text-align: right;\n",
       "    }\n",
       "</style>\n",
       "<table border=\"1\" class=\"dataframe\">\n",
       "  <thead>\n",
       "    <tr style=\"text-align: right;\">\n",
       "      <th></th>\n",
       "      <th>ITGA2_own</th>\n",
       "      <th>ZBTB42_own</th>\n",
       "      <th>MATN2_own</th>\n",
       "      <th>GLT8D2_own</th>\n",
       "      <th>CFH_own</th>\n",
       "      <th>DHRS3_own</th>\n",
       "      <th>ITM2C_own</th>\n",
       "      <th>SNCA_own</th>\n",
       "      <th>MYL2_own</th>\n",
       "      <th>CDK18_own</th>\n",
       "      <th>...</th>\n",
       "      <th>SHISA3_neighbour-max</th>\n",
       "      <th>GATA6-AS1_neighbour-max</th>\n",
       "      <th>LIMA1_neighbour-max</th>\n",
       "      <th>section</th>\n",
       "      <th>x</th>\n",
       "      <th>y</th>\n",
       "      <th>tissue</th>\n",
       "      <th>n_neighbours</th>\n",
       "      <th>is_edge</th>\n",
       "      <th>distance_to_edge</th>\n",
       "    </tr>\n",
       "    <tr>\n",
       "      <th>spot_id</th>\n",
       "      <th></th>\n",
       "      <th></th>\n",
       "      <th></th>\n",
       "      <th></th>\n",
       "      <th></th>\n",
       "      <th></th>\n",
       "      <th></th>\n",
       "      <th></th>\n",
       "      <th></th>\n",
       "      <th></th>\n",
       "      <th></th>\n",
       "      <th></th>\n",
       "      <th></th>\n",
       "      <th></th>\n",
       "      <th></th>\n",
       "      <th></th>\n",
       "      <th></th>\n",
       "      <th></th>\n",
       "      <th></th>\n",
       "      <th></th>\n",
       "      <th></th>\n",
       "    </tr>\n",
       "  </thead>\n",
       "  <tbody>\n",
       "    <tr>\n",
       "      <th>HCAHeartST10298114_AAACAAGTATCTCCCA-1</th>\n",
       "      <td>0.0</td>\n",
       "      <td>0.0</td>\n",
       "      <td>0.576221</td>\n",
       "      <td>0.000000</td>\n",
       "      <td>0.000000</td>\n",
       "      <td>0.576221</td>\n",
       "      <td>0.576221</td>\n",
       "      <td>0.0</td>\n",
       "      <td>3.627727</td>\n",
       "      <td>0.000000</td>\n",
       "      <td>...</td>\n",
       "      <td>0.0</td>\n",
       "      <td>1.061216</td>\n",
       "      <td>0.488556</td>\n",
       "      <td>HCAHeartST10298114</td>\n",
       "      <td>102</td>\n",
       "      <td>50</td>\n",
       "      <td>Endocardium - Ventricular</td>\n",
       "      <td>4.0</td>\n",
       "      <td>False</td>\n",
       "      <td>1.999961</td>\n",
       "    </tr>\n",
       "    <tr>\n",
       "      <th>HCAHeartST10298114_AAACATTTCCCGGATT-1</th>\n",
       "      <td>0.0</td>\n",
       "      <td>0.0</td>\n",
       "      <td>0.511360</td>\n",
       "      <td>0.000000</td>\n",
       "      <td>0.000000</td>\n",
       "      <td>0.000000</td>\n",
       "      <td>1.099502</td>\n",
       "      <td>0.0</td>\n",
       "      <td>3.456557</td>\n",
       "      <td>0.511360</td>\n",
       "      <td>...</td>\n",
       "      <td>0.0</td>\n",
       "      <td>1.236689</td>\n",
       "      <td>0.000000</td>\n",
       "      <td>HCAHeartST10298114</td>\n",
       "      <td>97</td>\n",
       "      <td>61</td>\n",
       "      <td>Ventricle - Compact</td>\n",
       "      <td>4.0</td>\n",
       "      <td>False</td>\n",
       "      <td>1.105358</td>\n",
       "    </tr>\n",
       "    <tr>\n",
       "      <th>HCAHeartST10298114_AAACGAGACGGTTGAT-1</th>\n",
       "      <td>0.0</td>\n",
       "      <td>0.0</td>\n",
       "      <td>0.000000</td>\n",
       "      <td>0.000000</td>\n",
       "      <td>0.000000</td>\n",
       "      <td>1.449640</td>\n",
       "      <td>0.735820</td>\n",
       "      <td>0.0</td>\n",
       "      <td>4.125242</td>\n",
       "      <td>0.434115</td>\n",
       "      <td>...</td>\n",
       "      <td>0.0</td>\n",
       "      <td>0.874152</td>\n",
       "      <td>0.000000</td>\n",
       "      <td>HCAHeartST10298114</td>\n",
       "      <td>79</td>\n",
       "      <td>35</td>\n",
       "      <td>Ventricle - Compact</td>\n",
       "      <td>4.0</td>\n",
       "      <td>False</td>\n",
       "      <td>1.105358</td>\n",
       "    </tr>\n",
       "    <tr>\n",
       "      <th>HCAHeartST10298114_AAACTCGTGATATAAG-1</th>\n",
       "      <td>0.0</td>\n",
       "      <td>0.0</td>\n",
       "      <td>1.497885</td>\n",
       "      <td>0.833815</td>\n",
       "      <td>0.624898</td>\n",
       "      <td>0.624898</td>\n",
       "      <td>1.753418</td>\n",
       "      <td>0.0</td>\n",
       "      <td>1.006538</td>\n",
       "      <td>0.000000</td>\n",
       "      <td>...</td>\n",
       "      <td>0.0</td>\n",
       "      <td>0.932834</td>\n",
       "      <td>1.116977</td>\n",
       "      <td>HCAHeartST10298114</td>\n",
       "      <td>113</td>\n",
       "      <td>23</td>\n",
       "      <td>Great vessel</td>\n",
       "      <td>4.0</td>\n",
       "      <td>False</td>\n",
       "      <td>0.887303</td>\n",
       "    </tr>\n",
       "    <tr>\n",
       "      <th>HCAHeartST10298114_AAACTGCTGGCTCCAA-1</th>\n",
       "      <td>0.0</td>\n",
       "      <td>0.0</td>\n",
       "      <td>0.665308</td>\n",
       "      <td>0.000000</td>\n",
       "      <td>0.000000</td>\n",
       "      <td>0.386992</td>\n",
       "      <td>1.061319</td>\n",
       "      <td>0.0</td>\n",
       "      <td>3.379385</td>\n",
       "      <td>0.000000</td>\n",
       "      <td>...</td>\n",
       "      <td>0.0</td>\n",
       "      <td>1.038130</td>\n",
       "      <td>0.000000</td>\n",
       "      <td>HCAHeartST10298114</td>\n",
       "      <td>67</td>\n",
       "      <td>45</td>\n",
       "      <td>Ventricle - Compact</td>\n",
       "      <td>3.0</td>\n",
       "      <td>True</td>\n",
       "      <td>0.000000</td>\n",
       "    </tr>\n",
       "  </tbody>\n",
       "</table>\n",
       "<p>5 rows × 5221 columns</p>\n",
       "</div>"
      ],
      "text/plain": [
       "                                       ITGA2_own  ZBTB42_own  MATN2_own  \\\n",
       "spot_id                                                                   \n",
       "HCAHeartST10298114_AAACAAGTATCTCCCA-1        0.0         0.0   0.576221   \n",
       "HCAHeartST10298114_AAACATTTCCCGGATT-1        0.0         0.0   0.511360   \n",
       "HCAHeartST10298114_AAACGAGACGGTTGAT-1        0.0         0.0   0.000000   \n",
       "HCAHeartST10298114_AAACTCGTGATATAAG-1        0.0         0.0   1.497885   \n",
       "HCAHeartST10298114_AAACTGCTGGCTCCAA-1        0.0         0.0   0.665308   \n",
       "\n",
       "                                       GLT8D2_own   CFH_own  DHRS3_own  \\\n",
       "spot_id                                                                  \n",
       "HCAHeartST10298114_AAACAAGTATCTCCCA-1    0.000000  0.000000   0.576221   \n",
       "HCAHeartST10298114_AAACATTTCCCGGATT-1    0.000000  0.000000   0.000000   \n",
       "HCAHeartST10298114_AAACGAGACGGTTGAT-1    0.000000  0.000000   1.449640   \n",
       "HCAHeartST10298114_AAACTCGTGATATAAG-1    0.833815  0.624898   0.624898   \n",
       "HCAHeartST10298114_AAACTGCTGGCTCCAA-1    0.000000  0.000000   0.386992   \n",
       "\n",
       "                                       ITM2C_own  SNCA_own  MYL2_own  \\\n",
       "spot_id                                                                \n",
       "HCAHeartST10298114_AAACAAGTATCTCCCA-1   0.576221       0.0  3.627727   \n",
       "HCAHeartST10298114_AAACATTTCCCGGATT-1   1.099502       0.0  3.456557   \n",
       "HCAHeartST10298114_AAACGAGACGGTTGAT-1   0.735820       0.0  4.125242   \n",
       "HCAHeartST10298114_AAACTCGTGATATAAG-1   1.753418       0.0  1.006538   \n",
       "HCAHeartST10298114_AAACTGCTGGCTCCAA-1   1.061319       0.0  3.379385   \n",
       "\n",
       "                                       CDK18_own  ...  SHISA3_neighbour-max  \\\n",
       "spot_id                                           ...                         \n",
       "HCAHeartST10298114_AAACAAGTATCTCCCA-1   0.000000  ...                   0.0   \n",
       "HCAHeartST10298114_AAACATTTCCCGGATT-1   0.511360  ...                   0.0   \n",
       "HCAHeartST10298114_AAACGAGACGGTTGAT-1   0.434115  ...                   0.0   \n",
       "HCAHeartST10298114_AAACTCGTGATATAAG-1   0.000000  ...                   0.0   \n",
       "HCAHeartST10298114_AAACTGCTGGCTCCAA-1   0.000000  ...                   0.0   \n",
       "\n",
       "                                       GATA6-AS1_neighbour-max  \\\n",
       "spot_id                                                          \n",
       "HCAHeartST10298114_AAACAAGTATCTCCCA-1                 1.061216   \n",
       "HCAHeartST10298114_AAACATTTCCCGGATT-1                 1.236689   \n",
       "HCAHeartST10298114_AAACGAGACGGTTGAT-1                 0.874152   \n",
       "HCAHeartST10298114_AAACTCGTGATATAAG-1                 0.932834   \n",
       "HCAHeartST10298114_AAACTGCTGGCTCCAA-1                 1.038130   \n",
       "\n",
       "                                       LIMA1_neighbour-max  \\\n",
       "spot_id                                                      \n",
       "HCAHeartST10298114_AAACAAGTATCTCCCA-1             0.488556   \n",
       "HCAHeartST10298114_AAACATTTCCCGGATT-1             0.000000   \n",
       "HCAHeartST10298114_AAACGAGACGGTTGAT-1             0.000000   \n",
       "HCAHeartST10298114_AAACTCGTGATATAAG-1             1.116977   \n",
       "HCAHeartST10298114_AAACTGCTGGCTCCAA-1             0.000000   \n",
       "\n",
       "                                                  section    x   y  \\\n",
       "spot_id                                                              \n",
       "HCAHeartST10298114_AAACAAGTATCTCCCA-1  HCAHeartST10298114  102  50   \n",
       "HCAHeartST10298114_AAACATTTCCCGGATT-1  HCAHeartST10298114   97  61   \n",
       "HCAHeartST10298114_AAACGAGACGGTTGAT-1  HCAHeartST10298114   79  35   \n",
       "HCAHeartST10298114_AAACTCGTGATATAAG-1  HCAHeartST10298114  113  23   \n",
       "HCAHeartST10298114_AAACTGCTGGCTCCAA-1  HCAHeartST10298114   67  45   \n",
       "\n",
       "                                                          tissue  \\\n",
       "spot_id                                                            \n",
       "HCAHeartST10298114_AAACAAGTATCTCCCA-1  Endocardium - Ventricular   \n",
       "HCAHeartST10298114_AAACATTTCCCGGATT-1        Ventricle - Compact   \n",
       "HCAHeartST10298114_AAACGAGACGGTTGAT-1        Ventricle - Compact   \n",
       "HCAHeartST10298114_AAACTCGTGATATAAG-1               Great vessel   \n",
       "HCAHeartST10298114_AAACTGCTGGCTCCAA-1        Ventricle - Compact   \n",
       "\n",
       "                                       n_neighbours  is_edge  distance_to_edge  \n",
       "spot_id                                                                         \n",
       "HCAHeartST10298114_AAACAAGTATCTCCCA-1           4.0    False          1.999961  \n",
       "HCAHeartST10298114_AAACATTTCCCGGATT-1           4.0    False          1.105358  \n",
       "HCAHeartST10298114_AAACGAGACGGTTGAT-1           4.0    False          1.105358  \n",
       "HCAHeartST10298114_AAACTCGTGATATAAG-1           4.0    False          0.887303  \n",
       "HCAHeartST10298114_AAACTGCTGGCTCCAA-1           3.0     True          0.000000  \n",
       "\n",
       "[5 rows x 5221 columns]"
      ]
     },
     "execution_count": 6,
     "metadata": {},
     "output_type": "execute_result"
    }
   ],
   "source": [
    "data = pd.read_pickle('/nfs/team205/kk18/notebooks/P48_Foetal-heart_Visium/notebooks/TissueTypist/tissuetypist_package/preprocessed_df/visiumsd_oct.pkl')\n",
    "print(data.shape)\n",
    "data.head()"
   ]
  },
  {
   "cell_type": "code",
   "execution_count": 7,
   "id": "4a82f00b-5430-4b3f-b627-a7a41b60d008",
   "metadata": {
    "execution": {
     "iopub.execute_input": "2025-04-07T11:44:41.375680Z",
     "iopub.status.busy": "2025-04-07T11:44:41.374649Z",
     "iopub.status.idle": "2025-04-07T11:44:41.587870Z",
     "shell.execute_reply": "2025-04-07T11:44:41.586928Z"
    },
    "papermill": {
     "duration": 0.223107,
     "end_time": "2025-04-07T11:44:41.589255",
     "exception": false,
     "start_time": "2025-04-07T11:44:41.366148",
     "status": "completed"
    },
    "tags": []
   },
   "outputs": [
    {
     "name": "stdout",
     "output_type": "stream",
     "text": [
      "(19179, 5221)\n"
     ]
    }
   ],
   "source": [
    "# remove coronary adventitia spots\n",
    "data = data[data['tissue']!='Adventitia - Coronary']\n",
    "print(data.shape)"
   ]
  },
  {
   "cell_type": "markdown",
   "id": "00fd27e9-c4ce-4717-a27f-f11ef184a6ce",
   "metadata": {
    "papermill": {
     "duration": 0.00699,
     "end_time": "2025-04-07T11:44:41.603648",
     "exception": false,
     "start_time": "2025-04-07T11:44:41.596658",
     "status": "completed"
    },
    "tags": []
   },
   "source": [
    "# Cross validation"
   ]
  },
  {
   "cell_type": "code",
   "execution_count": 8,
   "id": "ea159ab7-a478-4f62-98f2-e377b4f0a4fa",
   "metadata": {
    "execution": {
     "iopub.execute_input": "2025-04-07T11:44:41.620072Z",
     "iopub.status.busy": "2025-04-07T11:44:41.619048Z",
     "iopub.status.idle": "2025-04-07T11:44:41.624311Z",
     "shell.execute_reply": "2025-04-07T11:44:41.623545Z"
    },
    "papermill": {
     "duration": 0.014915,
     "end_time": "2025-04-07T11:44:41.625709",
     "exception": false,
     "start_time": "2025-04-07T11:44:41.610794",
     "status": "completed"
    },
    "tags": []
   },
   "outputs": [],
   "source": [
    "# Training data: weight to the seighbour spot data\n",
    "weight2neighbour_list = [0,0.1,0.3,1,3]\n",
    "weight2isedge_list = [0,1,5]\n",
    "edge_feature_list = ['distance_to_edge','is_edge']"
   ]
  },
  {
   "cell_type": "code",
   "execution_count": 9,
   "id": "aad985be-cb14-49f1-9331-cdf122ceacaf",
   "metadata": {
    "execution": {
     "iopub.execute_input": "2025-04-07T11:44:41.641872Z",
     "iopub.status.busy": "2025-04-07T11:44:41.640932Z",
     "iopub.status.idle": "2025-04-07T11:44:41.650317Z",
     "shell.execute_reply": "2025-04-07T11:44:41.649195Z"
    },
    "papermill": {
     "duration": 0.019228,
     "end_time": "2025-04-07T11:44:41.651987",
     "exception": false,
     "start_time": "2025-04-07T11:44:41.632759",
     "status": "completed"
    },
    "tags": []
   },
   "outputs": [
    {
     "name": "stdout",
     "output_type": "stream",
     "text": [
      "2607\n",
      "['ITGA2_own', 'ZBTB42_own', 'MATN2_own', 'GLT8D2_own', 'CFH_own']\n",
      "2607\n",
      "['ITGA2_neighbour-max', 'ZBTB42_neighbour-max', 'MATN2_neighbour-max', 'GLT8D2_neighbour-max', 'CFH_neighbour-max']\n"
     ]
    }
   ],
   "source": [
    "# prepare features\n",
    "own_features = [x for x in data.columns if '_own' in x]\n",
    "neighbour_features = [x for x in data.columns if '_neighbour-max' in x]\n",
    "print(len(own_features))\n",
    "print(own_features[:5])\n",
    "print(len(neighbour_features))\n",
    "print(neighbour_features[:5])"
   ]
  },
  {
   "cell_type": "code",
   "execution_count": 10,
   "id": "c8edd19c-fc32-4f0f-8df9-6fd45db8d1de",
   "metadata": {
    "execution": {
     "iopub.execute_input": "2025-04-07T11:44:41.670795Z",
     "iopub.status.busy": "2025-04-07T11:44:41.670270Z",
     "iopub.status.idle": "2025-04-07T17:16:53.799639Z",
     "shell.execute_reply": "2025-04-07T17:16:53.798293Z"
    },
    "papermill": {
     "duration": 19932.1435,
     "end_time": "2025-04-07T17:16:53.803852",
     "exception": false,
     "start_time": "2025-04-07T11:44:41.660352",
     "status": "completed"
    },
    "tags": []
   },
   "outputs": [
    {
     "name": "stdout",
     "output_type": "stream",
     "text": [
      "Weight to neighbour spots: 0, Weight to distance_to_edge: 0\n"
     ]
    },
    {
     "name": "stdout",
     "output_type": "stream",
     "text": [
      "Weight to neighbour spots: 0, Weight to distance_to_edge: 1\n"
     ]
    },
    {
     "name": "stdout",
     "output_type": "stream",
     "text": [
      "Weight to neighbour spots: 0, Weight to distance_to_edge: 5\n"
     ]
    },
    {
     "name": "stdout",
     "output_type": "stream",
     "text": [
      "Weight to neighbour spots: 0.1, Weight to distance_to_edge: 0\n"
     ]
    },
    {
     "name": "stdout",
     "output_type": "stream",
     "text": [
      "Weight to neighbour spots: 0.1, Weight to distance_to_edge: 1\n"
     ]
    },
    {
     "name": "stdout",
     "output_type": "stream",
     "text": [
      "Weight to neighbour spots: 0.1, Weight to distance_to_edge: 5\n"
     ]
    },
    {
     "name": "stdout",
     "output_type": "stream",
     "text": [
      "Weight to neighbour spots: 0.3, Weight to distance_to_edge: 0\n"
     ]
    },
    {
     "name": "stdout",
     "output_type": "stream",
     "text": [
      "Weight to neighbour spots: 0.3, Weight to distance_to_edge: 1\n"
     ]
    },
    {
     "name": "stdout",
     "output_type": "stream",
     "text": [
      "Weight to neighbour spots: 0.3, Weight to distance_to_edge: 5\n"
     ]
    },
    {
     "name": "stdout",
     "output_type": "stream",
     "text": [
      "Weight to neighbour spots: 1, Weight to distance_to_edge: 0\n"
     ]
    },
    {
     "name": "stdout",
     "output_type": "stream",
     "text": [
      "Weight to neighbour spots: 1, Weight to distance_to_edge: 1\n"
     ]
    },
    {
     "name": "stdout",
     "output_type": "stream",
     "text": [
      "Weight to neighbour spots: 1, Weight to distance_to_edge: 5\n"
     ]
    },
    {
     "name": "stdout",
     "output_type": "stream",
     "text": [
      "Weight to neighbour spots: 3, Weight to distance_to_edge: 0\n"
     ]
    },
    {
     "name": "stdout",
     "output_type": "stream",
     "text": [
      "Weight to neighbour spots: 3, Weight to distance_to_edge: 1\n"
     ]
    },
    {
     "name": "stdout",
     "output_type": "stream",
     "text": [
      "Weight to neighbour spots: 3, Weight to distance_to_edge: 5\n"
     ]
    },
    {
     "name": "stdout",
     "output_type": "stream",
     "text": [
      "Weight to neighbour spots: 0, Weight to is_edge: 0\n"
     ]
    },
    {
     "name": "stdout",
     "output_type": "stream",
     "text": [
      "Weight to neighbour spots: 0, Weight to is_edge: 1\n"
     ]
    },
    {
     "name": "stdout",
     "output_type": "stream",
     "text": [
      "Weight to neighbour spots: 0, Weight to is_edge: 5\n"
     ]
    },
    {
     "name": "stdout",
     "output_type": "stream",
     "text": [
      "Weight to neighbour spots: 0.1, Weight to is_edge: 0\n"
     ]
    },
    {
     "name": "stdout",
     "output_type": "stream",
     "text": [
      "Weight to neighbour spots: 0.1, Weight to is_edge: 1\n"
     ]
    },
    {
     "name": "stdout",
     "output_type": "stream",
     "text": [
      "Weight to neighbour spots: 0.1, Weight to is_edge: 5\n"
     ]
    },
    {
     "name": "stdout",
     "output_type": "stream",
     "text": [
      "Weight to neighbour spots: 0.3, Weight to is_edge: 0\n"
     ]
    },
    {
     "name": "stdout",
     "output_type": "stream",
     "text": [
      "Weight to neighbour spots: 0.3, Weight to is_edge: 1\n"
     ]
    },
    {
     "name": "stdout",
     "output_type": "stream",
     "text": [
      "Weight to neighbour spots: 0.3, Weight to is_edge: 5\n"
     ]
    },
    {
     "name": "stdout",
     "output_type": "stream",
     "text": [
      "Weight to neighbour spots: 1, Weight to is_edge: 0\n"
     ]
    },
    {
     "name": "stdout",
     "output_type": "stream",
     "text": [
      "Weight to neighbour spots: 1, Weight to is_edge: 1\n"
     ]
    },
    {
     "name": "stdout",
     "output_type": "stream",
     "text": [
      "Weight to neighbour spots: 1, Weight to is_edge: 5\n"
     ]
    },
    {
     "name": "stdout",
     "output_type": "stream",
     "text": [
      "Weight to neighbour spots: 3, Weight to is_edge: 0\n"
     ]
    },
    {
     "name": "stdout",
     "output_type": "stream",
     "text": [
      "Weight to neighbour spots: 3, Weight to is_edge: 1\n"
     ]
    },
    {
     "name": "stdout",
     "output_type": "stream",
     "text": [
      "Weight to neighbour spots: 3, Weight to is_edge: 5\n"
     ]
    }
   ],
   "source": [
    "for edge_feature in edge_feature_list:\n",
    "    all_fold_results = []\n",
    "    f1_score_class_results = []\n",
    "    for neighbour_weight in weight2neighbour_list:\n",
    "        for edge_weight in weight2isedge_list:\n",
    "            print(f\"Weight to neighbour spots: {neighbour_weight}, Weight to {edge_feature}: {edge_weight}\")\n",
    "            df_folds, f1_score_class_df = tt.cross_validation(data,\n",
    "                                                              own_features,\n",
    "                                                              neighbour_features,\n",
    "                                                              edge_feature,\n",
    "                                                              neighbour_weight,\n",
    "                                                              edge_weight,\n",
    "                                                              tissue_col='tissue',\n",
    "                                                             )\n",
    "            all_fold_results.append(df_folds)\n",
    "            f1_score_class_results.append(f1_score_class_df)\n",
    "\n",
    "    # Concatenate all factors into one tidy DataFrame\n",
    "    results_per_fold = pd.concat(all_fold_results, ignore_index=True)\n",
    "    f1_score_class_per_fold = pd.concat(f1_score_class_results, ignore_index=True)\n",
    "    # save\n",
    "    results_per_fold.to_csv(f'{dir_to_results}/{edge_feature}_results_per_fold.csv')\n",
    "    f1_score_class_per_fold.to_csv(f'{dir_to_results}/{edge_feature}_f1_score_class_per_fold.csv')"
   ]
  },
  {
   "cell_type": "code",
   "execution_count": null,
   "id": "dbf60fe0-1776-44c5-8417-8174d9eb323c",
   "metadata": {
    "papermill": {
     "duration": 0.01074,
     "end_time": "2025-04-07T17:16:53.828550",
     "exception": false,
     "start_time": "2025-04-07T17:16:53.817810",
     "status": "completed"
    },
    "tags": []
   },
   "outputs": [],
   "source": []
  }
 ],
 "metadata": {
  "kernelspec": {
   "display_name": "tissuetypist_env",
   "language": "python",
   "name": "tissuetypist_env"
  },
  "language_info": {
   "codemirror_mode": {
    "name": "ipython",
    "version": 3
   },
   "file_extension": ".py",
   "mimetype": "text/x-python",
   "name": "python",
   "nbconvert_exporter": "python",
   "pygments_lexer": "ipython3",
   "version": "3.10.16"
  },
  "papermill": {
   "default_parameters": {},
   "duration": 19962.484384,
   "end_time": "2025-04-07T17:16:57.098191",
   "environment_variables": {},
   "exception": null,
   "input_path": "../VisiumSD-OCT_no2-2_cross-validation_without-coronary-adv.ipynb",
   "output_path": "../notebook_outs/VisiumSD-OCT_no2-2_cross-validation_without-coronary-adv_out_07Apr2025.ipynb",
   "parameters": {},
   "start_time": "2025-04-07T11:44:14.613807",
   "version": "2.6.0"
  }
 },
 "nbformat": 4,
 "nbformat_minor": 5
}
