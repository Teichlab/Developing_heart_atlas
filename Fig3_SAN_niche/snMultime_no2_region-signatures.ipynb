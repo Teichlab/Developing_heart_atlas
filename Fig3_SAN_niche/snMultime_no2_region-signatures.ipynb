{
 "cells": [
  {
   "cell_type": "code",
   "execution_count": 1,
   "id": "elder-minute",
   "metadata": {},
   "outputs": [],
   "source": [
    "# Parameters\n",
    "working_dir = \"/nfs/team205/heart/Vitro/TF_selection/foetal_SANPcell_vs_workingCM\"\n",
    "path_to_adata_gex = \"/nfs/team205/heart/anndata_objects/Foetal/Feb28ObjectRaw_Multiome.h5ad\"\n",
    "path_to_adata_peak_tfidf = \"/nfs/team205/heart/anndata_objects/Foetal/multiome_ATAC/ArchR/project_output/PeakMatrix/Foetal_Peaks_tfidf.h5ad\"\n",
    "path_to_DAR_1 = \"/nfs/team205/heart/anndata_objects/Foetal/multiome_ATAC/ArchR/project_output/MarkerPeaks/SANP-vs-aCM.csv\"\n",
    "path_to_DAR_2 = \"/nfs/team205/heart/anndata_objects/Foetal/multiome_ATAC/ArchR/project_output/MarkerPeaks/aCM-vs-SANP.csv\"\n",
    "path_to_p2g_ArchR = \"\"\n",
    "group_key = \"fine_grain_aCMs_merged\"\n",
    "group_a = \"SinoatrialNodeCardiomyocytes\"\n",
    "group_b = \"AtrialCardiomyocytes\"\n",
    "subset_object = True\n",
    "geneset_list = [\"MSigDB_Hallmark_2020\", \"KEGG_2021_Human\", \"GO_Biological_Process_2023\"]\n",
    "\n",
    "path_to_eRegulon_signatures_gene = \"/nfs/team205/heart/pyscenic/plus/eRegulon_signatures/Cardiomyocytes_Gene_eRegulon_signatures.pkl\"\n",
    "path_to_eRegulon_signatures_region = \"/nfs/team205/heart/pyscenic/plus/eRegulon_signatures/Cardiomyocytes_Region_eRegulon_signatures.pkl\""
   ]
  },
  {
   "cell_type": "code",
   "execution_count": 2,
   "id": "flush-airline",
   "metadata": {},
   "outputs": [
    {
     "name": "stdout",
     "output_type": "stream",
     "text": [
      "aCM_full_eRegulon_metadata.csv\n",
      "aCM_full_eRegulon_metadata_filtered.csv\n",
      "aCM_n1140_eRegulon_metadata.csv\n",
      "aCM_n1140_eRegulon_metadata_filtered.csv\n",
      "aCM_n570_eRegulon_metadata.csv\n",
      "aCM_n570_eRegulon_metadata_filtered.csv\n",
      "Cardiomyocytes_eRegulon_metadata.csv\n",
      "Cardiomyocytes_eRegulon_metadata_filtered.csv\n",
      "Endothelium_eRegulon_metadata.csv\n",
      "Endothelium_eRegulon_metadata_filtered.csv\n",
      "Epicardium_eRegulon_metadata.csv\n",
      "Epicardium_eRegulon_metadata_filtered.csv\n",
      "Foetal_Adult_CMs_eRegulon_metadata.csv\n",
      "Foetal_Adult_CMs_eRegulon_metadata_filtered.csv\n",
      "Global_eRegulon_metadata.csv\n",
      "Global_eRegulon_metadata_filtered.csv\n",
      "Leukocytes_eRegulon_metadata.csv\n",
      "Leukocytes_eRegulon_metadata_filtered.csv\n",
      "Mesenchymal_eRegulon_metadata.csv\n",
      "Mesenchymal_eRegulon_metadata_filtered.csv\n",
      "MoMP_eRegulon_metadata.csv\n",
      "Neural_eRegulon_metadata.csv\n",
      "Neural_eRegulon_metadata_filtered.csv\n",
      "vCM_onlyLeft_eRegulon_metadata.csv\n",
      "vCM_onlyLeft_eRegulon_metadata_filtered.csv\n"
     ]
    }
   ],
   "source": [
    "!ls /nfs/team205/heart/pyscenic/plus/eRegulon_metadata"
   ]
  },
  {
   "cell_type": "code",
   "execution_count": 3,
   "id": "foreign-protocol",
   "metadata": {},
   "outputs": [],
   "source": [
    "import scanpy as sc\n",
    "import pandas as pd\n",
    "import numpy as np\n",
    "import anndata\n",
    "\n",
    "import matplotlib.pyplot as plt\n",
    "import seaborn as sns"
   ]
  },
  {
   "cell_type": "code",
   "execution_count": 4,
   "id": "legal-frame",
   "metadata": {},
   "outputs": [
    {
     "data": {
      "text/html": [
       "<details>\n",
       "<summary>Click to view session information</summary>\n",
       "<pre>\n",
       "-----\n",
       "anndata             0.9.2\n",
       "matplotlib          3.5.2\n",
       "numpy               1.22.3\n",
       "pandas              1.5.3\n",
       "scanpy              1.8.2\n",
       "seaborn             0.12.2\n",
       "session_info        1.0.0\n",
       "-----\n",
       "</pre>\n",
       "<details>\n",
       "<summary>Click to view modules imported as dependencies</summary>\n",
       "<pre>\n",
       "PIL                 10.0.0\n",
       "asttokens           NA\n",
       "backcall            0.2.0\n",
       "beta_ufunc          NA\n",
       "binom_ufunc         NA\n",
       "cffi                1.15.1\n",
       "colorama            0.4.6\n",
       "comm                0.1.4\n",
       "cpuinfo             NA\n",
       "cycler              0.10.0\n",
       "cython_runtime      NA\n",
       "dateutil            2.8.2\n",
       "debugpy             1.6.7.post1\n",
       "decorator           5.1.1\n",
       "executing           1.2.0\n",
       "h5py                3.9.0\n",
       "hypergeom_ufunc     NA\n",
       "igraph              0.10.6\n",
       "importlib_metadata  NA\n",
       "ipykernel           6.25.1\n",
       "jedi                0.19.0\n",
       "joblib              1.3.2\n",
       "kiwisolver          1.4.5\n",
       "leidenalg           0.10.1\n",
       "llvmlite            0.40.1\n",
       "mpl_toolkits        NA\n",
       "natsort             8.4.0\n",
       "nbinom_ufunc        NA\n",
       "ncf_ufunc           NA\n",
       "numba               0.57.1\n",
       "numexpr             2.8.5\n",
       "packaging           23.1\n",
       "parso               0.8.3\n",
       "patsy               0.5.3\n",
       "pexpect             4.8.0\n",
       "pickleshare         0.7.5\n",
       "pkg_resources       NA\n",
       "platformdirs        3.10.0\n",
       "plotly              5.16.1\n",
       "prompt_toolkit      3.0.39\n",
       "psutil              5.9.5\n",
       "ptyprocess          0.7.0\n",
       "pure_eval           0.2.2\n",
       "pydev_ipython       NA\n",
       "pydevconsole        NA\n",
       "pydevd              2.9.5\n",
       "pydevd_file_utils   NA\n",
       "pydevd_plugins      NA\n",
       "pydevd_tracing      NA\n",
       "pygments            2.16.1\n",
       "pyparsing           3.0.9\n",
       "pytz                2023.3\n",
       "scipy               1.9.1\n",
       "sinfo               0.3.4\n",
       "six                 1.16.0\n",
       "sklearn             1.3.0\n",
       "sphinxcontrib       NA\n",
       "stack_data          0.6.2\n",
       "statsmodels         0.14.0\n",
       "tables              3.8.0\n",
       "texttable           1.6.7\n",
       "threadpoolctl       3.2.0\n",
       "tornado             6.3.3\n",
       "traitlets           5.9.0\n",
       "typing_extensions   NA\n",
       "wcwidth             0.2.6\n",
       "zipp                NA\n",
       "zmq                 25.1.1\n",
       "</pre>\n",
       "</details> <!-- seems like this ends pre, so might as well be explicit -->\n",
       "<pre>\n",
       "-----\n",
       "IPython             8.12.2\n",
       "jupyter_client      8.3.0\n",
       "jupyter_core        5.3.1\n",
       "-----\n",
       "Python 3.8.17 (default, Jul  5 2023, 21:04:15) [GCC 11.2.0]\n",
       "Linux-4.15.0-212-generic-x86_64-with-glibc2.17\n",
       "-----\n",
       "Session information updated at 2023-11-05 12:00\n",
       "</pre>\n",
       "</details>"
      ],
      "text/plain": [
       "<IPython.core.display.HTML object>"
      ]
     },
     "execution_count": 4,
     "metadata": {},
     "output_type": "execute_result"
    }
   ],
   "source": [
    "import session_info\n",
    "session_info.show()"
   ]
  },
  {
   "cell_type": "code",
   "execution_count": 5,
   "id": "specified-salem",
   "metadata": {},
   "outputs": [],
   "source": [
    "import importlib.util\n",
    "import sys\n",
    "spec = importlib.util.spec_from_file_location(\"module.name\", \"/nfs/team205/kk18/function/python/utils.py\")\n",
    "utils = importlib.util.module_from_spec(spec)\n",
    "sys.modules[\"module.name\"] = utils\n",
    "spec.loader.exec_module(utils)"
   ]
  },
  {
   "cell_type": "code",
   "execution_count": 6,
   "id": "divided-leonard",
   "metadata": {},
   "outputs": [],
   "source": [
    "sc.settings.set_figure_params(dpi=120)"
   ]
  },
  {
   "cell_type": "code",
   "execution_count": null,
   "id": "emerging-venture",
   "metadata": {},
   "outputs": [],
   "source": []
  },
  {
   "cell_type": "markdown",
   "id": "satellite-rapid",
   "metadata": {},
   "source": [
    "# Function"
   ]
  },
  {
   "cell_type": "code",
   "execution_count": null,
   "id": "comparable-return",
   "metadata": {},
   "outputs": [],
   "source": []
  },
  {
   "cell_type": "markdown",
   "id": "hired-wallace",
   "metadata": {},
   "source": [
    "# Read in DAR result"
   ]
  },
  {
   "cell_type": "code",
   "execution_count": 12,
   "id": "authentic-breathing",
   "metadata": {},
   "outputs": [
    {
     "name": "stdout",
     "output_type": "stream",
     "text": [
      "up: 2197 regions\n",
      "down: 1183 regions\n"
     ]
    }
   ],
   "source": [
    "logFC_threshold = 0\n",
    "FDR_threshold = 0.1\n",
    "\n",
    "# SANP\n",
    "dar = pd.read_csv(path_to_DAR_1)\n",
    "dar_up = dar[(dar['Log2FC']> logFC_threshold)&(dar['FDR']<FDR_threshold)]\n",
    "dar_down = dar[(dar['Log2FC']< -logFC_threshold)&(dar['FDR']<FDR_threshold)]\n",
    "print(f'up: {len(dar_up)} regions')\n",
    "print(f'down: {len(dar_down)} regions')"
   ]
  },
  {
   "cell_type": "markdown",
   "id": "cathedral-staff",
   "metadata": {},
   "source": [
    "# Save the peaks"
   ]
  },
  {
   "cell_type": "code",
   "execution_count": 13,
   "id": "distinct-baghdad",
   "metadata": {},
   "outputs": [
    {
     "name": "stdout",
     "output_type": "stream",
     "text": [
      "dict_keys(['SinoatrialNodeCardiomyocytes_up', 'SinoatrialNodeCardiomyocytes_down'])\n"
     ]
    }
   ],
   "source": [
    "peak_signatures = {}\n",
    "# up, towards group_a\n",
    "peak_signatures[f'{group_a}_up'] = list(dar_up['seqnames'].astype('str')+':'+dar_up['start'].astype('str')+'_'+dar_up['end'].astype('str'))\n",
    "peak_signatures[f'{group_a}_down'] = list(dar_down['seqnames'].astype('str')+':'+dar_down['start'].astype('str')+'_'+dar_down['end'].astype('str'))\n",
    "\n",
    "print(peak_signatures.keys())\n",
    "\n",
    "# save\n",
    "utils.save_pkl(peak_signatures,\n",
    "           file = f'{working_dir}/outs/peak_signatures.pkl'\n",
    "          )"
   ]
  },
  {
   "cell_type": "code",
   "execution_count": 14,
   "id": "opening-conservative",
   "metadata": {},
   "outputs": [
    {
     "data": {
      "text/plain": [
       "'/nfs/team205/heart/Vitro/TF_selection/foetal_SANPcell_vs_workingCM/outs/peak_signatures.pkl'"
      ]
     },
     "execution_count": 14,
     "metadata": {},
     "output_type": "execute_result"
    }
   ],
   "source": [
    "f'{working_dir}/outs/peak_signatures.pkl'"
   ]
  },
  {
   "cell_type": "code",
   "execution_count": null,
   "id": "banner-concert",
   "metadata": {},
   "outputs": [],
   "source": []
  },
  {
   "cell_type": "code",
   "execution_count": null,
   "id": "mathematical-rental",
   "metadata": {},
   "outputs": [],
   "source": []
  },
  {
   "cell_type": "code",
   "execution_count": null,
   "id": "distant-smooth",
   "metadata": {},
   "outputs": [],
   "source": []
  }
 ],
 "metadata": {
  "kernelspec": {
   "display_name": "vitro",
   "language": "python",
   "name": "vitro"
  },
  "language_info": {
   "codemirror_mode": {
    "name": "ipython",
    "version": 3
   },
   "file_extension": ".py",
   "mimetype": "text/x-python",
   "name": "python",
   "nbconvert_exporter": "python",
   "pygments_lexer": "ipython3",
   "version": "3.8.17"
  }
 },
 "nbformat": 4,
 "nbformat_minor": 5
}
