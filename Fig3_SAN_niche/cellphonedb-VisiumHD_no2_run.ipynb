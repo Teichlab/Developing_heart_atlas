{
 "cells": [
  {
   "cell_type": "code",
   "execution_count": 1,
   "id": "alpine-township",
   "metadata": {},
   "outputs": [
    {
     "name": "stdout",
     "output_type": "stream",
     "text": [
      "import pandas as pd\n",
      "import sys\n",
      "import os\n",
      "from cellphonedb.src.core.methods import cpdb_statistical_analysis_method\n",
      "\n",
      "# Input files\n",
      "cpdb_file_path = '/nfs/team205/heart/cellphonedb/db/v5.0.0/cellphonedb.zip'\n",
      "meta_file_path = '/lustre/scratch126/cellgen/team205/kk18/VisiumHD/objects/cellphonedb/HEA_FOET14880396/inputs/meta_SAnode.txt'\n",
      "counts_file_path = '/lustre/scratch126/cellgen/team205/kk18/VisiumHD/objects/cellphonedb/HEA_FOET14880396/inputs/log_norm_counts_SAnode.h5ad'\n",
      "out_path = '/lustre/scratch126/cellgen/team205/kk18/VisiumHD/objects/cellphonedb/HEA_FOET14880396/SAnode'\n",
      "if not os.path.exists(out_path):\n",
      "    os.makedirs(out_path)\n",
      "min_percent = sys.argv[1]\n",
      "\n",
      "print(f'##### All cells, min %:{min_percent} #####')\n",
      "\n",
      "# run\n",
      "cpdb_results = cpdb_statistical_analysis_method.call(\n",
      "    cpdb_file_path = cpdb_file_path,                 # mandatory: CellphoneDB database zip file.\n",
      "    meta_file_path = meta_file_path,                 # mandatory: tsv file defining barcodes to cell label.\n",
      "    counts_file_path = counts_file_path,             # mandatory: normalized count matrix - a path to the counts file, or an in-memory AnnData object\n",
      "    counts_data = 'hgnc_symbol',                     # defines the gene annotation in counts matrix.\n",
      "    active_tfs_file_path = None,           # optional: defines cell types and their active TFs.\n",
      "    microenvs_file_path = None,       # optional (default: None): defines cells per microenvironment.\n",
      "    score_interactions = True,                       # optional: whether to score interactions or not. \n",
      "    iterations = 1000,                               # denotes the number of shufflings performed in the analysis.\n",
      "    threshold = float(min_percent),                                 # defines the min % of cells expressing a gene for this to be employed in the analysis.\n",
      "    threads = 5,                                     # number of threads to use in the analysis.\n",
      "    debug_seed = 42,                                 # debug randome seed. To disable >=0.\n",
      "    result_precision = 3,                            # Sets the rounding for the mean values in significan_means.\n",
      "    pvalue = 0.1,                                   # P-value threshold to employ for significance.\n",
      "    subsampling = False,                             # To enable subsampling the data (geometri sketching).\n",
      "    subsampling_log = False,                         # (mandatory) enable subsampling log1p for non log-transformed data inputs.\n",
      "    subsampling_num_pc = 100,                        # Number of componets to subsample via geometric skectching (dafault: 100).\n",
      "    subsampling_num_cells = 1000,                    # Number of cells to subsample (integer) (default: 1/3 of the dataset).\n",
      "    separator = '|',                                 # Sets the string to employ to separate cells in the results dataframes \"cellA|CellB\".\n",
      "    debug = False,                                   # Saves all intermediate tables employed during the analysis in pkl format.\n",
      "    output_path = out_path,                          # Path to save results.\n",
      "    output_suffix = None                             # Replaces the timestamp in the output files by a user defined string in the  (default: None).\n",
      "    )\n",
      "\n"
     ]
    }
   ],
   "source": [
    "!cat /nfs/team205/heart/cellphonedb/run_script/run_cellphone_v5_foetal_visiumhd_HEA_FOET14880396_statistical_SAnode.py"
   ]
  },
  {
   "cell_type": "markdown",
   "id": "prescribed-desire",
   "metadata": {},
   "source": [
    "# Submid job"
   ]
  },
  {
   "cell_type": "markdown",
   "id": "reserved-corrections",
   "metadata": {},
   "source": [
    "```bash\n",
    "module load cellgen/conda\n",
    "conda activate cpdb\n",
    "cd /nfs/team205/heart/cellphonedb\n",
    "\n",
    "MIN_PERCENT=0.05\n",
    "bsub \\\n",
    "-G team205 \\\n",
    "-q normal -M20000 -R\"select[mem>20000] rusage[mem=20000] span[hosts=1]\" \\\n",
    "-n 4 \\\n",
    "-o ./log/foetal_visiumhd_HEA_FOET14880396_output.%J \\\n",
    "-e ./log/foetal_visiumhd_HEA_FOET14880396_errorfile.%J \\\n",
    "python ./run_script/run_cellphone_v5_foetal_visiumhd_HEA_FOET14880396_statistical_SAnode.py $MIN_PERCENT\n",
    "```\n"
   ]
  },
  {
   "cell_type": "markdown",
   "id": "ac75f3a7-a581-4479-bfb2-a461493bfa65",
   "metadata": {},
   "source": [
    "Job <97409> is submitted to queue <normal>."
   ]
  },
  {
   "cell_type": "code",
   "execution_count": null,
   "id": "neither-broadcasting",
   "metadata": {},
   "outputs": [],
   "source": []
  },
  {
   "cell_type": "markdown",
   "id": "orange-import",
   "metadata": {},
   "source": [
    "# Check error files"
   ]
  },
  {
   "cell_type": "code",
   "execution_count": 6,
   "id": "ahead-revolution",
   "metadata": {},
   "outputs": [
    {
     "name": "stdout",
     "output_type": "stream",
     "text": [
      "/nfs/team205/heart/cellphonedb/log/foetal_visiumhd_HEA_FOET14880396_errorfile.97409\n",
      "100%|██████████| 1000/1000 [00:14<00:00, 71.33it/s]\n",
      "100%|██████████| 11/11 [00:00<00:00, 278.56it/s]\n",
      "100%|██████████| 11/11 [00:00<00:00, 806.77it/s]\n",
      "100%|██████████| 121/121 [00:29<00:00,  4.05it/s]\n"
     ]
    }
   ],
   "source": [
    "%%bash\n",
    "FILE_path=/nfs/team205/heart/cellphonedb/log/foetal_visiumhd_HEA_FOET14880396_errorfile.97409\n",
    "echo ${FILE_path}\n",
    "cat ${FILE_path}"
   ]
  },
  {
   "cell_type": "markdown",
   "id": "3560c55a-9e23-4e0c-8b85-6aca4caa919c",
   "metadata": {},
   "source": [
    "-> no error"
   ]
  },
  {
   "cell_type": "markdown",
   "id": "ruled-rotation",
   "metadata": {},
   "source": [
    "# Check output files"
   ]
  },
  {
   "cell_type": "code",
   "execution_count": 7,
   "id": "c810f8dd-66a2-4885-ba02-44f4e7694f9a",
   "metadata": {
    "tags": []
   },
   "outputs": [
    {
     "name": "stdout",
     "output_type": "stream",
     "text": [
      "##### All cells, min %:0.05 #####\n",
      "Reading user files...\n",
      "The following user files were loaded successfully:\n",
      "/lustre/scratch126/cellgen/team205/kk18/VisiumHD/objects/cellphonedb/HEA_FOET14880396/inputs/log_norm_counts_SAnode.h5ad\n",
      "/lustre/scratch126/cellgen/team205/kk18/VisiumHD/objects/cellphonedb/HEA_FOET14880396/inputs/meta_SAnode.txt\n",
      "[ ][CORE][04/05/25-10:49:38][INFO] [Cluster Statistical Analysis] Threshold:0.05 Iterations:1000 Debug-seed:42 Threads:5 Precision:3\n",
      "[ ][CORE][04/05/25-10:49:38][WARNING] Debug random seed enabled. Set to 42\n",
      "[ ][CORE][04/05/25-10:49:39][INFO] Running Real Analysis\n",
      "[ ][CORE][04/05/25-10:49:39][INFO] Running Statistical Analysis\n",
      "[ ][CORE][04/05/25-10:49:54][INFO] Building Pvalues result\n",
      "[ ][CORE][04/05/25-10:49:54][INFO] Building results\n",
      "[ ][CORE][04/05/25-10:49:54][INFO] Scoring interactions: Filtering genes per cell type..\n",
      "[ ][CORE][04/05/25-10:49:54][INFO] Scoring interactions: Calculating mean expression of each gene per group/cell type..\n",
      "[ ][CORE][04/05/25-10:49:54][INFO] Scoring interactions: Calculating scores for all interactions and cell types..\n",
      "Saved deconvoluted to /lustre/scratch126/cellgen/team205/kk18/VisiumHD/objects/cellphonedb/HEA_FOET14880396/SAnode/statistical_analysis_deconvoluted_05_04_2025_105025.txt\n",
      "Saved deconvoluted_percents to /lustre/scratch126/cellgen/team205/kk18/VisiumHD/objects/cellphonedb/HEA_FOET14880396/SAnode/statistical_analysis_deconvoluted_percents_05_04_2025_105025.txt\n",
      "Saved means to /lustre/scratch126/cellgen/team205/kk18/VisiumHD/objects/cellphonedb/HEA_FOET14880396/SAnode/statistical_analysis_means_05_04_2025_105025.txt\n",
      "Saved pvalues to /lustre/scratch126/cellgen/team205/kk18/VisiumHD/objects/cellphonedb/HEA_FOET14880396/SAnode/statistical_analysis_pvalues_05_04_2025_105025.txt\n",
      "Saved significant_means to /lustre/scratch126/cellgen/team205/kk18/VisiumHD/objects/cellphonedb/HEA_FOET14880396/SAnode/statistical_analysis_significant_means_05_04_2025_105025.txt\n",
      "Saved interaction_scores to /lustre/scratch126/cellgen/team205/kk18/VisiumHD/objects/cellphonedb/HEA_FOET14880396/SAnode/statistical_analysis_interaction_scores_05_04_2025_105025.txt\n",
      "\n",
      "------------------------------------------------------------\n",
      "Sender: LSF System <lsfadmin@node-14-11>\n",
      "Subject: Job 97409: <python ./run_script/run_cellphone_v5_foetal_visiumhd_HEA_FOET14880396_statistical_SAnode.py 0.05> in cluster <farm22> Done\n",
      "\n",
      "Job <python ./run_script/run_cellphone_v5_foetal_visiumhd_HEA_FOET14880396_statistical_SAnode.py 0.05> was submitted from host <farm22-head1> by user <kk18> in cluster <farm22> at Sun May  4 10:47:34 2025\n",
      "Job was executed on host(s) <4*node-14-11>, in queue <normal>, as user <kk18> in cluster <farm22> at Sun May  4 10:47:36 2025\n",
      "</nfs/users/nfs_k/kk18> was used as the home directory.\n",
      "</nfs/team205/heart/cellphonedb> was used as the working directory.\n",
      "Started at Sun May  4 10:47:36 2025\n",
      "Terminated at Sun May  4 10:50:39 2025\n",
      "Results reported at Sun May  4 10:50:39 2025\n",
      "\n",
      "Your job looked like:\n",
      "\n",
      "------------------------------------------------------------\n",
      "# LSBATCH: User input\n",
      "python ./run_script/run_cellphone_v5_foetal_visiumhd_HEA_FOET14880396_statistical_SAnode.py 0.05\n",
      "------------------------------------------------------------\n",
      "\n",
      "Successfully completed.\n",
      "\n",
      "Resource usage summary:\n",
      "\n",
      "    CPU time :                                   179.27 sec.\n",
      "    Max Memory :                                 2015 MB\n",
      "    Average Memory :                             513.89 MB\n",
      "    Total Requested Memory :                     20000.00 MB\n",
      "    Delta Memory :                               17985.00 MB\n",
      "    Max Swap :                                   -\n",
      "    Max Processes :                              8\n",
      "    Max Threads :                                13\n",
      "    Run time :                                   166 sec.\n",
      "    Turnaround time :                            185 sec.\n",
      "\n",
      "The output (if any) is above this job summary.\n",
      "\n",
      "\n",
      "\n",
      "PS:\n",
      "\n",
      "Read file <./log/foetal_visiumhd_HEA_FOET14880396_errorfile.97409> for stderr output of this job.\n",
      "\n"
     ]
    }
   ],
   "source": [
    "%%bash\n",
    "PATH_out=/nfs/team205/heart/cellphonedb/log/foetal_visiumhd_HEA_FOET14880396_output.97409\n",
    "cat ${PATH_out}"
   ]
  },
  {
   "cell_type": "code",
   "execution_count": null,
   "id": "2d1d80bc-611f-4095-9ec1-a5a8f65436d1",
   "metadata": {},
   "outputs": [],
   "source": []
  },
  {
   "cell_type": "code",
   "execution_count": null,
   "id": "eleven-spoke",
   "metadata": {},
   "outputs": [],
   "source": []
  }
 ],
 "metadata": {
  "kernelspec": {
   "display_name": "Python 3",
   "language": "python",
   "name": "python3"
  },
  "language_info": {
   "codemirror_mode": {
    "name": "ipython",
    "version": 3
   },
   "file_extension": ".py",
   "mimetype": "text/x-python",
   "name": "python",
   "nbconvert_exporter": "python",
   "pygments_lexer": "ipython3",
   "version": "3.6.8"
  }
 },
 "nbformat": 4,
 "nbformat_minor": 5
}
