{
 "cells": [
  {
   "cell_type": "markdown",
   "id": "binding-finder",
   "metadata": {},
   "source": [
    "Ref: https://github.com/ventolab/CellphoneDB/blob/master/notebooks/T00_DownloadDB.ipynb"
   ]
  },
  {
   "cell_type": "code",
   "execution_count": 1,
   "id": "appropriate-hygiene",
   "metadata": {
    "tags": []
   },
   "outputs": [],
   "source": [
    "import pandas as pd\n",
    "import glob\n",
    "import os"
   ]
  },
  {
   "cell_type": "markdown",
   "id": "induced-artist",
   "metadata": {},
   "source": [
    "# Display database versions"
   ]
  },
  {
   "cell_type": "code",
   "execution_count": 2,
   "id": "minimal-mention",
   "metadata": {
    "tags": []
   },
   "outputs": [
    {
     "data": {
      "text/html": [
       "<table class=\"striped\"><tr><th style=\"text-align:center\">Version</th><th style=\"text-align:center\">Release date</th></tr><td style=\"text-align:center\"><a class=\"teal-text\" href=\"https://github.com/ventolab/cellphonedb-data/releases/tag/v5.0.0\">v5.0.0</a></td><td style=\"text-align:center\">2023-10-31</td></tr><tr><td style=\"text-align:center\"><a class=\"teal-text\" href=\"https://github.com/ventolab/cellphonedb-data/releases/tag/v4.1.0\">v4.1.0</a></td><td style=\"text-align:center\">2023-03-09</td></tr><tr><tr><tr></table>"
      ],
      "text/plain": [
       "<IPython.core.display.HTML object>"
      ]
     },
     "metadata": {},
     "output_type": "display_data"
    }
   ],
   "source": [
    "from IPython.display import HTML, display\n",
    "from cellphonedb.utils import db_releases_utils\n",
    "\n",
    "display(HTML(db_releases_utils.get_remote_database_versions_html()['db_releases_html_table']))"
   ]
  },
  {
   "cell_type": "markdown",
   "id": "specialized-intent",
   "metadata": {},
   "source": [
    "# Define the version and the path to download database"
   ]
  },
  {
   "cell_type": "code",
   "execution_count": 3,
   "id": "supposed-control",
   "metadata": {
    "tags": []
   },
   "outputs": [],
   "source": [
    "# -- Version of the databse\n",
    "cpdb_version = 'v5.0.0'\n",
    "\n",
    "# -- Path where the input files to generate the database are located\n",
    "cpdb_target_dir = os.path.join('/nfs/team205/heart/cellphonedb/db', cpdb_version)"
   ]
  },
  {
   "cell_type": "markdown",
   "id": "ordinary-range",
   "metadata": {},
   "source": [
    "# Download"
   ]
  },
  {
   "cell_type": "code",
   "execution_count": 5,
   "id": "9a27d11e-122e-418d-82e1-0e0ff88e5e7c",
   "metadata": {
    "tags": []
   },
   "outputs": [
    {
     "name": "stdout",
     "output_type": "stream",
     "text": [
      "Downloaded cellphonedb.zip into /nfs/team205/heart/cellphonedb/db/v5.0.0\n",
      "Downloaded complex_input.csv into /nfs/team205/heart/cellphonedb/db/v5.0.0\n",
      "Downloaded gene_input.csv into /nfs/team205/heart/cellphonedb/db/v5.0.0\n",
      "Downloaded interaction_input.csv into /nfs/team205/heart/cellphonedb/db/v5.0.0\n",
      "Downloaded protein_input.csv into /nfs/team205/heart/cellphonedb/db/v5.0.0\n",
      "Downloaded uniprot_synonyms.tsv into /nfs/team205/heart/cellphonedb/db/v5.0.0/sources\n",
      "Downloaded transcription_factor_input.csv into /nfs/team205/heart/cellphonedb/db/v5.0.0/sources\n"
     ]
    }
   ],
   "source": [
    "from cellphonedb.utils import db_utils\n",
    "\n",
    "db_utils.download_database(cpdb_target_dir, cpdb_version)"
   ]
  },
  {
   "cell_type": "code",
   "execution_count": null,
   "id": "excess-notification",
   "metadata": {},
   "outputs": [],
   "source": []
  }
 ],
 "metadata": {
  "kernelspec": {
   "display_name": "cpdb",
   "language": "python",
   "name": "cpdb"
  },
  "language_info": {
   "codemirror_mode": {
    "name": "ipython",
    "version": 3
   },
   "file_extension": ".py",
   "mimetype": "text/x-python",
   "name": "python",
   "nbconvert_exporter": "python",
   "pygments_lexer": "ipython3",
   "version": "3.8.20"
  }
 },
 "nbformat": 4,
 "nbformat_minor": 5
}
