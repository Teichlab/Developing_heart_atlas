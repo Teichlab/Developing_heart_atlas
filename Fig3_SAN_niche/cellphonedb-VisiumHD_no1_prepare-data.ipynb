{
 "cells": [
  {
   "cell_type": "markdown",
   "id": "discrete-investing",
   "metadata": {},
   "source": [
    "https://github.com/ventolab/CellphoneDB/blob/master/notebooks/0_prepare_your_data_from_anndata.ipynb"
   ]
  },
  {
   "cell_type": "markdown",
   "id": "heavy-training",
   "metadata": {},
   "source": [
    "## Import modules"
   ]
  },
  {
   "cell_type": "code",
   "execution_count": 1,
   "id": "needed-responsibility",
   "metadata": {
    "tags": []
   },
   "outputs": [],
   "source": [
    "import numpy as np\n",
    "import pandas as pd\n",
    "import scanpy as sc\n",
    "import anndata\n",
    "import os\n",
    "import sys\n",
    "from scipy import sparse\n",
    "import pickle\n",
    "import matplotlib.pyplot as plt\n",
    "\n",
    "sc.settings.verbosity = 1  # verbosity: errors (0), warnings (1), info (2), hints (3)"
   ]
  },
  {
   "cell_type": "code",
   "execution_count": 2,
   "id": "casual-question",
   "metadata": {
    "tags": []
   },
   "outputs": [],
   "source": [
    "import importlib.util\n",
    "import sys\n",
    "spec = importlib.util.spec_from_file_location(\"module.name\", \"/nfs/team205/kk18/function/python/utils.py\")\n",
    "utils = importlib.util.module_from_spec(spec)\n",
    "sys.modules[\"module.name\"] = utils\n",
    "spec.loader.exec_module(utils)"
   ]
  },
  {
   "cell_type": "markdown",
   "id": "dressed-evolution",
   "metadata": {},
   "source": [
    "## Set path"
   ]
  },
  {
   "cell_type": "code",
   "execution_count": 3,
   "id": "combined-question",
   "metadata": {
    "tags": []
   },
   "outputs": [
    {
     "data": {
      "text/plain": [
       "'/lustre/scratch126/cellgen/team205/kk18/VisiumHD/objects/cellphonedb/HEA_FOET14880396/inputs'"
      ]
     },
     "execution_count": 3,
     "metadata": {},
     "output_type": "execute_result"
    }
   ],
   "source": [
    "sample_id = 'HEA_FOET14880396'\n",
    "cellphone_input_dir = f'/lustre/scratch126/cellgen/team205/kk18/VisiumHD/objects/cellphonedb/{sample_id}/inputs'\n",
    "cellphone_input_dir"
   ]
  },
  {
   "cell_type": "code",
   "execution_count": 4,
   "id": "5593e91a-ea7e-494f-8a01-e57081d55589",
   "metadata": {
    "tags": []
   },
   "outputs": [],
   "source": [
    "celltype_col = 'fine_grain_4Jan2025'"
   ]
  },
  {
   "cell_type": "code",
   "execution_count": 5,
   "id": "b13c8879-86d6-4638-9203-2660d3d71d1d",
   "metadata": {
    "tags": []
   },
   "outputs": [],
   "source": [
    "niche_label_col = 'tt_prediction'\n",
    "niche_of_interest = 'SAnode'"
   ]
  },
  {
   "cell_type": "markdown",
   "id": "cosmetic-manual",
   "metadata": {},
   "source": [
    "## Read in anndata"
   ]
  },
  {
   "cell_type": "code",
   "execution_count": 11,
   "id": "a0645ec9-7f0d-4849-9af9-6dcfb0f6571e",
   "metadata": {
    "tags": []
   },
   "outputs": [
    {
     "data": {
      "text/plain": [
       "AnnData object with n_obs × n_vars = 92164 × 18047\n",
       "    obs: 'object_id', 'bin_count', 'array_row', 'array_col', 'labels_joint_source', 'n_genes_by_counts', 'log1p_n_genes_by_counts', 'total_counts', 'log1p_total_counts', 'pct_counts_in_top_50_genes', 'pct_counts_in_top_100_genes', 'pct_counts_in_top_200_genes', 'pct_counts_in_top_500_genes', 'total_counts_mt', 'log1p_total_counts_mt', 'pct_counts_mt', 'celltypist_coarse', 'conf_score_coarse', 'celltypist_coarse_fin', 'celltypist_coarse2midmod', 'conf_score_coarse2midmod', 'celltypist_mid_fin', 'celltypist_midmod2fine', 'conf_score_midmod2fine', 'fine_grain_4Jan2025', 'HistologicalAnnotation', 'cluster_cellcharter_k-8', 'cluster_cellcharter_k-10', 'cluster_cellcharter_k-12', 'cluster_cellcharter_k-14', 'cluster_cellcharter_k-16', 'cluster_cellcharter_k-18', 'cluster_cellcharter_k-20', 'cluster_cellcharter_k-25', 'cluster_cellcharter_k-30', 'cluster_cellcharter_k-35', 'cluster_cellcharter_k-40', 'cluster_cellcharter_k-45', 'cluster_cellcharter_k-50', 'predicted_labels', 'conf_score', 'predicted_labels_cellcharter-cluster-k50', 'conf_score_cellcharter-cluster-k50', 'spatial_leiden_1', 'spatial_leiden_5', 'spatial_leiden_0.5', 'spatial_leiden_2', 'spatial_leiden_10', 'spatial_leiden_100', 'spatial_leiden_1000', 'KMeans_k9216_cluster', 'predicted_labels_spatial_KMeans_k9216', 'conf_score_spatial_KMeans_k9216', 'KMeans_k4608_cluster', 'predicted_labels_spatial_KMeans_k4608', 'conf_score_spatial_KMeans_k4608', 'KMeans_k3072_cluster', 'KMeans_k1843_cluster', 'predicted_labels_spatial_KMeans_k3072', 'conf_score_spatial_KMeans_k3072', 'predicted_labels_spatial_KMeans_k1843', 'conf_score_spatial_KMeans_k1843', 'sliding_window_assignment', 'predicted_labels_sliding_window_assignment', 'conf_score_sliding_window_assignment', 'tt_prediction'\n",
       "    var: 'gene_ids', 'feature_types', 'genome', 'n_cells', 'mt', 'n_cells_by_counts', 'mean_counts', 'log1p_mean_counts', 'pct_dropout_by_counts', 'total_counts', 'log1p_total_counts', 'highly_variable', 'means', 'dispersions', 'dispersions_norm'\n",
       "    uns: 'HistologicalAnnotation_colors', 'KMeans_k1843_centroids', 'KMeans_k3072_centroids', 'KMeans_k4608_centroids', 'KMeans_k9216_centroids', 'celltypist_coarse2midmod_colors', 'celltypist_coarse_colors', 'celltypist_coarse_fin_colors', 'celltypist_mid_fin_colors', 'celltypist_midmod2fine_colors', 'cluster_cellcharter_k-10_colors', 'cluster_cellcharter_k-12_colors', 'cluster_cellcharter_k-14_colors', 'cluster_cellcharter_k-16_colors', 'cluster_cellcharter_k-18_colors', 'cluster_cellcharter_k-20_colors', 'cluster_cellcharter_k-25_colors', 'cluster_cellcharter_k-30_colors', 'cluster_cellcharter_k-35_colors', 'cluster_cellcharter_k-40_colors', 'cluster_cellcharter_k-45_colors', 'cluster_cellcharter_k-50_colors', 'cluster_cellcharter_k-8_colors', 'conf_score_cellcharter-cluster-k50_colors', 'conf_score_sliding_window_assignment_colors', 'fine_grain_4Jan2025_colors', 'hvg', 'log1p', 'neighbors', 'pca', 'predicted_labels_cellcharter-cluster-k50_colors', 'predicted_labels_colors', 'predicted_labels_sliding_window_assignment_colors', 'predicted_labels_spatial_KMeans_k1843_colors', 'predicted_labels_spatial_KMeans_k3072_colors', 'predicted_labels_spatial_KMeans_k4608_colors', 'predicted_labels_spatial_KMeans_k9216_colors', 'sliding_window_assignment_colors', 'spatial', 'spatial_leiden_0.5', 'spatial_leiden_1', 'spatial_leiden_10', 'spatial_leiden_100', 'spatial_leiden_1000', 'spatial_leiden_1_colors', 'spatial_leiden_2', 'spatial_leiden_5', 'spatial_leiden_5_colors', 'spatial_neighbors', 'tt_prediction_colors', 'umap'\n",
       "    obsm: 'X_cellcharter', 'X_pca', 'X_umap', 'spatial', 'spatial_cropped_150_buffer'\n",
       "    varm: 'PCs'\n",
       "    obsp: 'connectivities', 'distances', 'spatial_connectivities', 'spatial_distances'"
      ]
     },
     "execution_count": 11,
     "metadata": {},
     "output_type": "execute_result"
    }
   ],
   "source": [
    "# read in \n",
    "adata = sc.read_h5ad(f'/lustre/scratch126/cellgen/team205/kk18/VisiumHD/objects/{sample_id}_b2c_cells_filtered_celltype-selected_lognorm.h5ad')\n",
    "# rename sinus-horn cells\n",
    "adata.obs.replace({celltype_col:\n",
    "                   {'SinoatrialNodePacemakerCellsHorn':'SinusHornPacemakerCells'}},\n",
    "                  inplace=True\n",
    "                 )\n",
    "adata"
   ]
  },
  {
   "cell_type": "code",
   "execution_count": 12,
   "id": "8a70d162-a745-400e-8e8d-1d2fadfc88ad",
   "metadata": {
    "tags": []
   },
   "outputs": [
    {
     "data": {
      "text/plain": [
       "array([1.27187559, 1.95641568, 1.75023687, 1.96760567, 2.7810601 ])"
      ]
     },
     "execution_count": 12,
     "metadata": {},
     "output_type": "execute_result"
    }
   ],
   "source": [
    "adata.X.data[:5]"
   ]
  },
  {
   "cell_type": "code",
   "execution_count": 13,
   "id": "22a8e7d3-531b-429e-affb-f0684f626811",
   "metadata": {
    "tags": []
   },
   "outputs": [],
   "source": [
    "# update cell type name\n",
    "df = pd.read_csv('/nfs/team205/heart/anndata_objects/Foetal/finegrain_name_mapping.csv')\n",
    "celltype_mapping = df.set_index('Full_name')['Short_name_finalised'].to_dict()\n",
    "adata.obs.replace({celltype_col:celltype_mapping},inplace=True)"
   ]
  },
  {
   "cell_type": "markdown",
   "id": "1853276d-58da-4ba5-b135-fc9077581b91",
   "metadata": {},
   "source": [
    "## Subset cellular niche of interest"
   ]
  },
  {
   "cell_type": "code",
   "execution_count": 14,
   "id": "f4b6da34-5ac1-43ac-9313-996df57f7e34",
   "metadata": {
    "tags": []
   },
   "outputs": [
    {
     "data": {
      "text/plain": [
       "View of AnnData object with n_obs × n_vars = 1313 × 18047\n",
       "    obs: 'object_id', 'bin_count', 'array_row', 'array_col', 'labels_joint_source', 'n_genes_by_counts', 'log1p_n_genes_by_counts', 'total_counts', 'log1p_total_counts', 'pct_counts_in_top_50_genes', 'pct_counts_in_top_100_genes', 'pct_counts_in_top_200_genes', 'pct_counts_in_top_500_genes', 'total_counts_mt', 'log1p_total_counts_mt', 'pct_counts_mt', 'celltypist_coarse', 'conf_score_coarse', 'celltypist_coarse_fin', 'celltypist_coarse2midmod', 'conf_score_coarse2midmod', 'celltypist_mid_fin', 'celltypist_midmod2fine', 'conf_score_midmod2fine', 'fine_grain_4Jan2025', 'HistologicalAnnotation', 'cluster_cellcharter_k-8', 'cluster_cellcharter_k-10', 'cluster_cellcharter_k-12', 'cluster_cellcharter_k-14', 'cluster_cellcharter_k-16', 'cluster_cellcharter_k-18', 'cluster_cellcharter_k-20', 'cluster_cellcharter_k-25', 'cluster_cellcharter_k-30', 'cluster_cellcharter_k-35', 'cluster_cellcharter_k-40', 'cluster_cellcharter_k-45', 'cluster_cellcharter_k-50', 'predicted_labels', 'conf_score', 'predicted_labels_cellcharter-cluster-k50', 'conf_score_cellcharter-cluster-k50', 'spatial_leiden_1', 'spatial_leiden_5', 'spatial_leiden_0.5', 'spatial_leiden_2', 'spatial_leiden_10', 'spatial_leiden_100', 'spatial_leiden_1000', 'KMeans_k9216_cluster', 'predicted_labels_spatial_KMeans_k9216', 'conf_score_spatial_KMeans_k9216', 'KMeans_k4608_cluster', 'predicted_labels_spatial_KMeans_k4608', 'conf_score_spatial_KMeans_k4608', 'KMeans_k3072_cluster', 'KMeans_k1843_cluster', 'predicted_labels_spatial_KMeans_k3072', 'conf_score_spatial_KMeans_k3072', 'predicted_labels_spatial_KMeans_k1843', 'conf_score_spatial_KMeans_k1843', 'sliding_window_assignment', 'predicted_labels_sliding_window_assignment', 'conf_score_sliding_window_assignment', 'tt_prediction'\n",
       "    var: 'gene_ids', 'feature_types', 'genome', 'n_cells', 'mt', 'n_cells_by_counts', 'mean_counts', 'log1p_mean_counts', 'pct_dropout_by_counts', 'total_counts', 'log1p_total_counts', 'highly_variable', 'means', 'dispersions', 'dispersions_norm'\n",
       "    uns: 'HistologicalAnnotation_colors', 'KMeans_k1843_centroids', 'KMeans_k3072_centroids', 'KMeans_k4608_centroids', 'KMeans_k9216_centroids', 'celltypist_coarse2midmod_colors', 'celltypist_coarse_colors', 'celltypist_coarse_fin_colors', 'celltypist_mid_fin_colors', 'celltypist_midmod2fine_colors', 'cluster_cellcharter_k-10_colors', 'cluster_cellcharter_k-12_colors', 'cluster_cellcharter_k-14_colors', 'cluster_cellcharter_k-16_colors', 'cluster_cellcharter_k-18_colors', 'cluster_cellcharter_k-20_colors', 'cluster_cellcharter_k-25_colors', 'cluster_cellcharter_k-30_colors', 'cluster_cellcharter_k-35_colors', 'cluster_cellcharter_k-40_colors', 'cluster_cellcharter_k-45_colors', 'cluster_cellcharter_k-50_colors', 'cluster_cellcharter_k-8_colors', 'conf_score_cellcharter-cluster-k50_colors', 'conf_score_sliding_window_assignment_colors', 'fine_grain_4Jan2025_colors', 'hvg', 'log1p', 'neighbors', 'pca', 'predicted_labels_cellcharter-cluster-k50_colors', 'predicted_labels_colors', 'predicted_labels_spatial_KMeans_k1843_colors', 'predicted_labels_spatial_KMeans_k3072_colors', 'predicted_labels_spatial_KMeans_k4608_colors', 'predicted_labels_spatial_KMeans_k9216_colors', 'spatial', 'spatial_leiden_0.5', 'spatial_leiden_1', 'spatial_leiden_10', 'spatial_leiden_100', 'spatial_leiden_1000', 'spatial_leiden_1_colors', 'spatial_leiden_2', 'spatial_leiden_5', 'spatial_leiden_5_colors', 'spatial_neighbors', 'tt_prediction_colors', 'umap'\n",
       "    obsm: 'X_cellcharter', 'X_pca', 'X_umap', 'spatial', 'spatial_cropped_150_buffer'\n",
       "    varm: 'PCs'\n",
       "    obsp: 'connectivities', 'distances', 'spatial_connectivities', 'spatial_distances'"
      ]
     },
     "execution_count": 14,
     "metadata": {},
     "output_type": "execute_result"
    }
   ],
   "source": [
    "adata_sub = adata[adata.obs[niche_label_col]==niche_of_interest]\n",
    "adata_sub"
   ]
  },
  {
   "cell_type": "code",
   "execution_count": 15,
   "id": "54d6dc86-f40f-495e-8d82-afec368956ba",
   "metadata": {
    "tags": []
   },
   "outputs": [
    {
     "data": {
      "text/html": [
       "<div>\n",
       "<style scoped>\n",
       "    .dataframe tbody tr th:only-of-type {\n",
       "        vertical-align: middle;\n",
       "    }\n",
       "\n",
       "    .dataframe tbody tr th {\n",
       "        vertical-align: top;\n",
       "    }\n",
       "\n",
       "    .dataframe thead th {\n",
       "        text-align: right;\n",
       "    }\n",
       "</style>\n",
       "<table border=\"1\" class=\"dataframe\">\n",
       "  <thead>\n",
       "    <tr style=\"text-align: right;\">\n",
       "      <th></th>\n",
       "      <th>counts</th>\n",
       "      <th>freqs</th>\n",
       "    </tr>\n",
       "    <tr>\n",
       "      <th>categories</th>\n",
       "      <th></th>\n",
       "      <th></th>\n",
       "    </tr>\n",
       "  </thead>\n",
       "  <tbody>\n",
       "    <tr>\n",
       "      <th>aCMR</th>\n",
       "      <td>21</td>\n",
       "      <td>0.016292</td>\n",
       "    </tr>\n",
       "    <tr>\n",
       "      <th>AVNPC</th>\n",
       "      <td>36</td>\n",
       "      <td>0.027929</td>\n",
       "    </tr>\n",
       "    <tr>\n",
       "      <th>CorCapEC</th>\n",
       "      <td>19</td>\n",
       "      <td>0.014740</td>\n",
       "    </tr>\n",
       "    <tr>\n",
       "      <th>CorPeri</th>\n",
       "      <td>26</td>\n",
       "      <td>0.020171</td>\n",
       "    </tr>\n",
       "    <tr>\n",
       "      <th>FB</th>\n",
       "      <td>61</td>\n",
       "      <td>0.047324</td>\n",
       "    </tr>\n",
       "    <tr>\n",
       "      <th>GVVenEC</th>\n",
       "      <td>28</td>\n",
       "      <td>0.021722</td>\n",
       "    </tr>\n",
       "    <tr>\n",
       "      <th>MacCX3</th>\n",
       "      <td>18</td>\n",
       "      <td>0.013964</td>\n",
       "    </tr>\n",
       "    <tr>\n",
       "      <th>ParaN</th>\n",
       "      <td>23</td>\n",
       "      <td>0.017843</td>\n",
       "    </tr>\n",
       "    <tr>\n",
       "      <th>SANPCHd</th>\n",
       "      <td>631</td>\n",
       "      <td>0.489527</td>\n",
       "    </tr>\n",
       "    <tr>\n",
       "      <th>SHPC</th>\n",
       "      <td>222</td>\n",
       "      <td>0.172227</td>\n",
       "    </tr>\n",
       "    <tr>\n",
       "      <th>SANPCTl</th>\n",
       "      <td>204</td>\n",
       "      <td>0.158262</td>\n",
       "    </tr>\n",
       "  </tbody>\n",
       "</table>\n",
       "</div>"
      ],
      "text/plain": [
       "            counts     freqs\n",
       "categories                  \n",
       "aCMR            21  0.016292\n",
       "AVNPC           36  0.027929\n",
       "CorCapEC        19  0.014740\n",
       "CorPeri         26  0.020171\n",
       "FB              61  0.047324\n",
       "GVVenEC         28  0.021722\n",
       "MacCX3          18  0.013964\n",
       "ParaN           23  0.017843\n",
       "SANPCHd        631  0.489527\n",
       "SHPC           222  0.172227\n",
       "SANPCTl        204  0.158262"
      ]
     },
     "execution_count": 15,
     "metadata": {},
     "output_type": "execute_result"
    }
   ],
   "source": [
    "# filter cell types\n",
    "n_cell_thresh = 10\n",
    "val_counts = adata_sub.obs[celltype_col].value_counts()\n",
    "celltype_sel = list(val_counts.index[val_counts>n_cell_thresh])\n",
    "adata_sub = adata_sub[adata_sub.obs[celltype_col].isin(celltype_sel)]\n",
    "adata_sub.obs[celltype_col].values.describe()"
   ]
  },
  {
   "cell_type": "code",
   "execution_count": null,
   "id": "designing-ivory",
   "metadata": {},
   "outputs": [],
   "source": []
  },
  {
   "cell_type": "markdown",
   "id": "quick-couple",
   "metadata": {},
   "source": [
    "## Save"
   ]
  },
  {
   "cell_type": "code",
   "execution_count": 16,
   "id": "authorized-priority",
   "metadata": {
    "tags": []
   },
   "outputs": [],
   "source": [
    "meta = adata_sub.obs.copy()\n",
    "meta['cell_id'] = meta.index\n",
    "meta = meta[['cell_id', celltype_col]]\n",
    "meta.to_csv(f'{cellphone_input_dir}/meta_{niche_of_interest}.txt', index=False, sep = \"\\t\")\n",
    "\n",
    "adata_sub.write(f'{cellphone_input_dir}/log_norm_counts_{niche_of_interest}.h5ad')"
   ]
  },
  {
   "cell_type": "code",
   "execution_count": 17,
   "id": "underlying-peter",
   "metadata": {
    "tags": []
   },
   "outputs": [
    {
     "data": {
      "text/plain": [
       "'/lustre/scratch126/cellgen/team205/kk18/VisiumHD/objects/cellphonedb/HEA_FOET14880396/inputs/meta_SAnode.txt'"
      ]
     },
     "execution_count": 17,
     "metadata": {},
     "output_type": "execute_result"
    }
   ],
   "source": [
    "f'{cellphone_input_dir}/meta_{niche_of_interest}.txt'"
   ]
  },
  {
   "cell_type": "code",
   "execution_count": 18,
   "id": "quick-supervisor",
   "metadata": {
    "tags": []
   },
   "outputs": [
    {
     "data": {
      "text/plain": [
       "'/lustre/scratch126/cellgen/team205/kk18/VisiumHD/objects/cellphonedb/HEA_FOET14880396/inputs/log_norm_counts_SAnode.h5ad'"
      ]
     },
     "execution_count": 18,
     "metadata": {},
     "output_type": "execute_result"
    }
   ],
   "source": [
    "f'{cellphone_input_dir}/log_norm_counts_{niche_of_interest}.h5ad'"
   ]
  },
  {
   "cell_type": "code",
   "execution_count": null,
   "id": "optional-powder",
   "metadata": {
    "tags": []
   },
   "outputs": [],
   "source": [
    "!ls -lh {cellphone_input_dir}"
   ]
  },
  {
   "cell_type": "code",
   "execution_count": null,
   "id": "laughing-center",
   "metadata": {},
   "outputs": [],
   "source": []
  },
  {
   "cell_type": "code",
   "execution_count": null,
   "id": "aboriginal-refund",
   "metadata": {},
   "outputs": [],
   "source": []
  }
 ],
 "metadata": {
  "kernelspec": {
   "display_name": "cpdb",
   "language": "python",
   "name": "cpdb"
  },
  "language_info": {
   "codemirror_mode": {
    "name": "ipython",
    "version": 3
   },
   "file_extension": ".py",
   "mimetype": "text/x-python",
   "name": "python",
   "nbconvert_exporter": "python",
   "pygments_lexer": "ipython3",
   "version": "3.8.20"
  }
 },
 "nbformat": 4,
 "nbformat_minor": 5
}
