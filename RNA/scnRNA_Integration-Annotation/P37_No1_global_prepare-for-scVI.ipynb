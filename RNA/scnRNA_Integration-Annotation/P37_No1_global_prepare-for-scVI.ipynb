{
 "cells": [
  {
   "cell_type": "markdown",
   "id": "fiscal-arbor",
   "metadata": {},
   "source": [
    "## Import modules"
   ]
  },
  {
   "cell_type": "code",
   "execution_count": 1,
   "id": "removed-mentor",
   "metadata": {},
   "outputs": [],
   "source": [
    "import numpy as np\n",
    "import numpy.random as random\n",
    "import pandas as pd\n",
    "import scanpy as sc\n",
    "import seaborn as sns"
   ]
  },
  {
   "cell_type": "code",
   "execution_count": 2,
   "id": "collaborative-butter",
   "metadata": {},
   "outputs": [
    {
     "data": {
      "text/html": [
       "<details>\n",
       "<summary>Click to view session information</summary>\n",
       "<pre>\n",
       "-----\n",
       "numpy               1.20.1\n",
       "pandas              1.1.4\n",
       "scanpy              1.7.1\n",
       "seaborn             0.11.1\n",
       "session_info        1.0.0\n",
       "-----\n",
       "</pre>\n",
       "<details>\n",
       "<summary>Click to view modules imported as dependencies</summary>\n",
       "<pre>\n",
       "PIL                 8.1.2\n",
       "anndata             0.7.5\n",
       "anyio               NA\n",
       "attr                20.3.0\n",
       "babel               2.9.0\n",
       "backcall            0.2.0\n",
       "brotli              NA\n",
       "cairo               1.20.0\n",
       "certifi             2020.12.05\n",
       "cffi                1.14.5\n",
       "chardet             4.0.0\n",
       "cloudpickle         1.6.0\n",
       "colorama            0.4.4\n",
       "cycler              0.10.0\n",
       "cython_runtime      NA\n",
       "cytoolz             0.11.0\n",
       "dask                2021.03.1\n",
       "dateutil            2.8.1\n",
       "decorator           4.4.2\n",
       "fsspec              0.8.7\n",
       "get_version         2.1\n",
       "google              NA\n",
       "h5py                2.10.0\n",
       "idna                2.10\n",
       "igraph              0.8.3\n",
       "ipykernel           5.5.0\n",
       "ipython_genutils    0.2.0\n",
       "ipywidgets          7.6.3\n",
       "jedi                0.18.0\n",
       "jinja2              2.11.3\n",
       "joblib              1.0.1\n",
       "json5               NA\n",
       "jsonschema          3.2.0\n",
       "jupyter_server      1.4.1\n",
       "jupyterlab_server   2.3.0\n",
       "kiwisolver          1.3.1\n",
       "legacy_api_wrap     0.0.0\n",
       "leidenalg           0.8.3\n",
       "llvmlite            0.34.0\n",
       "louvain             0.7.0\n",
       "markupsafe          1.1.1\n",
       "matplotlib          3.3.4\n",
       "mpl_toolkits        NA\n",
       "natsort             7.1.1\n",
       "nbclassic           NA\n",
       "nbformat            5.1.2\n",
       "numba               0.51.2\n",
       "numexpr             2.7.3\n",
       "packaging           20.9\n",
       "parso               0.8.1\n",
       "pexpect             4.8.0\n",
       "pickleshare         0.7.5\n",
       "pkg_resources       NA\n",
       "prometheus_client   NA\n",
       "prompt_toolkit      3.0.16\n",
       "psutil              5.8.0\n",
       "ptyprocess          0.7.0\n",
       "pvectorc            NA\n",
       "pyarrow             0.16.0\n",
       "pygments            2.8.0\n",
       "pyparsing           2.4.7\n",
       "pyrsistent          NA\n",
       "pytoml              NA\n",
       "pytz                2021.1\n",
       "requests            2.25.1\n",
       "ruamel              NA\n",
       "scipy               1.6.1\n",
       "send2trash          NA\n",
       "setuptools_scm      NA\n",
       "simplejson          3.17.2\n",
       "sinfo               0.3.1\n",
       "six                 1.15.0\n",
       "sklearn             0.22\n",
       "sniffio             1.2.0\n",
       "socks               1.7.1\n",
       "sphinxcontrib       NA\n",
       "statsmodels         0.12.2\n",
       "storemagic          NA\n",
       "tables              3.6.1\n",
       "tblib               1.7.0\n",
       "texttable           1.6.3\n",
       "tlz                 0.11.0\n",
       "toolz               0.11.1\n",
       "tornado             6.1\n",
       "traitlets           5.0.5\n",
       "typing_extensions   NA\n",
       "uritemplate         3.0.1\n",
       "urllib3             1.26.3\n",
       "wcwidth             0.2.5\n",
       "yaml                5.1.2\n",
       "zmq                 22.0.3\n",
       "</pre>\n",
       "</details> <!-- seems like this ends pre, so might as well be explicit -->\n",
       "<pre>\n",
       "-----\n",
       "IPython             7.21.0\n",
       "jupyter_client      6.1.11\n",
       "jupyter_core        4.7.1\n",
       "jupyterlab          3.0.9\n",
       "notebook            6.2.0\n",
       "-----\n",
       "Python 3.8.8 | packaged by conda-forge | (default, Feb 20 2021, 16:22:27) [GCC 9.3.0]\n",
       "Linux-4.15.0-112-generic-x86_64-with-glibc2.10\n",
       "-----\n",
       "Session information updated at 2023-02-08 22:51\n",
       "</pre>\n",
       "</details>"
      ],
      "text/plain": [
       "<IPython.core.display.HTML object>"
      ]
     },
     "execution_count": 2,
     "metadata": {},
     "output_type": "execute_result"
    }
   ],
   "source": [
    "import session_info\n",
    "session_info.show()"
   ]
  },
  {
   "cell_type": "code",
   "execution_count": 3,
   "id": "engaged-medicine",
   "metadata": {},
   "outputs": [],
   "source": [
    "sc.settings.verbosity = 3             # verbosity: errors (0), warnings (1), info (2), hints (3)\n",
    "sc.settings.set_figure_params(dpi=80, facecolor='white', color_map = 'RdPu',)"
   ]
  },
  {
   "cell_type": "markdown",
   "id": "informed-frank",
   "metadata": {},
   "source": [
    "## Read in data"
   ]
  },
  {
   "cell_type": "code",
   "execution_count": 4,
   "id": "extended-charity",
   "metadata": {},
   "outputs": [
    {
     "data": {
      "text/plain": [
       "AnnData object with n_obs × n_vars = 100463 × 36601\n",
       "    obs: 'latent_RT_efficiency', 'latent_cell_probability', 'latent_scale', 'sangerID', 'combinedID', 'donor', 'donor_type', 'region', 'region_finest', 'age', 'gender', 'facility', 'cell_or_nuclei', 'modality', 'kit_10x', 'flushed', 'scrublet_score', 'scrublet_leiden', 'cluster_scrublet_score', 'doublet_pval', 'doublet_bh_pval', 'n_genes', 'n_counts', 'n_genes_by_counts', 'log1p_n_genes_by_counts', 'total_counts', 'log1p_total_counts', 'total_counts_mt', 'log1p_total_counts_mt', 'pct_counts_mt', 'total_counts_ribo', 'log1p_total_counts_ribo', 'pct_counts_ribo', 'HB_score', 'donor_by_library-prep', 'multiplexed'\n",
       "    var: 'gene_name_scRNA'\n",
       "    uns: 'sangerID_colors'\n",
       "    obsm: 'latent_gene_encoding'"
      ]
     },
     "execution_count": 4,
     "metadata": {},
     "output_type": "execute_result"
    }
   ],
   "source": [
    "cell = sc.read_h5ad('/nfs/team205/heart/anndata_objects/Foetal/QC/scRNA_foetal.h5ad')\n",
    "\n",
    "# tidy up .var\n",
    "cell.var=cell.var[['gene_name']]\n",
    "cell.var.rename(columns={'gene_name':'gene_name_scRNA'},inplace=True)\n",
    "\n",
    "# add some columns\n",
    "cell.obs['donor_by_library-prep'] = cell.obs['donor'].copy()\n",
    "cell.obs['multiplexed'] = 'No'\n",
    "\n",
    "cell"
   ]
  },
  {
   "cell_type": "code",
   "execution_count": 5,
   "id": "union-finder",
   "metadata": {},
   "outputs": [
    {
     "data": {
      "text/plain": [
       "AnnData object with n_obs × n_vars = 272338 × 36601\n",
       "    obs: 'latent_RT_efficiency', 'latent_cell_probability', 'latent_scale', 'sangerID', 'combinedID', 'donor', 'donor_type', 'region', 'region_finest', 'age', 'gender', 'facility', 'cell_or_nuclei', 'modality', 'kit_10x', 'flushed', 'scrublet_score', 'scrublet_leiden', 'cluster_scrublet_score', 'doublet_pval', 'doublet_bh_pval', 'n_genes', 'n_counts', 'n_genes_by_counts', 'log1p_n_genes_by_counts', 'total_counts', 'log1p_total_counts', 'total_counts_mt', 'log1p_total_counts_mt', 'pct_counts_mt', 'total_counts_ribo', 'log1p_total_counts_ribo', 'pct_counts_ribo', 'HB_score', 'donor_by_library-prep', 'multiplexed', 'SOC | status', 'SOC | log_prob_singleton', 'SOC | log_prob_doublet'\n",
       "    var: 'gene_name_multiome'\n",
       "    uns: 'sangerID_colors'\n",
       "    obsm: 'latent_gene_encoding'"
      ]
     },
     "execution_count": 5,
     "metadata": {},
     "output_type": "execute_result"
    }
   ],
   "source": [
    "multi = sc.read_h5ad('/nfs/team205/heart/anndata_objects/Foetal/QC/multiome_RNA_foetal.h5ad')\n",
    "\n",
    "# tidy up .var\n",
    "multi.var=multi.var[['gene_name']]\n",
    "multi.var.rename(columns={'gene_name':'gene_name_multiome'},inplace=True)\n",
    "\n",
    "multi"
   ]
  },
  {
   "cell_type": "markdown",
   "id": "ranking-student",
   "metadata": {},
   "source": [
    "## Concatenate data"
   ]
  },
  {
   "cell_type": "code",
   "execution_count": 6,
   "id": "automotive-driver",
   "metadata": {},
   "outputs": [
    {
     "data": {
      "text/plain": [
       "AnnData object with n_obs × n_vars = 372801 × 36601\n",
       "    obs: 'latent_RT_efficiency', 'latent_cell_probability', 'latent_scale', 'sangerID', 'combinedID', 'donor', 'donor_type', 'region', 'region_finest', 'age', 'gender', 'facility', 'cell_or_nuclei', 'modality', 'kit_10x', 'flushed', 'scrublet_score', 'scrublet_leiden', 'cluster_scrublet_score', 'doublet_pval', 'doublet_bh_pval', 'n_genes', 'n_counts', 'n_genes_by_counts', 'log1p_n_genes_by_counts', 'total_counts', 'log1p_total_counts', 'total_counts_mt', 'log1p_total_counts_mt', 'pct_counts_mt', 'total_counts_ribo', 'log1p_total_counts_ribo', 'pct_counts_ribo', 'HB_score', 'donor_by_library-prep', 'multiplexed', 'SOC | status', 'SOC | log_prob_singleton', 'SOC | log_prob_doublet'\n",
       "    var: 'gene_name_scRNA-0', 'gene_name_multiome-1'\n",
       "    obsm: 'latent_gene_encoding'"
      ]
     },
     "execution_count": 6,
     "metadata": {},
     "output_type": "execute_result"
    }
   ],
   "source": [
    "adata = cell.concatenate(multi, join='inner', batch_key=None, index_unique=None)\n",
    "adata"
   ]
  },
  {
   "cell_type": "code",
   "execution_count": 7,
   "id": "atomic-favorite",
   "metadata": {},
   "outputs": [
    {
     "data": {
      "text/plain": [
       "Hst41      129909\n",
       "Hst33       62684\n",
       "Hst39       30591\n",
       "C99         17921\n",
       "C97         17388\n",
       "C92         15379\n",
       "C94         13971\n",
       "Hst40       11559\n",
       "BRC2251      9651\n",
       "BRC2256      8525\n",
       "BRC2260      8408\n",
       "Hst36        7848\n",
       "BRC2252      7366\n",
       "C86          6567\n",
       "BRC2263      5917\n",
       "BRC2262      4749\n",
       "C87          4499\n",
       "C104         3411\n",
       "C98          3039\n",
       "C85          2808\n",
       "C82           611\n",
       "Name: donor, dtype: int64"
      ]
     },
     "execution_count": 7,
     "metadata": {},
     "output_type": "execute_result"
    }
   ],
   "source": [
    "adata.obs['donor'].value_counts()"
   ]
  },
  {
   "cell_type": "code",
   "execution_count": 8,
   "id": "recorded-loading",
   "metadata": {},
   "outputs": [
    {
     "data": {
      "text/html": [
       "<div>\n",
       "<style scoped>\n",
       "    .dataframe tbody tr th:only-of-type {\n",
       "        vertical-align: middle;\n",
       "    }\n",
       "\n",
       "    .dataframe tbody tr th {\n",
       "        vertical-align: top;\n",
       "    }\n",
       "\n",
       "    .dataframe thead th {\n",
       "        text-align: right;\n",
       "    }\n",
       "</style>\n",
       "<table border=\"1\" class=\"dataframe\">\n",
       "  <thead>\n",
       "    <tr style=\"text-align: right;\">\n",
       "      <th>kit_10x</th>\n",
       "      <th>3prime-v3</th>\n",
       "      <th>5prime-v2</th>\n",
       "      <th>Multiome-v1</th>\n",
       "    </tr>\n",
       "    <tr>\n",
       "      <th>facility</th>\n",
       "      <th></th>\n",
       "      <th></th>\n",
       "      <th></th>\n",
       "    </tr>\n",
       "  </thead>\n",
       "  <tbody>\n",
       "    <tr>\n",
       "      <th>CSCI</th>\n",
       "      <td>44616</td>\n",
       "      <td>0</td>\n",
       "      <td>0</td>\n",
       "    </tr>\n",
       "    <tr>\n",
       "      <th>Sanger</th>\n",
       "      <td>0</td>\n",
       "      <td>55847</td>\n",
       "      <td>272338</td>\n",
       "    </tr>\n",
       "  </tbody>\n",
       "</table>\n",
       "</div>"
      ],
      "text/plain": [
       "kit_10x   3prime-v3  5prime-v2  Multiome-v1\n",
       "facility                                   \n",
       "CSCI          44616          0            0\n",
       "Sanger            0      55847       272338"
      ]
     },
     "execution_count": 8,
     "metadata": {},
     "output_type": "execute_result"
    }
   ],
   "source": [
    "pd.crosstab(adata.obs['facility'],adata.obs['kit_10x'])"
   ]
  },
  {
   "cell_type": "code",
   "execution_count": 9,
   "id": "middle-pulse",
   "metadata": {},
   "outputs": [
    {
     "name": "stderr",
     "output_type": "stream",
     "text": [
      "... storing 'sangerID' as categorical\n",
      "... storing 'combinedID' as categorical\n",
      "... storing 'donor' as categorical\n",
      "... storing 'region' as categorical\n",
      "... storing 'region_finest' as categorical\n",
      "... storing 'age' as categorical\n",
      "... storing 'gender' as categorical\n",
      "... storing 'facility' as categorical\n",
      "... storing 'cell_or_nuclei' as categorical\n",
      "... storing 'modality' as categorical\n",
      "... storing 'kit_10x' as categorical\n",
      "... storing 'scrublet_leiden' as categorical\n",
      "... storing 'donor_by_library-prep' as categorical\n",
      "... storing 'multiplexed' as categorical\n",
      "... storing 'SOC | status' as categorical\n"
     ]
    }
   ],
   "source": [
    "# save\n",
    "adata.write('/nfs/team205/heart/anndata_objects/Foetal/RNA_foetal_raw.h5ad')"
   ]
  },
  {
   "cell_type": "code",
   "execution_count": 10,
   "id": "vulnerable-sandwich",
   "metadata": {},
   "outputs": [
    {
     "data": {
      "text/plain": [
       "array([ 1.,  1.,  5.,  5.,  8.,  4., 13.,  4.,  3.,  1.], dtype=float32)"
      ]
     },
     "execution_count": 10,
     "metadata": {},
     "output_type": "execute_result"
    }
   ],
   "source": [
    "adata.X.data[:10]"
   ]
  },
  {
   "cell_type": "code",
   "execution_count": null,
   "id": "original-conditions",
   "metadata": {},
   "outputs": [],
   "source": []
  },
  {
   "cell_type": "markdown",
   "id": "driving-transcript",
   "metadata": {},
   "source": [
    "## Pre-process"
   ]
  },
  {
   "cell_type": "code",
   "execution_count": 11,
   "id": "posted-forward",
   "metadata": {},
   "outputs": [
    {
     "name": "stderr",
     "output_type": "stream",
     "text": [
      "filtered out 1675 genes that are detected in less than 3 cells\n",
      "normalizing counts per cell\n",
      "    finished (0:00:03)\n"
     ]
    },
    {
     "data": {
      "text/plain": [
       "(372801, 34926)"
      ]
     },
     "execution_count": 11,
     "metadata": {},
     "output_type": "execute_result"
    }
   ],
   "source": [
    "# preserve raw count\n",
    "adata.layers[\"counts\"] = adata.X.copy()\n",
    "\n",
    "# filter genes\n",
    "sc.pp.filter_genes(adata, min_cells=3)\n",
    "\n",
    "# normalise and log-transform\n",
    "sc.pp.normalize_total(adata, target_sum=1e4)\n",
    "sc.pp.log1p(adata)\n",
    "\n",
    "adata.shape"
   ]
  },
  {
   "cell_type": "code",
   "execution_count": null,
   "id": "prime-airline",
   "metadata": {},
   "outputs": [],
   "source": []
  },
  {
   "cell_type": "markdown",
   "id": "satisfactory-exclusive",
   "metadata": {},
   "source": [
    "## Set batch_key"
   ]
  },
  {
   "cell_type": "code",
   "execution_count": 12,
   "id": "liquid-cambridge",
   "metadata": {},
   "outputs": [
    {
     "data": {
      "text/plain": [
       "Hst41_Nuclei_Multiome-v1    129909\n",
       "Hst33_Nuclei_Multiome-v1     62684\n",
       "Hst39_Nuclei_Multiome-v1     30591\n",
       "C99_Cell_5prime-v2           17921\n",
       "C97_Cell_5prime-v2           17388\n",
       "C92_Nuclei_Multiome-v1       15379\n",
       "C94_Cell_5prime-v2           13971\n",
       "Hst40_Nuclei_Multiome-v1     11559\n",
       "BRC2251_Cell_3prime-v3        9651\n",
       "BRC2256_Cell_3prime-v3        8525\n",
       "BRC2260_Cell_3prime-v3        8408\n",
       "Hst36_Nuclei_Multiome-v1      7848\n",
       "BRC2252_Cell_3prime-v3        7366\n",
       "C86_Cell_5prime-v2            6567\n",
       "BRC2263_Cell_3prime-v3        5917\n",
       "BRC2262_Cell_3prime-v3        4749\n",
       "C87_Nuclei_Multiome-v1        4499\n",
       "C104_Nuclei_Multiome-v1       3411\n",
       "C98_Nuclei_Multiome-v1        3039\n",
       "C85_Nuclei_Multiome-v1        2808\n",
       "C82_Nuclei_Multiome-v1         611\n",
       "Name: batch_key, dtype: int64"
      ]
     },
     "execution_count": 12,
     "metadata": {},
     "output_type": "execute_result"
    }
   ],
   "source": [
    "# combining Donor, Cell_or_Nuclei, and Kit_10X\n",
    "adata.obs['batch_key']=adata.obs['donor'].astype('str')+'_'+adata.obs['cell_or_nuclei'].astype('str')+'_'+adata.obs['kit_10x'].astype('str')\n",
    "adata.obs['batch_key'].value_counts()"
   ]
  },
  {
   "cell_type": "code",
   "execution_count": null,
   "id": "reduced-skirt",
   "metadata": {},
   "outputs": [],
   "source": []
  },
  {
   "cell_type": "markdown",
   "id": "increasing-rebound",
   "metadata": {},
   "source": [
    "## hvg identification"
   ]
  },
  {
   "cell_type": "code",
   "execution_count": 13,
   "id": "municipal-communication",
   "metadata": {},
   "outputs": [
    {
     "name": "stderr",
     "output_type": "stream",
     "text": [
      "extracting highly variable genes\n",
      "... storing 'batch_key' as categorical\n",
      "    finished (0:00:49)\n",
      "--> added\n",
      "    'highly_variable', boolean vector (adata.var)\n",
      "    'means', float vector (adata.var)\n",
      "    'dispersions', float vector (adata.var)\n",
      "    'dispersions_norm', float vector (adata.var)\n"
     ]
    },
    {
     "name": "stdout",
     "output_type": "stream",
     "text": [
      "3343\n"
     ]
    },
    {
     "data": {
      "image/png": "[encoded data removed]",
      "text/plain": [
       "<Figure size 640x320 with 2 Axes>"
      ]
     },
     "metadata": {},
     "output_type": "display_data"
    }
   ],
   "source": [
    "sc.pp.highly_variable_genes(adata, min_mean=0.0125, max_mean=3, min_disp=0.5, batch_key='batch_key')\n",
    "\n",
    "print(sum(adata.var.highly_variable))\n",
    "sc.pl.highly_variable_genes(adata)"
   ]
  },
  {
   "cell_type": "code",
   "execution_count": 14,
   "id": "retained-occasions",
   "metadata": {},
   "outputs": [],
   "source": [
    "# freeze the state in `.raw`\n",
    "adata.raw = adata"
   ]
  },
  {
   "cell_type": "code",
   "execution_count": 15,
   "id": "respiratory-salmon",
   "metadata": {},
   "outputs": [],
   "source": [
    "# subset hvgs\n",
    "adata = adata[:, adata.var.highly_variable]"
   ]
  },
  {
   "cell_type": "code",
   "execution_count": null,
   "id": "median-provision",
   "metadata": {},
   "outputs": [],
   "source": []
  },
  {
   "cell_type": "markdown",
   "id": "verbal-playlist",
   "metadata": {},
   "source": [
    "## Save"
   ]
  },
  {
   "cell_type": "code",
   "execution_count": 16,
   "id": "aboriginal-tolerance",
   "metadata": {},
   "outputs": [
    {
     "data": {
      "text/plain": [
       "View of AnnData object with n_obs × n_vars = 372801 × 3343\n",
       "    obs: 'latent_RT_efficiency', 'latent_cell_probability', 'latent_scale', 'sangerID', 'combinedID', 'donor', 'donor_type', 'region', 'region_finest', 'age', 'gender', 'facility', 'cell_or_nuclei', 'modality', 'kit_10x', 'flushed', 'scrublet_score', 'scrublet_leiden', 'cluster_scrublet_score', 'doublet_pval', 'doublet_bh_pval', 'n_genes', 'n_counts', 'n_genes_by_counts', 'log1p_n_genes_by_counts', 'total_counts', 'log1p_total_counts', 'total_counts_mt', 'log1p_total_counts_mt', 'pct_counts_mt', 'total_counts_ribo', 'log1p_total_counts_ribo', 'pct_counts_ribo', 'HB_score', 'donor_by_library-prep', 'multiplexed', 'SOC | status', 'SOC | log_prob_singleton', 'SOC | log_prob_doublet', 'batch_key'\n",
       "    var: 'gene_name_scRNA-0', 'gene_name_multiome-1', 'n_cells', 'highly_variable', 'means', 'dispersions', 'dispersions_norm', 'highly_variable_nbatches', 'highly_variable_intersection'\n",
       "    uns: 'log1p', 'hvg'\n",
       "    obsm: 'latent_gene_encoding'\n",
       "    layers: 'counts'"
      ]
     },
     "execution_count": 16,
     "metadata": {},
     "output_type": "execute_result"
    }
   ],
   "source": [
    "adata.write('/nfs/team205/heart/anndata_objects/Foetal/scVI/RNA_foetal_pp.h5ad') # batch_key: Donor, Cell_or_Nuclei, and Kit_10X\n",
    "adata"
   ]
  },
  {
   "cell_type": "code",
   "execution_count": null,
   "id": "literary-understanding",
   "metadata": {},
   "outputs": [],
   "source": []
  }
 ],
 "metadata": {
  "accelerator": "GPU",
  "colab": {
   "name": "kk20-4_Foetal_scVI_Asp-Cao-Peng.ipynb",
   "provenance": []
  },
  "kernelspec": {
   "display_name": "teichlab",
   "language": "python",
   "name": "teichlab"
  },
  "language_info": {
   "codemirror_mode": {
    "name": "ipython",
    "version": 3
   },
   "file_extension": ".py",
   "mimetype": "text/x-python",
   "name": "python",
   "nbconvert_exporter": "python",
   "pygments_lexer": "ipython3",
   "version": "3.8.8"
  }
 },
 "nbformat": 4,
 "nbformat_minor": 5
}
