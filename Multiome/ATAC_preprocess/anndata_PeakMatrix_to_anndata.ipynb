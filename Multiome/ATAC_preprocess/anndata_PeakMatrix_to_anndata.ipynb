{
 "cells": [
  {
   "cell_type": "markdown",
   "id": "upset-earthquake",
   "metadata": {},
   "source": [
    "ref: is peak matrix extracted with getMatrixFromProject normalized? NO<br>\n",
    "https://github.com/GreenleafLab/ArchR/discussions/943"
   ]
  },
  {
   "cell_type": "code",
   "execution_count": 1,
   "id": "split-creek",
   "metadata": {},
   "outputs": [],
   "source": [
    "import scanpy as sc\n",
    "import pandas as pd\n",
    "import numpy as np\n",
    "import anndata\n",
    "\n",
    "from scipy.io import mmwrite, mmread\n",
    "from scipy.sparse import csr_matrix"
   ]
  },
  {
   "cell_type": "code",
   "execution_count": 2,
   "id": "emotional-mumbai",
   "metadata": {},
   "outputs": [
    {
     "name": "stdout",
     "output_type": "stream",
     "text": [
      "total 3673116\n",
      "-rw-r--r-- 1 20383 1000624    1492397 Mar 12 20:40 barcodes.tsv.gz\n",
      "-rw-r--r-- 1 20383 1000624    4082604 Mar 12 20:40 features.tsv.gz\n",
      "-rw-r--r-- 1 20383 1000624 3755691976 Mar 12 20:40 matrix.mtx.gz\n"
     ]
    }
   ],
   "source": [
    "!ls -l /nfs/team205/heart/anndata_objects/Foetal/multiome_ATAC/ArchR/project_output/PeakMatrix"
   ]
  },
  {
   "cell_type": "markdown",
   "id": "explicit-apartment",
   "metadata": {},
   "source": [
    "## Read in"
   ]
  },
  {
   "cell_type": "code",
   "execution_count": 3,
   "id": "raising-click",
   "metadata": {},
   "outputs": [],
   "source": [
    "peakmatrix_dir = '/nfs/team205/heart/anndata_objects/Foetal/multiome_ATAC/ArchR/project_output/PeakMatrix'"
   ]
  },
  {
   "cell_type": "code",
   "execution_count": 4,
   "id": "blessed-weight",
   "metadata": {},
   "outputs": [
    {
     "data": {
      "text/plain": [
       "<508040x167022 sparse matrix of type '<class 'numpy.int64'>'\n",
       "\twith 1173033588 stored elements in COOrdinate format>"
      ]
     },
     "execution_count": 4,
     "metadata": {},
     "output_type": "execute_result"
    }
   ],
   "source": [
    "# peak matrix, not-binarised\n",
    "mat = mmread(f'{peakmatrix_dir}/matrix.mtx.gz')\n",
    "mat"
   ]
  },
  {
   "cell_type": "code",
   "execution_count": 5,
   "id": "upper-mouth",
   "metadata": {},
   "outputs": [
    {
     "data": {
      "text/html": [
       "<div>\n",
       "<style scoped>\n",
       "    .dataframe tbody tr th:only-of-type {\n",
       "        vertical-align: middle;\n",
       "    }\n",
       "\n",
       "    .dataframe tbody tr th {\n",
       "        vertical-align: top;\n",
       "    }\n",
       "\n",
       "    .dataframe thead th {\n",
       "        text-align: right;\n",
       "    }\n",
       "</style>\n",
       "<table border=\"1\" class=\"dataframe\">\n",
       "  <thead>\n",
       "    <tr style=\"text-align: right;\">\n",
       "      <th></th>\n",
       "    </tr>\n",
       "    <tr>\n",
       "      <th>0</th>\n",
       "    </tr>\n",
       "  </thead>\n",
       "  <tbody>\n",
       "    <tr>\n",
       "      <th>chr1:817093_817593</th>\n",
       "    </tr>\n",
       "    <tr>\n",
       "      <th>chr1:819818_820318</th>\n",
       "    </tr>\n",
       "    <tr>\n",
       "      <th>chr1:820542_821042</th>\n",
       "    </tr>\n",
       "    <tr>\n",
       "      <th>chr1:825246_825746</th>\n",
       "    </tr>\n",
       "    <tr>\n",
       "      <th>chr1:826566_827066</th>\n",
       "    </tr>\n",
       "    <tr>\n",
       "      <th>...</th>\n",
       "    </tr>\n",
       "    <tr>\n",
       "      <th>chrX:155820072_155820572</th>\n",
       "    </tr>\n",
       "    <tr>\n",
       "      <th>chrX:155874490_155874990</th>\n",
       "    </tr>\n",
       "    <tr>\n",
       "      <th>chrX:155880548_155881048</th>\n",
       "    </tr>\n",
       "    <tr>\n",
       "      <th>chrX:155881064_155881564</th>\n",
       "    </tr>\n",
       "    <tr>\n",
       "      <th>chrX:155881618_155882118</th>\n",
       "    </tr>\n",
       "  </tbody>\n",
       "</table>\n",
       "<p>508040 rows × 0 columns</p>\n",
       "</div>"
      ],
      "text/plain": [
       "Empty DataFrame\n",
       "Columns: []\n",
       "Index: [chr1:817093_817593, chr1:819818_820318, chr1:820542_821042, chr1:825246_825746, chr1:826566_827066, chr1:827291_827791, chr1:828703_829203, chr1:830674_831174, chr1:831213_831713, chr1:832066_832566, chr1:832662_833162, chr1:835441_835941, chr1:844607_845107, chr1:850244_850744, chr1:858585_859085, chr1:864176_864676, chr1:865033_865533, chr1:865543_866043, chr1:866231_866731, chr1:869673_870173, chr1:886069_886569, chr1:896868_897368, chr1:903236_903736, chr1:903807_904307, chr1:904543_905043, chr1:905221_905721, chr1:906144_906644, chr1:906703_907203, chr1:907730_908230, chr1:908485_908985, chr1:909970_910470, chr1:910504_911004, chr1:911143_911643, chr1:911792_912292, chr1:912803_913303, chr1:913992_914492, chr1:915162_915662, chr1:915990_916490, chr1:916515_917015, chr1:917263_917763, chr1:918321_918821, chr1:918878_919378, chr1:919502_920002, chr1:920380_920880, chr1:920950_921450, chr1:921589_922089, chr1:922306_922806, chr1:922947_923447, chr1:923725_924225, chr1:924756_925256, chr1:925445_925945, chr1:926433_926933, chr1:927107_927607, chr1:928737_929237, chr1:929521_930021, chr1:930558_931058, chr1:931565_932065, chr1:932592_933092, chr1:933211_933711, chr1:935185_935685, chr1:935835_936335, chr1:936536_937036, chr1:937474_937974, chr1:938061_938561, chr1:938631_939131, chr1:939495_939995, chr1:940131_940631, chr1:941002_941502, chr1:941581_942081, chr1:942330_942830, chr1:943020_943520, chr1:943583_944083, chr1:944217_944717, chr1:944726_945226, chr1:945243_945743, chr1:946120_946620, chr1:946746_947246, chr1:947449_947949, chr1:948448_948948, chr1:949213_949713, chr1:951294_951794, chr1:953394_953894, chr1:955490_955990, chr1:957308_957808, chr1:958277_958777, chr1:959069_959569, chr1:959650_960150, chr1:960352_960852, chr1:961075_961575, chr1:961629_962129, chr1:962432_962932, chr1:964153_964653, chr1:965895_966395, chr1:966750_967250, chr1:967303_967803, chr1:968887_969387, chr1:970650_971150, chr1:972482_972982, chr1:973456_973956, chr1:974411_974911, ...]\n",
       "\n",
       "[508040 rows x 0 columns]"
      ]
     },
     "execution_count": 5,
     "metadata": {},
     "output_type": "execute_result"
    }
   ],
   "source": [
    "# peak names\n",
    "features = pd.read_csv(f'{peakmatrix_dir}/features.tsv.gz', header=None, sep='\\t')[[0]]\n",
    "features.set_index(0,inplace=True)\n",
    "features"
   ]
  },
  {
   "cell_type": "code",
   "execution_count": 6,
   "id": "naked-tucson",
   "metadata": {},
   "outputs": [
    {
     "data": {
      "text/html": [
       "<div>\n",
       "<style scoped>\n",
       "    .dataframe tbody tr th:only-of-type {\n",
       "        vertical-align: middle;\n",
       "    }\n",
       "\n",
       "    .dataframe tbody tr th {\n",
       "        vertical-align: top;\n",
       "    }\n",
       "\n",
       "    .dataframe thead th {\n",
       "        text-align: right;\n",
       "    }\n",
       "</style>\n",
       "<table border=\"1\" class=\"dataframe\">\n",
       "  <thead>\n",
       "    <tr style=\"text-align: right;\">\n",
       "      <th></th>\n",
       "    </tr>\n",
       "    <tr>\n",
       "      <th>1</th>\n",
       "    </tr>\n",
       "  </thead>\n",
       "  <tbody>\n",
       "    <tr>\n",
       "      <th>7089STDY13216921_BHF_F_Hea13242528#GCAATAGAGTTATGTG-1</th>\n",
       "    </tr>\n",
       "    <tr>\n",
       "      <th>7089STDY13216921_BHF_F_Hea13242528#TGGGCCTAGATGGACA-1</th>\n",
       "    </tr>\n",
       "    <tr>\n",
       "      <th>7089STDY13216921_BHF_F_Hea13242528#TCCAGGTCACAAACTT-1</th>\n",
       "    </tr>\n",
       "    <tr>\n",
       "      <th>7089STDY13216921_BHF_F_Hea13242528#GGTCAATTCATTAGCA-1</th>\n",
       "    </tr>\n",
       "    <tr>\n",
       "      <th>7089STDY13216921_BHF_F_Hea13242528#TACCCGGCATAATGTC-1</th>\n",
       "    </tr>\n",
       "    <tr>\n",
       "      <th>...</th>\n",
       "    </tr>\n",
       "    <tr>\n",
       "      <th>BHF_F_Hea11933675_BHF_F_Hea11596628#GTGATCAGTACGGGTT-1</th>\n",
       "    </tr>\n",
       "    <tr>\n",
       "      <th>BHF_F_Hea11933675_BHF_F_Hea11596628#TCTACCTCATCGTTCT-1</th>\n",
       "    </tr>\n",
       "    <tr>\n",
       "      <th>BHF_F_Hea11933675_BHF_F_Hea11596628#CCGTTAACAGCCTTGG-1</th>\n",
       "    </tr>\n",
       "    <tr>\n",
       "      <th>BHF_F_Hea11933675_BHF_F_Hea11596628#GTACTAATCGTTTCCA-1</th>\n",
       "    </tr>\n",
       "    <tr>\n",
       "      <th>7089STDY13216923_BHF_F_Hea13242530#GCTGGTTCAAATTCGT-1</th>\n",
       "    </tr>\n",
       "  </tbody>\n",
       "</table>\n",
       "<p>167022 rows × 0 columns</p>\n",
       "</div>"
      ],
      "text/plain": [
       "Empty DataFrame\n",
       "Columns: []\n",
       "Index: [7089STDY13216921_BHF_F_Hea13242528#GCAATAGAGTTATGTG-1, 7089STDY13216921_BHF_F_Hea13242528#TGGGCCTAGATGGACA-1, 7089STDY13216921_BHF_F_Hea13242528#TCCAGGTCACAAACTT-1, 7089STDY13216921_BHF_F_Hea13242528#GGTCAATTCATTAGCA-1, 7089STDY13216921_BHF_F_Hea13242528#TACCCGGCATAATGTC-1, 7089STDY13216921_BHF_F_Hea13242528#CAAAGGATCTGCAAAC-1, 7089STDY13216921_BHF_F_Hea13242528#TTAGGAACAAGGATTA-1, 7089STDY13216921_BHF_F_Hea13242528#AAAGGCTCAGCTACGT-1, 7089STDY13216921_BHF_F_Hea13242528#TGAGGAGGTGCATTAG-1, 7089STDY13216921_BHF_F_Hea13242528#GCCTGTGCAATTGAAG-1, 7089STDY13216921_BHF_F_Hea13242528#CATCATAAGCGATACT-1, 7089STDY13216921_BHF_F_Hea13242528#CCGGTAGGTTAGAGGG-1, 7089STDY13216921_BHF_F_Hea13242528#TCATGAGGTTTGGGTA-1, 7089STDY13216921_BHF_F_Hea13242528#CAGGCTATCACCAATA-1, 7089STDY13216921_BHF_F_Hea13242528#AGTAATGCACATAGCC-1, 7089STDY13216921_BHF_F_Hea13242528#GTTACTAAGCGCCTTT-1, 7089STDY13216921_BHF_F_Hea13242528#CTAATGTCACTTCATC-1, 7089STDY13216921_BHF_F_Hea13242528#CGATTATCAATGCGCT-1, 7089STDY13216921_BHF_F_Hea13242528#TAACCGGTCTCCATGC-1, 7089STDY13216921_BHF_F_Hea13242528#AAGCGTTTCCGCTAGA-1, 7089STDY13216921_BHF_F_Hea13242528#AATTACCCATAATCGT-1, 7089STDY13216921_BHF_F_Hea13242528#TTCGTTAGTGGGTACT-1, 7089STDY13216921_BHF_F_Hea13242528#ATGTTCAAGGTTAGCT-1, 7089STDY13216921_BHF_F_Hea13242528#TAAGGCTTCCCTGGTT-1, 7089STDY13216921_BHF_F_Hea13242528#TCATGTTTCCTCACTA-1, 7089STDY13216921_BHF_F_Hea13242528#GGCCATCAGATAGACG-1, 7089STDY13216921_BHF_F_Hea13242528#CCTGTAACACTAAGAA-1, 7089STDY13216921_BHF_F_Hea13242528#AGGTCCGGTTAGTTGG-1, 7089STDY13216921_BHF_F_Hea13242528#GTAAGGTCACAAACTT-1, 7089STDY13216921_BHF_F_Hea13242528#CCGTTTGGTTAGTGAT-1, 7089STDY13216921_BHF_F_Hea13242528#GCTTCGCGTGGTGAGA-1, 7089STDY13216921_BHF_F_Hea13242528#CGGCTAATCAGTTCCC-1, 7089STDY13216921_BHF_F_Hea13242528#GATTAGTGTTAAGTGT-1, 7089STDY13216921_BHF_F_Hea13242528#AGCAGGTAGCTTAGTA-1, 7089STDY13216921_BHF_F_Hea13242528#GTTTCCTCAGTTTGTG-1, 7089STDY13216921_BHF_F_Hea13242528#TGTTATGAGTGTTGCG-1, 7089STDY13216921_BHF_F_Hea13242528#ATCGAGGCAATGAAGC-1, 7089STDY13216921_BHF_F_Hea13242528#CCACAGGGTCATAACG-1, 7089STDY13216921_BHF_F_Hea13242528#GGGTTATTCAATCATG-1, 7089STDY13216921_BHF_F_Hea13242528#AACTAGCTCCTCATCA-1, 7089STDY13216921_BHF_F_Hea13242528#AAATCCGGTTACTTGC-1, 7089STDY13216921_BHF_F_Hea13242528#TAAGGACCAATATGGA-1, 7089STDY13216921_BHF_F_Hea13242528#TCGTTAGCAGCAACCT-1, 7089STDY13216921_BHF_F_Hea13242528#GCCTCCATCACCGGTA-1, 7089STDY13216921_BHF_F_Hea13242528#GTCAGGCTCAAACCGT-1, 7089STDY13216921_BHF_F_Hea13242528#GTCAAACTCGTTAGTA-1, 7089STDY13216921_BHF_F_Hea13242528#TCTTCAAGTACGCGCA-1, 7089STDY13216921_BHF_F_Hea13242528#TCGTTATTCGAGGAAC-1, 7089STDY13216921_BHF_F_Hea13242528#GCTTACCTCTCAATGA-1, 7089STDY13216921_BHF_F_Hea13242528#GCACTAAGTTCAAGCA-1, 7089STDY13216921_BHF_F_Hea13242528#AGTAGGATCCCTCACG-1, 7089STDY13216921_BHF_F_Hea13242528#GACCTCAAGGCTTAAC-1, 7089STDY13216921_BHF_F_Hea13242528#TTGTGTGCAGGCATCT-1, 7089STDY13216921_BHF_F_Hea13242528#CACAATATCGTTAGTA-1, 7089STDY13216921_BHF_F_Hea13242528#TTTGGTGCAGCCGCTA-1, 7089STDY13216921_BHF_F_Hea13242528#TTGTGAGGTCCTCCAA-1, 7089STDY13216921_BHF_F_Hea13242528#ACCCGTAAGCGCATTG-1, 7089STDY13216921_BHF_F_Hea13242528#AAGGTCAAGTGAACGA-1, 7089STDY13216921_BHF_F_Hea13242528#CGTCAATAGAGAGGAG-1, 7089STDY13216921_BHF_F_Hea13242528#GGTTGCATCTATCGCC-1, 7089STDY13216921_BHF_F_Hea13242528#CCAAACCCACATTAAC-1, 7089STDY13216921_BHF_F_Hea13242528#CTAGGCGGTAGCTGGT-1, 7089STDY13216921_BHF_F_Hea13242528#ATCACTAAGGCCTAAT-1, 7089STDY13216921_BHF_F_Hea13242528#CAAACATGTGAACAAA-1, 7089STDY13216921_BHF_F_Hea13242528#TACCCGGCAAGGATTA-1, 7089STDY13216921_BHF_F_Hea13242528#CGCCACACAGGCTTGT-1, 7089STDY13216921_BHF_F_Hea13242528#GTTGGCCAGTAGAGGC-1, 7089STDY13216921_BHF_F_Hea13242528#GTATTGTCATAAGTCT-1, 7089STDY13216921_BHF_F_Hea13242528#GAAGGCCCACAAGCCT-1, 7089STDY13216921_BHF_F_Hea13242528#CATCCCAGTCCGCTGT-1, 7089STDY13216921_BHF_F_Hea13242528#CAATAGCTCCCGTTGT-1, 7089STDY13216921_BHF_F_Hea13242528#TGAGGGCCAATTAGCT-1, 7089STDY13216921_BHF_F_Hea13242528#GACCTGATCGTAATCA-1, 7089STDY13216921_BHF_F_Hea13242528#TGTGCGCAGGCTAGAA-1, 7089STDY13216921_BHF_F_Hea13242528#TCTGGCTTCAGGAACA-1, 7089STDY13216921_BHF_F_Hea13242528#TAAACAGCACAATTAC-1, 7089STDY13216921_BHF_F_Hea13242528#TATGCATCATTGTCCT-1, 7089STDY13216921_BHF_F_Hea13242528#CGGAATCGTACTTCAC-1, 7089STDY13216921_BHF_F_Hea13242528#GGTATTGGTTGTCATC-1, 7089STDY13216921_BHF_F_Hea13242528#CAGCCAATCTATCGCC-1, 7089STDY13216921_BHF_F_Hea13242528#ATTAGTCCATCATGGC-1, 7089STDY13216921_BHF_F_Hea13242528#GTTCCTGGTGCACGCA-1, 7089STDY13216921_BHF_F_Hea13242528#GTTTACCGTGTCCTGC-1, 7089STDY13216921_BHF_F_Hea13242528#CGATCCTTCTAGCGAT-1, 7089STDY13216921_BHF_F_Hea13242528#GAAGGCTAGAATCTCA-1, 7089STDY13216921_BHF_F_Hea13242528#GCTTCGCGTTGCGGAT-1, 7089STDY13216921_BHF_F_Hea13242528#TAAGTGCTCCGCAACA-1, 7089STDY13216921_BHF_F_Hea13242528#CAAGTATGTTAGGACC-1, 7089STDY13216921_BHF_F_Hea13242528#TAGAGCCGTGTTGTGA-1, 7089STDY13216921_BHF_F_Hea13242528#TTATGACCAAGCTACC-1, 7089STDY13216921_BHF_F_Hea13242528#ACAGCCGGTTAGGCGT-1, 7089STDY13216921_BHF_F_Hea13242528#TGTGATCAGTAGCGCC-1, 7089STDY13216921_BHF_F_Hea13242528#TCCATCATCCGTAAAC-1, 7089STDY13216921_BHF_F_Hea13242528#GACTTAGGTTCCTGTG-1, 7089STDY13216921_BHF_F_Hea13242528#AATTAGCGTAGCCATA-1, 7089STDY13216921_BHF_F_Hea13242528#CTAATCCGTGACATAT-1, 7089STDY13216921_BHF_F_Hea13242528#GCATCCTTCTCGCCCA-1, 7089STDY13216921_BHF_F_Hea13242528#CGCAATCCAAGCTTAT-1, 7089STDY13216921_BHF_F_Hea13242528#TATAGCCAGGTCCTGA-1, 7089STDY13216921_BHF_F_Hea13242528#CCTTACTCAAGGAATC-1, ...]\n",
       "\n",
       "[167022 rows x 0 columns]"
      ]
     },
     "execution_count": 6,
     "metadata": {},
     "output_type": "execute_result"
    }
   ],
   "source": [
    "# cell barcodes\n",
    "cells = pd.read_csv(f'{peakmatrix_dir}/barcodes.tsv.gz', header=None, sep='\\t')[[1]]\n",
    "cells.set_index(1,inplace=True)\n",
    "cells"
   ]
  },
  {
   "cell_type": "code",
   "execution_count": null,
   "id": "likely-theology",
   "metadata": {},
   "outputs": [],
   "source": []
  },
  {
   "cell_type": "markdown",
   "id": "amended-terrorism",
   "metadata": {},
   "source": [
    "## Make anndata"
   ]
  },
  {
   "cell_type": "code",
   "execution_count": 7,
   "id": "superior-brief",
   "metadata": {},
   "outputs": [
    {
     "data": {
      "text/plain": [
       "<167022x508040 sparse matrix of type '<class 'numpy.float32'>'\n",
       "\twith 1173033588 stored elements in Compressed Sparse Row format>"
      ]
     },
     "execution_count": 7,
     "metadata": {},
     "output_type": "execute_result"
    }
   ],
   "source": [
    "adata = anndata.AnnData(\n",
    "    X=mat.T,\n",
    "    obs=cells,\n",
    "    var=features\n",
    ")\n",
    "\n",
    "# rename obs_names\n",
    "adata.obs_names = [x.replace('#','_') for x in adata.obs_names]\n",
    "\n",
    "# convert sparce matrix\n",
    "adata.X = adata.X.tocsr()\n",
    "adata.X"
   ]
  },
  {
   "cell_type": "code",
   "execution_count": 8,
   "id": "obvious-dealing",
   "metadata": {},
   "outputs": [
    {
     "data": {
      "text/plain": [
       "AnnData object with n_obs × n_vars = 167022 × 508040"
      ]
     },
     "execution_count": 8,
     "metadata": {},
     "output_type": "execute_result"
    }
   ],
   "source": [
    "adata"
   ]
  },
  {
   "cell_type": "code",
   "execution_count": 9,
   "id": "annoying-identifier",
   "metadata": {},
   "outputs": [
    {
     "data": {
      "text/plain": [
       "array([2., 2., 2., 2., 1., 1., 2., 1., 2., 2.], dtype=float32)"
      ]
     },
     "execution_count": 9,
     "metadata": {},
     "output_type": "execute_result"
    }
   ],
   "source": [
    "adata.X.data[:10]"
   ]
  },
  {
   "cell_type": "code",
   "execution_count": 10,
   "id": "quiet-manchester",
   "metadata": {},
   "outputs": [
    {
     "data": {
      "text/plain": [
       "4.0"
      ]
     },
     "execution_count": 10,
     "metadata": {},
     "output_type": "execute_result"
    }
   ],
   "source": [
    "np.max(adata.X.data)"
   ]
  },
  {
   "cell_type": "code",
   "execution_count": 11,
   "id": "impressive-environment",
   "metadata": {},
   "outputs": [
    {
     "data": {
      "text/html": [
       "<div>\n",
       "<style scoped>\n",
       "    .dataframe tbody tr th:only-of-type {\n",
       "        vertical-align: middle;\n",
       "    }\n",
       "\n",
       "    .dataframe tbody tr th {\n",
       "        vertical-align: top;\n",
       "    }\n",
       "\n",
       "    .dataframe thead th {\n",
       "        text-align: right;\n",
       "    }\n",
       "</style>\n",
       "<table border=\"1\" class=\"dataframe\">\n",
       "  <thead>\n",
       "    <tr style=\"text-align: right;\">\n",
       "      <th></th>\n",
       "    </tr>\n",
       "  </thead>\n",
       "  <tbody>\n",
       "    <tr>\n",
       "      <th>7089STDY13216921_BHF_F_Hea13242528_GCAATAGAGTTATGTG-1</th>\n",
       "    </tr>\n",
       "    <tr>\n",
       "      <th>7089STDY13216921_BHF_F_Hea13242528_TGGGCCTAGATGGACA-1</th>\n",
       "    </tr>\n",
       "    <tr>\n",
       "      <th>7089STDY13216921_BHF_F_Hea13242528_TCCAGGTCACAAACTT-1</th>\n",
       "    </tr>\n",
       "    <tr>\n",
       "      <th>7089STDY13216921_BHF_F_Hea13242528_GGTCAATTCATTAGCA-1</th>\n",
       "    </tr>\n",
       "    <tr>\n",
       "      <th>7089STDY13216921_BHF_F_Hea13242528_TACCCGGCATAATGTC-1</th>\n",
       "    </tr>\n",
       "    <tr>\n",
       "      <th>...</th>\n",
       "    </tr>\n",
       "    <tr>\n",
       "      <th>BHF_F_Hea11933675_BHF_F_Hea11596628_GTGATCAGTACGGGTT-1</th>\n",
       "    </tr>\n",
       "    <tr>\n",
       "      <th>BHF_F_Hea11933675_BHF_F_Hea11596628_TCTACCTCATCGTTCT-1</th>\n",
       "    </tr>\n",
       "    <tr>\n",
       "      <th>BHF_F_Hea11933675_BHF_F_Hea11596628_CCGTTAACAGCCTTGG-1</th>\n",
       "    </tr>\n",
       "    <tr>\n",
       "      <th>BHF_F_Hea11933675_BHF_F_Hea11596628_GTACTAATCGTTTCCA-1</th>\n",
       "    </tr>\n",
       "    <tr>\n",
       "      <th>7089STDY13216923_BHF_F_Hea13242530_GCTGGTTCAAATTCGT-1</th>\n",
       "    </tr>\n",
       "  </tbody>\n",
       "</table>\n",
       "<p>167022 rows × 0 columns</p>\n",
       "</div>"
      ],
      "text/plain": [
       "Empty DataFrame\n",
       "Columns: []\n",
       "Index: [7089STDY13216921_BHF_F_Hea13242528_GCAATAGAGTTATGTG-1, 7089STDY13216921_BHF_F_Hea13242528_TGGGCCTAGATGGACA-1, 7089STDY13216921_BHF_F_Hea13242528_TCCAGGTCACAAACTT-1, 7089STDY13216921_BHF_F_Hea13242528_GGTCAATTCATTAGCA-1, 7089STDY13216921_BHF_F_Hea13242528_TACCCGGCATAATGTC-1, 7089STDY13216921_BHF_F_Hea13242528_CAAAGGATCTGCAAAC-1, 7089STDY13216921_BHF_F_Hea13242528_TTAGGAACAAGGATTA-1, 7089STDY13216921_BHF_F_Hea13242528_AAAGGCTCAGCTACGT-1, 7089STDY13216921_BHF_F_Hea13242528_TGAGGAGGTGCATTAG-1, 7089STDY13216921_BHF_F_Hea13242528_GCCTGTGCAATTGAAG-1, 7089STDY13216921_BHF_F_Hea13242528_CATCATAAGCGATACT-1, 7089STDY13216921_BHF_F_Hea13242528_CCGGTAGGTTAGAGGG-1, 7089STDY13216921_BHF_F_Hea13242528_TCATGAGGTTTGGGTA-1, 7089STDY13216921_BHF_F_Hea13242528_CAGGCTATCACCAATA-1, 7089STDY13216921_BHF_F_Hea13242528_AGTAATGCACATAGCC-1, 7089STDY13216921_BHF_F_Hea13242528_GTTACTAAGCGCCTTT-1, 7089STDY13216921_BHF_F_Hea13242528_CTAATGTCACTTCATC-1, 7089STDY13216921_BHF_F_Hea13242528_CGATTATCAATGCGCT-1, 7089STDY13216921_BHF_F_Hea13242528_TAACCGGTCTCCATGC-1, 7089STDY13216921_BHF_F_Hea13242528_AAGCGTTTCCGCTAGA-1, 7089STDY13216921_BHF_F_Hea13242528_AATTACCCATAATCGT-1, 7089STDY13216921_BHF_F_Hea13242528_TTCGTTAGTGGGTACT-1, 7089STDY13216921_BHF_F_Hea13242528_ATGTTCAAGGTTAGCT-1, 7089STDY13216921_BHF_F_Hea13242528_TAAGGCTTCCCTGGTT-1, 7089STDY13216921_BHF_F_Hea13242528_TCATGTTTCCTCACTA-1, 7089STDY13216921_BHF_F_Hea13242528_GGCCATCAGATAGACG-1, 7089STDY13216921_BHF_F_Hea13242528_CCTGTAACACTAAGAA-1, 7089STDY13216921_BHF_F_Hea13242528_AGGTCCGGTTAGTTGG-1, 7089STDY13216921_BHF_F_Hea13242528_GTAAGGTCACAAACTT-1, 7089STDY13216921_BHF_F_Hea13242528_CCGTTTGGTTAGTGAT-1, 7089STDY13216921_BHF_F_Hea13242528_GCTTCGCGTGGTGAGA-1, 7089STDY13216921_BHF_F_Hea13242528_CGGCTAATCAGTTCCC-1, 7089STDY13216921_BHF_F_Hea13242528_GATTAGTGTTAAGTGT-1, 7089STDY13216921_BHF_F_Hea13242528_AGCAGGTAGCTTAGTA-1, 7089STDY13216921_BHF_F_Hea13242528_GTTTCCTCAGTTTGTG-1, 7089STDY13216921_BHF_F_Hea13242528_TGTTATGAGTGTTGCG-1, 7089STDY13216921_BHF_F_Hea13242528_ATCGAGGCAATGAAGC-1, 7089STDY13216921_BHF_F_Hea13242528_CCACAGGGTCATAACG-1, 7089STDY13216921_BHF_F_Hea13242528_GGGTTATTCAATCATG-1, 7089STDY13216921_BHF_F_Hea13242528_AACTAGCTCCTCATCA-1, 7089STDY13216921_BHF_F_Hea13242528_AAATCCGGTTACTTGC-1, 7089STDY13216921_BHF_F_Hea13242528_TAAGGACCAATATGGA-1, 7089STDY13216921_BHF_F_Hea13242528_TCGTTAGCAGCAACCT-1, 7089STDY13216921_BHF_F_Hea13242528_GCCTCCATCACCGGTA-1, 7089STDY13216921_BHF_F_Hea13242528_GTCAGGCTCAAACCGT-1, 7089STDY13216921_BHF_F_Hea13242528_GTCAAACTCGTTAGTA-1, 7089STDY13216921_BHF_F_Hea13242528_TCTTCAAGTACGCGCA-1, 7089STDY13216921_BHF_F_Hea13242528_TCGTTATTCGAGGAAC-1, 7089STDY13216921_BHF_F_Hea13242528_GCTTACCTCTCAATGA-1, 7089STDY13216921_BHF_F_Hea13242528_GCACTAAGTTCAAGCA-1, 7089STDY13216921_BHF_F_Hea13242528_AGTAGGATCCCTCACG-1, 7089STDY13216921_BHF_F_Hea13242528_GACCTCAAGGCTTAAC-1, 7089STDY13216921_BHF_F_Hea13242528_TTGTGTGCAGGCATCT-1, 7089STDY13216921_BHF_F_Hea13242528_CACAATATCGTTAGTA-1, 7089STDY13216921_BHF_F_Hea13242528_TTTGGTGCAGCCGCTA-1, 7089STDY13216921_BHF_F_Hea13242528_TTGTGAGGTCCTCCAA-1, 7089STDY13216921_BHF_F_Hea13242528_ACCCGTAAGCGCATTG-1, 7089STDY13216921_BHF_F_Hea13242528_AAGGTCAAGTGAACGA-1, 7089STDY13216921_BHF_F_Hea13242528_CGTCAATAGAGAGGAG-1, 7089STDY13216921_BHF_F_Hea13242528_GGTTGCATCTATCGCC-1, 7089STDY13216921_BHF_F_Hea13242528_CCAAACCCACATTAAC-1, 7089STDY13216921_BHF_F_Hea13242528_CTAGGCGGTAGCTGGT-1, 7089STDY13216921_BHF_F_Hea13242528_ATCACTAAGGCCTAAT-1, 7089STDY13216921_BHF_F_Hea13242528_CAAACATGTGAACAAA-1, 7089STDY13216921_BHF_F_Hea13242528_TACCCGGCAAGGATTA-1, 7089STDY13216921_BHF_F_Hea13242528_CGCCACACAGGCTTGT-1, 7089STDY13216921_BHF_F_Hea13242528_GTTGGCCAGTAGAGGC-1, 7089STDY13216921_BHF_F_Hea13242528_GTATTGTCATAAGTCT-1, 7089STDY13216921_BHF_F_Hea13242528_GAAGGCCCACAAGCCT-1, 7089STDY13216921_BHF_F_Hea13242528_CATCCCAGTCCGCTGT-1, 7089STDY13216921_BHF_F_Hea13242528_CAATAGCTCCCGTTGT-1, 7089STDY13216921_BHF_F_Hea13242528_TGAGGGCCAATTAGCT-1, 7089STDY13216921_BHF_F_Hea13242528_GACCTGATCGTAATCA-1, 7089STDY13216921_BHF_F_Hea13242528_TGTGCGCAGGCTAGAA-1, 7089STDY13216921_BHF_F_Hea13242528_TCTGGCTTCAGGAACA-1, 7089STDY13216921_BHF_F_Hea13242528_TAAACAGCACAATTAC-1, 7089STDY13216921_BHF_F_Hea13242528_TATGCATCATTGTCCT-1, 7089STDY13216921_BHF_F_Hea13242528_CGGAATCGTACTTCAC-1, 7089STDY13216921_BHF_F_Hea13242528_GGTATTGGTTGTCATC-1, 7089STDY13216921_BHF_F_Hea13242528_CAGCCAATCTATCGCC-1, 7089STDY13216921_BHF_F_Hea13242528_ATTAGTCCATCATGGC-1, 7089STDY13216921_BHF_F_Hea13242528_GTTCCTGGTGCACGCA-1, 7089STDY13216921_BHF_F_Hea13242528_GTTTACCGTGTCCTGC-1, 7089STDY13216921_BHF_F_Hea13242528_CGATCCTTCTAGCGAT-1, 7089STDY13216921_BHF_F_Hea13242528_GAAGGCTAGAATCTCA-1, 7089STDY13216921_BHF_F_Hea13242528_GCTTCGCGTTGCGGAT-1, 7089STDY13216921_BHF_F_Hea13242528_TAAGTGCTCCGCAACA-1, 7089STDY13216921_BHF_F_Hea13242528_CAAGTATGTTAGGACC-1, 7089STDY13216921_BHF_F_Hea13242528_TAGAGCCGTGTTGTGA-1, 7089STDY13216921_BHF_F_Hea13242528_TTATGACCAAGCTACC-1, 7089STDY13216921_BHF_F_Hea13242528_ACAGCCGGTTAGGCGT-1, 7089STDY13216921_BHF_F_Hea13242528_TGTGATCAGTAGCGCC-1, 7089STDY13216921_BHF_F_Hea13242528_TCCATCATCCGTAAAC-1, 7089STDY13216921_BHF_F_Hea13242528_GACTTAGGTTCCTGTG-1, 7089STDY13216921_BHF_F_Hea13242528_AATTAGCGTAGCCATA-1, 7089STDY13216921_BHF_F_Hea13242528_CTAATCCGTGACATAT-1, 7089STDY13216921_BHF_F_Hea13242528_GCATCCTTCTCGCCCA-1, 7089STDY13216921_BHF_F_Hea13242528_CGCAATCCAAGCTTAT-1, 7089STDY13216921_BHF_F_Hea13242528_TATAGCCAGGTCCTGA-1, 7089STDY13216921_BHF_F_Hea13242528_CCTTACTCAAGGAATC-1, ...]\n",
       "\n",
       "[167022 rows x 0 columns]"
      ]
     },
     "execution_count": 11,
     "metadata": {},
     "output_type": "execute_result"
    }
   ],
   "source": [
    "adata.obs"
   ]
  },
  {
   "cell_type": "markdown",
   "id": "native-oasis",
   "metadata": {},
   "source": [
    "## Add cell type annotation"
   ]
  },
  {
   "cell_type": "code",
   "execution_count": 13,
   "id": "human-cycling",
   "metadata": {},
   "outputs": [
    {
     "data": {
      "text/plain": [
       "AnnData object with n_obs × n_vars = 167022 × 508040\n",
       "    obs: 'sangerID', 'combinedID', 'donor', 'facility', 'cell_or_nuclei', 'modality', 'kit_10x', 'scrublet_score', 'doublet_pval', 'doublet_bh_pval', 'n_genes', 'n_counts', 'n_genes_by_counts', 'log1p_n_genes_by_counts', 'total_counts', 'log1p_total_counts', 'total_counts_mt', 'log1p_total_counts_mt', 'pct_counts_mt', 'total_counts_ribo', 'log1p_total_counts_ribo', 'pct_counts_ribo', 'HB_score', 'multiplexed', 'batch_key', 'region', 'FACSgate', 'sex', 'week', 'trimester', 'fine_grain', 'mid_grain', 'coarse_grain', 'heart_or_greatvessels', 'cycling', 'S_score', 'G2M_score', 'phase', 'stress_score', 'hb1_score'"
      ]
     },
     "execution_count": 13,
     "metadata": {},
     "output_type": "execute_result"
    }
   ],
   "source": [
    "obs = pd.read_csv('/nfs/team205/heart/anndata_objects/Foetal/Feb28ObjectRaw.obs.csv',index_col=0)\n",
    "\n",
    "# add cell type labels and other metadata\n",
    "metadata_to_add = ['sangerID', 'combinedID', 'donor', \n",
    "       'facility', 'cell_or_nuclei', 'modality', 'kit_10x', \n",
    "       'scrublet_score', 'doublet_pval', 'doublet_bh_pval', 'n_genes', 'n_counts',\n",
    "       'n_genes_by_counts', 'log1p_n_genes_by_counts', 'total_counts',\n",
    "       'log1p_total_counts', 'total_counts_mt', 'log1p_total_counts_mt',\n",
    "       'pct_counts_mt', 'total_counts_ribo', 'log1p_total_counts_ribo',\n",
    "       'pct_counts_ribo', 'HB_score', 'multiplexed',\n",
    "        'batch_key','region','FACSgate','sex','week','trimester',\n",
    "                     'fine_grain','mid_grain','coarse_grain',\n",
    "                     'heart_or_greatvessels','cycling','S_score','G2M_score','phase','stress_score','hb1_score']\n",
    "adata.obs[metadata_to_add] = obs[metadata_to_add].reindex(adata.obs_names).copy()\n",
    "adata"
   ]
  },
  {
   "cell_type": "code",
   "execution_count": 14,
   "id": "introductory-translator",
   "metadata": {},
   "outputs": [],
   "source": [
    "adata.var.rename_axis('Peaks', axis=0, inplace=True)"
   ]
  },
  {
   "cell_type": "code",
   "execution_count": 15,
   "id": "worthy-controversy",
   "metadata": {},
   "outputs": [
    {
     "name": "stderr",
     "output_type": "stream",
     "text": [
      "... storing 'sangerID' as categorical\n",
      "... storing 'combinedID' as categorical\n",
      "... storing 'donor' as categorical\n",
      "... storing 'facility' as categorical\n",
      "... storing 'cell_or_nuclei' as categorical\n",
      "... storing 'modality' as categorical\n",
      "... storing 'kit_10x' as categorical\n",
      "... storing 'multiplexed' as categorical\n",
      "... storing 'batch_key' as categorical\n",
      "... storing 'region' as categorical\n",
      "... storing 'FACSgate' as categorical\n",
      "... storing 'sex' as categorical\n",
      "... storing 'week' as categorical\n",
      "... storing 'trimester' as categorical\n",
      "... storing 'fine_grain' as categorical\n",
      "... storing 'mid_grain' as categorical\n",
      "... storing 'coarse_grain' as categorical\n",
      "... storing 'heart_or_greatvessels' as categorical\n",
      "... storing 'cycling' as categorical\n",
      "... storing 'phase' as categorical\n"
     ]
    }
   ],
   "source": [
    "# save\n",
    "adata.write(f'{peakmatrix_dir}/Foetal_Peaks.h5ad')"
   ]
  },
  {
   "cell_type": "code",
   "execution_count": null,
   "id": "express-sierra",
   "metadata": {},
   "outputs": [],
   "source": []
  },
  {
   "cell_type": "markdown",
   "id": "reflected-rating",
   "metadata": {},
   "source": [
    "# Refine metadata"
   ]
  },
  {
   "cell_type": "code",
   "execution_count": 4,
   "id": "otherwise-excitement",
   "metadata": {},
   "outputs": [
    {
     "data": {
      "text/plain": [
       "AnnData object with n_obs × n_vars = 167022 × 508040\n",
       "    obs: 'sangerID', 'combinedID', 'donor', 'facility', 'cell_or_nuclei', 'modality', 'kit_10x', 'scrublet_score', 'doublet_pval', 'doublet_bh_pval', 'n_genes', 'n_counts', 'n_genes_by_counts', 'log1p_n_genes_by_counts', 'total_counts', 'log1p_total_counts', 'total_counts_mt', 'log1p_total_counts_mt', 'pct_counts_mt', 'total_counts_ribo', 'log1p_total_counts_ribo', 'pct_counts_ribo', 'HB_score', 'multiplexed', 'batch_key', 'region', 'FACSgate', 'sex', 'week', 'trimester', 'fine_grain', 'mid_grain', 'coarse_grain', 'heart_or_greatvessels', 'cycling', 'S_score', 'G2M_score', 'phase', 'stress_score', 'hb1_score'"
      ]
     },
     "execution_count": 4,
     "metadata": {},
     "output_type": "execute_result"
    }
   ],
   "source": [
    "adata = sc.read_h5ad(f'{peakmatrix_dir}/Foetal_Peaks.h5ad')\n",
    "adata"
   ]
  },
  {
   "cell_type": "code",
   "execution_count": 5,
   "id": "minute-underground",
   "metadata": {},
   "outputs": [],
   "source": [
    "# drop some obs columns\n",
    "metadata_to_drop = [\n",
    "       'scrublet_score', 'doublet_pval', 'doublet_bh_pval', 'n_genes', 'n_counts',\n",
    "       'n_genes_by_counts', 'log1p_n_genes_by_counts', 'total_counts',\n",
    "       'log1p_total_counts', 'total_counts_mt', 'log1p_total_counts_mt',\n",
    "       'pct_counts_mt', 'total_counts_ribo', 'log1p_total_counts_ribo',\n",
    "       'pct_counts_ribo', 'HB_score', 'cycling','S_score','G2M_score','phase','stress_score','hb1_score']\n",
    "\n",
    "adata.obs.drop(metadata_to_drop,axis=1,inplace=True)"
   ]
  },
  {
   "cell_type": "code",
   "execution_count": 6,
   "id": "mediterranean-theme",
   "metadata": {},
   "outputs": [
    {
     "data": {
      "text/html": [
       "<div>\n",
       "<style scoped>\n",
       "    .dataframe tbody tr th:only-of-type {\n",
       "        vertical-align: middle;\n",
       "    }\n",
       "\n",
       "    .dataframe tbody tr th {\n",
       "        vertical-align: top;\n",
       "    }\n",
       "\n",
       "    .dataframe thead th {\n",
       "        text-align: right;\n",
       "    }\n",
       "</style>\n",
       "<table border=\"1\" class=\"dataframe\">\n",
       "  <thead>\n",
       "    <tr style=\"text-align: right;\">\n",
       "      <th></th>\n",
       "      <th>seqnames</th>\n",
       "      <th>start</th>\n",
       "      <th>end</th>\n",
       "      <th>width</th>\n",
       "      <th>strand</th>\n",
       "      <th>score</th>\n",
       "      <th>replicateScoreQuantile</th>\n",
       "      <th>groupScoreQuantile</th>\n",
       "      <th>Reproducibility</th>\n",
       "      <th>GroupReplicate</th>\n",
       "      <th>distToGeneStart</th>\n",
       "      <th>nearestGene</th>\n",
       "      <th>peakType</th>\n",
       "      <th>distToTSS</th>\n",
       "      <th>nearestTSS</th>\n",
       "      <th>GC</th>\n",
       "      <th>idx</th>\n",
       "      <th>N</th>\n",
       "    </tr>\n",
       "    <tr>\n",
       "      <th>Peaks</th>\n",
       "      <th></th>\n",
       "      <th></th>\n",
       "      <th></th>\n",
       "      <th></th>\n",
       "      <th></th>\n",
       "      <th></th>\n",
       "      <th></th>\n",
       "      <th></th>\n",
       "      <th></th>\n",
       "      <th></th>\n",
       "      <th></th>\n",
       "      <th></th>\n",
       "      <th></th>\n",
       "      <th></th>\n",
       "      <th></th>\n",
       "      <th></th>\n",
       "      <th></th>\n",
       "      <th></th>\n",
       "    </tr>\n",
       "  </thead>\n",
       "  <tbody>\n",
       "    <tr>\n",
       "      <th>chr1:817093_817593</th>\n",
       "      <td>chr1</td>\n",
       "      <td>817093</td>\n",
       "      <td>817593</td>\n",
       "      <td>501</td>\n",
       "      <td>*</td>\n",
       "      <td>17.27610</td>\n",
       "      <td>0.931</td>\n",
       "      <td>0.795</td>\n",
       "      <td>2.0</td>\n",
       "      <td>MacrophagesATF3pos._.Rep2</td>\n",
       "      <td>27</td>\n",
       "      <td>FAM87B</td>\n",
       "      <td>Promoter</td>\n",
       "      <td>27</td>\n",
       "      <td>uc031tlt.2</td>\n",
       "      <td>0.4790</td>\n",
       "      <td>1</td>\n",
       "      <td>0</td>\n",
       "    </tr>\n",
       "    <tr>\n",
       "      <th>chr1:819818_820318</th>\n",
       "      <td>chr1</td>\n",
       "      <td>819818</td>\n",
       "      <td>820318</td>\n",
       "      <td>501</td>\n",
       "      <td>*</td>\n",
       "      <td>2.56766</td>\n",
       "      <td>0.325</td>\n",
       "      <td>0.045</td>\n",
       "      <td>2.0</td>\n",
       "      <td>MacrophagesTIMD4pos._.Rep2</td>\n",
       "      <td>2696</td>\n",
       "      <td>FAM87B</td>\n",
       "      <td>Distal</td>\n",
       "      <td>2696</td>\n",
       "      <td>uc031tlt.2</td>\n",
       "      <td>0.5190</td>\n",
       "      <td>2</td>\n",
       "      <td>0</td>\n",
       "    </tr>\n",
       "    <tr>\n",
       "      <th>chr1:820542_821042</th>\n",
       "      <td>chr1</td>\n",
       "      <td>820542</td>\n",
       "      <td>821042</td>\n",
       "      <td>501</td>\n",
       "      <td>*</td>\n",
       "      <td>2.56766</td>\n",
       "      <td>0.325</td>\n",
       "      <td>0.045</td>\n",
       "      <td>2.0</td>\n",
       "      <td>MacrophagesTIMD4pos._.Rep2</td>\n",
       "      <td>3420</td>\n",
       "      <td>FAM87B</td>\n",
       "      <td>Distal</td>\n",
       "      <td>3420</td>\n",
       "      <td>uc031tlt.2</td>\n",
       "      <td>0.5509</td>\n",
       "      <td>3</td>\n",
       "      <td>0</td>\n",
       "    </tr>\n",
       "    <tr>\n",
       "      <th>chr1:825246_825746</th>\n",
       "      <td>chr1</td>\n",
       "      <td>825246</td>\n",
       "      <td>825746</td>\n",
       "      <td>501</td>\n",
       "      <td>*</td>\n",
       "      <td>2.56766</td>\n",
       "      <td>0.325</td>\n",
       "      <td>0.045</td>\n",
       "      <td>2.0</td>\n",
       "      <td>MacrophagesTIMD4pos._.Rep2</td>\n",
       "      <td>357</td>\n",
       "      <td>LINC01128</td>\n",
       "      <td>Exonic</td>\n",
       "      <td>357</td>\n",
       "      <td>uc057axa.1</td>\n",
       "      <td>0.4291</td>\n",
       "      <td>4</td>\n",
       "      <td>0</td>\n",
       "    </tr>\n",
       "    <tr>\n",
       "      <th>chr1:826566_827066</th>\n",
       "      <td>chr1</td>\n",
       "      <td>826566</td>\n",
       "      <td>827066</td>\n",
       "      <td>501</td>\n",
       "      <td>*</td>\n",
       "      <td>6.68679</td>\n",
       "      <td>0.521</td>\n",
       "      <td>0.183</td>\n",
       "      <td>2.0</td>\n",
       "      <td>AtrialCardiomyocytesCycling._.Rep1</td>\n",
       "      <td>705</td>\n",
       "      <td>LINC00115</td>\n",
       "      <td>Exonic</td>\n",
       "      <td>15</td>\n",
       "      <td>uc057axb.1</td>\n",
       "      <td>0.5489</td>\n",
       "      <td>5</td>\n",
       "      <td>0</td>\n",
       "    </tr>\n",
       "  </tbody>\n",
       "</table>\n",
       "</div>"
      ],
      "text/plain": [
       "                   seqnames   start     end  width strand     score  \\\n",
       "Peaks                                                                 \n",
       "chr1:817093_817593     chr1  817093  817593    501      *  17.27610   \n",
       "chr1:819818_820318     chr1  819818  820318    501      *   2.56766   \n",
       "chr1:820542_821042     chr1  820542  821042    501      *   2.56766   \n",
       "chr1:825246_825746     chr1  825246  825746    501      *   2.56766   \n",
       "chr1:826566_827066     chr1  826566  827066    501      *   6.68679   \n",
       "\n",
       "                    replicateScoreQuantile  groupScoreQuantile  \\\n",
       "Peaks                                                            \n",
       "chr1:817093_817593                   0.931               0.795   \n",
       "chr1:819818_820318                   0.325               0.045   \n",
       "chr1:820542_821042                   0.325               0.045   \n",
       "chr1:825246_825746                   0.325               0.045   \n",
       "chr1:826566_827066                   0.521               0.183   \n",
       "\n",
       "                    Reproducibility                      GroupReplicate  \\\n",
       "Peaks                                                                     \n",
       "chr1:817093_817593              2.0           MacrophagesATF3pos._.Rep2   \n",
       "chr1:819818_820318              2.0          MacrophagesTIMD4pos._.Rep2   \n",
       "chr1:820542_821042              2.0          MacrophagesTIMD4pos._.Rep2   \n",
       "chr1:825246_825746              2.0          MacrophagesTIMD4pos._.Rep2   \n",
       "chr1:826566_827066              2.0  AtrialCardiomyocytesCycling._.Rep1   \n",
       "\n",
       "                    distToGeneStart nearestGene  peakType  distToTSS  \\\n",
       "Peaks                                                                  \n",
       "chr1:817093_817593               27      FAM87B  Promoter         27   \n",
       "chr1:819818_820318             2696      FAM87B    Distal       2696   \n",
       "chr1:820542_821042             3420      FAM87B    Distal       3420   \n",
       "chr1:825246_825746              357   LINC01128    Exonic        357   \n",
       "chr1:826566_827066              705   LINC00115    Exonic         15   \n",
       "\n",
       "                    nearestTSS      GC  idx  N  \n",
       "Peaks                                           \n",
       "chr1:817093_817593  uc031tlt.2  0.4790    1  0  \n",
       "chr1:819818_820318  uc031tlt.2  0.5190    2  0  \n",
       "chr1:820542_821042  uc031tlt.2  0.5509    3  0  \n",
       "chr1:825246_825746  uc057axa.1  0.4291    4  0  \n",
       "chr1:826566_827066  uc057axb.1  0.5489    5  0  "
      ]
     },
     "execution_count": 6,
     "metadata": {},
     "output_type": "execute_result"
    }
   ],
   "source": [
    "# add peak metadata\n",
    "meta = pd.read_csv('/nfs/team205/heart/anndata_objects/Foetal/multiome_ATAC/ArchR/project_output/PeakMatrix/peak_metadata.tsv',\n",
    "           sep='\\t')\n",
    "meta.set_index('range',inplace=True)\n",
    "\n",
    "# add to anndata\n",
    "adata.var[meta.columns] = meta.reindex(adata.var_names)\n",
    "adata.var.head()"
   ]
  },
  {
   "cell_type": "code",
   "execution_count": 7,
   "id": "empty-champion",
   "metadata": {},
   "outputs": [
    {
     "name": "stderr",
     "output_type": "stream",
     "text": [
      "... storing 'seqnames' as categorical\n",
      "... storing 'strand' as categorical\n",
      "... storing 'GroupReplicate' as categorical\n",
      "... storing 'nearestGene' as categorical\n",
      "... storing 'peakType' as categorical\n",
      "... storing 'nearestTSS' as categorical\n"
     ]
    }
   ],
   "source": [
    "# save\n",
    "adata.write(f'{peakmatrix_dir}/Foetal_Peaks.h5ad')"
   ]
  },
  {
   "cell_type": "code",
   "execution_count": 9,
   "id": "amber-serum",
   "metadata": {},
   "outputs": [
    {
     "data": {
      "text/plain": [
       "array([2., 2., 2., 2., 1., 1., 2., 1., 2., 2., 2., 2., 3., 1., 2., 2., 3.,\n",
       "       1., 2., 2., 2., 2., 2., 2., 1., 1., 2., 4., 2., 2.], dtype=float32)"
      ]
     },
     "execution_count": 9,
     "metadata": {},
     "output_type": "execute_result"
    }
   ],
   "source": [
    "adata.X.data[:30]"
   ]
  },
  {
   "cell_type": "code",
   "execution_count": 8,
   "id": "dress-arizona",
   "metadata": {},
   "outputs": [
    {
     "data": {
      "text/plain": [
       "'/nfs/team205/heart/anndata_objects/Foetal/multiome_ATAC/ArchR/project_output/PeakMatrix/Foetal_Peaks.h5ad'"
      ]
     },
     "execution_count": 8,
     "metadata": {},
     "output_type": "execute_result"
    }
   ],
   "source": [
    "f'{peakmatrix_dir}/Foetal_Peaks.h5ad'"
   ]
  },
  {
   "cell_type": "code",
   "execution_count": null,
   "id": "existing-ozone",
   "metadata": {},
   "outputs": [],
   "source": [
    "# rclone to gdrive\n",
    "rclone copy /nfs/team205/heart/anndata_objects/Foetal/multiome_ATAC/ArchR/project_output/PeakMatrix/Foetal_Peaks.h5ad \\\n",
    "gdrive:JamesC_Kazumasa/Foetal_Heart/SanjayShinha/toSinhalab/anndata/Peak_foetal_global_raw.h5ad"
   ]
  },
  {
   "cell_type": "code",
   "execution_count": null,
   "id": "opening-wellington",
   "metadata": {},
   "outputs": [],
   "source": [
    "adata.obs['cell_type3'].value_counts()"
   ]
  },
  {
   "cell_type": "code",
   "execution_count": null,
   "id": "north-adventure",
   "metadata": {},
   "outputs": [],
   "source": [
    "adata.var"
   ]
  },
  {
   "cell_type": "code",
   "execution_count": null,
   "id": "attempted-coordinator",
   "metadata": {},
   "outputs": [],
   "source": []
  },
  {
   "cell_type": "code",
   "execution_count": null,
   "id": "inside-manitoba",
   "metadata": {},
   "outputs": [],
   "source": []
  }
 ],
 "metadata": {
  "kernelspec": {
   "display_name": "teichlab",
   "language": "python",
   "name": "teichlab"
  },
  "language_info": {
   "codemirror_mode": {
    "name": "ipython",
    "version": 3
   },
   "file_extension": ".py",
   "mimetype": "text/x-python",
   "name": "python",
   "nbconvert_exporter": "python",
   "pygments_lexer": "ipython3",
   "version": "3.8.8"
  }
 },
 "nbformat": 4,
 "nbformat_minor": 5
}
