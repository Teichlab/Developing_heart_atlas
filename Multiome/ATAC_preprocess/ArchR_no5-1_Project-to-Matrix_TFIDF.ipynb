{
 "cells": [
  {
   "cell_type": "markdown",
   "id": "original-swimming",
   "metadata": {},
   "source": [
    "Ref:\n",
    "https://www.archrproject.com/bookdown/creating-an-archrproject-1.html"
   ]
  },
  {
   "cell_type": "code",
   "execution_count": 1,
   "id": "supreme-window",
   "metadata": {},
   "outputs": [
    {
     "name": "stderr",
     "output_type": "stream",
     "text": [
      "\n",
      "                                                   / |\n",
      "                                                 /    \\\n",
      "            .                                  /      |.\n",
      "            \\\\\\                              /        |.\n",
      "              \\\\\\                          /           `|.\n",
      "                \\\\\\                      /              |.\n",
      "                  \\                    /                |\\\n",
      "                  \\\\#####\\           /                  ||\n",
      "                ==###########>      /                   ||\n",
      "                 \\\\##==......\\    /                     ||\n",
      "            ______ =       =|__ /__                     ||      \\\\\\\n",
      "        ,--' ,----`-,__ ___/'  --,-`-===================##========>\n",
      "       \\               '        ##_______ _____ ,--,__,=##,__   ///\n",
      "        ,    __==    ___,-,__,--'#'  ==='      `-'    | ##,-/\n",
      "        -,____,---'       \\\\####\\\\________________,--\\\\_##,/\n",
      "           ___      .______        ______  __    __  .______      \n",
      "          /   \\     |   _  \\      /      ||  |  |  | |   _  \\     \n",
      "         /  ^  \\    |  |_)  |    |  ,----'|  |__|  | |  |_)  |    \n",
      "        /  /_\\  \\   |      /     |  |     |   __   | |      /     \n",
      "       /  _____  \\  |  |\\  \\\\___ |  `----.|  |  |  | |  |\\  \\\\___.\n",
      "      /__/     \\__\\ | _| `._____| \\______||__|  |__| | _| `._____|\n",
      "    \n",
      "\n",
      "ArchR : Version 1.0.2\n",
      "For more information see our website : www.ArchRProject.com\n",
      "If you encounter a bug please report : https://github.com/GreenleafLab/ArchR/issues\n",
      "\n",
      "Loading Required Packages...\n",
      "\n",
      "\tLoading Package : grid v4.0.4\n",
      "\n",
      "\tLoading Package : gridExtra v2.3\n",
      "\n",
      "\tLoading Package : gtools v3.9.3\n",
      "\n",
      "\tLoading Package : gtable v0.3.0\n",
      "\n",
      "\tLoading Package : ggplot2 v3.4.0\n",
      "\n",
      "\tLoading Package : magrittr v2.0.3\n",
      "\n",
      "\tLoading Package : plyr v1.8.8\n",
      "\n",
      "\tLoading Package : stringr v1.4.0\n",
      "\n",
      "\tLoading Package : data.table v1.14.4\n",
      "\n",
      "\tLoading Package : matrixStats v0.62.0\n",
      "\n",
      "\tLoading Package : S4Vectors v0.28.1\n",
      "\n",
      "\tLoading Package : GenomicRanges v1.42.0\n",
      "\n",
      "\tLoading Package : BiocGenerics v0.36.1\n",
      "\n",
      "\tLoading Package : Matrix v1.3.2\n",
      "\n",
      "\tLoading Package : Rcpp v1.0.9\n",
      "\n",
      "\tLoading Package : SummarizedExperiment v1.20.0\n",
      "\n",
      "\tLoading Package : rhdf5 v2.34.0\n",
      "\n",
      "Warning message in system(\"timedatectl\", intern = TRUE):\n",
      "“running command 'timedatectl' had status 1”\n",
      "── \u001b[1mAttaching packages\u001b[22m ─────────────────────────────────────── tidyverse 1.3.2 ──\n",
      "\u001b[32m✔\u001b[39m \u001b[34mtibble \u001b[39m 3.1.8      \u001b[32m✔\u001b[39m \u001b[34mpurrr  \u001b[39m 0.3.4 \n",
      "\u001b[32m✔\u001b[39m \u001b[34mtidyr  \u001b[39m 1.2.1      \u001b[32m✔\u001b[39m \u001b[34mdplyr  \u001b[39m 1.0.10\n",
      "\u001b[32m✔\u001b[39m \u001b[34mreadr  \u001b[39m 2.1.3      \u001b[32m✔\u001b[39m \u001b[34mforcats\u001b[39m 0.5.1 \n",
      "── \u001b[1mConflicts\u001b[22m ────────────────────────────────────────── tidyverse_conflicts() ──\n",
      "\u001b[31m✖\u001b[39m \u001b[34mdplyr\u001b[39m::\u001b[32marrange()\u001b[39m         masks \u001b[34mplyr\u001b[39m::arrange()\n",
      "\u001b[31m✖\u001b[39m \u001b[34mdplyr\u001b[39m::\u001b[32mbetween()\u001b[39m         masks \u001b[34mdata.table\u001b[39m::between()\n",
      "\u001b[31m✖\u001b[39m \u001b[34mdplyr\u001b[39m::\u001b[32mcollapse()\u001b[39m        masks \u001b[34mIRanges\u001b[39m::collapse()\n",
      "\u001b[31m✖\u001b[39m \u001b[34mdplyr\u001b[39m::\u001b[32mcombine()\u001b[39m         masks \u001b[34mBiobase\u001b[39m::combine(), \u001b[34mBiocGenerics\u001b[39m::combine(), \u001b[34mgridExtra\u001b[39m::combine()\n",
      "\u001b[31m✖\u001b[39m \u001b[34mpurrr\u001b[39m::\u001b[32mcompact()\u001b[39m         masks \u001b[34mplyr\u001b[39m::compact()\n",
      "\u001b[31m✖\u001b[39m \u001b[34mdplyr\u001b[39m::\u001b[32mcount()\u001b[39m           masks \u001b[34mmatrixStats\u001b[39m::count(), \u001b[34mplyr\u001b[39m::count()\n",
      "\u001b[31m✖\u001b[39m \u001b[34mdplyr\u001b[39m::\u001b[32mdesc()\u001b[39m            masks \u001b[34mIRanges\u001b[39m::desc(), \u001b[34mplyr\u001b[39m::desc()\n",
      "\u001b[31m✖\u001b[39m \u001b[34mtidyr\u001b[39m::\u001b[32mexpand()\u001b[39m          masks \u001b[34mMatrix\u001b[39m::expand(), \u001b[34mS4Vectors\u001b[39m::expand()\n",
      "\u001b[31m✖\u001b[39m \u001b[34mtidyr\u001b[39m::\u001b[32mextract()\u001b[39m         masks \u001b[34mmagrittr\u001b[39m::extract()\n",
      "\u001b[31m✖\u001b[39m \u001b[34mdplyr\u001b[39m::\u001b[32mfailwith()\u001b[39m        masks \u001b[34mplyr\u001b[39m::failwith()\n",
      "\u001b[31m✖\u001b[39m \u001b[34mdplyr\u001b[39m::\u001b[32mfilter()\u001b[39m          masks \u001b[34mstats\u001b[39m::filter()\n",
      "\u001b[31m✖\u001b[39m \u001b[34mdplyr\u001b[39m::\u001b[32mfirst()\u001b[39m           masks \u001b[34mS4Vectors\u001b[39m::first(), \u001b[34mdata.table\u001b[39m::first()\n",
      "\u001b[31m✖\u001b[39m \u001b[34mdplyr\u001b[39m::\u001b[32mid()\u001b[39m              masks \u001b[34mplyr\u001b[39m::id()\n",
      "\u001b[31m✖\u001b[39m \u001b[34mdplyr\u001b[39m::\u001b[32mlag()\u001b[39m             masks \u001b[34mstats\u001b[39m::lag()\n",
      "\u001b[31m✖\u001b[39m \u001b[34mdplyr\u001b[39m::\u001b[32mlast()\u001b[39m            masks \u001b[34mdata.table\u001b[39m::last()\n",
      "\u001b[31m✖\u001b[39m \u001b[34mdplyr\u001b[39m::\u001b[32mmutate()\u001b[39m          masks \u001b[34mplyr\u001b[39m::mutate()\n",
      "\u001b[31m✖\u001b[39m \u001b[34mtidyr\u001b[39m::\u001b[32mpack()\u001b[39m            masks \u001b[34mMatrix\u001b[39m::pack()\n",
      "\u001b[31m✖\u001b[39m \u001b[34mBiocGenerics\u001b[39m::\u001b[32mPosition()\u001b[39m masks \u001b[34mggplot2\u001b[39m::Position(), \u001b[34mbase\u001b[39m::Position()\n",
      "\u001b[31m✖\u001b[39m \u001b[34mpurrr\u001b[39m::\u001b[32mreduce()\u001b[39m          masks \u001b[34mGenomicRanges\u001b[39m::reduce(), \u001b[34mIRanges\u001b[39m::reduce()\n",
      "\u001b[31m✖\u001b[39m \u001b[34mdplyr\u001b[39m::\u001b[32mrename()\u001b[39m          masks \u001b[34mS4Vectors\u001b[39m::rename(), \u001b[34mplyr\u001b[39m::rename()\n",
      "\u001b[31m✖\u001b[39m \u001b[34mpurrr\u001b[39m::\u001b[32mset_names()\u001b[39m       masks \u001b[34mmagrittr\u001b[39m::set_names()\n",
      "\u001b[31m✖\u001b[39m \u001b[34mdplyr\u001b[39m::\u001b[32mslice()\u001b[39m           masks \u001b[34mIRanges\u001b[39m::slice()\n",
      "\u001b[31m✖\u001b[39m \u001b[34mdplyr\u001b[39m::\u001b[32msummarise()\u001b[39m       masks \u001b[34mplyr\u001b[39m::summarise()\n",
      "\u001b[31m✖\u001b[39m \u001b[34mdplyr\u001b[39m::\u001b[32msummarize()\u001b[39m       masks \u001b[34mplyr\u001b[39m::summarize()\n",
      "\u001b[31m✖\u001b[39m \u001b[34mpurrr\u001b[39m::\u001b[32mtranspose()\u001b[39m       masks \u001b[34mdata.table\u001b[39m::transpose()\n",
      "\u001b[31m✖\u001b[39m \u001b[34mtidyr\u001b[39m::\u001b[32munpack()\u001b[39m          masks \u001b[34mMatrix\u001b[39m::unpack()\n",
      "Loading required package: BSgenome\n",
      "\n",
      "Loading required package: Biostrings\n",
      "\n",
      "Loading required package: XVector\n",
      "\n",
      "\n",
      "Attaching package: ‘XVector’\n",
      "\n",
      "\n",
      "The following object is masked from ‘package:purrr’:\n",
      "\n",
      "    compact\n",
      "\n",
      "\n",
      "The following object is masked from ‘package:plyr’:\n",
      "\n",
      "    compact\n",
      "\n",
      "\n",
      "\n",
      "Attaching package: ‘Biostrings’\n",
      "\n",
      "\n",
      "The following object is masked from ‘package:base’:\n",
      "\n",
      "    strsplit\n",
      "\n",
      "\n",
      "Loading required package: rtracklayer\n",
      "\n",
      "Registered S3 method overwritten by 'GGally':\n",
      "  method from   \n",
      "  +.gg   ggplot2\n",
      "\n"
     ]
    }
   ],
   "source": [
    "library(ArchR)\n",
    "library(tidyverse)\n",
    "library(BSgenome.Hsapiens.UCSC.hg38)\n",
    "library(SingleCellExperiment)\n",
    "library(Signac)"
   ]
  },
  {
   "cell_type": "code",
   "execution_count": 2,
   "id": "exempt-monaco",
   "metadata": {},
   "outputs": [
    {
     "data": {
      "text/html": [
       "'/nfs/team205/heart/anndata_objects/Foetal/multiome_ATAC/ArchR'"
      ],
      "text/latex": [
       "'/nfs/team205/heart/anndata\\_objects/Foetal/multiome\\_ATAC/ArchR'"
      ],
      "text/markdown": [
       "'/nfs/team205/heart/anndata_objects/Foetal/multiome_ATAC/ArchR'"
      ],
      "text/plain": [
       "[1] \"/nfs/team205/heart/anndata_objects/Foetal/multiome_ATAC/ArchR\""
      ]
     },
     "metadata": {},
     "output_type": "display_data"
    }
   ],
   "source": [
    "getwd()"
   ]
  },
  {
   "cell_type": "code",
   "execution_count": 3,
   "id": "recreational-action",
   "metadata": {},
   "outputs": [
    {
     "name": "stderr",
     "output_type": "stream",
     "text": [
      "Setting default genome to Hg38.\n",
      "\n"
     ]
    }
   ],
   "source": [
    "# before starting a project we must set the ArchRGenome and default threads for parallelization.\n",
    "# Setting default genome to Hg38.\n",
    "addArchRGenome(\"hg38\")"
   ]
  },
  {
   "cell_type": "code",
   "execution_count": 4,
   "id": "great-newport",
   "metadata": {},
   "outputs": [
    {
     "name": "stderr",
     "output_type": "stream",
     "text": [
      "Setting default number of Parallel threads to 1.\n",
      "\n"
     ]
    }
   ],
   "source": [
    "# Setting default number of Parallel threads to 16\n",
    "addArchRThreads(threads = 1) "
   ]
  },
  {
   "cell_type": "code",
   "execution_count": null,
   "id": "taken-coordinate",
   "metadata": {},
   "outputs": [],
   "source": []
  },
  {
   "cell_type": "markdown",
   "id": "industrial-prayer",
   "metadata": {},
   "source": [
    "# Read in peak matrix"
   ]
  },
  {
   "cell_type": "code",
   "execution_count": 5,
   "id": "alpha-stopping",
   "metadata": {},
   "outputs": [],
   "source": [
    "mat = readMM(file=\"/nfs/team205/heart/anndata_objects/Foetal/multiome_ATAC/ArchR/project_output/PeakMatrix/matrix.mtx.gz\")"
   ]
  },
  {
   "cell_type": "code",
   "execution_count": 6,
   "id": "apparent-apache",
   "metadata": {},
   "outputs": [
    {
     "data": {
      "text/html": [
       "<style>\n",
       ".list-inline {list-style: none; margin:0; padding: 0}\n",
       ".list-inline>li {display: inline-block}\n",
       ".list-inline>li:not(:last-child)::after {content: \"\\00b7\"; padding: 0 .5ex}\n",
       "</style>\n",
       "<ol class=list-inline><li>508040</li><li>167022</li></ol>\n"
      ],
      "text/latex": [
       "\\begin{enumerate*}\n",
       "\\item 508040\n",
       "\\item 167022\n",
       "\\end{enumerate*}\n"
      ],
      "text/markdown": [
       "1. 508040\n",
       "2. 167022\n",
       "\n",
       "\n"
      ],
      "text/plain": [
       "[1] 508040 167022"
      ]
     },
     "metadata": {},
     "output_type": "display_data"
    }
   ],
   "source": [
    "dim(mat)"
   ]
  },
  {
   "cell_type": "code",
   "execution_count": null,
   "id": "numeric-accessory",
   "metadata": {},
   "outputs": [],
   "source": []
  },
  {
   "cell_type": "markdown",
   "id": "naughty-representative",
   "metadata": {},
   "source": [
    "# TF-IDF normalisation"
   ]
  },
  {
   "cell_type": "markdown",
   "id": "documented-humanity",
   "metadata": {},
   "source": [
    "Using Signac function <br>\n",
    "ref: https://stuartlab.org/signac/reference/runtfidf"
   ]
  },
  {
   "cell_type": "code",
   "execution_count": 7,
   "id": "commercial-morocco",
   "metadata": {},
   "outputs": [
    {
     "name": "stderr",
     "output_type": "stream",
     "text": [
      "Performing TF-IDF normalization\n",
      "\n"
     ]
    }
   ],
   "source": [
    "mat_norm = RunTFIDF(object = mat) # default scale factor is \"scale.factor = 10000\""
   ]
  },
  {
   "cell_type": "code",
   "execution_count": 8,
   "id": "multiple-rehabilitation",
   "metadata": {},
   "outputs": [
    {
     "data": {
      "text/html": [
       "<style>\n",
       ".list-inline {list-style: none; margin:0; padding: 0}\n",
       ".list-inline>li {display: inline-block}\n",
       ".list-inline>li:not(:last-child)::after {content: \"\\00b7\"; padding: 0 .5ex}\n",
       "</style>\n",
       "<ol class=list-inline><li>508040</li><li>167022</li></ol>\n"
      ],
      "text/latex": [
       "\\begin{enumerate*}\n",
       "\\item 508040\n",
       "\\item 167022\n",
       "\\end{enumerate*}\n"
      ],
      "text/markdown": [
       "1. 508040\n",
       "2. 167022\n",
       "\n",
       "\n"
      ],
      "text/plain": [
       "[1] 508040 167022"
      ]
     },
     "metadata": {},
     "output_type": "display_data"
    }
   ],
   "source": [
    "dim(mat_norm)"
   ]
  },
  {
   "cell_type": "code",
   "execution_count": 9,
   "id": "strategic-print",
   "metadata": {},
   "outputs": [
    {
     "data": {
      "text/plain": [
       "10 x 10 sparse Matrix of class \"dgCMatrix\"\n",
       "                                                                            \n",
       " [1,] . . .        .        .        .         .        .        2.9902939 .\n",
       " [2,] . . .        .        .        .         .        .        .         .\n",
       " [3,] . . .        .        .        .         .        .        .         .\n",
       " [4,] . . .        .        .        .         .        .        .         .\n",
       " [5,] . . .        .        .        .         .        .        2.9349327 .\n",
       " [6,] . . 1.130476 1.087975 1.056641 0.7904304 1.256202 .        0.8824317 .\n",
       " [7,] . . .        .        .        .         .        .        .         .\n",
       " [8,] . . .        .        .        .         .        .        .         .\n",
       " [9,] . . 2.641712 .        .        .         .        2.138465 .         .\n",
       "[10,] . . .        .        .        .         .        .        .         ."
      ]
     },
     "metadata": {},
     "output_type": "display_data"
    }
   ],
   "source": [
    "mat_norm[1:10,1:10]"
   ]
  },
  {
   "cell_type": "code",
   "execution_count": 10,
   "id": "excellent-gateway",
   "metadata": {},
   "outputs": [
    {
     "data": {
      "text/plain": [
       "NULL"
      ]
     },
     "metadata": {},
     "output_type": "display_data"
    }
   ],
   "source": [
    "# save\n",
    "writeMM(obj = mat_norm, file=\"/nfs/team205/heart/anndata_objects/Foetal/multiome_ATAC/ArchR/project_output/PeakMatrix/matrix_tfidf.mtx\")"
   ]
  },
  {
   "cell_type": "code",
   "execution_count": null,
   "id": "hispanic-advertising",
   "metadata": {},
   "outputs": [],
   "source": []
  },
  {
   "cell_type": "code",
   "execution_count": null,
   "id": "dedicated-moscow",
   "metadata": {},
   "outputs": [],
   "source": [
    "# at terminal\n",
    "gzip -v /nfs/team205/heart/anndata_objects/Foetal/multiome_ATAC/ArchR/project_output/PeakMatrix/matrix_tfidf.mtx"
   ]
  },
  {
   "cell_type": "code",
   "execution_count": null,
   "id": "victorian-tunisia",
   "metadata": {},
   "outputs": [],
   "source": []
  },
  {
   "cell_type": "code",
   "execution_count": null,
   "id": "cathedral-hanging",
   "metadata": {},
   "outputs": [],
   "source": []
  }
 ],
 "metadata": {
  "kernelspec": {
   "display_name": "R",
   "language": "R",
   "name": "r"
  },
  "language_info": {
   "codemirror_mode": "r",
   "file_extension": ".r",
   "mimetype": "text/x-r-source",
   "name": "R",
   "pygments_lexer": "r",
   "version": "4.1.2"
  }
 },
 "nbformat": 4,
 "nbformat_minor": 5
}
