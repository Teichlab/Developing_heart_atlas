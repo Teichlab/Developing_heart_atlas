{
 "cells": [
  {
   "cell_type": "markdown",
   "id": "ede2476f-dd96-4230-8b9b-674f7ed3ac44",
   "metadata": {},
   "source": [
    "* Only showing the result of Visium OCT \n",
    "* Since the thickness of Visium OCT (5um) and FFPE (10um) are different"
   ]
  },
  {
   "cell_type": "markdown",
   "id": "greenhouse-lesson",
   "metadata": {},
   "source": [
    "# Import modules"
   ]
  },
  {
   "cell_type": "code",
   "execution_count": 55,
   "id": "composed-directory",
   "metadata": {
    "tags": []
   },
   "outputs": [],
   "source": [
    "import os\n",
    "import numpy as np\n",
    "import scanpy as sc\n",
    "import anndata\n",
    "import pandas as pd\n",
    "import matplotlib as mpl\n",
    "# enables correct plotting of text\n",
    "mpl.rcParams['pdf.fonttype'] = 42\n",
    "mpl.rcParams['ps.fonttype'] = 42 \n",
    "import matplotlib.pyplot as plt\n",
    "import seaborn as sns\n",
    "\n",
    "import squidpy as sq\n",
    "\n",
    "import warnings\n",
    "warnings.simplefilter(action='ignore', category=FutureWarning)\n",
    "warnings.simplefilter(\"ignore\", UserWarning)"
   ]
  },
  {
   "cell_type": "code",
   "execution_count": 2,
   "id": "brown-helmet",
   "metadata": {},
   "outputs": [
    {
     "data": {
      "text/html": [
       "<details>\n",
       "<summary>Click to view session information</summary>\n",
       "<pre>\n",
       "-----\n",
       "anndata             0.9.2\n",
       "matplotlib          3.7.2\n",
       "numpy               1.22.4\n",
       "pandas              2.0.3\n",
       "scanpy              1.9.4\n",
       "seaborn             0.12.2\n",
       "session_info        1.0.0\n",
       "squidpy             1.2.3\n",
       "-----\n",
       "</pre>\n",
       "<details>\n",
       "<summary>Click to view modules imported as dependencies</summary>\n",
       "<pre>\n",
       "PIL                 10.0.0\n",
       "asciitree           NA\n",
       "asttokens           NA\n",
       "backcall            0.2.0\n",
       "cloudpickle         2.2.1\n",
       "comm                0.1.4\n",
       "cycler              0.10.0\n",
       "cython_runtime      NA\n",
       "dask                2023.5.0\n",
       "dask_image          2023.03.0\n",
       "dateutil            2.8.2\n",
       "debugpy             1.7.0\n",
       "decorator           5.1.1\n",
       "docrep              0.3.2\n",
       "entrypoints         0.4\n",
       "executing           1.2.0\n",
       "fasteners           0.18\n",
       "h5py                3.9.0\n",
       "igraph              0.10.6\n",
       "imagecodecs         2023.3.16\n",
       "imageio             2.31.3\n",
       "importlib_metadata  NA\n",
       "importlib_resources NA\n",
       "ipykernel           6.25.2\n",
       "jedi                0.19.0\n",
       "jinja2              3.1.2\n",
       "joblib              1.3.2\n",
       "kiwisolver          1.4.5\n",
       "lazy_loader         NA\n",
       "leidenalg           0.10.1\n",
       "llvmlite            0.38.1\n",
       "markupsafe          2.1.3\n",
       "matplotlib_scalebar 0.8.1\n",
       "mpl_toolkits        NA\n",
       "mpmath              1.3.0\n",
       "natsort             8.4.0\n",
       "networkx            3.1\n",
       "numba               0.55.2\n",
       "numcodecs           0.11.0\n",
       "nvfuser             NA\n",
       "packaging           23.1\n",
       "parso               0.8.3\n",
       "patsy               0.5.3\n",
       "pexpect             4.8.0\n",
       "pickleshare         0.7.5\n",
       "pkg_resources       NA\n",
       "platformdirs        3.10.0\n",
       "prompt_toolkit      3.0.39\n",
       "psutil              5.9.5\n",
       "ptyprocess          0.7.0\n",
       "pure_eval           0.2.2\n",
       "pydev_ipython       NA\n",
       "pydevconsole        NA\n",
       "pydevd              2.9.5\n",
       "pydevd_file_utils   NA\n",
       "pydevd_plugins      NA\n",
       "pydevd_tracing      NA\n",
       "pygments            2.16.1\n",
       "pyparsing           3.0.9\n",
       "pytz                2023.3.post1\n",
       "pywt                1.4.1\n",
       "scipy               1.10.1\n",
       "six                 1.16.0\n",
       "skimage             0.21.0\n",
       "sklearn             1.3.0\n",
       "stack_data          0.6.2\n",
       "statsmodels         0.14.0\n",
       "sympy               1.12\n",
       "texttable           1.6.7\n",
       "threadpoolctl       3.2.0\n",
       "tifffile            2023.7.10\n",
       "tlz                 0.12.0\n",
       "toolz               0.12.0\n",
       "torch               2.0.1+cu117\n",
       "tornado             6.3.3\n",
       "tqdm                4.66.1\n",
       "traitlets           5.9.0\n",
       "typing_extensions   NA\n",
       "validators          0.22.0\n",
       "wcwidth             0.2.6\n",
       "xarray              2023.1.0\n",
       "yaml                6.0.1\n",
       "zarr                2.16.1\n",
       "zipp                NA\n",
       "zmq                 25.1.1\n",
       "</pre>\n",
       "</details> <!-- seems like this ends pre, so might as well be explicit -->\n",
       "<pre>\n",
       "-----\n",
       "IPython             8.12.2\n",
       "jupyter_client      8.3.1\n",
       "jupyter_core        5.3.1\n",
       "-----\n",
       "Python 3.8.17 (default, Jul  5 2023, 21:04:15) [GCC 11.2.0]\n",
       "Linux-5.4.0-169-generic-x86_64-with-glibc2.17\n",
       "-----\n",
       "Session information updated at 2024-02-13 15:12\n",
       "</pre>\n",
       "</details>"
      ],
      "text/plain": [
       "<IPython.core.display.HTML object>"
      ]
     },
     "execution_count": 2,
     "metadata": {},
     "output_type": "execute_result"
    }
   ],
   "source": [
    "import session_info\n",
    "session_info.show()"
   ]
  },
  {
   "cell_type": "code",
   "execution_count": 51,
   "id": "domestic-ordering",
   "metadata": {
    "tags": []
   },
   "outputs": [],
   "source": [
    "sc.settings.set_figure_params(dpi=80,dpi_save=300)"
   ]
  },
  {
   "cell_type": "code",
   "execution_count": 52,
   "id": "realistic-retrieval",
   "metadata": {},
   "outputs": [],
   "source": [
    "import importlib.util\n",
    "import sys\n",
    "\n",
    "spec = importlib.util.spec_from_file_location(\"module.name\", \"/nfs/team205/kk18/function/python/utils.py\")\n",
    "utils = importlib.util.module_from_spec(spec)\n",
    "sys.modules[\"module.name\"] = utils\n",
    "spec.loader.exec_module(utils)\n",
    "\n",
    "spec = importlib.util.spec_from_file_location(\"module.name\", \"/nfs/team205/kk18/function/python/tissueaxis.py\")\n",
    "tissueaxis = importlib.util.module_from_spec(spec)\n",
    "sys.modules[\"module.name\"] = tissueaxis\n",
    "spec.loader.exec_module(tissueaxis)"
   ]
  },
  {
   "cell_type": "code",
   "execution_count": 53,
   "id": "gothic-exhibit",
   "metadata": {},
   "outputs": [],
   "source": [
    "figdir = '/nfs/team205/heart/fetal_ms_figures/raw_plots_kk'"
   ]
  },
  {
   "cell_type": "markdown",
   "id": "incorrect-alexandria",
   "metadata": {},
   "source": [
    "# Functions"
   ]
  },
  {
   "cell_type": "code",
   "execution_count": 5,
   "id": "endless-sponsorship",
   "metadata": {},
   "outputs": [],
   "source": [
    "# This function selects the data for multiple slides from the spatial anndata object.\n",
    "# Modified `select_slide` in cell2loc for multiple slides\n",
    "\n",
    "# @param adata: anndata object with multiple spatial experiments\n",
    "# @param s: list of selected slides\n",
    "# @param s_col: column in adata.obs listing experiment name for each location\n",
    "\n",
    "def select_multislide(adata, s, s_col='sample'):\n",
    "\n",
    "    slides = adata[adata.obs[s_col].isin(s), :]\n",
    "    s_keys = list(slides.uns['spatial'].keys())\n",
    "    \n",
    "    uns_dict = {}\n",
    "    for ss in s:\n",
    "        s_spatial=np.array(s_keys)[[ss in k for k in s_keys]][0]\n",
    "        uns_dict[s_spatial]=slides.uns['spatial'][s_spatial]\n",
    "    \n",
    "    slides.uns['spatial'] = uns_dict\n",
    "\n",
    "    return slides"
   ]
  },
  {
   "cell_type": "code",
   "execution_count": null,
   "id": "desirable-thumb",
   "metadata": {},
   "outputs": [],
   "source": []
  },
  {
   "cell_type": "markdown",
   "id": "false-cooper",
   "metadata": {},
   "source": [
    "# Read in adata"
   ]
  },
  {
   "cell_type": "code",
   "execution_count": 19,
   "id": "charming-trading",
   "metadata": {},
   "outputs": [
    {
     "name": "stdout",
     "output_type": "stream",
     "text": [
      "(14261, 33538)\n",
      "(6767, 33538)\n",
      "(11238, 33538)\n"
     ]
    }
   ],
   "source": [
    "adata_oct_healthy = sc.read_h5ad('/nfs/team205/heart/anndata_objects/Foetal/visium-OCT_foetal_raw.h5ad')\n",
    "print(adata_oct_healthy.shape)\n",
    "adata_oct_healthy_LV = sc.read_h5ad('/nfs/team205/heart/anndata_objects/Foetal/visium-OCT-LV_foetal_raw.h5ad')\n",
    "print(adata_oct_healthy_LV.shape)\n",
    "adata_oct_t21 = sc.read_h5ad('/nfs/team205/heart/anndata_objects/Foetal/visium-OCT-T21_foetal_raw.h5ad')\n",
    "print(adata_oct_t21.shape)"
   ]
  },
  {
   "cell_type": "code",
   "execution_count": 24,
   "id": "introductory-porter",
   "metadata": {},
   "outputs": [
    {
     "data": {
      "text/plain": [
       "status\n",
       "Healthy      21028\n",
       "Trisomy21    11238\n",
       "Name: count, dtype: int64"
      ]
     },
     "execution_count": 24,
     "metadata": {},
     "output_type": "execute_result"
    }
   ],
   "source": [
    "# concatenate oct adata\n",
    "adata_oct_healthy_LV.obs['status'] = 'Healthy'\n",
    "adata_oct_t21.obs['status'] = 'Trisomy21'\n",
    "\n",
    "adata_oct = adata_oct_healthy.concatenate(\n",
    "    [adata_oct_healthy_LV,adata_oct_t21],\n",
    "    batch_key=None,\n",
    "    index_unique=None,\n",
    "    join=\"inner\"\n",
    ")\n",
    "\n",
    "adata_oct.obs['status'].value_counts()"
   ]
  },
  {
   "cell_type": "code",
   "execution_count": null,
   "id": "developing-database",
   "metadata": {},
   "outputs": [],
   "source": []
  },
  {
   "cell_type": "markdown",
   "id": "chronic-motor",
   "metadata": {},
   "source": [
    "# Add axis"
   ]
  },
  {
   "cell_type": "code",
   "execution_count": 25,
   "id": "refined-boards",
   "metadata": {},
   "outputs": [],
   "source": [
    "# add\n",
    "oct_samples = list(set(adata_oct.obs['sample']))\n",
    "\n",
    "adata_oct.obs['transmural_axis'] = np.nan\n",
    "\n",
    "axis_files = os.listdir('/nfs/team205/heart/visium_axis/foetal/transmural_LV')\n",
    "for file in axis_files:\n",
    "    # read in\n",
    "    axis = pd.read_csv(f'/nfs/team205/heart/visium_axis/foetal/transmural_LV/{file}',index_col=0)\n",
    "    # add to anndata\n",
    "    if file.split('.csv')[0] in oct_samples:\n",
    "        adata_oct.obs.loc[axis.index,'transmural_axis'] = axis.copy()\n",
    "\n",
    "# select spots with axis\n",
    "adata_oct = adata_oct[adata_oct.obs['transmural_axis'].isna()==False]"
   ]
  },
  {
   "cell_type": "code",
   "execution_count": 26,
   "id": "little-subsection",
   "metadata": {},
   "outputs": [],
   "source": [
    "# remove nuclei segmentation failed samples: 20PCW samples\n",
    "adata_oct = adata_oct[adata_oct.obs['sample'].isin(['HCAHeartST13162330','HCAHeartST13162331'])==False]"
   ]
  },
  {
   "cell_type": "code",
   "execution_count": null,
   "id": "aboriginal-tamil",
   "metadata": {},
   "outputs": [],
   "source": []
  },
  {
   "cell_type": "markdown",
   "id": "central-architecture",
   "metadata": {},
   "source": [
    "# Load calculated image features and add to anndata"
   ]
  },
  {
   "cell_type": "code",
   "execution_count": 27,
   "id": "digital-stone",
   "metadata": {},
   "outputs": [
    {
     "name": "stdout",
     "output_type": "stream",
     "text": [
      "BHF_F_Hea13295830_img_features.csv   HCAHeartST11605167_img_features.csv\n",
      "BHF_F_Hea13295831_img_features.csv   HCAHeartST11605168_img_features.csv\n",
      "HCAHeartST10317184_img_features.csv  HCAHeartST13162330_img_features.csv\n",
      "HCAHeartST10317185_img_features.csv  HCAHeartST13162331_img_features.csv\n",
      "HCAHeartST10317186_img_features.csv  HCAHeartST13162336_img_features.csv\n",
      "HCAHeartST11605165_img_features.csv\n"
     ]
    }
   ],
   "source": [
    "!ls /nfs/team205/heart/visium_axis/foetal/nuclei_segmentation/calculated_img_features"
   ]
  },
  {
   "cell_type": "code",
   "execution_count": 28,
   "id": "sitting-buffer",
   "metadata": {},
   "outputs": [
    {
     "data": {
      "text/plain": [
       "11"
      ]
     },
     "execution_count": 28,
     "metadata": {},
     "output_type": "execute_result"
    }
   ],
   "source": [
    "path_to_calculated_img_features = '/nfs/team205/heart/visium_axis/foetal/nuclei_segmentation/calculated_img_features'\n",
    "img_feature_files = os.listdir(path_to_calculated_img_features)\n",
    "len(img_feature_files)"
   ]
  },
  {
   "cell_type": "code",
   "execution_count": 29,
   "id": "textile-citation",
   "metadata": {},
   "outputs": [
    {
     "name": "stdout",
     "output_type": "stream",
     "text": [
      "True\n"
     ]
    }
   ],
   "source": [
    "for file in img_feature_files:\n",
    "    # read in\n",
    "    features = pd.read_csv(f'{path_to_calculated_img_features}/{file}',index_col=0)\n",
    "    # add\n",
    "    if file.split('_img')[0] in ['BHF_F_Hea13295830','BHF_F_Hea13295831']:\n",
    "        continue\n",
    "    else:\n",
    "        cell_ids = list(set(features.index).intersection(adata_oct.obs_names))\n",
    "        adata_oct.obs.loc[cell_ids,features.columns] = features\n",
    "\n",
    "# checking whether all cells have feature\n",
    "print(sum(adata_oct.obs['segmentation_label'].isna())==0)"
   ]
  },
  {
   "cell_type": "code",
   "execution_count": 30,
   "id": "eight-honey",
   "metadata": {},
   "outputs": [
    {
     "data": {
      "text/html": [
       "<div>\n",
       "<style scoped>\n",
       "    .dataframe tbody tr th:only-of-type {\n",
       "        vertical-align: middle;\n",
       "    }\n",
       "\n",
       "    .dataframe tbody tr th {\n",
       "        vertical-align: top;\n",
       "    }\n",
       "\n",
       "    .dataframe thead th {\n",
       "        text-align: right;\n",
       "    }\n",
       "</style>\n",
       "<table border=\"1\" class=\"dataframe\">\n",
       "  <thead>\n",
       "    <tr style=\"text-align: right;\">\n",
       "      <th></th>\n",
       "      <th>segmentation_label</th>\n",
       "      <th>segmentation_area_mean</th>\n",
       "      <th>segmentation_area_std</th>\n",
       "      <th>segmentation_ch-1_mean_intensity_mean</th>\n",
       "      <th>segmentation_ch-1_mean_intensity_std</th>\n",
       "      <th>segmentation_ch-2_mean_intensity_mean</th>\n",
       "      <th>segmentation_ch-2_mean_intensity_std</th>\n",
       "    </tr>\n",
       "  </thead>\n",
       "  <tbody>\n",
       "    <tr>\n",
       "      <th>HCAHeartST13162336_AAACAAGTATCTCCCA-1</th>\n",
       "      <td>32</td>\n",
       "      <td>49.656250</td>\n",
       "      <td>37.100884</td>\n",
       "      <td>82.469529</td>\n",
       "      <td>4.829579</td>\n",
       "      <td>124.669052</td>\n",
       "      <td>8.505341</td>\n",
       "    </tr>\n",
       "    <tr>\n",
       "      <th>HCAHeartST13162336_AAACAATCTACTAGCA-1</th>\n",
       "      <td>20</td>\n",
       "      <td>64.200000</td>\n",
       "      <td>40.419797</td>\n",
       "      <td>84.422633</td>\n",
       "      <td>6.064147</td>\n",
       "      <td>129.005350</td>\n",
       "      <td>8.519545</td>\n",
       "    </tr>\n",
       "    <tr>\n",
       "      <th>HCAHeartST13162336_AAACACCAATAACTGC-1</th>\n",
       "      <td>16</td>\n",
       "      <td>50.812500</td>\n",
       "      <td>32.027759</td>\n",
       "      <td>89.095262</td>\n",
       "      <td>7.910895</td>\n",
       "      <td>132.315610</td>\n",
       "      <td>12.634399</td>\n",
       "    </tr>\n",
       "    <tr>\n",
       "      <th>HCAHeartST13162336_AAACAGCTTTCAGAAG-1</th>\n",
       "      <td>27</td>\n",
       "      <td>49.185185</td>\n",
       "      <td>23.258669</td>\n",
       "      <td>90.293684</td>\n",
       "      <td>5.130572</td>\n",
       "      <td>135.640885</td>\n",
       "      <td>7.772864</td>\n",
       "    </tr>\n",
       "    <tr>\n",
       "      <th>HCAHeartST13162336_AAACAGGGTCTATATT-1</th>\n",
       "      <td>22</td>\n",
       "      <td>50.045455</td>\n",
       "      <td>29.329596</td>\n",
       "      <td>101.541802</td>\n",
       "      <td>8.170976</td>\n",
       "      <td>146.678556</td>\n",
       "      <td>9.380520</td>\n",
       "    </tr>\n",
       "  </tbody>\n",
       "</table>\n",
       "</div>"
      ],
      "text/plain": [
       "                                       segmentation_label  \\\n",
       "HCAHeartST13162336_AAACAAGTATCTCCCA-1                  32   \n",
       "HCAHeartST13162336_AAACAATCTACTAGCA-1                  20   \n",
       "HCAHeartST13162336_AAACACCAATAACTGC-1                  16   \n",
       "HCAHeartST13162336_AAACAGCTTTCAGAAG-1                  27   \n",
       "HCAHeartST13162336_AAACAGGGTCTATATT-1                  22   \n",
       "\n",
       "                                       segmentation_area_mean  \\\n",
       "HCAHeartST13162336_AAACAAGTATCTCCCA-1               49.656250   \n",
       "HCAHeartST13162336_AAACAATCTACTAGCA-1               64.200000   \n",
       "HCAHeartST13162336_AAACACCAATAACTGC-1               50.812500   \n",
       "HCAHeartST13162336_AAACAGCTTTCAGAAG-1               49.185185   \n",
       "HCAHeartST13162336_AAACAGGGTCTATATT-1               50.045455   \n",
       "\n",
       "                                       segmentation_area_std  \\\n",
       "HCAHeartST13162336_AAACAAGTATCTCCCA-1              37.100884   \n",
       "HCAHeartST13162336_AAACAATCTACTAGCA-1              40.419797   \n",
       "HCAHeartST13162336_AAACACCAATAACTGC-1              32.027759   \n",
       "HCAHeartST13162336_AAACAGCTTTCAGAAG-1              23.258669   \n",
       "HCAHeartST13162336_AAACAGGGTCTATATT-1              29.329596   \n",
       "\n",
       "                                       segmentation_ch-1_mean_intensity_mean  \\\n",
       "HCAHeartST13162336_AAACAAGTATCTCCCA-1                              82.469529   \n",
       "HCAHeartST13162336_AAACAATCTACTAGCA-1                              84.422633   \n",
       "HCAHeartST13162336_AAACACCAATAACTGC-1                              89.095262   \n",
       "HCAHeartST13162336_AAACAGCTTTCAGAAG-1                              90.293684   \n",
       "HCAHeartST13162336_AAACAGGGTCTATATT-1                             101.541802   \n",
       "\n",
       "                                       segmentation_ch-1_mean_intensity_std  \\\n",
       "HCAHeartST13162336_AAACAAGTATCTCCCA-1                              4.829579   \n",
       "HCAHeartST13162336_AAACAATCTACTAGCA-1                              6.064147   \n",
       "HCAHeartST13162336_AAACACCAATAACTGC-1                              7.910895   \n",
       "HCAHeartST13162336_AAACAGCTTTCAGAAG-1                              5.130572   \n",
       "HCAHeartST13162336_AAACAGGGTCTATATT-1                              8.170976   \n",
       "\n",
       "                                       segmentation_ch-2_mean_intensity_mean  \\\n",
       "HCAHeartST13162336_AAACAAGTATCTCCCA-1                             124.669052   \n",
       "HCAHeartST13162336_AAACAATCTACTAGCA-1                             129.005350   \n",
       "HCAHeartST13162336_AAACACCAATAACTGC-1                             132.315610   \n",
       "HCAHeartST13162336_AAACAGCTTTCAGAAG-1                             135.640885   \n",
       "HCAHeartST13162336_AAACAGGGTCTATATT-1                             146.678556   \n",
       "\n",
       "                                       segmentation_ch-2_mean_intensity_std  \n",
       "HCAHeartST13162336_AAACAAGTATCTCCCA-1                              8.505341  \n",
       "HCAHeartST13162336_AAACAATCTACTAGCA-1                              8.519545  \n",
       "HCAHeartST13162336_AAACACCAATAACTGC-1                             12.634399  \n",
       "HCAHeartST13162336_AAACAGCTTTCAGAAG-1                              7.772864  \n",
       "HCAHeartST13162336_AAACAGGGTCTATATT-1                              9.380520  "
      ]
     },
     "execution_count": 30,
     "metadata": {},
     "output_type": "execute_result"
    }
   ],
   "source": [
    "features.head()"
   ]
  },
  {
   "cell_type": "code",
   "execution_count": 31,
   "id": "german-probability",
   "metadata": {},
   "outputs": [
    {
     "data": {
      "text/plain": [
       "<Axes: >"
      ]
     },
     "execution_count": 31,
     "metadata": {},
     "output_type": "execute_result"
    },
    {
     "data": {
      "image/png": "[encoded data removed]",
      "text/plain": [
       "<Figure size 540x240 with 1 Axes>"
      ]
     },
     "metadata": {
      "image/png": {
       "height": 240,
       "width": 501
      }
     },
     "output_type": "display_data"
    }
   ],
   "source": [
    "plt.rcParams['figure.figsize'] = 4.5,2\n",
    "adata_oct.obs['segmentation_label'].hist(bins=100)"
   ]
  },
  {
   "cell_type": "code",
   "execution_count": null,
   "id": "fabulous-buyer",
   "metadata": {},
   "outputs": [],
   "source": [
    "## remove most outer and inner bins, since those are not myocardium\n",
    "# ad = ad[ad.obs[\"transmural_axis_bin\"]!=ad.obs['transmural_axis_bin'].max()]\n",
    "# ad = ad[ad.obs[\"transmural_axis_bin\"]!=ad.obs['transmural_axis_bin'].min()]\n",
    "\n",
    "# multiple by two for the FFPE samples since the thickness is 10um whereas OCT samples are 5um\n",
    "# cell_id = ad.obs_names[ad.obs['cell2loc-map_group']=='16PCW_FFPE']\n",
    "# ad.obs.loc[cell_id,'segmentation_label'] = ad.obs.loc[cell_id,'segmentation_label']*2"
   ]
  },
  {
   "cell_type": "markdown",
   "id": "leading-hunter",
   "metadata": {},
   "source": [
    "# Plot"
   ]
  },
  {
   "cell_type": "code",
   "execution_count": 39,
   "id": "11c9658a-8e80-4acf-a3fe-f8fdd2f8750e",
   "metadata": {},
   "outputs": [
    {
     "data": {
      "text/plain": [
       "cell2loc-map_group\n",
       "16PCW_FFPE    4605\n",
       "T21_13PCW     1940\n",
       "13PCW         1837\n",
       "7PCW           341\n",
       "5PCW           293\n",
       "Name: count, dtype: int64"
      ]
     },
     "execution_count": 39,
     "metadata": {},
     "output_type": "execute_result"
    }
   ],
   "source": [
    "adata_all.obs['cell2loc-map_group'].value_counts()"
   ]
  },
  {
   "cell_type": "code",
   "execution_count": 42,
   "id": "classical-outreach",
   "metadata": {},
   "outputs": [
    {
     "data": {
      "image/png": "[encoded data removed]",
      "text/plain": [
       "<Figure size 600x480 with 4 Axes>"
      ]
     },
     "metadata": {
      "image/png": {
       "height": 249,
       "width": 698
      }
     },
     "output_type": "display_data"
    }
   ],
   "source": [
    "tissueaxis.plot_axis_split(adata_all,\n",
    "                           feature_to_plot='segmentation_label',\n",
    "                           feature_type='obs',\n",
    "                           min_max_scale=False,\n",
    "                           splitby='cell2loc-map_group',\n",
    "                           groups_order=[ '5PCW', '7PCW','13PCW','T21_13PCW'],\n",
    "                           figsize=(5, 4),\n",
    "                           cbar_pos=(0, 0.7, 0.05, 0.18),\n",
    "                           cmap='Reds',\n",
    "                           # save=f'{figdir}/tm-axis_{features_to_plot}_per-week.pdf'\n",
    "                          )"
   ]
  },
  {
   "cell_type": "code",
   "execution_count": 56,
   "id": "16440382-cb82-48ef-a035-8e21e4aa8086",
   "metadata": {},
   "outputs": [
    {
     "data": {
      "image/png": "[encoded data removed]",
      "text/plain": [
       "<Figure size 400x260 with 4 Axes>"
      ]
     },
     "metadata": {
      "image/png": {
       "height": 109,
       "width": 468
      }
     },
     "output_type": "display_data"
    }
   ],
   "source": [
    "tissueaxis.plot_axis_split(adata_all,\n",
    "                           feature_to_plot='segmentation_label',\n",
    "                           feature_type='obs',\n",
    "                           min_max_scale=False,\n",
    "                           splitby='cell2loc-map_group',\n",
    "                           groups_order=[ '5PCW', '7PCW','13PCW'],\n",
    "                           figsize=(5, 3.25),\n",
    "                           cbar_pos=(0, 0.7, 0.03, 0.18),\n",
    "                           cmap='Reds',\n",
    "                           save=f'{figdir}/tm-axis_nuclei-segmentation_per-week.pdf'\n",
    "                          )"
   ]
  },
  {
   "cell_type": "code",
   "execution_count": null,
   "id": "fatty-dancing",
   "metadata": {},
   "outputs": [],
   "source": []
  }
 ],
 "metadata": {
  "kernelspec": {
   "display_name": "squidpy",
   "language": "python",
   "name": "squidpy"
  },
  "language_info": {
   "codemirror_mode": {
    "name": "ipython",
    "version": 3
   },
   "file_extension": ".py",
   "mimetype": "text/x-python",
   "name": "python",
   "nbconvert_exporter": "python",
   "pygments_lexer": "ipython3",
   "version": "3.8.17"
  }
 },
 "nbformat": 4,
 "nbformat_minor": 5
}
