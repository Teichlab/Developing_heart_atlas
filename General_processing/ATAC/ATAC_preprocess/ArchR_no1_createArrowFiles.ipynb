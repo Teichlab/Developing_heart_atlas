{
 "cells": [
  {
   "cell_type": "code",
   "execution_count": 3,
   "id": "injured-battlefield",
   "metadata": {},
   "outputs": [],
   "source": [
    "library(ArchR)\n",
    "library(tidyverse)"
   ]
  },
  {
   "cell_type": "code",
   "execution_count": 4,
   "id": "unlikely-mambo",
   "metadata": {},
   "outputs": [
    {
     "data": {
      "text/html": [
       "'/nfs/team205/heart/anndata_objects/Foetal/multiome_ATAC/ArchR'"
      ],
      "text/latex": [
       "'/nfs/team205/heart/anndata\\_objects/Foetal/multiome\\_ATAC/ArchR'"
      ],
      "text/markdown": [
       "'/nfs/team205/heart/anndata_objects/Foetal/multiome_ATAC/ArchR'"
      ],
      "text/plain": [
       "[1] \"/nfs/team205/heart/anndata_objects/Foetal/multiome_ATAC/ArchR\""
      ]
     },
     "metadata": {},
     "output_type": "display_data"
    }
   ],
   "source": [
    "getwd()"
   ]
  },
  {
   "cell_type": "code",
   "execution_count": 5,
   "id": "sufficient-option",
   "metadata": {},
   "outputs": [
    {
     "data": {
      "text/html": [
       "40"
      ],
      "text/latex": [
       "40"
      ],
      "text/markdown": [
       "40"
      ],
      "text/plain": [
       "[1] 40"
      ]
     },
     "metadata": {},
     "output_type": "display_data"
    },
    {
     "data": {
      "text/html": [
       "<style>\n",
       ".dl-inline {width: auto; margin:0; padding: 0}\n",
       ".dl-inline>dt, .dl-inline>dd {float: none; width: auto; display: inline-block}\n",
       ".dl-inline>dt::after {content: \":\\0020\"; padding-right: .5ex}\n",
       ".dl-inline>dt:not(:first-of-type) {padding-left: .5ex}\n",
       "</style><dl class=dl-inline><dt>BHF_F_Hea11064670_BHF_F_Hea11031823</dt><dd>'/nfs/team205/heart/mapped/cellranger-arc200/BHF_F_Hea11064670_BHF_F_Hea11031823/atac_fragments.tsv.gz'</dd><dt>BHF_F_Hea11064671_BHF_F_Hea11031824</dt><dd>'/nfs/team205/heart/mapped/cellranger-arc200/BHF_F_Hea11064671_BHF_F_Hea11031824/atac_fragments.tsv.gz'</dd><dt>BHF_F_Hea11064672_BHF_F_Hea11031825</dt><dd>'/nfs/team205/heart/mapped/cellranger-arc200/BHF_F_Hea11064672_BHF_F_Hea11031825/atac_fragments.tsv.gz'</dd><dt>BHF_F_Hea11933664_BHF_F_Hea11596617</dt><dd>'/nfs/team205/heart/mapped/cellranger-arc200/BHF_F_Hea11933664_BHF_F_Hea11596617/atac_fragments.tsv.gz'</dd><dt>BHF_F_Hea11933665_BHF_F_Hea11596618</dt><dd>'/nfs/team205/heart/mapped/cellranger-arc200/BHF_F_Hea11933665_BHF_F_Hea11596618/atac_fragments.tsv.gz'</dd><dt>BHF_F_Hea11933666_BHF_F_Hea11596619</dt><dd>'/nfs/team205/heart/mapped/cellranger-arc200/BHF_F_Hea11933666_BHF_F_Hea11596619/atac_fragments.tsv.gz'</dd><dt>BHF_F_Hea11933667_BHF_F_Hea11596620</dt><dd>'/nfs/team205/heart/mapped/cellranger-arc200/BHF_F_Hea11933667_BHF_F_Hea11596620/atac_fragments.tsv.gz'</dd><dt>BHF_F_Hea11933668_BHF_F_Hea11596621</dt><dd>'/nfs/team205/heart/mapped/cellranger-arc200/BHF_F_Hea11933668_BHF_F_Hea11596621/atac_fragments.tsv.gz'</dd><dt>BHF_F_Hea11933669_BHF_F_Hea11596622</dt><dd>'/nfs/team205/heart/mapped/cellranger-arc200/BHF_F_Hea11933669_BHF_F_Hea11596622/atac_fragments.tsv.gz'</dd><dt>BHF_F_Hea11933670_BHF_F_Hea11596623</dt><dd>'/nfs/team205/heart/mapped/cellranger-arc200/BHF_F_Hea11933670_BHF_F_Hea11596623/atac_fragments.tsv.gz'</dd><dt>BHF_F_Hea11933671_BHF_F_Hea11596624</dt><dd>'/nfs/team205/heart/mapped/cellranger-arc200/BHF_F_Hea11933671_BHF_F_Hea11596624/atac_fragments.tsv.gz'</dd><dt>BHF_F_Hea11933672_BHF_F_Hea11596625</dt><dd>'/nfs/team205/heart/mapped/cellranger-arc200/BHF_F_Hea11933672_BHF_F_Hea11596625/atac_fragments.tsv.gz'</dd><dt>BHF_F_Hea11933673_BHF_F_Hea11596626</dt><dd>'/nfs/team205/heart/mapped/cellranger-arc200/BHF_F_Hea11933673_BHF_F_Hea11596626/atac_fragments.tsv.gz'</dd><dt>BHF_F_Hea11933674_BHF_F_Hea11596627</dt><dd>'/nfs/team205/heart/mapped/cellranger-arc200/BHF_F_Hea11933674_BHF_F_Hea11596627/atac_fragments.tsv.gz'</dd><dt>BHF_F_Hea11933675_BHF_F_Hea11596628</dt><dd>'/nfs/team205/heart/mapped/cellranger-arc200/BHF_F_Hea11933675_BHF_F_Hea11596628/atac_fragments.tsv.gz'</dd><dt>BHF_F_Hea13188316_BHF_F_Hea13187618</dt><dd>'/nfs/team205/heart/mapped/cellranger-arc200/BHF_F_Hea13188316_BHF_F_Hea13187618/atac_fragments.tsv.gz'</dd><dt>BHF_F_Hea13188317_BHF_F_Hea13187619</dt><dd>'/nfs/team205/heart/mapped/cellranger-arc200/BHF_F_Hea13188317_BHF_F_Hea13187619/atac_fragments.tsv.gz'</dd><dt>BHF_F_Hea13188318_BHF_F_Hea13187620</dt><dd>'/nfs/team205/heart/mapped/cellranger-arc200/BHF_F_Hea13188318_BHF_F_Hea13187620/atac_fragments.tsv.gz'</dd><dt>BHF_F_Hea13188324_BHF_F_Hea13187626</dt><dd>'/nfs/team205/heart/mapped/cellranger-arc200/BHF_F_Hea13188324_BHF_F_Hea13187626/atac_fragments.tsv.gz'</dd><dt>BHF_F_Hea13188328_BHF_F_Hea13187630</dt><dd>'/nfs/team205/heart/mapped/cellranger-arc200/BHF_F_Hea13188328_BHF_F_Hea13187630/atac_fragments.tsv.gz'</dd><dt>BHF_F_Hea13188329_BHF_F_Hea13187631</dt><dd>'/nfs/team205/heart/mapped/cellranger-arc200/BHF_F_Hea13188329_BHF_F_Hea13187631/atac_fragments.tsv.gz'</dd><dt>BHF_F_Hea13188330_BHF_F_Hea13187632</dt><dd>'/nfs/team205/heart/mapped/cellranger-arc200/BHF_F_Hea13188330_BHF_F_Hea13187632/atac_fragments.tsv.gz'</dd><dt>BHF_F_Hea13168892_BHF_F_Hea13168508</dt><dd>'/nfs/team205/heart/mapped/cellranger-arc200/BHF_F_Hea13168892_BHF_F_Hea13168508/atac_fragments.tsv.gz'</dd><dt>BHF_F_Hea13168893_BHF_F_Hea13168509</dt><dd>'/nfs/team205/heart/mapped/cellranger-arc200/BHF_F_Hea13168893_BHF_F_Hea13168509/atac_fragments.tsv.gz'</dd><dt>BHF_F_Hea13168894_BHF_F_Hea13168510</dt><dd>'/nfs/team205/heart/mapped/cellranger-arc200/BHF_F_Hea13168894_BHF_F_Hea13168510/atac_fragments.tsv.gz'</dd><dt>BHF_F_Hea13168895_BHF_F_Hea13168511</dt><dd>'/nfs/team205/heart/mapped/cellranger-arc200/BHF_F_Hea13168895_BHF_F_Hea13168511/atac_fragments.tsv.gz'</dd><dt>BHF_F_Hea13168896_BHF_F_Hea13168512</dt><dd>'/nfs/team205/heart/mapped/cellranger-arc200/BHF_F_Hea13168896_BHF_F_Hea13168512/atac_fragments.tsv.gz'</dd><dt>BHF_F_Hea13168897_BHF_F_Hea13168513</dt><dd>'/nfs/team205/heart/mapped/cellranger-arc200/BHF_F_Hea13168897_BHF_F_Hea13168513/atac_fragments.tsv.gz'</dd><dt>BHF_F_Hea13168898_BHF_F_Hea13168514</dt><dd>'/nfs/team205/heart/mapped/cellranger-arc200/BHF_F_Hea13168898_BHF_F_Hea13168514/atac_fragments.tsv.gz'</dd><dt>BHF_F_Hea13168899_BHF_F_Hea13168515</dt><dd>'/nfs/team205/heart/mapped/cellranger-arc200/BHF_F_Hea13168899_BHF_F_Hea13168515/atac_fragments.tsv.gz'</dd><dt>7089STDY13216920_BHF_F_Hea13242527</dt><dd>'/nfs/team205/heart/mapped/cellranger-arc200/7089STDY13216920_BHF_F_Hea13242527/atac_fragments.tsv.gz'</dd><dt>7089STDY13216921_BHF_F_Hea13242528</dt><dd>'/nfs/team205/heart/mapped/cellranger-arc200/7089STDY13216921_BHF_F_Hea13242528/atac_fragments.tsv.gz'</dd><dt>7089STDY13216922_BHF_F_Hea13242529</dt><dd>'/nfs/team205/heart/mapped/cellranger-arc200/7089STDY13216922_BHF_F_Hea13242529/atac_fragments.tsv.gz'</dd><dt>7089STDY13216923_BHF_F_Hea13242530</dt><dd>'/nfs/team205/heart/mapped/cellranger-arc200/7089STDY13216923_BHF_F_Hea13242530/atac_fragments.tsv.gz'</dd><dt>7089STDY13216924_BHF_F_Hea13242531</dt><dd>'/nfs/team205/heart/mapped/cellranger-arc200/7089STDY13216924_BHF_F_Hea13242531/atac_fragments.tsv.gz'</dd><dt>7089STDY13216925_BHF_F_Hea13242532</dt><dd>'/nfs/team205/heart/mapped/cellranger-arc200/7089STDY13216925_BHF_F_Hea13242532/atac_fragments.tsv.gz'</dd><dt>7089STDY13216926_BHF_F_Hea13242533</dt><dd>'/nfs/team205/heart/mapped/cellranger-arc200/7089STDY13216926_BHF_F_Hea13242533/atac_fragments.tsv.gz'</dd><dt>7089STDY13216927_BHF_F_Hea13242534</dt><dd>'/nfs/team205/heart/mapped/cellranger-arc200/7089STDY13216927_BHF_F_Hea13242534/atac_fragments.tsv.gz'</dd><dt>HCAHeartST13386009_HCAHeartST13303419</dt><dd>'/nfs/team205/heart/mapped/cellranger-arc200/HCAHeartST13386009_HCAHeartST13303419/atac_fragments.tsv.gz'</dd><dt>HCAHeartST13386010_HCAHeartST13303420</dt><dd>'/nfs/team205/heart/mapped/cellranger-arc200/HCAHeartST13386010_HCAHeartST13303420/atac_fragments.tsv.gz'</dd></dl>\n"
      ],
      "text/latex": [
       "\\begin{description*}\n",
       "\\item[BHF\\textbackslash{}\\_F\\textbackslash{}\\_Hea11064670\\textbackslash{}\\_BHF\\textbackslash{}\\_F\\textbackslash{}\\_Hea11031823] '/nfs/team205/heart/mapped/cellranger-arc200/BHF\\_F\\_Hea11064670\\_BHF\\_F\\_Hea11031823/atac\\_fragments.tsv.gz'\n",
       "\\item[BHF\\textbackslash{}\\_F\\textbackslash{}\\_Hea11064671\\textbackslash{}\\_BHF\\textbackslash{}\\_F\\textbackslash{}\\_Hea11031824] '/nfs/team205/heart/mapped/cellranger-arc200/BHF\\_F\\_Hea11064671\\_BHF\\_F\\_Hea11031824/atac\\_fragments.tsv.gz'\n",
       "\\item[BHF\\textbackslash{}\\_F\\textbackslash{}\\_Hea11064672\\textbackslash{}\\_BHF\\textbackslash{}\\_F\\textbackslash{}\\_Hea11031825] '/nfs/team205/heart/mapped/cellranger-arc200/BHF\\_F\\_Hea11064672\\_BHF\\_F\\_Hea11031825/atac\\_fragments.tsv.gz'\n",
       "\\item[BHF\\textbackslash{}\\_F\\textbackslash{}\\_Hea11933664\\textbackslash{}\\_BHF\\textbackslash{}\\_F\\textbackslash{}\\_Hea11596617] '/nfs/team205/heart/mapped/cellranger-arc200/BHF\\_F\\_Hea11933664\\_BHF\\_F\\_Hea11596617/atac\\_fragments.tsv.gz'\n",
       "\\item[BHF\\textbackslash{}\\_F\\textbackslash{}\\_Hea11933665\\textbackslash{}\\_BHF\\textbackslash{}\\_F\\textbackslash{}\\_Hea11596618] '/nfs/team205/heart/mapped/cellranger-arc200/BHF\\_F\\_Hea11933665\\_BHF\\_F\\_Hea11596618/atac\\_fragments.tsv.gz'\n",
       "\\item[BHF\\textbackslash{}\\_F\\textbackslash{}\\_Hea11933666\\textbackslash{}\\_BHF\\textbackslash{}\\_F\\textbackslash{}\\_Hea11596619] '/nfs/team205/heart/mapped/cellranger-arc200/BHF\\_F\\_Hea11933666\\_BHF\\_F\\_Hea11596619/atac\\_fragments.tsv.gz'\n",
       "\\item[BHF\\textbackslash{}\\_F\\textbackslash{}\\_Hea11933667\\textbackslash{}\\_BHF\\textbackslash{}\\_F\\textbackslash{}\\_Hea11596620] '/nfs/team205/heart/mapped/cellranger-arc200/BHF\\_F\\_Hea11933667\\_BHF\\_F\\_Hea11596620/atac\\_fragments.tsv.gz'\n",
       "\\item[BHF\\textbackslash{}\\_F\\textbackslash{}\\_Hea11933668\\textbackslash{}\\_BHF\\textbackslash{}\\_F\\textbackslash{}\\_Hea11596621] '/nfs/team205/heart/mapped/cellranger-arc200/BHF\\_F\\_Hea11933668\\_BHF\\_F\\_Hea11596621/atac\\_fragments.tsv.gz'\n",
       "\\item[BHF\\textbackslash{}\\_F\\textbackslash{}\\_Hea11933669\\textbackslash{}\\_BHF\\textbackslash{}\\_F\\textbackslash{}\\_Hea11596622] '/nfs/team205/heart/mapped/cellranger-arc200/BHF\\_F\\_Hea11933669\\_BHF\\_F\\_Hea11596622/atac\\_fragments.tsv.gz'\n",
       "\\item[BHF\\textbackslash{}\\_F\\textbackslash{}\\_Hea11933670\\textbackslash{}\\_BHF\\textbackslash{}\\_F\\textbackslash{}\\_Hea11596623] '/nfs/team205/heart/mapped/cellranger-arc200/BHF\\_F\\_Hea11933670\\_BHF\\_F\\_Hea11596623/atac\\_fragments.tsv.gz'\n",
       "\\item[BHF\\textbackslash{}\\_F\\textbackslash{}\\_Hea11933671\\textbackslash{}\\_BHF\\textbackslash{}\\_F\\textbackslash{}\\_Hea11596624] '/nfs/team205/heart/mapped/cellranger-arc200/BHF\\_F\\_Hea11933671\\_BHF\\_F\\_Hea11596624/atac\\_fragments.tsv.gz'\n",
       "\\item[BHF\\textbackslash{}\\_F\\textbackslash{}\\_Hea11933672\\textbackslash{}\\_BHF\\textbackslash{}\\_F\\textbackslash{}\\_Hea11596625] '/nfs/team205/heart/mapped/cellranger-arc200/BHF\\_F\\_Hea11933672\\_BHF\\_F\\_Hea11596625/atac\\_fragments.tsv.gz'\n",
       "\\item[BHF\\textbackslash{}\\_F\\textbackslash{}\\_Hea11933673\\textbackslash{}\\_BHF\\textbackslash{}\\_F\\textbackslash{}\\_Hea11596626] '/nfs/team205/heart/mapped/cellranger-arc200/BHF\\_F\\_Hea11933673\\_BHF\\_F\\_Hea11596626/atac\\_fragments.tsv.gz'\n",
       "\\item[BHF\\textbackslash{}\\_F\\textbackslash{}\\_Hea11933674\\textbackslash{}\\_BHF\\textbackslash{}\\_F\\textbackslash{}\\_Hea11596627] '/nfs/team205/heart/mapped/cellranger-arc200/BHF\\_F\\_Hea11933674\\_BHF\\_F\\_Hea11596627/atac\\_fragments.tsv.gz'\n",
       "\\item[BHF\\textbackslash{}\\_F\\textbackslash{}\\_Hea11933675\\textbackslash{}\\_BHF\\textbackslash{}\\_F\\textbackslash{}\\_Hea11596628] '/nfs/team205/heart/mapped/cellranger-arc200/BHF\\_F\\_Hea11933675\\_BHF\\_F\\_Hea11596628/atac\\_fragments.tsv.gz'\n",
       "\\item[BHF\\textbackslash{}\\_F\\textbackslash{}\\_Hea13188316\\textbackslash{}\\_BHF\\textbackslash{}\\_F\\textbackslash{}\\_Hea13187618] '/nfs/team205/heart/mapped/cellranger-arc200/BHF\\_F\\_Hea13188316\\_BHF\\_F\\_Hea13187618/atac\\_fragments.tsv.gz'\n",
       "\\item[BHF\\textbackslash{}\\_F\\textbackslash{}\\_Hea13188317\\textbackslash{}\\_BHF\\textbackslash{}\\_F\\textbackslash{}\\_Hea13187619] '/nfs/team205/heart/mapped/cellranger-arc200/BHF\\_F\\_Hea13188317\\_BHF\\_F\\_Hea13187619/atac\\_fragments.tsv.gz'\n",
       "\\item[BHF\\textbackslash{}\\_F\\textbackslash{}\\_Hea13188318\\textbackslash{}\\_BHF\\textbackslash{}\\_F\\textbackslash{}\\_Hea13187620] '/nfs/team205/heart/mapped/cellranger-arc200/BHF\\_F\\_Hea13188318\\_BHF\\_F\\_Hea13187620/atac\\_fragments.tsv.gz'\n",
       "\\item[BHF\\textbackslash{}\\_F\\textbackslash{}\\_Hea13188324\\textbackslash{}\\_BHF\\textbackslash{}\\_F\\textbackslash{}\\_Hea13187626] '/nfs/team205/heart/mapped/cellranger-arc200/BHF\\_F\\_Hea13188324\\_BHF\\_F\\_Hea13187626/atac\\_fragments.tsv.gz'\n",
       "\\item[BHF\\textbackslash{}\\_F\\textbackslash{}\\_Hea13188328\\textbackslash{}\\_BHF\\textbackslash{}\\_F\\textbackslash{}\\_Hea13187630] '/nfs/team205/heart/mapped/cellranger-arc200/BHF\\_F\\_Hea13188328\\_BHF\\_F\\_Hea13187630/atac\\_fragments.tsv.gz'\n",
       "\\item[BHF\\textbackslash{}\\_F\\textbackslash{}\\_Hea13188329\\textbackslash{}\\_BHF\\textbackslash{}\\_F\\textbackslash{}\\_Hea13187631] '/nfs/team205/heart/mapped/cellranger-arc200/BHF\\_F\\_Hea13188329\\_BHF\\_F\\_Hea13187631/atac\\_fragments.tsv.gz'\n",
       "\\item[BHF\\textbackslash{}\\_F\\textbackslash{}\\_Hea13188330\\textbackslash{}\\_BHF\\textbackslash{}\\_F\\textbackslash{}\\_Hea13187632] '/nfs/team205/heart/mapped/cellranger-arc200/BHF\\_F\\_Hea13188330\\_BHF\\_F\\_Hea13187632/atac\\_fragments.tsv.gz'\n",
       "\\item[BHF\\textbackslash{}\\_F\\textbackslash{}\\_Hea13168892\\textbackslash{}\\_BHF\\textbackslash{}\\_F\\textbackslash{}\\_Hea13168508] '/nfs/team205/heart/mapped/cellranger-arc200/BHF\\_F\\_Hea13168892\\_BHF\\_F\\_Hea13168508/atac\\_fragments.tsv.gz'\n",
       "\\item[BHF\\textbackslash{}\\_F\\textbackslash{}\\_Hea13168893\\textbackslash{}\\_BHF\\textbackslash{}\\_F\\textbackslash{}\\_Hea13168509] '/nfs/team205/heart/mapped/cellranger-arc200/BHF\\_F\\_Hea13168893\\_BHF\\_F\\_Hea13168509/atac\\_fragments.tsv.gz'\n",
       "\\item[BHF\\textbackslash{}\\_F\\textbackslash{}\\_Hea13168894\\textbackslash{}\\_BHF\\textbackslash{}\\_F\\textbackslash{}\\_Hea13168510] '/nfs/team205/heart/mapped/cellranger-arc200/BHF\\_F\\_Hea13168894\\_BHF\\_F\\_Hea13168510/atac\\_fragments.tsv.gz'\n",
       "\\item[BHF\\textbackslash{}\\_F\\textbackslash{}\\_Hea13168895\\textbackslash{}\\_BHF\\textbackslash{}\\_F\\textbackslash{}\\_Hea13168511] '/nfs/team205/heart/mapped/cellranger-arc200/BHF\\_F\\_Hea13168895\\_BHF\\_F\\_Hea13168511/atac\\_fragments.tsv.gz'\n",
       "\\item[BHF\\textbackslash{}\\_F\\textbackslash{}\\_Hea13168896\\textbackslash{}\\_BHF\\textbackslash{}\\_F\\textbackslash{}\\_Hea13168512] '/nfs/team205/heart/mapped/cellranger-arc200/BHF\\_F\\_Hea13168896\\_BHF\\_F\\_Hea13168512/atac\\_fragments.tsv.gz'\n",
       "\\item[BHF\\textbackslash{}\\_F\\textbackslash{}\\_Hea13168897\\textbackslash{}\\_BHF\\textbackslash{}\\_F\\textbackslash{}\\_Hea13168513] '/nfs/team205/heart/mapped/cellranger-arc200/BHF\\_F\\_Hea13168897\\_BHF\\_F\\_Hea13168513/atac\\_fragments.tsv.gz'\n",
       "\\item[BHF\\textbackslash{}\\_F\\textbackslash{}\\_Hea13168898\\textbackslash{}\\_BHF\\textbackslash{}\\_F\\textbackslash{}\\_Hea13168514] '/nfs/team205/heart/mapped/cellranger-arc200/BHF\\_F\\_Hea13168898\\_BHF\\_F\\_Hea13168514/atac\\_fragments.tsv.gz'\n",
       "\\item[BHF\\textbackslash{}\\_F\\textbackslash{}\\_Hea13168899\\textbackslash{}\\_BHF\\textbackslash{}\\_F\\textbackslash{}\\_Hea13168515] '/nfs/team205/heart/mapped/cellranger-arc200/BHF\\_F\\_Hea13168899\\_BHF\\_F\\_Hea13168515/atac\\_fragments.tsv.gz'\n",
       "\\item[7089STDY13216920\\textbackslash{}\\_BHF\\textbackslash{}\\_F\\textbackslash{}\\_Hea13242527] '/nfs/team205/heart/mapped/cellranger-arc200/7089STDY13216920\\_BHF\\_F\\_Hea13242527/atac\\_fragments.tsv.gz'\n",
       "\\item[7089STDY13216921\\textbackslash{}\\_BHF\\textbackslash{}\\_F\\textbackslash{}\\_Hea13242528] '/nfs/team205/heart/mapped/cellranger-arc200/7089STDY13216921\\_BHF\\_F\\_Hea13242528/atac\\_fragments.tsv.gz'\n",
       "\\item[7089STDY13216922\\textbackslash{}\\_BHF\\textbackslash{}\\_F\\textbackslash{}\\_Hea13242529] '/nfs/team205/heart/mapped/cellranger-arc200/7089STDY13216922\\_BHF\\_F\\_Hea13242529/atac\\_fragments.tsv.gz'\n",
       "\\item[7089STDY13216923\\textbackslash{}\\_BHF\\textbackslash{}\\_F\\textbackslash{}\\_Hea13242530] '/nfs/team205/heart/mapped/cellranger-arc200/7089STDY13216923\\_BHF\\_F\\_Hea13242530/atac\\_fragments.tsv.gz'\n",
       "\\item[7089STDY13216924\\textbackslash{}\\_BHF\\textbackslash{}\\_F\\textbackslash{}\\_Hea13242531] '/nfs/team205/heart/mapped/cellranger-arc200/7089STDY13216924\\_BHF\\_F\\_Hea13242531/atac\\_fragments.tsv.gz'\n",
       "\\item[7089STDY13216925\\textbackslash{}\\_BHF\\textbackslash{}\\_F\\textbackslash{}\\_Hea13242532] '/nfs/team205/heart/mapped/cellranger-arc200/7089STDY13216925\\_BHF\\_F\\_Hea13242532/atac\\_fragments.tsv.gz'\n",
       "\\item[7089STDY13216926\\textbackslash{}\\_BHF\\textbackslash{}\\_F\\textbackslash{}\\_Hea13242533] '/nfs/team205/heart/mapped/cellranger-arc200/7089STDY13216926\\_BHF\\_F\\_Hea13242533/atac\\_fragments.tsv.gz'\n",
       "\\item[7089STDY13216927\\textbackslash{}\\_BHF\\textbackslash{}\\_F\\textbackslash{}\\_Hea13242534] '/nfs/team205/heart/mapped/cellranger-arc200/7089STDY13216927\\_BHF\\_F\\_Hea13242534/atac\\_fragments.tsv.gz'\n",
       "\\item[HCAHeartST13386009\\textbackslash{}\\_HCAHeartST13303419] '/nfs/team205/heart/mapped/cellranger-arc200/HCAHeartST13386009\\_HCAHeartST13303419/atac\\_fragments.tsv.gz'\n",
       "\\item[HCAHeartST13386010\\textbackslash{}\\_HCAHeartST13303420] '/nfs/team205/heart/mapped/cellranger-arc200/HCAHeartST13386010\\_HCAHeartST13303420/atac\\_fragments.tsv.gz'\n",
       "\\end{description*}\n"
      ],
      "text/markdown": [
       "BHF_F_Hea11064670_BHF_F_Hea11031823\n",
       ":   '/nfs/team205/heart/mapped/cellranger-arc200/BHF_F_Hea11064670_BHF_F_Hea11031823/atac_fragments.tsv.gz'BHF_F_Hea11064671_BHF_F_Hea11031824\n",
       ":   '/nfs/team205/heart/mapped/cellranger-arc200/BHF_F_Hea11064671_BHF_F_Hea11031824/atac_fragments.tsv.gz'BHF_F_Hea11064672_BHF_F_Hea11031825\n",
       ":   '/nfs/team205/heart/mapped/cellranger-arc200/BHF_F_Hea11064672_BHF_F_Hea11031825/atac_fragments.tsv.gz'BHF_F_Hea11933664_BHF_F_Hea11596617\n",
       ":   '/nfs/team205/heart/mapped/cellranger-arc200/BHF_F_Hea11933664_BHF_F_Hea11596617/atac_fragments.tsv.gz'BHF_F_Hea11933665_BHF_F_Hea11596618\n",
       ":   '/nfs/team205/heart/mapped/cellranger-arc200/BHF_F_Hea11933665_BHF_F_Hea11596618/atac_fragments.tsv.gz'BHF_F_Hea11933666_BHF_F_Hea11596619\n",
       ":   '/nfs/team205/heart/mapped/cellranger-arc200/BHF_F_Hea11933666_BHF_F_Hea11596619/atac_fragments.tsv.gz'BHF_F_Hea11933667_BHF_F_Hea11596620\n",
       ":   '/nfs/team205/heart/mapped/cellranger-arc200/BHF_F_Hea11933667_BHF_F_Hea11596620/atac_fragments.tsv.gz'BHF_F_Hea11933668_BHF_F_Hea11596621\n",
       ":   '/nfs/team205/heart/mapped/cellranger-arc200/BHF_F_Hea11933668_BHF_F_Hea11596621/atac_fragments.tsv.gz'BHF_F_Hea11933669_BHF_F_Hea11596622\n",
       ":   '/nfs/team205/heart/mapped/cellranger-arc200/BHF_F_Hea11933669_BHF_F_Hea11596622/atac_fragments.tsv.gz'BHF_F_Hea11933670_BHF_F_Hea11596623\n",
       ":   '/nfs/team205/heart/mapped/cellranger-arc200/BHF_F_Hea11933670_BHF_F_Hea11596623/atac_fragments.tsv.gz'BHF_F_Hea11933671_BHF_F_Hea11596624\n",
       ":   '/nfs/team205/heart/mapped/cellranger-arc200/BHF_F_Hea11933671_BHF_F_Hea11596624/atac_fragments.tsv.gz'BHF_F_Hea11933672_BHF_F_Hea11596625\n",
       ":   '/nfs/team205/heart/mapped/cellranger-arc200/BHF_F_Hea11933672_BHF_F_Hea11596625/atac_fragments.tsv.gz'BHF_F_Hea11933673_BHF_F_Hea11596626\n",
       ":   '/nfs/team205/heart/mapped/cellranger-arc200/BHF_F_Hea11933673_BHF_F_Hea11596626/atac_fragments.tsv.gz'BHF_F_Hea11933674_BHF_F_Hea11596627\n",
       ":   '/nfs/team205/heart/mapped/cellranger-arc200/BHF_F_Hea11933674_BHF_F_Hea11596627/atac_fragments.tsv.gz'BHF_F_Hea11933675_BHF_F_Hea11596628\n",
       ":   '/nfs/team205/heart/mapped/cellranger-arc200/BHF_F_Hea11933675_BHF_F_Hea11596628/atac_fragments.tsv.gz'BHF_F_Hea13188316_BHF_F_Hea13187618\n",
       ":   '/nfs/team205/heart/mapped/cellranger-arc200/BHF_F_Hea13188316_BHF_F_Hea13187618/atac_fragments.tsv.gz'BHF_F_Hea13188317_BHF_F_Hea13187619\n",
       ":   '/nfs/team205/heart/mapped/cellranger-arc200/BHF_F_Hea13188317_BHF_F_Hea13187619/atac_fragments.tsv.gz'BHF_F_Hea13188318_BHF_F_Hea13187620\n",
       ":   '/nfs/team205/heart/mapped/cellranger-arc200/BHF_F_Hea13188318_BHF_F_Hea13187620/atac_fragments.tsv.gz'BHF_F_Hea13188324_BHF_F_Hea13187626\n",
       ":   '/nfs/team205/heart/mapped/cellranger-arc200/BHF_F_Hea13188324_BHF_F_Hea13187626/atac_fragments.tsv.gz'BHF_F_Hea13188328_BHF_F_Hea13187630\n",
       ":   '/nfs/team205/heart/mapped/cellranger-arc200/BHF_F_Hea13188328_BHF_F_Hea13187630/atac_fragments.tsv.gz'BHF_F_Hea13188329_BHF_F_Hea13187631\n",
       ":   '/nfs/team205/heart/mapped/cellranger-arc200/BHF_F_Hea13188329_BHF_F_Hea13187631/atac_fragments.tsv.gz'BHF_F_Hea13188330_BHF_F_Hea13187632\n",
       ":   '/nfs/team205/heart/mapped/cellranger-arc200/BHF_F_Hea13188330_BHF_F_Hea13187632/atac_fragments.tsv.gz'BHF_F_Hea13168892_BHF_F_Hea13168508\n",
       ":   '/nfs/team205/heart/mapped/cellranger-arc200/BHF_F_Hea13168892_BHF_F_Hea13168508/atac_fragments.tsv.gz'BHF_F_Hea13168893_BHF_F_Hea13168509\n",
       ":   '/nfs/team205/heart/mapped/cellranger-arc200/BHF_F_Hea13168893_BHF_F_Hea13168509/atac_fragments.tsv.gz'BHF_F_Hea13168894_BHF_F_Hea13168510\n",
       ":   '/nfs/team205/heart/mapped/cellranger-arc200/BHF_F_Hea13168894_BHF_F_Hea13168510/atac_fragments.tsv.gz'BHF_F_Hea13168895_BHF_F_Hea13168511\n",
       ":   '/nfs/team205/heart/mapped/cellranger-arc200/BHF_F_Hea13168895_BHF_F_Hea13168511/atac_fragments.tsv.gz'BHF_F_Hea13168896_BHF_F_Hea13168512\n",
       ":   '/nfs/team205/heart/mapped/cellranger-arc200/BHF_F_Hea13168896_BHF_F_Hea13168512/atac_fragments.tsv.gz'BHF_F_Hea13168897_BHF_F_Hea13168513\n",
       ":   '/nfs/team205/heart/mapped/cellranger-arc200/BHF_F_Hea13168897_BHF_F_Hea13168513/atac_fragments.tsv.gz'BHF_F_Hea13168898_BHF_F_Hea13168514\n",
       ":   '/nfs/team205/heart/mapped/cellranger-arc200/BHF_F_Hea13168898_BHF_F_Hea13168514/atac_fragments.tsv.gz'BHF_F_Hea13168899_BHF_F_Hea13168515\n",
       ":   '/nfs/team205/heart/mapped/cellranger-arc200/BHF_F_Hea13168899_BHF_F_Hea13168515/atac_fragments.tsv.gz'7089STDY13216920_BHF_F_Hea13242527\n",
       ":   '/nfs/team205/heart/mapped/cellranger-arc200/7089STDY13216920_BHF_F_Hea13242527/atac_fragments.tsv.gz'7089STDY13216921_BHF_F_Hea13242528\n",
       ":   '/nfs/team205/heart/mapped/cellranger-arc200/7089STDY13216921_BHF_F_Hea13242528/atac_fragments.tsv.gz'7089STDY13216922_BHF_F_Hea13242529\n",
       ":   '/nfs/team205/heart/mapped/cellranger-arc200/7089STDY13216922_BHF_F_Hea13242529/atac_fragments.tsv.gz'7089STDY13216923_BHF_F_Hea13242530\n",
       ":   '/nfs/team205/heart/mapped/cellranger-arc200/7089STDY13216923_BHF_F_Hea13242530/atac_fragments.tsv.gz'7089STDY13216924_BHF_F_Hea13242531\n",
       ":   '/nfs/team205/heart/mapped/cellranger-arc200/7089STDY13216924_BHF_F_Hea13242531/atac_fragments.tsv.gz'7089STDY13216925_BHF_F_Hea13242532\n",
       ":   '/nfs/team205/heart/mapped/cellranger-arc200/7089STDY13216925_BHF_F_Hea13242532/atac_fragments.tsv.gz'7089STDY13216926_BHF_F_Hea13242533\n",
       ":   '/nfs/team205/heart/mapped/cellranger-arc200/7089STDY13216926_BHF_F_Hea13242533/atac_fragments.tsv.gz'7089STDY13216927_BHF_F_Hea13242534\n",
       ":   '/nfs/team205/heart/mapped/cellranger-arc200/7089STDY13216927_BHF_F_Hea13242534/atac_fragments.tsv.gz'HCAHeartST13386009_HCAHeartST13303419\n",
       ":   '/nfs/team205/heart/mapped/cellranger-arc200/HCAHeartST13386009_HCAHeartST13303419/atac_fragments.tsv.gz'HCAHeartST13386010_HCAHeartST13303420\n",
       ":   '/nfs/team205/heart/mapped/cellranger-arc200/HCAHeartST13386010_HCAHeartST13303420/atac_fragments.tsv.gz'\n",
       "\n"
      ],
      "text/plain": [
       "                                                                      BHF_F_Hea11064670_BHF_F_Hea11031823 \n",
       "  \"/nfs/team205/heart/mapped/cellranger-arc200/BHF_F_Hea11064670_BHF_F_Hea11031823/atac_fragments.tsv.gz\" \n",
       "                                                                      BHF_F_Hea11064671_BHF_F_Hea11031824 \n",
       "  \"/nfs/team205/heart/mapped/cellranger-arc200/BHF_F_Hea11064671_BHF_F_Hea11031824/atac_fragments.tsv.gz\" \n",
       "                                                                      BHF_F_Hea11064672_BHF_F_Hea11031825 \n",
       "  \"/nfs/team205/heart/mapped/cellranger-arc200/BHF_F_Hea11064672_BHF_F_Hea11031825/atac_fragments.tsv.gz\" \n",
       "                                                                      BHF_F_Hea11933664_BHF_F_Hea11596617 \n",
       "  \"/nfs/team205/heart/mapped/cellranger-arc200/BHF_F_Hea11933664_BHF_F_Hea11596617/atac_fragments.tsv.gz\" \n",
       "                                                                      BHF_F_Hea11933665_BHF_F_Hea11596618 \n",
       "  \"/nfs/team205/heart/mapped/cellranger-arc200/BHF_F_Hea11933665_BHF_F_Hea11596618/atac_fragments.tsv.gz\" \n",
       "                                                                      BHF_F_Hea11933666_BHF_F_Hea11596619 \n",
       "  \"/nfs/team205/heart/mapped/cellranger-arc200/BHF_F_Hea11933666_BHF_F_Hea11596619/atac_fragments.tsv.gz\" \n",
       "                                                                      BHF_F_Hea11933667_BHF_F_Hea11596620 \n",
       "  \"/nfs/team205/heart/mapped/cellranger-arc200/BHF_F_Hea11933667_BHF_F_Hea11596620/atac_fragments.tsv.gz\" \n",
       "                                                                      BHF_F_Hea11933668_BHF_F_Hea11596621 \n",
       "  \"/nfs/team205/heart/mapped/cellranger-arc200/BHF_F_Hea11933668_BHF_F_Hea11596621/atac_fragments.tsv.gz\" \n",
       "                                                                      BHF_F_Hea11933669_BHF_F_Hea11596622 \n",
       "  \"/nfs/team205/heart/mapped/cellranger-arc200/BHF_F_Hea11933669_BHF_F_Hea11596622/atac_fragments.tsv.gz\" \n",
       "                                                                      BHF_F_Hea11933670_BHF_F_Hea11596623 \n",
       "  \"/nfs/team205/heart/mapped/cellranger-arc200/BHF_F_Hea11933670_BHF_F_Hea11596623/atac_fragments.tsv.gz\" \n",
       "                                                                      BHF_F_Hea11933671_BHF_F_Hea11596624 \n",
       "  \"/nfs/team205/heart/mapped/cellranger-arc200/BHF_F_Hea11933671_BHF_F_Hea11596624/atac_fragments.tsv.gz\" \n",
       "                                                                      BHF_F_Hea11933672_BHF_F_Hea11596625 \n",
       "  \"/nfs/team205/heart/mapped/cellranger-arc200/BHF_F_Hea11933672_BHF_F_Hea11596625/atac_fragments.tsv.gz\" \n",
       "                                                                      BHF_F_Hea11933673_BHF_F_Hea11596626 \n",
       "  \"/nfs/team205/heart/mapped/cellranger-arc200/BHF_F_Hea11933673_BHF_F_Hea11596626/atac_fragments.tsv.gz\" \n",
       "                                                                      BHF_F_Hea11933674_BHF_F_Hea11596627 \n",
       "  \"/nfs/team205/heart/mapped/cellranger-arc200/BHF_F_Hea11933674_BHF_F_Hea11596627/atac_fragments.tsv.gz\" \n",
       "                                                                      BHF_F_Hea11933675_BHF_F_Hea11596628 \n",
       "  \"/nfs/team205/heart/mapped/cellranger-arc200/BHF_F_Hea11933675_BHF_F_Hea11596628/atac_fragments.tsv.gz\" \n",
       "                                                                      BHF_F_Hea13188316_BHF_F_Hea13187618 \n",
       "  \"/nfs/team205/heart/mapped/cellranger-arc200/BHF_F_Hea13188316_BHF_F_Hea13187618/atac_fragments.tsv.gz\" \n",
       "                                                                      BHF_F_Hea13188317_BHF_F_Hea13187619 \n",
       "  \"/nfs/team205/heart/mapped/cellranger-arc200/BHF_F_Hea13188317_BHF_F_Hea13187619/atac_fragments.tsv.gz\" \n",
       "                                                                      BHF_F_Hea13188318_BHF_F_Hea13187620 \n",
       "  \"/nfs/team205/heart/mapped/cellranger-arc200/BHF_F_Hea13188318_BHF_F_Hea13187620/atac_fragments.tsv.gz\" \n",
       "                                                                      BHF_F_Hea13188324_BHF_F_Hea13187626 \n",
       "  \"/nfs/team205/heart/mapped/cellranger-arc200/BHF_F_Hea13188324_BHF_F_Hea13187626/atac_fragments.tsv.gz\" \n",
       "                                                                      BHF_F_Hea13188328_BHF_F_Hea13187630 \n",
       "  \"/nfs/team205/heart/mapped/cellranger-arc200/BHF_F_Hea13188328_BHF_F_Hea13187630/atac_fragments.tsv.gz\" \n",
       "                                                                      BHF_F_Hea13188329_BHF_F_Hea13187631 \n",
       "  \"/nfs/team205/heart/mapped/cellranger-arc200/BHF_F_Hea13188329_BHF_F_Hea13187631/atac_fragments.tsv.gz\" \n",
       "                                                                      BHF_F_Hea13188330_BHF_F_Hea13187632 \n",
       "  \"/nfs/team205/heart/mapped/cellranger-arc200/BHF_F_Hea13188330_BHF_F_Hea13187632/atac_fragments.tsv.gz\" \n",
       "                                                                      BHF_F_Hea13168892_BHF_F_Hea13168508 \n",
       "  \"/nfs/team205/heart/mapped/cellranger-arc200/BHF_F_Hea13168892_BHF_F_Hea13168508/atac_fragments.tsv.gz\" \n",
       "                                                                      BHF_F_Hea13168893_BHF_F_Hea13168509 \n",
       "  \"/nfs/team205/heart/mapped/cellranger-arc200/BHF_F_Hea13168893_BHF_F_Hea13168509/atac_fragments.tsv.gz\" \n",
       "                                                                      BHF_F_Hea13168894_BHF_F_Hea13168510 \n",
       "  \"/nfs/team205/heart/mapped/cellranger-arc200/BHF_F_Hea13168894_BHF_F_Hea13168510/atac_fragments.tsv.gz\" \n",
       "                                                                      BHF_F_Hea13168895_BHF_F_Hea13168511 \n",
       "  \"/nfs/team205/heart/mapped/cellranger-arc200/BHF_F_Hea13168895_BHF_F_Hea13168511/atac_fragments.tsv.gz\" \n",
       "                                                                      BHF_F_Hea13168896_BHF_F_Hea13168512 \n",
       "  \"/nfs/team205/heart/mapped/cellranger-arc200/BHF_F_Hea13168896_BHF_F_Hea13168512/atac_fragments.tsv.gz\" \n",
       "                                                                      BHF_F_Hea13168897_BHF_F_Hea13168513 \n",
       "  \"/nfs/team205/heart/mapped/cellranger-arc200/BHF_F_Hea13168897_BHF_F_Hea13168513/atac_fragments.tsv.gz\" \n",
       "                                                                      BHF_F_Hea13168898_BHF_F_Hea13168514 \n",
       "  \"/nfs/team205/heart/mapped/cellranger-arc200/BHF_F_Hea13168898_BHF_F_Hea13168514/atac_fragments.tsv.gz\" \n",
       "                                                                      BHF_F_Hea13168899_BHF_F_Hea13168515 \n",
       "  \"/nfs/team205/heart/mapped/cellranger-arc200/BHF_F_Hea13168899_BHF_F_Hea13168515/atac_fragments.tsv.gz\" \n",
       "                                                                       7089STDY13216920_BHF_F_Hea13242527 \n",
       "   \"/nfs/team205/heart/mapped/cellranger-arc200/7089STDY13216920_BHF_F_Hea13242527/atac_fragments.tsv.gz\" \n",
       "                                                                       7089STDY13216921_BHF_F_Hea13242528 \n",
       "   \"/nfs/team205/heart/mapped/cellranger-arc200/7089STDY13216921_BHF_F_Hea13242528/atac_fragments.tsv.gz\" \n",
       "                                                                       7089STDY13216922_BHF_F_Hea13242529 \n",
       "   \"/nfs/team205/heart/mapped/cellranger-arc200/7089STDY13216922_BHF_F_Hea13242529/atac_fragments.tsv.gz\" \n",
       "                                                                       7089STDY13216923_BHF_F_Hea13242530 \n",
       "   \"/nfs/team205/heart/mapped/cellranger-arc200/7089STDY13216923_BHF_F_Hea13242530/atac_fragments.tsv.gz\" \n",
       "                                                                       7089STDY13216924_BHF_F_Hea13242531 \n",
       "   \"/nfs/team205/heart/mapped/cellranger-arc200/7089STDY13216924_BHF_F_Hea13242531/atac_fragments.tsv.gz\" \n",
       "                                                                       7089STDY13216925_BHF_F_Hea13242532 \n",
       "   \"/nfs/team205/heart/mapped/cellranger-arc200/7089STDY13216925_BHF_F_Hea13242532/atac_fragments.tsv.gz\" \n",
       "                                                                       7089STDY13216926_BHF_F_Hea13242533 \n",
       "   \"/nfs/team205/heart/mapped/cellranger-arc200/7089STDY13216926_BHF_F_Hea13242533/atac_fragments.tsv.gz\" \n",
       "                                                                       7089STDY13216927_BHF_F_Hea13242534 \n",
       "   \"/nfs/team205/heart/mapped/cellranger-arc200/7089STDY13216927_BHF_F_Hea13242534/atac_fragments.tsv.gz\" \n",
       "                                                                    HCAHeartST13386009_HCAHeartST13303419 \n",
       "\"/nfs/team205/heart/mapped/cellranger-arc200/HCAHeartST13386009_HCAHeartST13303419/atac_fragments.tsv.gz\" \n",
       "                                                                    HCAHeartST13386010_HCAHeartST13303420 \n",
       "\"/nfs/team205/heart/mapped/cellranger-arc200/HCAHeartST13386010_HCAHeartST13303420/atac_fragments.tsv.gz\" "
      ]
     },
     "metadata": {},
     "output_type": "display_data"
    }
   ],
   "source": [
    "# Prepare input files\n",
    "metadata = read.csv('/nfs/team205/heart/anndata_objects/Foetal/metadata/HeartTeamSamples_Mappeddata_20230208.csv')\n",
    "metadata = metadata %>% filter(Publication=='Foetal')\n",
    "metadata = metadata %>% filter(status=='Healthy')\n",
    "metadata = metadata %>% filter(modality=='Multiome-ATAC')\n",
    "nrow(metadata)\n",
    "\n",
    "inputFiles = paste0(metadata %>% pull('Mapping_farm'),'/atac_fragments.tsv.gz')\n",
    "names(inputFiles) = metadata %>% pull('CombinedID_Multiome')\n",
    "inputFiles"
   ]
  },
  {
   "cell_type": "code",
   "execution_count": 6,
   "id": "alternative-wireless",
   "metadata": {},
   "outputs": [
    {
     "name": "stderr",
     "output_type": "stream",
     "text": [
      "Setting default genome to Hg38.\n",
      "\n"
     ]
    }
   ],
   "source": [
    "# before starting a project we must set the ArchRGenome and default threads for parallelization.\n",
    "# Setting default genome to Hg38.\n",
    "addArchRGenome(\"hg38\")"
   ]
  },
  {
   "cell_type": "code",
   "execution_count": 7,
   "id": "sitting-conclusion",
   "metadata": {},
   "outputs": [
    {
     "name": "stderr",
     "output_type": "stream",
     "text": [
      "Setting default number of Parallel threads to 5.\n",
      "\n"
     ]
    }
   ],
   "source": [
    "# Setting default number of Parallel threads to 16\n",
    "addArchRThreads(threads = 5) "
   ]
  },
  {
   "cell_type": "code",
   "execution_count": null,
   "id": "manual-russell",
   "metadata": {},
   "outputs": [],
   "source": []
  },
  {
   "cell_type": "markdown",
   "id": "convinced-cooperation",
   "metadata": {},
   "source": [
    "## Creat Arrow files"
   ]
  },
  {
   "cell_type": "code",
   "execution_count": 6,
   "id": "organizational-premises",
   "metadata": {},
   "outputs": [
    {
     "name": "stderr",
     "output_type": "stream",
     "text": [
      "Using GeneAnnotation set by addArchRGenome(Hg38)!\n",
      "\n",
      "Using GeneAnnotation set by addArchRGenome(Hg38)!\n",
      "\n",
      "ArchR logging to : ArchRLogs/ArchR-createArrows-e075303579c-Date-2023-03-08_Time-01-11-16.log\n",
      "If there is an issue, please report to github with logFile!\n",
      "\n",
      "Cleaning Temporary Files\n",
      "\n",
      "2023-03-08 01:11:17 : Batch Execution w/ safelapply!, 0 mins elapsed.\n",
      "\n"
     ]
    }
   ],
   "source": [
    "# ArrowFiles <- createArrowFiles(\n",
    "#   inputFiles = inputFiles,\n",
    "#   sampleNames = names(inputFiles),\n",
    "#   minTSS = 4, #Dont set this too high because you can always increase later\n",
    "#   minFrags = 1000, \n",
    "#   addTileMat = TRUE,\n",
    "#   addGeneScoreMat = TRUE\n",
    "# )"
   ]
  },
  {
   "cell_type": "code",
   "execution_count": 8,
   "id": "jewish-transformation",
   "metadata": {},
   "outputs": [
    {
     "data": {
      "text/html": [
       "<style>\n",
       ".dl-inline {width: auto; margin:0; padding: 0}\n",
       ".dl-inline>dt, .dl-inline>dd {float: none; width: auto; display: inline-block}\n",
       ".dl-inline>dt::after {content: \":\\0020\"; padding-right: .5ex}\n",
       ".dl-inline>dt:not(:first-of-type) {padding-left: .5ex}\n",
       "</style><dl class=dl-inline><dt>BHF_F_Hea11064670_BHF_F_Hea11031823</dt><dd>'/nfs/team205/heart/mapped/cellranger-arc200/BHF_F_Hea11064670_BHF_F_Hea11031823/atac_fragments.tsv.gz'</dd><dt>BHF_F_Hea11064671_BHF_F_Hea11031824</dt><dd>'/nfs/team205/heart/mapped/cellranger-arc200/BHF_F_Hea11064671_BHF_F_Hea11031824/atac_fragments.tsv.gz'</dd><dt>BHF_F_Hea11064672_BHF_F_Hea11031825</dt><dd>'/nfs/team205/heart/mapped/cellranger-arc200/BHF_F_Hea11064672_BHF_F_Hea11031825/atac_fragments.tsv.gz'</dd><dt>BHF_F_Hea11933664_BHF_F_Hea11596617</dt><dd>'/nfs/team205/heart/mapped/cellranger-arc200/BHF_F_Hea11933664_BHF_F_Hea11596617/atac_fragments.tsv.gz'</dd><dt>BHF_F_Hea11933665_BHF_F_Hea11596618</dt><dd>'/nfs/team205/heart/mapped/cellranger-arc200/BHF_F_Hea11933665_BHF_F_Hea11596618/atac_fragments.tsv.gz'</dd><dt>BHF_F_Hea11933666_BHF_F_Hea11596619</dt><dd>'/nfs/team205/heart/mapped/cellranger-arc200/BHF_F_Hea11933666_BHF_F_Hea11596619/atac_fragments.tsv.gz'</dd><dt>BHF_F_Hea11933667_BHF_F_Hea11596620</dt><dd>'/nfs/team205/heart/mapped/cellranger-arc200/BHF_F_Hea11933667_BHF_F_Hea11596620/atac_fragments.tsv.gz'</dd><dt>BHF_F_Hea11933668_BHF_F_Hea11596621</dt><dd>'/nfs/team205/heart/mapped/cellranger-arc200/BHF_F_Hea11933668_BHF_F_Hea11596621/atac_fragments.tsv.gz'</dd><dt>BHF_F_Hea11933669_BHF_F_Hea11596622</dt><dd>'/nfs/team205/heart/mapped/cellranger-arc200/BHF_F_Hea11933669_BHF_F_Hea11596622/atac_fragments.tsv.gz'</dd><dt>BHF_F_Hea11933671_BHF_F_Hea11596624</dt><dd>'/nfs/team205/heart/mapped/cellranger-arc200/BHF_F_Hea11933671_BHF_F_Hea11596624/atac_fragments.tsv.gz'</dd><dt>BHF_F_Hea11933674_BHF_F_Hea11596627</dt><dd>'/nfs/team205/heart/mapped/cellranger-arc200/BHF_F_Hea11933674_BHF_F_Hea11596627/atac_fragments.tsv.gz'</dd><dt>BHF_F_Hea11933675_BHF_F_Hea11596628</dt><dd>'/nfs/team205/heart/mapped/cellranger-arc200/BHF_F_Hea11933675_BHF_F_Hea11596628/atac_fragments.tsv.gz'</dd><dt>BHF_F_Hea13188317_BHF_F_Hea13187619</dt><dd>'/nfs/team205/heart/mapped/cellranger-arc200/BHF_F_Hea13188317_BHF_F_Hea13187619/atac_fragments.tsv.gz'</dd><dt>BHF_F_Hea13188329_BHF_F_Hea13187631</dt><dd>'/nfs/team205/heart/mapped/cellranger-arc200/BHF_F_Hea13188329_BHF_F_Hea13187631/atac_fragments.tsv.gz'</dd><dt>BHF_F_Hea13188330_BHF_F_Hea13187632</dt><dd>'/nfs/team205/heart/mapped/cellranger-arc200/BHF_F_Hea13188330_BHF_F_Hea13187632/atac_fragments.tsv.gz'</dd><dt>7089STDY13216920_BHF_F_Hea13242527</dt><dd>'/nfs/team205/heart/mapped/cellranger-arc200/7089STDY13216920_BHF_F_Hea13242527/atac_fragments.tsv.gz'</dd><dt>7089STDY13216922_BHF_F_Hea13242529</dt><dd>'/nfs/team205/heart/mapped/cellranger-arc200/7089STDY13216922_BHF_F_Hea13242529/atac_fragments.tsv.gz'</dd><dt>7089STDY13216923_BHF_F_Hea13242530</dt><dd>'/nfs/team205/heart/mapped/cellranger-arc200/7089STDY13216923_BHF_F_Hea13242530/atac_fragments.tsv.gz'</dd><dt>7089STDY13216925_BHF_F_Hea13242532</dt><dd>'/nfs/team205/heart/mapped/cellranger-arc200/7089STDY13216925_BHF_F_Hea13242532/atac_fragments.tsv.gz'</dd><dt>7089STDY13216926_BHF_F_Hea13242533</dt><dd>'/nfs/team205/heart/mapped/cellranger-arc200/7089STDY13216926_BHF_F_Hea13242533/atac_fragments.tsv.gz'</dd><dt>7089STDY13216927_BHF_F_Hea13242534</dt><dd>'/nfs/team205/heart/mapped/cellranger-arc200/7089STDY13216927_BHF_F_Hea13242534/atac_fragments.tsv.gz'</dd></dl>\n"
      ],
      "text/latex": [
       "\\begin{description*}\n",
       "\\item[BHF\\textbackslash{}\\_F\\textbackslash{}\\_Hea11064670\\textbackslash{}\\_BHF\\textbackslash{}\\_F\\textbackslash{}\\_Hea11031823] '/nfs/team205/heart/mapped/cellranger-arc200/BHF\\_F\\_Hea11064670\\_BHF\\_F\\_Hea11031823/atac\\_fragments.tsv.gz'\n",
       "\\item[BHF\\textbackslash{}\\_F\\textbackslash{}\\_Hea11064671\\textbackslash{}\\_BHF\\textbackslash{}\\_F\\textbackslash{}\\_Hea11031824] '/nfs/team205/heart/mapped/cellranger-arc200/BHF\\_F\\_Hea11064671\\_BHF\\_F\\_Hea11031824/atac\\_fragments.tsv.gz'\n",
       "\\item[BHF\\textbackslash{}\\_F\\textbackslash{}\\_Hea11064672\\textbackslash{}\\_BHF\\textbackslash{}\\_F\\textbackslash{}\\_Hea11031825] '/nfs/team205/heart/mapped/cellranger-arc200/BHF\\_F\\_Hea11064672\\_BHF\\_F\\_Hea11031825/atac\\_fragments.tsv.gz'\n",
       "\\item[BHF\\textbackslash{}\\_F\\textbackslash{}\\_Hea11933664\\textbackslash{}\\_BHF\\textbackslash{}\\_F\\textbackslash{}\\_Hea11596617] '/nfs/team205/heart/mapped/cellranger-arc200/BHF\\_F\\_Hea11933664\\_BHF\\_F\\_Hea11596617/atac\\_fragments.tsv.gz'\n",
       "\\item[BHF\\textbackslash{}\\_F\\textbackslash{}\\_Hea11933665\\textbackslash{}\\_BHF\\textbackslash{}\\_F\\textbackslash{}\\_Hea11596618] '/nfs/team205/heart/mapped/cellranger-arc200/BHF\\_F\\_Hea11933665\\_BHF\\_F\\_Hea11596618/atac\\_fragments.tsv.gz'\n",
       "\\item[BHF\\textbackslash{}\\_F\\textbackslash{}\\_Hea11933666\\textbackslash{}\\_BHF\\textbackslash{}\\_F\\textbackslash{}\\_Hea11596619] '/nfs/team205/heart/mapped/cellranger-arc200/BHF\\_F\\_Hea11933666\\_BHF\\_F\\_Hea11596619/atac\\_fragments.tsv.gz'\n",
       "\\item[BHF\\textbackslash{}\\_F\\textbackslash{}\\_Hea11933667\\textbackslash{}\\_BHF\\textbackslash{}\\_F\\textbackslash{}\\_Hea11596620] '/nfs/team205/heart/mapped/cellranger-arc200/BHF\\_F\\_Hea11933667\\_BHF\\_F\\_Hea11596620/atac\\_fragments.tsv.gz'\n",
       "\\item[BHF\\textbackslash{}\\_F\\textbackslash{}\\_Hea11933668\\textbackslash{}\\_BHF\\textbackslash{}\\_F\\textbackslash{}\\_Hea11596621] '/nfs/team205/heart/mapped/cellranger-arc200/BHF\\_F\\_Hea11933668\\_BHF\\_F\\_Hea11596621/atac\\_fragments.tsv.gz'\n",
       "\\item[BHF\\textbackslash{}\\_F\\textbackslash{}\\_Hea11933669\\textbackslash{}\\_BHF\\textbackslash{}\\_F\\textbackslash{}\\_Hea11596622] '/nfs/team205/heart/mapped/cellranger-arc200/BHF\\_F\\_Hea11933669\\_BHF\\_F\\_Hea11596622/atac\\_fragments.tsv.gz'\n",
       "\\item[BHF\\textbackslash{}\\_F\\textbackslash{}\\_Hea11933671\\textbackslash{}\\_BHF\\textbackslash{}\\_F\\textbackslash{}\\_Hea11596624] '/nfs/team205/heart/mapped/cellranger-arc200/BHF\\_F\\_Hea11933671\\_BHF\\_F\\_Hea11596624/atac\\_fragments.tsv.gz'\n",
       "\\item[BHF\\textbackslash{}\\_F\\textbackslash{}\\_Hea11933674\\textbackslash{}\\_BHF\\textbackslash{}\\_F\\textbackslash{}\\_Hea11596627] '/nfs/team205/heart/mapped/cellranger-arc200/BHF\\_F\\_Hea11933674\\_BHF\\_F\\_Hea11596627/atac\\_fragments.tsv.gz'\n",
       "\\item[BHF\\textbackslash{}\\_F\\textbackslash{}\\_Hea11933675\\textbackslash{}\\_BHF\\textbackslash{}\\_F\\textbackslash{}\\_Hea11596628] '/nfs/team205/heart/mapped/cellranger-arc200/BHF\\_F\\_Hea11933675\\_BHF\\_F\\_Hea11596628/atac\\_fragments.tsv.gz'\n",
       "\\item[BHF\\textbackslash{}\\_F\\textbackslash{}\\_Hea13188317\\textbackslash{}\\_BHF\\textbackslash{}\\_F\\textbackslash{}\\_Hea13187619] '/nfs/team205/heart/mapped/cellranger-arc200/BHF\\_F\\_Hea13188317\\_BHF\\_F\\_Hea13187619/atac\\_fragments.tsv.gz'\n",
       "\\item[BHF\\textbackslash{}\\_F\\textbackslash{}\\_Hea13188329\\textbackslash{}\\_BHF\\textbackslash{}\\_F\\textbackslash{}\\_Hea13187631] '/nfs/team205/heart/mapped/cellranger-arc200/BHF\\_F\\_Hea13188329\\_BHF\\_F\\_Hea13187631/atac\\_fragments.tsv.gz'\n",
       "\\item[BHF\\textbackslash{}\\_F\\textbackslash{}\\_Hea13188330\\textbackslash{}\\_BHF\\textbackslash{}\\_F\\textbackslash{}\\_Hea13187632] '/nfs/team205/heart/mapped/cellranger-arc200/BHF\\_F\\_Hea13188330\\_BHF\\_F\\_Hea13187632/atac\\_fragments.tsv.gz'\n",
       "\\item[7089STDY13216920\\textbackslash{}\\_BHF\\textbackslash{}\\_F\\textbackslash{}\\_Hea13242527] '/nfs/team205/heart/mapped/cellranger-arc200/7089STDY13216920\\_BHF\\_F\\_Hea13242527/atac\\_fragments.tsv.gz'\n",
       "\\item[7089STDY13216922\\textbackslash{}\\_BHF\\textbackslash{}\\_F\\textbackslash{}\\_Hea13242529] '/nfs/team205/heart/mapped/cellranger-arc200/7089STDY13216922\\_BHF\\_F\\_Hea13242529/atac\\_fragments.tsv.gz'\n",
       "\\item[7089STDY13216923\\textbackslash{}\\_BHF\\textbackslash{}\\_F\\textbackslash{}\\_Hea13242530] '/nfs/team205/heart/mapped/cellranger-arc200/7089STDY13216923\\_BHF\\_F\\_Hea13242530/atac\\_fragments.tsv.gz'\n",
       "\\item[7089STDY13216925\\textbackslash{}\\_BHF\\textbackslash{}\\_F\\textbackslash{}\\_Hea13242532] '/nfs/team205/heart/mapped/cellranger-arc200/7089STDY13216925\\_BHF\\_F\\_Hea13242532/atac\\_fragments.tsv.gz'\n",
       "\\item[7089STDY13216926\\textbackslash{}\\_BHF\\textbackslash{}\\_F\\textbackslash{}\\_Hea13242533] '/nfs/team205/heart/mapped/cellranger-arc200/7089STDY13216926\\_BHF\\_F\\_Hea13242533/atac\\_fragments.tsv.gz'\n",
       "\\item[7089STDY13216927\\textbackslash{}\\_BHF\\textbackslash{}\\_F\\textbackslash{}\\_Hea13242534] '/nfs/team205/heart/mapped/cellranger-arc200/7089STDY13216927\\_BHF\\_F\\_Hea13242534/atac\\_fragments.tsv.gz'\n",
       "\\end{description*}\n"
      ],
      "text/markdown": [
       "BHF_F_Hea11064670_BHF_F_Hea11031823\n",
       ":   '/nfs/team205/heart/mapped/cellranger-arc200/BHF_F_Hea11064670_BHF_F_Hea11031823/atac_fragments.tsv.gz'BHF_F_Hea11064671_BHF_F_Hea11031824\n",
       ":   '/nfs/team205/heart/mapped/cellranger-arc200/BHF_F_Hea11064671_BHF_F_Hea11031824/atac_fragments.tsv.gz'BHF_F_Hea11064672_BHF_F_Hea11031825\n",
       ":   '/nfs/team205/heart/mapped/cellranger-arc200/BHF_F_Hea11064672_BHF_F_Hea11031825/atac_fragments.tsv.gz'BHF_F_Hea11933664_BHF_F_Hea11596617\n",
       ":   '/nfs/team205/heart/mapped/cellranger-arc200/BHF_F_Hea11933664_BHF_F_Hea11596617/atac_fragments.tsv.gz'BHF_F_Hea11933665_BHF_F_Hea11596618\n",
       ":   '/nfs/team205/heart/mapped/cellranger-arc200/BHF_F_Hea11933665_BHF_F_Hea11596618/atac_fragments.tsv.gz'BHF_F_Hea11933666_BHF_F_Hea11596619\n",
       ":   '/nfs/team205/heart/mapped/cellranger-arc200/BHF_F_Hea11933666_BHF_F_Hea11596619/atac_fragments.tsv.gz'BHF_F_Hea11933667_BHF_F_Hea11596620\n",
       ":   '/nfs/team205/heart/mapped/cellranger-arc200/BHF_F_Hea11933667_BHF_F_Hea11596620/atac_fragments.tsv.gz'BHF_F_Hea11933668_BHF_F_Hea11596621\n",
       ":   '/nfs/team205/heart/mapped/cellranger-arc200/BHF_F_Hea11933668_BHF_F_Hea11596621/atac_fragments.tsv.gz'BHF_F_Hea11933669_BHF_F_Hea11596622\n",
       ":   '/nfs/team205/heart/mapped/cellranger-arc200/BHF_F_Hea11933669_BHF_F_Hea11596622/atac_fragments.tsv.gz'BHF_F_Hea11933671_BHF_F_Hea11596624\n",
       ":   '/nfs/team205/heart/mapped/cellranger-arc200/BHF_F_Hea11933671_BHF_F_Hea11596624/atac_fragments.tsv.gz'BHF_F_Hea11933674_BHF_F_Hea11596627\n",
       ":   '/nfs/team205/heart/mapped/cellranger-arc200/BHF_F_Hea11933674_BHF_F_Hea11596627/atac_fragments.tsv.gz'BHF_F_Hea11933675_BHF_F_Hea11596628\n",
       ":   '/nfs/team205/heart/mapped/cellranger-arc200/BHF_F_Hea11933675_BHF_F_Hea11596628/atac_fragments.tsv.gz'BHF_F_Hea13188317_BHF_F_Hea13187619\n",
       ":   '/nfs/team205/heart/mapped/cellranger-arc200/BHF_F_Hea13188317_BHF_F_Hea13187619/atac_fragments.tsv.gz'BHF_F_Hea13188329_BHF_F_Hea13187631\n",
       ":   '/nfs/team205/heart/mapped/cellranger-arc200/BHF_F_Hea13188329_BHF_F_Hea13187631/atac_fragments.tsv.gz'BHF_F_Hea13188330_BHF_F_Hea13187632\n",
       ":   '/nfs/team205/heart/mapped/cellranger-arc200/BHF_F_Hea13188330_BHF_F_Hea13187632/atac_fragments.tsv.gz'7089STDY13216920_BHF_F_Hea13242527\n",
       ":   '/nfs/team205/heart/mapped/cellranger-arc200/7089STDY13216920_BHF_F_Hea13242527/atac_fragments.tsv.gz'7089STDY13216922_BHF_F_Hea13242529\n",
       ":   '/nfs/team205/heart/mapped/cellranger-arc200/7089STDY13216922_BHF_F_Hea13242529/atac_fragments.tsv.gz'7089STDY13216923_BHF_F_Hea13242530\n",
       ":   '/nfs/team205/heart/mapped/cellranger-arc200/7089STDY13216923_BHF_F_Hea13242530/atac_fragments.tsv.gz'7089STDY13216925_BHF_F_Hea13242532\n",
       ":   '/nfs/team205/heart/mapped/cellranger-arc200/7089STDY13216925_BHF_F_Hea13242532/atac_fragments.tsv.gz'7089STDY13216926_BHF_F_Hea13242533\n",
       ":   '/nfs/team205/heart/mapped/cellranger-arc200/7089STDY13216926_BHF_F_Hea13242533/atac_fragments.tsv.gz'7089STDY13216927_BHF_F_Hea13242534\n",
       ":   '/nfs/team205/heart/mapped/cellranger-arc200/7089STDY13216927_BHF_F_Hea13242534/atac_fragments.tsv.gz'\n",
       "\n"
      ],
      "text/plain": [
       "                                                                    BHF_F_Hea11064670_BHF_F_Hea11031823 \n",
       "\"/nfs/team205/heart/mapped/cellranger-arc200/BHF_F_Hea11064670_BHF_F_Hea11031823/atac_fragments.tsv.gz\" \n",
       "                                                                    BHF_F_Hea11064671_BHF_F_Hea11031824 \n",
       "\"/nfs/team205/heart/mapped/cellranger-arc200/BHF_F_Hea11064671_BHF_F_Hea11031824/atac_fragments.tsv.gz\" \n",
       "                                                                    BHF_F_Hea11064672_BHF_F_Hea11031825 \n",
       "\"/nfs/team205/heart/mapped/cellranger-arc200/BHF_F_Hea11064672_BHF_F_Hea11031825/atac_fragments.tsv.gz\" \n",
       "                                                                    BHF_F_Hea11933664_BHF_F_Hea11596617 \n",
       "\"/nfs/team205/heart/mapped/cellranger-arc200/BHF_F_Hea11933664_BHF_F_Hea11596617/atac_fragments.tsv.gz\" \n",
       "                                                                    BHF_F_Hea11933665_BHF_F_Hea11596618 \n",
       "\"/nfs/team205/heart/mapped/cellranger-arc200/BHF_F_Hea11933665_BHF_F_Hea11596618/atac_fragments.tsv.gz\" \n",
       "                                                                    BHF_F_Hea11933666_BHF_F_Hea11596619 \n",
       "\"/nfs/team205/heart/mapped/cellranger-arc200/BHF_F_Hea11933666_BHF_F_Hea11596619/atac_fragments.tsv.gz\" \n",
       "                                                                    BHF_F_Hea11933667_BHF_F_Hea11596620 \n",
       "\"/nfs/team205/heart/mapped/cellranger-arc200/BHF_F_Hea11933667_BHF_F_Hea11596620/atac_fragments.tsv.gz\" \n",
       "                                                                    BHF_F_Hea11933668_BHF_F_Hea11596621 \n",
       "\"/nfs/team205/heart/mapped/cellranger-arc200/BHF_F_Hea11933668_BHF_F_Hea11596621/atac_fragments.tsv.gz\" \n",
       "                                                                    BHF_F_Hea11933669_BHF_F_Hea11596622 \n",
       "\"/nfs/team205/heart/mapped/cellranger-arc200/BHF_F_Hea11933669_BHF_F_Hea11596622/atac_fragments.tsv.gz\" \n",
       "                                                                    BHF_F_Hea11933671_BHF_F_Hea11596624 \n",
       "\"/nfs/team205/heart/mapped/cellranger-arc200/BHF_F_Hea11933671_BHF_F_Hea11596624/atac_fragments.tsv.gz\" \n",
       "                                                                    BHF_F_Hea11933674_BHF_F_Hea11596627 \n",
       "\"/nfs/team205/heart/mapped/cellranger-arc200/BHF_F_Hea11933674_BHF_F_Hea11596627/atac_fragments.tsv.gz\" \n",
       "                                                                    BHF_F_Hea11933675_BHF_F_Hea11596628 \n",
       "\"/nfs/team205/heart/mapped/cellranger-arc200/BHF_F_Hea11933675_BHF_F_Hea11596628/atac_fragments.tsv.gz\" \n",
       "                                                                    BHF_F_Hea13188317_BHF_F_Hea13187619 \n",
       "\"/nfs/team205/heart/mapped/cellranger-arc200/BHF_F_Hea13188317_BHF_F_Hea13187619/atac_fragments.tsv.gz\" \n",
       "                                                                    BHF_F_Hea13188329_BHF_F_Hea13187631 \n",
       "\"/nfs/team205/heart/mapped/cellranger-arc200/BHF_F_Hea13188329_BHF_F_Hea13187631/atac_fragments.tsv.gz\" \n",
       "                                                                    BHF_F_Hea13188330_BHF_F_Hea13187632 \n",
       "\"/nfs/team205/heart/mapped/cellranger-arc200/BHF_F_Hea13188330_BHF_F_Hea13187632/atac_fragments.tsv.gz\" \n",
       "                                                                     7089STDY13216920_BHF_F_Hea13242527 \n",
       " \"/nfs/team205/heart/mapped/cellranger-arc200/7089STDY13216920_BHF_F_Hea13242527/atac_fragments.tsv.gz\" \n",
       "                                                                     7089STDY13216922_BHF_F_Hea13242529 \n",
       " \"/nfs/team205/heart/mapped/cellranger-arc200/7089STDY13216922_BHF_F_Hea13242529/atac_fragments.tsv.gz\" \n",
       "                                                                     7089STDY13216923_BHF_F_Hea13242530 \n",
       " \"/nfs/team205/heart/mapped/cellranger-arc200/7089STDY13216923_BHF_F_Hea13242530/atac_fragments.tsv.gz\" \n",
       "                                                                     7089STDY13216925_BHF_F_Hea13242532 \n",
       " \"/nfs/team205/heart/mapped/cellranger-arc200/7089STDY13216925_BHF_F_Hea13242532/atac_fragments.tsv.gz\" \n",
       "                                                                     7089STDY13216926_BHF_F_Hea13242533 \n",
       " \"/nfs/team205/heart/mapped/cellranger-arc200/7089STDY13216926_BHF_F_Hea13242533/atac_fragments.tsv.gz\" \n",
       "                                                                     7089STDY13216927_BHF_F_Hea13242534 \n",
       " \"/nfs/team205/heart/mapped/cellranger-arc200/7089STDY13216927_BHF_F_Hea13242534/atac_fragments.tsv.gz\" "
      ]
     },
     "metadata": {},
     "output_type": "display_data"
    }
   ],
   "source": [
    "done_files = list.files('/nfs/team205/heart/anndata_objects/Foetal/multiome_ATAC/ArchR',pattern = '.arrow')\n",
    "inputFiles_forrerun = inputFiles[setdiff(names(inputFiles),unlist(strsplit(done_files,'.arrow')))]\n",
    "inputFiles_forrerun"
   ]
  },
  {
   "cell_type": "code",
   "execution_count": 9,
   "id": "double-december",
   "metadata": {},
   "outputs": [
    {
     "name": "stderr",
     "output_type": "stream",
     "text": [
      "Using GeneAnnotation set by addArchRGenome(Hg38)!\n",
      "\n",
      "Using GeneAnnotation set by addArchRGenome(Hg38)!\n",
      "\n",
      "ArchR logging to : ArchRLogs/ArchR-createArrows-35a75076e3b-Date-2023-03-08_Time-18-21-49.log\n",
      "If there is an issue, please report to github with logFile!\n",
      "\n",
      "Cleaning Temporary Files\n",
      "\n",
      "2023-03-08 18:21:50 : Batch Execution w/ safelapply!, 0 mins elapsed.\n",
      "\n",
      "ArchR logging successful to : ArchRLogs/ArchR-createArrows-35a75076e3b-Date-2023-03-08_Time-18-21-49.log\n",
      "\n"
     ]
    }
   ],
   "source": [
    "ArrowFiles <- createArrowFiles(\n",
    "  inputFiles = inputFiles_forrerun,\n",
    "  sampleNames = names(inputFiles_forrerun),\n",
    "  minTSS = 4, #Dont set this too high because you can always increase later\n",
    "  minFrags = 1000, \n",
    "  addTileMat = TRUE,\n",
    "  addGeneScoreMat = TRUE\n",
    ")"
   ]
  },
  {
   "cell_type": "code",
   "execution_count": null,
   "id": "assisted-alexander",
   "metadata": {},
   "outputs": [],
   "source": [
    "?createArrowFiles"
   ]
  },
  {
   "cell_type": "code",
   "execution_count": null,
   "id": "honey-advertising",
   "metadata": {},
   "outputs": [],
   "source": [
    "getwd()"
   ]
  },
  {
   "cell_type": "code",
   "execution_count": null,
   "id": "conscious-picture",
   "metadata": {},
   "outputs": [],
   "source": []
  }
 ],
 "metadata": {
  "kernelspec": {
   "display_name": "R",
   "language": "R",
   "name": "r"
  },
  "language_info": {
   "codemirror_mode": "r",
   "file_extension": ".r",
   "mimetype": "text/x-r-source",
   "name": "R",
   "pygments_lexer": "r",
   "version": "4.1.2"
  }
 },
 "nbformat": 4,
 "nbformat_minor": 5
}
