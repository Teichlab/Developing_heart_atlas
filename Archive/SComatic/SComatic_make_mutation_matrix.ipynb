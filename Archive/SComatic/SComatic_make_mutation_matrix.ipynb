{
 "cells": [
  {
   "cell_type": "markdown",
   "id": "coupled-italian",
   "metadata": {},
   "source": [
    "# SComatic mutation matrix"
   ]
  },
  {
   "cell_type": "markdown",
   "id": "chief-master",
   "metadata": {},
   "source": [
    "Aim is to find a set of mutations in the cell types you want to include in the tree.\n",
    "Will need to play around with various parameters to find this, this notebook provides a way of doing that.\n",
    "This assumes you have generated the donor .h5ad files already in the previous notebook."
   ]
  },
  {
   "cell_type": "code",
   "execution_count": 88,
   "id": "phantom-louis",
   "metadata": {},
   "outputs": [],
   "source": [
    "import pandas as pd\n",
    "import os\n",
    "import io\n",
    "import seaborn as sns\n",
    "import numpy as np\n",
    "import anndata as ad\n",
    "import scanpy as sc\n",
    "from pyensembl import EnsemblRelease\n",
    "from intervaltree import Interval, IntervalTree\n",
    "import pickle\n",
    "import matplotlib.pyplot as plt\n",
    "from matplotlib.colors import LinearSegmentedColormap"
   ]
  },
  {
   "cell_type": "code",
   "execution_count": 89,
   "id": "sacred-boundary",
   "metadata": {},
   "outputs": [],
   "source": [
    "from datetime import datetime\n",
    "\n",
    "# Get the current date in YY-MM-DD format\n",
    "today = datetime.now().strftime('%y-%m-%d')"
   ]
  },
  {
   "cell_type": "code",
   "execution_count": 90,
   "id": "biological-description",
   "metadata": {},
   "outputs": [],
   "source": [
    "# Load the Ensembl database for human (GRCh38)\n",
    "ensembl = EnsemblRelease()"
   ]
  },
  {
   "cell_type": "markdown",
   "id": "photographic-smell",
   "metadata": {},
   "source": [
    "# Set up"
   ]
  },
  {
   "cell_type": "code",
   "execution_count": 91,
   "id": "intimate-concord",
   "metadata": {},
   "outputs": [],
   "source": [
    "# Filter out mutations in genes which are specficic to any cell type (DEGs or DARs)\n",
    "def remove_mutations_in_celltype_specific_features(adata, GEX=None, ATAC=None, show_change=False):\n",
    "    if show_change:\n",
    "        print(\"Before:\", adata.shape)\n",
    "\n",
    "    if GEX and ATAC:\n",
    "        adata = adata[:, (adata.var.celltype_specific_gene == 0) & (adata.var.celltype_specific_peak == 0)]\n",
    "    elif GEX:\n",
    "        adata = adata[:, adata.var.celltype_specific_gene == 0]\n",
    "    elif ATAC:\n",
    "        adata = adata[:, adata.var.celltype_specific_peak == 0]\n",
    "\n",
    "    if show_change:\n",
    "        print(\"After:\", adata.shape)\n",
    "\n",
    "    return adata"
   ]
  },
  {
   "cell_type": "code",
   "execution_count": 92,
   "id": "convertible-colombia",
   "metadata": {},
   "outputs": [
    {
     "name": "stdout",
     "output_type": "stream",
     "text": [
      "Getting dictionary for labels...\n"
     ]
    }
   ],
   "source": [
    "# in case you have a hierachical label system and want to add the corresponding labels\n",
    "print('Getting dictionary for labels...')\n",
    "with open(\"/lustre/scratch126/cellgen/team205/jc48/jupyter/SComatic/metadata/fine_to_coarse_dict.pickle\", \"rb\") as file:\n",
    "    fine_to_coarse_dict = pickle.load(file)\n",
    "\n",
    "with open(\"/lustre/scratch126/cellgen/team205/jc48/jupyter/SComatic/metadata/fine_to_mid_dict.pickle\", \"rb\") as file:\n",
    "    fine_to_mid_dict = pickle.load(file)"
   ]
  },
  {
   "cell_type": "markdown",
   "id": "graphic-pulse",
   "metadata": {},
   "source": [
    "# Read SComatic output"
   ]
  },
  {
   "cell_type": "code",
   "execution_count": 93,
   "id": "separated-plenty",
   "metadata": {},
   "outputs": [
    {
     "name": "stdout",
     "output_type": "stream",
     "text": [
      "total 152M\n",
      "drwxr-sr-x 1 16348 1403 4.0K Apr 17 11:29 .\n",
      "drwxr-sr-x 1 16348 1403 4.0K Apr 18 07:16 ..\n",
      "drwxr-sr-x 1 16348 1403 4.0K Mar 27 00:07 C104-ATAC\n",
      "drwxr-sr-x 1 16348 1403 4.0K Apr  8 21:45 C104-ATAC240\n",
      "drwxr-sr-x 1 16348 1403 4.0K Apr  9 02:48 C104-ATAC60\n",
      "drwxr-sr-x 1 16348 1403 4.0K Mar 18 18:41 C104-GEX\n",
      "drwxr-sr-x 1 16348 1403 4.0K Apr  2 14:07 C104-GEX240\n",
      "drwxr-sr-x 1 16348 1403 4.0K Apr  2 17:52 C104-GEX60\n",
      "drwxr-sr-x 1 16348 1403 4.0K Mar 27 07:31 C82-ATAC\n",
      "drwxr-sr-x 1 16348 1403 4.0K Apr 10 22:17 C82-ATAC240\n",
      "drwxr-sr-x 1 16348 1403 4.0K Apr 10 23:45 C82-ATAC60\n",
      "drwxr-sr-x 1 16348 1403 4.0K Mar 19 13:44 C82-GEX\n",
      "drwxr-sr-x 1 16348 1403 4.0K Apr  6 07:50 C82-GEX240\n",
      "drwxr-sr-x 1 16348 1403 4.0K Apr  6 08:40 C82-GEX60\n",
      "drwxr-sr-x 1 16348 1403 4.0K Mar 27 04:49 C85-ATAC\n",
      "drwxr-sr-x 1 16348 1403 4.0K Apr 10 17:02 C85-ATAC240\n",
      "drwxr-sr-x 1 16348 1403 4.0K Apr 10 20:44 C85-ATAC60\n",
      "drwxr-sr-x 1 16348 1403 4.0K Mar 21 17:22 C85-GEX\n",
      "drwxr-sr-x 1 16348 1403 4.0K Apr  6 05:19 C85-GEX240\n",
      "drwxr-sr-x 1 16348 1403 4.0K Apr  6 07:03 C85-GEX60\n",
      "drwxr-sr-x 1 16348 1403 4.0K Mar 21 15:27 C86-GEX\n",
      "drwxr-sr-x 1 16348 1403 4.0K Apr  4 11:17 C86-GEX240\n",
      "drwxr-sr-x 1 16348 1403 4.0K Apr  4 20:50 C86-GEX60\n",
      "drwxr-sr-x 1 16348 1403 4.0K Mar 26 01:54 C87-ATAC\n",
      "drwxr-sr-x 1 16348 1403 4.0K Apr  9 16:54 C87-ATAC240\n",
      "drwxr-sr-x 1 16348 1403 4.0K Apr  9 21:22 C87-ATAC60\n",
      "drwxr-sr-x 1 16348 1403 4.0K Mar 19 12:22 C87-GEX\n",
      "drwxr-sr-x 1 16348 1403 4.0K Apr  4 23:12 C87-GEX240\n",
      "drwxr-sr-x 1 16348 1403 4.0K Apr  5 01:52 C87-GEX60\n",
      "drwxr-sr-x 1 16348 1403 4.0K Mar 26 18:17 C92-ATAC\n",
      "drwxr-sr-x 1 16348 1403 4.0K Apr 10 03:26 C92-ATAC240\n",
      "drwxr-sr-x 1 16348 1403 4.0K Apr 10 13:13 C92-ATAC60\n",
      "drwxr-sr-x 1 16348 1403 4.0K Mar 16 20:20 C92-GEX\n",
      "drwxr-sr-x 1 16348 1403 4.0K Apr  4 06:26 C92-GEX240\n",
      "drwxr-sr-x 1 16348 1403 4.0K Apr  4 13:45 C92-GEX60\n",
      "drwxr-sr-x 1 16348 1403 4.0K Mar 19 09:39 C94-GEX\n",
      "drwxr-sr-x 1 16348 1403 4.0K Apr  5 15:14 C94-GEX240\n",
      "drwxr-sr-x 1 16348 1403 4.0K Apr  6 03:45 C94-GEX60\n",
      "drwxr-sr-x 1 16348 1403 4.0K Mar 21 06:32 C97-GEX\n",
      "drwxr-sr-x 1 16348 1403 4.0K Apr  4 20:38 C97-GEX240\n",
      "drwxr-sr-x 1 16348 1403 4.0K Apr  5 04:21 C97-GEX60\n",
      "drwxr-sr-x 1 16348 1403 4.0K Mar 25 20:40 C98-ATAC\n",
      "drwxr-sr-x 1 16348 1403 4.0K Apr  9 07:32 C98-ATAC240\n",
      "drwxr-sr-x 1 16348 1403 4.0K Apr  9 12:26 C98-ATAC60\n",
      "drwxr-sr-x 1 16348 1403 4.0K Mar 18 21:55 C98-GEX\n",
      "drwxr-sr-x 1 16348 1403 4.0K Apr  3 23:42 C98-GEX240\n",
      "drwxr-sr-x 1 16348 1403 4.0K Apr  4 02:29 C98-GEX60\n",
      "drwxr-sr-x 1 16348 1403 4.0K Mar 20 22:19 C99-GEX\n",
      "drwxr-sr-x 1 16348 1403 4.0K Apr  3 06:05 C99-GEX240\n",
      "drwxr-sr-x 1 16348 1403 4.0K Apr  3 21:03 C99-GEX60\n",
      "-rw-r--r-- 1 16348 1403  23M Mar 30 13:47 celltypes-ATAC240.tsv\n",
      "-rw-r--r-- 1 16348 1403  23M Mar 30 13:48 celltypes-ATAC60.tsv\n",
      "-rw-r--r-- 1 16348 1403  15M Mar 22 10:50 celltypes-ATAC.tsv\n",
      "-rw-r--r-- 1 16348 1403  35M Mar 30 13:48 celltypes-GEX240.tsv\n",
      "-rw-r--r-- 1 16348 1403  34M Mar 30 13:48 celltypes-GEX60.tsv\n",
      "-rw-r--r-- 1 16348 1403  24M Mar 17 14:39 celltypes-GEX.tsv\n",
      "drwxr-sr-x 1 16348 1403 4.0K Mar 25 14:55 Hst33-ATAC\n",
      "drwxr-sr-x 1 16348 1403 4.0K Apr  7 17:58 Hst33-ATAC240\n",
      "drwxr-sr-x 1 16348 1403 4.0K Apr  8 16:36 Hst33-ATAC60\n",
      "drwxr-sr-x 1 16348 1403 4.0K Mar 20 10:13 Hst33-GEX\n",
      "drwxr-sr-x 1 16348 1403 4.0K Apr  1 15:05 Hst33-GEX240\n",
      "drwxr-sr-x 1 16348 1403 4.0K Apr  2 10:30 Hst33-GEX60\n",
      "drwxr-sr-x 1 16348 1403 4.0K Mar 25 21:38 Hst41-ATAC\n",
      "drwxr-sr-x 1 16348 1403 4.0K Apr  8 00:53 Hst41-ATAC240\n",
      "drwxr-sr-x 1 16348 1403 4.0K Apr  9 17:34 Hst41-ATAC60\n",
      "drwxr-sr-x 1 16348 1403 4.0K Mar 19 14:49 Hst41-GEX\n",
      "drwxr-sr-x 1 16348 1403 4.0K Apr  1 13:50 Hst41-GEX240\n",
      "drwxr-sr-x 1 16348 1403 4.0K Apr  4 00:27 Hst41-GEX60\n",
      "drwxr-sr-x 1 16348 1403 4.0K Mar 30 12:45 .ipynb_checkpoints\n",
      "-rw-r--r-- 1 16348 1403 5.0K Mar 22 10:50 mappings-ATAC.csv\n",
      "-rw-r--r-- 1 16348 1403 5.8K Mar 16 20:20 mappings-GEX.csv\n",
      "drwxr-sr-x 1 16348 1403 4.0K Mar 24 16:00 MULTI-ATAC\n",
      "drwxr-sr-x 1 16348 1403 4.0K Apr  5 22:35 MULTI-ATAC240\n",
      "drwxr-sr-x 1 16348 1403 4.0K Apr  6 19:13 MULTI-ATAC60\n",
      "drwxr-sr-x 1 16348 1403 4.0K Mar 18 14:29 MULTI-GEX\n",
      "drwxr-sr-x 1 16348 1403 4.0K Mar 31 04:18 MULTI-GEX240\n",
      "drwxr-sr-x 1 16348 1403 4.0K Mar 31 23:46 MULTI-GEX60\n",
      "-rw-r--r-- 1 16348 1403 6.1K Apr 17 11:29 run-scomatic-ATAC.sh\n",
      "-rw-r--r-- 1 16348 1403 6.2K Apr 17 11:29 run-scomatic-GEX.sh\n",
      "-rw-r--r-- 1 16348 1403  163 Mar 30 12:23 runscript-ATAC.sh\n",
      "-rw-r--r-- 1 16348 1403  159 Mar 30 12:23 runscript-GEX.sh\n",
      "drwxr-sr-x 1 16348 1403 4.0K Mar 16 20:20 SComatic\n",
      "-rw-r--r-- 1 16348 1403 7.9K Mar 16 20:20 SplitBamCellTypesFLAGGED.py\n",
      "-rw-r--r-- 1 16348 1403  341 Mar 22 10:58 splitflagbamwrap-ATAC.sh\n",
      "-rw-r--r-- 1 16348 1403  360 Mar 22 10:57 splitflagbamwrap-GEX.sh\n"
     ]
    }
   ],
   "source": [
    "# Inspect the dir with SComatic outputs\n",
    "scomatic_pipeline_outdir='/lustre/scratch126/cellgen/team205/sharedData/jc48/23-03-16-scomatic'\n",
    "# For each donor and modality (GEX,ATAC) SComatic has been run for original cell type labels, as well as 60 and 240 cell groupings withing labels\n",
    "!ls -lah $scomatic_pipeline_outdir"
   ]
  },
  {
   "cell_type": "code",
   "execution_count": 94,
   "id": "recent-collar",
   "metadata": {},
   "outputs": [],
   "source": [
    "# define donors and modalities you wish to read in\n",
    "donors=[\n",
    " #   'C82',\n",
    " #       'C85',\n",
    "#      'C86',\n",
    " #       'C87',\n",
    "'C92',\n",
    "#        'C94',\n",
    "#        'C97',\n",
    " #       'C98',\n",
    "#        'C99',\n",
    "  #      'C104',\n",
    "'Hst33',\n",
    "        'Hst41',\n",
    "       ]\n",
    "modalities=['GEX','ATAC']\n",
    "\n",
    "thresholds = [0.01,0.05,0.1,0.15,0.2,0.5,0.99] # List of thresholds for binarisation"
   ]
  },
  {
   "cell_type": "code",
   "execution_count": 73,
   "id": "finished-lebanon",
   "metadata": {},
   "outputs": [
    {
     "name": "stdout",
     "output_type": "stream",
     "text": [
      "#######\n",
      "C92\n",
      "#######\n",
      "checking whether adata for this donor has been made today...\n",
      "Reading existing adata file for C92...\n",
      "#######\n",
      "C97\n",
      "#######\n",
      "checking whether adata for this donor has been made today...\n",
      "*** File NOT found, use other notebook to generate.\n",
      "#######\n",
      "Hst33\n",
      "#######\n",
      "checking whether adata for this donor has been made today...\n",
      "Reading existing adata file for Hst33...\n",
      "#######\n",
      "Hst41\n",
      "#######\n",
      "checking whether adata for this donor has been made today...\n",
      "Reading existing adata file for Hst41...\n",
      "DONE\n",
      "CPU times: user 901 ms, sys: 932 ms, total: 1.83 s\n",
      "Wall time: 1.84 s\n"
     ]
    }
   ],
   "source": [
    "%%time\n",
    "list_of_adata_objects=[]\n",
    "\n",
    "for donor in donors:\n",
    "\n",
    "                print(\"#######\")\n",
    "                print(donor)\n",
    "                print(\"#######\")\n",
    "                \n",
    "                \n",
    "                # Check if the file exists for this donor and date\n",
    "                print('checking whether adata for this donor has been made today...')\n",
    "                file_path = f'/lustre/scratch126/cellgen/team205/jc48/jupyter/SComatic/results/{donor}/{today}_{donor}_scomatic_postprocessed.h5ad'\n",
    "                if os.path.exists(file_path):\n",
    "                                print(f\"Reading existing adata file for {donor}...\")\n",
    "                                adata = ad.read(file_path)\n",
    "                                list_of_adata_objects.append(adata)\n",
    "                else:\n",
    "                                print('*** File NOT found, use other notebook to generate.')\n",
    "print('DONE')"
   ]
  },
  {
   "cell_type": "markdown",
   "id": "specialized-beaver",
   "metadata": {},
   "source": [
    "# Use adata from one donor"
   ]
  },
  {
   "cell_type": "code",
   "execution_count": 76,
   "id": "monetary-communications",
   "metadata": {},
   "outputs": [
    {
     "data": {
      "text/plain": [
       "[AnnData object with n_obs × n_vars = 48 × 25271\n",
       "     obs: 'donor', 'n_cells_GEX', 'n_cells_ATAC', 'fine_grain', 'mid_grain', 'coarse_grain'\n",
       "     var: 'CHROM', 'Start', 'End', 'REF', 'ALT', 'FILTER', 'Cell_types', 'Up_context', 'Down_context', 'N_ALT', 'Dp', 'Nc', 'Bc', 'Cc', 'VAF', 'CCF', 'BCp', 'CCp', 'Cell_types_min_BC', 'Cell_types_min_CC', 'Rest_BC', 'Rest_CC', 'Fisher_p', 'Cell_type_Filter', 'INFO', 'CCF_mean', 'ALT_unique', 'VAR_ID', 'Gnomad', 'n_cell_types_with_mutation', 'n_cell_types_callable', 'gene_name', 'biotype', 'celltype_specific_gene', 'celltype_specific_peak'\n",
       "     layers: 'NC_layer', 'mutations_binary_non_zero', 'mutations_binary_threshold0.01', 'mutations_binary_threshold0.05', 'mutations_binary_threshold0.10', 'mutations_binary_threshold0.15', 'mutations_binary_threshold0.20', 'mutations_binary_threshold0.50', 'mutations_binary_threshold0.99',\n",
       " AnnData object with n_obs × n_vars = 57 × 59987\n",
       "     obs: 'donor', 'n_cells_GEX', 'n_cells_ATAC', 'fine_grain', 'mid_grain', 'coarse_grain'\n",
       "     var: 'CHROM', 'Start', 'End', 'REF', 'ALT', 'FILTER', 'Cell_types', 'Up_context', 'Down_context', 'N_ALT', 'Dp', 'Nc', 'Bc', 'Cc', 'VAF', 'CCF', 'BCp', 'CCp', 'Cell_types_min_BC', 'Cell_types_min_CC', 'Rest_BC', 'Rest_CC', 'Fisher_p', 'Cell_type_Filter', 'INFO', 'CCF_mean', 'ALT_unique', 'VAR_ID', 'Gnomad', 'n_cell_types_with_mutation', 'n_cell_types_callable', 'gene_name', 'biotype', 'celltype_specific_gene', 'celltype_specific_peak'\n",
       "     layers: 'NC_layer', 'mutations_binary_non_zero', 'mutations_binary_threshold0.01', 'mutations_binary_threshold0.05', 'mutations_binary_threshold0.10', 'mutations_binary_threshold0.15', 'mutations_binary_threshold0.20', 'mutations_binary_threshold0.50', 'mutations_binary_threshold0.99',\n",
       " AnnData object with n_obs × n_vars = 62 × 220074\n",
       "     obs: 'donor', 'n_cells_GEX', 'n_cells_ATAC', 'fine_grain', 'mid_grain', 'coarse_grain'\n",
       "     var: 'CHROM', 'Start', 'End', 'REF', 'ALT', 'FILTER', 'Cell_types', 'Up_context', 'Down_context', 'N_ALT', 'Dp', 'Nc', 'Bc', 'Cc', 'VAF', 'CCF', 'BCp', 'CCp', 'Cell_types_min_BC', 'Cell_types_min_CC', 'Rest_BC', 'Rest_CC', 'Fisher_p', 'Cell_type_Filter', 'INFO', 'CCF_mean', 'ALT_unique', 'VAR_ID', 'Gnomad', 'n_cell_types_with_mutation', 'n_cell_types_callable', 'gene_name', 'biotype', 'celltype_specific_gene', 'celltype_specific_peak'\n",
       "     layers: 'NC_layer', 'mutations_binary_non_zero', 'mutations_binary_threshold0.01', 'mutations_binary_threshold0.05', 'mutations_binary_threshold0.10', 'mutations_binary_threshold0.15', 'mutations_binary_threshold0.20', 'mutations_binary_threshold0.50', 'mutations_binary_threshold0.99']"
      ]
     },
     "execution_count": 76,
     "metadata": {},
     "output_type": "execute_result"
    }
   ],
   "source": [
    "list_of_adata_objects"
   ]
  },
  {
   "cell_type": "code",
   "execution_count": 77,
   "id": "surrounded-invite",
   "metadata": {},
   "outputs": [],
   "source": [
    "adata=list_of_adata_objects[2]"
   ]
  },
  {
   "cell_type": "code",
   "execution_count": 78,
   "id": "treated-thinking",
   "metadata": {},
   "outputs": [
    {
     "data": {
      "text/plain": [
       "AnnData object with n_obs × n_vars = 62 × 220074\n",
       "    obs: 'donor', 'n_cells_GEX', 'n_cells_ATAC', 'fine_grain', 'mid_grain', 'coarse_grain'\n",
       "    var: 'CHROM', 'Start', 'End', 'REF', 'ALT', 'FILTER', 'Cell_types', 'Up_context', 'Down_context', 'N_ALT', 'Dp', 'Nc', 'Bc', 'Cc', 'VAF', 'CCF', 'BCp', 'CCp', 'Cell_types_min_BC', 'Cell_types_min_CC', 'Rest_BC', 'Rest_CC', 'Fisher_p', 'Cell_type_Filter', 'INFO', 'CCF_mean', 'ALT_unique', 'VAR_ID', 'Gnomad', 'n_cell_types_with_mutation', 'n_cell_types_callable', 'gene_name', 'biotype', 'celltype_specific_gene', 'celltype_specific_peak'\n",
       "    layers: 'NC_layer', 'mutations_binary_non_zero', 'mutations_binary_threshold0.01', 'mutations_binary_threshold0.05', 'mutations_binary_threshold0.10', 'mutations_binary_threshold0.15', 'mutations_binary_threshold0.20', 'mutations_binary_threshold0.50', 'mutations_binary_threshold0.99'"
      ]
     },
     "execution_count": 78,
     "metadata": {},
     "output_type": "execute_result"
    }
   ],
   "source": [
    "adata"
   ]
  },
  {
   "cell_type": "code",
   "execution_count": 79,
   "id": "advised-child",
   "metadata": {},
   "outputs": [
    {
     "data": {
      "text/html": [
       "<div>\n",
       "<style scoped>\n",
       "    .dataframe tbody tr th:only-of-type {\n",
       "        vertical-align: middle;\n",
       "    }\n",
       "\n",
       "    .dataframe tbody tr th {\n",
       "        vertical-align: top;\n",
       "    }\n",
       "\n",
       "    .dataframe thead th {\n",
       "        text-align: right;\n",
       "    }\n",
       "</style>\n",
       "<table border=\"1\" class=\"dataframe\">\n",
       "  <thead>\n",
       "    <tr style=\"text-align: right;\">\n",
       "      <th></th>\n",
       "      <th>donor</th>\n",
       "      <th>n_cells_GEX</th>\n",
       "      <th>n_cells_ATAC</th>\n",
       "      <th>fine_grain</th>\n",
       "      <th>mid_grain</th>\n",
       "      <th>coarse_grain</th>\n",
       "    </tr>\n",
       "  </thead>\n",
       "  <tbody>\n",
       "    <tr>\n",
       "      <th>MacrophagesTIMD4pos</th>\n",
       "      <td>Hst41</td>\n",
       "      <td>307</td>\n",
       "      <td>263</td>\n",
       "      <td>MacrophagesTIMD4pos</td>\n",
       "      <td>MyeloidCells</td>\n",
       "      <td>Leukocytes</td>\n",
       "    </tr>\n",
       "    <tr>\n",
       "      <th>ProBCells</th>\n",
       "      <td>Hst41</td>\n",
       "      <td>546</td>\n",
       "      <td>441</td>\n",
       "      <td>ProBCells</td>\n",
       "      <td>LymphoidCells</td>\n",
       "      <td>Leukocytes</td>\n",
       "    </tr>\n",
       "    <tr>\n",
       "      <th>AtrialCardiomyocytesRight</th>\n",
       "      <td>Hst41</td>\n",
       "      <td>630</td>\n",
       "      <td>547</td>\n",
       "      <td>AtrialCardiomyocytesRight</td>\n",
       "      <td>AtrialCardiomyocytes</td>\n",
       "      <td>Cardiomyocytes</td>\n",
       "    </tr>\n",
       "    <tr>\n",
       "      <th>EpicardiumDerivedCells</th>\n",
       "      <td>Hst41</td>\n",
       "      <td>577</td>\n",
       "      <td>191</td>\n",
       "      <td>EpicardiumDerivedCells</td>\n",
       "      <td>EpicardialCells</td>\n",
       "      <td>Epicardium</td>\n",
       "    </tr>\n",
       "    <tr>\n",
       "      <th>Myofibroblasts</th>\n",
       "      <td>Hst41</td>\n",
       "      <td>977</td>\n",
       "      <td>823</td>\n",
       "      <td>Myofibroblasts</td>\n",
       "      <td>Fibroblasts</td>\n",
       "      <td>Mesenchymal</td>\n",
       "    </tr>\n",
       "    <tr>\n",
       "      <th>...</th>\n",
       "      <td>...</td>\n",
       "      <td>...</td>\n",
       "      <td>...</td>\n",
       "      <td>...</td>\n",
       "      <td>...</td>\n",
       "      <td>...</td>\n",
       "    </tr>\n",
       "    <tr>\n",
       "      <th>SympatheticNeurons</th>\n",
       "      <td>Hst41</td>\n",
       "      <td>40</td>\n",
       "      <td>29</td>\n",
       "      <td>SympatheticNeurons</td>\n",
       "      <td>Neurons</td>\n",
       "      <td>Neural</td>\n",
       "    </tr>\n",
       "    <tr>\n",
       "      <th>MonocyteDerivedCells</th>\n",
       "      <td>Hst41</td>\n",
       "      <td>341</td>\n",
       "      <td>288</td>\n",
       "      <td>MonocyteDerivedCells</td>\n",
       "      <td>MyeloidCells</td>\n",
       "      <td>Leukocytes</td>\n",
       "    </tr>\n",
       "    <tr>\n",
       "      <th>TCellsCD4pos</th>\n",
       "      <td>Hst41</td>\n",
       "      <td>4688</td>\n",
       "      <td>3984</td>\n",
       "      <td>TCellsCD4pos</td>\n",
       "      <td>LymphoidCells</td>\n",
       "      <td>Leukocytes</td>\n",
       "    </tr>\n",
       "    <tr>\n",
       "      <th>SinoatrialNodeCardiomyocytes</th>\n",
       "      <td>Hst41</td>\n",
       "      <td>108</td>\n",
       "      <td>79</td>\n",
       "      <td>SinoatrialNodeCardiomyocytes</td>\n",
       "      <td>CardiacConductionSystem</td>\n",
       "      <td>Cardiomyocytes</td>\n",
       "    </tr>\n",
       "    <tr>\n",
       "      <th>GreatVesselArterialEndothelialCells</th>\n",
       "      <td>Hst41</td>\n",
       "      <td>1026</td>\n",
       "      <td>381</td>\n",
       "      <td>GreatVesselArterialEndothelialCells</td>\n",
       "      <td>BloodVesselEndothelialCells</td>\n",
       "      <td>Endothelium</td>\n",
       "    </tr>\n",
       "  </tbody>\n",
       "</table>\n",
       "<p>62 rows × 6 columns</p>\n",
       "</div>"
      ],
      "text/plain": [
       "                                     donor  n_cells_GEX  n_cells_ATAC  \\\n",
       "MacrophagesTIMD4pos                  Hst41          307           263   \n",
       "ProBCells                            Hst41          546           441   \n",
       "AtrialCardiomyocytesRight            Hst41          630           547   \n",
       "EpicardiumDerivedCells               Hst41          577           191   \n",
       "Myofibroblasts                       Hst41          977           823   \n",
       "...                                    ...          ...           ...   \n",
       "SympatheticNeurons                   Hst41           40            29   \n",
       "MonocyteDerivedCells                 Hst41          341           288   \n",
       "TCellsCD4pos                         Hst41         4688          3984   \n",
       "SinoatrialNodeCardiomyocytes         Hst41          108            79   \n",
       "GreatVesselArterialEndothelialCells  Hst41         1026           381   \n",
       "\n",
       "                                                              fine_grain  \\\n",
       "MacrophagesTIMD4pos                                  MacrophagesTIMD4pos   \n",
       "ProBCells                                                      ProBCells   \n",
       "AtrialCardiomyocytesRight                      AtrialCardiomyocytesRight   \n",
       "EpicardiumDerivedCells                            EpicardiumDerivedCells   \n",
       "Myofibroblasts                                            Myofibroblasts   \n",
       "...                                                                  ...   \n",
       "SympatheticNeurons                                    SympatheticNeurons   \n",
       "MonocyteDerivedCells                                MonocyteDerivedCells   \n",
       "TCellsCD4pos                                                TCellsCD4pos   \n",
       "SinoatrialNodeCardiomyocytes                SinoatrialNodeCardiomyocytes   \n",
       "GreatVesselArterialEndothelialCells  GreatVesselArterialEndothelialCells   \n",
       "\n",
       "                                                       mid_grain  \\\n",
       "MacrophagesTIMD4pos                                 MyeloidCells   \n",
       "ProBCells                                          LymphoidCells   \n",
       "AtrialCardiomyocytesRight                   AtrialCardiomyocytes   \n",
       "EpicardiumDerivedCells                           EpicardialCells   \n",
       "Myofibroblasts                                       Fibroblasts   \n",
       "...                                                          ...   \n",
       "SympatheticNeurons                                       Neurons   \n",
       "MonocyteDerivedCells                                MyeloidCells   \n",
       "TCellsCD4pos                                       LymphoidCells   \n",
       "SinoatrialNodeCardiomyocytes             CardiacConductionSystem   \n",
       "GreatVesselArterialEndothelialCells  BloodVesselEndothelialCells   \n",
       "\n",
       "                                       coarse_grain  \n",
       "MacrophagesTIMD4pos                      Leukocytes  \n",
       "ProBCells                                Leukocytes  \n",
       "AtrialCardiomyocytesRight            Cardiomyocytes  \n",
       "EpicardiumDerivedCells                   Epicardium  \n",
       "Myofibroblasts                          Mesenchymal  \n",
       "...                                             ...  \n",
       "SympatheticNeurons                           Neural  \n",
       "MonocyteDerivedCells                     Leukocytes  \n",
       "TCellsCD4pos                             Leukocytes  \n",
       "SinoatrialNodeCardiomyocytes         Cardiomyocytes  \n",
       "GreatVesselArterialEndothelialCells     Endothelium  \n",
       "\n",
       "[62 rows x 6 columns]"
      ]
     },
     "execution_count": 79,
     "metadata": {},
     "output_type": "execute_result"
    }
   ],
   "source": [
    "adata.obs"
   ]
  },
  {
   "cell_type": "code",
   "execution_count": 80,
   "id": "respiratory-vector",
   "metadata": {},
   "outputs": [
    {
     "data": {
      "text/html": [
       "<div>\n",
       "<style scoped>\n",
       "    .dataframe tbody tr th:only-of-type {\n",
       "        vertical-align: middle;\n",
       "    }\n",
       "\n",
       "    .dataframe tbody tr th {\n",
       "        vertical-align: top;\n",
       "    }\n",
       "\n",
       "    .dataframe thead th {\n",
       "        text-align: right;\n",
       "    }\n",
       "</style>\n",
       "<table border=\"1\" class=\"dataframe\">\n",
       "  <thead>\n",
       "    <tr style=\"text-align: right;\">\n",
       "      <th></th>\n",
       "      <th>CHROM</th>\n",
       "      <th>Start</th>\n",
       "      <th>End</th>\n",
       "      <th>REF</th>\n",
       "      <th>ALT</th>\n",
       "      <th>FILTER</th>\n",
       "      <th>Cell_types</th>\n",
       "      <th>Up_context</th>\n",
       "      <th>Down_context</th>\n",
       "      <th>N_ALT</th>\n",
       "      <th>...</th>\n",
       "      <th>CCF_mean</th>\n",
       "      <th>ALT_unique</th>\n",
       "      <th>VAR_ID</th>\n",
       "      <th>Gnomad</th>\n",
       "      <th>n_cell_types_with_mutation</th>\n",
       "      <th>n_cell_types_callable</th>\n",
       "      <th>gene_name</th>\n",
       "      <th>biotype</th>\n",
       "      <th>celltype_specific_gene</th>\n",
       "      <th>celltype_specific_peak</th>\n",
       "    </tr>\n",
       "  </thead>\n",
       "  <tbody>\n",
       "    <tr>\n",
       "      <th>GEX-0</th>\n",
       "      <td>chr1</td>\n",
       "      <td>629402</td>\n",
       "      <td>629402</td>\n",
       "      <td>T</td>\n",
       "      <td>C</td>\n",
       "      <td>Cell_type_noise</td>\n",
       "      <td>GreatVesselSmoothMuscleCells-Hst41</td>\n",
       "      <td>ACCCA</td>\n",
       "      <td>TACAA</td>\n",
       "      <td>1</td>\n",
       "      <td>...</td>\n",
       "      <td>0.052600</td>\n",
       "      <td>C</td>\n",
       "      <td>chr1-629402-T-C</td>\n",
       "      <td>Gnomad &lt; 0.01</td>\n",
       "      <td>1</td>\n",
       "      <td>8</td>\n",
       "      <td>MTND1P23</td>\n",
       "      <td>unprocessed_pseudogene</td>\n",
       "      <td>0</td>\n",
       "      <td>0</td>\n",
       "    </tr>\n",
       "    <tr>\n",
       "      <th>GEX-1</th>\n",
       "      <td>chr1</td>\n",
       "      <td>629917</td>\n",
       "      <td>629917</td>\n",
       "      <td>A</td>\n",
       "      <td>G</td>\n",
       "      <td>Cell_type_noise</td>\n",
       "      <td>CoronaryArterialEndothelialCells-Hst41</td>\n",
       "      <td>TCAAT</td>\n",
       "      <td>CTCAT</td>\n",
       "      <td>1</td>\n",
       "      <td>...</td>\n",
       "      <td>0.200000</td>\n",
       "      <td>G</td>\n",
       "      <td>chr1-629917-A-G</td>\n",
       "      <td>Gnomad &lt; 0.01</td>\n",
       "      <td>1</td>\n",
       "      <td>38</td>\n",
       "      <td>MTND2P28</td>\n",
       "      <td>unprocessed_pseudogene</td>\n",
       "      <td>0</td>\n",
       "      <td>0</td>\n",
       "    </tr>\n",
       "    <tr>\n",
       "      <th>GEX-2</th>\n",
       "      <td>chr1</td>\n",
       "      <td>631848</td>\n",
       "      <td>631848</td>\n",
       "      <td>A</td>\n",
       "      <td>G</td>\n",
       "      <td>Cell_type_noise</td>\n",
       "      <td>TCellsCD8pos-Hst41</td>\n",
       "      <td>TTGTA</td>\n",
       "      <td>CTTAC</td>\n",
       "      <td>1</td>\n",
       "      <td>...</td>\n",
       "      <td>0.166700</td>\n",
       "      <td>G</td>\n",
       "      <td>chr1-631848-A-G</td>\n",
       "      <td>Gnomad &lt; 0.01</td>\n",
       "      <td>1</td>\n",
       "      <td>8</td>\n",
       "      <td>MTCO1P12</td>\n",
       "      <td>unprocessed_pseudogene</td>\n",
       "      <td>0</td>\n",
       "      <td>0</td>\n",
       "    </tr>\n",
       "    <tr>\n",
       "      <th>GEX-3</th>\n",
       "      <td>chr1</td>\n",
       "      <td>633428</td>\n",
       "      <td>633428</td>\n",
       "      <td>T</td>\n",
       "      <td>C</td>\n",
       "      <td>Cell_type_noise</td>\n",
       "      <td>GreatVesselAdventitialFibroblasts-Hst41</td>\n",
       "      <td>CGTAT</td>\n",
       "      <td>TACCC</td>\n",
       "      <td>1</td>\n",
       "      <td>...</td>\n",
       "      <td>0.032300</td>\n",
       "      <td>C</td>\n",
       "      <td>chr1-633428-T-C</td>\n",
       "      <td>Gnomad &lt; 0.01</td>\n",
       "      <td>1</td>\n",
       "      <td>13</td>\n",
       "      <td>MTCO2P12</td>\n",
       "      <td>unprocessed_pseudogene</td>\n",
       "      <td>0</td>\n",
       "      <td>0</td>\n",
       "    </tr>\n",
       "    <tr>\n",
       "      <th>GEX-4</th>\n",
       "      <td>chr1</td>\n",
       "      <td>633974</td>\n",
       "      <td>633974</td>\n",
       "      <td>A</td>\n",
       "      <td>G</td>\n",
       "      <td>Cell_type_noise</td>\n",
       "      <td>MacrophagesCX3CR1pos-Hst41</td>\n",
       "      <td>TTTAC</td>\n",
       "      <td>CCAAC</td>\n",
       "      <td>1</td>\n",
       "      <td>...</td>\n",
       "      <td>0.050000</td>\n",
       "      <td>G</td>\n",
       "      <td>chr1-633974-A-G</td>\n",
       "      <td>Gnomad &lt; 0.01</td>\n",
       "      <td>1</td>\n",
       "      <td>59</td>\n",
       "      <td>MTATP6P1</td>\n",
       "      <td>unprocessed_pseudogene</td>\n",
       "      <td>0</td>\n",
       "      <td>0</td>\n",
       "    </tr>\n",
       "    <tr>\n",
       "      <th>...</th>\n",
       "      <td>...</td>\n",
       "      <td>...</td>\n",
       "      <td>...</td>\n",
       "      <td>...</td>\n",
       "      <td>...</td>\n",
       "      <td>...</td>\n",
       "      <td>...</td>\n",
       "      <td>...</td>\n",
       "      <td>...</td>\n",
       "      <td>...</td>\n",
       "      <td>...</td>\n",
       "      <td>...</td>\n",
       "      <td>...</td>\n",
       "      <td>...</td>\n",
       "      <td>...</td>\n",
       "      <td>...</td>\n",
       "      <td>...</td>\n",
       "      <td>...</td>\n",
       "      <td>...</td>\n",
       "      <td>...</td>\n",
       "      <td>...</td>\n",
       "    </tr>\n",
       "    <tr>\n",
       "      <th>ATAC-219223</th>\n",
       "      <td>chrY</td>\n",
       "      <td>56869920</td>\n",
       "      <td>56869920</td>\n",
       "      <td>C</td>\n",
       "      <td>T</td>\n",
       "      <td>PASS</td>\n",
       "      <td>GreatVesselAdventitialFibroblasts-Hst41</td>\n",
       "      <td>AGGAG</td>\n",
       "      <td>TAAAT</td>\n",
       "      <td>1</td>\n",
       "      <td>...</td>\n",
       "      <td>0.444400</td>\n",
       "      <td>T</td>\n",
       "      <td>chrY-56869920-C-T</td>\n",
       "      <td>Gnomad &lt; 0.01</td>\n",
       "      <td>1</td>\n",
       "      <td>2</td>\n",
       "      <td>not_in_gene</td>\n",
       "      <td>not_in_gene</td>\n",
       "      <td>0</td>\n",
       "      <td>0</td>\n",
       "    </tr>\n",
       "    <tr>\n",
       "      <th>ATAC-219224</th>\n",
       "      <td>chrY</td>\n",
       "      <td>56871034</td>\n",
       "      <td>56871034</td>\n",
       "      <td>T</td>\n",
       "      <td>A,A,A</td>\n",
       "      <td>Cell_type_noise</td>\n",
       "      <td>GreatVesselSmoothMuscleCells-Hst41,GreatVessel...</td>\n",
       "      <td>CCTCA</td>\n",
       "      <td>CCTCT</td>\n",
       "      <td>1</td>\n",
       "      <td>...</td>\n",
       "      <td>0.184600</td>\n",
       "      <td>A</td>\n",
       "      <td>chrY-56871034-T-A</td>\n",
       "      <td>Gnomad &lt; 0.01</td>\n",
       "      <td>3</td>\n",
       "      <td>4</td>\n",
       "      <td>not_in_gene</td>\n",
       "      <td>not_in_gene</td>\n",
       "      <td>0</td>\n",
       "      <td>0</td>\n",
       "    </tr>\n",
       "    <tr>\n",
       "      <th>ATAC-219225</th>\n",
       "      <td>chrY</td>\n",
       "      <td>56871573</td>\n",
       "      <td>56871573</td>\n",
       "      <td>C</td>\n",
       "      <td>T</td>\n",
       "      <td>Cell_type_noise</td>\n",
       "      <td>GreatVesselSmoothMuscleCells-Hst41</td>\n",
       "      <td>TACTA</td>\n",
       "      <td>CTGAG</td>\n",
       "      <td>1</td>\n",
       "      <td>...</td>\n",
       "      <td>0.142900</td>\n",
       "      <td>T</td>\n",
       "      <td>chrY-56871573-C-T</td>\n",
       "      <td>Gnomad &lt; 0.01</td>\n",
       "      <td>1</td>\n",
       "      <td>2</td>\n",
       "      <td>not_in_gene</td>\n",
       "      <td>not_in_gene</td>\n",
       "      <td>0</td>\n",
       "      <td>0</td>\n",
       "    </tr>\n",
       "    <tr>\n",
       "      <th>ATAC-219226</th>\n",
       "      <td>chrY</td>\n",
       "      <td>56872271</td>\n",
       "      <td>56872271</td>\n",
       "      <td>T</td>\n",
       "      <td>A,A,A</td>\n",
       "      <td>Cell_type_noise</td>\n",
       "      <td>PericardialCells1-Hst41,GreatVesselSmoothMuscl...</td>\n",
       "      <td>ATCCA</td>\n",
       "      <td>GCTGC</td>\n",
       "      <td>1</td>\n",
       "      <td>...</td>\n",
       "      <td>0.387867</td>\n",
       "      <td>A</td>\n",
       "      <td>chrY-56872271-T-A</td>\n",
       "      <td>Gnomad &lt; 0.01</td>\n",
       "      <td>3</td>\n",
       "      <td>3</td>\n",
       "      <td>not_in_gene</td>\n",
       "      <td>not_in_gene</td>\n",
       "      <td>0</td>\n",
       "      <td>0</td>\n",
       "    </tr>\n",
       "    <tr>\n",
       "      <th>ATAC-219227</th>\n",
       "      <td>chrY</td>\n",
       "      <td>56872286</td>\n",
       "      <td>56872286</td>\n",
       "      <td>A</td>\n",
       "      <td>C,C</td>\n",
       "      <td>PASS</td>\n",
       "      <td>PericardialCells1-Hst41,GreatVesselAdventitial...</td>\n",
       "      <td>CCTAA</td>\n",
       "      <td>CATGT</td>\n",
       "      <td>1</td>\n",
       "      <td>...</td>\n",
       "      <td>0.716650</td>\n",
       "      <td>C</td>\n",
       "      <td>chrY-56872286-A-C</td>\n",
       "      <td>Gnomad &lt; 0.01</td>\n",
       "      <td>2</td>\n",
       "      <td>2</td>\n",
       "      <td>not_in_gene</td>\n",
       "      <td>not_in_gene</td>\n",
       "      <td>0</td>\n",
       "      <td>0</td>\n",
       "    </tr>\n",
       "  </tbody>\n",
       "</table>\n",
       "<p>220074 rows × 35 columns</p>\n",
       "</div>"
      ],
      "text/plain": [
       "            CHROM     Start       End REF    ALT           FILTER  \\\n",
       "GEX-0        chr1    629402    629402   T      C  Cell_type_noise   \n",
       "GEX-1        chr1    629917    629917   A      G  Cell_type_noise   \n",
       "GEX-2        chr1    631848    631848   A      G  Cell_type_noise   \n",
       "GEX-3        chr1    633428    633428   T      C  Cell_type_noise   \n",
       "GEX-4        chr1    633974    633974   A      G  Cell_type_noise   \n",
       "...           ...       ...       ...  ..    ...              ...   \n",
       "ATAC-219223  chrY  56869920  56869920   C      T             PASS   \n",
       "ATAC-219224  chrY  56871034  56871034   T  A,A,A  Cell_type_noise   \n",
       "ATAC-219225  chrY  56871573  56871573   C      T  Cell_type_noise   \n",
       "ATAC-219226  chrY  56872271  56872271   T  A,A,A  Cell_type_noise   \n",
       "ATAC-219227  chrY  56872286  56872286   A    C,C             PASS   \n",
       "\n",
       "                                                    Cell_types Up_context  \\\n",
       "GEX-0                       GreatVesselSmoothMuscleCells-Hst41      ACCCA   \n",
       "GEX-1                   CoronaryArterialEndothelialCells-Hst41      TCAAT   \n",
       "GEX-2                                       TCellsCD8pos-Hst41      TTGTA   \n",
       "GEX-3                  GreatVesselAdventitialFibroblasts-Hst41      CGTAT   \n",
       "GEX-4                               MacrophagesCX3CR1pos-Hst41      TTTAC   \n",
       "...                                                        ...        ...   \n",
       "ATAC-219223            GreatVesselAdventitialFibroblasts-Hst41      AGGAG   \n",
       "ATAC-219224  GreatVesselSmoothMuscleCells-Hst41,GreatVessel...      CCTCA   \n",
       "ATAC-219225                 GreatVesselSmoothMuscleCells-Hst41      TACTA   \n",
       "ATAC-219226  PericardialCells1-Hst41,GreatVesselSmoothMuscl...      ATCCA   \n",
       "ATAC-219227  PericardialCells1-Hst41,GreatVesselAdventitial...      CCTAA   \n",
       "\n",
       "            Down_context N_ALT  ...  CCF_mean ALT_unique             VAR_ID  \\\n",
       "GEX-0              TACAA     1  ...  0.052600          C    chr1-629402-T-C   \n",
       "GEX-1              CTCAT     1  ...  0.200000          G    chr1-629917-A-G   \n",
       "GEX-2              CTTAC     1  ...  0.166700          G    chr1-631848-A-G   \n",
       "GEX-3              TACCC     1  ...  0.032300          C    chr1-633428-T-C   \n",
       "GEX-4              CCAAC     1  ...  0.050000          G    chr1-633974-A-G   \n",
       "...                  ...   ...  ...       ...        ...                ...   \n",
       "ATAC-219223        TAAAT     1  ...  0.444400          T  chrY-56869920-C-T   \n",
       "ATAC-219224        CCTCT     1  ...  0.184600          A  chrY-56871034-T-A   \n",
       "ATAC-219225        CTGAG     1  ...  0.142900          T  chrY-56871573-C-T   \n",
       "ATAC-219226        GCTGC     1  ...  0.387867          A  chrY-56872271-T-A   \n",
       "ATAC-219227        CATGT     1  ...  0.716650          C  chrY-56872286-A-C   \n",
       "\n",
       "                    Gnomad n_cell_types_with_mutation n_cell_types_callable  \\\n",
       "GEX-0        Gnomad < 0.01                          1                     8   \n",
       "GEX-1        Gnomad < 0.01                          1                    38   \n",
       "GEX-2        Gnomad < 0.01                          1                     8   \n",
       "GEX-3        Gnomad < 0.01                          1                    13   \n",
       "GEX-4        Gnomad < 0.01                          1                    59   \n",
       "...                    ...                        ...                   ...   \n",
       "ATAC-219223  Gnomad < 0.01                          1                     2   \n",
       "ATAC-219224  Gnomad < 0.01                          3                     4   \n",
       "ATAC-219225  Gnomad < 0.01                          1                     2   \n",
       "ATAC-219226  Gnomad < 0.01                          3                     3   \n",
       "ATAC-219227  Gnomad < 0.01                          2                     2   \n",
       "\n",
       "               gene_name                 biotype  celltype_specific_gene  \\\n",
       "GEX-0           MTND1P23  unprocessed_pseudogene                       0   \n",
       "GEX-1           MTND2P28  unprocessed_pseudogene                       0   \n",
       "GEX-2           MTCO1P12  unprocessed_pseudogene                       0   \n",
       "GEX-3           MTCO2P12  unprocessed_pseudogene                       0   \n",
       "GEX-4           MTATP6P1  unprocessed_pseudogene                       0   \n",
       "...                  ...                     ...                     ...   \n",
       "ATAC-219223  not_in_gene             not_in_gene                       0   \n",
       "ATAC-219224  not_in_gene             not_in_gene                       0   \n",
       "ATAC-219225  not_in_gene             not_in_gene                       0   \n",
       "ATAC-219226  not_in_gene             not_in_gene                       0   \n",
       "ATAC-219227  not_in_gene             not_in_gene                       0   \n",
       "\n",
       "             celltype_specific_peak  \n",
       "GEX-0                             0  \n",
       "GEX-1                             0  \n",
       "GEX-2                             0  \n",
       "GEX-3                             0  \n",
       "GEX-4                             0  \n",
       "...                             ...  \n",
       "ATAC-219223                       0  \n",
       "ATAC-219224                       0  \n",
       "ATAC-219225                       0  \n",
       "ATAC-219226                       0  \n",
       "ATAC-219227                       0  \n",
       "\n",
       "[220074 rows x 35 columns]"
      ]
     },
     "execution_count": 80,
     "metadata": {},
     "output_type": "execute_result"
    }
   ],
   "source": [
    "adata.var"
   ]
  },
  {
   "cell_type": "code",
   "execution_count": 81,
   "id": "comparable-operator",
   "metadata": {},
   "outputs": [
    {
     "data": {
      "image/png": "[encoded data removed]",
      "text/plain": [
       "<Figure size 640x480 with 1 Axes>"
      ]
     },
     "metadata": {},
     "output_type": "display_data"
    }
   ],
   "source": [
    "import numpy as np\n",
    "import matplotlib.pyplot as plt\n",
    "\n",
    "# Extract non-NaN values from adata.X\n",
    "non_nan_values = adata.X[~np.isnan(adata.X)]\n",
    "non_nan_non_zero_values = [v for v in non_nan_values if v!=0]\n",
    "\n",
    "# Plot a histogram of non-NaN values\n",
    "sns.histplot(non_nan_non_zero_values, bins=50, kde=True)\n",
    "plt.xlabel('Value')\n",
    "plt.ylabel('Frequency')\n",
    "plt.title('Histogram of non-zero CCF values in adata.X')\n",
    "plt.show()"
   ]
  },
  {
   "cell_type": "code",
   "execution_count": 82,
   "id": "greek-situation",
   "metadata": {},
   "outputs": [
    {
     "data": {
      "text/plain": [
       "NaN    11647662\n",
       "0.0     1742854\n",
       "1.0      254072\n",
       "dtype: int64"
      ]
     },
     "execution_count": 82,
     "metadata": {},
     "output_type": "execute_result"
    }
   ],
   "source": [
    "stacked_series = pd.DataFrame(adata.layers[\"mutations_binary_non_zero\"]).stack(dropna=False)\n",
    "stacked_series.value_counts(dropna=False)"
   ]
  },
  {
   "cell_type": "code",
   "execution_count": 83,
   "id": "subject-spending",
   "metadata": {},
   "outputs": [
    {
     "data": {
      "text/plain": [
       "NaN    11647662\n",
       "0.0     1744003\n",
       "1.0      252923\n",
       "dtype: int64"
      ]
     },
     "execution_count": 83,
     "metadata": {},
     "output_type": "execute_result"
    }
   ],
   "source": [
    "stacked_series = pd.DataFrame(adata.layers[\"mutations_binary_threshold0.01\"]).stack(dropna=False)\n",
    "stacked_series.value_counts(dropna=False)"
   ]
  },
  {
   "cell_type": "code",
   "execution_count": 84,
   "id": "middle-columbus",
   "metadata": {},
   "outputs": [
    {
     "data": {
      "text/plain": [
       "NaN    11647662\n",
       "0.0     1775339\n",
       "1.0      221587\n",
       "dtype: int64"
      ]
     },
     "execution_count": 84,
     "metadata": {},
     "output_type": "execute_result"
    }
   ],
   "source": [
    "stacked_series = pd.DataFrame(adata.layers[\"mutations_binary_threshold0.05\"]).stack(dropna=False)\n",
    "stacked_series.value_counts(dropna=False)"
   ]
  },
  {
   "cell_type": "code",
   "execution_count": 85,
   "id": "indonesian-convertible",
   "metadata": {},
   "outputs": [
    {
     "data": {
      "text/plain": [
       "NaN    11647662\n",
       "0.0     1832453\n",
       "1.0      164473\n",
       "dtype: int64"
      ]
     },
     "execution_count": 85,
     "metadata": {},
     "output_type": "execute_result"
    }
   ],
   "source": [
    "stacked_series = pd.DataFrame(adata.layers[\"mutations_binary_threshold0.10\"]).stack(dropna=False)\n",
    "stacked_series.value_counts(dropna=False)"
   ]
  },
  {
   "cell_type": "code",
   "execution_count": 86,
   "id": "korean-daily",
   "metadata": {},
   "outputs": [
    {
     "data": {
      "text/plain": [
       "NaN    11647662\n",
       "0.0     1890056\n",
       "1.0      106870\n",
       "dtype: int64"
      ]
     },
     "execution_count": 86,
     "metadata": {},
     "output_type": "execute_result"
    }
   ],
   "source": [
    "stacked_series = pd.DataFrame(adata.layers[\"mutations_binary_threshold0.15\"]).stack(dropna=False)\n",
    "stacked_series.value_counts(dropna=False)"
   ]
  },
  {
   "cell_type": "code",
   "execution_count": 87,
   "id": "worthy-smell",
   "metadata": {},
   "outputs": [
    {
     "data": {
      "text/plain": [
       "NaN    11647662\n",
       "0.0     1952200\n",
       "1.0       44726\n",
       "dtype: int64"
      ]
     },
     "execution_count": 87,
     "metadata": {},
     "output_type": "execute_result"
    }
   ],
   "source": [
    "stacked_series = pd.DataFrame(adata.layers[\"mutations_binary_threshold0.20\"]).stack(dropna=False)\n",
    "stacked_series.value_counts(dropna=False)"
   ]
  },
  {
   "cell_type": "markdown",
   "id": "lightweight-particle",
   "metadata": {},
   "source": [
    "# Prepare mutation matrix"
   ]
  },
  {
   "cell_type": "markdown",
   "id": "valuable-habitat",
   "metadata": {},
   "source": [
    "Use the following code to explore the mutation data, find a set of mutations which are callable in a large fraction of the cell types to be used for the tree.\n",
    "This keep the number of mutations per cell type similar which reduces long branch attraction."
   ]
  },
  {
   "cell_type": "markdown",
   "id": "second-mountain",
   "metadata": {},
   "source": [
    "NB these clustermaps are not phylogenetic trees, they are to get an idea of many mutations there are after filtering and broad similarlity between cell types."
   ]
  },
  {
   "cell_type": "markdown",
   "id": "suspected-edinburgh",
   "metadata": {},
   "source": [
    "This is because clustermaps can't handle NaNs, so NaNs are replaced by -1 for plotting. This makes cell types with more NaN values seem further from the other cell types (when actually those NaN mutations were not callable so shoudln't influence distance)."
   ]
  },
  {
   "cell_type": "markdown",
   "id": "familiar-senate",
   "metadata": {},
   "source": [
    "Once happy with a set of mutations (binarised), these can be saved and tree construction is done in R using 'ape' (in a separate notebook)."
   ]
  },
  {
   "cell_type": "markdown",
   "id": "sixth-pollution",
   "metadata": {},
   "source": [
    "NB the distance method used will need to handle the presence of NaNs, many methods, e.g. standard Hamming, do not do this."
   ]
  },
  {
   "cell_type": "markdown",
   "id": "heated-wedding",
   "metadata": {},
   "source": [
    "## Prepare data"
   ]
  },
  {
   "cell_type": "code",
   "execution_count": 66,
   "id": "dietary-region",
   "metadata": {},
   "outputs": [
    {
     "name": "stdout",
     "output_type": "stream",
     "text": [
      "Before: (62, 125867)\n",
      "After: (62, 125867)\n"
     ]
    }
   ],
   "source": [
    "# Remove features in DEGs and DARs\n",
    "adata=remove_mutations_in_celltype_specific_features(adata, GEX=True, ATAC=True, show_change=True)"
   ]
  },
  {
   "cell_type": "code",
   "execution_count": 67,
   "id": "polish-confirmation",
   "metadata": {},
   "outputs": [
    {
     "data": {
      "text/plain": [
       "View of AnnData object with n_obs × n_vars = 62 × 125867\n",
       "    obs: 'donor', 'n_cells_GEX', 'n_cells_ATAC', 'fine_grain', 'mid_grain', 'coarse_grain'\n",
       "    var: 'CHROM', 'Start', 'End', 'REF', 'ALT', 'FILTER', 'Cell_types', 'Up_context', 'Down_context', 'N_ALT', 'Dp', 'Nc', 'Bc', 'Cc', 'VAF', 'CCF', 'BCp', 'CCp', 'Cell_types_min_BC', 'Cell_types_min_CC', 'Rest_BC', 'Rest_CC', 'Fisher_p', 'Cell_type_Filter', 'INFO', 'CCF_mean', 'ALT_unique', 'VAR_ID', 'Gnomad', 'n_cell_types_with_mutation', 'n_cell_types_callable', 'gene_name', 'biotype', 'celltype_specific_gene', 'celltype_specific_peak'\n",
       "    layers: 'NC_layer', 'mutations_binary_non_zero', 'mutations_binary_threshold0.01', 'mutations_binary_threshold0.05', 'mutations_binary_threshold0.10', 'mutations_binary_threshold0.15', 'mutations_binary_threshold0.20', 'mutations_binary_threshold0.50', 'mutations_binary_threshold0.99'"
      ]
     },
     "execution_count": 67,
     "metadata": {},
     "output_type": "execute_result"
    }
   ],
   "source": [
    "adata"
   ]
  },
  {
   "cell_type": "markdown",
   "id": "organized-twins",
   "metadata": {},
   "source": [
    "## Prepare for plotting"
   ]
  },
  {
   "cell_type": "code",
   "execution_count": 40,
   "id": "manufactured-logic",
   "metadata": {},
   "outputs": [],
   "source": [
    "# cmap\n",
    "# grey is NaN (-1), blue is callable and absent (0), red is callable and present (>0)\n",
    "light_grey = (0.9, 0.9, 0.9)  # RGB values for a lighter grey color\n",
    "colors_light_grey = [light_grey, \"blue\", \"red\"]\n",
    "cmap = LinearSegmentedColormap.from_list(\"custom_colormap\", colors_light_grey)"
   ]
  },
  {
   "cell_type": "code",
   "execution_count": 41,
   "id": "tired-version",
   "metadata": {},
   "outputs": [],
   "source": [
    "# define the fraction of cell types included in tree where the mutation is callable\n",
    "cell_type_coverage_fraction=0.8"
   ]
  },
  {
   "cell_type": "code",
   "execution_count": 42,
   "id": "instant-magnet",
   "metadata": {},
   "outputs": [],
   "source": [
    "# define which cell types to use for the tree\n",
    "mask = (adata.obs['coarse_grain'] == 'Cardiomyocytes') & (~adata.obs['fine_grain'].str.contains('Cycling'))"
   ]
  },
  {
   "cell_type": "markdown",
   "id": "requested-contact",
   "metadata": {},
   "source": [
    "## Heatmap using CCF values (continuous)"
   ]
  },
  {
   "cell_type": "code",
   "execution_count": 43,
   "id": "black-magic",
   "metadata": {},
   "outputs": [
    {
     "name": "stdout",
     "output_type": "stream",
     "text": [
      "keep mutations callable in X% of cell_types...\n",
      "(125867, 10)\n",
      "(1159, 10)\n",
      "drop rows where mutation is callable but absent in all cell_types, not useful information for tree...\n",
      "(1159, 10)\n",
      "(211, 10)\n",
      "fill NaNs to allow clustermap plotting...\n"
     ]
    },
    {
     "data": {
      "text/plain": [
       "<seaborn.matrix.ClusterGrid at 0x7f3d9e0a6fa0>"
      ]
     },
     "execution_count": 43,
     "metadata": {},
     "output_type": "execute_result"
    },
    {
     "data": {
      "image/png": "[encoded data removed]",
      "text/plain": [
       "<Figure size 1000x1000 with 4 Axes>"
      ]
     },
     "metadata": {},
     "output_type": "display_data"
    }
   ],
   "source": [
    "# Subset the AnnData object using the mask\n",
    "tmp_adata = adata[mask]\n",
    "data = pd.DataFrame(tmp_adata.X, index=tmp_adata.obs.fine_grain, columns=tmp_adata.var.index).T\n",
    "\n",
    "print('keep mutations callable in X% of cell_types...')\n",
    "print(data.shape)\n",
    "threshold = cell_type_coverage_fraction * len(data.columns)  # At least X% of the row values must be non-NaN\n",
    "data = data.dropna(thresh=threshold)\n",
    "print(data.shape)\n",
    "\n",
    "print('drop rows where mutation is callable but absent in all cell_types, not useful information for tree...')\n",
    "print(data.shape)\n",
    "data = data.loc[data.sum(axis=1) != 0]\n",
    "print(data.shape)\n",
    "\n",
    "print('fill NaNs to allow clustermap plotting...')\n",
    "constant=-1\n",
    "filled_data = data.fillna(constant)\n",
    "\n",
    "sns.clustermap(filled_data, yticklabels=False, cbar=True, cmap=cmap)"
   ]
  },
  {
   "cell_type": "markdown",
   "id": "surgical-marker",
   "metadata": {
    "tags": []
   },
   "source": [
    "## Heatmap using binarised CCF values"
   ]
  },
  {
   "cell_type": "code",
   "execution_count": 44,
   "id": "muslim-limitation",
   "metadata": {},
   "outputs": [
    {
     "name": "stdout",
     "output_type": "stream",
     "text": [
      "keep mutations callable in X% of cell_types...\n",
      "(125867, 10)\n",
      "(1159, 10)\n",
      "drop rows where mutation is callable but absent in all cell_types, not useful information for tree...\n",
      "(1159, 10)\n",
      "(124, 10)\n",
      "fill NaNs to allow clustermap plotting...\n"
     ]
    },
    {
     "data": {
      "text/plain": [
       "<seaborn.matrix.ClusterGrid at 0x7f3d5149af10>"
      ]
     },
     "execution_count": 44,
     "metadata": {},
     "output_type": "execute_result"
    },
    {
     "data": {
      "image/png": "[encoded data removed]",
      "text/plain": [
       "<Figure size 1000x1000 with 4 Axes>"
      ]
     },
     "metadata": {},
     "output_type": "display_data"
    }
   ],
   "source": [
    "# Subset the AnnData object using the mask\n",
    "tmp_adata = adata[mask]\n",
    "data = pd.DataFrame(tmp_adata.layers['mutations_binary_threshold0.10'], index=tmp_adata.obs.fine_grain, columns=tmp_adata.var.index).T\n",
    "\n",
    "print('keep mutations callable in X% of cell_types...')\n",
    "print(data.shape)\n",
    "threshold = cell_type_coverage_fraction * len(data.columns)  # At least X% of the row values must be non-NaN\n",
    "data = data.dropna(thresh=threshold)\n",
    "print(data.shape)\n",
    "\n",
    "print('drop rows where mutation is callable but absent in all cell_types, not useful information for tree...')\n",
    "print(data.shape)\n",
    "data = data.loc[data.sum(axis=1) != 0]\n",
    "print(data.shape)\n",
    "\n",
    "# keep for mutation matrix (before replacing NaNs)\n",
    "data_with_NaNs=data\n",
    "\n",
    "print('fill NaNs to allow clustermap plotting...')\n",
    "constant=-1\n",
    "filled_data = data.fillna(constant)\n",
    "\n",
    "sns.clustermap(filled_data, yticklabels=False, cbar=True, cmap=cmap)"
   ]
  },
  {
   "cell_type": "markdown",
   "id": "prostate-cookbook",
   "metadata": {},
   "source": [
    "## Save mutation matrix (for tree plotting in R)"
   ]
  },
  {
   "cell_type": "code",
   "execution_count": null,
   "id": "outstanding-police",
   "metadata": {},
   "outputs": [],
   "source": [
    "# data_with_NaNs.to_csv('mutation_matrix.csv')"
   ]
  },
  {
   "cell_type": "markdown",
   "id": "proprietary-neighborhood",
   "metadata": {
    "tags": []
   },
   "source": [
    "## Heatmap using binarised CCF values, aggregated"
   ]
  },
  {
   "cell_type": "markdown",
   "id": "recent-athletics",
   "metadata": {},
   "source": [
    "When aggregating:\n",
    "\n",
    "- if aggregated values contain >50% NaNs then value will be NaN\n",
    "- else if aggregated values contain any 1s then value will be 1\n",
    "- else value will be 0"
   ]
  },
  {
   "cell_type": "code",
   "execution_count": 45,
   "id": "verified-shelf",
   "metadata": {},
   "outputs": [],
   "source": [
    "def custom_agg(x):\n",
    "    if x.isna().sum() > len(x) / 2:\n",
    "        return np.nan\n",
    "    elif x.any():\n",
    "        return 1\n",
    "    else:\n",
    "        return 0"
   ]
  },
  {
   "cell_type": "markdown",
   "id": "expected-gather",
   "metadata": {},
   "source": [
    "Make a dictionary to use for aggregation"
   ]
  },
  {
   "cell_type": "code",
   "execution_count": 46,
   "id": "durable-interpretation",
   "metadata": {},
   "outputs": [
    {
     "data": {
      "text/plain": [
       "{'BloodVesselEndothelialCells': ['CoronaryCapillaryEndothelialCells',\n",
       "  'GreatVesselVenousEndothelialCells',\n",
       "  'CoronaryVenousEndothelialCells',\n",
       "  'GreatVesselArterialEndothelialCells',\n",
       "  'CoronaryArterialEndothelialCells'],\n",
       " 'LymphoidCells': ['InnateLymphoidCells',\n",
       "  'BCells',\n",
       "  'TCellsCD4pos',\n",
       "  'ProBCells',\n",
       "  'BCellsMS4A1pos',\n",
       "  'TregsCD4pos',\n",
       "  'NaturalKillerCells',\n",
       "  'TCellsCD8pos'],\n",
       " 'MyeloidCells': ['Megakaryocytes',\n",
       "  'MastCells',\n",
       "  'MacrophagesLYVE1pos',\n",
       "  'Monocytes',\n",
       "  'DendriticCellsType1',\n",
       "  'MacrophagesTIMD4pos',\n",
       "  'PlasmacytoidDendriticCells',\n",
       "  'MacrophagesATF3pos',\n",
       "  'MacrophagesCX3CR1pos',\n",
       "  'MonocyteDerivedCells',\n",
       "  'MonocytesMPOpos',\n",
       "  'DendriticCellsMature'],\n",
       " 'VentricularCardiomyocytes': ['VentricularCardiomyocytesRightCompact',\n",
       "  'VentricularCardiomyocytesCycling',\n",
       "  'VentricularCardiomyocytesLeftCompact',\n",
       "  'VentricularCardiomyocytesLeftTrabeculated',\n",
       "  'VentricularCardiomyocytesRightTrabeculated'],\n",
       " 'Fibroblasts': ['CoronaryVesselAdventitialFibroblasts',\n",
       "  'GreatVesselAdventitialFibroblasts',\n",
       "  'MyocardialInterstitialFibroblasts2',\n",
       "  'MyocardialInterstitialFibroblasts1',\n",
       "  'Myofibroblasts',\n",
       "  'ValveInterstitialCells',\n",
       "  'LymphNodeFibroblasticReticularCells'],\n",
       " 'AtrialCardiomyocytes': ['AtrialCardiomyocytesLeft',\n",
       "  'AtrialCardiomyocytesRight',\n",
       "  'AtrialCardiomyocytesCycling'],\n",
       " 'PericardialCells': ['PericardialCells1',\n",
       "  'PericardialCells2',\n",
       "  'PericardialCells3'],\n",
       " 'CardiacConductionSystem': ['VentricularConductionSystemDistal',\n",
       "  'VentricularConductionSystemProximal',\n",
       "  'AtrioventricularNodeCardiomyocytes',\n",
       "  'SinoatrialNodeCardiomyocytes'],\n",
       " 'MuralCells': ['CoronaryPericytes',\n",
       "  'CoronarySmoothMuscleCells',\n",
       "  'GreatVesselSmoothMuscleCells',\n",
       "  'DuctusArteriosusSmoothMuscleCells'],\n",
       " 'LymphaticEndothelialCells': ['LymphaticEndothelialCells'],\n",
       " 'EpicardialCells': ['EpicardiumDerivedCells', 'MesothelialEpicardialCells'],\n",
       " 'EndocardialCells': ['EndocardialCells',\n",
       "  'ValveEndothelialCells',\n",
       "  'EndocardialCushionCells'],\n",
       " 'Neurons': ['ChromaffinCells',\n",
       "  'SympatheticNeurons',\n",
       "  'NeuronPrecursors',\n",
       "  'ParaympatheticNeurons'],\n",
       " 'Glia': ['SchwannCells', 'SchwannCellPrecursors']}"
      ]
     },
     "execution_count": 46,
     "metadata": {},
     "output_type": "execute_result"
    }
   ],
   "source": [
    "# Reverse fine_to_mid_dict\n",
    "mid_to_fine_dict = {}\n",
    "for fine, mid in fine_to_mid_dict.items():\n",
    "    if mid in mid_to_fine_dict:\n",
    "        mid_to_fine_dict[mid].append(fine)\n",
    "    else:\n",
    "        mid_to_fine_dict[mid] = [fine]\n",
    "\n",
    "# view this dictionary (to help make the custom aggregation dictioanry)\n",
    "mid_to_fine_dict"
   ]
  },
  {
   "cell_type": "code",
   "execution_count": 47,
   "id": "metric-villa",
   "metadata": {},
   "outputs": [],
   "source": [
    "# Define a dictionary to aggregate\n",
    "# Based on the mid_grain dictionary, but with CCS_nodal and CCS_VCS split\n",
    "aggregation_dict={\n",
    "    'BloodVesselEndothelialCells': ['CoronaryCapillaryEndothelialCells',\n",
    "  'GreatVesselVenousEndothelialCells',\n",
    "  'CoronaryVenousEndothelialCells',\n",
    "  'GreatVesselArterialEndothelialCells',\n",
    "  'CoronaryArterialEndothelialCells'],\n",
    " 'LymphoidCells': ['InnateLymphoidCells',\n",
    "  'BCells',\n",
    "  'TCellsCD4pos',\n",
    "  'ProBCells',\n",
    "  'BCellsMS4A1pos',\n",
    "  'TregsCD4pos',\n",
    "  'NaturalKillerCells',\n",
    "  'TCellsCD8pos'],\n",
    " 'MyeloidCells': ['Megakaryocytes',\n",
    "  'MastCells',\n",
    "  'MacrophagesLYVE1pos',\n",
    "  'Monocytes',\n",
    "  'DendriticCelfcycllsType1',\n",
    "  'MacrophagesTIMD4pos',\n",
    "  'PlasmacytoidDendriticCells',\n",
    "  'MacrophagesATF3pos',\n",
    "  'MacrophagesCX3CR1pos',\n",
    "  'MonocyteDerivedCells',\n",
    "  'MonocytesMPOpos',\n",
    "  'DendriticCellsMature'],\n",
    " 'VentricularCardiomyocytes': ['VentricularCardiomyocytesRightCompact',\n",
    "  'VentricularCardiomyocytesCycling',\n",
    "  'VentricularCardiomyocytesLeftCompact',\n",
    "  'VentricularCardiomyocytesLeftTrabeculated',\n",
    "  'VentricularCardiomyocytesRightTrabeculated'],\n",
    " 'Fibroblasts': ['CoronaryVesselAdventitialFibroblasts',\n",
    "  'GreatVesselAdventitialFibroblasts',\n",
    "  'MyocardialInterstitialFibroblasts2',\n",
    "  'MyocardialInterstitialFibroblasts1',\n",
    "  'Myofibroblasts',\n",
    "  'ValveInterstitialCells',\n",
    "  'LymphNodeFibroblasticReticularCells'],\n",
    " 'AtrialCardiomyocytes': ['AtrialCardiomyocytesLeft',\n",
    "  'AtrialCardiomyocytesRight',\n",
    "  'AtrialCardiomyocytesCycling'],\n",
    " 'PericardialCells': ['PericardialCells1',\n",
    "  'PericardialCells2',\n",
    "  'PericardialCells3'],\n",
    " 'CCS_nodal':['AtrioventricularNodeCardiomyocytes','SinoatrialNodeCardiomyocytes'],\n",
    "    'CCS_VCS':['VentricularConductionSystemProximal','VentricularConductionSystemDistal'],\n",
    " 'MuralCells': ['CoronaryPericytes',\n",
    "  'CoronarySmoothMuscleCells',\n",
    "  'GreatVesselSmoothMuscleCells',\n",
    "  'DuctusArteriosusSmoothMuscleCells'],\n",
    " 'LymphaticEndothelialCells': ['LymphaticEndothelialCells'],\n",
    " 'EpicardialCells': ['EpicardiumDerivedCells', 'MesothelialEpicardialCells'],\n",
    " 'EndocardialCells': ['EndocardialCells',\n",
    "  'ValveEndothelialCells',\n",
    "  'EndocardialCushionCells'],\n",
    " 'Neurons': ['ChromaffinCells',\n",
    "  'SympatheticNeurons',\n",
    "  'NeuronPrecursors',\n",
    "  'ParaympatheticNeurons'],\n",
    " 'Glia': ['SchwannCells', 'SchwannCellPrecursors']}"
   ]
  },
  {
   "cell_type": "markdown",
   "id": "august-couple",
   "metadata": {},
   "source": [
    "Perform the aggregation"
   ]
  },
  {
   "cell_type": "code",
   "execution_count": 48,
   "id": "occasional-cruise",
   "metadata": {},
   "outputs": [
    {
     "name": "stdout",
     "output_type": "stream",
     "text": [
      "CPU times: user 4min 3s, sys: 354 ms, total: 4min 3s\n",
      "Wall time: 4min 3s\n"
     ]
    },
    {
     "data": {
      "text/html": [
       "<div>\n",
       "<style scoped>\n",
       "    .dataframe tbody tr th:only-of-type {\n",
       "        vertical-align: middle;\n",
       "    }\n",
       "\n",
       "    .dataframe tbody tr th {\n",
       "        vertical-align: top;\n",
       "    }\n",
       "\n",
       "    .dataframe thead th {\n",
       "        text-align: right;\n",
       "    }\n",
       "</style>\n",
       "<table border=\"1\" class=\"dataframe\">\n",
       "  <thead>\n",
       "    <tr style=\"text-align: right;\">\n",
       "      <th></th>\n",
       "      <th>BloodVesselEndothelialCells</th>\n",
       "      <th>LymphoidCells</th>\n",
       "      <th>MyeloidCells</th>\n",
       "      <th>VentricularCardiomyocytes</th>\n",
       "      <th>Fibroblasts</th>\n",
       "      <th>AtrialCardiomyocytes</th>\n",
       "      <th>PericardialCells</th>\n",
       "      <th>CCS_nodal</th>\n",
       "      <th>CCS_VCS</th>\n",
       "      <th>MuralCells</th>\n",
       "      <th>LymphaticEndothelialCells</th>\n",
       "      <th>EpicardialCells</th>\n",
       "      <th>EndocardialCells</th>\n",
       "      <th>Neurons</th>\n",
       "      <th>Glia</th>\n",
       "    </tr>\n",
       "  </thead>\n",
       "  <tbody>\n",
       "    <tr>\n",
       "      <th>GEX-0</th>\n",
       "      <td>NaN</td>\n",
       "      <td>NaN</td>\n",
       "      <td>NaN</td>\n",
       "      <td>NaN</td>\n",
       "      <td>NaN</td>\n",
       "      <td>NaN</td>\n",
       "      <td>NaN</td>\n",
       "      <td>NaN</td>\n",
       "      <td>NaN</td>\n",
       "      <td>NaN</td>\n",
       "      <td>0.0</td>\n",
       "      <td>0.0</td>\n",
       "      <td>NaN</td>\n",
       "      <td>NaN</td>\n",
       "      <td>NaN</td>\n",
       "    </tr>\n",
       "    <tr>\n",
       "      <th>GEX-1</th>\n",
       "      <td>1.0</td>\n",
       "      <td>0.0</td>\n",
       "      <td>NaN</td>\n",
       "      <td>0.0</td>\n",
       "      <td>0.0</td>\n",
       "      <td>0.0</td>\n",
       "      <td>0.0</td>\n",
       "      <td>0.0</td>\n",
       "      <td>NaN</td>\n",
       "      <td>0.0</td>\n",
       "      <td>0.0</td>\n",
       "      <td>0.0</td>\n",
       "      <td>0.0</td>\n",
       "      <td>NaN</td>\n",
       "      <td>0.0</td>\n",
       "    </tr>\n",
       "    <tr>\n",
       "      <th>GEX-2</th>\n",
       "      <td>NaN</td>\n",
       "      <td>NaN</td>\n",
       "      <td>NaN</td>\n",
       "      <td>NaN</td>\n",
       "      <td>NaN</td>\n",
       "      <td>NaN</td>\n",
       "      <td>NaN</td>\n",
       "      <td>NaN</td>\n",
       "      <td>NaN</td>\n",
       "      <td>NaN</td>\n",
       "      <td>NaN</td>\n",
       "      <td>NaN</td>\n",
       "      <td>NaN</td>\n",
       "      <td>NaN</td>\n",
       "      <td>NaN</td>\n",
       "    </tr>\n",
       "    <tr>\n",
       "      <th>GEX-3</th>\n",
       "      <td>NaN</td>\n",
       "      <td>NaN</td>\n",
       "      <td>NaN</td>\n",
       "      <td>NaN</td>\n",
       "      <td>NaN</td>\n",
       "      <td>0.0</td>\n",
       "      <td>NaN</td>\n",
       "      <td>NaN</td>\n",
       "      <td>NaN</td>\n",
       "      <td>NaN</td>\n",
       "      <td>0.0</td>\n",
       "      <td>0.0</td>\n",
       "      <td>NaN</td>\n",
       "      <td>NaN</td>\n",
       "      <td>NaN</td>\n",
       "    </tr>\n",
       "    <tr>\n",
       "      <th>GEX-4</th>\n",
       "      <td>0.0</td>\n",
       "      <td>0.0</td>\n",
       "      <td>0.0</td>\n",
       "      <td>0.0</td>\n",
       "      <td>0.0</td>\n",
       "      <td>0.0</td>\n",
       "      <td>0.0</td>\n",
       "      <td>0.0</td>\n",
       "      <td>0.0</td>\n",
       "      <td>0.0</td>\n",
       "      <td>0.0</td>\n",
       "      <td>0.0</td>\n",
       "      <td>0.0</td>\n",
       "      <td>0.0</td>\n",
       "      <td>0.0</td>\n",
       "    </tr>\n",
       "    <tr>\n",
       "      <th>...</th>\n",
       "      <td>...</td>\n",
       "      <td>...</td>\n",
       "      <td>...</td>\n",
       "      <td>...</td>\n",
       "      <td>...</td>\n",
       "      <td>...</td>\n",
       "      <td>...</td>\n",
       "      <td>...</td>\n",
       "      <td>...</td>\n",
       "      <td>...</td>\n",
       "      <td>...</td>\n",
       "      <td>...</td>\n",
       "      <td>...</td>\n",
       "      <td>...</td>\n",
       "      <td>...</td>\n",
       "    </tr>\n",
       "    <tr>\n",
       "      <th>ATAC-219223</th>\n",
       "      <td>NaN</td>\n",
       "      <td>NaN</td>\n",
       "      <td>NaN</td>\n",
       "      <td>NaN</td>\n",
       "      <td>NaN</td>\n",
       "      <td>NaN</td>\n",
       "      <td>NaN</td>\n",
       "      <td>NaN</td>\n",
       "      <td>NaN</td>\n",
       "      <td>NaN</td>\n",
       "      <td>NaN</td>\n",
       "      <td>NaN</td>\n",
       "      <td>NaN</td>\n",
       "      <td>NaN</td>\n",
       "      <td>NaN</td>\n",
       "    </tr>\n",
       "    <tr>\n",
       "      <th>ATAC-219224</th>\n",
       "      <td>NaN</td>\n",
       "      <td>NaN</td>\n",
       "      <td>NaN</td>\n",
       "      <td>NaN</td>\n",
       "      <td>NaN</td>\n",
       "      <td>NaN</td>\n",
       "      <td>NaN</td>\n",
       "      <td>NaN</td>\n",
       "      <td>NaN</td>\n",
       "      <td>NaN</td>\n",
       "      <td>NaN</td>\n",
       "      <td>NaN</td>\n",
       "      <td>NaN</td>\n",
       "      <td>NaN</td>\n",
       "      <td>NaN</td>\n",
       "    </tr>\n",
       "    <tr>\n",
       "      <th>ATAC-219225</th>\n",
       "      <td>NaN</td>\n",
       "      <td>NaN</td>\n",
       "      <td>NaN</td>\n",
       "      <td>NaN</td>\n",
       "      <td>NaN</td>\n",
       "      <td>NaN</td>\n",
       "      <td>NaN</td>\n",
       "      <td>NaN</td>\n",
       "      <td>NaN</td>\n",
       "      <td>NaN</td>\n",
       "      <td>NaN</td>\n",
       "      <td>NaN</td>\n",
       "      <td>NaN</td>\n",
       "      <td>NaN</td>\n",
       "      <td>NaN</td>\n",
       "    </tr>\n",
       "    <tr>\n",
       "      <th>ATAC-219226</th>\n",
       "      <td>NaN</td>\n",
       "      <td>NaN</td>\n",
       "      <td>NaN</td>\n",
       "      <td>NaN</td>\n",
       "      <td>NaN</td>\n",
       "      <td>NaN</td>\n",
       "      <td>NaN</td>\n",
       "      <td>NaN</td>\n",
       "      <td>NaN</td>\n",
       "      <td>NaN</td>\n",
       "      <td>NaN</td>\n",
       "      <td>NaN</td>\n",
       "      <td>NaN</td>\n",
       "      <td>NaN</td>\n",
       "      <td>NaN</td>\n",
       "    </tr>\n",
       "    <tr>\n",
       "      <th>ATAC-219227</th>\n",
       "      <td>NaN</td>\n",
       "      <td>NaN</td>\n",
       "      <td>NaN</td>\n",
       "      <td>NaN</td>\n",
       "      <td>NaN</td>\n",
       "      <td>NaN</td>\n",
       "      <td>NaN</td>\n",
       "      <td>NaN</td>\n",
       "      <td>NaN</td>\n",
       "      <td>NaN</td>\n",
       "      <td>NaN</td>\n",
       "      <td>NaN</td>\n",
       "      <td>NaN</td>\n",
       "      <td>NaN</td>\n",
       "      <td>NaN</td>\n",
       "    </tr>\n",
       "  </tbody>\n",
       "</table>\n",
       "<p>125867 rows × 15 columns</p>\n",
       "</div>"
      ],
      "text/plain": [
       "             BloodVesselEndothelialCells  LymphoidCells  MyeloidCells  \\\n",
       "GEX-0                                NaN            NaN           NaN   \n",
       "GEX-1                                1.0            0.0           NaN   \n",
       "GEX-2                                NaN            NaN           NaN   \n",
       "GEX-3                                NaN            NaN           NaN   \n",
       "GEX-4                                0.0            0.0           0.0   \n",
       "...                                  ...            ...           ...   \n",
       "ATAC-219223                          NaN            NaN           NaN   \n",
       "ATAC-219224                          NaN            NaN           NaN   \n",
       "ATAC-219225                          NaN            NaN           NaN   \n",
       "ATAC-219226                          NaN            NaN           NaN   \n",
       "ATAC-219227                          NaN            NaN           NaN   \n",
       "\n",
       "             VentricularCardiomyocytes  Fibroblasts  AtrialCardiomyocytes  \\\n",
       "GEX-0                              NaN          NaN                   NaN   \n",
       "GEX-1                              0.0          0.0                   0.0   \n",
       "GEX-2                              NaN          NaN                   NaN   \n",
       "GEX-3                              NaN          NaN                   0.0   \n",
       "GEX-4                              0.0          0.0                   0.0   \n",
       "...                                ...          ...                   ...   \n",
       "ATAC-219223                        NaN          NaN                   NaN   \n",
       "ATAC-219224                        NaN          NaN                   NaN   \n",
       "ATAC-219225                        NaN          NaN                   NaN   \n",
       "ATAC-219226                        NaN          NaN                   NaN   \n",
       "ATAC-219227                        NaN          NaN                   NaN   \n",
       "\n",
       "             PericardialCells  CCS_nodal  CCS_VCS  MuralCells  \\\n",
       "GEX-0                     NaN        NaN      NaN         NaN   \n",
       "GEX-1                     0.0        0.0      NaN         0.0   \n",
       "GEX-2                     NaN        NaN      NaN         NaN   \n",
       "GEX-3                     NaN        NaN      NaN         NaN   \n",
       "GEX-4                     0.0        0.0      0.0         0.0   \n",
       "...                       ...        ...      ...         ...   \n",
       "ATAC-219223               NaN        NaN      NaN         NaN   \n",
       "ATAC-219224               NaN        NaN      NaN         NaN   \n",
       "ATAC-219225               NaN        NaN      NaN         NaN   \n",
       "ATAC-219226               NaN        NaN      NaN         NaN   \n",
       "ATAC-219227               NaN        NaN      NaN         NaN   \n",
       "\n",
       "             LymphaticEndothelialCells  EpicardialCells  EndocardialCells  \\\n",
       "GEX-0                              0.0              0.0               NaN   \n",
       "GEX-1                              0.0              0.0               0.0   \n",
       "GEX-2                              NaN              NaN               NaN   \n",
       "GEX-3                              0.0              0.0               NaN   \n",
       "GEX-4                              0.0              0.0               0.0   \n",
       "...                                ...              ...               ...   \n",
       "ATAC-219223                        NaN              NaN               NaN   \n",
       "ATAC-219224                        NaN              NaN               NaN   \n",
       "ATAC-219225                        NaN              NaN               NaN   \n",
       "ATAC-219226                        NaN              NaN               NaN   \n",
       "ATAC-219227                        NaN              NaN               NaN   \n",
       "\n",
       "             Neurons  Glia  \n",
       "GEX-0            NaN   NaN  \n",
       "GEX-1            NaN   0.0  \n",
       "GEX-2            NaN   NaN  \n",
       "GEX-3            NaN   NaN  \n",
       "GEX-4            0.0   0.0  \n",
       "...              ...   ...  \n",
       "ATAC-219223      NaN   NaN  \n",
       "ATAC-219224      NaN   NaN  \n",
       "ATAC-219225      NaN   NaN  \n",
       "ATAC-219226      NaN   NaN  \n",
       "ATAC-219227      NaN   NaN  \n",
       "\n",
       "[125867 rows x 15 columns]"
      ]
     },
     "execution_count": 48,
     "metadata": {},
     "output_type": "execute_result"
    }
   ],
   "source": [
    "%%time\n",
    "tmp_adata = adata\n",
    "data = pd.DataFrame(tmp_adata.layers['mutations_binary_threshold0.10'], index=tmp_adata.obs.fine_grain, columns=tmp_adata.var.index).T\n",
    "\n",
    "# Remove any columns from \"data\" which contain the string \"Cycling\"\n",
    "data = data.loc[:, ~data.columns.str.contains('Cycling')]\n",
    "\n",
    "# Initialize an empty DataFrame for data_aggregated\n",
    "data_aggregated = pd.DataFrame()\n",
    "\n",
    "# Filter out dict values that don't exist in the data DataFrame\n",
    "aggregation_dict = {key: [col for col in value if col in data.columns]\n",
    "                    for key, value in aggregation_dict.items()}\n",
    "\n",
    "# Apply the custom aggregation function to the specified columns\n",
    "for new_col, columns in aggregation_dict.items():\n",
    "    data_aggregated[new_col] = data[columns].apply(custom_agg, axis=1)\n",
    "\n",
    "data=data_aggregated\n",
    "data"
   ]
  },
  {
   "cell_type": "code",
   "execution_count": 60,
   "id": "specialized-steps",
   "metadata": {},
   "outputs": [],
   "source": [
    "cell_type_coverage_fraction=0.9"
   ]
  },
  {
   "cell_type": "code",
   "execution_count": 50,
   "id": "maritime-andrews",
   "metadata": {},
   "outputs": [],
   "source": [
    "data_save=data"
   ]
  },
  {
   "cell_type": "code",
   "execution_count": 64,
   "id": "sought-transmission",
   "metadata": {},
   "outputs": [],
   "source": [
    "data=data_save  # recover data from here (while developing)"
   ]
  },
  {
   "cell_type": "code",
   "execution_count": 65,
   "id": "atmospheric-helena",
   "metadata": {},
   "outputs": [
    {
     "name": "stdout",
     "output_type": "stream",
     "text": [
      "keep mutations callable in X% of cell_types...\n",
      "(125867, 15)\n",
      "(285, 15)\n",
      "drop rows where mutation is callable but absent in all cell_types, not useful information for tree...\n",
      "(285, 15)\n",
      "(120, 15)\n",
      "fill NaNs to allow clustermap plotting...\n"
     ]
    },
    {
     "data": {
      "text/plain": [
       "<seaborn.matrix.ClusterGrid at 0x7f3c87b7ae50>"
      ]
     },
     "execution_count": 65,
     "metadata": {},
     "output_type": "execute_result"
    },
    {
     "data": {
      "image/png": "[encoded data removed]",
      "text/plain": [
       "<Figure size 1000x1000 with 4 Axes>"
      ]
     },
     "metadata": {},
     "output_type": "display_data"
    }
   ],
   "source": [
    "# filter mutations and plot heatmap\n",
    "print('keep mutations callable in X% of cell_types...')\n",
    "print(data.shape)\n",
    "threshold = cell_type_coverage_fraction * len(data.columns)  # At least X% of the row values must be non-NaN\n",
    "data = data.dropna(thresh=threshold)\n",
    "print(data.shape)\n",
    "\n",
    "print('drop rows where mutation is callable but absent in all cell_types, not useful information for tree...')\n",
    "print(data.shape)\n",
    "data = data.loc[data.sum(axis=1) != 0]\n",
    "print(data.shape)\n",
    "\n",
    "# keep for mutation matrix (before replacing NaNs)\n",
    "aggregated_data_with_NaNs=data\n",
    "\n",
    "print('fill NaNs to allow clustermap plotting...')\n",
    "constant=-1\n",
    "filled_data = data.fillna(constant)\n",
    "\n",
    "sns.clustermap(filled_data, yticklabels=False, cbar=True, cmap=cmap)"
   ]
  },
  {
   "cell_type": "markdown",
   "id": "herbal-resort",
   "metadata": {},
   "source": [
    "## Save mutation matrix (for tree plotting in R)"
   ]
  },
  {
   "cell_type": "code",
   "execution_count": 68,
   "id": "after-criticism",
   "metadata": {},
   "outputs": [],
   "source": [
    "# aggregated_data_with_NaNs.to_csv('aggregated_mutation_matrix.csv')"
   ]
  }
 ],
 "metadata": {
  "kernelspec": {
   "display_name": "omni_env_py",
   "language": "python",
   "name": "omni_env_py"
  },
  "language_info": {
   "codemirror_mode": {
    "name": "ipython",
    "version": 3
   },
   "file_extension": ".py",
   "mimetype": "text/x-python",
   "name": "python",
   "nbconvert_exporter": "python",
   "pygments_lexer": "ipython3",
   "version": "3.11.4"
  }
 },
 "nbformat": 4,
 "nbformat_minor": 5
}
