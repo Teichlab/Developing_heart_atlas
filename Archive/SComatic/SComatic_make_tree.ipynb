{
 "cells": [
  {
   "cell_type": "code",
   "execution_count": 1,
   "id": "lonely-credit",
   "metadata": {},
   "outputs": [
    {
     "name": "stderr",
     "output_type": "stream",
     "text": [
      "Loading required package: ape\n",
      "\n"
     ]
    }
   ],
   "source": [
    "library(phangorn)\n",
    "library(ape)\n",
    "library(pheatmap)\n",
    "library(RColorBrewer)"
   ]
  },
  {
   "cell_type": "code",
   "execution_count": 2,
   "id": "focal-spouse",
   "metadata": {},
   "outputs": [],
   "source": [
    "# Custom Hamming distance function that handles NAs (by not computing distance at a position unless both cell types are not NA)\n",
    "hamming_na <- function(x, y) {\n",
    "  non_na_positions <- !is.na(x) & !is.na(y)\n",
    "  sum(x[non_na_positions] != y[non_na_positions])\n",
    "}"
   ]
  },
  {
   "cell_type": "markdown",
   "id": "olympic-talent",
   "metadata": {},
   "source": [
    "# Single donor"
   ]
  },
  {
   "cell_type": "markdown",
   "id": "heated-tracy",
   "metadata": {},
   "source": [
    "## Single donor tree"
   ]
  },
  {
   "cell_type": "code",
   "execution_count": 3,
   "id": "989e6626-0cb7-433c-9d75-20c876855fde",
   "metadata": {},
   "outputs": [
    {
     "name": "stdout",
     "output_type": "stream",
     "text": [
      "[1] 310  11\n"
     ]
    },
    {
     "data": {
      "text/html": [
       "<table class=\"dataframe\">\n",
       "<caption>A data.frame: 6 × 11</caption>\n",
       "<thead>\n",
       "\t<tr><th></th><th scope=col>AtrialCardiomyocytesLeft</th><th scope=col>AtrialCardiomyocytesRight</th><th scope=col>AtrioventricularNodeCardiomyocytes</th><th scope=col>Neural</th><th scope=col>SinoatrialNodeCardiomyocytes</th><th scope=col>VentricularCardiomyocytesLeftCompact</th><th scope=col>VentricularCardiomyocytesLeftTrabeculated</th><th scope=col>VentricularCardiomyocytesRightCompact</th><th scope=col>VentricularCardiomyocytesRightTrabeculated</th><th scope=col>VentricularConductionSystemDistal</th><th scope=col>VentricularConductionSystemProximal</th></tr>\n",
       "\t<tr><th></th><th scope=col>&lt;dbl&gt;</th><th scope=col>&lt;dbl&gt;</th><th scope=col>&lt;dbl&gt;</th><th scope=col>&lt;dbl&gt;</th><th scope=col>&lt;dbl&gt;</th><th scope=col>&lt;dbl&gt;</th><th scope=col>&lt;dbl&gt;</th><th scope=col>&lt;dbl&gt;</th><th scope=col>&lt;dbl&gt;</th><th scope=col>&lt;dbl&gt;</th><th scope=col>&lt;dbl&gt;</th></tr>\n",
       "</thead>\n",
       "<tbody>\n",
       "\t<tr><th scope=row>1</th><td>0</td><td>0</td><td>NA</td><td> 0</td><td> 0</td><td>0</td><td>0</td><td>0</td><td>0</td><td> 1</td><td>0</td></tr>\n",
       "\t<tr><th scope=row>2</th><td>0</td><td>0</td><td> 0</td><td> 0</td><td>NA</td><td>0</td><td>0</td><td>0</td><td>0</td><td>NA</td><td>0</td></tr>\n",
       "\t<tr><th scope=row>3</th><td>0</td><td>0</td><td>NA</td><td> 0</td><td> 0</td><td>0</td><td>0</td><td>0</td><td>0</td><td>NA</td><td>0</td></tr>\n",
       "\t<tr><th scope=row>4</th><td>0</td><td>0</td><td>NA</td><td>NA</td><td> 0</td><td>0</td><td>0</td><td>0</td><td>0</td><td> 1</td><td>0</td></tr>\n",
       "\t<tr><th scope=row>5</th><td>0</td><td>0</td><td>NA</td><td> 0</td><td> 0</td><td>0</td><td>0</td><td>0</td><td>0</td><td> 0</td><td>0</td></tr>\n",
       "\t<tr><th scope=row>6</th><td>0</td><td>0</td><td>NA</td><td> 0</td><td> 1</td><td>0</td><td>0</td><td>0</td><td>0</td><td> 0</td><td>0</td></tr>\n",
       "</tbody>\n",
       "</table>\n"
      ],
      "text/latex": [
       "A data.frame: 6 × 11\n",
       "\\begin{tabular}{r|lllllllllll}\n",
       "  & AtrialCardiomyocytesLeft & AtrialCardiomyocytesRight & AtrioventricularNodeCardiomyocytes & Neural & SinoatrialNodeCardiomyocytes & VentricularCardiomyocytesLeftCompact & VentricularCardiomyocytesLeftTrabeculated & VentricularCardiomyocytesRightCompact & VentricularCardiomyocytesRightTrabeculated & VentricularConductionSystemDistal & VentricularConductionSystemProximal\\\\\n",
       "  & <dbl> & <dbl> & <dbl> & <dbl> & <dbl> & <dbl> & <dbl> & <dbl> & <dbl> & <dbl> & <dbl>\\\\\n",
       "\\hline\n",
       "\t1 & 0 & 0 & NA &  0 &  0 & 0 & 0 & 0 & 0 &  1 & 0\\\\\n",
       "\t2 & 0 & 0 &  0 &  0 & NA & 0 & 0 & 0 & 0 & NA & 0\\\\\n",
       "\t3 & 0 & 0 & NA &  0 &  0 & 0 & 0 & 0 & 0 & NA & 0\\\\\n",
       "\t4 & 0 & 0 & NA & NA &  0 & 0 & 0 & 0 & 0 &  1 & 0\\\\\n",
       "\t5 & 0 & 0 & NA &  0 &  0 & 0 & 0 & 0 & 0 &  0 & 0\\\\\n",
       "\t6 & 0 & 0 & NA &  0 &  1 & 0 & 0 & 0 & 0 &  0 & 0\\\\\n",
       "\\end{tabular}\n"
      ],
      "text/markdown": [
       "\n",
       "A data.frame: 6 × 11\n",
       "\n",
       "| <!--/--> | AtrialCardiomyocytesLeft &lt;dbl&gt; | AtrialCardiomyocytesRight &lt;dbl&gt; | AtrioventricularNodeCardiomyocytes &lt;dbl&gt; | Neural &lt;dbl&gt; | SinoatrialNodeCardiomyocytes &lt;dbl&gt; | VentricularCardiomyocytesLeftCompact &lt;dbl&gt; | VentricularCardiomyocytesLeftTrabeculated &lt;dbl&gt; | VentricularCardiomyocytesRightCompact &lt;dbl&gt; | VentricularCardiomyocytesRightTrabeculated &lt;dbl&gt; | VentricularConductionSystemDistal &lt;dbl&gt; | VentricularConductionSystemProximal &lt;dbl&gt; |\n",
       "|---|---|---|---|---|---|---|---|---|---|---|---|\n",
       "| 1 | 0 | 0 | NA |  0 |  0 | 0 | 0 | 0 | 0 |  1 | 0 |\n",
       "| 2 | 0 | 0 |  0 |  0 | NA | 0 | 0 | 0 | 0 | NA | 0 |\n",
       "| 3 | 0 | 0 | NA |  0 |  0 | 0 | 0 | 0 | 0 | NA | 0 |\n",
       "| 4 | 0 | 0 | NA | NA |  0 | 0 | 0 | 0 | 0 |  1 | 0 |\n",
       "| 5 | 0 | 0 | NA |  0 |  0 | 0 | 0 | 0 | 0 |  0 | 0 |\n",
       "| 6 | 0 | 0 | NA |  0 |  1 | 0 | 0 | 0 | 0 |  0 | 0 |\n",
       "\n"
      ],
      "text/plain": [
       "  AtrialCardiomyocytesLeft AtrialCardiomyocytesRight\n",
       "1 0                        0                        \n",
       "2 0                        0                        \n",
       "3 0                        0                        \n",
       "4 0                        0                        \n",
       "5 0                        0                        \n",
       "6 0                        0                        \n",
       "  AtrioventricularNodeCardiomyocytes Neural SinoatrialNodeCardiomyocytes\n",
       "1 NA                                  0      0                          \n",
       "2  0                                  0     NA                          \n",
       "3 NA                                  0      0                          \n",
       "4 NA                                 NA      0                          \n",
       "5 NA                                  0      0                          \n",
       "6 NA                                  0      1                          \n",
       "  VentricularCardiomyocytesLeftCompact\n",
       "1 0                                   \n",
       "2 0                                   \n",
       "3 0                                   \n",
       "4 0                                   \n",
       "5 0                                   \n",
       "6 0                                   \n",
       "  VentricularCardiomyocytesLeftTrabeculated\n",
       "1 0                                        \n",
       "2 0                                        \n",
       "3 0                                        \n",
       "4 0                                        \n",
       "5 0                                        \n",
       "6 0                                        \n",
       "  VentricularCardiomyocytesRightCompact\n",
       "1 0                                    \n",
       "2 0                                    \n",
       "3 0                                    \n",
       "4 0                                    \n",
       "5 0                                    \n",
       "6 0                                    \n",
       "  VentricularCardiomyocytesRightTrabeculated VentricularConductionSystemDistal\n",
       "1 0                                           1                               \n",
       "2 0                                          NA                               \n",
       "3 0                                          NA                               \n",
       "4 0                                           1                               \n",
       "5 0                                           0                               \n",
       "6 0                                           0                               \n",
       "  VentricularConductionSystemProximal\n",
       "1 0                                  \n",
       "2 0                                  \n",
       "3 0                                  \n",
       "4 0                                  \n",
       "5 0                                  \n",
       "6 0                                  "
      ]
     },
     "metadata": {},
     "output_type": "display_data"
    }
   ],
   "source": [
    "# Set the donor\n",
    "donor <- \"Hst41\"\n",
    "\n",
    "# Read in mutation matrix (cell type by mutation)\n",
    "filepath <- paste0('/lustre/scratch126/cellgen/team205/jc48/jupyter/SComatic/mutation_matrices/neural_outgroup/', donor, '.csv')\n",
    "mat <- read.table(filepath, sep = ',', header = TRUE)\n",
    "mat <- mat[, -1] # remove the index column\n",
    "mat <- mat[, order(colnames(mat))] # order column names alphabetically\n",
    "print(dim(mat))\n",
    "head(mat)"
   ]
  },
  {
   "cell_type": "code",
   "execution_count": 4,
   "id": "alone-warrant",
   "metadata": {},
   "outputs": [
    {
     "data": {
      "image/png": "[encoded data removed]",
      "text/plain": [
       "Plot with title “Phylogenetic tree for Hst41”"
      ]
     },
     "metadata": {
      "image/png": {
       "height": 420,
       "width": 420
      }
     },
     "output_type": "display_data"
    }
   ],
   "source": [
    "# Open a PDF device with specified width and height (in inches)\n",
    "#pdf(\"phylogenetic_tree.pdf\", width=8, height=6)\n",
    "\n",
    "# Make distance matrix\n",
    "dm <- as.dist(outer(1:ncol(mat), 1:ncol(mat), Vectorize(function(i, j) hamming_na(mat[, i], mat[, j]))))\n",
    "\n",
    "# Construct tree\n",
    "tree <- NJ(dm)\n",
    "\n",
    "# Add the col names of mat as tip labels to the tree\n",
    "tree$tip.label <- colnames(mat)\n",
    "\n",
    "# Plot tree\n",
    "# Note: Ensure 'root' function and 'NJ' function are properly loaded or available in your environment\n",
    "plot(root(tree, outgroup='Neural'))\n",
    "\n",
    "# Add title to the plot\n",
    "# Note: Replace 'donor' with the actual variable or a specific string if 'donor' is not defined\n",
    "title(paste0(\"Phylogenetic tree for \", donor))\n",
    "\n",
    "# Close the PDF device to finalize the file\n",
    "#dev.off()\n"
   ]
  },
  {
   "cell_type": "markdown",
   "id": "united-california",
   "metadata": {},
   "source": [
    "# Multiple donors"
   ]
  },
  {
   "cell_type": "markdown",
   "id": "terminal-acting",
   "metadata": {},
   "source": [
    "## individual trees"
   ]
  },
  {
   "cell_type": "code",
   "execution_count": 5,
   "id": "49e6f463-6fc2-40c4-8741-821dc13f3938",
   "metadata": {},
   "outputs": [
    {
     "name": "stdout",
     "output_type": "stream",
     "text": [
      "[1] \"C98\"\n",
      "[1] \"C87\"\n",
      "[1] \"Hst33\"\n",
      "[1] \"C92\"\n",
      "[1] \"Hst41\"\n"
     ]
    }
   ],
   "source": [
    "# Load necessary libraries\n",
    "library(ape) # For phylogenetic analysis\n",
    "library(phangorn) # For constructing and plotting the tree\n",
    "library(utils) # For reading files\n",
    "\n",
    "# Function to calculate Hamming distance, handling NA values\n",
    "hamming_na <- function(x, y) {\n",
    "  sum(x != y, na.rm = TRUE)\n",
    "}\n",
    "\n",
    "# Initialize the list of data frames\n",
    "list_of_data_frames <- list()\n",
    "\n",
    "# Just read in these 5 files\n",
    "filenames <- c(\"2023-05-22-C98.csv\",\"2023-05-22-C87.csv\",\"2023-05-22-Hst33.csv\",\"2023-05-22-C92.csv\",\"2023-05-22-Hst41.csv\")\n",
    "\n",
    "\n",
    "# Loop through the CSV files\n",
    "for (filename in filenames) {\n",
    "    \n",
    "  file <- paste0(path = \"/lustre/scratch126/cellgen/team205/jc48/jupyter/SComatic/mutation_matrices/neural_outgroup/\",filename)\n",
    "  # Read in mutation matrix\n",
    "  mat <- read.csv(file, header = TRUE)\n",
    "  mat <- mat[, -1] # remove the first column, assuming it's an index column\n",
    "\n",
    "\n",
    "  # Identify columns starting with 'X'\n",
    "  vcs_cols <- grep(\"^VentricularCond\", names(mat), value = TRUE)\n",
    "\n",
    "  # Add a new column to the data frame by summing rows across X columns\n",
    "  # na.rm = TRUE ensures that NA values are ignored in the sum\n",
    "  mat$CCS_VentricularConductionSystem <- rowSums(mat[vcs_cols], na.rm = TRUE)\n",
    "\n",
    "  # Now drop the 'X' columns\n",
    "  mat <- mat[ , !names(mat) %in% vcs_cols]\n",
    "\n",
    "\n",
    "  # Identify columns ending with 'X'\n",
    "  node_cols <- grep(\"NodeCardiomyocytes$\", names(mat), value = TRUE)\n",
    "\n",
    "  # Add a new column to the data frame by summing rows across X columns\n",
    "  # na.rm = TRUE ensures that NA values are ignored in the sum\n",
    "  mat$CCS_PacemakerCardiomyocytes <- rowSums(mat[node_cols], na.rm = TRUE)\n",
    "\n",
    "  # Now drop the 'X' columns\n",
    "  mat <- mat[ , !names(mat) %in% node_cols]\n",
    "\n",
    "\n",
    "    \n",
    "  # Order the columns alphabetically\n",
    "  mat <- mat[, order(colnames(mat))]\n",
    "\n",
    "  # Extract the donor name from the filename\n",
    "  donor <- gsub(\".*-(.*)\\\\.csv$\", \"\\\\1\", basename(file))\n",
    "  print(donor)\n",
    "\n",
    "  pdf(paste0(\"phylogenetic_tree___\",donor,\".pdf\"), width=8, height=6)\n",
    "\n",
    "  # Make distance matrix\n",
    "  dm <- as.dist(outer(1:ncol(mat), 1:ncol(mat), Vectorize(function(i, j) hamming_na(mat[ , i], mat[ , j]))))\n",
    "\n",
    "  # Construct tree using neighbor joining method\n",
    "  tree <- nj(dm)\n",
    "\n",
    "  # Add the col names of mat as tip labels to the tree\n",
    "  tree$tip.label <- colnames(mat)\n",
    "\n",
    "  # Check for the presence of specific cell types and plot accordingly\n",
    "  if (\"Neural\" %in% colnames(mat)) {\n",
    "    plot(root(tree, outgroup = \"Neural\"), main = paste0(\"Phylogenetic tree for donor: \", donor))\n",
    "  } else if (\"NeuronPrecursors\" %in% colnames(mat)) {\n",
    "    plot(root(tree, outgroup = \"NeuronPrecursors\"), main = paste0(\"Phylogenetic tree for donor: \", donor))\n",
    "  } else {\n",
    "    plot(tree, main = paste0(\"Phylogenetic tree for donor: \", donor)) # Plot without specifying an outgroup if none of the specific types are present\n",
    "  }\n",
    "  dev.off()\n",
    "}\n"
   ]
  },
  {
   "cell_type": "markdown",
   "id": "interracial-burke",
   "metadata": {},
   "source": [
    "# consensus tree"
   ]
  },
  {
   "cell_type": "code",
   "execution_count": 6,
   "id": "magnetic-bunch",
   "metadata": {},
   "outputs": [
    {
     "name": "stdout",
     "output_type": "stream",
     "text": [
      "[1] \"/nfs/team205/jc48/projects/fetal/code/SComatic/mutation_matrices/neural_outgroup//2023-05-22-C87ChromaffinCells.csv\"  \n",
      "[2] \"/nfs/team205/jc48/projects/fetal/code/SComatic/mutation_matrices/neural_outgroup//2023-05-22-C92ChromaffinCells.csv\"  \n",
      "[3] \"/nfs/team205/jc48/projects/fetal/code/SComatic/mutation_matrices/neural_outgroup//2023-05-22-C98ChromaffinCells.csv\"  \n",
      "[4] \"/nfs/team205/jc48/projects/fetal/code/SComatic/mutation_matrices/neural_outgroup//2023-05-22-Hst33ChromaffinCells.csv\"\n",
      "[5] \"/nfs/team205/jc48/projects/fetal/code/SComatic/mutation_matrices/neural_outgroup//2023-05-22-Hst41ChromaffinCells.csv\"\n"
     ]
    },
    {
     "data": {
      "text/html": [
       "<ol>\n",
       "\t<li><style>\n",
       ".list-inline {list-style: none; margin:0; padding: 0}\n",
       ".list-inline>li {display: inline-block}\n",
       ".list-inline>li:not(:last-child)::after {content: \"\\00b7\"; padding: 0 .5ex}\n",
       "</style>\n",
       "<ol class=list-inline><li>12</li><li>11</li></ol>\n",
       "</li>\n",
       "\t<li><style>\n",
       ".list-inline {list-style: none; margin:0; padding: 0}\n",
       ".list-inline>li {display: inline-block}\n",
       ".list-inline>li:not(:last-child)::after {content: \"\\00b7\"; padding: 0 .5ex}\n",
       "</style>\n",
       "<ol class=list-inline><li>21</li><li>11</li></ol>\n",
       "</li>\n",
       "\t<li><style>\n",
       ".list-inline {list-style: none; margin:0; padding: 0}\n",
       ".list-inline>li {display: inline-block}\n",
       ".list-inline>li:not(:last-child)::after {content: \"\\00b7\"; padding: 0 .5ex}\n",
       "</style>\n",
       "<ol class=list-inline><li>26</li><li>11</li></ol>\n",
       "</li>\n",
       "\t<li><style>\n",
       ".list-inline {list-style: none; margin:0; padding: 0}\n",
       ".list-inline>li {display: inline-block}\n",
       ".list-inline>li:not(:last-child)::after {content: \"\\00b7\"; padding: 0 .5ex}\n",
       "</style>\n",
       "<ol class=list-inline><li>677</li><li>11</li></ol>\n",
       "</li>\n",
       "\t<li><style>\n",
       ".list-inline {list-style: none; margin:0; padding: 0}\n",
       ".list-inline>li {display: inline-block}\n",
       ".list-inline>li:not(:last-child)::after {content: \"\\00b7\"; padding: 0 .5ex}\n",
       "</style>\n",
       "<ol class=list-inline><li>82</li><li>11</li></ol>\n",
       "</li>\n",
       "</ol>\n"
      ],
      "text/latex": [
       "\\begin{enumerate}\n",
       "\\item \\begin{enumerate*}\n",
       "\\item 12\n",
       "\\item 11\n",
       "\\end{enumerate*}\n",
       "\n",
       "\\item \\begin{enumerate*}\n",
       "\\item 21\n",
       "\\item 11\n",
       "\\end{enumerate*}\n",
       "\n",
       "\\item \\begin{enumerate*}\n",
       "\\item 26\n",
       "\\item 11\n",
       "\\end{enumerate*}\n",
       "\n",
       "\\item \\begin{enumerate*}\n",
       "\\item 677\n",
       "\\item 11\n",
       "\\end{enumerate*}\n",
       "\n",
       "\\item \\begin{enumerate*}\n",
       "\\item 82\n",
       "\\item 11\n",
       "\\end{enumerate*}\n",
       "\n",
       "\\end{enumerate}\n"
      ],
      "text/markdown": [
       "1. 1. 12\n",
       "2. 11\n",
       "\n",
       "\n",
       "\n",
       "2. 1. 21\n",
       "2. 11\n",
       "\n",
       "\n",
       "\n",
       "3. 1. 26\n",
       "2. 11\n",
       "\n",
       "\n",
       "\n",
       "4. 1. 677\n",
       "2. 11\n",
       "\n",
       "\n",
       "\n",
       "5. 1. 82\n",
       "2. 11\n",
       "\n",
       "\n",
       "\n",
       "\n",
       "\n"
      ],
      "text/plain": [
       "[[1]]\n",
       "[1] 12 11\n",
       "\n",
       "[[2]]\n",
       "[1] 21 11\n",
       "\n",
       "[[3]]\n",
       "[1] 26 11\n",
       "\n",
       "[[4]]\n",
       "[1] 677  11\n",
       "\n",
       "[[5]]\n",
       "[1] 82 11\n"
      ]
     },
     "metadata": {},
     "output_type": "display_data"
    },
    {
     "name": "stdout",
     "output_type": "stream",
     "text": [
      "[1] \"C87\"   \"C92\"   \"C98\"   \"Hst33\" \"Hst41\"\n"
     ]
    },
    {
     "data": {
      "text/html": [
       "<table class=\"dataframe\">\n",
       "<caption>A data.frame: 6 × 11</caption>\n",
       "<thead>\n",
       "\t<tr><th></th><th scope=col>AtrialCardiomyocytesLeft</th><th scope=col>AtrialCardiomyocytesRight</th><th scope=col>AtrioventricularNodeCardiomyocytes</th><th scope=col>ChromaffinCells</th><th scope=col>SinoatrialNodeCardiomyocytes</th><th scope=col>VentricularCardiomyocytesLeftCompact</th><th scope=col>VentricularCardiomyocytesLeftTrabeculated</th><th scope=col>VentricularCardiomyocytesRightCompact</th><th scope=col>VentricularCardiomyocytesRightTrabeculated</th><th scope=col>VentricularConductionSystemDistal</th><th scope=col>VentricularConductionSystemProximal</th></tr>\n",
       "\t<tr><th></th><th scope=col>&lt;dbl&gt;</th><th scope=col>&lt;dbl&gt;</th><th scope=col>&lt;dbl&gt;</th><th scope=col>&lt;dbl&gt;</th><th scope=col>&lt;dbl&gt;</th><th scope=col>&lt;dbl&gt;</th><th scope=col>&lt;dbl&gt;</th><th scope=col>&lt;dbl&gt;</th><th scope=col>&lt;dbl&gt;</th><th scope=col>&lt;dbl&gt;</th><th scope=col>&lt;dbl&gt;</th></tr>\n",
       "</thead>\n",
       "<tbody>\n",
       "\t<tr><th scope=row>1</th><td>0</td><td>0</td><td> 0</td><td>NA</td><td>1</td><td>0</td><td>0</td><td>0</td><td>0</td><td>0</td><td>0</td></tr>\n",
       "\t<tr><th scope=row>2</th><td>0</td><td>0</td><td> 0</td><td> 0</td><td>0</td><td>0</td><td>0</td><td>0</td><td>0</td><td>0</td><td>0</td></tr>\n",
       "\t<tr><th scope=row>3</th><td>0</td><td>0</td><td>NA</td><td>NA</td><td>0</td><td>0</td><td>0</td><td>0</td><td>0</td><td>0</td><td>0</td></tr>\n",
       "\t<tr><th scope=row>4</th><td>0</td><td>0</td><td> 1</td><td> 0</td><td>0</td><td>0</td><td>0</td><td>0</td><td>0</td><td>0</td><td>0</td></tr>\n",
       "\t<tr><th scope=row>5</th><td>0</td><td>1</td><td>NA</td><td>NA</td><td>0</td><td>0</td><td>0</td><td>0</td><td>0</td><td>0</td><td>0</td></tr>\n",
       "\t<tr><th scope=row>6</th><td>0</td><td>0</td><td> 0</td><td>NA</td><td>1</td><td>0</td><td>0</td><td>0</td><td>0</td><td>0</td><td>0</td></tr>\n",
       "</tbody>\n",
       "</table>\n"
      ],
      "text/latex": [
       "A data.frame: 6 × 11\n",
       "\\begin{tabular}{r|lllllllllll}\n",
       "  & AtrialCardiomyocytesLeft & AtrialCardiomyocytesRight & AtrioventricularNodeCardiomyocytes & ChromaffinCells & SinoatrialNodeCardiomyocytes & VentricularCardiomyocytesLeftCompact & VentricularCardiomyocytesLeftTrabeculated & VentricularCardiomyocytesRightCompact & VentricularCardiomyocytesRightTrabeculated & VentricularConductionSystemDistal & VentricularConductionSystemProximal\\\\\n",
       "  & <dbl> & <dbl> & <dbl> & <dbl> & <dbl> & <dbl> & <dbl> & <dbl> & <dbl> & <dbl> & <dbl>\\\\\n",
       "\\hline\n",
       "\t1 & 0 & 0 &  0 & NA & 1 & 0 & 0 & 0 & 0 & 0 & 0\\\\\n",
       "\t2 & 0 & 0 &  0 &  0 & 0 & 0 & 0 & 0 & 0 & 0 & 0\\\\\n",
       "\t3 & 0 & 0 & NA & NA & 0 & 0 & 0 & 0 & 0 & 0 & 0\\\\\n",
       "\t4 & 0 & 0 &  1 &  0 & 0 & 0 & 0 & 0 & 0 & 0 & 0\\\\\n",
       "\t5 & 0 & 1 & NA & NA & 0 & 0 & 0 & 0 & 0 & 0 & 0\\\\\n",
       "\t6 & 0 & 0 &  0 & NA & 1 & 0 & 0 & 0 & 0 & 0 & 0\\\\\n",
       "\\end{tabular}\n"
      ],
      "text/markdown": [
       "\n",
       "A data.frame: 6 × 11\n",
       "\n",
       "| <!--/--> | AtrialCardiomyocytesLeft &lt;dbl&gt; | AtrialCardiomyocytesRight &lt;dbl&gt; | AtrioventricularNodeCardiomyocytes &lt;dbl&gt; | ChromaffinCells &lt;dbl&gt; | SinoatrialNodeCardiomyocytes &lt;dbl&gt; | VentricularCardiomyocytesLeftCompact &lt;dbl&gt; | VentricularCardiomyocytesLeftTrabeculated &lt;dbl&gt; | VentricularCardiomyocytesRightCompact &lt;dbl&gt; | VentricularCardiomyocytesRightTrabeculated &lt;dbl&gt; | VentricularConductionSystemDistal &lt;dbl&gt; | VentricularConductionSystemProximal &lt;dbl&gt; |\n",
       "|---|---|---|---|---|---|---|---|---|---|---|---|\n",
       "| 1 | 0 | 0 |  0 | NA | 1 | 0 | 0 | 0 | 0 | 0 | 0 |\n",
       "| 2 | 0 | 0 |  0 |  0 | 0 | 0 | 0 | 0 | 0 | 0 | 0 |\n",
       "| 3 | 0 | 0 | NA | NA | 0 | 0 | 0 | 0 | 0 | 0 | 0 |\n",
       "| 4 | 0 | 0 |  1 |  0 | 0 | 0 | 0 | 0 | 0 | 0 | 0 |\n",
       "| 5 | 0 | 1 | NA | NA | 0 | 0 | 0 | 0 | 0 | 0 | 0 |\n",
       "| 6 | 0 | 0 |  0 | NA | 1 | 0 | 0 | 0 | 0 | 0 | 0 |\n",
       "\n"
      ],
      "text/plain": [
       "  AtrialCardiomyocytesLeft AtrialCardiomyocytesRight\n",
       "1 0                        0                        \n",
       "2 0                        0                        \n",
       "3 0                        0                        \n",
       "4 0                        0                        \n",
       "5 0                        1                        \n",
       "6 0                        0                        \n",
       "  AtrioventricularNodeCardiomyocytes ChromaffinCells\n",
       "1  0                                 NA             \n",
       "2  0                                  0             \n",
       "3 NA                                 NA             \n",
       "4  1                                  0             \n",
       "5 NA                                 NA             \n",
       "6  0                                 NA             \n",
       "  SinoatrialNodeCardiomyocytes VentricularCardiomyocytesLeftCompact\n",
       "1 1                            0                                   \n",
       "2 0                            0                                   \n",
       "3 0                            0                                   \n",
       "4 0                            0                                   \n",
       "5 0                            0                                   \n",
       "6 1                            0                                   \n",
       "  VentricularCardiomyocytesLeftTrabeculated\n",
       "1 0                                        \n",
       "2 0                                        \n",
       "3 0                                        \n",
       "4 0                                        \n",
       "5 0                                        \n",
       "6 0                                        \n",
       "  VentricularCardiomyocytesRightCompact\n",
       "1 0                                    \n",
       "2 0                                    \n",
       "3 0                                    \n",
       "4 0                                    \n",
       "5 0                                    \n",
       "6 0                                    \n",
       "  VentricularCardiomyocytesRightTrabeculated VentricularConductionSystemDistal\n",
       "1 0                                          0                                \n",
       "2 0                                          0                                \n",
       "3 0                                          0                                \n",
       "4 0                                          0                                \n",
       "5 0                                          0                                \n",
       "6 0                                          0                                \n",
       "  VentricularConductionSystemProximal\n",
       "1 0                                  \n",
       "2 0                                  \n",
       "3 0                                  \n",
       "4 0                                  \n",
       "5 0                                  \n",
       "6 0                                  "
      ]
     },
     "metadata": {},
     "output_type": "display_data"
    }
   ],
   "source": [
    "# Initialize the list of data frames\n",
    "list_of_data_frames <- list()\n",
    "\n",
    "# List all CSV files in the mutation_matrices directory\n",
    "#files <- list.files(path = \"/lustre/scratch126/cellgen/team205/jc48/jupyter/SComatic/mutation_matrices/neural_outgroup/\", pattern = \"*.csv\", full.names = TRUE)\n",
    "\n",
    "files <- list.files(path = \"/nfs/team205/jc48/projects/fetal/code/SComatic/mutation_matrices/neural_outgroup/\", \n",
    "                    pattern = \"\\\\d{4}-\\\\d{2}-\\\\d{2}-.*\\\\ChromaffinCells.csv$\", full.names = TRUE)\n",
    "\n",
    "print(files)\n",
    "\n",
    "# Initialize the list of donors\n",
    "donors <- list()\n",
    "\n",
    "# Loop through the CSV files\n",
    "for (file in files) {\n",
    "  # Read in mutation matrix\n",
    "  mat <- read.table(file, sep = ',', header = TRUE)\n",
    "  mat = mat[, -1] # remove the index column\n",
    "\n",
    "  # Order the columns alphabetically\n",
    "  mat <- mat[, order(colnames(mat))]\n",
    "\n",
    "  # Add the ordered data frame to the list of data frames\n",
    "  list_of_data_frames <- append(list_of_data_frames, list(mat))\n",
    "\n",
    "  # Extract the donor name from the filename and add it to the list of donors\n",
    "  donor <- gsub(\"\\\\..*\", \"\", basename(file))\n",
    "  donors <- append(donors, donor)\n",
    "}\n",
    "\n",
    "# Print the dimensions of all data frames in the list\n",
    "lapply(list_of_data_frames, dim)\n",
    "\n",
    "# Convert elements in the list to characters\n",
    "donors <- lapply(donors, as.character)\n",
    "\n",
    "# Use regular expression to extract the donor information\n",
    "donors <- sub(\".+-([A-Za-z0-9]+)ChromaffinCells\", \"\\\\1\", unlist(donors))\n",
    "\n",
    "# Print the result\n",
    "print(donors)\n",
    "\n",
    "\n",
    "# Initialize the merged matrix\n",
    "merged_mat <- NULL\n",
    "\n",
    "# Loop through the list of data frames and concatenate them\n",
    "for (mat in list_of_data_frames) {\n",
    "  if (is.null(merged_mat)) {\n",
    "    merged_mat <- mat\n",
    "  } else {\n",
    "    merged_mat <- rbind(merged_mat, mat)\n",
    "  }\n",
    "}\n",
    "\n",
    "mat <- merged_mat\n",
    "head(mat)"
   ]
  },
  {
   "cell_type": "raw",
   "id": "a057cbd0-6bd2-4e06-92a9-fc84c81fda7b",
   "metadata": {},
   "source": [
    "# Identify columns starting with 'X'\n",
    "atrial_cols <- grep(\"^Atrial\", names(mat), value = TRUE)\n",
    "\n",
    "# Add a new column to the data frame by summing rows across X columns\n",
    "# na.rm = TRUE ensures that NA values are ignored in the sum\n",
    "mat$AtrialCardiomyocytes <- rowSums(mat[atrial_cols], na.rm = TRUE)\n",
    "\n",
    "# Now drop the 'X' columns\n",
    "mat <- mat[ , !names(mat) %in% atrial_cols]"
   ]
  },
  {
   "cell_type": "raw",
   "id": "9c9ce6b2-f20c-4ce9-a437-b1465c60f23f",
   "metadata": {},
   "source": [
    "# Identify columns starting with 'X'\n",
    "ventricular_cols <- grep(\"^VentricularCardiomyocytes\", names(mat), value = TRUE)\n",
    "\n",
    "# Add a new column to the data frame by summing rows across X columns\n",
    "# na.rm = TRUE ensures that NA values are ignored in the sum\n",
    "mat$VentricularCardiomyocytes <- rowSums(mat[ventricular_cols], na.rm = TRUE)\n",
    "\n",
    "# Now drop the 'X' columns\n",
    "mat <- mat[ , !names(mat) %in% ventricular_cols]"
   ]
  },
  {
   "cell_type": "code",
   "execution_count": 7,
   "id": "oriental-zealand",
   "metadata": {},
   "outputs": [],
   "source": [
    "# Identify columns starting with 'X'\n",
    "vcs_cols <- grep(\"^VentricularCond\", names(mat), value = TRUE)\n",
    "\n",
    "# Add a new column to the data frame by summing rows across X columns\n",
    "# na.rm = TRUE ensures that NA values are ignored in the sum\n",
    "mat$CCS_VentricularConductionSystem <- rowSums(mat[vcs_cols], na.rm = TRUE)\n",
    "\n",
    "# Now drop the 'X' columns\n",
    "mat <- mat[ , !names(mat) %in% vcs_cols]"
   ]
  },
  {
   "cell_type": "code",
   "execution_count": 8,
   "id": "twelve-activation",
   "metadata": {},
   "outputs": [],
   "source": [
    "# Identify columns ending with 'X'\n",
    "node_cols <- grep(\"NodeCardiomyocytes$\", names(mat), value = TRUE)\n",
    "\n",
    "# Add a new column to the data frame by summing rows across X columns\n",
    "# na.rm = TRUE ensures that NA values are ignored in the sum\n",
    "mat$CCS_PacemakerCardiomyocytes <- rowSums(mat[node_cols], na.rm = TRUE)\n",
    "\n",
    "# Now drop the 'X' columns\n",
    "mat <- mat[ , !names(mat) %in% node_cols]"
   ]
  },
  {
   "cell_type": "code",
   "execution_count": 9,
   "id": "czech-minutes",
   "metadata": {},
   "outputs": [
    {
     "data": {
      "text/html": [
       "<table class=\"dataframe\">\n",
       "<caption>A data.frame: 6 × 9</caption>\n",
       "<thead>\n",
       "\t<tr><th></th><th scope=col>AtrialCardiomyocytesLeft</th><th scope=col>AtrialCardiomyocytesRight</th><th scope=col>ChromaffinCells</th><th scope=col>VentricularCardiomyocytesLeftCompact</th><th scope=col>VentricularCardiomyocytesLeftTrabeculated</th><th scope=col>VentricularCardiomyocytesRightCompact</th><th scope=col>VentricularCardiomyocytesRightTrabeculated</th><th scope=col>CCS_VentricularConductionSystem</th><th scope=col>CCS_PacemakerCardiomyocytes</th></tr>\n",
       "\t<tr><th></th><th scope=col>&lt;dbl&gt;</th><th scope=col>&lt;dbl&gt;</th><th scope=col>&lt;dbl&gt;</th><th scope=col>&lt;dbl&gt;</th><th scope=col>&lt;dbl&gt;</th><th scope=col>&lt;dbl&gt;</th><th scope=col>&lt;dbl&gt;</th><th scope=col>&lt;dbl&gt;</th><th scope=col>&lt;dbl&gt;</th></tr>\n",
       "</thead>\n",
       "<tbody>\n",
       "\t<tr><th scope=row>1</th><td>0</td><td>0</td><td>NA</td><td>0</td><td>0</td><td>0</td><td>0</td><td>0</td><td>1</td></tr>\n",
       "\t<tr><th scope=row>2</th><td>0</td><td>0</td><td> 0</td><td>0</td><td>0</td><td>0</td><td>0</td><td>0</td><td>0</td></tr>\n",
       "\t<tr><th scope=row>3</th><td>0</td><td>0</td><td>NA</td><td>0</td><td>0</td><td>0</td><td>0</td><td>0</td><td>0</td></tr>\n",
       "\t<tr><th scope=row>4</th><td>0</td><td>0</td><td> 0</td><td>0</td><td>0</td><td>0</td><td>0</td><td>0</td><td>1</td></tr>\n",
       "\t<tr><th scope=row>5</th><td>0</td><td>1</td><td>NA</td><td>0</td><td>0</td><td>0</td><td>0</td><td>0</td><td>0</td></tr>\n",
       "\t<tr><th scope=row>6</th><td>0</td><td>0</td><td>NA</td><td>0</td><td>0</td><td>0</td><td>0</td><td>0</td><td>1</td></tr>\n",
       "</tbody>\n",
       "</table>\n"
      ],
      "text/latex": [
       "A data.frame: 6 × 9\n",
       "\\begin{tabular}{r|lllllllll}\n",
       "  & AtrialCardiomyocytesLeft & AtrialCardiomyocytesRight & ChromaffinCells & VentricularCardiomyocytesLeftCompact & VentricularCardiomyocytesLeftTrabeculated & VentricularCardiomyocytesRightCompact & VentricularCardiomyocytesRightTrabeculated & CCS\\_VentricularConductionSystem & CCS\\_PacemakerCardiomyocytes\\\\\n",
       "  & <dbl> & <dbl> & <dbl> & <dbl> & <dbl> & <dbl> & <dbl> & <dbl> & <dbl>\\\\\n",
       "\\hline\n",
       "\t1 & 0 & 0 & NA & 0 & 0 & 0 & 0 & 0 & 1\\\\\n",
       "\t2 & 0 & 0 &  0 & 0 & 0 & 0 & 0 & 0 & 0\\\\\n",
       "\t3 & 0 & 0 & NA & 0 & 0 & 0 & 0 & 0 & 0\\\\\n",
       "\t4 & 0 & 0 &  0 & 0 & 0 & 0 & 0 & 0 & 1\\\\\n",
       "\t5 & 0 & 1 & NA & 0 & 0 & 0 & 0 & 0 & 0\\\\\n",
       "\t6 & 0 & 0 & NA & 0 & 0 & 0 & 0 & 0 & 1\\\\\n",
       "\\end{tabular}\n"
      ],
      "text/markdown": [
       "\n",
       "A data.frame: 6 × 9\n",
       "\n",
       "| <!--/--> | AtrialCardiomyocytesLeft &lt;dbl&gt; | AtrialCardiomyocytesRight &lt;dbl&gt; | ChromaffinCells &lt;dbl&gt; | VentricularCardiomyocytesLeftCompact &lt;dbl&gt; | VentricularCardiomyocytesLeftTrabeculated &lt;dbl&gt; | VentricularCardiomyocytesRightCompact &lt;dbl&gt; | VentricularCardiomyocytesRightTrabeculated &lt;dbl&gt; | CCS_VentricularConductionSystem &lt;dbl&gt; | CCS_PacemakerCardiomyocytes &lt;dbl&gt; |\n",
       "|---|---|---|---|---|---|---|---|---|---|\n",
       "| 1 | 0 | 0 | NA | 0 | 0 | 0 | 0 | 0 | 1 |\n",
       "| 2 | 0 | 0 |  0 | 0 | 0 | 0 | 0 | 0 | 0 |\n",
       "| 3 | 0 | 0 | NA | 0 | 0 | 0 | 0 | 0 | 0 |\n",
       "| 4 | 0 | 0 |  0 | 0 | 0 | 0 | 0 | 0 | 1 |\n",
       "| 5 | 0 | 1 | NA | 0 | 0 | 0 | 0 | 0 | 0 |\n",
       "| 6 | 0 | 0 | NA | 0 | 0 | 0 | 0 | 0 | 1 |\n",
       "\n"
      ],
      "text/plain": [
       "  AtrialCardiomyocytesLeft AtrialCardiomyocytesRight ChromaffinCells\n",
       "1 0                        0                         NA             \n",
       "2 0                        0                          0             \n",
       "3 0                        0                         NA             \n",
       "4 0                        0                          0             \n",
       "5 0                        1                         NA             \n",
       "6 0                        0                         NA             \n",
       "  VentricularCardiomyocytesLeftCompact\n",
       "1 0                                   \n",
       "2 0                                   \n",
       "3 0                                   \n",
       "4 0                                   \n",
       "5 0                                   \n",
       "6 0                                   \n",
       "  VentricularCardiomyocytesLeftTrabeculated\n",
       "1 0                                        \n",
       "2 0                                        \n",
       "3 0                                        \n",
       "4 0                                        \n",
       "5 0                                        \n",
       "6 0                                        \n",
       "  VentricularCardiomyocytesRightCompact\n",
       "1 0                                    \n",
       "2 0                                    \n",
       "3 0                                    \n",
       "4 0                                    \n",
       "5 0                                    \n",
       "6 0                                    \n",
       "  VentricularCardiomyocytesRightTrabeculated CCS_VentricularConductionSystem\n",
       "1 0                                          0                              \n",
       "2 0                                          0                              \n",
       "3 0                                          0                              \n",
       "4 0                                          0                              \n",
       "5 0                                          0                              \n",
       "6 0                                          0                              \n",
       "  CCS_PacemakerCardiomyocytes\n",
       "1 1                          \n",
       "2 0                          \n",
       "3 0                          \n",
       "4 1                          \n",
       "5 0                          \n",
       "6 1                          "
      ]
     },
     "metadata": {},
     "output_type": "display_data"
    }
   ],
   "source": [
    "# View the updated dataframe\n",
    "head(mat)"
   ]
  },
  {
   "cell_type": "markdown",
   "id": "distant-leeds",
   "metadata": {},
   "source": [
    "## consensus tree - bootstrapped"
   ]
  },
  {
   "cell_type": "code",
   "execution_count": 10,
   "id": "corrected-charter",
   "metadata": {},
   "outputs": [
    {
     "name": "stdout",
     "output_type": "stream",
     "text": [
      "Running bootstraps:       100 / 100\n",
      "Calculating bootstrap values... done.\n"
     ]
    },
    {
     "data": {
      "text/html": [
       "<strong>png:</strong> 2"
      ],
      "text/latex": [
       "\\textbf{png:} 2"
      ],
      "text/markdown": [
       "**png:** 2"
      ],
      "text/plain": [
       "png \n",
       "  2 "
      ]
     },
     "metadata": {},
     "output_type": "display_data"
    }
   ],
   "source": [
    "pdf(paste0(\"phylogenetic_tree___consensus.pdf\"), width=8, height=6)\n",
    "\n",
    "#make distance matrix\n",
    "dm <- as.dist(outer(1:ncol(mat), 1:ncol(mat), Vectorize(function(i, j) hamming_na(mat[ , i], mat[ , j]))))\n",
    "\n",
    "#construct tree\n",
    "tree <- NJ(dm)\n",
    "\n",
    "#add the col names of mat_t as tip labels to the tree\n",
    "tip_labels=colnames(mat)\n",
    "tree$tip.label <- tip_labels\n",
    "\n",
    "# Bootstrap\n",
    "set.seed(123) # for reproducibility\n",
    "\n",
    "bstrees <- boot.phylo(tree, t(mat), B = 100, \n",
    "                      FUN = function(x) NJ(dist(x, method = \"binary\")), trees = TRUE)$trees\n",
    "plotBS(root(tree, outgroup='ChromaffinCells'), bstrees, \"phylogram\", p=0)                                                                                                                 \n",
    "                                                        \n",
    "# Add title to the plot\n",
    "title(paste0(\"Phylogenetic tree for donors: \", paste(donors, collapse = \", \")))\n",
    "\n",
    "dev.off()"
   ]
  },
  {
   "cell_type": "code",
   "execution_count": null,
   "id": "valuable-broadcasting",
   "metadata": {},
   "outputs": [],
   "source": []
  },
  {
   "cell_type": "code",
   "execution_count": null,
   "id": "expressed-broadcasting",
   "metadata": {},
   "outputs": [],
   "source": []
  },
  {
   "cell_type": "code",
   "execution_count": null,
   "id": "acting-welding",
   "metadata": {},
   "outputs": [],
   "source": []
  }
 ],
 "metadata": {
  "kernelspec": {
   "display_name": "R42_env",
   "language": "R",
   "name": "r42_env"
  },
  "language_info": {
   "codemirror_mode": "r",
   "file_extension": ".r",
   "mimetype": "text/x-r-source",
   "name": "R",
   "pygments_lexer": "r",
   "version": "4.2.3"
  }
 },
 "nbformat": 4,
 "nbformat_minor": 5
}
