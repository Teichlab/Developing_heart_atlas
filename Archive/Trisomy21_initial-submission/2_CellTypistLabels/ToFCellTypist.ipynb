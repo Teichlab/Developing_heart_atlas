{
 "cells": [
  {
   "cell_type": "markdown",
   "id": "fancy-fifty",
   "metadata": {
    "id": "fancy-fifty"
   },
   "source": [
    "# Annotate ToF data using CellTypist\n",
    "In this notebook we will:\n",
    "- read in pre-made models trained on atlas fine/mid/coarse labels\n",
    "- read in ToF data\n",
    "- run model on ToF data to get predicted labels\n",
    "- save these barcode+label files as .csv for later use"
   ]
  },
  {
   "cell_type": "markdown",
   "id": "greater-sapphire",
   "metadata": {
    "id": "greater-sapphire"
   },
   "source": [
    "## Install CellTypist"
   ]
  },
  {
   "cell_type": "code",
   "execution_count": 1,
   "id": "living-preference",
   "metadata": {
    "id": "living-preference"
   },
   "outputs": [
    {
     "name": "stderr",
     "output_type": "stream",
     "text": [
      "/lustre/scratch126/cellgen/team205/jc48/miniconda3/envs/scanpy_env/lib/python3.9/site-packages/umap/distances.py:1063: NumbaDeprecationWarning: The 'nopython' keyword argument was not supplied to the 'numba.jit' decorator. The implicit default value for this argument is currently False, but it will be changed to True in Numba 0.59.0. See https://numba.readthedocs.io/en/stable/reference/deprecation.html#deprecation-of-object-mode-fall-back-behaviour-when-using-jit for details.\n",
      "  @numba.jit()\n",
      "/lustre/scratch126/cellgen/team205/jc48/miniconda3/envs/scanpy_env/lib/python3.9/site-packages/umap/distances.py:1071: NumbaDeprecationWarning: The 'nopython' keyword argument was not supplied to the 'numba.jit' decorator. The implicit default value for this argument is currently False, but it will be changed to True in Numba 0.59.0. See https://numba.readthedocs.io/en/stable/reference/deprecation.html#deprecation-of-object-mode-fall-back-behaviour-when-using-jit for details.\n",
      "  @numba.jit()\n",
      "/lustre/scratch126/cellgen/team205/jc48/miniconda3/envs/scanpy_env/lib/python3.9/site-packages/umap/distances.py:1086: NumbaDeprecationWarning: The 'nopython' keyword argument was not supplied to the 'numba.jit' decorator. The implicit default value for this argument is currently False, but it will be changed to True in Numba 0.59.0. See https://numba.readthedocs.io/en/stable/reference/deprecation.html#deprecation-of-object-mode-fall-back-behaviour-when-using-jit for details.\n",
      "  @numba.jit()\n",
      "/lustre/scratch126/cellgen/team205/jc48/miniconda3/envs/scanpy_env/lib/python3.9/site-packages/tqdm/auto.py:21: TqdmWarning: IProgress not found. Please update jupyter and ipywidgets. See https://ipywidgets.readthedocs.io/en/stable/user_install.html\n",
      "  from .autonotebook import tqdm as notebook_tqdm\n",
      "/lustre/scratch126/cellgen/team205/jc48/miniconda3/envs/scanpy_env/lib/python3.9/site-packages/umap/umap_.py:660: NumbaDeprecationWarning: The 'nopython' keyword argument was not supplied to the 'numba.jit' decorator. The implicit default value for this argument is currently False, but it will be changed to True in Numba 0.59.0. See https://numba.readthedocs.io/en/stable/reference/deprecation.html#deprecation-of-object-mode-fall-back-behaviour-when-using-jit for details.\n",
      "  @numba.jit()\n"
     ]
    }
   ],
   "source": [
    "import scanpy as sc\n",
    "import celltypist\n",
    "import time\n",
    "import numpy as np\n",
    "import os\n",
    "import pickle\n",
    "import pandas as pd"
   ]
  },
  {
   "cell_type": "markdown",
   "id": "lucky-diversity",
   "metadata": {
    "id": "lucky-diversity"
   },
   "source": [
    "## Paths and variables"
   ]
  },
  {
   "cell_type": "code",
   "execution_count": 2,
   "id": "3f508c11-b4ee-42f4-b3fb-6389fec8ca8e",
   "metadata": {},
   "outputs": [
    {
     "data": {
      "text/plain": [
       "'AtlasT21ToF_WithContCovariates_MidGrainModified_AllCompartments'"
      ]
     },
     "execution_count": 2,
     "metadata": {},
     "output_type": "execute_result"
    }
   ],
   "source": [
    "#set relevant label key\n",
    "compartment='AllCompartments'\n",
    "cell_type_key = 'MidGrainModified'\n",
    "batch_key='batch_key'\n",
    "job_name=f'AtlasT21ToF_WithContCovariates_{cell_type_key}_{compartment}'\n",
    "job_name"
   ]
  },
  {
   "cell_type": "code",
   "execution_count": 3,
   "id": "77291401-8d6c-4637-9fda-0ca28e8312b5",
   "metadata": {},
   "outputs": [],
   "source": [
    "#paths\n",
    "base_path='/lustre/scratch126/cellgen/team205/jc48/jupyter/scArches'\n",
    "data_dir=os.path.join(base_path,'data')\n",
    "results_dir=os.path.join(base_path,f'results/{job_name}')\n",
    "adata_path=os.path.join(results_dir,'anndata/')\n",
    "models_path=os.path.join(results_dir,'models/')"
   ]
  },
  {
   "cell_type": "code",
   "execution_count": 4,
   "id": "4a5a5be4-639c-4c70-ac93-4bab2d5326a2",
   "metadata": {},
   "outputs": [],
   "source": [
    "dataset='ToF'"
   ]
  },
  {
   "cell_type": "markdown",
   "id": "ccefd0c0-d61d-48cf-b060-07d222e4ff6c",
   "metadata": {
    "id": "lucky-diversity"
   },
   "source": [
    "## Read in adata"
   ]
  },
  {
   "cell_type": "markdown",
   "id": "7a947fbe-a74f-4295-9db4-b608d44da295",
   "metadata": {},
   "source": [
    "Data format:\n",
    "- all genes\n",
    "- norm-logged in adata.X"
   ]
  },
  {
   "cell_type": "code",
   "execution_count": 5,
   "id": "86b88035-0598-4ec6-9fb0-3fea2eb14a81",
   "metadata": {},
   "outputs": [
    {
     "name": "stdout",
     "output_type": "stream",
     "text": [
      "[ 1. 24.  7.  4.  1. 14.  3.  1.  3.  2.]\n"
     ]
    }
   ],
   "source": [
    "file_path=os.path.join(adata_path,f'{job_name}_adata_que_T21ToF.h5ad')\n",
    "adata_que=sc.read(file_path)\n",
    "\n",
    "print(adata_que.X.data[:10])"
   ]
  },
  {
   "cell_type": "code",
   "execution_count": 6,
   "id": "f8d35030-f43f-4a31-8100-af0323015223",
   "metadata": {},
   "outputs": [
    {
     "name": "stdout",
     "output_type": "stream",
     "text": [
      "(92194, 18642)\n",
      "(15836, 18642)\n"
     ]
    }
   ],
   "source": [
    "print(adata_que.shape)\n",
    "adata = adata_que[adata_que.obs.diagnosis=='TOF']\n",
    "print(adata.shape)"
   ]
  },
  {
   "cell_type": "code",
   "execution_count": 7,
   "id": "c571bc7f-def9-46c5-a3f1-b6eaf07ac74d",
   "metadata": {},
   "outputs": [],
   "source": [
    "adata.layers[\"counts\"]=adata.X.copy()\n",
    "\n",
    "sc.pp.normalize_total(adata, target_sum = 1e4)\n",
    "sc.pp.log1p(adata)"
   ]
  },
  {
   "cell_type": "markdown",
   "id": "7fc0feb0-77b1-441c-a4e0-b89f0ea1efb1",
   "metadata": {
    "id": "lucky-diversity"
   },
   "source": [
    "## Apply celltypist model"
   ]
  },
  {
   "cell_type": "code",
   "execution_count": 8,
   "id": "657701f9-fb3f-41ee-ac64-805d8927d931",
   "metadata": {},
   "outputs": [
    {
     "name": "stderr",
     "output_type": "stream",
     "text": [
      "🔬 Input data has 15836 cells and 18642 genes\n",
      "🔗 Matching reference genes in the model\n",
      "🧬 17260 features used for prediction\n",
      "⚖️ Scaling input data\n",
      "🖋️ Predicting labels\n",
      "✅ Prediction done!\n",
      "👀 Can not detect a neighborhood graph, will construct one before the over-clustering\n",
      "⛓️ Over-clustering input data with resolution set to 10\n",
      "🗳️ Majority voting the predictions\n",
      "✅ Majority voting done!\n",
      "🔬 Input data has 15836 cells and 18642 genes\n",
      "🔗 Matching reference genes in the model\n"
     ]
    },
    {
     "name": "stdout",
     "output_type": "stream",
     "text": [
      "fine completed in : 74.83157539367676 seconds\n"
     ]
    },
    {
     "name": "stderr",
     "output_type": "stream",
     "text": [
      "🧬 17260 features used for prediction\n",
      "⚖️ Scaling input data\n",
      "🖋️ Predicting labels\n",
      "✅ Prediction done!\n",
      "👀 Detected a neighborhood graph in the input object, will run over-clustering on the basis of it\n",
      "⛓️ Over-clustering input data with resolution set to 10\n",
      "🗳️ Majority voting the predictions\n",
      "✅ Majority voting done!\n",
      "🔬 Input data has 15836 cells and 18642 genes\n",
      "🔗 Matching reference genes in the model\n"
     ]
    },
    {
     "name": "stdout",
     "output_type": "stream",
     "text": [
      "mid completed in : 29.85644555091858 seconds\n"
     ]
    },
    {
     "name": "stderr",
     "output_type": "stream",
     "text": [
      "🧬 17260 features used for prediction\n",
      "⚖️ Scaling input data\n",
      "🖋️ Predicting labels\n",
      "✅ Prediction done!\n",
      "👀 Detected a neighborhood graph in the input object, will run over-clustering on the basis of it\n",
      "⛓️ Over-clustering input data with resolution set to 10\n",
      "🗳️ Majority voting the predictions\n",
      "✅ Majority voting done!\n"
     ]
    },
    {
     "name": "stdout",
     "output_type": "stream",
     "text": [
      "coarse completed in : 31.639684438705444 seconds\n"
     ]
    },
    {
     "data": {
      "text/html": [
       "<div>\n",
       "<style scoped>\n",
       "    .dataframe tbody tr th:only-of-type {\n",
       "        vertical-align: middle;\n",
       "    }\n",
       "\n",
       "    .dataframe tbody tr th {\n",
       "        vertical-align: top;\n",
       "    }\n",
       "\n",
       "    .dataframe thead th {\n",
       "        text-align: right;\n",
       "    }\n",
       "</style>\n",
       "<table border=\"1\" class=\"dataframe\">\n",
       "  <thead>\n",
       "    <tr style=\"text-align: right;\">\n",
       "      <th></th>\n",
       "      <th>fine_CellTypist_predicted_labels</th>\n",
       "      <th>fine_CellTypist_over_clustering</th>\n",
       "      <th>fine_CellTypist_majority_voting</th>\n",
       "      <th>fine_CellTypist_conf_score</th>\n",
       "      <th>mid_CellTypist_predicted_labels</th>\n",
       "      <th>mid_CellTypist_over_clustering</th>\n",
       "      <th>mid_CellTypist_majority_voting</th>\n",
       "      <th>mid_CellTypist_conf_score</th>\n",
       "      <th>coarse_CellTypist_predicted_labels</th>\n",
       "      <th>coarse_CellTypist_over_clustering</th>\n",
       "      <th>coarse_CellTypist_majority_voting</th>\n",
       "      <th>coarse_CellTypist_conf_score</th>\n",
       "    </tr>\n",
       "  </thead>\n",
       "  <tbody>\n",
       "    <tr>\n",
       "      <th>P26_1_AGTGCCGAGATAACGT-1</th>\n",
       "      <td>VentricularCardiomyocytesRightCompact</td>\n",
       "      <td>12</td>\n",
       "      <td>VentricularCardiomyocytesRightCompact</td>\n",
       "      <td>0.008608</td>\n",
       "      <td>VentricularCardiomyocytes</td>\n",
       "      <td>12</td>\n",
       "      <td>VentricularCardiomyocytes</td>\n",
       "      <td>0.951256</td>\n",
       "      <td>Cardiomyocytes</td>\n",
       "      <td>12</td>\n",
       "      <td>Cardiomyocytes</td>\n",
       "      <td>0.999995</td>\n",
       "    </tr>\n",
       "    <tr>\n",
       "      <th>P26_1_TCGCACTCATATCGGT-1</th>\n",
       "      <td>VentricularCardiomyocytesRightTrabeculated</td>\n",
       "      <td>1</td>\n",
       "      <td>VentricularCardiomyocytesRightCompact</td>\n",
       "      <td>0.003694</td>\n",
       "      <td>VentricularCardiomyocytes</td>\n",
       "      <td>1</td>\n",
       "      <td>VentricularCardiomyocytes</td>\n",
       "      <td>0.952763</td>\n",
       "      <td>Cardiomyocytes</td>\n",
       "      <td>1</td>\n",
       "      <td>Cardiomyocytes</td>\n",
       "      <td>1.000000</td>\n",
       "    </tr>\n",
       "    <tr>\n",
       "      <th>P33_10k_CATTGCCAGCGTCAAG-1</th>\n",
       "      <td>VentricularCardiomyocytesRightCompact</td>\n",
       "      <td>11</td>\n",
       "      <td>VentricularCardiomyocytesRightCompact</td>\n",
       "      <td>0.001944</td>\n",
       "      <td>VentricularCardiomyocytes</td>\n",
       "      <td>11</td>\n",
       "      <td>VentricularCardiomyocytes</td>\n",
       "      <td>0.246197</td>\n",
       "      <td>Cardiomyocytes</td>\n",
       "      <td>11</td>\n",
       "      <td>Cardiomyocytes</td>\n",
       "      <td>0.999964</td>\n",
       "    </tr>\n",
       "    <tr>\n",
       "      <th>P33_10k_GAGAAATGTTCTCCCA-1</th>\n",
       "      <td>VentricularCardiomyocytesRightCompact</td>\n",
       "      <td>11</td>\n",
       "      <td>VentricularCardiomyocytesRightCompact</td>\n",
       "      <td>0.004305</td>\n",
       "      <td>CardiacConductionSystem</td>\n",
       "      <td>11</td>\n",
       "      <td>VentricularCardiomyocytes</td>\n",
       "      <td>0.053509</td>\n",
       "      <td>Cardiomyocytes</td>\n",
       "      <td>11</td>\n",
       "      <td>Cardiomyocytes</td>\n",
       "      <td>0.999967</td>\n",
       "    </tr>\n",
       "    <tr>\n",
       "      <th>P33_10k_CAGCAGCCACCCTGAG-1</th>\n",
       "      <td>VentricularCardiomyocytesRightCompact</td>\n",
       "      <td>11</td>\n",
       "      <td>VentricularCardiomyocytesRightCompact</td>\n",
       "      <td>0.001500</td>\n",
       "      <td>VentricularCardiomyocytes</td>\n",
       "      <td>11</td>\n",
       "      <td>VentricularCardiomyocytes</td>\n",
       "      <td>0.052847</td>\n",
       "      <td>Cardiomyocytes</td>\n",
       "      <td>11</td>\n",
       "      <td>Cardiomyocytes</td>\n",
       "      <td>0.999892</td>\n",
       "    </tr>\n",
       "    <tr>\n",
       "      <th>...</th>\n",
       "      <td>...</td>\n",
       "      <td>...</td>\n",
       "      <td>...</td>\n",
       "      <td>...</td>\n",
       "      <td>...</td>\n",
       "      <td>...</td>\n",
       "      <td>...</td>\n",
       "      <td>...</td>\n",
       "      <td>...</td>\n",
       "      <td>...</td>\n",
       "      <td>...</td>\n",
       "      <td>...</td>\n",
       "    </tr>\n",
       "    <tr>\n",
       "      <th>P28_1_CCACTTGAGCGTCTCG-1</th>\n",
       "      <td>MyocardialInterstitialFibroblasts1</td>\n",
       "      <td>3</td>\n",
       "      <td>MyocardialInterstitialFibroblasts1</td>\n",
       "      <td>0.001371</td>\n",
       "      <td>Fibroblasts</td>\n",
       "      <td>3</td>\n",
       "      <td>Fibroblasts</td>\n",
       "      <td>0.682194</td>\n",
       "      <td>Mesenchymal</td>\n",
       "      <td>3</td>\n",
       "      <td>Mesenchymal</td>\n",
       "      <td>0.824592</td>\n",
       "    </tr>\n",
       "    <tr>\n",
       "      <th>P28_2_TGCGACGTCCTAGCGG-1</th>\n",
       "      <td>MyocardialInterstitialFibroblasts1</td>\n",
       "      <td>22</td>\n",
       "      <td>MyocardialInterstitialFibroblasts1</td>\n",
       "      <td>0.000941</td>\n",
       "      <td>Fibroblasts</td>\n",
       "      <td>22</td>\n",
       "      <td>Fibroblasts</td>\n",
       "      <td>0.683048</td>\n",
       "      <td>Mesenchymal</td>\n",
       "      <td>22</td>\n",
       "      <td>Mesenchymal</td>\n",
       "      <td>0.932603</td>\n",
       "    </tr>\n",
       "    <tr>\n",
       "      <th>P28_2_CGGAGAAAGCTGGCCT-1</th>\n",
       "      <td>MyocardialInterstitialFibroblasts1</td>\n",
       "      <td>22</td>\n",
       "      <td>MyocardialInterstitialFibroblasts1</td>\n",
       "      <td>0.000496</td>\n",
       "      <td>Fibroblasts</td>\n",
       "      <td>22</td>\n",
       "      <td>Fibroblasts</td>\n",
       "      <td>0.087808</td>\n",
       "      <td>Mesenchymal</td>\n",
       "      <td>22</td>\n",
       "      <td>Mesenchymal</td>\n",
       "      <td>0.744801</td>\n",
       "    </tr>\n",
       "    <tr>\n",
       "      <th>P33_10k_AAACGCTAGTATAGGT-1</th>\n",
       "      <td>MyocardialInterstitialFibroblasts1</td>\n",
       "      <td>5</td>\n",
       "      <td>MyocardialInterstitialFibroblasts1</td>\n",
       "      <td>0.007601</td>\n",
       "      <td>Fibroblasts</td>\n",
       "      <td>5</td>\n",
       "      <td>Fibroblasts</td>\n",
       "      <td>0.076164</td>\n",
       "      <td>Mesenchymal</td>\n",
       "      <td>5</td>\n",
       "      <td>Mesenchymal</td>\n",
       "      <td>0.799071</td>\n",
       "    </tr>\n",
       "    <tr>\n",
       "      <th>P28_1_TTACCATCAAATAGCA-1</th>\n",
       "      <td>LymphNodeFibroblasticReticularCells</td>\n",
       "      <td>95</td>\n",
       "      <td>MyocardialInterstitialFibroblasts1</td>\n",
       "      <td>0.000062</td>\n",
       "      <td>Fibroblasts</td>\n",
       "      <td>95</td>\n",
       "      <td>Fibroblasts</td>\n",
       "      <td>0.006844</td>\n",
       "      <td>Mesenchymal</td>\n",
       "      <td>95</td>\n",
       "      <td>Mesenchymal</td>\n",
       "      <td>0.688194</td>\n",
       "    </tr>\n",
       "  </tbody>\n",
       "</table>\n",
       "<p>15836 rows × 12 columns</p>\n",
       "</div>"
      ],
      "text/plain": [
       "                                      fine_CellTypist_predicted_labels  \\\n",
       "P26_1_AGTGCCGAGATAACGT-1         VentricularCardiomyocytesRightCompact   \n",
       "P26_1_TCGCACTCATATCGGT-1    VentricularCardiomyocytesRightTrabeculated   \n",
       "P33_10k_CATTGCCAGCGTCAAG-1       VentricularCardiomyocytesRightCompact   \n",
       "P33_10k_GAGAAATGTTCTCCCA-1       VentricularCardiomyocytesRightCompact   \n",
       "P33_10k_CAGCAGCCACCCTGAG-1       VentricularCardiomyocytesRightCompact   \n",
       "...                                                                ...   \n",
       "P28_1_CCACTTGAGCGTCTCG-1            MyocardialInterstitialFibroblasts1   \n",
       "P28_2_TGCGACGTCCTAGCGG-1            MyocardialInterstitialFibroblasts1   \n",
       "P28_2_CGGAGAAAGCTGGCCT-1            MyocardialInterstitialFibroblasts1   \n",
       "P33_10k_AAACGCTAGTATAGGT-1          MyocardialInterstitialFibroblasts1   \n",
       "P28_1_TTACCATCAAATAGCA-1           LymphNodeFibroblasticReticularCells   \n",
       "\n",
       "                           fine_CellTypist_over_clustering  \\\n",
       "P26_1_AGTGCCGAGATAACGT-1                                12   \n",
       "P26_1_TCGCACTCATATCGGT-1                                 1   \n",
       "P33_10k_CATTGCCAGCGTCAAG-1                              11   \n",
       "P33_10k_GAGAAATGTTCTCCCA-1                              11   \n",
       "P33_10k_CAGCAGCCACCCTGAG-1                              11   \n",
       "...                                                    ...   \n",
       "P28_1_CCACTTGAGCGTCTCG-1                                 3   \n",
       "P28_2_TGCGACGTCCTAGCGG-1                                22   \n",
       "P28_2_CGGAGAAAGCTGGCCT-1                                22   \n",
       "P33_10k_AAACGCTAGTATAGGT-1                               5   \n",
       "P28_1_TTACCATCAAATAGCA-1                                95   \n",
       "\n",
       "                                  fine_CellTypist_majority_voting  \\\n",
       "P26_1_AGTGCCGAGATAACGT-1    VentricularCardiomyocytesRightCompact   \n",
       "P26_1_TCGCACTCATATCGGT-1    VentricularCardiomyocytesRightCompact   \n",
       "P33_10k_CATTGCCAGCGTCAAG-1  VentricularCardiomyocytesRightCompact   \n",
       "P33_10k_GAGAAATGTTCTCCCA-1  VentricularCardiomyocytesRightCompact   \n",
       "P33_10k_CAGCAGCCACCCTGAG-1  VentricularCardiomyocytesRightCompact   \n",
       "...                                                           ...   \n",
       "P28_1_CCACTTGAGCGTCTCG-1       MyocardialInterstitialFibroblasts1   \n",
       "P28_2_TGCGACGTCCTAGCGG-1       MyocardialInterstitialFibroblasts1   \n",
       "P28_2_CGGAGAAAGCTGGCCT-1       MyocardialInterstitialFibroblasts1   \n",
       "P33_10k_AAACGCTAGTATAGGT-1     MyocardialInterstitialFibroblasts1   \n",
       "P28_1_TTACCATCAAATAGCA-1       MyocardialInterstitialFibroblasts1   \n",
       "\n",
       "                            fine_CellTypist_conf_score  \\\n",
       "P26_1_AGTGCCGAGATAACGT-1                      0.008608   \n",
       "P26_1_TCGCACTCATATCGGT-1                      0.003694   \n",
       "P33_10k_CATTGCCAGCGTCAAG-1                    0.001944   \n",
       "P33_10k_GAGAAATGTTCTCCCA-1                    0.004305   \n",
       "P33_10k_CAGCAGCCACCCTGAG-1                    0.001500   \n",
       "...                                                ...   \n",
       "P28_1_CCACTTGAGCGTCTCG-1                      0.001371   \n",
       "P28_2_TGCGACGTCCTAGCGG-1                      0.000941   \n",
       "P28_2_CGGAGAAAGCTGGCCT-1                      0.000496   \n",
       "P33_10k_AAACGCTAGTATAGGT-1                    0.007601   \n",
       "P28_1_TTACCATCAAATAGCA-1                      0.000062   \n",
       "\n",
       "                           mid_CellTypist_predicted_labels  \\\n",
       "P26_1_AGTGCCGAGATAACGT-1         VentricularCardiomyocytes   \n",
       "P26_1_TCGCACTCATATCGGT-1         VentricularCardiomyocytes   \n",
       "P33_10k_CATTGCCAGCGTCAAG-1       VentricularCardiomyocytes   \n",
       "P33_10k_GAGAAATGTTCTCCCA-1         CardiacConductionSystem   \n",
       "P33_10k_CAGCAGCCACCCTGAG-1       VentricularCardiomyocytes   \n",
       "...                                                    ...   \n",
       "P28_1_CCACTTGAGCGTCTCG-1                       Fibroblasts   \n",
       "P28_2_TGCGACGTCCTAGCGG-1                       Fibroblasts   \n",
       "P28_2_CGGAGAAAGCTGGCCT-1                       Fibroblasts   \n",
       "P33_10k_AAACGCTAGTATAGGT-1                     Fibroblasts   \n",
       "P28_1_TTACCATCAAATAGCA-1                       Fibroblasts   \n",
       "\n",
       "                           mid_CellTypist_over_clustering  \\\n",
       "P26_1_AGTGCCGAGATAACGT-1                               12   \n",
       "P26_1_TCGCACTCATATCGGT-1                                1   \n",
       "P33_10k_CATTGCCAGCGTCAAG-1                             11   \n",
       "P33_10k_GAGAAATGTTCTCCCA-1                             11   \n",
       "P33_10k_CAGCAGCCACCCTGAG-1                             11   \n",
       "...                                                   ...   \n",
       "P28_1_CCACTTGAGCGTCTCG-1                                3   \n",
       "P28_2_TGCGACGTCCTAGCGG-1                               22   \n",
       "P28_2_CGGAGAAAGCTGGCCT-1                               22   \n",
       "P33_10k_AAACGCTAGTATAGGT-1                              5   \n",
       "P28_1_TTACCATCAAATAGCA-1                               95   \n",
       "\n",
       "                           mid_CellTypist_majority_voting  \\\n",
       "P26_1_AGTGCCGAGATAACGT-1        VentricularCardiomyocytes   \n",
       "P26_1_TCGCACTCATATCGGT-1        VentricularCardiomyocytes   \n",
       "P33_10k_CATTGCCAGCGTCAAG-1      VentricularCardiomyocytes   \n",
       "P33_10k_GAGAAATGTTCTCCCA-1      VentricularCardiomyocytes   \n",
       "P33_10k_CAGCAGCCACCCTGAG-1      VentricularCardiomyocytes   \n",
       "...                                                   ...   \n",
       "P28_1_CCACTTGAGCGTCTCG-1                      Fibroblasts   \n",
       "P28_2_TGCGACGTCCTAGCGG-1                      Fibroblasts   \n",
       "P28_2_CGGAGAAAGCTGGCCT-1                      Fibroblasts   \n",
       "P33_10k_AAACGCTAGTATAGGT-1                    Fibroblasts   \n",
       "P28_1_TTACCATCAAATAGCA-1                      Fibroblasts   \n",
       "\n",
       "                            mid_CellTypist_conf_score  \\\n",
       "P26_1_AGTGCCGAGATAACGT-1                     0.951256   \n",
       "P26_1_TCGCACTCATATCGGT-1                     0.952763   \n",
       "P33_10k_CATTGCCAGCGTCAAG-1                   0.246197   \n",
       "P33_10k_GAGAAATGTTCTCCCA-1                   0.053509   \n",
       "P33_10k_CAGCAGCCACCCTGAG-1                   0.052847   \n",
       "...                                               ...   \n",
       "P28_1_CCACTTGAGCGTCTCG-1                     0.682194   \n",
       "P28_2_TGCGACGTCCTAGCGG-1                     0.683048   \n",
       "P28_2_CGGAGAAAGCTGGCCT-1                     0.087808   \n",
       "P33_10k_AAACGCTAGTATAGGT-1                   0.076164   \n",
       "P28_1_TTACCATCAAATAGCA-1                     0.006844   \n",
       "\n",
       "                           coarse_CellTypist_predicted_labels  \\\n",
       "P26_1_AGTGCCGAGATAACGT-1                       Cardiomyocytes   \n",
       "P26_1_TCGCACTCATATCGGT-1                       Cardiomyocytes   \n",
       "P33_10k_CATTGCCAGCGTCAAG-1                     Cardiomyocytes   \n",
       "P33_10k_GAGAAATGTTCTCCCA-1                     Cardiomyocytes   \n",
       "P33_10k_CAGCAGCCACCCTGAG-1                     Cardiomyocytes   \n",
       "...                                                       ...   \n",
       "P28_1_CCACTTGAGCGTCTCG-1                          Mesenchymal   \n",
       "P28_2_TGCGACGTCCTAGCGG-1                          Mesenchymal   \n",
       "P28_2_CGGAGAAAGCTGGCCT-1                          Mesenchymal   \n",
       "P33_10k_AAACGCTAGTATAGGT-1                        Mesenchymal   \n",
       "P28_1_TTACCATCAAATAGCA-1                          Mesenchymal   \n",
       "\n",
       "                           coarse_CellTypist_over_clustering  \\\n",
       "P26_1_AGTGCCGAGATAACGT-1                                  12   \n",
       "P26_1_TCGCACTCATATCGGT-1                                   1   \n",
       "P33_10k_CATTGCCAGCGTCAAG-1                                11   \n",
       "P33_10k_GAGAAATGTTCTCCCA-1                                11   \n",
       "P33_10k_CAGCAGCCACCCTGAG-1                                11   \n",
       "...                                                      ...   \n",
       "P28_1_CCACTTGAGCGTCTCG-1                                   3   \n",
       "P28_2_TGCGACGTCCTAGCGG-1                                  22   \n",
       "P28_2_CGGAGAAAGCTGGCCT-1                                  22   \n",
       "P33_10k_AAACGCTAGTATAGGT-1                                 5   \n",
       "P28_1_TTACCATCAAATAGCA-1                                  95   \n",
       "\n",
       "                           coarse_CellTypist_majority_voting  \\\n",
       "P26_1_AGTGCCGAGATAACGT-1                      Cardiomyocytes   \n",
       "P26_1_TCGCACTCATATCGGT-1                      Cardiomyocytes   \n",
       "P33_10k_CATTGCCAGCGTCAAG-1                    Cardiomyocytes   \n",
       "P33_10k_GAGAAATGTTCTCCCA-1                    Cardiomyocytes   \n",
       "P33_10k_CAGCAGCCACCCTGAG-1                    Cardiomyocytes   \n",
       "...                                                      ...   \n",
       "P28_1_CCACTTGAGCGTCTCG-1                         Mesenchymal   \n",
       "P28_2_TGCGACGTCCTAGCGG-1                         Mesenchymal   \n",
       "P28_2_CGGAGAAAGCTGGCCT-1                         Mesenchymal   \n",
       "P33_10k_AAACGCTAGTATAGGT-1                       Mesenchymal   \n",
       "P28_1_TTACCATCAAATAGCA-1                         Mesenchymal   \n",
       "\n",
       "                            coarse_CellTypist_conf_score  \n",
       "P26_1_AGTGCCGAGATAACGT-1                        0.999995  \n",
       "P26_1_TCGCACTCATATCGGT-1                        1.000000  \n",
       "P33_10k_CATTGCCAGCGTCAAG-1                      0.999964  \n",
       "P33_10k_GAGAAATGTTCTCCCA-1                      0.999967  \n",
       "P33_10k_CAGCAGCCACCCTGAG-1                      0.999892  \n",
       "...                                                  ...  \n",
       "P28_1_CCACTTGAGCGTCTCG-1                        0.824592  \n",
       "P28_2_TGCGACGTCCTAGCGG-1                        0.932603  \n",
       "P28_2_CGGAGAAAGCTGGCCT-1                        0.744801  \n",
       "P33_10k_AAACGCTAGTATAGGT-1                      0.799071  \n",
       "P28_1_TTACCATCAAATAGCA-1                        0.688194  \n",
       "\n",
       "[15836 rows x 12 columns]"
      ]
     },
     "execution_count": 8,
     "metadata": {},
     "output_type": "execute_result"
    }
   ],
   "source": [
    "saved_models = os.listdir(os.path.join(data_dir, 'CellTypistModels'))\n",
    "\n",
    "annotation_levels = ['fine', 'mid', 'coarse']\n",
    "\n",
    "list_of_prediction_dfs=[]\n",
    "\n",
    "for annotation_level in annotation_levels:\n",
    "\n",
    "        # Read in models (pre-generated)    \n",
    "        saved_model = [m for m in saved_models if annotation_level in m][0]\n",
    "        model_file_path = os.path.join(data_dir, 'CellTypistModels', saved_model)\n",
    "        \n",
    "        # CellTypist prediction\n",
    "        t_start = time.time()\n",
    "        predictions = celltypist.annotate(adata, model = model_file_path, majority_voting = True)\n",
    "        t_end = time.time()\n",
    "\n",
    "        # Collate predictions\n",
    "        list_of_prediction_dfs.append(predictions.to_adata(prefix=annotation_level+'_CellTypist_').obs.iloc[:,-4:])\n",
    "        print(f\"{annotation_level} completed in : {t_end - t_start} seconds\")\n",
    "\n",
    "predictions_df=pd.concat(list_of_prediction_dfs, axis=1)\n",
    "predictions_df"
   ]
  },
  {
   "cell_type": "markdown",
   "id": "collect-saturn",
   "metadata": {
    "id": "collect-saturn"
   },
   "source": [
    "By default (`majority_voting = False`), CellTypist will infer the identity of each query cell independently. This leads to raw predicted cell type labels, and usually finishes within seconds. You can also turn on the majority-voting classifier (`majority_voting = True`), which refines cell identities within local subclusters after an over-clustering approach at the cost of increased runtime."
   ]
  },
  {
   "cell_type": "markdown",
   "id": "cbcbf44d-1261-4e72-8255-a4fbf7a851c5",
   "metadata": {
    "id": "concerned-cache"
   },
   "source": [
    "The results include both predicted cell type labels (`predicted_labels`), over-clustering result (`over_clustering`), and predicted labels after majority voting in local subclusters (`majority_voting`). Note in the `predicted_labels`, each query cell gets its inferred label by choosing the most probable cell type among all possible cell types in the given model."
   ]
  },
  {
   "cell_type": "code",
   "execution_count": 9,
   "id": "48386938-2cec-430c-8be3-26a534807353",
   "metadata": {},
   "outputs": [],
   "source": [
    "#save\n",
    "file_path=os.path.join(results_dir,dataset+'_predictions_df.csv')\n",
    "predictions_df.to_csv(file_path)"
   ]
  }
 ],
 "metadata": {
  "colab": {
   "provenance": []
  },
  "kernelspec": {
   "display_name": "scanpy_env",
   "language": "python",
   "name": "scanpy_env"
  },
  "language_info": {
   "codemirror_mode": {
    "name": "ipython",
    "version": 3
   },
   "file_extension": ".py",
   "mimetype": "text/x-python",
   "name": "python",
   "nbconvert_exporter": "python",
   "pygments_lexer": "ipython3",
   "version": "3.9.16"
  }
 },
 "nbformat": 4,
 "nbformat_minor": 5
}
