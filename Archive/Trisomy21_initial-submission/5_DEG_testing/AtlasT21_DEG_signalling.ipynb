{
 "cells": [
  {
   "cell_type": "code",
   "execution_count": 1,
   "id": "08d3bd00-5991-4178-9e15-54ed2a7acfbf",
   "metadata": {},
   "outputs": [
    {
     "data": {
      "text/html": [
       "<details>\n",
       "<summary>Click to view session information</summary>\n",
       "<pre>\n",
       "-----\n",
       "matplotlib          3.7.1\n",
       "numpy               1.24.3\n",
       "pandas              2.0.2\n",
       "scanpy              1.9.3\n",
       "session_info        1.0.0\n",
       "-----\n",
       "</pre>\n",
       "<details>\n",
       "<summary>Click to view modules imported as dependencies</summary>\n",
       "<pre>\n",
       "PIL                 9.5.0\n",
       "anndata             0.9.1\n",
       "anyio               NA\n",
       "arrow               1.2.3\n",
       "asttokens           NA\n",
       "attr                23.1.0\n",
       "babel               2.12.1\n",
       "backcall            0.2.0\n",
       "certifi             2023.05.07\n",
       "cffi                1.15.1\n",
       "charset_normalizer  3.1.0\n",
       "comm                0.1.3\n",
       "cycler              0.10.0\n",
       "cython_runtime      NA\n",
       "dateutil            2.8.2\n",
       "debugpy             1.6.7\n",
       "decorator           5.1.1\n",
       "defusedxml          0.7.1\n",
       "executing           1.2.0\n",
       "fastjsonschema      NA\n",
       "fqdn                NA\n",
       "h5py                3.9.0\n",
       "idna                3.4\n",
       "igraph              0.10.4\n",
       "importlib_metadata  NA\n",
       "importlib_resources NA\n",
       "ipykernel           6.23.3\n",
       "isoduration         NA\n",
       "jedi                0.18.2\n",
       "jinja2              3.1.2\n",
       "joblib              1.2.0\n",
       "json5               NA\n",
       "jsonpointer         2.4\n",
       "jsonschema          4.17.3\n",
       "jupyter_events      0.6.3\n",
       "jupyter_server      2.6.0\n",
       "jupyterlab_server   2.23.0\n",
       "kiwisolver          1.4.4\n",
       "leidenalg           0.9.1\n",
       "llvmlite            0.40.1\n",
       "markupsafe          2.1.3\n",
       "mpl_toolkits        NA\n",
       "natsort             8.4.0\n",
       "nbformat            5.9.0\n",
       "numba               0.57.1\n",
       "overrides           NA\n",
       "packaging           23.1\n",
       "parso               0.8.3\n",
       "pexpect             4.8.0\n",
       "pickleshare         0.7.5\n",
       "pkg_resources       NA\n",
       "platformdirs        3.8.0\n",
       "prometheus_client   NA\n",
       "prompt_toolkit      3.0.38\n",
       "psutil              5.9.5\n",
       "ptyprocess          0.7.0\n",
       "pure_eval           0.2.2\n",
       "pyarrow             12.0.1\n",
       "pydev_ipython       NA\n",
       "pydevconsole        NA\n",
       "pydevd              2.9.5\n",
       "pydevd_file_utils   NA\n",
       "pydevd_plugins      NA\n",
       "pydevd_tracing      NA\n",
       "pygments            2.15.1\n",
       "pyparsing           3.1.0\n",
       "pyrsistent          NA\n",
       "pythonjsonlogger    NA\n",
       "pytz                2023.3\n",
       "requests            2.31.0\n",
       "rfc3339_validator   0.1.4\n",
       "rfc3986_validator   0.1.1\n",
       "scipy               1.10.1\n",
       "send2trash          NA\n",
       "setuptools          68.0.0\n",
       "six                 1.16.0\n",
       "sklearn             0.24.0\n",
       "sniffio             1.3.0\n",
       "stack_data          0.6.2\n",
       "texttable           1.6.7\n",
       "tornado             6.3.2\n",
       "traitlets           5.9.0\n",
       "typing_extensions   NA\n",
       "uri_template        NA\n",
       "urllib3             2.0.3\n",
       "wcwidth             0.2.6\n",
       "webcolors           1.13\n",
       "websocket           1.6.1\n",
       "yaml                6.0\n",
       "zipp                NA\n",
       "zmq                 25.1.0\n",
       "zoneinfo            NA\n",
       "</pre>\n",
       "</details> <!-- seems like this ends pre, so might as well be explicit -->\n",
       "<pre>\n",
       "-----\n",
       "IPython             8.14.0\n",
       "jupyter_client      8.3.0\n",
       "jupyter_core        5.3.1\n",
       "jupyterlab          4.0.2\n",
       "-----\n",
       "Python 3.9.16 | packaged by conda-forge | (main, Feb  1 2023, 21:39:03) [GCC 11.3.0]\n",
       "Linux-5.4.0-150-generic-x86_64-with-glibc2.27\n",
       "-----\n",
       "Session information updated at 2023-06-28 13:02\n",
       "</pre>\n",
       "</details>"
      ],
      "text/plain": [
       "<IPython.core.display.HTML object>"
      ]
     },
     "execution_count": 1,
     "metadata": {},
     "output_type": "execute_result"
    }
   ],
   "source": [
    "import scanpy as sc\n",
    "import pandas as pd\n",
    "import numpy as np\n",
    "import matplotlib.pyplot as plt\n",
    "import session_info\n",
    "session_info.show()"
   ]
  },
  {
   "cell_type": "code",
   "execution_count": 2,
   "id": "1c241fab-1a06-495a-9f60-38de1ce95c2f",
   "metadata": {},
   "outputs": [
    {
     "data": {
      "text/html": [
       "<div>\n",
       "<style scoped>\n",
       "    .dataframe tbody tr th:only-of-type {\n",
       "        vertical-align: middle;\n",
       "    }\n",
       "\n",
       "    .dataframe tbody tr th {\n",
       "        vertical-align: top;\n",
       "    }\n",
       "\n",
       "    .dataframe thead th {\n",
       "        text-align: right;\n",
       "    }\n",
       "</style>\n",
       "<table border=\"1\" class=\"dataframe\">\n",
       "  <thead>\n",
       "    <tr style=\"text-align: right;\">\n",
       "      <th></th>\n",
       "      <th>gene_id</th>\n",
       "      <th>gene_name</th>\n",
       "      <th>gene_biotype</th>\n",
       "      <th>gene_seq_start</th>\n",
       "      <th>gene_seq_end</th>\n",
       "      <th>seq_name</th>\n",
       "      <th>seq_strand</th>\n",
       "      <th>seq_coord_system</th>\n",
       "      <th>description</th>\n",
       "      <th>gene_id_version</th>\n",
       "      <th>canonical_transcript</th>\n",
       "    </tr>\n",
       "  </thead>\n",
       "  <tbody>\n",
       "    <tr>\n",
       "      <th>0</th>\n",
       "      <td>ENSG00000000003</td>\n",
       "      <td>TSPAN6</td>\n",
       "      <td>protein_coding</td>\n",
       "      <td>100627108</td>\n",
       "      <td>100639991</td>\n",
       "      <td>X</td>\n",
       "      <td>-1</td>\n",
       "      <td>chromosome</td>\n",
       "      <td>tetraspanin 6 [Source:HGNC Symbol;Acc:HGNC:11858]</td>\n",
       "      <td>ENSG00000000003.15</td>\n",
       "      <td>ENST00000373020</td>\n",
       "    </tr>\n",
       "    <tr>\n",
       "      <th>1</th>\n",
       "      <td>ENSG00000000005</td>\n",
       "      <td>TNMD</td>\n",
       "      <td>protein_coding</td>\n",
       "      <td>100584936</td>\n",
       "      <td>100599885</td>\n",
       "      <td>X</td>\n",
       "      <td>1</td>\n",
       "      <td>chromosome</td>\n",
       "      <td>tenomodulin [Source:HGNC Symbol;Acc:HGNC:17757]</td>\n",
       "      <td>ENSG00000000005.6</td>\n",
       "      <td>ENST00000373031</td>\n",
       "    </tr>\n",
       "    <tr>\n",
       "      <th>2</th>\n",
       "      <td>ENSG00000000419</td>\n",
       "      <td>DPM1</td>\n",
       "      <td>protein_coding</td>\n",
       "      <td>50934867</td>\n",
       "      <td>50959140</td>\n",
       "      <td>20</td>\n",
       "      <td>-1</td>\n",
       "      <td>chromosome</td>\n",
       "      <td>dolichyl-phosphate mannosyltransferase subunit...</td>\n",
       "      <td>ENSG00000000419.14</td>\n",
       "      <td>ENST00000371588</td>\n",
       "    </tr>\n",
       "  </tbody>\n",
       "</table>\n",
       "</div>"
      ],
      "text/plain": [
       "           gene_id gene_name    gene_biotype  gene_seq_start  gene_seq_end  \\\n",
       "0  ENSG00000000003    TSPAN6  protein_coding       100627108     100639991   \n",
       "1  ENSG00000000005      TNMD  protein_coding       100584936     100599885   \n",
       "2  ENSG00000000419      DPM1  protein_coding        50934867      50959140   \n",
       "\n",
       "  seq_name  seq_strand seq_coord_system  \\\n",
       "0        X          -1       chromosome   \n",
       "1        X           1       chromosome   \n",
       "2       20          -1       chromosome   \n",
       "\n",
       "                                         description     gene_id_version  \\\n",
       "0  tetraspanin 6 [Source:HGNC Symbol;Acc:HGNC:11858]  ENSG00000000003.15   \n",
       "1    tenomodulin [Source:HGNC Symbol;Acc:HGNC:17757]   ENSG00000000005.6   \n",
       "2  dolichyl-phosphate mannosyltransferase subunit...  ENSG00000000419.14   \n",
       "\n",
       "  canonical_transcript  \n",
       "0      ENST00000373020  \n",
       "1      ENST00000373031  \n",
       "2      ENST00000371588  "
      ]
     },
     "execution_count": 2,
     "metadata": {},
     "output_type": "execute_result"
    }
   ],
   "source": [
    "import genomic_features as gf\n",
    "ensdb = gf.ensembl.annotation(species=\"Hsapiens\", version=\"109\")\n",
    "genes = ensdb.genes()\n",
    "genes.head(3)"
   ]
  },
  {
   "cell_type": "markdown",
   "id": "66304b95-826d-43d2-9c1a-67d588d24cc3",
   "metadata": {},
   "source": [
    "Aims:\n",
    "- Compare T21 vs Healthy cell types using DEG analysis\n",
    "- A problem is that all the T21 samples are female, so this will capture sex-specific DEGs --> will annotate `sex_specific` genes by comparing M vs F in healthy atlas first\n",
    "- Another issue is the ages: The T21 samples are PCW13/14 only. Therefore DEGs will capture age changes. To limit this I can subset healthy data to similar ages."
   ]
  },
  {
   "cell_type": "markdown",
   "id": "42b57919-ca85-4c34-9477-2b2e077a9d9e",
   "metadata": {},
   "source": [
    "# Read in adata"
   ]
  },
  {
   "cell_type": "code",
   "execution_count": 3,
   "id": "e557fbd7-7430-45fe-925e-b4f0a955de80",
   "metadata": {
    "pycharm": {
     "name": "#%%\n"
    }
   },
   "outputs": [
    {
     "data": {
      "text/plain": [
       "AnnData object with n_obs × n_vars = 373831 × 36601\n",
       "    obs: 'latent_RT_efficiency', 'latent_cell_probability', 'latent_scale', 'sangerID', 'combinedID', 'donor', 'region', 'age', 'facility', 'cell_or_nuclei', 'modality', 'kit_10x', 'scrublet_score', 'doublet_pval', 'doublet_bh_pval', 'n_genes', 'n_counts', 'n_genes_by_counts', 'log1p_n_genes_by_counts', 'total_counts', 'log1p_total_counts', 'total_counts_mt', 'log1p_total_counts_mt', 'pct_counts_mt', 'total_counts_ribo', 'log1p_total_counts_ribo', 'pct_counts_ribo', 'HB_score', 'donor_by_library-prep', 'multiplexed', 'SOC | status', 'SOC | log_prob_singleton', 'SOC | log_prob_doublet', 'batch_key', '_scvi_batch', 'FACSgate', 'fine_grain', 'mid_grain', 'coarse_grain', 'sex', 'week', 'trimester', 'heart_or_greatvessels', 'cycling', 'S_score', 'G2M_score', 'phase', '_scvi_labels', 'stress_score', 'hb1_score', 'MidGrainModified', 'leiden', 'original_or_new', 'age_days', 'diagnosis', 'batch', 'cell_type', 'scANVI_predictions', 'coarse_predicted_labels', 'coarse_prob', 'coarse_prob_minus_background', 'mid_predicted_labels', 'mid_prob', 'mid_prob_minus_background', 'fine_predicted_labels', 'fine_prob', 'fine_prob_minus_background', 'fine_grain_integrated', 'mid_grain_integrated'\n",
       "    var: 'gene_id', 'feature_type-new', 'ambient_expression-0-new', 'ambient_expression-1-new', 'ambient_expression-2-new', 'ambient_expression-3-new', 'ambient_expression-4-new', 'ambient_expression-5-new', 'ambient_expression-6-new', 'ambient_expression-7-new', 'mt-new', 'ribo-new', 'n_cells_by_counts-new', 'mean_counts-new', 'log1p_mean_counts-new', 'pct_dropout_by_counts-new', 'total_counts-new', 'log1p_total_counts-new', 'gene_name_scRNA-0-original', 'gene_name', 'gene_biotype', 'gene_seq_start', 'gene_seq_end', 'seq_name', 'seq_strand', 'seq_coord_system', 'description', 'gene_id_version', 'canonical_transcript', 'sex_chromosome'\n",
       "    uns: 'MidGrainModified_colors', 'age_colors', 'cell_or_nuclei_colors', 'coarse_predicted_labels_colors', 'diagnosis_colors', 'facility_colors', 'fine_grain_colors', 'fine_grain_integrated_colors', 'fine_predicted_labels_colors', 'kit_10x_colors', 'mid_grain_integrated_colors', 'mid_predicted_labels_colors', 'neighbors', 'original_or_new_colors', 'scANVI_predictions_colors', 'umap'\n",
       "    obsm: 'X_scArches', 'X_umap'\n",
       "    obsp: 'connectivities', 'distances'"
      ]
     },
     "execution_count": 3,
     "metadata": {},
     "output_type": "execute_result"
    }
   ],
   "source": [
    "adata = sc.read(\"/nfs/team205/heart/anndata_objects/Foetal/trisomy21/AtlasT21IntegratedRaw.h5ad\")\n",
    "adata"
   ]
  },
  {
   "cell_type": "code",
   "execution_count": 4,
   "id": "57a819a1-e88e-4ef8-971e-396c6374ddcb",
   "metadata": {},
   "outputs": [
    {
     "data": {
      "text/html": [
       "<div>\n",
       "<style scoped>\n",
       "    .dataframe tbody tr th:only-of-type {\n",
       "        vertical-align: middle;\n",
       "    }\n",
       "\n",
       "    .dataframe tbody tr th {\n",
       "        vertical-align: top;\n",
       "    }\n",
       "\n",
       "    .dataframe thead th {\n",
       "        text-align: right;\n",
       "    }\n",
       "</style>\n",
       "<table border=\"1\" class=\"dataframe\">\n",
       "  <thead>\n",
       "    <tr style=\"text-align: right;\">\n",
       "      <th>age_days</th>\n",
       "      <th>31.0</th>\n",
       "      <th>39.0</th>\n",
       "      <th>43.0</th>\n",
       "      <th>46.0</th>\n",
       "      <th>47.0</th>\n",
       "      <th>49.0</th>\n",
       "      <th>50.0</th>\n",
       "      <th>52.0</th>\n",
       "      <th>54.0</th>\n",
       "      <th>55.0</th>\n",
       "      <th>60.0</th>\n",
       "      <th>62.0</th>\n",
       "      <th>65.0</th>\n",
       "      <th>66.0</th>\n",
       "      <th>75.0</th>\n",
       "      <th>84.0</th>\n",
       "      <th>91.0</th>\n",
       "      <th>98.0</th>\n",
       "      <th>105.0</th>\n",
       "      <th>140.0</th>\n",
       "    </tr>\n",
       "    <tr>\n",
       "      <th>diagnosis</th>\n",
       "      <th></th>\n",
       "      <th></th>\n",
       "      <th></th>\n",
       "      <th></th>\n",
       "      <th></th>\n",
       "      <th></th>\n",
       "      <th></th>\n",
       "      <th></th>\n",
       "      <th></th>\n",
       "      <th></th>\n",
       "      <th></th>\n",
       "      <th></th>\n",
       "      <th></th>\n",
       "      <th></th>\n",
       "      <th></th>\n",
       "      <th></th>\n",
       "      <th></th>\n",
       "      <th></th>\n",
       "      <th></th>\n",
       "      <th></th>\n",
       "    </tr>\n",
       "  </thead>\n",
       "  <tbody>\n",
       "    <tr>\n",
       "      <th>Atlas</th>\n",
       "      <td>2490</td>\n",
       "      <td>13770</td>\n",
       "      <td>6854</td>\n",
       "      <td>9702</td>\n",
       "      <td>4129</td>\n",
       "      <td>2660</td>\n",
       "      <td>9121</td>\n",
       "      <td>5662</td>\n",
       "      <td>12985</td>\n",
       "      <td>7948</td>\n",
       "      <td>3907</td>\n",
       "      <td>17547</td>\n",
       "      <td>2436</td>\n",
       "      <td>6412</td>\n",
       "      <td>6376</td>\n",
       "      <td>7268</td>\n",
       "      <td>38234</td>\n",
       "      <td>9708</td>\n",
       "      <td>25386</td>\n",
       "      <td>104878</td>\n",
       "    </tr>\n",
       "    <tr>\n",
       "      <th>T21</th>\n",
       "      <td>0</td>\n",
       "      <td>0</td>\n",
       "      <td>0</td>\n",
       "      <td>0</td>\n",
       "      <td>0</td>\n",
       "      <td>0</td>\n",
       "      <td>0</td>\n",
       "      <td>0</td>\n",
       "      <td>0</td>\n",
       "      <td>0</td>\n",
       "      <td>0</td>\n",
       "      <td>0</td>\n",
       "      <td>0</td>\n",
       "      <td>0</td>\n",
       "      <td>0</td>\n",
       "      <td>0</td>\n",
       "      <td>22096</td>\n",
       "      <td>54262</td>\n",
       "      <td>0</td>\n",
       "      <td>0</td>\n",
       "    </tr>\n",
       "  </tbody>\n",
       "</table>\n",
       "</div>"
      ],
      "text/plain": [
       "age_days   31.0   39.0   43.0   46.0   47.0   49.0   50.0   52.0   54.0   \\\n",
       "diagnosis                                                                  \n",
       "Atlas       2490  13770   6854   9702   4129   2660   9121   5662  12985   \n",
       "T21            0      0      0      0      0      0      0      0      0   \n",
       "\n",
       "age_days   55.0   60.0   62.0   65.0   66.0   75.0   84.0   91.0   98.0   \\\n",
       "diagnosis                                                                  \n",
       "Atlas       7948   3907  17547   2436   6412   6376   7268  38234   9708   \n",
       "T21            0      0      0      0      0      0      0  22096  54262   \n",
       "\n",
       "age_days   105.0   140.0  \n",
       "diagnosis                 \n",
       "Atlas      25386  104878  \n",
       "T21            0       0  "
      ]
     },
     "execution_count": 4,
     "metadata": {},
     "output_type": "execute_result"
    }
   ],
   "source": [
    "pd.crosstab(adata.obs.diagnosis,adata.obs.age_days)"
   ]
  },
  {
   "cell_type": "code",
   "execution_count": 5,
   "id": "911a34cd-7186-4570-945c-af4f313729ab",
   "metadata": {},
   "outputs": [
    {
     "data": {
      "text/plain": [
       "array([1., 1., 5., ..., 2., 1., 1.], dtype=float32)"
      ]
     },
     "execution_count": 5,
     "metadata": {},
     "output_type": "execute_result"
    }
   ],
   "source": [
    "adata.X.data"
   ]
  },
  {
   "cell_type": "code",
   "execution_count": 6,
   "id": "8a183f72-eca8-4f11-8977-9154c2535ed4",
   "metadata": {},
   "outputs": [],
   "source": [
    "adata.layers[\"counts\"]=adata.X.copy()"
   ]
  },
  {
   "cell_type": "code",
   "execution_count": 7,
   "id": "dc1bf360-5bfc-49b4-ba3c-52cfbb153b38",
   "metadata": {},
   "outputs": [
    {
     "data": {
      "text/plain": [
       "(373831, 36601)"
      ]
     },
     "execution_count": 7,
     "metadata": {},
     "output_type": "execute_result"
    }
   ],
   "source": [
    "adata.shape"
   ]
  },
  {
   "cell_type": "markdown",
   "id": "9e3ae811-d9df-49f1-a5eb-2907cee4908f",
   "metadata": {},
   "source": [
    "# Define sex-specific genes"
   ]
  },
  {
   "cell_type": "code",
   "execution_count": 8,
   "id": "e692083a-7489-4510-aa35-2a1cd0a5ae63",
   "metadata": {},
   "outputs": [
    {
     "name": "stdout",
     "output_type": "stream",
     "text": [
      "(373831, 36601)\n",
      "(297473, 36601)\n"
     ]
    }
   ],
   "source": [
    "print(adata.shape)\n",
    "atlas_adata=adata[adata.obs['diagnosis']=='Atlas']\n",
    "print(atlas_adata.shape)"
   ]
  },
  {
   "cell_type": "code",
   "execution_count": 9,
   "id": "cd90e732-65b7-4e42-91f3-934d09c5d5e8",
   "metadata": {},
   "outputs": [
    {
     "data": {
      "text/plain": [
       "sex\n",
       "male      242969\n",
       "female    130862\n",
       "Name: count, dtype: int64"
      ]
     },
     "execution_count": 9,
     "metadata": {},
     "output_type": "execute_result"
    }
   ],
   "source": [
    "adata.obs.sex.value_counts()"
   ]
  },
  {
   "cell_type": "code",
   "execution_count": 10,
   "id": "b2c092de-940a-41f8-9a4e-48348cb025c5",
   "metadata": {},
   "outputs": [
    {
     "name": "stderr",
     "output_type": "stream",
     "text": [
      "/lustre/scratch126/cellgen/team205/jc48/miniconda3/envs/scanpy_env/lib/python3.9/site-packages/scanpy/preprocessing/_normalization.py:170: UserWarning: Received a view of an AnnData. Making a copy.\n",
      "  view_to_actual(adata)\n"
     ]
    }
   ],
   "source": [
    "sc.pp.normalize_total(atlas_adata,target_sum=1e4)\n",
    "sc.pp.log1p(atlas_adata)"
   ]
  },
  {
   "cell_type": "code",
   "execution_count": 11,
   "id": "9f3831d9-6df3-48dd-8454-45a0d634a452",
   "metadata": {},
   "outputs": [
    {
     "name": "stdout",
     "output_type": "stream",
     "text": [
      "WARNING: Default of the method has been changed to 't-test' from 't-test_overestim_var'\n",
      "WARNING: Dendrogram not added. Dendrogram is added only when the number of categories to plot > 2\n"
     ]
    },
    {
     "name": "stderr",
     "output_type": "stream",
     "text": [
      "/lustre/scratch126/cellgen/team205/jc48/miniconda3/envs/scanpy_env/lib/python3.9/site-packages/scanpy/plotting/_dotplot.py:749: UserWarning: No data for colormapping provided via 'c'. Parameters 'cmap', 'norm' will be ignored\n",
      "  dot_ax.scatter(x, y, **kwds)\n"
     ]
    },
    {
     "data": {
      "image/png": "[encoded data removed]",
      "text/plain": [
       "<Figure size 890x250 with 5 Axes>"
      ]
     },
     "metadata": {},
     "output_type": "display_data"
    }
   ],
   "source": [
    "sc.tl.rank_genes_groups(atlas_adata,groupby='sex')\n",
    "sc.pl.rank_genes_groups_dotplot(atlas_adata)"
   ]
  },
  {
   "cell_type": "code",
   "execution_count": 12,
   "id": "2a297e64-2a5d-4167-99c6-c01c74803390",
   "metadata": {},
   "outputs": [
    {
     "data": {
      "text/html": [
       "<div>\n",
       "<style scoped>\n",
       "    .dataframe tbody tr th:only-of-type {\n",
       "        vertical-align: middle;\n",
       "    }\n",
       "\n",
       "    .dataframe tbody tr th {\n",
       "        vertical-align: top;\n",
       "    }\n",
       "\n",
       "    .dataframe thead th {\n",
       "        text-align: right;\n",
       "    }\n",
       "</style>\n",
       "<table border=\"1\" class=\"dataframe\">\n",
       "  <thead>\n",
       "    <tr style=\"text-align: right;\">\n",
       "      <th></th>\n",
       "      <th>index</th>\n",
       "      <th>scores</th>\n",
       "      <th>logfoldchanges</th>\n",
       "      <th>pvals</th>\n",
       "      <th>pvals_adj</th>\n",
       "      <th>gene_id</th>\n",
       "      <th>gene_name</th>\n",
       "      <th>gene_biotype</th>\n",
       "      <th>gene_seq_start</th>\n",
       "      <th>gene_seq_end</th>\n",
       "      <th>seq_name</th>\n",
       "      <th>seq_strand</th>\n",
       "      <th>seq_coord_system</th>\n",
       "      <th>description</th>\n",
       "      <th>gene_id_version</th>\n",
       "      <th>canonical_transcript</th>\n",
       "      <th>sex_chromosome</th>\n",
       "    </tr>\n",
       "    <tr>\n",
       "      <th>names</th>\n",
       "      <th></th>\n",
       "      <th></th>\n",
       "      <th></th>\n",
       "      <th></th>\n",
       "      <th></th>\n",
       "      <th></th>\n",
       "      <th></th>\n",
       "      <th></th>\n",
       "      <th></th>\n",
       "      <th></th>\n",
       "      <th></th>\n",
       "      <th></th>\n",
       "      <th></th>\n",
       "      <th></th>\n",
       "      <th></th>\n",
       "      <th></th>\n",
       "      <th></th>\n",
       "    </tr>\n",
       "  </thead>\n",
       "  <tbody>\n",
       "    <tr>\n",
       "      <th>RPS4Y1</th>\n",
       "      <td>0</td>\n",
       "      <td>349.128479</td>\n",
       "      <td>8.804938</td>\n",
       "      <td>0.0</td>\n",
       "      <td>0.0</td>\n",
       "      <td>ENSG00000129824</td>\n",
       "      <td>RPS4Y1</td>\n",
       "      <td>protein_coding</td>\n",
       "      <td>2841602.0</td>\n",
       "      <td>2932000.0</td>\n",
       "      <td>Y</td>\n",
       "      <td>1.0</td>\n",
       "      <td>chromosome</td>\n",
       "      <td>ribosomal protein S4 Y-linked 1 [Source:HGNC S...</td>\n",
       "      <td>ENSG00000129824.16</td>\n",
       "      <td>ENST00000250784</td>\n",
       "      <td>True</td>\n",
       "    </tr>\n",
       "    <tr>\n",
       "      <th>UTY</th>\n",
       "      <td>1</td>\n",
       "      <td>321.847595</td>\n",
       "      <td>8.432717</td>\n",
       "      <td>0.0</td>\n",
       "      <td>0.0</td>\n",
       "      <td>ENSG00000183878</td>\n",
       "      <td>UTY</td>\n",
       "      <td>protein_coding</td>\n",
       "      <td>13234577.0</td>\n",
       "      <td>13480673.0</td>\n",
       "      <td>Y</td>\n",
       "      <td>-1.0</td>\n",
       "      <td>chromosome</td>\n",
       "      <td>ubiquitously transcribed tetratricopeptide rep...</td>\n",
       "      <td>ENSG00000183878.16</td>\n",
       "      <td>ENST00000545955</td>\n",
       "      <td>True</td>\n",
       "    </tr>\n",
       "    <tr>\n",
       "      <th>USP9Y</th>\n",
       "      <td>2</td>\n",
       "      <td>281.157562</td>\n",
       "      <td>8.035007</td>\n",
       "      <td>0.0</td>\n",
       "      <td>0.0</td>\n",
       "      <td>ENSG00000114374</td>\n",
       "      <td>USP9Y</td>\n",
       "      <td>protein_coding</td>\n",
       "      <td>12537650.0</td>\n",
       "      <td>12860839.0</td>\n",
       "      <td>Y</td>\n",
       "      <td>1.0</td>\n",
       "      <td>chromosome</td>\n",
       "      <td>ubiquitin specific peptidase 9 Y-linked [Sourc...</td>\n",
       "      <td>ENSG00000114374.13</td>\n",
       "      <td>ENST00000338981</td>\n",
       "      <td>True</td>\n",
       "    </tr>\n",
       "    <tr>\n",
       "      <th>TTTY14</th>\n",
       "      <td>3</td>\n",
       "      <td>270.557770</td>\n",
       "      <td>7.294281</td>\n",
       "      <td>0.0</td>\n",
       "      <td>0.0</td>\n",
       "      <td>ENSG00000176728</td>\n",
       "      <td>TTTY14</td>\n",
       "      <td>lncRNA</td>\n",
       "      <td>18772706.0</td>\n",
       "      <td>19077416.0</td>\n",
       "      <td>Y</td>\n",
       "      <td>-1.0</td>\n",
       "      <td>chromosome</td>\n",
       "      <td>testis-specific transcript, Y-linked 14 [Sourc...</td>\n",
       "      <td>ENSG00000176728.10</td>\n",
       "      <td>ENST00000651734</td>\n",
       "      <td>True</td>\n",
       "    </tr>\n",
       "    <tr>\n",
       "      <th>DDX3Y</th>\n",
       "      <td>4</td>\n",
       "      <td>196.956009</td>\n",
       "      <td>8.438138</td>\n",
       "      <td>0.0</td>\n",
       "      <td>0.0</td>\n",
       "      <td>ENSG00000067048</td>\n",
       "      <td>DDX3Y</td>\n",
       "      <td>protein_coding</td>\n",
       "      <td>12904108.0</td>\n",
       "      <td>12920478.0</td>\n",
       "      <td>Y</td>\n",
       "      <td>1.0</td>\n",
       "      <td>chromosome</td>\n",
       "      <td>DEAD-box helicase 3 Y-linked [Source:HGNC Symb...</td>\n",
       "      <td>ENSG00000067048.17</td>\n",
       "      <td>ENST00000336079</td>\n",
       "      <td>True</td>\n",
       "    </tr>\n",
       "    <tr>\n",
       "      <th>...</th>\n",
       "      <td>...</td>\n",
       "      <td>...</td>\n",
       "      <td>...</td>\n",
       "      <td>...</td>\n",
       "      <td>...</td>\n",
       "      <td>...</td>\n",
       "      <td>...</td>\n",
       "      <td>...</td>\n",
       "      <td>...</td>\n",
       "      <td>...</td>\n",
       "      <td>...</td>\n",
       "      <td>...</td>\n",
       "      <td>...</td>\n",
       "      <td>...</td>\n",
       "      <td>...</td>\n",
       "      <td>...</td>\n",
       "      <td>...</td>\n",
       "    </tr>\n",
       "    <tr>\n",
       "      <th>RBM24</th>\n",
       "      <td>36596</td>\n",
       "      <td>-139.024048</td>\n",
       "      <td>-1.936886</td>\n",
       "      <td>0.0</td>\n",
       "      <td>0.0</td>\n",
       "      <td>ENSG00000112183</td>\n",
       "      <td>RBM24</td>\n",
       "      <td>protein_coding</td>\n",
       "      <td>17281361.0</td>\n",
       "      <td>17293871.0</td>\n",
       "      <td>6</td>\n",
       "      <td>1.0</td>\n",
       "      <td>chromosome</td>\n",
       "      <td>RNA binding motif protein 24 [Source:HGNC Symb...</td>\n",
       "      <td>ENSG00000112183.15</td>\n",
       "      <td>ENST00000379052</td>\n",
       "      <td>False</td>\n",
       "    </tr>\n",
       "    <tr>\n",
       "      <th>PPARGC1A</th>\n",
       "      <td>36597</td>\n",
       "      <td>-144.833740</td>\n",
       "      <td>-2.327109</td>\n",
       "      <td>0.0</td>\n",
       "      <td>0.0</td>\n",
       "      <td>ENSG00000109819</td>\n",
       "      <td>PPARGC1A</td>\n",
       "      <td>protein_coding</td>\n",
       "      <td>23755041.0</td>\n",
       "      <td>23904089.0</td>\n",
       "      <td>4</td>\n",
       "      <td>-1.0</td>\n",
       "      <td>chromosome</td>\n",
       "      <td>PPARG coactivator 1 alpha [Source:HGNC Symbol;...</td>\n",
       "      <td>ENSG00000109819.9</td>\n",
       "      <td>ENST00000264867</td>\n",
       "      <td>False</td>\n",
       "    </tr>\n",
       "    <tr>\n",
       "      <th>B4GALNT3</th>\n",
       "      <td>36598</td>\n",
       "      <td>-147.896667</td>\n",
       "      <td>-2.157929</td>\n",
       "      <td>0.0</td>\n",
       "      <td>0.0</td>\n",
       "      <td>ENSG00000139044</td>\n",
       "      <td>B4GALNT3</td>\n",
       "      <td>protein_coding</td>\n",
       "      <td>459939.0</td>\n",
       "      <td>563509.0</td>\n",
       "      <td>12</td>\n",
       "      <td>1.0</td>\n",
       "      <td>chromosome</td>\n",
       "      <td>beta-1,4-N-acetyl-galactosaminyltransferase 3 ...</td>\n",
       "      <td>ENSG00000139044.12</td>\n",
       "      <td>ENST00000266383</td>\n",
       "      <td>False</td>\n",
       "    </tr>\n",
       "    <tr>\n",
       "      <th>TSIX</th>\n",
       "      <td>36599</td>\n",
       "      <td>-183.856781</td>\n",
       "      <td>-7.503387</td>\n",
       "      <td>0.0</td>\n",
       "      <td>0.0</td>\n",
       "      <td>ENSG00000270641</td>\n",
       "      <td>TSIX</td>\n",
       "      <td>lncRNA</td>\n",
       "      <td>73792205.0</td>\n",
       "      <td>73829231.0</td>\n",
       "      <td>X</td>\n",
       "      <td>1.0</td>\n",
       "      <td>chromosome</td>\n",
       "      <td>TSIX transcript, XIST antisense RNA [Source:HG...</td>\n",
       "      <td>ENSG00000270641.2</td>\n",
       "      <td>ENST00000604411</td>\n",
       "      <td>True</td>\n",
       "    </tr>\n",
       "    <tr>\n",
       "      <th>XIST</th>\n",
       "      <td>36600</td>\n",
       "      <td>-618.690186</td>\n",
       "      <td>-9.794653</td>\n",
       "      <td>0.0</td>\n",
       "      <td>0.0</td>\n",
       "      <td>ENSG00000229807</td>\n",
       "      <td>XIST</td>\n",
       "      <td>lncRNA</td>\n",
       "      <td>73820649.0</td>\n",
       "      <td>73852723.0</td>\n",
       "      <td>X</td>\n",
       "      <td>-1.0</td>\n",
       "      <td>chromosome</td>\n",
       "      <td>X inactive specific transcript [Source:HGNC Sy...</td>\n",
       "      <td>ENSG00000229807.13</td>\n",
       "      <td>ENST00000429829</td>\n",
       "      <td>True</td>\n",
       "    </tr>\n",
       "  </tbody>\n",
       "</table>\n",
       "<p>36601 rows × 17 columns</p>\n",
       "</div>"
      ],
      "text/plain": [
       "          index      scores  logfoldchanges  pvals  pvals_adj  \\\n",
       "names                                                           \n",
       "RPS4Y1        0  349.128479        8.804938    0.0        0.0   \n",
       "UTY           1  321.847595        8.432717    0.0        0.0   \n",
       "USP9Y         2  281.157562        8.035007    0.0        0.0   \n",
       "TTTY14        3  270.557770        7.294281    0.0        0.0   \n",
       "DDX3Y         4  196.956009        8.438138    0.0        0.0   \n",
       "...         ...         ...             ...    ...        ...   \n",
       "RBM24     36596 -139.024048       -1.936886    0.0        0.0   \n",
       "PPARGC1A  36597 -144.833740       -2.327109    0.0        0.0   \n",
       "B4GALNT3  36598 -147.896667       -2.157929    0.0        0.0   \n",
       "TSIX      36599 -183.856781       -7.503387    0.0        0.0   \n",
       "XIST      36600 -618.690186       -9.794653    0.0        0.0   \n",
       "\n",
       "                  gene_id gene_name    gene_biotype  gene_seq_start  \\\n",
       "names                                                                 \n",
       "RPS4Y1    ENSG00000129824    RPS4Y1  protein_coding       2841602.0   \n",
       "UTY       ENSG00000183878       UTY  protein_coding      13234577.0   \n",
       "USP9Y     ENSG00000114374     USP9Y  protein_coding      12537650.0   \n",
       "TTTY14    ENSG00000176728    TTTY14          lncRNA      18772706.0   \n",
       "DDX3Y     ENSG00000067048     DDX3Y  protein_coding      12904108.0   \n",
       "...                   ...       ...             ...             ...   \n",
       "RBM24     ENSG00000112183     RBM24  protein_coding      17281361.0   \n",
       "PPARGC1A  ENSG00000109819  PPARGC1A  protein_coding      23755041.0   \n",
       "B4GALNT3  ENSG00000139044  B4GALNT3  protein_coding        459939.0   \n",
       "TSIX      ENSG00000270641      TSIX          lncRNA      73792205.0   \n",
       "XIST      ENSG00000229807      XIST          lncRNA      73820649.0   \n",
       "\n",
       "          gene_seq_end seq_name  seq_strand seq_coord_system  \\\n",
       "names                                                          \n",
       "RPS4Y1       2932000.0        Y         1.0       chromosome   \n",
       "UTY         13480673.0        Y        -1.0       chromosome   \n",
       "USP9Y       12860839.0        Y         1.0       chromosome   \n",
       "TTTY14      19077416.0        Y        -1.0       chromosome   \n",
       "DDX3Y       12920478.0        Y         1.0       chromosome   \n",
       "...                ...      ...         ...              ...   \n",
       "RBM24       17293871.0        6         1.0       chromosome   \n",
       "PPARGC1A    23904089.0        4        -1.0       chromosome   \n",
       "B4GALNT3      563509.0       12         1.0       chromosome   \n",
       "TSIX        73829231.0        X         1.0       chromosome   \n",
       "XIST        73852723.0        X        -1.0       chromosome   \n",
       "\n",
       "                                                description  \\\n",
       "names                                                         \n",
       "RPS4Y1    ribosomal protein S4 Y-linked 1 [Source:HGNC S...   \n",
       "UTY       ubiquitously transcribed tetratricopeptide rep...   \n",
       "USP9Y     ubiquitin specific peptidase 9 Y-linked [Sourc...   \n",
       "TTTY14    testis-specific transcript, Y-linked 14 [Sourc...   \n",
       "DDX3Y     DEAD-box helicase 3 Y-linked [Source:HGNC Symb...   \n",
       "...                                                     ...   \n",
       "RBM24     RNA binding motif protein 24 [Source:HGNC Symb...   \n",
       "PPARGC1A  PPARG coactivator 1 alpha [Source:HGNC Symbol;...   \n",
       "B4GALNT3  beta-1,4-N-acetyl-galactosaminyltransferase 3 ...   \n",
       "TSIX      TSIX transcript, XIST antisense RNA [Source:HG...   \n",
       "XIST      X inactive specific transcript [Source:HGNC Sy...   \n",
       "\n",
       "             gene_id_version canonical_transcript  sex_chromosome  \n",
       "names                                                              \n",
       "RPS4Y1    ENSG00000129824.16      ENST00000250784            True  \n",
       "UTY       ENSG00000183878.16      ENST00000545955            True  \n",
       "USP9Y     ENSG00000114374.13      ENST00000338981            True  \n",
       "TTTY14    ENSG00000176728.10      ENST00000651734            True  \n",
       "DDX3Y     ENSG00000067048.17      ENST00000336079            True  \n",
       "...                      ...                  ...             ...  \n",
       "RBM24     ENSG00000112183.15      ENST00000379052           False  \n",
       "PPARGC1A   ENSG00000109819.9      ENST00000264867           False  \n",
       "B4GALNT3  ENSG00000139044.12      ENST00000266383           False  \n",
       "TSIX       ENSG00000270641.2      ENST00000604411            True  \n",
       "XIST      ENSG00000229807.13      ENST00000429829            True  \n",
       "\n",
       "[36601 rows x 17 columns]"
      ]
     },
     "execution_count": 12,
     "metadata": {},
     "output_type": "execute_result"
    }
   ],
   "source": [
    "sex_genes=sc.get.rank_genes_groups_df(atlas_adata,group='male')\n",
    "sex_genes=sex_genes.reset_index()\n",
    "sex_genes=sex_genes.merge(genes.drop_duplicates('gene_name'), left_on='names', right_on='gene_name',how='left')\n",
    "sex_genes['sex_chromosome']=sex_genes.seq_name.isin(['X','Y'])\n",
    "sex_genes=sex_genes.set_index('names')\n",
    "sex_genes"
   ]
  },
  {
   "cell_type": "code",
   "execution_count": 13,
   "id": "048b8df0-068f-4d58-9c47-ebf8d9962a1f",
   "metadata": {},
   "outputs": [
    {
     "data": {
      "text/plain": [
       "<Axes: >"
      ]
     },
     "execution_count": 13,
     "metadata": {},
     "output_type": "execute_result"
    },
    {
     "data": {
      "image/png": "[encoded data removed]",
      "text/plain": [
       "<Figure size 640x480 with 1 Axes>"
      ]
     },
     "metadata": {},
     "output_type": "display_data"
    }
   ],
   "source": [
    "sex_genes.scores.hist(bins=100)"
   ]
  },
  {
   "cell_type": "code",
   "execution_count": 14,
   "id": "46c198fa-15b8-4301-a6dd-ee07869943d9",
   "metadata": {},
   "outputs": [
    {
     "name": "stdout",
     "output_type": "stream",
     "text": [
      "Lower bound: -33.01948547363281\n",
      "Upper bound: 37.317161560058594\n"
     ]
    }
   ],
   "source": [
    "# Calculate the mean and standard deviation\n",
    "mean_scores = sex_genes['scores'].mean()\n",
    "std_scores = sex_genes['scores'].std()\n",
    "\n",
    "# Calculate the upper and lower bounds\n",
    "lower_bound = mean_scores - 2 * std_scores\n",
    "upper_bound = mean_scores + 2 * std_scores\n",
    "\n",
    "# Add a new column 'significant' based on whether scores exceed these bounds\n",
    "sex_genes['sex_specific'] = (sex_genes['scores'] > upper_bound) | (sex_genes['scores'] < lower_bound)\n",
    "\n",
    "# Annotate as male or female\n",
    "sex_genes['sex'] = np.where(sex_genes['scores'] > 0, 'male', 'female')\n",
    "sex_genes['sex'] = sex_genes['sex'].astype('category')\n",
    "\n",
    "# Print the bounds for reference\n",
    "print(f\"Lower bound: {lower_bound}\")\n",
    "print(f\"Upper bound: {upper_bound}\")"
   ]
  },
  {
   "cell_type": "code",
   "execution_count": 15,
   "id": "c8c55639-f255-4386-a52c-dd732adcaa5d",
   "metadata": {},
   "outputs": [
    {
     "data": {
      "text/plain": [
       "<matplotlib.collections.PathCollection at 0x1460e980ef70>"
      ]
     },
     "execution_count": 15,
     "metadata": {},
     "output_type": "execute_result"
    },
    {
     "data": {
      "image/png": "[encoded data removed]",
      "text/plain": [
       "<Figure size 640x480 with 1 Axes>"
      ]
     },
     "metadata": {},
     "output_type": "display_data"
    }
   ],
   "source": [
    "plt.scatter(x=sex_genes['index'],y=sex_genes.scores, c=sex_genes.sex_specific)"
   ]
  },
  {
   "cell_type": "code",
   "execution_count": 16,
   "id": "f19e1e4e-c24b-4c5d-88cd-6d0e041caefc",
   "metadata": {},
   "outputs": [
    {
     "data": {
      "text/plain": [
       "<matplotlib.collections.PathCollection at 0x1460e9676940>"
      ]
     },
     "execution_count": 16,
     "metadata": {},
     "output_type": "execute_result"
    },
    {
     "data": {
      "image/png": "[encoded data removed]",
      "text/plain": [
       "<Figure size 640x480 with 1 Axes>"
      ]
     },
     "metadata": {},
     "output_type": "display_data"
    }
   ],
   "source": [
    "plt.scatter(x=sex_genes['index'],y=sex_genes.scores, c=sex_genes.sex_chromosome)"
   ]
  },
  {
   "cell_type": "code",
   "execution_count": 17,
   "id": "8b0fd1c6-0030-4811-84ab-ed4de541d6b6",
   "metadata": {},
   "outputs": [
    {
     "data": {
      "text/plain": [
       "sex\n",
       "female    1004\n",
       "male       903\n",
       "Name: count, dtype: int64"
      ]
     },
     "execution_count": 17,
     "metadata": {},
     "output_type": "execute_result"
    }
   ],
   "source": [
    "sex_genes[sex_genes.sex_specific].sex.value_counts()"
   ]
  },
  {
   "cell_type": "code",
   "execution_count": 18,
   "id": "835005c3-e4a7-4215-a413-005c534d824f",
   "metadata": {},
   "outputs": [
    {
     "data": {
      "text/plain": [
       "sex\n",
       "male      564\n",
       "female    450\n",
       "Name: count, dtype: int64"
      ]
     },
     "execution_count": 18,
     "metadata": {},
     "output_type": "execute_result"
    }
   ],
   "source": [
    "sex_genes[sex_genes.sex_chromosome].sex.value_counts()"
   ]
  },
  {
   "cell_type": "code",
   "execution_count": 19,
   "id": "2a0e7dfe-7027-42e3-b7ee-872cee86c7ab",
   "metadata": {},
   "outputs": [
    {
     "data": {
      "text/plain": [
       "index                                                               36531\n",
       "scores                                                        -101.175774\n",
       "logfoldchanges                                                  -1.500243\n",
       "pvals                                                                 0.0\n",
       "pvals_adj                                                             0.0\n",
       "gene_id                                                   ENSG00000142611\n",
       "gene_name                                                          PRDM16\n",
       "gene_biotype                                               protein_coding\n",
       "gene_seq_start                                                  3069168.0\n",
       "gene_seq_end                                                    3438621.0\n",
       "seq_name                                                                1\n",
       "seq_strand                                                            1.0\n",
       "seq_coord_system                                               chromosome\n",
       "description             PR/SET domain 16 [Source:HGNC Symbol;Acc:HGNC:...\n",
       "gene_id_version                                        ENSG00000142611.17\n",
       "canonical_transcript                                      ENST00000270722\n",
       "sex_chromosome                                                      False\n",
       "sex_specific                                                         True\n",
       "sex                                                                female\n",
       "Name: PRDM16, dtype: object"
      ]
     },
     "execution_count": 19,
     "metadata": {},
     "output_type": "execute_result"
    }
   ],
   "source": [
    "sex_genes.loc[\"PRDM16\"]"
   ]
  },
  {
   "cell_type": "markdown",
   "id": "659c254d-a71d-4575-957c-5c38e15e8bbb",
   "metadata": {},
   "source": [
    "# Compare T21 and healthy cell states"
   ]
  },
  {
   "cell_type": "code",
   "execution_count": 20,
   "id": "fcb56c38-7d08-41e7-897d-d893001ced5a",
   "metadata": {},
   "outputs": [
    {
     "name": "stdout",
     "output_type": "stream",
     "text": [
      "(373831, 36601)\n",
      "(163330, 36601)\n"
     ]
    }
   ],
   "source": [
    "# subset to similar ages, so we are not capturing\n",
    "print(adata.shape)\n",
    "adata = adata[(adata.obs.age_days >= 75) & (adata.obs.age_days <= 105)]\n",
    "print(adata.shape)"
   ]
  },
  {
   "cell_type": "code",
   "execution_count": 21,
   "id": "4c82d403-28ee-4c35-b45c-0ade5ff170e4",
   "metadata": {},
   "outputs": [
    {
     "name": "stderr",
     "output_type": "stream",
     "text": [
      "/lustre/scratch126/cellgen/team205/jc48/miniconda3/envs/scanpy_env/lib/python3.9/site-packages/scanpy/preprocessing/_normalization.py:170: UserWarning: Received a view of an AnnData. Making a copy.\n",
      "  view_to_actual(adata)\n"
     ]
    }
   ],
   "source": [
    "sc.pp.normalize_total(adata,target_sum=1e4)\n",
    "sc.pp.log1p(adata)"
   ]
  },
  {
   "cell_type": "code",
   "execution_count": 22,
   "id": "5b0b817a-2fad-4171-a23f-e549bdc8aa78",
   "metadata": {},
   "outputs": [],
   "source": [
    "adata.var=adata.var.merge(sex_genes[['sex_specific','sex','sex_chromosome']], left_index=True, right_index=True)"
   ]
  },
  {
   "cell_type": "code",
   "execution_count": 24,
   "id": "fb67d877-184c-4d17-af32-47a7ac56ac08",
   "metadata": {},
   "outputs": [],
   "source": [
    "# make a label to compare\n",
    "adata.obs['fine_grain_T21_status']=adata.obs['fine_grain_integrated'].astype('str')+'_'+adata.obs['diagnosis'].astype('str')\n",
    "adata.obs['fine_grain_T21_status'] = adata.obs['fine_grain_T21_status'].astype('category')\n",
    "\n",
    "adata.obs['mid_grain_T21_status']=adata.obs['mid_grain_integrated'].astype('str')+'_'+adata.obs['diagnosis'].astype('str')\n",
    "adata.obs['mid_grain_T21_status'] = adata.obs['mid_grain_T21_status'].astype('category')"
   ]
  },
  {
   "cell_type": "markdown",
   "id": "59ebd780-ff8f-4f0c-88d5-f759f234dc70",
   "metadata": {},
   "source": [
    "## Compact T21 vs Compact Healthy"
   ]
  },
  {
   "cell_type": "code",
   "execution_count": 25,
   "id": "cd20ab17-ac30-48ae-bdaa-da7cbe98664a",
   "metadata": {},
   "outputs": [
    {
     "data": {
      "text/plain": [
       "['VentricularCardiomyocytesLeftCompact_Atlas',\n",
       " 'VentricularCardiomyocytesLeftCompact_T21']"
      ]
     },
     "execution_count": 25,
     "metadata": {},
     "output_type": "execute_result"
    }
   ],
   "source": [
    "all_cell_types=adata.obs.fine_grain_T21_status.unique().tolist()\n",
    "\n",
    "list_of_cell_types=[\n",
    "    'VentricularCardiomyocytesLeftCompact',\n",
    "    #'VentricularCardiomyocytesLeftTrabeculated',\n",
    "    #'VentricularCardiomyocytesRightCompact',\n",
    "    #'VentricularCardiomyocytesRightTrabeculated',\n",
    "]\n",
    "\n",
    "groups = [cell for cell in all_cell_types if any(term in cell for term in list_of_cell_types)]\n",
    "groups"
   ]
  },
  {
   "cell_type": "code",
   "execution_count": 26,
   "id": "03422f27-cdff-46f5-aed8-a9406ea79ca0",
   "metadata": {},
   "outputs": [
    {
     "name": "stdout",
     "output_type": "stream",
     "text": [
      "(13877, 36601)\n",
      "WARNING: Default of the method has been changed to 't-test' from 't-test_overestim_var'\n"
     ]
    },
    {
     "name": "stderr",
     "output_type": "stream",
     "text": [
      "/lustre/scratch126/cellgen/team205/jc48/miniconda3/envs/scanpy_env/lib/python3.9/site-packages/scanpy/tools/_rank_genes_groups.py:580: ImplicitModificationWarning: Trying to modify attribute `._uns` of view, initializing view as actual.\n",
      "  adata.uns[key_added] = {}\n"
     ]
    }
   ],
   "source": [
    "tmp_adata=adata[adata.obs.fine_grain_T21_status.isin(groups)]\n",
    "print(tmp_adata.shape)\n",
    "#tmp_adata=tmp_adata[:,~adata.var.sex_chromosome]\n",
    "#print(tmp_adata.shape)\n",
    "\n",
    "sc.tl.rank_genes_groups(tmp_adata,\n",
    "                        groupby='fine_grain_T21_status',\n",
    "                       groups=groups)"
   ]
  },
  {
   "cell_type": "code",
   "execution_count": 27,
   "id": "12a82b36-82c3-4ee0-8055-b150aef8b6cf",
   "metadata": {},
   "outputs": [
    {
     "name": "stderr",
     "output_type": "stream",
     "text": [
      "/lustre/scratch126/cellgen/team205/jc48/miniconda3/envs/scanpy_env/lib/python3.9/site-packages/scanpy/plotting/_dotplot.py:749: UserWarning: No data for colormapping provided via 'c'. Parameters 'cmap', 'norm' will be ignored\n",
      "  dot_ax.scatter(x, y, **kwds)\n"
     ]
    },
    {
     "data": {
      "image/png": "[encoded data removed]",
      "text/plain": [
       "<Figure size 1710x250 with 6 Axes>"
      ]
     },
     "metadata": {},
     "output_type": "display_data"
    }
   ],
   "source": [
    "dp=sc.pl.rank_genes_groups_dotplot(tmp_adata,\n",
    "                               n_genes=20,\n",
    "                                   dendrogram=False,\n",
    "                                 return_fig=True)\n",
    "dp.add_totals().show()"
   ]
  },
  {
   "cell_type": "markdown",
   "id": "ce583083-f487-407a-a876-8a67655f7f5e",
   "metadata": {},
   "source": [
    "### REDUCED in T21"
   ]
  },
  {
   "cell_type": "code",
   "execution_count": 45,
   "id": "1d76739b-8093-4e02-9cfa-c6e7f6b151d7",
   "metadata": {},
   "outputs": [
    {
     "name": "stdout",
     "output_type": "stream",
     "text": [
      "These genes are HIGH in VentricularCardiomyocytesLeftCompact_Atlas and LOW in VentricularCardiomyocytesLeftCompact_T21\n"
     ]
    },
    {
     "data": {
      "text/html": [
       "<div>\n",
       "<style scoped>\n",
       "    .dataframe tbody tr th:only-of-type {\n",
       "        vertical-align: middle;\n",
       "    }\n",
       "\n",
       "    .dataframe tbody tr th {\n",
       "        vertical-align: top;\n",
       "    }\n",
       "\n",
       "    .dataframe thead th {\n",
       "        text-align: right;\n",
       "    }\n",
       "</style>\n",
       "<table border=\"1\" class=\"dataframe\">\n",
       "  <thead>\n",
       "    <tr style=\"text-align: right;\">\n",
       "      <th></th>\n",
       "      <th>scores</th>\n",
       "      <th>logfoldchanges</th>\n",
       "      <th>pvals</th>\n",
       "      <th>pvals_adj</th>\n",
       "      <th>sex_specific</th>\n",
       "      <th>seq_name</th>\n",
       "      <th>sex_chromosome</th>\n",
       "      <th>description</th>\n",
       "    </tr>\n",
       "    <tr>\n",
       "      <th>names</th>\n",
       "      <th></th>\n",
       "      <th></th>\n",
       "      <th></th>\n",
       "      <th></th>\n",
       "      <th></th>\n",
       "      <th></th>\n",
       "      <th></th>\n",
       "      <th></th>\n",
       "    </tr>\n",
       "  </thead>\n",
       "  <tbody>\n",
       "    <tr>\n",
       "      <th>XIST</th>\n",
       "      <td>191.669556</td>\n",
       "      <td>32.454060</td>\n",
       "      <td>0.000000</td>\n",
       "      <td>0.000000</td>\n",
       "      <td>True</td>\n",
       "      <td>X</td>\n",
       "      <td>True</td>\n",
       "      <td>X inactive specific transcript [Source:HGNC Sy...</td>\n",
       "    </tr>\n",
       "    <tr>\n",
       "      <th>TSIX</th>\n",
       "      <td>63.295986</td>\n",
       "      <td>9.206864</td>\n",
       "      <td>0.000000</td>\n",
       "      <td>0.000000</td>\n",
       "      <td>True</td>\n",
       "      <td>X</td>\n",
       "      <td>True</td>\n",
       "      <td>TSIX transcript, XIST antisense RNA [Source:HG...</td>\n",
       "    </tr>\n",
       "    <tr>\n",
       "      <th>ADCY5</th>\n",
       "      <td>53.595493</td>\n",
       "      <td>2.221355</td>\n",
       "      <td>0.000000</td>\n",
       "      <td>0.000000</td>\n",
       "      <td>True</td>\n",
       "      <td>3</td>\n",
       "      <td>False</td>\n",
       "      <td>adenylate cyclase 5 [Source:HGNC Symbol;Acc:HG...</td>\n",
       "    </tr>\n",
       "    <tr>\n",
       "      <th>MTRNR2L1</th>\n",
       "      <td>52.350365</td>\n",
       "      <td>5.184286</td>\n",
       "      <td>0.000000</td>\n",
       "      <td>0.000000</td>\n",
       "      <td>NaN</td>\n",
       "      <td>NaN</td>\n",
       "      <td>NaN</td>\n",
       "      <td>NaN</td>\n",
       "    </tr>\n",
       "    <tr>\n",
       "      <th>PLCG2</th>\n",
       "      <td>50.277988</td>\n",
       "      <td>1.936767</td>\n",
       "      <td>0.000000</td>\n",
       "      <td>0.000000</td>\n",
       "      <td>True</td>\n",
       "      <td>16</td>\n",
       "      <td>False</td>\n",
       "      <td>phospholipase C gamma 2 [Source:HGNC Symbol;Ac...</td>\n",
       "    </tr>\n",
       "    <tr>\n",
       "      <th>...</th>\n",
       "      <td>...</td>\n",
       "      <td>...</td>\n",
       "      <td>...</td>\n",
       "      <td>...</td>\n",
       "      <td>...</td>\n",
       "      <td>...</td>\n",
       "      <td>...</td>\n",
       "      <td>...</td>\n",
       "    </tr>\n",
       "    <tr>\n",
       "      <th>NAB2</th>\n",
       "      <td>3.075882</td>\n",
       "      <td>0.616303</td>\n",
       "      <td>0.002106</td>\n",
       "      <td>0.009835</td>\n",
       "      <td>False</td>\n",
       "      <td>12</td>\n",
       "      <td>False</td>\n",
       "      <td>NGFI-A binding protein 2 [Source:HGNC Symbol;A...</td>\n",
       "    </tr>\n",
       "    <tr>\n",
       "      <th>CXCR4</th>\n",
       "      <td>3.075694</td>\n",
       "      <td>20.020432</td>\n",
       "      <td>0.002106</td>\n",
       "      <td>0.009835</td>\n",
       "      <td>False</td>\n",
       "      <td>2</td>\n",
       "      <td>False</td>\n",
       "      <td>C-X-C motif chemokine receptor 4 [Source:HGNC ...</td>\n",
       "    </tr>\n",
       "    <tr>\n",
       "      <th>HMOX1</th>\n",
       "      <td>3.074272</td>\n",
       "      <td>1.955118</td>\n",
       "      <td>0.002115</td>\n",
       "      <td>0.009872</td>\n",
       "      <td>False</td>\n",
       "      <td>22</td>\n",
       "      <td>False</td>\n",
       "      <td>heme oxygenase 1 [Source:HGNC Symbol;Acc:HGNC:...</td>\n",
       "    </tr>\n",
       "    <tr>\n",
       "      <th>SPACA3</th>\n",
       "      <td>3.074249</td>\n",
       "      <td>19.996141</td>\n",
       "      <td>0.002116</td>\n",
       "      <td>0.009877</td>\n",
       "      <td>False</td>\n",
       "      <td>17</td>\n",
       "      <td>False</td>\n",
       "      <td>sperm acrosome associated 3 [Source:HGNC Symbo...</td>\n",
       "    </tr>\n",
       "    <tr>\n",
       "      <th>NPM2</th>\n",
       "      <td>3.072923</td>\n",
       "      <td>20.000380</td>\n",
       "      <td>0.002125</td>\n",
       "      <td>0.009914</td>\n",
       "      <td>False</td>\n",
       "      <td>8</td>\n",
       "      <td>False</td>\n",
       "      <td>nucleophosmin/nucleoplasmin 2 [Source:HGNC Sym...</td>\n",
       "    </tr>\n",
       "  </tbody>\n",
       "</table>\n",
       "<p>1847 rows × 8 columns</p>\n",
       "</div>"
      ],
      "text/plain": [
       "              scores  logfoldchanges     pvals  pvals_adj sex_specific  \\\n",
       "names                                                                    \n",
       "XIST      191.669556       32.454060  0.000000   0.000000         True   \n",
       "TSIX       63.295986        9.206864  0.000000   0.000000         True   \n",
       "ADCY5      53.595493        2.221355  0.000000   0.000000         True   \n",
       "MTRNR2L1   52.350365        5.184286  0.000000   0.000000          NaN   \n",
       "PLCG2      50.277988        1.936767  0.000000   0.000000         True   \n",
       "...              ...             ...       ...        ...          ...   \n",
       "NAB2        3.075882        0.616303  0.002106   0.009835        False   \n",
       "CXCR4       3.075694       20.020432  0.002106   0.009835        False   \n",
       "HMOX1       3.074272        1.955118  0.002115   0.009872        False   \n",
       "SPACA3      3.074249       19.996141  0.002116   0.009877        False   \n",
       "NPM2        3.072923       20.000380  0.002125   0.009914        False   \n",
       "\n",
       "         seq_name sex_chromosome  \\\n",
       "names                              \n",
       "XIST            X           True   \n",
       "TSIX            X           True   \n",
       "ADCY5           3          False   \n",
       "MTRNR2L1      NaN            NaN   \n",
       "PLCG2          16          False   \n",
       "...           ...            ...   \n",
       "NAB2           12          False   \n",
       "CXCR4           2          False   \n",
       "HMOX1          22          False   \n",
       "SPACA3         17          False   \n",
       "NPM2            8          False   \n",
       "\n",
       "                                                description  \n",
       "names                                                        \n",
       "XIST      X inactive specific transcript [Source:HGNC Sy...  \n",
       "TSIX      TSIX transcript, XIST antisense RNA [Source:HG...  \n",
       "ADCY5     adenylate cyclase 5 [Source:HGNC Symbol;Acc:HG...  \n",
       "MTRNR2L1                                                NaN  \n",
       "PLCG2     phospholipase C gamma 2 [Source:HGNC Symbol;Ac...  \n",
       "...                                                     ...  \n",
       "NAB2      NGFI-A binding protein 2 [Source:HGNC Symbol;A...  \n",
       "CXCR4     C-X-C motif chemokine receptor 4 [Source:HGNC ...  \n",
       "HMOX1     heme oxygenase 1 [Source:HGNC Symbol;Acc:HGNC:...  \n",
       "SPACA3    sperm acrosome associated 3 [Source:HGNC Symbo...  \n",
       "NPM2      nucleophosmin/nucleoplasmin 2 [Source:HGNC Sym...  \n",
       "\n",
       "[1847 rows x 8 columns]"
      ]
     },
     "execution_count": 45,
     "metadata": {},
     "output_type": "execute_result"
    }
   ],
   "source": [
    "print(\"These genes are HIGH in \"+groups[0]+\" and LOW in \"+groups[1])\n",
    "df=sc.get.rank_genes_groups_df(tmp_adata,group=groups[0],pval_cutoff=0.01,log2fc_min=0)\n",
    "df=df.merge(sex_genes.drop_duplicates('gene_name')[['sex_specific','seq_name','sex_chromosome','description']], left_on='names', right_index=True,how='left')\n",
    "down=df.set_index('names')\n",
    "down"
   ]
  },
  {
   "cell_type": "code",
   "execution_count": null,
   "id": "aef5a34e-a481-4e86-b236-f7161c5f4a51",
   "metadata": {},
   "outputs": [],
   "source": []
  },
  {
   "cell_type": "code",
   "execution_count": null,
   "id": "54a6b098-332a-4670-943b-b3a584c74bf9",
   "metadata": {},
   "outputs": [],
   "source": [
    "T21_down_receptors={\n",
    "    'PLXNA4':[\"SEMA3A\"],\n",
    "}"
   ]
  },
  {
   "cell_type": "code",
   "execution_count": null,
   "id": "33115e70-7923-4bb5-965a-4f181a9f7cec",
   "metadata": {},
   "outputs": [],
   "source": [
    "T21_down_ligands={\n",
    "    'VEGFA':[\"KDR\",\"FLT1\",\"NRP1\",\"NRP2\"],\n",
    "}"
   ]
  },
  {
   "cell_type": "code",
   "execution_count": null,
   "id": "b82c1953-31a2-429f-bb09-36d53caeb818",
   "metadata": {},
   "outputs": [],
   "source": [
    "glycolysis_enzymes_down_in_T21=['PFKFB4','PFKP','GPI']"
   ]
  },
  {
   "cell_type": "markdown",
   "id": "3a9cc667-2bc7-4c27-be03-f31be983bc82",
   "metadata": {},
   "source": [
    "### INCREASED in T21"
   ]
  },
  {
   "cell_type": "code",
   "execution_count": 46,
   "id": "a3edf191-e9ef-45b1-84f8-ab8f3f9ad392",
   "metadata": {},
   "outputs": [
    {
     "name": "stdout",
     "output_type": "stream",
     "text": [
      "These genes are LOW in VentricularCardiomyocytesLeftCompact_Atlas and HIGH in VentricularCardiomyocytesLeftCompact_T21\n"
     ]
    },
    {
     "data": {
      "text/html": [
       "<div>\n",
       "<style scoped>\n",
       "    .dataframe tbody tr th:only-of-type {\n",
       "        vertical-align: middle;\n",
       "    }\n",
       "\n",
       "    .dataframe tbody tr th {\n",
       "        vertical-align: top;\n",
       "    }\n",
       "\n",
       "    .dataframe thead th {\n",
       "        text-align: right;\n",
       "    }\n",
       "</style>\n",
       "<table border=\"1\" class=\"dataframe\">\n",
       "  <thead>\n",
       "    <tr style=\"text-align: right;\">\n",
       "      <th></th>\n",
       "      <th>scores</th>\n",
       "      <th>logfoldchanges</th>\n",
       "      <th>pvals</th>\n",
       "      <th>pvals_adj</th>\n",
       "      <th>sex_specific</th>\n",
       "      <th>seq_name</th>\n",
       "      <th>sex_chromosome</th>\n",
       "      <th>description</th>\n",
       "    </tr>\n",
       "    <tr>\n",
       "      <th>names</th>\n",
       "      <th></th>\n",
       "      <th></th>\n",
       "      <th></th>\n",
       "      <th></th>\n",
       "      <th></th>\n",
       "      <th></th>\n",
       "      <th></th>\n",
       "      <th></th>\n",
       "    </tr>\n",
       "  </thead>\n",
       "  <tbody>\n",
       "    <tr>\n",
       "      <th>UTY</th>\n",
       "      <td>71.277763</td>\n",
       "      <td>5.180484</td>\n",
       "      <td>0.000000</td>\n",
       "      <td>0.000000</td>\n",
       "      <td>True</td>\n",
       "      <td>Y</td>\n",
       "      <td>True</td>\n",
       "      <td>ubiquitously transcribed tetratricopeptide rep...</td>\n",
       "    </tr>\n",
       "    <tr>\n",
       "      <th>TTTY14</th>\n",
       "      <td>68.345657</td>\n",
       "      <td>4.998813</td>\n",
       "      <td>0.000000</td>\n",
       "      <td>0.000000</td>\n",
       "      <td>True</td>\n",
       "      <td>Y</td>\n",
       "      <td>True</td>\n",
       "      <td>testis-specific transcript, Y-linked 14 [Sourc...</td>\n",
       "    </tr>\n",
       "    <tr>\n",
       "      <th>USP9Y</th>\n",
       "      <td>57.679634</td>\n",
       "      <td>4.902645</td>\n",
       "      <td>0.000000</td>\n",
       "      <td>0.000000</td>\n",
       "      <td>True</td>\n",
       "      <td>Y</td>\n",
       "      <td>True</td>\n",
       "      <td>ubiquitin specific peptidase 9 Y-linked [Sourc...</td>\n",
       "    </tr>\n",
       "    <tr>\n",
       "      <th>ERBB4</th>\n",
       "      <td>54.355984</td>\n",
       "      <td>1.206761</td>\n",
       "      <td>0.000000</td>\n",
       "      <td>0.000000</td>\n",
       "      <td>True</td>\n",
       "      <td>2</td>\n",
       "      <td>False</td>\n",
       "      <td>erb-b2 receptor tyrosine kinase 4 [Source:HGNC...</td>\n",
       "    </tr>\n",
       "    <tr>\n",
       "      <th>FGF12</th>\n",
       "      <td>54.155704</td>\n",
       "      <td>1.220004</td>\n",
       "      <td>0.000000</td>\n",
       "      <td>0.000000</td>\n",
       "      <td>True</td>\n",
       "      <td>3</td>\n",
       "      <td>False</td>\n",
       "      <td>fibroblast growth factor 12 [Source:HGNC Symbo...</td>\n",
       "    </tr>\n",
       "    <tr>\n",
       "      <th>...</th>\n",
       "      <td>...</td>\n",
       "      <td>...</td>\n",
       "      <td>...</td>\n",
       "      <td>...</td>\n",
       "      <td>...</td>\n",
       "      <td>...</td>\n",
       "      <td>...</td>\n",
       "      <td>...</td>\n",
       "    </tr>\n",
       "    <tr>\n",
       "      <th>KIAA0930</th>\n",
       "      <td>3.073664</td>\n",
       "      <td>1.222603</td>\n",
       "      <td>0.002126</td>\n",
       "      <td>0.009919</td>\n",
       "      <td>False</td>\n",
       "      <td>22</td>\n",
       "      <td>False</td>\n",
       "      <td>KIAA0930 [Source:HGNC Symbol;Acc:HGNC:1314]</td>\n",
       "    </tr>\n",
       "    <tr>\n",
       "      <th>MCAT</th>\n",
       "      <td>3.072494</td>\n",
       "      <td>0.573157</td>\n",
       "      <td>0.002133</td>\n",
       "      <td>0.009946</td>\n",
       "      <td>False</td>\n",
       "      <td>22</td>\n",
       "      <td>False</td>\n",
       "      <td>malonyl-CoA-acyl carrier protein transacylase ...</td>\n",
       "    </tr>\n",
       "    <tr>\n",
       "      <th>SLC35A1</th>\n",
       "      <td>3.072436</td>\n",
       "      <td>0.322994</td>\n",
       "      <td>0.002133</td>\n",
       "      <td>0.009946</td>\n",
       "      <td>False</td>\n",
       "      <td>6</td>\n",
       "      <td>False</td>\n",
       "      <td>solute carrier family 35 member A1 [Source:HGN...</td>\n",
       "    </tr>\n",
       "    <tr>\n",
       "      <th>FAM168B</th>\n",
       "      <td>3.071690</td>\n",
       "      <td>0.187153</td>\n",
       "      <td>0.002138</td>\n",
       "      <td>0.009967</td>\n",
       "      <td>False</td>\n",
       "      <td>2</td>\n",
       "      <td>False</td>\n",
       "      <td>family with sequence similarity 168 member B [...</td>\n",
       "    </tr>\n",
       "    <tr>\n",
       "      <th>KIF20A</th>\n",
       "      <td>3.071455</td>\n",
       "      <td>1.499715</td>\n",
       "      <td>0.002143</td>\n",
       "      <td>0.009990</td>\n",
       "      <td>False</td>\n",
       "      <td>5</td>\n",
       "      <td>False</td>\n",
       "      <td>kinesin family member 20A [Source:HGNC Symbol;...</td>\n",
       "    </tr>\n",
       "  </tbody>\n",
       "</table>\n",
       "<p>6004 rows × 8 columns</p>\n",
       "</div>"
      ],
      "text/plain": [
       "             scores  logfoldchanges     pvals  pvals_adj sex_specific  \\\n",
       "names                                                                   \n",
       "UTY       71.277763        5.180484  0.000000   0.000000         True   \n",
       "TTTY14    68.345657        4.998813  0.000000   0.000000         True   \n",
       "USP9Y     57.679634        4.902645  0.000000   0.000000         True   \n",
       "ERBB4     54.355984        1.206761  0.000000   0.000000         True   \n",
       "FGF12     54.155704        1.220004  0.000000   0.000000         True   \n",
       "...             ...             ...       ...        ...          ...   \n",
       "KIAA0930   3.073664        1.222603  0.002126   0.009919        False   \n",
       "MCAT       3.072494        0.573157  0.002133   0.009946        False   \n",
       "SLC35A1    3.072436        0.322994  0.002133   0.009946        False   \n",
       "FAM168B    3.071690        0.187153  0.002138   0.009967        False   \n",
       "KIF20A     3.071455        1.499715  0.002143   0.009990        False   \n",
       "\n",
       "         seq_name sex_chromosome  \\\n",
       "names                              \n",
       "UTY             Y           True   \n",
       "TTTY14          Y           True   \n",
       "USP9Y           Y           True   \n",
       "ERBB4           2          False   \n",
       "FGF12           3          False   \n",
       "...           ...            ...   \n",
       "KIAA0930       22          False   \n",
       "MCAT           22          False   \n",
       "SLC35A1         6          False   \n",
       "FAM168B         2          False   \n",
       "KIF20A          5          False   \n",
       "\n",
       "                                                description  \n",
       "names                                                        \n",
       "UTY       ubiquitously transcribed tetratricopeptide rep...  \n",
       "TTTY14    testis-specific transcript, Y-linked 14 [Sourc...  \n",
       "USP9Y     ubiquitin specific peptidase 9 Y-linked [Sourc...  \n",
       "ERBB4     erb-b2 receptor tyrosine kinase 4 [Source:HGNC...  \n",
       "FGF12     fibroblast growth factor 12 [Source:HGNC Symbo...  \n",
       "...                                                     ...  \n",
       "KIAA0930        KIAA0930 [Source:HGNC Symbol;Acc:HGNC:1314]  \n",
       "MCAT      malonyl-CoA-acyl carrier protein transacylase ...  \n",
       "SLC35A1   solute carrier family 35 member A1 [Source:HGN...  \n",
       "FAM168B   family with sequence similarity 168 member B [...  \n",
       "KIF20A    kinesin family member 20A [Source:HGNC Symbol;...  \n",
       "\n",
       "[6004 rows x 8 columns]"
      ]
     },
     "execution_count": 46,
     "metadata": {},
     "output_type": "execute_result"
    }
   ],
   "source": [
    "print(\"These genes are LOW in \"+groups[0]+\" and HIGH in \"+groups[1])\n",
    "df=sc.get.rank_genes_groups_df(tmp_adata,group=groups[1],pval_cutoff=0.01,log2fc_min=0)\n",
    "df=df.merge(sex_genes.drop_duplicates('gene_name')[['sex_specific','seq_name','sex_chromosome','description']], left_on='names', right_index=True,how='left')\n",
    "up=df.set_index('names')\n",
    "up=up.sort_values('scores', ascending=False)\n",
    "up"
   ]
  },
  {
   "cell_type": "code",
   "execution_count": null,
   "id": "4b1378bd-7cd9-4aab-b244-d1664b9caef9",
   "metadata": {},
   "outputs": [],
   "source": [
    "T21_up_receptors={\n",
    "    'ERBB4':[\"BTC\",\"HBEGF\",\"NRG2\",\"NRG3\",\"NRG4\"],\n",
    "    \"ADGRL3\":[\"FLRT2\",\"FLRT3\"],\n",
    "    \"ROBO1\":['SLIT1',\"SLIT2\",\"SLIT3\"],\n",
    "    \"NCAM1\":[\"NCAM1\"],\n",
    "    \"LGR4\":[\"RSPO1\",\"RSPO2\",\"RSPO3\",\"RSPO4\"]\n",
    "    \n",
    "}"
   ]
  },
  {
   "cell_type": "code",
   "execution_count": null,
   "id": "5c305738-83e7-461a-b575-1838876b043a",
   "metadata": {},
   "outputs": [],
   "source": [
    "T21_up_ligands={\n",
    "    'FGF12':[\"BTC\",\"HBEGF\",\"NRG2\",\"NRG3\",\"NRG4\"],\n",
    "    \"EFNA5\":[\"EPHA1\",\"EPHA2\",\"EPHB2\",\"EPHA3\",\"EPHB4\",\"EPHA5\",\"EPHA7\",\"EPHA8\"],\n",
    "    \"SEMA5A\":['PLXNB3', 'PLXNB1'],\n",
    "    \"BMP5\":[\"BMPR2\",'BMPR1A', 'BMPR1B', 'ACVR1', 'ACVR1B', 'ACVR1C']\n",
    "    \n",
    "}"
   ]
  },
  {
   "cell_type": "markdown",
   "id": "51514c26-090e-404f-9ab8-129fe5682af1",
   "metadata": {},
   "source": [
    "## Save for CPDB"
   ]
  },
  {
   "cell_type": "code",
   "execution_count": 43,
   "id": "c1b795b1-8ae5-475f-bbe7-a4c1255ab313",
   "metadata": {},
   "outputs": [
    {
     "data": {
      "text/plain": [
       "'VentricularCardiomyocytesLeftCompact'"
      ]
     },
     "execution_count": 43,
     "metadata": {},
     "output_type": "execute_result"
    }
   ],
   "source": []
  },
  {
   "cell_type": "code",
   "execution_count": 48,
   "id": "a6026d38-91d2-4661-a0b2-79b6f063852c",
   "metadata": {},
   "outputs": [
    {
     "data": {
      "text/html": [
       "<div>\n",
       "<style scoped>\n",
       "    .dataframe tbody tr th:only-of-type {\n",
       "        vertical-align: middle;\n",
       "    }\n",
       "\n",
       "    .dataframe tbody tr th {\n",
       "        vertical-align: top;\n",
       "    }\n",
       "\n",
       "    .dataframe thead th {\n",
       "        text-align: right;\n",
       "    }\n",
       "</style>\n",
       "<table border=\"1\" class=\"dataframe\">\n",
       "  <thead>\n",
       "    <tr style=\"text-align: right;\">\n",
       "      <th></th>\n",
       "      <th>cluster</th>\n",
       "      <th>names</th>\n",
       "    </tr>\n",
       "  </thead>\n",
       "  <tbody>\n",
       "    <tr>\n",
       "      <th>0</th>\n",
       "      <td>VentricularCardiomyocytesLeftCompact</td>\n",
       "      <td>ADCY5</td>\n",
       "    </tr>\n",
       "    <tr>\n",
       "      <th>1</th>\n",
       "      <td>VentricularCardiomyocytesLeftCompact</td>\n",
       "      <td>PLCG2</td>\n",
       "    </tr>\n",
       "    <tr>\n",
       "      <th>2</th>\n",
       "      <td>VentricularCardiomyocytesLeftCompact</td>\n",
       "      <td>GRK5</td>\n",
       "    </tr>\n",
       "    <tr>\n",
       "      <th>3</th>\n",
       "      <td>VentricularCardiomyocytesLeftCompact</td>\n",
       "      <td>SORBS1</td>\n",
       "    </tr>\n",
       "    <tr>\n",
       "      <th>4</th>\n",
       "      <td>VentricularCardiomyocytesLeftCompact</td>\n",
       "      <td>VEGFA</td>\n",
       "    </tr>\n",
       "    <tr>\n",
       "      <th>...</th>\n",
       "      <td>...</td>\n",
       "      <td>...</td>\n",
       "    </tr>\n",
       "    <tr>\n",
       "      <th>1547</th>\n",
       "      <td>VentricularCardiomyocytesLeftCompact</td>\n",
       "      <td>NAB2</td>\n",
       "    </tr>\n",
       "    <tr>\n",
       "      <th>1548</th>\n",
       "      <td>VentricularCardiomyocytesLeftCompact</td>\n",
       "      <td>CXCR4</td>\n",
       "    </tr>\n",
       "    <tr>\n",
       "      <th>1549</th>\n",
       "      <td>VentricularCardiomyocytesLeftCompact</td>\n",
       "      <td>HMOX1</td>\n",
       "    </tr>\n",
       "    <tr>\n",
       "      <th>1550</th>\n",
       "      <td>VentricularCardiomyocytesLeftCompact</td>\n",
       "      <td>SPACA3</td>\n",
       "    </tr>\n",
       "    <tr>\n",
       "      <th>1551</th>\n",
       "      <td>VentricularCardiomyocytesLeftCompact</td>\n",
       "      <td>NPM2</td>\n",
       "    </tr>\n",
       "  </tbody>\n",
       "</table>\n",
       "<p>1552 rows × 2 columns</p>\n",
       "</div>"
      ],
      "text/plain": [
       "                                   cluster   names\n",
       "0     VentricularCardiomyocytesLeftCompact   ADCY5\n",
       "1     VentricularCardiomyocytesLeftCompact   PLCG2\n",
       "2     VentricularCardiomyocytesLeftCompact    GRK5\n",
       "3     VentricularCardiomyocytesLeftCompact  SORBS1\n",
       "4     VentricularCardiomyocytesLeftCompact   VEGFA\n",
       "...                                    ...     ...\n",
       "1547  VentricularCardiomyocytesLeftCompact    NAB2\n",
       "1548  VentricularCardiomyocytesLeftCompact   CXCR4\n",
       "1549  VentricularCardiomyocytesLeftCompact   HMOX1\n",
       "1550  VentricularCardiomyocytesLeftCompact  SPACA3\n",
       "1551  VentricularCardiomyocytesLeftCompact    NPM2\n",
       "\n",
       "[1552 rows x 2 columns]"
      ]
     },
     "execution_count": 48,
     "metadata": {},
     "output_type": "execute_result"
    }
   ],
   "source": [
    "# save for CPDB\n",
    "T21_up = up.dropna()\n",
    "T21_up = T21_up[T21_up.sex_chromosome==False]\n",
    "T21_up['cluster']=groups[0].split(\"_\")[0]\n",
    "\n",
    "Atlas_up = down.dropna()\n",
    "Atlas_up = Atlas_up[Atlas_up.sex_chromosome==False]\n",
    "Atlas_up['cluster']=groups[0].split(\"_\")[0]\n",
    "Atlas_up = Atlas_up.reset_index()\n",
    "Atlas_up[['cluster','names']].to_csv(path_or_buf=f\"/lustre/scratch126/cellgen/team205/jc48/jupyter/cpdb/data\",index=False)"
   ]
  },
  {
   "cell_type": "code",
   "execution_count": null,
   "id": "8f4acebb-46bf-4216-9694-a6e8c630a1b8",
   "metadata": {},
   "outputs": [],
   "source": []
  }
 ],
 "metadata": {
  "kernelspec": {
   "display_name": "scanpy_env",
   "language": "python",
   "name": "scanpy_env"
  },
  "language_info": {
   "codemirror_mode": {
    "name": "ipython",
    "version": 3
   },
   "file_extension": ".py",
   "mimetype": "text/x-python",
   "name": "python",
   "nbconvert_exporter": "python",
   "pygments_lexer": "ipython3",
   "version": "3.9.16"
  }
 },
 "nbformat": 4,
 "nbformat_minor": 5
}
