{
 "cells": [
  {
   "cell_type": "code",
   "execution_count": 8,
   "id": "cooked-casting",
   "metadata": {},
   "outputs": [],
   "source": [
    "import scanpy as sc\n",
    "import pandas as pd\n",
    "import numpy as np\n",
    "import anndata\n",
    "import scipy\n",
    "import matplotlib.pyplot as plt\n",
    "import matplotlib as mpl\n",
    "# enables correct plotting of text\n",
    "mpl.rcParams['pdf.fonttype'] = 42\n",
    "mpl.rcParams['ps.fonttype'] = 42 \n",
    "\n",
    "import seaborn as sns\n",
    "\n",
    "import warnings\n",
    "warnings.simplefilter(\"ignore\", UserWarning)"
   ]
  },
  {
   "cell_type": "code",
   "execution_count": 9,
   "id": "0704f158-6d0b-4f5f-905f-1ae6440cb87b",
   "metadata": {},
   "outputs": [
    {
     "name": "stdout",
     "output_type": "stream",
     "text": [
      "/software/cellgen/team205/kk18/envs/generic_env/lib/R\n"
     ]
    }
   ],
   "source": [
    "# Configure rpy2 to Use the Correct R Installation:\n",
    "import os\n",
    "os.environ['R_HOME'] = '/software/cellgen/team205/kk18/envs/generic_env/lib/R'\n",
    "# check\n",
    "from rpy2.rinterface_lib import openrlib\n",
    "print(openrlib.R_HOME)"
   ]
  },
  {
   "cell_type": "code",
   "execution_count": 10,
   "id": "49cd2f21-9c6f-4b01-aea8-44862e5acd21",
   "metadata": {
    "tags": []
   },
   "outputs": [],
   "source": [
    "import milopy.core as milo\n",
    "import milopy.plot as milopl\n",
    "import milopy.utils"
   ]
  },
  {
   "cell_type": "code",
   "execution_count": 11,
   "id": "available-wallpaper",
   "metadata": {},
   "outputs": [],
   "source": [
    "sc.settings.set_figure_params(dpi=80)"
   ]
  },
  {
   "cell_type": "code",
   "execution_count": 12,
   "id": "3ff4d291-0195-41c7-a5f5-1aa19907d40c",
   "metadata": {},
   "outputs": [],
   "source": [
    "import importlib.util\n",
    "import sys\n",
    "spec = importlib.util.spec_from_file_location(\"module.name\", \"/nfs/team205/kk18/function/python/utils.py\")\n",
    "utils = importlib.util.module_from_spec(spec)\n",
    "sys.modules[\"module.name\"] = utils\n",
    "spec.loader.exec_module(utils)"
   ]
  },
  {
   "cell_type": "code",
   "execution_count": 13,
   "id": "047a01b1-d02c-4f40-8deb-b9e13bc12230",
   "metadata": {
    "tags": []
   },
   "outputs": [],
   "source": [
    "figdir = '/nfs/team205/heart/fetal_ms_figures/raw_plots_kk/Aug2024'\n",
    "table_dir = '/nfs/team205/heart/fetal_ms_figures/tables/Aug2024'"
   ]
  },
  {
   "cell_type": "markdown",
   "id": "4f166bb6-43c8-49bd-aec4-5a00952e6ce4",
   "metadata": {},
   "source": [
    "# Read in adata"
   ]
  },
  {
   "cell_type": "code",
   "execution_count": 7,
   "id": "dd49b96d-13ed-4154-8488-6acc36825569",
   "metadata": {
    "tags": []
   },
   "outputs": [
    {
     "data": {
      "text/plain": [
       "AnnData object with n_obs × n_vars = 14846 × 36601\n",
       "    obs: 'latent_RT_efficiency', 'latent_cell_probability', 'latent_scale', 'sangerID', 'combinedID', 'donor', 'region', 'age', 'facility', 'cell_or_nuclei', 'modality', 'kit_10x', 'scrublet_score', 'doublet_pval', 'doublet_bh_pval', 'n_genes', 'n_counts', 'n_genes_by_counts', 'log1p_n_genes_by_counts', 'total_counts', 'log1p_total_counts', 'total_counts_mt', 'log1p_total_counts_mt', 'pct_counts_mt', 'total_counts_ribo', 'log1p_total_counts_ribo', 'pct_counts_ribo', 'HB_score', 'donor_by_library-prep', 'multiplexed', 'SOC | status', 'SOC | log_prob_singleton', 'SOC | log_prob_doublet', 'batch_key', '_scvi_batch', 'FACSgate', 'fine_grain', 'mid_grain', 'coarse_grain', 'sex', 'week', 'trimester', 'heart_or_greatvessels', 'cycling', 'S_score', 'G2M_score', 'phase', '_scvi_labels', 'stress_score', 'hb1_score', 'euploid_or_t21', 'donor_type', 'region_finest', 'flushed', 'scrublet_leiden', 'cluster_scrublet_score', 'leiden_scVI_0.1', 'leiden_scVI_0.2', 'leiden_scVI_0.3', 'leiden_scVI_0.5', 'leiden_scVI_0.7', 'leiden_scVI_1', 'celltypist_coarse', 'conf_score_coarse', 'cells_to_remove', 'celltypist_fine', 'conf_score_fine', 'coarse_grain_merged', 'fine_grain_merged', 'nhood_ixs_random', 'nhood_ixs_refined', 'nhood_kth_distance'\n",
       "    var: 'gene_id', 'gene_name_scRNA-0-0', 'feature_type-1', 'mt-1', 'ribo-1', 'n_cells_by_counts-1', 'mean_counts-1', 'log1p_mean_counts-1', 'pct_dropout_by_counts-1', 'total_counts-1', 'log1p_total_counts-1', 'gene_name_GenomicFeatures', 'gene_biotype_GenomicFeatures', 'gene_seq_start_GenomicFeatures', 'gene_seq_end_GenomicFeatures', 'seq_name_GenomicFeatures', 'seq_strand_GenomicFeatures', 'seq_coord_system_GenomicFeatures', 'description_GenomicFeatures', 'gene_id_version_GenomicFeatures', 'canonical_transcript_GenomicFeatures', 'gene_name'\n",
       "    uns: 'coarse_grain_merged_colors', 'correcting-donor-region_n-layers-2', 'donor_colors', 'euploid_or_t21_colors', 'fine_grain_merged_colors', 'mid_grain_colors', 'nhood_adata', 'nhood_neighbors_key', 'region_colors', 'scVI_latent_correcting-donor-region_n-layers-2-forMilo', 'umap'\n",
       "    obsm: 'X_umap_correcting-donor-region_n-layers-2', 'latent_gene_encoding', 'nhoods', 'nhoods_reassigned', 'scVI_latent_correcting-donor-region_n-layers-2'\n",
       "    obsp: 'correcting-donor-region_n-layers-2_connectivities', 'correcting-donor-region_n-layers-2_distances', 'scVI_latent_correcting-donor-region_n-layers-2-forMilo_connectivities', 'scVI_latent_correcting-donor-region_n-layers-2-forMilo_distances'"
      ]
     },
     "execution_count": 7,
     "metadata": {},
     "output_type": "execute_result"
    }
   ],
   "source": [
    "# atlas\n",
    "adata = sc.read_h5ad('/nfs/team205/heart/anndata_objects/Foetal/trisomy21/Euploid_T21Hearts_Aug2024_sel_subsampled-per-cellstate-donor_cells-in-sig-nhoods-sfdr0p1.h5ad')\n",
    "adata"
   ]
  },
  {
   "cell_type": "markdown",
   "id": "df27cd20-b673-4762-9993-a2c5d347f291",
   "metadata": {},
   "source": [
    "# Annotate nhoods"
   ]
  },
  {
   "cell_type": "code",
   "execution_count": 14,
   "id": "958018eb-d9bb-4d02-8680-e349bf1b37f4",
   "metadata": {
    "tags": []
   },
   "outputs": [],
   "source": [
    "milopy.utils.annotate_nhoods(adata, anno_col='fine_grain_merged')"
   ]
  },
  {
   "cell_type": "code",
   "execution_count": 15,
   "id": "2e488bc2-bacc-4b36-ad8a-93d855b7e83c",
   "metadata": {
    "tags": []
   },
   "outputs": [
    {
     "data": {
      "text/plain": [
       "Text(0.5, 0, 'celltype fraction')"
      ]
     },
     "execution_count": 15,
     "metadata": {},
     "output_type": "execute_result"
    },
    {
     "data": {
      "image/png": "[encoded data removed]",
      "text/plain": [
       "<Figure size 320x320 with 1 Axes>"
      ]
     },
     "metadata": {
      "image/png": {
       "height": 300,
       "width": 294
      }
     },
     "output_type": "display_data"
    }
   ],
   "source": [
    "plt.hist(adata.uns['nhood_adata'].obs[\"nhood_annotation_frac\"],bins=100);\n",
    "plt.xlabel(\"celltype fraction\")"
   ]
  },
  {
   "cell_type": "code",
   "execution_count": 16,
   "id": "7dbcce6f-3bde-4567-88b2-ff9afac5f403",
   "metadata": {
    "tags": []
   },
   "outputs": [],
   "source": [
    "# We can see that for the majority of neighbourhoods, almost all cells have the same neighbourhood. We can rename neighbourhoods where less than 60% of the cells have the top label as \"Mixed\"\n",
    "adata.uns['nhood_adata'].obs[\"nhood_annotation\"] = adata.uns['nhood_adata'].obs[\"nhood_annotation\"].astype('str')\n",
    "adata.uns['nhood_adata'].obs.loc[adata.uns['nhood_adata'].obs[\"nhood_annotation_frac\"] < 0.6, \"nhood_annotation\"] = \"Mixed\""
   ]
  },
  {
   "cell_type": "markdown",
   "id": "9d035056-6f4b-4233-b64f-91122553ca21",
   "metadata": {},
   "source": [
    "# Pseudobulk: nhood-by-gene adata"
   ]
  },
  {
   "cell_type": "markdown",
   "id": "2e3b214f-4eb5-4d73-bec0-51ddbca59dc2",
   "metadata": {
    "tags": []
   },
   "source": [
    "* With reassigned nhoods"
   ]
  },
  {
   "cell_type": "code",
   "execution_count": 19,
   "id": "e4d45fa0-247c-4ed6-a3b1-9253563b01c1",
   "metadata": {
    "tags": []
   },
   "outputs": [
    {
     "data": {
      "text/plain": [
       "deg_group\n",
       "trisomy21    339\n",
       "euploid      238\n",
       "Name: count, dtype: int64"
      ]
     },
     "execution_count": 19,
     "metadata": {},
     "output_type": "execute_result"
    }
   ],
   "source": [
    "adata.uns['nhood_adata'].obs['deg_group'].value_counts()"
   ]
  },
  {
   "cell_type": "code",
   "execution_count": 20,
   "id": "09f8df66-646a-4c75-bbae-f3526fdd7f80",
   "metadata": {
    "tags": []
   },
   "outputs": [
    {
     "name": "stdout",
     "output_type": "stream",
     "text": [
      "CPU times: user 18.1 s, sys: 3.45 s, total: 21.6 s\n",
      "Wall time: 22.6 s\n"
     ]
    },
    {
     "data": {
      "text/plain": [
       "AnnData object with n_obs × n_vars = 577 × 36601\n",
       "    obs: 'index_cell', 'logFC', 'PValue', 'FDR', 'SpatialFDR', 'nhood_annotation', 'deg_group'\n",
       "    var: 'gene_id', 'gene_name_scRNA-0-0', 'feature_type-1', 'mt-1', 'ribo-1', 'n_cells_by_counts-1', 'mean_counts-1', 'log1p_mean_counts-1', 'pct_dropout_by_counts-1', 'total_counts-1', 'log1p_total_counts-1', 'gene_name_GenomicFeatures', 'gene_biotype_GenomicFeatures', 'gene_seq_start_GenomicFeatures', 'gene_seq_end_GenomicFeatures', 'seq_name_GenomicFeatures', 'seq_strand_GenomicFeatures', 'seq_coord_system_GenomicFeatures', 'description_GenomicFeatures', 'gene_id_version_GenomicFeatures', 'canonical_transcript_GenomicFeatures', 'gene_name'"
      ]
     },
     "execution_count": 20,
     "metadata": {},
     "output_type": "execute_result"
    }
   ],
   "source": [
    "%%time\n",
    "# first take sum\n",
    "# with raw gene counts\n",
    "# np.dot of gene-by-cell and cell-by-nhood (boolean) will make gene-by-nhood with summed counts\n",
    "X = adata.X.todense().T.copy() # gene-by-cell\n",
    "Y = adata.obsm['nhoods_reassigned'].todense().copy()\n",
    "Z = np.matmul(X,Y) # gene-by-nhood\n",
    "\n",
    "# prepare anndata\n",
    "adata_nhood = anndata.AnnData(\n",
    "    X=np.array(Z).T,\n",
    "    obs=adata.uns['nhood_adata'].obs[['index_cell','logFC','PValue','FDR','SpatialFDR','nhood_annotation','deg_group']].copy(),\n",
    "    var=adata.var.copy()\n",
    ")\n",
    "adata_nhood"
   ]
  },
  {
   "cell_type": "code",
   "execution_count": 21,
   "id": "db5cd8b1-4030-45ea-aded-ac835b01bf81",
   "metadata": {
    "tags": []
   },
   "outputs": [],
   "source": [
    "# save\n",
    "adata_nhood.write('/nfs/team205/heart/anndata_objects/Foetal/trisomy21/Euploid_T21Hearts_Aug2024_sel_subsampled-per-cellstate-donor_cells-in-sig-nhoods-sfdr0p1_pseudobulked-nhood-reassigned-sum_finegrain.h5ad')"
   ]
  },
  {
   "cell_type": "code",
   "execution_count": null,
   "id": "5fada98c-d22f-46a6-a41a-f1104f99964b",
   "metadata": {},
   "outputs": [],
   "source": []
  }
 ],
 "metadata": {
  "kernelspec": {
   "display_name": "generic_env",
   "language": "python",
   "name": "generic_env"
  },
  "language_info": {
   "codemirror_mode": {
    "name": "ipython",
    "version": 3
   },
   "file_extension": ".py",
   "mimetype": "text/x-python",
   "name": "python",
   "nbconvert_exporter": "python",
   "pygments_lexer": "ipython3",
   "version": "3.10.14"
  }
 },
 "nbformat": 4,
 "nbformat_minor": 5
}
