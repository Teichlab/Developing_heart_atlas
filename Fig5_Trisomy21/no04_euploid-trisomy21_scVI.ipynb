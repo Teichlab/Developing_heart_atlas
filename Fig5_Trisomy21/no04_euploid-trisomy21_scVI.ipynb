{
 "cells": [
  {
   "cell_type": "markdown",
   "id": "occupied-cache",
   "metadata": {
    "id": "understood-production"
   },
   "source": [
    "# Import modules"
   ]
  },
  {
   "cell_type": "code",
   "execution_count": 1,
   "id": "f9566bfd-0a14-47e9-ae40-b92b68a06450",
   "metadata": {},
   "outputs": [
    {
     "name": "stdout",
     "output_type": "stream",
     "text": [
      "['/nfs/team205/kk18/notebooks/Foetal/Trisomy21/RNA', '/nfs/team205/kk18/miniconda3/envs/scvi0190_env/lib/python39.zip', '/nfs/team205/kk18/miniconda3/envs/scvi0190_env/lib/python3.9', '/nfs/team205/kk18/miniconda3/envs/scvi0190_env/lib/python3.9/lib-dynload', '', '/nfs/users/nfs_k/kk18/.local/lib/python3.9/site-packages', '/nfs/team205/kk18/miniconda3/envs/scvi0190_env/lib/python3.9/site-packages']\n",
      "['/nfs/team205/kk18/miniconda3/envs/scvi0190_env/lib/python39.zip', '/nfs/team205/kk18/miniconda3/envs/scvi0190_env/lib/python3.9', '/nfs/team205/kk18/miniconda3/envs/scvi0190_env/lib/python3.9/lib-dynload', '/nfs/team205/kk18/miniconda3/envs/scvi0190_env/lib/python3.9/site-packages']\n"
     ]
    }
   ],
   "source": [
    "# this is for the jupyter notebook at JupyterLab\n",
    "# to make sys.path between the terminal and Jupyter same\n",
    "import sys\n",
    "\n",
    "print(sys.path) # especially the path to site-packages are different... so thats why couldn't find correct package...\n",
    "\n",
    "# sys.path from terminal at scvi0190_env\n",
    "# obtained by excuting `python -c \"import sys; print('\\n'.join(sys.path))\"`\n",
    "sys.path = [\n",
    "    \"/nfs/team205/kk18/miniconda3/envs/scvi0190_env/lib/python39.zip\",\n",
    "    \"/nfs/team205/kk18/miniconda3/envs/scvi0190_env/lib/python3.9\",\n",
    "    \"/nfs/team205/kk18/miniconda3/envs/scvi0190_env/lib/python3.9/lib-dynload\",\n",
    "    \"/nfs/team205/kk18/miniconda3/envs/scvi0190_env/lib/python3.9/site-packages\"\n",
    "]\n",
    "\n",
    "print(sys.path)"
   ]
  },
  {
   "cell_type": "code",
   "execution_count": 2,
   "id": "dying-france",
   "metadata": {
    "colab": {
     "base_uri": "https://localhost:8080/"
    },
    "executionInfo": {
     "elapsed": 10098,
     "status": "ok",
     "timestamp": 1637802612374,
     "user": {
      "displayName": "Kazumasa Kanemaru",
      "photoUrl": "https://lh3.googleusercontent.com/a/default-user=s64",
      "userId": "09579449744665019665"
     },
     "user_tz": 0
    },
    "id": "atmospheric-clock",
    "outputId": "843831f0-9d7c-4d24-e19d-1c7d2cadb3d0"
   },
   "outputs": [
    {
     "name": "stderr",
     "output_type": "stream",
     "text": [
      "Global seed set to 0\n",
      "/nfs/team205/kk18/miniconda3/envs/scvi0190_env/lib/python3.9/site-packages/flax/core/frozen_dict.py:169: FutureWarning: jax.tree_util.register_keypaths is deprecated, and will be removed in a future release. Please use `register_pytree_with_keys()` instead.\n",
      "  jax.tree_util.register_keypaths(\n",
      "/nfs/team205/kk18/miniconda3/envs/scvi0190_env/lib/python3.9/site-packages/pytorch_lightning/utilities/warnings.py:53: LightningDeprecationWarning: pytorch_lightning.utilities.warnings.rank_zero_deprecation has been deprecated in v1.6 and will be removed in v1.8. Use the equivalent function from the pytorch_lightning.utilities.rank_zero module instead.\n",
      "  new_rank_zero_deprecation(\n",
      "/nfs/team205/kk18/miniconda3/envs/scvi0190_env/lib/python3.9/site-packages/pytorch_lightning/utilities/warnings.py:58: LightningDeprecationWarning: The `pytorch_lightning.loggers.base.rank_zero_experiment` is deprecated in v1.7 and will be removed in v1.9. Please use `pytorch_lightning.loggers.logger.rank_zero_experiment` instead.\n",
      "  return new_rank_zero_deprecation(*args, **kwargs)\n"
     ]
    }
   ],
   "source": [
    "# import warnings\n",
    "# warnings.simplefilter(\"ignore\", UserWarning)\n",
    "\n",
    "import anndata\n",
    "import matplotlib.pyplot as plt\n",
    "import seaborn as sns\n",
    "\n",
    "import numpy as np\n",
    "import numpy.random as random\n",
    "import pandas as pd\n",
    "import scanpy as sc\n",
    "\n",
    "import scvi"
   ]
  },
  {
   "cell_type": "code",
   "execution_count": 3,
   "id": "suitable-mystery",
   "metadata": {},
   "outputs": [],
   "source": [
    "import gc\n",
    "import torch"
   ]
  },
  {
   "cell_type": "code",
   "execution_count": 4,
   "id": "black-dallas",
   "metadata": {
    "colab": {
     "base_uri": "https://localhost:8080/",
     "height": 34
    },
    "executionInfo": {
     "elapsed": 356,
     "status": "ok",
     "timestamp": 1637802613400,
     "user": {
      "displayName": "Kazumasa Kanemaru",
      "photoUrl": "https://lh3.googleusercontent.com/a/default-user=s64",
      "userId": "09579449744665019665"
     },
     "user_tz": 0
    },
    "id": "8a_w_clsdofk",
    "outputId": "c38bc4e7-cc88-459a-d350-9b7229d1b3b4"
   },
   "outputs": [
    {
     "data": {
      "text/html": [
       "<details>\n",
       "<summary>Click to view session information</summary>\n",
       "<pre>\n",
       "-----\n",
       "anndata             0.8.0\n",
       "matplotlib          3.7.1\n",
       "numpy               1.23.5\n",
       "pandas              1.5.3\n",
       "scanpy              1.9.3\n",
       "scvi                0.19.0\n",
       "seaborn             0.12.2\n",
       "session_info        1.0.0\n",
       "torch               1.13.1+cu117\n",
       "-----\n",
       "</pre>\n",
       "<details>\n",
       "<summary>Click to view modules imported as dependencies</summary>\n",
       "<pre>\n",
       "PIL                 9.4.0\n",
       "absl                NA\n",
       "asttokens           NA\n",
       "attr                22.2.0\n",
       "backcall            0.2.0\n",
       "certifi             2022.12.07\n",
       "cffi                1.15.1\n",
       "charset_normalizer  3.1.0\n",
       "chex                0.1.6\n",
       "comm                0.1.2\n",
       "contextlib2         NA\n",
       "cycler              0.10.0\n",
       "cython_runtime      NA\n",
       "dateutil            2.8.2\n",
       "debugpy             1.6.6\n",
       "decorator           5.1.1\n",
       "defusedxml          0.7.1\n",
       "deprecate           0.3.2\n",
       "docrep              0.3.2\n",
       "etils               1.1.0\n",
       "executing           1.2.0\n",
       "flax                0.6.7\n",
       "fsspec              2023.3.0\n",
       "google              NA\n",
       "h5py                3.8.0\n",
       "idna                3.4\n",
       "igraph              0.10.4\n",
       "importlib_metadata  NA\n",
       "importlib_resources NA\n",
       "ipykernel           6.21.3\n",
       "ipython_genutils    0.2.0\n",
       "ipywidgets          8.0.4\n",
       "jax                 0.4.10\n",
       "jaxlib              0.4.10\n",
       "jedi                0.18.2\n",
       "joblib              1.2.0\n",
       "kiwisolver          1.4.4\n",
       "leidenalg           0.9.1\n",
       "llvmlite            0.39.1\n",
       "ml_collections      NA\n",
       "ml_dtypes           0.2.0\n",
       "mpl_toolkits        NA\n",
       "msgpack             1.0.5\n",
       "mudata              0.2.1\n",
       "multipledispatch    0.6.0\n",
       "natsort             8.3.1\n",
       "numba               0.56.4\n",
       "numpyro             0.11.0\n",
       "nvidia              NA\n",
       "opt_einsum          v3.3.0\n",
       "optax               0.1.4\n",
       "packaging           23.0\n",
       "parso               0.8.3\n",
       "pexpect             4.8.0\n",
       "pickleshare         0.7.5\n",
       "pkg_resources       NA\n",
       "platformdirs        3.1.1\n",
       "prompt_toolkit      3.0.38\n",
       "psutil              5.9.4\n",
       "ptyprocess          0.7.0\n",
       "pure_eval           0.2.2\n",
       "pydev_ipython       NA\n",
       "pydevconsole        NA\n",
       "pydevd              2.9.5\n",
       "pydevd_file_utils   NA\n",
       "pydevd_plugins      NA\n",
       "pydevd_tracing      NA\n",
       "pygments            2.14.0\n",
       "pyparsing           3.0.9\n",
       "pyro                1.8.4\n",
       "pytorch_lightning   1.7.7\n",
       "pytz                2022.7.1\n",
       "requests            2.28.2\n",
       "rich                NA\n",
       "scipy               1.10.1\n",
       "setuptools          65.6.3\n",
       "six                 1.16.0\n",
       "sklearn             1.2.2\n",
       "stack_data          0.6.2\n",
       "statsmodels         0.13.5\n",
       "tensorboard         2.12.0\n",
       "texttable           1.6.7\n",
       "threadpoolctl       3.1.0\n",
       "toolz               0.12.0\n",
       "torchmetrics        0.11.4\n",
       "torchvision         0.14.1+cu117\n",
       "tornado             6.2\n",
       "tqdm                4.65.0\n",
       "traitlets           5.9.0\n",
       "tree                0.1.8\n",
       "typing_extensions   NA\n",
       "urllib3             1.26.15\n",
       "wcwidth             0.2.6\n",
       "yaml                6.0\n",
       "zipp                NA\n",
       "zmq                 25.0.1\n",
       "zoneinfo            NA\n",
       "</pre>\n",
       "</details> <!-- seems like this ends pre, so might as well be explicit -->\n",
       "<pre>\n",
       "-----\n",
       "IPython             8.11.0\n",
       "jupyter_client      8.0.3\n",
       "jupyter_core        5.2.0\n",
       "notebook            6.5.3\n",
       "-----\n",
       "Python 3.9.16 (main, Mar  8 2023, 14:00:05) [GCC 11.2.0]\n",
       "Linux-5.15.0-117-generic-x86_64-with-glibc2.35\n",
       "-----\n",
       "Session information updated at 2024-08-15 15:09\n",
       "</pre>\n",
       "</details>"
      ],
      "text/plain": [
       "<IPython.core.display.HTML object>"
      ]
     },
     "execution_count": 4,
     "metadata": {},
     "output_type": "execute_result"
    }
   ],
   "source": [
    "import session_info\n",
    "session_info.show()"
   ]
  },
  {
   "cell_type": "code",
   "execution_count": 5,
   "id": "remarkable-eight",
   "metadata": {
    "executionInfo": {
     "elapsed": 8,
     "status": "ok",
     "timestamp": 1637802613401,
     "user": {
      "displayName": "Kazumasa Kanemaru",
      "photoUrl": "https://lh3.googleusercontent.com/a/default-user=s64",
      "userId": "09579449744665019665"
     },
     "user_tz": 0
    },
    "id": "metric-marine"
   },
   "outputs": [],
   "source": [
    "sc.settings.verbosity = 3             # verbosity: errors (0), warnings (1), info (2), hints (3)\n",
    "sc.settings.set_figure_params(dpi=80, facecolor='white', color_map = 'RdPu',)"
   ]
  },
  {
   "cell_type": "code",
   "execution_count": 6,
   "id": "fewer-federation",
   "metadata": {},
   "outputs": [],
   "source": [
    "# import own function\n",
    "import importlib.util\n",
    "import sys\n",
    "spec = importlib.util.spec_from_file_location(\"module.name\", \"/nfs/team205/kk18/function/python/utils.py\")\n",
    "utils = importlib.util.module_from_spec(spec)\n",
    "sys.modules[\"module.name\"] = utils\n",
    "spec.loader.exec_module(utils)"
   ]
  },
  {
   "cell_type": "code",
   "execution_count": 7,
   "id": "3ca26130-b1e5-4ed3-b41d-d8399b5980b2",
   "metadata": {},
   "outputs": [
    {
     "data": {
      "text/plain": [
       "'/nfs/team205/kk18/notebooks/Foetal/Trisomy21/RNA'"
      ]
     },
     "execution_count": 7,
     "metadata": {},
     "output_type": "execute_result"
    }
   ],
   "source": [
    "import os\n",
    "os.getcwd()"
   ]
  },
  {
   "cell_type": "markdown",
   "id": "under-raleigh",
   "metadata": {
    "id": "swedish-allocation"
   },
   "source": [
    "# Read in anndata"
   ]
  },
  {
   "cell_type": "code",
   "execution_count": 8,
   "id": "valuable-legislation",
   "metadata": {
    "executionInfo": {
     "elapsed": 243555,
     "status": "ok",
     "timestamp": 1637803107261,
     "user": {
      "displayName": "Kazumasa Kanemaru",
      "photoUrl": "https://lh3.googleusercontent.com/a/default-user=s64",
      "userId": "09579449744665019665"
     },
     "user_tz": 0
    },
    "id": "direct-adrian"
   },
   "outputs": [
    {
     "data": {
      "text/plain": [
       "AnnData object with n_obs × n_vars = 83477 × 36601\n",
       "    obs: 'latent_RT_efficiency', 'latent_cell_probability', 'latent_scale', 'sangerID', 'combinedID', 'donor', 'region', 'age', 'facility', 'cell_or_nuclei', 'modality', 'kit_10x', 'scrublet_score', 'doublet_pval', 'doublet_bh_pval', 'n_genes', 'n_counts', 'n_genes_by_counts', 'log1p_n_genes_by_counts', 'total_counts', 'log1p_total_counts', 'total_counts_mt', 'log1p_total_counts_mt', 'pct_counts_mt', 'total_counts_ribo', 'log1p_total_counts_ribo', 'pct_counts_ribo', 'HB_score', 'donor_by_library-prep', 'multiplexed', 'SOC | status', 'SOC | log_prob_singleton', 'SOC | log_prob_doublet', 'batch_key', '_scvi_batch', 'FACSgate', 'fine_grain', 'mid_grain', 'coarse_grain', 'sex', 'week', 'trimester', 'heart_or_greatvessels', 'cycling', 'S_score', 'G2M_score', 'phase', '_scvi_labels', 'stress_score', 'hb1_score', 'euploid_or_t21', 'donor_type', 'region_finest', 'flushed', 'scrublet_leiden', 'cluster_scrublet_score', 'leiden_scVI_0.1', 'leiden_scVI_0.2', 'leiden_scVI_0.3', 'leiden_scVI_0.5', 'leiden_scVI_0.7', 'leiden_scVI_1', 'celltypist_coarse', 'conf_score_coarse', 'cells_to_remove', 'celltypist_fine', 'conf_score_fine', 'coarse_grain_merged', 'fine_grain_merged'\n",
       "    var: 'gene_id', 'gene_name_scRNA-0-0', 'feature_type-1', 'ambient_expression-0-1', 'ambient_expression-1-1', 'ambient_expression-10-1', 'ambient_expression-11-1', 'ambient_expression-12-1', 'ambient_expression-13-1', 'ambient_expression-14-1', 'ambient_expression-2-1', 'ambient_expression-3-1', 'ambient_expression-4-1', 'ambient_expression-5-1', 'ambient_expression-6-1', 'ambient_expression-7-1', 'ambient_expression-8-1', 'ambient_expression-9-1', 'mt-1', 'ribo-1', 'n_cells_by_counts-1', 'mean_counts-1', 'log1p_mean_counts-1', 'pct_dropout_by_counts-1', 'total_counts-1', 'log1p_total_counts-1'\n",
       "    obsm: 'X_scVI', 'X_umap', 'latent_gene_encoding'"
      ]
     },
     "execution_count": 8,
     "metadata": {},
     "output_type": "execute_result"
    }
   ],
   "source": [
    "adata = sc.read_h5ad('/nfs/team205/heart/anndata_objects/Foetal/trisomy21/Euploid_T21Hearts_Aug2024_sel_subsampled-per-cellstate-donor.h5ad')\n",
    "adata"
   ]
  },
  {
   "cell_type": "markdown",
   "id": "408de7f2-ce94-43c1-889c-1ce415bab1a6",
   "metadata": {},
   "source": [
    "# Run scVI, categorical covariates to correct: donor+region"
   ]
  },
  {
   "cell_type": "code",
   "execution_count": 15,
   "id": "formal-freeware",
   "metadata": {
    "colab": {
     "base_uri": "https://localhost:8080/"
    },
    "id": "aquatic-holocaust",
    "outputId": "7d690836-4b38-417b-c698-b50a6b01816f"
   },
   "outputs": [
    {
     "name": "stderr",
     "output_type": "stream",
     "text": [
      "No GPU/TPU found, falling back to CPU. (Set TF_CPP_MIN_LOG_LEVEL=0 and rerun for more info.)\n"
     ]
    }
   ],
   "source": [
    "# Setup anndata for scVI\n",
    "bdata = adata.copy()\n",
    "scvi.model.SCVI.setup_anndata(bdata, \n",
    "                              # layer=\"counts\", \n",
    "                              batch_key=\"donor\", # we want to correct for this \n",
    "                              categorical_covariate_keys=['region'],  # we want to correct for this\n",
    "                              continuous_covariate_keys=['total_counts','pct_counts_mt','pct_counts_ribo']) \n",
    "\n",
    "# with three n_layer conditions\n",
    "n_layer_list = [1,2,3]\n",
    "\n",
    "for n_layers in n_layer_list:\n",
    "    print(f'##### {n_layers} #####')\n",
    "    # setup\n",
    "    vae = scvi.model.SCVI(bdata, n_hidden = 128, n_latent = 50, n_layers = n_layers, dispersion = 'gene-batch')\n",
    "    vae.view_anndata_setup(bdata)\n",
    "    # train\n",
    "    vae.train(max_epochs=400)\n",
    "    # save trained model\n",
    "    vae.save(f\"/nfs/team205/heart/anndata_objects/Foetal/scVI/models/Euploid_T21Hearts_Aug2024_sel_subsampled-per-cellstate-donor_correcting-donor-region_n-layers-{str(n_layers)}/\",\n",
    "             overwrite=True)\n",
    "    # save latent space\n",
    "    latent = sc.AnnData(vae.get_latent_representation(),\n",
    "                    obs=bdata.obs.copy())\n",
    "    # drop all the obs columns, for simplicity\n",
    "    latent.obs = latent.obs.drop(columns=latent.obs.columns, axis=1)\n",
    "    latent.write(f'/nfs/team205/heart/anndata_objects/Foetal/scVI/latent_variables/Euploid_T21Hearts_Aug2024_sel_subsampled-per-cellstate-donor_correcting-donor-region_n-layers-{str(n_layers)}.h5ad')\n",
    "    # Convergency plot\n",
    "    vae.history['elbo_train']\n",
    "    x = np.linspace(1, (len(vae.history['elbo_train'])), (len(vae.history['elbo_train'])))\n",
    "    plt.plot(x, vae.history['elbo_train'], label=\"train\")\n",
    "    plt.xlabel('epoch')\n",
    "    plt.ylabel('elbo_train')\n",
    "    plt.show()\n",
    "    \n",
    "    del vae\n",
    "    # free up GPU\n",
    "    gc.collect()\n",
    "    torch.cuda.empty_cache()\n",
    "    print('')"
   ]
  },
  {
   "cell_type": "code",
   "execution_count": null,
   "id": "13ae5e3b-f055-4bfb-88e2-eb4ad3c890f2",
   "metadata": {},
   "outputs": [],
   "source": []
  },
  {
   "cell_type": "markdown",
   "id": "czech-cycling",
   "metadata": {
    "id": "tough-success"
   },
   "source": [
    "# Run scVI, categorical covariates to correct: only region"
   ]
  },
  {
   "cell_type": "code",
   "execution_count": null,
   "id": "b680a246-cdbc-41a9-ab99-9dd94897dfeb",
   "metadata": {},
   "outputs": [],
   "source": [
    "# Setup anndata for scVI\n",
    "bdata = adata.copy()\n",
    "scvi.model.SCVI.setup_anndata(bdata, \n",
    "                              # layer=\"counts\", \n",
    "                              batch_key=\"region\", # we want to correct for this \n",
    "                              continuous_covariate_keys=['total_counts','pct_counts_mt','pct_counts_ribo'])\n",
    "\n",
    "# with three n_layer conditions\n",
    "n_layer_list = [1,2,3]\n",
    "\n",
    "for n_layers in n_layer_list:\n",
    "    print(f'##### {n_layers} #####')\n",
    "    # setup\n",
    "    vae = scvi.model.SCVI(bdata, n_hidden = 128, n_latent = 50, n_layers = n_layers, dispersion = 'gene-batch')\n",
    "    vae.view_anndata_setup(bdata)\n",
    "    # train\n",
    "    vae.train(max_epochs=400)\n",
    "    # save trained model\n",
    "    vae.save(f\"/nfs/team205/heart/anndata_objects/Foetal/scVI/models/Euploid_T21Hearts_Aug2024_sel_subsampled-per-cellstate-donor_correcting-region_n-layers-{str(n_layers)}/\",\n",
    "             overwrite=True)\n",
    "    # save latent space\n",
    "    latent = sc.AnnData(vae.get_latent_representation(),\n",
    "                    obs=bdata.obs.copy())\n",
    "    # drop all the obs columns, for simplicity\n",
    "    latent.obs = latent.obs.drop(columns=latent.obs.columns, axis=1)\n",
    "    latent.write(f'/nfs/team205/heart/anndata_objects/Foetal/scVI/latent_variables/Euploid_T21Hearts_Aug2024_sel_subsampled-per-cellstate-donor_correcting-region_n-layers-{str(n_layers)}.h5ad')\n",
    "    # Convergency plot\n",
    "    vae.history['elbo_train']\n",
    "    x = np.linspace(1, (len(vae.history['elbo_train'])), (len(vae.history['elbo_train'])))\n",
    "    plt.plot(x, vae.history['elbo_train'], label=\"train\")\n",
    "    plt.xlabel('epoch')\n",
    "    plt.ylabel('elbo_train')\n",
    "    plt.show()\n",
    "    \n",
    "    del vae\n",
    "    # free up GPU\n",
    "    gc.collect()\n",
    "    torch.cuda.empty_cache()\n",
    "    print('')"
   ]
  },
  {
   "cell_type": "markdown",
   "id": "3e1f7069-d512-4169-8dc3-41a5789a0bb9",
   "metadata": {},
   "source": [
    "# Run scVI, categorical covariates to correct: only donor"
   ]
  },
  {
   "cell_type": "code",
   "execution_count": null,
   "id": "c31d33e5-cff0-4cca-9622-25697c3d85fd",
   "metadata": {},
   "outputs": [],
   "source": [
    "# Setup anndata for scVI\n",
    "bdata = adata.copy()\n",
    "scvi.model.SCVI.setup_anndata(bdata, \n",
    "                              # layer=\"counts\", \n",
    "                              batch_key=\"donor\", # we want to correct for this \n",
    "                              continuous_covariate_keys=['total_counts','pct_counts_mt','pct_counts_ribo'])\n",
    "\n",
    "# with three n_layer conditions\n",
    "n_layer_list = [1,2,3]\n",
    "\n",
    "for n_layers in n_layer_list:\n",
    "    print(f'##### {n_layers} #####')\n",
    "    # setup\n",
    "    vae = scvi.model.SCVI(bdata, n_hidden = 128, n_latent = 50, n_layers = n_layers, dispersion = 'gene-batch')\n",
    "    vae.view_anndata_setup(bdata)\n",
    "    # train\n",
    "    vae.train(max_epochs=400)\n",
    "    # save trained model\n",
    "    vae.save(f\"/nfs/team205/heart/anndata_objects/Foetal/scVI/models/Euploid_T21Hearts_Aug2024_sel_subsampled-per-cellstate-donor_correcting-donor_n-layers-{str(n_layers)}/\",\n",
    "             overwrite=True)\n",
    "    # save latent space\n",
    "    latent = sc.AnnData(vae.get_latent_representation(),\n",
    "                    obs=bdata.obs.copy())\n",
    "    # drop all the obs columns, for simplicity\n",
    "    latent.obs = latent.obs.drop(columns=latent.obs.columns, axis=1)\n",
    "    latent.write(f'/nfs/team205/heart/anndata_objects/Foetal/scVI/latent_variables/Euploid_T21Hearts_Aug2024_sel_subsampled-per-cellstate-donor_correcting-donor_n-layers-{str(n_layers)}.h5ad')\n",
    "    # Convergency plot\n",
    "    vae.history['elbo_train']\n",
    "    x = np.linspace(1, (len(vae.history['elbo_train'])), (len(vae.history['elbo_train'])))\n",
    "    plt.plot(x, vae.history['elbo_train'], label=\"train\")\n",
    "    plt.xlabel('epoch')\n",
    "    plt.ylabel('elbo_train')\n",
    "    plt.show()\n",
    "    \n",
    "    del vae\n",
    "    # free up GPU\n",
    "    gc.collect()\n",
    "    torch.cuda.empty_cache()\n",
    "    print('')"
   ]
  }
 ],
 "metadata": {
  "accelerator": "GPU",
  "colab": {
   "collapsed_sections": [],
   "name": "P38_global_scVI.ipynb",
   "provenance": []
  },
  "kernelspec": {
   "display_name": "scvi0190_env",
   "language": "python",
   "name": "scvi0190_env"
  },
  "language_info": {
   "codemirror_mode": {
    "name": "ipython",
    "version": 3
   },
   "file_extension": ".py",
   "mimetype": "text/x-python",
   "name": "python",
   "nbconvert_exporter": "python",
   "pygments_lexer": "ipython3",
   "version": "3.10.15"
  }
 },
 "nbformat": 4,
 "nbformat_minor": 5
}
