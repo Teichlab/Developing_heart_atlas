{
 "cells": [
  {
   "cell_type": "code",
   "execution_count": 1,
   "id": "cooked-casting",
   "metadata": {},
   "outputs": [],
   "source": [
    "import scanpy as sc\n",
    "import pandas as pd\n",
    "import numpy as np\n",
    "import anndata\n",
    "import scipy\n",
    "import matplotlib.pyplot as plt\n",
    "import seaborn as sns\n",
    "import matplotlib as mpl\n",
    "# enables correct plotting of text\n",
    "mpl.rcParams['pdf.fonttype'] = 42\n",
    "mpl.rcParams['ps.fonttype'] = 42\n",
    "\n",
    "import warnings\n",
    "warnings.simplefilter(\"ignore\", UserWarning)\n",
    "warnings.simplefilter(action='ignore', category=pd.errors.PerformanceWarning)"
   ]
  },
  {
   "cell_type": "code",
   "execution_count": 2,
   "id": "available-wallpaper",
   "metadata": {},
   "outputs": [],
   "source": [
    "sc.settings.set_figure_params(dpi=80)"
   ]
  },
  {
   "cell_type": "code",
   "execution_count": 3,
   "id": "3ff4d291-0195-41c7-a5f5-1aa19907d40c",
   "metadata": {},
   "outputs": [],
   "source": [
    "import importlib.util\n",
    "import sys\n",
    "spec = importlib.util.spec_from_file_location(\"module.name\", \"/nfs/team205/kk18/function/python/utils.py\")\n",
    "utils = importlib.util.module_from_spec(spec)\n",
    "sys.modules[\"module.name\"] = utils\n",
    "spec.loader.exec_module(utils)"
   ]
  },
  {
   "cell_type": "code",
   "execution_count": 4,
   "id": "56b69894-15e9-45bb-a0a5-75af994245cf",
   "metadata": {
    "tags": []
   },
   "outputs": [],
   "source": [
    "figdir = '/nfs/team205/heart/fetal_ms_figures/raw_plots_kk/Aug2024'\n",
    "table_dir = '/nfs/team205/heart/fetal_ms_figures/tables/Aug2024'"
   ]
  },
  {
   "cell_type": "markdown",
   "id": "4f166bb6-43c8-49bd-aec4-5a00952e6ce4",
   "metadata": {},
   "source": [
    "# Read in adata"
   ]
  },
  {
   "cell_type": "code",
   "execution_count": 5,
   "id": "21038da6-ac44-47b8-a710-75aeb7166f43",
   "metadata": {},
   "outputs": [
    {
     "data": {
      "text/plain": [
       "AnnData object with n_obs × n_vars = 83477 × 36601\n",
       "    obs: 'latent_RT_efficiency', 'latent_cell_probability', 'latent_scale', 'sangerID', 'combinedID', 'donor', 'region', 'age', 'facility', 'cell_or_nuclei', 'modality', 'kit_10x', 'scrublet_score', 'doublet_pval', 'doublet_bh_pval', 'n_genes', 'n_counts', 'n_genes_by_counts', 'log1p_n_genes_by_counts', 'total_counts', 'log1p_total_counts', 'total_counts_mt', 'log1p_total_counts_mt', 'pct_counts_mt', 'total_counts_ribo', 'log1p_total_counts_ribo', 'pct_counts_ribo', 'HB_score', 'donor_by_library-prep', 'multiplexed', 'SOC | status', 'SOC | log_prob_singleton', 'SOC | log_prob_doublet', 'batch_key', '_scvi_batch', 'FACSgate', 'fine_grain', 'mid_grain', 'coarse_grain', 'sex', 'week', 'trimester', 'heart_or_greatvessels', 'cycling', 'S_score', 'G2M_score', 'phase', '_scvi_labels', 'stress_score', 'hb1_score', 'euploid_or_t21', 'donor_type', 'region_finest', 'flushed', 'scrublet_leiden', 'cluster_scrublet_score', 'leiden_scVI_0.1', 'leiden_scVI_0.2', 'leiden_scVI_0.3', 'leiden_scVI_0.5', 'leiden_scVI_0.7', 'leiden_scVI_1', 'celltypist_coarse', 'conf_score_coarse', 'cells_to_remove', 'celltypist_fine', 'conf_score_fine', 'coarse_grain_merged', 'fine_grain_merged', 'nhood_ixs_random', 'nhood_ixs_refined', 'nhood_kth_distance'\n",
       "    var: 'gene_id', 'gene_name_scRNA-0-0', 'feature_type-1', 'mt-1', 'ribo-1', 'n_cells_by_counts-1', 'mean_counts-1', 'log1p_mean_counts-1', 'pct_dropout_by_counts-1', 'total_counts-1', 'log1p_total_counts-1', 'gene_name_GenomicFeatures', 'gene_biotype_GenomicFeatures', 'gene_seq_start_GenomicFeatures', 'gene_seq_end_GenomicFeatures', 'seq_name_GenomicFeatures', 'seq_strand_GenomicFeatures', 'seq_coord_system_GenomicFeatures', 'description_GenomicFeatures', 'gene_id_version_GenomicFeatures', 'canonical_transcript_GenomicFeatures', 'gene_name'\n",
       "    uns: 'coarse_grain_merged_colors', 'correcting-donor-region_n-layers-2', 'donor_colors', 'euploid_or_t21_colors', 'fine_grain_merged_colors', 'mid_grain_colors', 'nhood_adata', 'nhood_neighbors_key', 'region_colors', 'scVI_latent_correcting-donor-region_n-layers-2-forMilo', 'umap'\n",
       "    obsm: 'X_umap_correcting-donor-region_n-layers-2', 'latent_gene_encoding', 'nhoods', 'nhoods_reassigned', 'scVI_latent_correcting-donor-region_n-layers-2'\n",
       "    obsp: 'correcting-donor-region_n-layers-2_connectivities', 'correcting-donor-region_n-layers-2_distances', 'scVI_latent_correcting-donor-region_n-layers-2-forMilo_connectivities', 'scVI_latent_correcting-donor-region_n-layers-2-forMilo_distances'"
      ]
     },
     "execution_count": 5,
     "metadata": {},
     "output_type": "execute_result"
    }
   ],
   "source": [
    "# read in post-Milo single-cell adata\n",
    "adata = sc.read_h5ad('/nfs/team205/heart/anndata_objects/Foetal/trisomy21/Euploid_T21Hearts_Aug2024_sel_subsampled-per-cellstate-donor.h5ad')\n",
    "adata"
   ]
  },
  {
   "cell_type": "code",
   "execution_count": null,
   "id": "54f15fd6-fcf2-4ba3-b2fe-2c0cb33ff837",
   "metadata": {},
   "outputs": [],
   "source": []
  },
  {
   "cell_type": "markdown",
   "id": "3d75e57e-d2ad-44dc-ac96-1c3e71d251f5",
   "metadata": {},
   "source": [
    "# Identify significant nhoods"
   ]
  },
  {
   "cell_type": "code",
   "execution_count": 9,
   "id": "ab8ff6fa-d815-4d43-be23-afdbb3b6a79b",
   "metadata": {},
   "outputs": [
    {
     "name": "stdout",
     "output_type": "stream",
     "text": [
      "FC-negative nhoods: 238\n",
      "['nhood58', 'nhood157', 'nhood161', 'nhood178', 'nhood185']\n",
      "FC-positive nhoods: 339\n",
      "['nhood2', 'nhood20', 'nhood36', 'nhood53', 'nhood105']\n"
     ]
    },
    {
     "data": {
      "text/plain": [
       "deg_group\n",
       "nan          6116\n",
       "trisomy21     339\n",
       "euploid       238\n",
       "Name: count, dtype: int64"
      ]
     },
     "execution_count": 9,
     "metadata": {},
     "output_type": "execute_result"
    }
   ],
   "source": [
    "# get significant nhoods\n",
    "DA_fdr_thresh = 0.1\n",
    "fcneg_label = 'euploid'\n",
    "fcpos_label = 'trisomy21'\n",
    "\n",
    "##############################\n",
    "nhood_adata = adata.uns['nhood_adata'].copy()\n",
    "mask_sig = nhood_adata.obs['SpatialFDR'] < DA_fdr_thresh\n",
    "mask_fcneg = nhood_adata.obs['logFC'] < 0\n",
    "mask_fcpos = nhood_adata.obs['logFC'] > 0\n",
    "nhoods_fcneg = list(nhood_adata.obs_names[mask_sig&mask_fcneg])\n",
    "print(f'FC-negative nhoods: {len(nhoods_fcneg)}')\n",
    "print(nhoods_fcneg[:5])\n",
    "nhoods_fcpos = list(nhood_adata.obs_names[mask_sig&mask_fcpos])\n",
    "print(f'FC-positive nhoods: {len(nhoods_fcpos)}')\n",
    "print(nhoods_fcpos[:5])\n",
    "\n",
    "# add to nhood_adata\n",
    "adata.uns['nhood_adata'].obs['deg_group'] = 'nan'\n",
    "adata.uns['nhood_adata'].obs.loc[nhoods_fcneg,'deg_group'] = fcneg_label\n",
    "adata.uns['nhood_adata'].obs.loc[nhoods_fcpos,'deg_group'] = fcpos_label\n",
    "adata.uns['nhood_adata'].obs['deg_group'].value_counts()"
   ]
  },
  {
   "cell_type": "markdown",
   "id": "b60b49f5-da30-4b0f-b3a7-41db344aaef9",
   "metadata": {},
   "source": [
    "# Subset cells and nhoods"
   ]
  },
  {
   "cell_type": "markdown",
   "id": "b2e13303-3547-4f3e-bfe1-a6efbce318e0",
   "metadata": {},
   "source": [
    "* Significant nhoods (both FCpos and FCneg nhoods)\n",
    "* Cells which belong to the significant nhoods"
   ]
  },
  {
   "cell_type": "code",
   "execution_count": 13,
   "id": "c2df369c-32e0-4345-b4fe-8726f7aa54b7",
   "metadata": {
    "tags": []
   },
   "outputs": [],
   "source": [
    "# gent nhood index\n",
    "mhoods_sel = nhoods_fcneg + nhoods_fcpos\n",
    "nhood_index = [int(x.replace('nhood','')) for x in mhoods_sel]\n",
    "nhood_index.sort()"
   ]
  },
  {
   "cell_type": "code",
   "execution_count": 29,
   "id": "e2f50350-cb7c-4bea-9ddf-a50bcfdee52c",
   "metadata": {
    "tags": []
   },
   "outputs": [
    {
     "name": "stdout",
     "output_type": "stream",
     "text": [
      "14846\n"
     ]
    }
   ],
   "source": [
    "# get cell obsnames\n",
    "# which belongs to the significant nhoods obtained above\n",
    "mask = adata.obsm['nhoods'][:,nhood_index].toarray().sum(axis=1)>0 # get cells which has at least one neighbourhod to belong\n",
    "cell_obsnames = adata.obs_names[mask]\n",
    "print(len(cell_obsnames))"
   ]
  },
  {
   "cell_type": "code",
   "execution_count": 30,
   "id": "a6ebc0eb-e197-4c83-8195-a0eafa6c53c9",
   "metadata": {
    "tags": []
   },
   "outputs": [
    {
     "name": "stdout",
     "output_type": "stream",
     "text": [
      "(14846, 577)\n",
      "(577, 24)\n"
     ]
    }
   ],
   "source": [
    "# subset\n",
    "## cell\n",
    "adata_sub = adata[cell_obsnames]\n",
    "## nhoods, in the two different data storage\n",
    "adata_sub.obsm['nhoods'] = adata_sub.obsm['nhoods'][:,nhood_index]\n",
    "print(adata_sub.obsm['nhoods'].shape)\n",
    "adata_sub.uns['nhood_adata'] = adata_sub.uns['nhood_adata'][nhood_index]\n",
    "print(adata_sub.uns['nhood_adata'].shape)"
   ]
  },
  {
   "cell_type": "markdown",
   "id": "2c1746b5-5b52-4ea7-8953-51de3f7715dd",
   "metadata": {},
   "source": [
    "# Assess cells which belong to multipe nhoods"
   ]
  },
  {
   "cell_type": "code",
   "execution_count": 31,
   "id": "8c535b53-e42e-4ceb-89c7-a5c98cfeb977",
   "metadata": {
    "tags": []
   },
   "outputs": [
    {
     "name": "stdout",
     "output_type": "stream",
     "text": [
      "number of cells: 14846\n",
      "fraction of repetitive cells: 0.3483766671157214\n"
     ]
    }
   ],
   "source": [
    "mask = adata_sub.obsm['nhoods'].toarray().sum(axis=1)>1 # get cells which has at least two neighbourhod to belong\n",
    "cells_rep = adata_sub.obs_names[mask]\n",
    "print(f'number of cells: {adata_sub.shape[0]}')\n",
    "print(f'fraction of repetitive cells: {len(cells_rep)/adata_sub.shape[0]}')"
   ]
  },
  {
   "cell_type": "code",
   "execution_count": 32,
   "id": "492a321e-13de-4db4-a6ad-185fa9579eb5",
   "metadata": {
    "tags": []
   },
   "outputs": [
    {
     "data": {
      "text/plain": [
       "5172"
      ]
     },
     "execution_count": 32,
     "metadata": {},
     "output_type": "execute_result"
    }
   ],
   "source": [
    "len(cells_rep)"
   ]
  },
  {
   "cell_type": "code",
   "execution_count": 34,
   "id": "01ed01c1-3171-4e0d-9cda-b1a6a36d80b5",
   "metadata": {
    "tags": []
   },
   "outputs": [
    {
     "name": "stdout",
     "output_type": "stream",
     "text": [
      "(14846, 577)\n"
     ]
    },
    {
     "data": {
      "image/png": "[encoded data removed]",
      "text/plain": [
       "<Figure size 320x320 with 1 Axes>"
      ]
     },
     "metadata": {
      "image/png": {
       "height": 302,
       "width": 323
      }
     },
     "output_type": "display_data"
    }
   ],
   "source": [
    "print(adata_sub.obsm['nhoods'].shape)\n",
    "plt.hist(adata_sub.obsm['nhoods'].toarray().sum(axis=1),bins=10)\n",
    "plt.xlabel('number of nhoods')\n",
    "plt.show()"
   ]
  },
  {
   "cell_type": "code",
   "execution_count": null,
   "id": "cd72066f-7e93-41ca-8b2a-3c63de73365a",
   "metadata": {},
   "outputs": [],
   "source": []
  },
  {
   "cell_type": "markdown",
   "id": "ac5fbd01-276c-4b57-ad5c-5d9e1bada912",
   "metadata": {},
   "source": [
    "# Re-assign cells to a neighbourhood"
   ]
  },
  {
   "cell_type": "markdown",
   "id": "faa34e2a-78eb-4bf1-bfc9-c4bb4f5e7370",
   "metadata": {},
   "source": [
    "* get nhoods which have repetitive cells\n",
    "* for each nhoods, calculate centroid (based on scVI latent space)\n",
    "* for each repetitive cell, calculate distance to the centroids of the nhoods, and select the most closest one\n",
    "* reassigne the repetitive cell only to the closest one"
   ]
  },
  {
   "cell_type": "code",
   "execution_count": 35,
   "id": "c89f2331-e7db-4d4d-afea-74410cadf019",
   "metadata": {
    "tags": []
   },
   "outputs": [
    {
     "name": "stdout",
     "output_type": "stream",
     "text": [
      "559\n"
     ]
    },
    {
     "data": {
      "text/plain": [
       "array([0, 1, 2, 3, 4])"
      ]
     },
     "execution_count": 35,
     "metadata": {},
     "output_type": "execute_result"
    }
   ],
   "source": [
    "# obtain nhoods which contains repetitive cells\n",
    "mask = adata_sub[cells_rep].obsm['nhoods'].toarray().sum(axis=0)>0\n",
    "nhoods_rep = np.nonzero(mask)[0]\n",
    "print(len(nhoods_rep))\n",
    "nhoods_rep[:5]"
   ]
  },
  {
   "cell_type": "markdown",
   "id": "41022ac6-c247-4cbf-af37-4a9a84f4c8d4",
   "metadata": {},
   "source": [
    "--> most of the nhoods contain repetitive cells"
   ]
  },
  {
   "cell_type": "code",
   "execution_count": 36,
   "id": "418adcb8-1369-490f-9b90-d640ab44e2c7",
   "metadata": {
    "tags": []
   },
   "outputs": [
    {
     "name": "stdout",
     "output_type": "stream",
     "text": [
      "(559, 50)\n"
     ]
    },
    {
     "data": {
      "text/html": [
       "<div>\n",
       "<style scoped>\n",
       "    .dataframe tbody tr th:only-of-type {\n",
       "        vertical-align: middle;\n",
       "    }\n",
       "\n",
       "    .dataframe tbody tr th {\n",
       "        vertical-align: top;\n",
       "    }\n",
       "\n",
       "    .dataframe thead th {\n",
       "        text-align: right;\n",
       "    }\n",
       "</style>\n",
       "<table border=\"1\" class=\"dataframe\">\n",
       "  <thead>\n",
       "    <tr style=\"text-align: right;\">\n",
       "      <th></th>\n",
       "      <th>0</th>\n",
       "      <th>1</th>\n",
       "      <th>2</th>\n",
       "      <th>3</th>\n",
       "      <th>4</th>\n",
       "      <th>5</th>\n",
       "      <th>6</th>\n",
       "      <th>7</th>\n",
       "      <th>8</th>\n",
       "      <th>9</th>\n",
       "      <th>...</th>\n",
       "      <th>40</th>\n",
       "      <th>41</th>\n",
       "      <th>42</th>\n",
       "      <th>43</th>\n",
       "      <th>44</th>\n",
       "      <th>45</th>\n",
       "      <th>46</th>\n",
       "      <th>47</th>\n",
       "      <th>48</th>\n",
       "      <th>49</th>\n",
       "    </tr>\n",
       "  </thead>\n",
       "  <tbody>\n",
       "    <tr>\n",
       "      <th>nhood0</th>\n",
       "      <td>0.003166</td>\n",
       "      <td>0.002909</td>\n",
       "      <td>0.000382</td>\n",
       "      <td>-0.001648</td>\n",
       "      <td>1.293855</td>\n",
       "      <td>0.006958</td>\n",
       "      <td>-0.000819</td>\n",
       "      <td>-0.005389</td>\n",
       "      <td>-0.006375</td>\n",
       "      <td>1.023166</td>\n",
       "      <td>...</td>\n",
       "      <td>0.195343</td>\n",
       "      <td>0.001842</td>\n",
       "      <td>1.925441</td>\n",
       "      <td>0.001327</td>\n",
       "      <td>-1.649888</td>\n",
       "      <td>-0.701387</td>\n",
       "      <td>0.000187</td>\n",
       "      <td>0.000751</td>\n",
       "      <td>0.005448</td>\n",
       "      <td>0.193075</td>\n",
       "    </tr>\n",
       "    <tr>\n",
       "      <th>nhood1</th>\n",
       "      <td>0.001474</td>\n",
       "      <td>0.007491</td>\n",
       "      <td>-0.000269</td>\n",
       "      <td>0.000323</td>\n",
       "      <td>0.755266</td>\n",
       "      <td>-0.002333</td>\n",
       "      <td>-0.001233</td>\n",
       "      <td>0.011210</td>\n",
       "      <td>0.003308</td>\n",
       "      <td>0.697665</td>\n",
       "      <td>...</td>\n",
       "      <td>-0.434803</td>\n",
       "      <td>-0.000968</td>\n",
       "      <td>-0.823634</td>\n",
       "      <td>0.000014</td>\n",
       "      <td>1.099725</td>\n",
       "      <td>-0.390525</td>\n",
       "      <td>-0.000757</td>\n",
       "      <td>0.005647</td>\n",
       "      <td>-0.000820</td>\n",
       "      <td>0.215920</td>\n",
       "    </tr>\n",
       "    <tr>\n",
       "      <th>nhood2</th>\n",
       "      <td>0.001564</td>\n",
       "      <td>0.000401</td>\n",
       "      <td>0.002380</td>\n",
       "      <td>-0.001334</td>\n",
       "      <td>0.653889</td>\n",
       "      <td>0.002361</td>\n",
       "      <td>0.003432</td>\n",
       "      <td>-0.001260</td>\n",
       "      <td>-0.005284</td>\n",
       "      <td>0.816435</td>\n",
       "      <td>...</td>\n",
       "      <td>0.011274</td>\n",
       "      <td>-0.000320</td>\n",
       "      <td>-1.687108</td>\n",
       "      <td>0.001296</td>\n",
       "      <td>-1.190462</td>\n",
       "      <td>0.683065</td>\n",
       "      <td>0.004880</td>\n",
       "      <td>0.002644</td>\n",
       "      <td>0.002137</td>\n",
       "      <td>1.064654</td>\n",
       "    </tr>\n",
       "    <tr>\n",
       "      <th>nhood3</th>\n",
       "      <td>0.000624</td>\n",
       "      <td>0.005972</td>\n",
       "      <td>-0.001517</td>\n",
       "      <td>-0.001736</td>\n",
       "      <td>1.038196</td>\n",
       "      <td>-0.003776</td>\n",
       "      <td>-0.004232</td>\n",
       "      <td>0.007270</td>\n",
       "      <td>-0.000215</td>\n",
       "      <td>1.314242</td>\n",
       "      <td>...</td>\n",
       "      <td>-1.436593</td>\n",
       "      <td>-0.002773</td>\n",
       "      <td>-0.515060</td>\n",
       "      <td>-0.001196</td>\n",
       "      <td>0.342509</td>\n",
       "      <td>1.803225</td>\n",
       "      <td>-0.001432</td>\n",
       "      <td>-0.001473</td>\n",
       "      <td>0.001900</td>\n",
       "      <td>0.167200</td>\n",
       "    </tr>\n",
       "    <tr>\n",
       "      <th>nhood4</th>\n",
       "      <td>0.001140</td>\n",
       "      <td>-0.000757</td>\n",
       "      <td>0.002992</td>\n",
       "      <td>0.000544</td>\n",
       "      <td>0.829925</td>\n",
       "      <td>0.004271</td>\n",
       "      <td>0.005252</td>\n",
       "      <td>0.003447</td>\n",
       "      <td>-0.000910</td>\n",
       "      <td>1.284316</td>\n",
       "      <td>...</td>\n",
       "      <td>0.421869</td>\n",
       "      <td>-0.001526</td>\n",
       "      <td>-0.703916</td>\n",
       "      <td>0.000122</td>\n",
       "      <td>-0.168653</td>\n",
       "      <td>0.758486</td>\n",
       "      <td>-0.001360</td>\n",
       "      <td>0.002409</td>\n",
       "      <td>-0.000303</td>\n",
       "      <td>0.565516</td>\n",
       "    </tr>\n",
       "  </tbody>\n",
       "</table>\n",
       "<p>5 rows × 50 columns</p>\n",
       "</div>"
      ],
      "text/plain": [
       "              0         1         2         3         4         5         6   \\\n",
       "nhood0  0.003166  0.002909  0.000382 -0.001648  1.293855  0.006958 -0.000819   \n",
       "nhood1  0.001474  0.007491 -0.000269  0.000323  0.755266 -0.002333 -0.001233   \n",
       "nhood2  0.001564  0.000401  0.002380 -0.001334  0.653889  0.002361  0.003432   \n",
       "nhood3  0.000624  0.005972 -0.001517 -0.001736  1.038196 -0.003776 -0.004232   \n",
       "nhood4  0.001140 -0.000757  0.002992  0.000544  0.829925  0.004271  0.005252   \n",
       "\n",
       "              7         8         9   ...        40        41        42  \\\n",
       "nhood0 -0.005389 -0.006375  1.023166  ...  0.195343  0.001842  1.925441   \n",
       "nhood1  0.011210  0.003308  0.697665  ... -0.434803 -0.000968 -0.823634   \n",
       "nhood2 -0.001260 -0.005284  0.816435  ...  0.011274 -0.000320 -1.687108   \n",
       "nhood3  0.007270 -0.000215  1.314242  ... -1.436593 -0.002773 -0.515060   \n",
       "nhood4  0.003447 -0.000910  1.284316  ...  0.421869 -0.001526 -0.703916   \n",
       "\n",
       "              43        44        45        46        47        48        49  \n",
       "nhood0  0.001327 -1.649888 -0.701387  0.000187  0.000751  0.005448  0.193075  \n",
       "nhood1  0.000014  1.099725 -0.390525 -0.000757  0.005647 -0.000820  0.215920  \n",
       "nhood2  0.001296 -1.190462  0.683065  0.004880  0.002644  0.002137  1.064654  \n",
       "nhood3 -0.001196  0.342509  1.803225 -0.001432 -0.001473  0.001900  0.167200  \n",
       "nhood4  0.000122 -0.168653  0.758486 -0.001360  0.002409 -0.000303  0.565516  \n",
       "\n",
       "[5 rows x 50 columns]"
      ]
     },
     "execution_count": 36,
     "metadata": {},
     "output_type": "execute_result"
    }
   ],
   "source": [
    "# get centroid for each nhood\n",
    "cell_by_nhood = adata_sub.obsm['nhoods'][:,nhoods_rep].copy()\n",
    "n_cell_per_nhood = cell_by_nhood.toarray().sum(axis=0)\n",
    "scVI_latent_rep = 'scVI_latent_correcting-donor-region_n-layers-2'\n",
    "cell_by_scvi = adata_sub.obsm[scVI_latent_rep].copy()\n",
    "nhood_by_scvi_sum = np.array(np.matmul(cell_by_nhood.T.todense(),cell_by_scvi))\n",
    "nhood_by_scvi_mean = (nhood_by_scvi_sum.T/n_cell_per_nhood).T # i.e. centroid\n",
    "nhood_by_scvi_mean = pd.DataFrame(nhood_by_scvi_mean,\n",
    "                                  index=[f'nhood{str(x)}' for x in nhoods_rep])\n",
    "print(nhood_by_scvi_mean.shape)\n",
    "nhood_by_scvi_mean.head()"
   ]
  },
  {
   "cell_type": "code",
   "execution_count": 37,
   "id": "d551e795-f95f-49aa-9c3b-c4ecde9ec00d",
   "metadata": {
    "tags": []
   },
   "outputs": [],
   "source": [
    "# for each repetitive cell, calculate distance to the centroids of the nhoods, and select the most closest one\n",
    "import numpy as np\n",
    "def assign_cells_to_neighborhoods(cell_nhood, cell_latent, nhood_centroids):\n",
    "    \"\"\"\n",
    "    Assigns each cell to the closest neighborhood (nhood) centroid among the neighborhoods \n",
    "    the cell belongs to.\n",
    "    \n",
    "    Parameters:\n",
    "      cell_nhood: 2D binary NumPy array of shape (n_cells, n_nhoods).\n",
    "                  cell_nhood[i, j] is 1 if cell i belongs to nhood j.\n",
    "      cell_latent: 2D NumPy array of shape (n_cells, latent_dim) containing the cell coordinates.\n",
    "      nhood_centroids: 2D NumPy array of shape (n_nhoods, latent_dim) containing the centroids.\n",
    "    \n",
    "    Returns:\n",
    "      A 1D array of length n_cells where each element is the index of the nearest nhood centroid \n",
    "      (among those the cell belongs to) for that cell.\n",
    "      \n",
    "    Explanation\n",
    "    1. Distance Computation: The squared Euclidean distance between each cell (vector in latent space) and each nhood centroid is computed using a vectorized approach. This avoids explicit loops and leverages fast linear algebra routines.\n",
    "    2. Masking: Since each cell only belongs to certain nhoods (as indicated by the cell_nhood binary matrix), we set the distances for non-member nhoods to infinity (np.inf). This ensures that the minimization only considers the valid nhoods.\n",
    "    3. Choosing the Minimum: Finally, we use np.argmin along the nhood axis (axis=1) to find the index of the closest centroid among those the cell belongs to.  \n",
    "    \"\"\"\n",
    "    # Compute squared Euclidean distances between each cell and each nhood centroid.\n",
    "    # Using the identity: ||a-b||^2 = ||a||^2 + ||b||^2 - 2 * a.dot(b)\n",
    "    cell_sq = np.sum(cell_latent**2, axis=1, keepdims=True)   # shape: (n_cells, 1)\n",
    "    nhood_sq = np.sum(nhood_centroids**2, axis=1)  # shape: (n_nhoods,)\n",
    "    distances = cell_sq + nhood_sq - 2 * (cell_latent @ nhood_centroids.T)  # shape: (n_cells, n_nhoods)\n",
    "    \n",
    "    # Mask distances for nhoods that the cell does not belong to.\n",
    "    # For these entries, set the distance to a very high value (np.inf) so they are not chosen.\n",
    "    mask = cell_nhood.astype(bool)\n",
    "    distances[~mask] = np.inf\n",
    "    \n",
    "    # For each cell, find the index of the nhood with the minimal distance.\n",
    "    closest_nhood = np.argmin(distances, axis=1)\n",
    "    \n",
    "    return closest_nhood"
   ]
  },
  {
   "cell_type": "code",
   "execution_count": 38,
   "id": "019c2ccb-e859-444e-aa8a-be9088980c14",
   "metadata": {
    "tags": []
   },
   "outputs": [
    {
     "name": "stdout",
     "output_type": "stream",
     "text": [
      "(5172, 559)\n",
      "(5172, 50)\n",
      "5172\n",
      "CPU times: user 98.8 ms, sys: 2.6 ms, total: 101 ms\n",
      "Wall time: 104 ms\n"
     ]
    },
    {
     "data": {
      "text/plain": [
       "Index(['nhood566', 'nhood398', 'nhood395', 'nhood79', 'nhood6'], dtype='object')"
      ]
     },
     "execution_count": 38,
     "metadata": {},
     "output_type": "execute_result"
    }
   ],
   "source": [
    "%%time\n",
    "cell_by_nhood = adata_sub[cells_rep].obsm['nhoods'][:,nhoods_rep].toarray().copy()\n",
    "print(cell_by_nhood.shape)\n",
    "cell_by_scVI = adata_sub[cells_rep].obsm[scVI_latent_rep].toarray().copy()\n",
    "print(cell_by_scVI.shape)\n",
    "\n",
    "assignments = assign_cells_to_neighborhoods(cell_by_nhood, cell_by_scVI, np.array(nhood_by_scvi_mean))\n",
    "assignments = nhood_by_scvi_mean.index[assignments]\n",
    "print(len(assignments))\n",
    "assignments[:5]"
   ]
  },
  {
   "cell_type": "code",
   "execution_count": 39,
   "id": "a6da7733-c743-42f2-8b6c-075d85bdeeb6",
   "metadata": {
    "tags": []
   },
   "outputs": [
    {
     "data": {
      "text/plain": [
       "<14846x577 sparse matrix of type '<class 'numpy.float32'>'\n",
       "\twith 14846 stored elements in Compressed Sparse Row format>"
      ]
     },
     "execution_count": 39,
     "metadata": {},
     "output_type": "execute_result"
    }
   ],
   "source": [
    "# reassign nhoods\n",
    "cell_index = np.nonzero(adata_sub.obs_names.isin(cells_rep))[0]\n",
    "nhood_reassigned_index = [int(x.replace('nhood','')) for x in assignments]\n",
    "\n",
    "cell_by_nhood = adata_sub.obsm['nhoods'].toarray().copy()\n",
    "cell_by_nhood[cell_index,:] = 0\n",
    "cell_by_nhood[cell_index,nhood_reassigned_index] = 1\n",
    "from scipy.sparse import csr_matrix\n",
    "adata_sub.obsm['nhoods_reassigned'] = csr_matrix(cell_by_nhood)\n",
    "adata_sub.obsm['nhoods_reassigned']"
   ]
  },
  {
   "cell_type": "code",
   "execution_count": 41,
   "id": "e2f83e48-efda-4fa5-b25e-87408db3aa93",
   "metadata": {
    "tags": []
   },
   "outputs": [
    {
     "name": "stdout",
     "output_type": "stream",
     "text": [
      "1.0\n"
     ]
    },
    {
     "data": {
      "image/png": "[encoded data removed]",
      "text/plain": [
       "<Figure size 320x320 with 1 Axes>"
      ]
     },
     "metadata": {
      "image/png": {
       "height": 300,
       "width": 329
      }
     },
     "output_type": "display_data"
    }
   ],
   "source": [
    "# check\n",
    "print(np.max(adata_sub.obsm['nhoods_reassigned'].toarray().sum(axis=1)))\n",
    "plt.hist(adata_sub.obsm['nhoods_reassigned'].toarray().sum(axis=1))\n",
    "plt.xlabel('number of nhoods')\n",
    "plt.show()"
   ]
  },
  {
   "cell_type": "code",
   "execution_count": 42,
   "id": "d17d8b65-36d2-4b0e-9a91-5ccfb2077092",
   "metadata": {
    "tags": []
   },
   "outputs": [
    {
     "data": {
      "image/png": "[encoded data removed]",
      "text/plain": [
       "<Figure size 320x320 with 1 Axes>"
      ]
     },
     "metadata": {
      "image/png": {
       "height": 299,
       "width": 293
      }
     },
     "output_type": "display_data"
    },
    {
     "data": {
      "image/png": "[encoded data removed]",
      "text/plain": [
       "<Figure size 320x320 with 1 Axes>"
      ]
     },
     "metadata": {
      "image/png": {
       "height": 299,
       "width": 293
      }
     },
     "output_type": "display_data"
    }
   ],
   "source": [
    "# n_cells per nhood\n",
    "plt.hist(adata_sub.obsm['nhoods'].toarray().sum(axis=0),bins=100)\n",
    "plt.title('original')\n",
    "plt.show()\n",
    "\n",
    "plt.hist(adata_sub.obsm['nhoods_reassigned'].toarray().sum(axis=0),bins=100)\n",
    "plt.title('reassigned')\n",
    "plt.show()"
   ]
  },
  {
   "cell_type": "markdown",
   "id": "90c9bca9-bd5a-410f-b1f5-0a940fb5a2b6",
   "metadata": {},
   "source": [
    "# Save"
   ]
  },
  {
   "cell_type": "code",
   "execution_count": 43,
   "id": "da84d57f-b40b-45a4-bc7c-c46457123659",
   "metadata": {
    "tags": []
   },
   "outputs": [],
   "source": [
    "# save\n",
    "adata_sub.write('/nfs/team205/heart/anndata_objects/Foetal/trisomy21/Euploid_T21Hearts_Aug2024_sel_subsampled-per-cellstate-donor_cells-in-sig-nhoods-sfdr0p1.h5ad')"
   ]
  },
  {
   "cell_type": "code",
   "execution_count": null,
   "id": "04e18949-f2fc-449c-b061-d7eb849b5174",
   "metadata": {},
   "outputs": [],
   "source": []
  }
 ],
 "metadata": {
  "kernelspec": {
   "display_name": "generic_env",
   "language": "python",
   "name": "generic_env"
  },
  "language_info": {
   "codemirror_mode": {
    "name": "ipython",
    "version": 3
   },
   "file_extension": ".py",
   "mimetype": "text/x-python",
   "name": "python",
   "nbconvert_exporter": "python",
   "pygments_lexer": "ipython3",
   "version": "3.10.14"
  }
 },
 "nbformat": 4,
 "nbformat_minor": 5
}
