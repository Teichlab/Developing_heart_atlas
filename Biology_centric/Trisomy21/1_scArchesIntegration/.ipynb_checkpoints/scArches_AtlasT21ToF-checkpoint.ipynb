{
 "cells": [
  {
   "cell_type": "markdown",
   "id": "comparable-baking",
   "metadata": {},
   "source": [
    "# Set Up"
   ]
  },
  {
   "cell_type": "markdown",
   "id": "transparent-system",
   "metadata": {},
   "source": [
    "## Overview"
   ]
  },
  {
   "cell_type": "markdown",
   "id": "ruled-medline",
   "metadata": {},
   "source": [
    "Plan: integrate normal (atlas) with T21 data and ToF data from Hill2022\n",
    "\n",
    "`cell_type_key` will be a modification of `mid_grain` labels from the atlas.\n",
    "\n",
    "Modified because the `CardiacConductionSystem` cells in the `mid_grain` category are functionally linked, but transcriptionally distinct. For scANVI we want labels to reflect transcriptionally close cells.\n",
    "\n",
    "`batch_key` will be `batch_key` (donor, kit, cell v nuclei, which is present on both objects). This will need to be added to Hill2022\n",
    "\n",
    "T21 and ToF data will be concatenated into a single query dataset. The query dataset needs to have the following columns:\n",
    "- `donor`\n",
    "- `cell_or_nuclei`\n",
    "- `kit_10x`\n",
    "- `batch_key` (the 3 above concatenated)\n",
    "- `diagnosis` (T21 or ToF) - will also add this column to reference (atlas)\n",
    "\n",
    "For both refernce and query datasets:\n",
    "- `\"counts\"` layer containing raw counts\n",
    "- `.X` contains norm-logged data\n",
    "- features will be the HVGs **from the reference atlas** (so features are the same across both datasets)\n",
    "\n",
    "https://docs.scarches.org/en/latest/scanvi_surgery_pipeline.html"
   ]
  },
  {
   "cell_type": "code",
   "execution_count": 1,
   "id": "failing-samba",
   "metadata": {},
   "outputs": [
    {
     "name": "stderr",
     "output_type": "stream",
     "text": [
      "WARNING:root:In order to use the mouse gastrulation seqFISH datsets, please install squidpy (see https://github.com/scverse/squidpy).\n",
      "INFO:lightning_fabric.utilities.seed:Global seed set to 0\n",
      "WARNING:root:In order to use sagenet models, please install pytorch geometric (see https://pytorch-geometric.readthedocs.io) and \n",
      " captum (see https://github.com/pytorch/captum).\n",
      "WARNING:root:mvTCR is not installed. To use mvTCR models, please install it first using \"pip install mvtcr\"\n",
      "WARNING:root:multigrate is not installed. To use multigrate models, please install it first using \"pip install multigrate\".\n"
     ]
    }
   ],
   "source": [
    "import scanpy as sc\n",
    "import torch\n",
    "import scarches as sca\n",
    "from scarches.dataset.trvae.data_handling import remove_sparsity\n",
    "import matplotlib.pyplot as plt\n",
    "import numpy as np\n",
    "import os\n",
    "import gdown\n",
    "import pandas as pd\n",
    "import anndata"
   ]
  },
  {
   "cell_type": "code",
   "execution_count": 2,
   "id": "e0c29b8a-3d7c-4156-8d31-9c47dafdfbb4",
   "metadata": {},
   "outputs": [],
   "source": [
    "# Prints current CPU and GPU RAM usage\n",
    "import psutil\n",
    "import os\n",
    "\n",
    "def print_memory_usage():\n",
    "    process = psutil.Process(os.getpid())\n",
    "    mem_info = process.memory_info()\n",
    "    total_memory = psutil.virtual_memory().total\n",
    "    \n",
    "    relative_memory = (mem_info.rss / total_memory) * 100\n",
    "    \n",
    "    print(f\"Absolute memory usage: {round(mem_info.rss / 1024 ** 2)} MB\")\n",
    "    print(f\"Relative memory usage: {round(relative_memory)}%\")\n",
    "    \n",
    "import GPUtil\n",
    "def print_gpu_usage():\n",
    "    GPUs = GPUtil.getGPUs()\n",
    "    for i, gpu in enumerate(GPUs):\n",
    "        print(f\"GPU {i}: {round(gpu.load*100, 2)}%\")"
   ]
  },
  {
   "cell_type": "code",
   "execution_count": 3,
   "id": "level-principle",
   "metadata": {},
   "outputs": [],
   "source": [
    "sc.settings.set_figure_params(dpi=200, frameon=False)\n",
    "sc.set_figure_params(dpi=200)\n",
    "sc.set_figure_params(figsize=(4, 4))\n",
    "torch.set_printoptions(precision=3, sci_mode=False, edgeitems=7)"
   ]
  },
  {
   "cell_type": "code",
   "execution_count": 4,
   "id": "0197b595-ec89-4cbb-92c6-a25d36964e6c",
   "metadata": {
    "scrolled": true
   },
   "outputs": [
    {
     "name": "stdout",
     "output_type": "stream",
     "text": [
      "Fri Jun 23 07:27:19 2023       \n",
      "+-----------------------------------------------------------------------------+\n",
      "| NVIDIA-SMI 460.91.03    Driver Version: 460.91.03    CUDA Version: 11.2     |\n",
      "|-------------------------------+----------------------+----------------------+\n",
      "| GPU  Name        Persistence-M| Bus-Id        Disp.A | Volatile Uncorr. ECC |\n",
      "| Fan  Temp  Perf  Pwr:Usage/Cap|         Memory-Usage | GPU-Util  Compute M. |\n",
      "|                               |                      |               MIG M. |\n",
      "|===============================+======================+======================|\n",
      "|   0  Tesla V100-SXM2...  Off  | 00000000:62:00.0 Off |                    0 |\n",
      "| N/A   39C    P0    53W / 300W |    972MiB / 32510MiB |      0%      Default |\n",
      "|                               |                      |                  N/A |\n",
      "+-------------------------------+----------------------+----------------------+\n",
      "|   1  Tesla V100-SXM2...  Off  | 00000000:89:00.0 Off |                    0 |\n",
      "| N/A   36C    P0    38W / 300W |      0MiB / 32510MiB |      0%      Default |\n",
      "|                               |                      |                  N/A |\n",
      "+-------------------------------+----------------------+----------------------+\n",
      "                                                                               \n",
      "+-----------------------------------------------------------------------------+\n",
      "| Processes:                                                                  |\n",
      "|  GPU   GI   CI        PID   Type   Process name                  GPU Memory |\n",
      "|        ID   ID                                                   Usage      |\n",
      "|=============================================================================|\n",
      "|    0   N/A  N/A     56384      C   ...s/scarches_env/bin/python      969MiB |\n",
      "+-----------------------------------------------------------------------------+\n"
     ]
    }
   ],
   "source": [
    "%%bash\n",
    "nvidia-smi"
   ]
  },
  {
   "cell_type": "markdown",
   "id": "4c062be1",
   "metadata": {},
   "source": [
    "## Paths & variables"
   ]
  },
  {
   "cell_type": "code",
   "execution_count": 5,
   "id": "little-remark",
   "metadata": {},
   "outputs": [
    {
     "data": {
      "text/plain": [
       "'AtlasT21ToF_WithContCovariates_MidGrainModified_AllCompartments'"
      ]
     },
     "execution_count": 5,
     "metadata": {},
     "output_type": "execute_result"
    }
   ],
   "source": [
    "#set relevant label key\n",
    "compartment='AllCompartments'\n",
    "cell_type_key = 'MidGrainModified'\n",
    "batch_key='batch_key'\n",
    "job_name=f'AtlasT21ToF_WithContCovariates_{cell_type_key}_{compartment}'\n",
    "job_name"
   ]
  },
  {
   "cell_type": "code",
   "execution_count": 6,
   "id": "e065ba26",
   "metadata": {},
   "outputs": [],
   "source": [
    "#paths\n",
    "base_path='/lustre/scratch126/cellgen/team205/jc48/jupyter/scArches'\n",
    "data_dir=os.path.join(base_path,'data')\n",
    "results_dir=os.path.join(base_path,f'results/{job_name}')\n",
    "adata_path=os.path.join(results_dir,'anndata/')\n",
    "models_path=os.path.join(results_dir,'models/')\n",
    "\n",
    "\n",
    "#make directories\n",
    "os.makedirs(data_dir, exist_ok=True)\n",
    "os.makedirs(results_dir, exist_ok=True)\n",
    "os.makedirs(adata_path, exist_ok=True)\n",
    "os.makedirs(models_path, exist_ok=True)"
   ]
  },
  {
   "cell_type": "markdown",
   "id": "bf8e7b4c",
   "metadata": {},
   "source": [
    "# Read in data"
   ]
  },
  {
   "cell_type": "markdown",
   "id": "fc52f4eb",
   "metadata": {},
   "source": [
    "## Reference data"
   ]
  },
  {
   "cell_type": "code",
   "execution_count": 7,
   "id": "8a71275a",
   "metadata": {},
   "outputs": [
    {
     "name": "stdout",
     "output_type": "stream",
     "text": [
      "[ 1.  1.  5.  5.  8.  4. 13.  4.  3.  1.]\n",
      "(297473, 36601)\n"
     ]
    },
    {
     "name": "stderr",
     "output_type": "stream",
     "text": [
      "/tmp/ipykernel_49610/540093497.py:28: ImplicitModificationWarning: Trying to modify attribute `.obs` of view, initializing view as actual.\n",
      "  adata_ref.obs[\"MidGrainModified\"] = adata_ref.obs[\"fine_grain\"].map(rename_dict).fillna(adata_ref.obs[\"mid_grain\"])\n"
     ]
    },
    {
     "name": "stdout",
     "output_type": "stream",
     "text": [
      "data prepared...\n",
      "[0.42 0.34 1.12 0.1  0.34 0.34 0.27 0.1  0.19 1.08]\n",
      "(297473, 3392)\n"
     ]
    }
   ],
   "source": [
    "adata_ref = sc.read_h5ad('/nfs/team205/heart/anndata_objects/Foetal/Feb28ObjectRaw.h5ad')\n",
    "\n",
    "adata_ref.var['mt'] = adata_ref.var_names.str.startswith('MT-')  # annotate the group of mitochondrial genes\n",
    "adata_ref.var['ribo'] = adata_ref.var_names.str.startswith('RPS','RPL')  # annotate the group of ribosomal genes\n",
    "sc.pp.calculate_qc_metrics(adata_ref, qc_vars=['mt','ribo'], percent_top=None, log1p=False, inplace=True)\n",
    "\n",
    "print(adata_ref.X.data[:10])\n",
    "\n",
    "adata_ref.layers[\"counts\"]=adata_ref.X.copy()\n",
    "\n",
    "sc.pp.normalize_total(adata_ref,target_sum=1e4)\n",
    "sc.pp.log1p(adata_ref)\n",
    "\n",
    "sc.pp.highly_variable_genes(adata_ref, batch_key=batch_key)\n",
    "\n",
    "print(adata_ref.shape)\n",
    "adata_ref = adata_ref[:, adata_ref.var.highly_variable]\n",
    "\n",
    "# Modify the mid_grain label since the CCS cells bridge two major clusters\n",
    "rename_dict = {\n",
    "    \"SinoatrialNodeCardiomyocytes\": \"AtrialCardiomyocytes\",\n",
    "    \"AtrioventricularNodeCardiomyocytes\": \"AtrialCardiomyocytes\",\n",
    "    \"VentricularConductionSystemDistal\": \"VentricularCardiomyocytes\",\n",
    "    \"VentricularConductionSystemProximal\": \"VentricularCardiomyocytes\"\n",
    "}\n",
    "\n",
    "# Create the \"MidGrainModified\" column using the mapping logic\n",
    "adata_ref.obs[\"MidGrainModified\"] = adata_ref.obs[\"fine_grain\"].map(rename_dict).fillna(adata_ref.obs[\"mid_grain\"])\n",
    "\n",
    "adata_ref.obs['diagnosis']='atlas'\n",
    "\n",
    "print('data prepared...')\n",
    "print(adata_ref.X.data[:10])\n",
    "print(adata_ref.shape)"
   ]
  },
  {
   "cell_type": "markdown",
   "id": "27349fab",
   "metadata": {},
   "source": [
    "The data is raw counts and has all features.\n",
    "We:\n",
    "- Calculate QC metrics (to be used as covariates), in case the object has been subset since this was last done\n",
    "- store counts in \"counts\" layer.\n",
    "- Norm-Log\n",
    "- Calculate HVGs\n",
    "- Subset to those\n",
    "- Add a custom cell type label"
   ]
  },
  {
   "cell_type": "markdown",
   "id": "e584dea0",
   "metadata": {},
   "source": [
    "## Target data"
   ]
  },
  {
   "cell_type": "markdown",
   "id": "a28915c6-8a3e-46e6-ae60-2cecc2972e96",
   "metadata": {},
   "source": [
    "### T21"
   ]
  },
  {
   "cell_type": "code",
   "execution_count": 8,
   "id": "b666f9a2-e4da-4f70-8a34-10ea49591d2c",
   "metadata": {},
   "outputs": [
    {
     "name": "stdout",
     "output_type": "stream",
     "text": [
      "[ 3.  1.  1.  2. 24.  7.  4.  1.  1. 14.]\n"
     ]
    },
    {
     "data": {
      "text/plain": [
       "AnnData object with n_obs × n_vars = 76358 × 36601\n",
       "    obs: 'latent_RT_efficiency', 'latent_cell_probability', 'latent_scale', 'sangerID', 'combinedID', 'donor', 'region', 'age', 'facility', 'cell_or_nuclei', 'modality', 'kit_10x', 'scrublet_score', 'doublet_pval', 'doublet_bh_pval', 'n_genes', 'n_counts', 'n_genes_by_counts', 'log1p_n_genes_by_counts', 'total_counts', 'log1p_total_counts', 'total_counts_mt', 'log1p_total_counts_mt', 'pct_counts_mt', 'total_counts_ribo', 'log1p_total_counts_ribo', 'pct_counts_ribo', 'HB_score', 'batch_key', 'S_score', 'G2M_score', '_scvi_batch', 'hb1_score', 'leiden', 'coarse_grain', 'FACSgate', 'sex', 'week', 'trimester', 'cycling', 'phase', 'diagnosis'\n",
       "    var: 'feature_type', 'ambient_expression-0', 'ambient_expression-1', 'ambient_expression-2', 'ambient_expression-3', 'ambient_expression-4', 'ambient_expression-5', 'ambient_expression-6', 'ambient_expression-7', 'mt', 'ribo', 'n_cells_by_counts', 'mean_counts', 'log1p_mean_counts', 'pct_dropout_by_counts', 'total_counts', 'log1p_total_counts', 'gene_id'\n",
       "    uns: 'FACSgate_colors', '_scvi_manager_uuid', '_scvi_uuid', 'age_colors', 'cell_or_nuclei_colors', 'coarse_grain_colors', 'cycling_colors', 'donor_colors', 'hvg', 'kit_10x_colors', 'leiden', 'leiden_colors', 'modality_colors', 'neighbors', 'phase_colors', 'region_colors', 'sangerID_colors', 'sex_colors', 'trimester_colors', 'umap', 'week_colors'\n",
       "    obsm: 'X_scVI', 'X_umap', '_scvi_extra_categorical_covs', '_scvi_extra_continuous_covs', 'latent_gene_encoding'\n",
       "    obsp: 'connectivities', 'distances'"
      ]
     },
     "execution_count": 8,
     "metadata": {},
     "output_type": "execute_result"
    }
   ],
   "source": [
    "# T21 data\n",
    "file_path=os.path.join(data_dir,'T21HeartsExtracardiacRemovedRaw.h5ad')\n",
    "T21=sc.read(file_path)\n",
    "\n",
    "# add extra columns\n",
    "T21.obs['diagnosis']='T21'\n",
    "\n",
    "print(T21.X.data[:10])\n",
    "T21"
   ]
  },
  {
   "cell_type": "markdown",
   "id": "a6d6a9aa-d355-4840-8249-e6612067d929",
   "metadata": {},
   "source": [
    "### ToF"
   ]
  },
  {
   "cell_type": "code",
   "execution_count": 9,
   "id": "389c538c-0735-4f36-aa97-528356f5b910",
   "metadata": {},
   "outputs": [
    {
     "name": "stdout",
     "output_type": "stream",
     "text": [
      "(157293, 29266)\n",
      "(15836, 29266)\n"
     ]
    },
    {
     "name": "stderr",
     "output_type": "stream",
     "text": [
      "/tmp/ipykernel_49610/2335465802.py:11: ImplicitModificationWarning: Trying to modify attribute `.obs` of view, initializing view as actual.\n",
      "  ToF.obs['donor']=ToF.obs['patientID']\n"
     ]
    },
    {
     "name": "stdout",
     "output_type": "stream",
     "text": [
      "[1. 1. 1. 1. 1. 1. 1. 1. 1. 1.]\n"
     ]
    },
    {
     "data": {
      "text/plain": [
       "AnnData object with n_obs × n_vars = 15836 × 29266\n",
       "    obs: 'orig_ident', 'nCount_RNA', 'nFeature_RNA', 'labID', 'procedure', 'age', 'gender', 'echoEF', 'vers10X', 'diagnosis', 'ageCont', 'region', 'batch_indices', 'percent_mt', 'ClinicalRank', 'DEid', 'MainCellType', 'Cluster', 'labID2', 'colors', 'Diagnosis', 'patientID', 'cell_id', 'biosample_id', 'donor_id', 'species', 'species__ontology_label', 'disease', 'disease__ontology_label', 'organ', 'organ__ontology_label', 'library_preparation_protocol', 'sex', 'library_preparation_protocol__ontology_label', 'n_genes', 'n_counts', 'n_genes_by_counts', 'total_counts', 'total_counts_mt', 'pct_counts_mt', 'total_counts_ribo', 'pct_counts_ribo', 'donor', 'cell_or_nuclei', 'kit_10x', 'batch_key'\n",
       "    var: 'gene_ids', 'mt', 'ribo', 'n_cells_by_counts', 'mean_counts', 'pct_dropout_by_counts', 'total_counts'"
      ]
     },
     "execution_count": 9,
     "metadata": {},
     "output_type": "execute_result"
    }
   ],
   "source": [
    "# ToF data\n",
    "file_path=os.path.join(data_dir, 'Hill2022_QCapplied.h5ad')\n",
    "ToF = sc.read_h5ad(file_path)\n",
    "\n",
    "# subset to ToF only\n",
    "print(ToF.shape)\n",
    "ToF=ToF[ToF.obs.diagnosis=='TOF']\n",
    "print(ToF.shape)\n",
    "\n",
    "# add extra columns\n",
    "ToF.obs['donor']=ToF.obs['patientID']\n",
    "ToF.obs['cell_or_nuclei']='Nuclei'\n",
    "ToF.obs['kit_10x']='3prime-v3'\n",
    "ToF.obs['batch_key']=ToF.obs['donor'].astype('str')+'_'+ToF.obs['cell_or_nuclei'].astype('str')+'_'+ToF.obs['kit_10x'].astype('str')\n",
    "\n",
    "print(ToF.X.data[:10])\n",
    "ToF"
   ]
  },
  {
   "cell_type": "markdown",
   "id": "4f26319c-0365-402d-bd6a-9b4760751ef2",
   "metadata": {},
   "source": [
    "### Combine ToF and T21"
   ]
  },
  {
   "cell_type": "code",
   "execution_count": 10,
   "id": "74b06439-a5ba-476c-ad44-585bbe079008",
   "metadata": {},
   "outputs": [
    {
     "name": "stdout",
     "output_type": "stream",
     "text": [
      "Number of shared variables between T21 and ToF:  18642\n"
     ]
    }
   ],
   "source": [
    "# Get variable names from both adata objects\n",
    "vars_T21 = set(T21.var_names)\n",
    "vars_ToF = set(ToF.var_names)\n",
    "\n",
    "# Find intersection (shared variables)\n",
    "shared_vars = vars_T21 & vars_ToF\n",
    "\n",
    "# Print the number of shared variables\n",
    "print(\"Number of shared variables between T21 and ToF: \", len(shared_vars))"
   ]
  },
  {
   "cell_type": "code",
   "execution_count": 11,
   "id": "63b470ca-934c-48af-addd-dfaadbf65977",
   "metadata": {},
   "outputs": [
    {
     "data": {
      "text/plain": [
       "{'age',\n",
       " 'batch_key',\n",
       " 'cell_or_nuclei',\n",
       " 'diagnosis',\n",
       " 'donor',\n",
       " 'kit_10x',\n",
       " 'n_counts',\n",
       " 'n_genes',\n",
       " 'n_genes_by_counts',\n",
       " 'pct_counts_mt',\n",
       " 'pct_counts_ribo',\n",
       " 'region',\n",
       " 'sex',\n",
       " 'total_counts',\n",
       " 'total_counts_mt',\n",
       " 'total_counts_ribo'}"
      ]
     },
     "execution_count": 11,
     "metadata": {},
     "output_type": "execute_result"
    }
   ],
   "source": [
    "# Get column names from .obs of both adata objects\n",
    "obs_cols_T21 = set(T21.obs.columns)\n",
    "obs_cols_ToF = set(ToF.obs.columns)\n",
    "\n",
    "# Find intersection (shared columns)\n",
    "shared_obs_cols = obs_cols_T21 & obs_cols_ToF\n",
    "\n",
    "# Print shared columns\n",
    "shared_obs_cols"
   ]
  },
  {
   "cell_type": "code",
   "execution_count": 12,
   "id": "3ee0aa8b-60cc-4f52-9da9-7080a3e28694",
   "metadata": {},
   "outputs": [
    {
     "name": "stdout",
     "output_type": "stream",
     "text": [
      "[ 1. 24.  7.  4.  1. 14.  3.  1.  3.  2.]\n"
     ]
    },
    {
     "data": {
      "text/plain": [
       "AnnData object with n_obs × n_vars = 92194 × 18642\n",
       "    obs: 'age', 'batch_key', 'cell_or_nuclei', 'diagnosis', 'donor', 'kit_10x', 'n_counts', 'n_genes', 'n_genes_by_counts', 'pct_counts_mt', 'pct_counts_ribo', 'region', 'sex', 'total_counts', 'total_counts_mt', 'total_counts_ribo'"
      ]
     },
     "execution_count": 12,
     "metadata": {},
     "output_type": "execute_result"
    }
   ],
   "source": [
    "# Concatenate T21 and ToF objects\n",
    "# Get shared variables/features\n",
    "vars_T21 = set(T21.var_names)\n",
    "vars_ToF = set(ToF.var_names)\n",
    "shared_vars = vars_T21 & vars_ToF\n",
    "\n",
    "# Keep only shared variables/features\n",
    "T21 = T21[:, list(shared_vars)]\n",
    "ToF = ToF[:, list(shared_vars)]\n",
    "\n",
    "# Get shared .obs columns\n",
    "obs_cols_T21 = set(T21.obs.columns)\n",
    "obs_cols_ToF = set(ToF.obs.columns)\n",
    "shared_obs_cols = obs_cols_T21 & obs_cols_ToF\n",
    "\n",
    "# Keep only shared .obs columns\n",
    "T21.obs = T21.obs.loc[:, list(shared_obs_cols)]\n",
    "ToF.obs = ToF.obs.loc[:, list(shared_obs_cols)]\n",
    "\n",
    "# Sort variables/features\n",
    "T21 = T21[:, sorted(list(shared_vars))]\n",
    "ToF = ToF[:, sorted(list(shared_vars))]\n",
    "\n",
    "# Sort .obs columns\n",
    "T21.obs = T21.obs.sort_index(axis=1)\n",
    "ToF.obs = ToF.obs.sort_index(axis=1)\n",
    "\n",
    "# Concatenate the two adata objects\n",
    "adata_que = anndata.concat([T21, ToF])\n",
    "print(adata_que.X.data[:10])\n",
    "adata_que"
   ]
  },
  {
   "cell_type": "code",
   "execution_count": 13,
   "id": "e6fb903b-cd0c-4371-8435-4c57e557e506",
   "metadata": {},
   "outputs": [],
   "source": [
    "# save adata_que with raw counts in .X\n",
    "file_path=os.path.join(adata_path,f'{job_name}_adata_que_T21ToF.h5ad')\n",
    "adata_que.write(file_path)"
   ]
  },
  {
   "cell_type": "markdown",
   "id": "2486c8f2-28b8-4dfb-94ce-707227f6d7b7",
   "metadata": {},
   "source": [
    "### Prepare adata_que for scANVI (subset to features shared with adata_ref HVGs)"
   ]
  },
  {
   "cell_type": "code",
   "execution_count": 14,
   "id": "1cee54e3-7ea8-4df2-906f-d06fe1da76cb",
   "metadata": {},
   "outputs": [
    {
     "name": "stdout",
     "output_type": "stream",
     "text": [
      "Number of features in adata_ref:  3392\n",
      "Number of features in adata_ref also found in adata_que:  2872\n"
     ]
    }
   ],
   "source": [
    "# Get variable names from both adata objects\n",
    "vars_ref = set(adata_ref.var_names)\n",
    "vars_que = set(adata_que.var_names)\n",
    "\n",
    "# Find intersection (shared variables)\n",
    "shared_vars = vars_ref & vars_que\n",
    "\n",
    "# Print the number of shared variables\n",
    "print(\"Number of features in adata_ref: \", len(adata_ref.var_names))\n",
    "print(\"Number of features in adata_ref also found in adata_que: \", len(shared_vars))"
   ]
  },
  {
   "cell_type": "code",
   "execution_count": 15,
   "id": "27ef3bbb",
   "metadata": {},
   "outputs": [
    {
     "name": "stdout",
     "output_type": "stream",
     "text": [
      "[ 1. 24.  7.  4.  1. 14.  3.  1.  3.  2.]\n",
      "data prepared...\n",
      "[0.53 0.34 0.26 0.83 0.4  0.1  0.18 0.26 0.1  0.26]\n",
      "(92194, 2872)\n"
     ]
    }
   ],
   "source": [
    "adata_que.var['mt'] = adata_que.var_names.str.startswith('MT-')  # annotate the group of mitochondrial genes\n",
    "adata_que.var['ribo'] = adata_que.var_names.str.startswith('RPS','RPL')  # annotate the group of ribosomal genes\n",
    "sc.pp.calculate_qc_metrics(adata_que, qc_vars=['mt','ribo'], percent_top=None, log1p=False, inplace=True)\n",
    "\n",
    "print(adata_que.X.data[:10])\n",
    "adata_que.layers[\"counts\"] = adata_que.X.copy()\n",
    "sc.pp.normalize_total(adata_que,target_sum=1e4)\n",
    "sc.pp.log1p(adata_que)\n",
    "adata_que.raw = adata_que\n",
    "\n",
    "# Slice to keep only the features found in the adata_ref HVGs\n",
    "# Convert set to list\n",
    "shared_vars_list = list(shared_vars)\n",
    "# Slice adata_que to only contain shared variables\n",
    "adata_que = adata_que[:, shared_vars_list]\n",
    "\n",
    "print('data prepared...')\n",
    "print(adata_que.X.data[:10])\n",
    "print(adata_que.shape)"
   ]
  },
  {
   "cell_type": "code",
   "execution_count": 16,
   "id": "74a0d35e-3c9b-4c1d-837b-1e46acd1d109",
   "metadata": {},
   "outputs": [
    {
     "data": {
      "text/html": [
       "<div>\n",
       "<style scoped>\n",
       "    .dataframe tbody tr th:only-of-type {\n",
       "        vertical-align: middle;\n",
       "    }\n",
       "\n",
       "    .dataframe tbody tr th {\n",
       "        vertical-align: top;\n",
       "    }\n",
       "\n",
       "    .dataframe thead th {\n",
       "        text-align: right;\n",
       "    }\n",
       "</style>\n",
       "<table border=\"1\" class=\"dataframe\">\n",
       "  <thead>\n",
       "    <tr style=\"text-align: right;\">\n",
       "      <th>diagnosis</th>\n",
       "      <th>T21</th>\n",
       "      <th>TOF</th>\n",
       "    </tr>\n",
       "    <tr>\n",
       "      <th>donor</th>\n",
       "      <th></th>\n",
       "      <th></th>\n",
       "    </tr>\n",
       "  </thead>\n",
       "  <tbody>\n",
       "    <tr>\n",
       "      <th>Hst42</th>\n",
       "      <td>54262</td>\n",
       "      <td>0</td>\n",
       "    </tr>\n",
       "    <tr>\n",
       "      <th>Hst44</th>\n",
       "      <td>22096</td>\n",
       "      <td>0</td>\n",
       "    </tr>\n",
       "    <tr>\n",
       "      <th>P26</th>\n",
       "      <td>0</td>\n",
       "      <td>2428</td>\n",
       "    </tr>\n",
       "    <tr>\n",
       "      <th>P28</th>\n",
       "      <td>0</td>\n",
       "      <td>6195</td>\n",
       "    </tr>\n",
       "    <tr>\n",
       "      <th>P33</th>\n",
       "      <td>0</td>\n",
       "      <td>7213</td>\n",
       "    </tr>\n",
       "  </tbody>\n",
       "</table>\n",
       "</div>"
      ],
      "text/plain": [
       "diagnosis    T21   TOF\n",
       "donor                 \n",
       "Hst42      54262     0\n",
       "Hst44      22096     0\n",
       "P26            0  2428\n",
       "P28            0  6195\n",
       "P33            0  7213"
      ]
     },
     "execution_count": 16,
     "metadata": {},
     "output_type": "execute_result"
    }
   ],
   "source": [
    "pd.crosstab(adata_que.obs.donor,adata_que.obs.diagnosis)"
   ]
  },
  {
   "cell_type": "code",
   "execution_count": 17,
   "id": "ea92990e-aca0-4eac-91a9-2b835c279422",
   "metadata": {},
   "outputs": [
    {
     "data": {
      "text/html": [
       "<div>\n",
       "<style scoped>\n",
       "    .dataframe tbody tr th:only-of-type {\n",
       "        vertical-align: middle;\n",
       "    }\n",
       "\n",
       "    .dataframe tbody tr th {\n",
       "        vertical-align: top;\n",
       "    }\n",
       "\n",
       "    .dataframe thead th {\n",
       "        text-align: right;\n",
       "    }\n",
       "</style>\n",
       "<table border=\"1\" class=\"dataframe\">\n",
       "  <thead>\n",
       "    <tr style=\"text-align: right;\">\n",
       "      <th></th>\n",
       "      <th>age</th>\n",
       "      <th>batch_key</th>\n",
       "      <th>cell_or_nuclei</th>\n",
       "      <th>diagnosis</th>\n",
       "      <th>donor</th>\n",
       "      <th>kit_10x</th>\n",
       "      <th>n_counts</th>\n",
       "      <th>n_genes</th>\n",
       "      <th>n_genes_by_counts</th>\n",
       "      <th>pct_counts_mt</th>\n",
       "      <th>pct_counts_ribo</th>\n",
       "      <th>region</th>\n",
       "      <th>sex</th>\n",
       "      <th>total_counts</th>\n",
       "      <th>total_counts_mt</th>\n",
       "      <th>total_counts_ribo</th>\n",
       "    </tr>\n",
       "  </thead>\n",
       "  <tbody>\n",
       "    <tr>\n",
       "      <th>BHF_F_Hea13188319_BHF_F_Hea13187621_TAAGGACCATGTCAAT-1</th>\n",
       "      <td>14W0D</td>\n",
       "      <td>Hst42_Nuclei_Multiome-v1</td>\n",
       "      <td>nuclei</td>\n",
       "      <td>T21</td>\n",
       "      <td>Hst42</td>\n",
       "      <td>Multiome-v1</td>\n",
       "      <td>108008.0</td>\n",
       "      <td>12409</td>\n",
       "      <td>10363</td>\n",
       "      <td>1.983755</td>\n",
       "      <td>1.538707</td>\n",
       "      <td>pericardium</td>\n",
       "      <td>male</td>\n",
       "      <td>100214.0</td>\n",
       "      <td>1988.0</td>\n",
       "      <td>1542.0</td>\n",
       "    </tr>\n",
       "    <tr>\n",
       "      <th>BHF_F_Hea13188319_BHF_F_Hea13187621_CGTTTCTCATGAATCT-1</th>\n",
       "      <td>14W0D</td>\n",
       "      <td>Hst42_Nuclei_Multiome-v1</td>\n",
       "      <td>nuclei</td>\n",
       "      <td>T21</td>\n",
       "      <td>Hst42</td>\n",
       "      <td>Multiome-v1</td>\n",
       "      <td>85032.0</td>\n",
       "      <td>11220</td>\n",
       "      <td>9634</td>\n",
       "      <td>3.359229</td>\n",
       "      <td>2.350827</td>\n",
       "      <td>pericardium</td>\n",
       "      <td>male</td>\n",
       "      <td>79036.0</td>\n",
       "      <td>2655.0</td>\n",
       "      <td>1858.0</td>\n",
       "    </tr>\n",
       "    <tr>\n",
       "      <th>BHF_F_Hea13188319_BHF_F_Hea13187621_GATCACTAGCACGTTG-1</th>\n",
       "      <td>14W0D</td>\n",
       "      <td>Hst42_Nuclei_Multiome-v1</td>\n",
       "      <td>nuclei</td>\n",
       "      <td>T21</td>\n",
       "      <td>Hst42</td>\n",
       "      <td>Multiome-v1</td>\n",
       "      <td>74917.0</td>\n",
       "      <td>10797</td>\n",
       "      <td>9212</td>\n",
       "      <td>1.703957</td>\n",
       "      <td>0.972046</td>\n",
       "      <td>pericardium</td>\n",
       "      <td>male</td>\n",
       "      <td>69544.0</td>\n",
       "      <td>1185.0</td>\n",
       "      <td>676.0</td>\n",
       "    </tr>\n",
       "  </tbody>\n",
       "</table>\n",
       "</div>"
      ],
      "text/plain": [
       "                                                      age  \\\n",
       "BHF_F_Hea13188319_BHF_F_Hea13187621_TAAGGACCATG...  14W0D   \n",
       "BHF_F_Hea13188319_BHF_F_Hea13187621_CGTTTCTCATG...  14W0D   \n",
       "BHF_F_Hea13188319_BHF_F_Hea13187621_GATCACTAGCA...  14W0D   \n",
       "\n",
       "                                                                   batch_key  \\\n",
       "BHF_F_Hea13188319_BHF_F_Hea13187621_TAAGGACCATG...  Hst42_Nuclei_Multiome-v1   \n",
       "BHF_F_Hea13188319_BHF_F_Hea13187621_CGTTTCTCATG...  Hst42_Nuclei_Multiome-v1   \n",
       "BHF_F_Hea13188319_BHF_F_Hea13187621_GATCACTAGCA...  Hst42_Nuclei_Multiome-v1   \n",
       "\n",
       "                                                   cell_or_nuclei diagnosis  \\\n",
       "BHF_F_Hea13188319_BHF_F_Hea13187621_TAAGGACCATG...         nuclei       T21   \n",
       "BHF_F_Hea13188319_BHF_F_Hea13187621_CGTTTCTCATG...         nuclei       T21   \n",
       "BHF_F_Hea13188319_BHF_F_Hea13187621_GATCACTAGCA...         nuclei       T21   \n",
       "\n",
       "                                                    donor      kit_10x  \\\n",
       "BHF_F_Hea13188319_BHF_F_Hea13187621_TAAGGACCATG...  Hst42  Multiome-v1   \n",
       "BHF_F_Hea13188319_BHF_F_Hea13187621_CGTTTCTCATG...  Hst42  Multiome-v1   \n",
       "BHF_F_Hea13188319_BHF_F_Hea13187621_GATCACTAGCA...  Hst42  Multiome-v1   \n",
       "\n",
       "                                                    n_counts  n_genes  \\\n",
       "BHF_F_Hea13188319_BHF_F_Hea13187621_TAAGGACCATG...  108008.0    12409   \n",
       "BHF_F_Hea13188319_BHF_F_Hea13187621_CGTTTCTCATG...   85032.0    11220   \n",
       "BHF_F_Hea13188319_BHF_F_Hea13187621_GATCACTAGCA...   74917.0    10797   \n",
       "\n",
       "                                                    n_genes_by_counts  \\\n",
       "BHF_F_Hea13188319_BHF_F_Hea13187621_TAAGGACCATG...              10363   \n",
       "BHF_F_Hea13188319_BHF_F_Hea13187621_CGTTTCTCATG...               9634   \n",
       "BHF_F_Hea13188319_BHF_F_Hea13187621_GATCACTAGCA...               9212   \n",
       "\n",
       "                                                    pct_counts_mt  \\\n",
       "BHF_F_Hea13188319_BHF_F_Hea13187621_TAAGGACCATG...       1.983755   \n",
       "BHF_F_Hea13188319_BHF_F_Hea13187621_CGTTTCTCATG...       3.359229   \n",
       "BHF_F_Hea13188319_BHF_F_Hea13187621_GATCACTAGCA...       1.703957   \n",
       "\n",
       "                                                    pct_counts_ribo  \\\n",
       "BHF_F_Hea13188319_BHF_F_Hea13187621_TAAGGACCATG...         1.538707   \n",
       "BHF_F_Hea13188319_BHF_F_Hea13187621_CGTTTCTCATG...         2.350827   \n",
       "BHF_F_Hea13188319_BHF_F_Hea13187621_GATCACTAGCA...         0.972046   \n",
       "\n",
       "                                                         region   sex  \\\n",
       "BHF_F_Hea13188319_BHF_F_Hea13187621_TAAGGACCATG...  pericardium  male   \n",
       "BHF_F_Hea13188319_BHF_F_Hea13187621_CGTTTCTCATG...  pericardium  male   \n",
       "BHF_F_Hea13188319_BHF_F_Hea13187621_GATCACTAGCA...  pericardium  male   \n",
       "\n",
       "                                                    total_counts  \\\n",
       "BHF_F_Hea13188319_BHF_F_Hea13187621_TAAGGACCATG...      100214.0   \n",
       "BHF_F_Hea13188319_BHF_F_Hea13187621_CGTTTCTCATG...       79036.0   \n",
       "BHF_F_Hea13188319_BHF_F_Hea13187621_GATCACTAGCA...       69544.0   \n",
       "\n",
       "                                                    total_counts_mt  \\\n",
       "BHF_F_Hea13188319_BHF_F_Hea13187621_TAAGGACCATG...           1988.0   \n",
       "BHF_F_Hea13188319_BHF_F_Hea13187621_CGTTTCTCATG...           2655.0   \n",
       "BHF_F_Hea13188319_BHF_F_Hea13187621_GATCACTAGCA...           1185.0   \n",
       "\n",
       "                                                    total_counts_ribo  \n",
       "BHF_F_Hea13188319_BHF_F_Hea13187621_TAAGGACCATG...             1542.0  \n",
       "BHF_F_Hea13188319_BHF_F_Hea13187621_CGTTTCTCATG...             1858.0  \n",
       "BHF_F_Hea13188319_BHF_F_Hea13187621_GATCACTAGCA...              676.0  "
      ]
     },
     "execution_count": 17,
     "metadata": {},
     "output_type": "execute_result"
    }
   ],
   "source": [
    "adata_que.obs.head(3)"
   ]
  },
  {
   "cell_type": "markdown",
   "id": "bf395da8-b469-4b84-a58e-342e40d580cc",
   "metadata": {},
   "source": [
    "### Finally, reduce adata_ref to shared variables as well"
   ]
  },
  {
   "cell_type": "code",
   "execution_count": 18,
   "id": "a2247abd-8bed-4ac5-892d-f5f90c3db6ee",
   "metadata": {},
   "outputs": [
    {
     "name": "stdout",
     "output_type": "stream",
     "text": [
      "(297473, 3392)\n",
      "(297473, 2872)\n"
     ]
    }
   ],
   "source": [
    "print(adata_ref.shape)\n",
    "adata_ref = adata_ref[:, shared_vars_list]\n",
    "print(adata_ref.shape)"
   ]
  },
  {
   "cell_type": "markdown",
   "id": "69a3ce61",
   "metadata": {},
   "source": [
    "Similarly, data is raw counts and has all features.\n",
    "We:\n",
    "- Calculate QC metrics (to be used as covariates), in case the object has been subset since this was last done\n",
    "- store counts in \"counts\" layer.\n",
    "- Norm-Log\n",
    "- **Subset to match the HVGs of the reference**"
   ]
  },
  {
   "cell_type": "markdown",
   "id": "d9aabcdb",
   "metadata": {},
   "source": [
    "# Make reference model"
   ]
  },
  {
   "cell_type": "code",
   "execution_count": 20,
   "id": "48f455a3",
   "metadata": {},
   "outputs": [
    {
     "name": "stderr",
     "output_type": "stream",
     "text": [
      "WARNING:jax._src.xla_bridge:No GPU/TPU found, falling back to CPU. (Set TF_CPP_MIN_LOG_LEVEL=0 and rerun for more info.)\n"
     ]
    }
   ],
   "source": [
    "# set up the anndata\n",
    "\n",
    "adata_ref=adata_ref.copy()\n",
    "\n",
    "sca.models.SCVI.setup_anndata(adata_ref,\n",
    "                              batch_key=batch_key,\n",
    "                              labels_key=cell_type_key,\n",
    "                              continuous_covariate_keys=['total_counts','pct_counts_mt','pct_counts_ribo'],\n",
    "                              layer=\"counts\")"
   ]
  },
  {
   "cell_type": "code",
   "execution_count": 21,
   "id": "272c3861",
   "metadata": {},
   "outputs": [],
   "source": [
    "# initialise the VAE model\n",
    "vae = sca.models.SCVI(\n",
    "    adata_ref,\n",
    "    n_hidden = 128, n_latent = 50, n_layers = 3, dispersion = 'gene-batch',\n",
    "    encode_covariates=True,\n",
    "    deeply_inject_covariates=False,\n",
    "    use_layer_norm=\"both\",\n",
    "    use_batch_norm=\"none\",\n",
    ")"
   ]
  },
  {
   "cell_type": "code",
   "execution_count": 22,
   "id": "0ef724f8",
   "metadata": {},
   "outputs": [
    {
     "data": {
      "text/html": [
       "<pre style=\"white-space:pre;overflow-x:auto;line-height:normal;font-family:Menlo,'DejaVu Sans Mono',consolas,'Courier New',monospace\">Anndata setup with scvi-tools version <span style=\"color: #008080; text-decoration-color: #008080; font-weight: bold\">0.20</span>.<span style=\"color: #008080; text-decoration-color: #008080; font-weight: bold\">3</span>.\n",
       "</pre>\n"
      ],
      "text/plain": [
       "Anndata setup with scvi-tools version \u001b[1;36m0.20\u001b[0m.\u001b[1;36m3\u001b[0m.\n"
      ]
     },
     "metadata": {},
     "output_type": "display_data"
    },
    {
     "data": {
      "text/html": [
       "<pre style=\"white-space:pre;overflow-x:auto;line-height:normal;font-family:Menlo,'DejaVu Sans Mono',consolas,'Courier New',monospace\">\n",
       "</pre>\n"
      ],
      "text/plain": [
       "\n"
      ]
     },
     "metadata": {},
     "output_type": "display_data"
    },
    {
     "data": {
      "text/html": [
       "<pre style=\"white-space:pre;overflow-x:auto;line-height:normal;font-family:Menlo,'DejaVu Sans Mono',consolas,'Courier New',monospace\">Setup via `SCVI.setup_anndata` with arguments:\n",
       "</pre>\n"
      ],
      "text/plain": [
       "Setup via `SCVI.setup_anndata` with arguments:\n"
      ]
     },
     "metadata": {},
     "output_type": "display_data"
    },
    {
     "data": {
      "text/html": [
       "<pre style=\"white-space:pre;overflow-x:auto;line-height:normal;font-family:Menlo,'DejaVu Sans Mono',consolas,'Courier New',monospace\"><span style=\"font-weight: bold\">{</span>\n",
       "<span style=\"color: #7fbf7f; text-decoration-color: #7fbf7f\">│   </span><span style=\"color: #008000; text-decoration-color: #008000\">'layer'</span>: <span style=\"color: #008000; text-decoration-color: #008000\">'counts'</span>,\n",
       "<span style=\"color: #7fbf7f; text-decoration-color: #7fbf7f\">│   </span><span style=\"color: #008000; text-decoration-color: #008000\">'batch_key'</span>: <span style=\"color: #008000; text-decoration-color: #008000\">'batch_key'</span>,\n",
       "<span style=\"color: #7fbf7f; text-decoration-color: #7fbf7f\">│   </span><span style=\"color: #008000; text-decoration-color: #008000\">'labels_key'</span>: <span style=\"color: #008000; text-decoration-color: #008000\">'MidGrainModified'</span>,\n",
       "<span style=\"color: #7fbf7f; text-decoration-color: #7fbf7f\">│   </span><span style=\"color: #008000; text-decoration-color: #008000\">'size_factor_key'</span>: <span style=\"color: #800080; text-decoration-color: #800080; font-style: italic\">None</span>,\n",
       "<span style=\"color: #7fbf7f; text-decoration-color: #7fbf7f\">│   </span><span style=\"color: #008000; text-decoration-color: #008000\">'categorical_covariate_keys'</span>: <span style=\"color: #800080; text-decoration-color: #800080; font-style: italic\">None</span>,\n",
       "<span style=\"color: #7fbf7f; text-decoration-color: #7fbf7f\">│   </span><span style=\"color: #008000; text-decoration-color: #008000\">'continuous_covariate_keys'</span>: <span style=\"font-weight: bold\">[</span><span style=\"color: #008000; text-decoration-color: #008000\">'total_counts'</span>, <span style=\"color: #008000; text-decoration-color: #008000\">'pct_counts_mt'</span>, <span style=\"color: #008000; text-decoration-color: #008000\">'pct_counts_ribo'</span><span style=\"font-weight: bold\">]</span>\n",
       "<span style=\"font-weight: bold\">}</span>\n",
       "</pre>\n"
      ],
      "text/plain": [
       "\u001b[1m{\u001b[0m\n",
       "\u001b[2;32m│   \u001b[0m\u001b[32m'layer'\u001b[0m: \u001b[32m'counts'\u001b[0m,\n",
       "\u001b[2;32m│   \u001b[0m\u001b[32m'batch_key'\u001b[0m: \u001b[32m'batch_key'\u001b[0m,\n",
       "\u001b[2;32m│   \u001b[0m\u001b[32m'labels_key'\u001b[0m: \u001b[32m'MidGrainModified'\u001b[0m,\n",
       "\u001b[2;32m│   \u001b[0m\u001b[32m'size_factor_key'\u001b[0m: \u001b[3;35mNone\u001b[0m,\n",
       "\u001b[2;32m│   \u001b[0m\u001b[32m'categorical_covariate_keys'\u001b[0m: \u001b[3;35mNone\u001b[0m,\n",
       "\u001b[2;32m│   \u001b[0m\u001b[32m'continuous_covariate_keys'\u001b[0m: \u001b[1m[\u001b[0m\u001b[32m'total_counts'\u001b[0m, \u001b[32m'pct_counts_mt'\u001b[0m, \u001b[32m'pct_counts_ribo'\u001b[0m\u001b[1m]\u001b[0m\n",
       "\u001b[1m}\u001b[0m\n"
      ]
     },
     "metadata": {},
     "output_type": "display_data"
    },
    {
     "data": {
      "text/html": [
       "<pre style=\"white-space:pre;overflow-x:auto;line-height:normal;font-family:Menlo,'DejaVu Sans Mono',consolas,'Courier New',monospace\">\n",
       "</pre>\n"
      ],
      "text/plain": [
       "\n"
      ]
     },
     "metadata": {},
     "output_type": "display_data"
    },
    {
     "data": {
      "text/html": [
       "<pre style=\"white-space:pre;overflow-x:auto;line-height:normal;font-family:Menlo,'DejaVu Sans Mono',consolas,'Courier New',monospace\"><span style=\"font-style: italic\">         Summary Statistics          </span>\n",
       "┏━━━━━━━━━━━━━━━━━━━━━━━━━━┳━━━━━━━━┓\n",
       "┃<span style=\"font-weight: bold\">     Summary Stat Key     </span>┃<span style=\"font-weight: bold\"> Value  </span>┃\n",
       "┡━━━━━━━━━━━━━━━━━━━━━━━━━━╇━━━━━━━━┩\n",
       "│<span style=\"color: #0087ff; text-decoration-color: #0087ff\">         n_batch          </span>│<span style=\"color: #af00d7; text-decoration-color: #af00d7\">   21   </span>│\n",
       "│<span style=\"color: #0087ff; text-decoration-color: #0087ff\">         n_cells          </span>│<span style=\"color: #af00d7; text-decoration-color: #af00d7\"> 297473 </span>│\n",
       "│<span style=\"color: #0087ff; text-decoration-color: #0087ff\"> n_extra_categorical_covs </span>│<span style=\"color: #af00d7; text-decoration-color: #af00d7\">   0    </span>│\n",
       "│<span style=\"color: #0087ff; text-decoration-color: #0087ff\"> n_extra_continuous_covs  </span>│<span style=\"color: #af00d7; text-decoration-color: #af00d7\">   3    </span>│\n",
       "│<span style=\"color: #0087ff; text-decoration-color: #0087ff\">         n_labels         </span>│<span style=\"color: #af00d7; text-decoration-color: #af00d7\">   13   </span>│\n",
       "│<span style=\"color: #0087ff; text-decoration-color: #0087ff\">          n_vars          </span>│<span style=\"color: #af00d7; text-decoration-color: #af00d7\">  2872  </span>│\n",
       "└──────────────────────────┴────────┘\n",
       "</pre>\n"
      ],
      "text/plain": [
       "\u001b[3m         Summary Statistics          \u001b[0m\n",
       "┏━━━━━━━━━━━━━━━━━━━━━━━━━━┳━━━━━━━━┓\n",
       "┃\u001b[1m \u001b[0m\u001b[1m    Summary Stat Key    \u001b[0m\u001b[1m \u001b[0m┃\u001b[1m \u001b[0m\u001b[1mValue \u001b[0m\u001b[1m \u001b[0m┃\n",
       "┡━━━━━━━━━━━━━━━━━━━━━━━━━━╇━━━━━━━━┩\n",
       "│\u001b[38;5;33m \u001b[0m\u001b[38;5;33m        n_batch         \u001b[0m\u001b[38;5;33m \u001b[0m│\u001b[38;5;128m \u001b[0m\u001b[38;5;128m  21  \u001b[0m\u001b[38;5;128m \u001b[0m│\n",
       "│\u001b[38;5;33m \u001b[0m\u001b[38;5;33m        n_cells         \u001b[0m\u001b[38;5;33m \u001b[0m│\u001b[38;5;128m \u001b[0m\u001b[38;5;128m297473\u001b[0m\u001b[38;5;128m \u001b[0m│\n",
       "│\u001b[38;5;33m \u001b[0m\u001b[38;5;33mn_extra_categorical_covs\u001b[0m\u001b[38;5;33m \u001b[0m│\u001b[38;5;128m \u001b[0m\u001b[38;5;128m  0   \u001b[0m\u001b[38;5;128m \u001b[0m│\n",
       "│\u001b[38;5;33m \u001b[0m\u001b[38;5;33mn_extra_continuous_covs \u001b[0m\u001b[38;5;33m \u001b[0m│\u001b[38;5;128m \u001b[0m\u001b[38;5;128m  3   \u001b[0m\u001b[38;5;128m \u001b[0m│\n",
       "│\u001b[38;5;33m \u001b[0m\u001b[38;5;33m        n_labels        \u001b[0m\u001b[38;5;33m \u001b[0m│\u001b[38;5;128m \u001b[0m\u001b[38;5;128m  13  \u001b[0m\u001b[38;5;128m \u001b[0m│\n",
       "│\u001b[38;5;33m \u001b[0m\u001b[38;5;33m         n_vars         \u001b[0m\u001b[38;5;33m \u001b[0m│\u001b[38;5;128m \u001b[0m\u001b[38;5;128m 2872 \u001b[0m\u001b[38;5;128m \u001b[0m│\n",
       "└──────────────────────────┴────────┘\n"
      ]
     },
     "metadata": {},
     "output_type": "display_data"
    },
    {
     "data": {
      "text/html": [
       "<pre style=\"white-space:pre;overflow-x:auto;line-height:normal;font-family:Menlo,'DejaVu Sans Mono',consolas,'Courier New',monospace\"><span style=\"font-style: italic\">                            Data Registry                            </span>\n",
       "┏━━━━━━━━━━━━━━━━━━━━━━━┳━━━━━━━━━━━━━━━━━━━━━━━━━━━━━━━━━━━━━━━━━━━┓\n",
       "┃<span style=\"font-weight: bold\">     Registry Key      </span>┃<span style=\"font-weight: bold\">            scvi-tools Location            </span>┃\n",
       "┡━━━━━━━━━━━━━━━━━━━━━━━╇━━━━━━━━━━━━━━━━━━━━━━━━━━━━━━━━━━━━━━━━━━━┩\n",
       "│<span style=\"color: #0087ff; text-decoration-color: #0087ff\">           X           </span>│<span style=\"color: #af00d7; text-decoration-color: #af00d7\">          adata.layers['counts']           </span>│\n",
       "│<span style=\"color: #0087ff; text-decoration-color: #0087ff\">         batch         </span>│<span style=\"color: #af00d7; text-decoration-color: #af00d7\">         adata.obs['_scvi_batch']          </span>│\n",
       "│<span style=\"color: #0087ff; text-decoration-color: #0087ff\"> extra_continuous_covs </span>│<span style=\"color: #af00d7; text-decoration-color: #af00d7\"> adata.obsm['_scvi_extra_continuous_covs'] </span>│\n",
       "│<span style=\"color: #0087ff; text-decoration-color: #0087ff\">        labels         </span>│<span style=\"color: #af00d7; text-decoration-color: #af00d7\">         adata.obs['_scvi_labels']         </span>│\n",
       "└───────────────────────┴───────────────────────────────────────────┘\n",
       "</pre>\n"
      ],
      "text/plain": [
       "\u001b[3m                            Data Registry                            \u001b[0m\n",
       "┏━━━━━━━━━━━━━━━━━━━━━━━┳━━━━━━━━━━━━━━━━━━━━━━━━━━━━━━━━━━━━━━━━━━━┓\n",
       "┃\u001b[1m \u001b[0m\u001b[1m    Registry Key     \u001b[0m\u001b[1m \u001b[0m┃\u001b[1m \u001b[0m\u001b[1m           scvi-tools Location           \u001b[0m\u001b[1m \u001b[0m┃\n",
       "┡━━━━━━━━━━━━━━━━━━━━━━━╇━━━━━━━━━━━━━━━━━━━━━━━━━━━━━━━━━━━━━━━━━━━┩\n",
       "│\u001b[38;5;33m \u001b[0m\u001b[38;5;33m          X          \u001b[0m\u001b[38;5;33m \u001b[0m│\u001b[38;5;128m \u001b[0m\u001b[38;5;128m         adata.layers['counts']          \u001b[0m\u001b[38;5;128m \u001b[0m│\n",
       "│\u001b[38;5;33m \u001b[0m\u001b[38;5;33m        batch        \u001b[0m\u001b[38;5;33m \u001b[0m│\u001b[38;5;128m \u001b[0m\u001b[38;5;128m        adata.obs['_scvi_batch']         \u001b[0m\u001b[38;5;128m \u001b[0m│\n",
       "│\u001b[38;5;33m \u001b[0m\u001b[38;5;33mextra_continuous_covs\u001b[0m\u001b[38;5;33m \u001b[0m│\u001b[38;5;128m \u001b[0m\u001b[38;5;128madata.obsm['_scvi_extra_continuous_covs']\u001b[0m\u001b[38;5;128m \u001b[0m│\n",
       "│\u001b[38;5;33m \u001b[0m\u001b[38;5;33m       labels        \u001b[0m\u001b[38;5;33m \u001b[0m│\u001b[38;5;128m \u001b[0m\u001b[38;5;128m        adata.obs['_scvi_labels']        \u001b[0m\u001b[38;5;128m \u001b[0m│\n",
       "└───────────────────────┴───────────────────────────────────────────┘\n"
      ]
     },
     "metadata": {},
     "output_type": "display_data"
    },
    {
     "data": {
      "text/html": [
       "<pre style=\"white-space:pre;overflow-x:auto;line-height:normal;font-family:Menlo,'DejaVu Sans Mono',consolas,'Courier New',monospace\"><span style=\"font-style: italic\">                           batch State Registry                            </span>\n",
       "┏━━━━━━━━━━━━━━━━━━━━━━━━┳━━━━━━━━━━━━━━━━━━━━━━━━━━┳━━━━━━━━━━━━━━━━━━━━━┓\n",
       "┃<span style=\"font-weight: bold\">    Source Location     </span>┃<span style=\"font-weight: bold\">        Categories        </span>┃<span style=\"font-weight: bold\"> scvi-tools Encoding </span>┃\n",
       "┡━━━━━━━━━━━━━━━━━━━━━━━━╇━━━━━━━━━━━━━━━━━━━━━━━━━━╇━━━━━━━━━━━━━━━━━━━━━┩\n",
       "│<span style=\"color: #0087ff; text-decoration-color: #0087ff\"> adata.obs['batch_key'] </span>│<span style=\"color: #008000; text-decoration-color: #008000\">  BRC2251_Cell_3prime-v3  </span>│<span style=\"color: #af00d7; text-decoration-color: #af00d7\">          0          </span>│\n",
       "│<span style=\"color: #0087ff; text-decoration-color: #0087ff\">                        </span>│<span style=\"color: #008000; text-decoration-color: #008000\">  BRC2252_Cell_3prime-v3  </span>│<span style=\"color: #af00d7; text-decoration-color: #af00d7\">          1          </span>│\n",
       "│<span style=\"color: #0087ff; text-decoration-color: #0087ff\">                        </span>│<span style=\"color: #008000; text-decoration-color: #008000\">  BRC2256_Cell_3prime-v3  </span>│<span style=\"color: #af00d7; text-decoration-color: #af00d7\">          2          </span>│\n",
       "│<span style=\"color: #0087ff; text-decoration-color: #0087ff\">                        </span>│<span style=\"color: #008000; text-decoration-color: #008000\">  BRC2260_Cell_3prime-v3  </span>│<span style=\"color: #af00d7; text-decoration-color: #af00d7\">          3          </span>│\n",
       "│<span style=\"color: #0087ff; text-decoration-color: #0087ff\">                        </span>│<span style=\"color: #008000; text-decoration-color: #008000\">  BRC2262_Cell_3prime-v3  </span>│<span style=\"color: #af00d7; text-decoration-color: #af00d7\">          4          </span>│\n",
       "│<span style=\"color: #0087ff; text-decoration-color: #0087ff\">                        </span>│<span style=\"color: #008000; text-decoration-color: #008000\">  BRC2263_Cell_3prime-v3  </span>│<span style=\"color: #af00d7; text-decoration-color: #af00d7\">          5          </span>│\n",
       "│<span style=\"color: #0087ff; text-decoration-color: #0087ff\">                        </span>│<span style=\"color: #008000; text-decoration-color: #008000\">  C82_Nuclei_Multiome-v1  </span>│<span style=\"color: #af00d7; text-decoration-color: #af00d7\">          6          </span>│\n",
       "│<span style=\"color: #0087ff; text-decoration-color: #0087ff\">                        </span>│<span style=\"color: #008000; text-decoration-color: #008000\">  C85_Nuclei_Multiome-v1  </span>│<span style=\"color: #af00d7; text-decoration-color: #af00d7\">          7          </span>│\n",
       "│<span style=\"color: #0087ff; text-decoration-color: #0087ff\">                        </span>│<span style=\"color: #008000; text-decoration-color: #008000\">    C86_Cell_5prime-v2    </span>│<span style=\"color: #af00d7; text-decoration-color: #af00d7\">          8          </span>│\n",
       "│<span style=\"color: #0087ff; text-decoration-color: #0087ff\">                        </span>│<span style=\"color: #008000; text-decoration-color: #008000\">  C87_Nuclei_Multiome-v1  </span>│<span style=\"color: #af00d7; text-decoration-color: #af00d7\">          9          </span>│\n",
       "│<span style=\"color: #0087ff; text-decoration-color: #0087ff\">                        </span>│<span style=\"color: #008000; text-decoration-color: #008000\">  C92_Nuclei_Multiome-v1  </span>│<span style=\"color: #af00d7; text-decoration-color: #af00d7\">         10          </span>│\n",
       "│<span style=\"color: #0087ff; text-decoration-color: #0087ff\">                        </span>│<span style=\"color: #008000; text-decoration-color: #008000\">    C94_Cell_5prime-v2    </span>│<span style=\"color: #af00d7; text-decoration-color: #af00d7\">         11          </span>│\n",
       "│<span style=\"color: #0087ff; text-decoration-color: #0087ff\">                        </span>│<span style=\"color: #008000; text-decoration-color: #008000\">    C97_Cell_5prime-v2    </span>│<span style=\"color: #af00d7; text-decoration-color: #af00d7\">         12          </span>│\n",
       "│<span style=\"color: #0087ff; text-decoration-color: #0087ff\">                        </span>│<span style=\"color: #008000; text-decoration-color: #008000\">  C98_Nuclei_Multiome-v1  </span>│<span style=\"color: #af00d7; text-decoration-color: #af00d7\">         13          </span>│\n",
       "│<span style=\"color: #0087ff; text-decoration-color: #0087ff\">                        </span>│<span style=\"color: #008000; text-decoration-color: #008000\">    C99_Cell_5prime-v2    </span>│<span style=\"color: #af00d7; text-decoration-color: #af00d7\">         14          </span>│\n",
       "│<span style=\"color: #0087ff; text-decoration-color: #0087ff\">                        </span>│<span style=\"color: #008000; text-decoration-color: #008000\"> C104_Nuclei_Multiome-v1  </span>│<span style=\"color: #af00d7; text-decoration-color: #af00d7\">         15          </span>│\n",
       "│<span style=\"color: #0087ff; text-decoration-color: #0087ff\">                        </span>│<span style=\"color: #008000; text-decoration-color: #008000\"> Hst33_Nuclei_Multiome-v1 </span>│<span style=\"color: #af00d7; text-decoration-color: #af00d7\">         16          </span>│\n",
       "│<span style=\"color: #0087ff; text-decoration-color: #0087ff\">                        </span>│<span style=\"color: #008000; text-decoration-color: #008000\"> Hst36_Nuclei_Multiome-v1 </span>│<span style=\"color: #af00d7; text-decoration-color: #af00d7\">         17          </span>│\n",
       "│<span style=\"color: #0087ff; text-decoration-color: #0087ff\">                        </span>│<span style=\"color: #008000; text-decoration-color: #008000\"> Hst39_Nuclei_Multiome-v1 </span>│<span style=\"color: #af00d7; text-decoration-color: #af00d7\">         18          </span>│\n",
       "│<span style=\"color: #0087ff; text-decoration-color: #0087ff\">                        </span>│<span style=\"color: #008000; text-decoration-color: #008000\"> Hst40_Nuclei_Multiome-v1 </span>│<span style=\"color: #af00d7; text-decoration-color: #af00d7\">         19          </span>│\n",
       "│<span style=\"color: #0087ff; text-decoration-color: #0087ff\">                        </span>│<span style=\"color: #008000; text-decoration-color: #008000\"> Hst41_Nuclei_Multiome-v1 </span>│<span style=\"color: #af00d7; text-decoration-color: #af00d7\">         20          </span>│\n",
       "└────────────────────────┴──────────────────────────┴─────────────────────┘\n",
       "</pre>\n"
      ],
      "text/plain": [
       "\u001b[3m                           batch State Registry                            \u001b[0m\n",
       "┏━━━━━━━━━━━━━━━━━━━━━━━━┳━━━━━━━━━━━━━━━━━━━━━━━━━━┳━━━━━━━━━━━━━━━━━━━━━┓\n",
       "┃\u001b[1m \u001b[0m\u001b[1m   Source Location    \u001b[0m\u001b[1m \u001b[0m┃\u001b[1m \u001b[0m\u001b[1m       Categories       \u001b[0m\u001b[1m \u001b[0m┃\u001b[1m \u001b[0m\u001b[1mscvi-tools Encoding\u001b[0m\u001b[1m \u001b[0m┃\n",
       "┡━━━━━━━━━━━━━━━━━━━━━━━━╇━━━━━━━━━━━━━━━━━━━━━━━━━━╇━━━━━━━━━━━━━━━━━━━━━┩\n",
       "│\u001b[38;5;33m \u001b[0m\u001b[38;5;33madata.obs['batch_key']\u001b[0m\u001b[38;5;33m \u001b[0m│\u001b[32m \u001b[0m\u001b[32m BRC2251_Cell_3prime-v3 \u001b[0m\u001b[32m \u001b[0m│\u001b[38;5;128m \u001b[0m\u001b[38;5;128m         0         \u001b[0m\u001b[38;5;128m \u001b[0m│\n",
       "│\u001b[38;5;33m \u001b[0m\u001b[38;5;33m                      \u001b[0m\u001b[38;5;33m \u001b[0m│\u001b[32m \u001b[0m\u001b[32m BRC2252_Cell_3prime-v3 \u001b[0m\u001b[32m \u001b[0m│\u001b[38;5;128m \u001b[0m\u001b[38;5;128m         1         \u001b[0m\u001b[38;5;128m \u001b[0m│\n",
       "│\u001b[38;5;33m \u001b[0m\u001b[38;5;33m                      \u001b[0m\u001b[38;5;33m \u001b[0m│\u001b[32m \u001b[0m\u001b[32m BRC2256_Cell_3prime-v3 \u001b[0m\u001b[32m \u001b[0m│\u001b[38;5;128m \u001b[0m\u001b[38;5;128m         2         \u001b[0m\u001b[38;5;128m \u001b[0m│\n",
       "│\u001b[38;5;33m \u001b[0m\u001b[38;5;33m                      \u001b[0m\u001b[38;5;33m \u001b[0m│\u001b[32m \u001b[0m\u001b[32m BRC2260_Cell_3prime-v3 \u001b[0m\u001b[32m \u001b[0m│\u001b[38;5;128m \u001b[0m\u001b[38;5;128m         3         \u001b[0m\u001b[38;5;128m \u001b[0m│\n",
       "│\u001b[38;5;33m \u001b[0m\u001b[38;5;33m                      \u001b[0m\u001b[38;5;33m \u001b[0m│\u001b[32m \u001b[0m\u001b[32m BRC2262_Cell_3prime-v3 \u001b[0m\u001b[32m \u001b[0m│\u001b[38;5;128m \u001b[0m\u001b[38;5;128m         4         \u001b[0m\u001b[38;5;128m \u001b[0m│\n",
       "│\u001b[38;5;33m \u001b[0m\u001b[38;5;33m                      \u001b[0m\u001b[38;5;33m \u001b[0m│\u001b[32m \u001b[0m\u001b[32m BRC2263_Cell_3prime-v3 \u001b[0m\u001b[32m \u001b[0m│\u001b[38;5;128m \u001b[0m\u001b[38;5;128m         5         \u001b[0m\u001b[38;5;128m \u001b[0m│\n",
       "│\u001b[38;5;33m \u001b[0m\u001b[38;5;33m                      \u001b[0m\u001b[38;5;33m \u001b[0m│\u001b[32m \u001b[0m\u001b[32m C82_Nuclei_Multiome-v1 \u001b[0m\u001b[32m \u001b[0m│\u001b[38;5;128m \u001b[0m\u001b[38;5;128m         6         \u001b[0m\u001b[38;5;128m \u001b[0m│\n",
       "│\u001b[38;5;33m \u001b[0m\u001b[38;5;33m                      \u001b[0m\u001b[38;5;33m \u001b[0m│\u001b[32m \u001b[0m\u001b[32m C85_Nuclei_Multiome-v1 \u001b[0m\u001b[32m \u001b[0m│\u001b[38;5;128m \u001b[0m\u001b[38;5;128m         7         \u001b[0m\u001b[38;5;128m \u001b[0m│\n",
       "│\u001b[38;5;33m \u001b[0m\u001b[38;5;33m                      \u001b[0m\u001b[38;5;33m \u001b[0m│\u001b[32m \u001b[0m\u001b[32m   C86_Cell_5prime-v2   \u001b[0m\u001b[32m \u001b[0m│\u001b[38;5;128m \u001b[0m\u001b[38;5;128m         8         \u001b[0m\u001b[38;5;128m \u001b[0m│\n",
       "│\u001b[38;5;33m \u001b[0m\u001b[38;5;33m                      \u001b[0m\u001b[38;5;33m \u001b[0m│\u001b[32m \u001b[0m\u001b[32m C87_Nuclei_Multiome-v1 \u001b[0m\u001b[32m \u001b[0m│\u001b[38;5;128m \u001b[0m\u001b[38;5;128m         9         \u001b[0m\u001b[38;5;128m \u001b[0m│\n",
       "│\u001b[38;5;33m \u001b[0m\u001b[38;5;33m                      \u001b[0m\u001b[38;5;33m \u001b[0m│\u001b[32m \u001b[0m\u001b[32m C92_Nuclei_Multiome-v1 \u001b[0m\u001b[32m \u001b[0m│\u001b[38;5;128m \u001b[0m\u001b[38;5;128m        10         \u001b[0m\u001b[38;5;128m \u001b[0m│\n",
       "│\u001b[38;5;33m \u001b[0m\u001b[38;5;33m                      \u001b[0m\u001b[38;5;33m \u001b[0m│\u001b[32m \u001b[0m\u001b[32m   C94_Cell_5prime-v2   \u001b[0m\u001b[32m \u001b[0m│\u001b[38;5;128m \u001b[0m\u001b[38;5;128m        11         \u001b[0m\u001b[38;5;128m \u001b[0m│\n",
       "│\u001b[38;5;33m \u001b[0m\u001b[38;5;33m                      \u001b[0m\u001b[38;5;33m \u001b[0m│\u001b[32m \u001b[0m\u001b[32m   C97_Cell_5prime-v2   \u001b[0m\u001b[32m \u001b[0m│\u001b[38;5;128m \u001b[0m\u001b[38;5;128m        12         \u001b[0m\u001b[38;5;128m \u001b[0m│\n",
       "│\u001b[38;5;33m \u001b[0m\u001b[38;5;33m                      \u001b[0m\u001b[38;5;33m \u001b[0m│\u001b[32m \u001b[0m\u001b[32m C98_Nuclei_Multiome-v1 \u001b[0m\u001b[32m \u001b[0m│\u001b[38;5;128m \u001b[0m\u001b[38;5;128m        13         \u001b[0m\u001b[38;5;128m \u001b[0m│\n",
       "│\u001b[38;5;33m \u001b[0m\u001b[38;5;33m                      \u001b[0m\u001b[38;5;33m \u001b[0m│\u001b[32m \u001b[0m\u001b[32m   C99_Cell_5prime-v2   \u001b[0m\u001b[32m \u001b[0m│\u001b[38;5;128m \u001b[0m\u001b[38;5;128m        14         \u001b[0m\u001b[38;5;128m \u001b[0m│\n",
       "│\u001b[38;5;33m \u001b[0m\u001b[38;5;33m                      \u001b[0m\u001b[38;5;33m \u001b[0m│\u001b[32m \u001b[0m\u001b[32mC104_Nuclei_Multiome-v1 \u001b[0m\u001b[32m \u001b[0m│\u001b[38;5;128m \u001b[0m\u001b[38;5;128m        15         \u001b[0m\u001b[38;5;128m \u001b[0m│\n",
       "│\u001b[38;5;33m \u001b[0m\u001b[38;5;33m                      \u001b[0m\u001b[38;5;33m \u001b[0m│\u001b[32m \u001b[0m\u001b[32mHst33_Nuclei_Multiome-v1\u001b[0m\u001b[32m \u001b[0m│\u001b[38;5;128m \u001b[0m\u001b[38;5;128m        16         \u001b[0m\u001b[38;5;128m \u001b[0m│\n",
       "│\u001b[38;5;33m \u001b[0m\u001b[38;5;33m                      \u001b[0m\u001b[38;5;33m \u001b[0m│\u001b[32m \u001b[0m\u001b[32mHst36_Nuclei_Multiome-v1\u001b[0m\u001b[32m \u001b[0m│\u001b[38;5;128m \u001b[0m\u001b[38;5;128m        17         \u001b[0m\u001b[38;5;128m \u001b[0m│\n",
       "│\u001b[38;5;33m \u001b[0m\u001b[38;5;33m                      \u001b[0m\u001b[38;5;33m \u001b[0m│\u001b[32m \u001b[0m\u001b[32mHst39_Nuclei_Multiome-v1\u001b[0m\u001b[32m \u001b[0m│\u001b[38;5;128m \u001b[0m\u001b[38;5;128m        18         \u001b[0m\u001b[38;5;128m \u001b[0m│\n",
       "│\u001b[38;5;33m \u001b[0m\u001b[38;5;33m                      \u001b[0m\u001b[38;5;33m \u001b[0m│\u001b[32m \u001b[0m\u001b[32mHst40_Nuclei_Multiome-v1\u001b[0m\u001b[32m \u001b[0m│\u001b[38;5;128m \u001b[0m\u001b[38;5;128m        19         \u001b[0m\u001b[38;5;128m \u001b[0m│\n",
       "│\u001b[38;5;33m \u001b[0m\u001b[38;5;33m                      \u001b[0m\u001b[38;5;33m \u001b[0m│\u001b[32m \u001b[0m\u001b[32mHst41_Nuclei_Multiome-v1\u001b[0m\u001b[32m \u001b[0m│\u001b[38;5;128m \u001b[0m\u001b[38;5;128m        20         \u001b[0m\u001b[38;5;128m \u001b[0m│\n",
       "└────────────────────────┴──────────────────────────┴─────────────────────┘\n"
      ]
     },
     "metadata": {},
     "output_type": "display_data"
    },
    {
     "data": {
      "text/html": [
       "<pre style=\"white-space:pre;overflow-x:auto;line-height:normal;font-family:Menlo,'DejaVu Sans Mono',consolas,'Courier New',monospace\"><span style=\"font-style: italic\">                                labels State Registry                                </span>\n",
       "┏━━━━━━━━━━━━━━━━━━━━━━━━━━━━━━━┳━━━━━━━━━━━━━━━━━━━━━━━━━━━━━┳━━━━━━━━━━━━━━━━━━━━━┓\n",
       "┃<span style=\"font-weight: bold\">        Source Location        </span>┃<span style=\"font-weight: bold\">         Categories          </span>┃<span style=\"font-weight: bold\"> scvi-tools Encoding </span>┃\n",
       "┡━━━━━━━━━━━━━━━━━━━━━━━━━━━━━━━╇━━━━━━━━━━━━━━━━━━━━━━━━━━━━━╇━━━━━━━━━━━━━━━━━━━━━┩\n",
       "│<span style=\"color: #0087ff; text-decoration-color: #0087ff\"> adata.obs['MidGrainModified'] </span>│<span style=\"color: #008000; text-decoration-color: #008000\">    AtrialCardiomyocytes     </span>│<span style=\"color: #af00d7; text-decoration-color: #af00d7\">          0          </span>│\n",
       "│<span style=\"color: #0087ff; text-decoration-color: #0087ff\">                               </span>│<span style=\"color: #008000; text-decoration-color: #008000\"> BloodVesselEndothelialCells </span>│<span style=\"color: #af00d7; text-decoration-color: #af00d7\">          1          </span>│\n",
       "│<span style=\"color: #0087ff; text-decoration-color: #0087ff\">                               </span>│<span style=\"color: #008000; text-decoration-color: #008000\">      EndocardialCells       </span>│<span style=\"color: #af00d7; text-decoration-color: #af00d7\">          2          </span>│\n",
       "│<span style=\"color: #0087ff; text-decoration-color: #0087ff\">                               </span>│<span style=\"color: #008000; text-decoration-color: #008000\">       EpicardialCells       </span>│<span style=\"color: #af00d7; text-decoration-color: #af00d7\">          3          </span>│\n",
       "│<span style=\"color: #0087ff; text-decoration-color: #0087ff\">                               </span>│<span style=\"color: #008000; text-decoration-color: #008000\">         Fibroblasts         </span>│<span style=\"color: #af00d7; text-decoration-color: #af00d7\">          4          </span>│\n",
       "│<span style=\"color: #0087ff; text-decoration-color: #0087ff\">                               </span>│<span style=\"color: #008000; text-decoration-color: #008000\">            Glia             </span>│<span style=\"color: #af00d7; text-decoration-color: #af00d7\">          5          </span>│\n",
       "│<span style=\"color: #0087ff; text-decoration-color: #0087ff\">                               </span>│<span style=\"color: #008000; text-decoration-color: #008000\">  LymphaticEndothelialCells  </span>│<span style=\"color: #af00d7; text-decoration-color: #af00d7\">          6          </span>│\n",
       "│<span style=\"color: #0087ff; text-decoration-color: #0087ff\">                               </span>│<span style=\"color: #008000; text-decoration-color: #008000\">        LymphoidCells        </span>│<span style=\"color: #af00d7; text-decoration-color: #af00d7\">          7          </span>│\n",
       "│<span style=\"color: #0087ff; text-decoration-color: #0087ff\">                               </span>│<span style=\"color: #008000; text-decoration-color: #008000\">         MuralCells          </span>│<span style=\"color: #af00d7; text-decoration-color: #af00d7\">          8          </span>│\n",
       "│<span style=\"color: #0087ff; text-decoration-color: #0087ff\">                               </span>│<span style=\"color: #008000; text-decoration-color: #008000\">        MyeloidCells         </span>│<span style=\"color: #af00d7; text-decoration-color: #af00d7\">          9          </span>│\n",
       "│<span style=\"color: #0087ff; text-decoration-color: #0087ff\">                               </span>│<span style=\"color: #008000; text-decoration-color: #008000\">           Neurons           </span>│<span style=\"color: #af00d7; text-decoration-color: #af00d7\">         10          </span>│\n",
       "│<span style=\"color: #0087ff; text-decoration-color: #0087ff\">                               </span>│<span style=\"color: #008000; text-decoration-color: #008000\">      PericardialCells       </span>│<span style=\"color: #af00d7; text-decoration-color: #af00d7\">         11          </span>│\n",
       "│<span style=\"color: #0087ff; text-decoration-color: #0087ff\">                               </span>│<span style=\"color: #008000; text-decoration-color: #008000\">  VentricularCardiomyocytes  </span>│<span style=\"color: #af00d7; text-decoration-color: #af00d7\">         12          </span>│\n",
       "└───────────────────────────────┴─────────────────────────────┴─────────────────────┘\n",
       "</pre>\n"
      ],
      "text/plain": [
       "\u001b[3m                                labels State Registry                                \u001b[0m\n",
       "┏━━━━━━━━━━━━━━━━━━━━━━━━━━━━━━━┳━━━━━━━━━━━━━━━━━━━━━━━━━━━━━┳━━━━━━━━━━━━━━━━━━━━━┓\n",
       "┃\u001b[1m \u001b[0m\u001b[1m       Source Location       \u001b[0m\u001b[1m \u001b[0m┃\u001b[1m \u001b[0m\u001b[1m        Categories         \u001b[0m\u001b[1m \u001b[0m┃\u001b[1m \u001b[0m\u001b[1mscvi-tools Encoding\u001b[0m\u001b[1m \u001b[0m┃\n",
       "┡━━━━━━━━━━━━━━━━━━━━━━━━━━━━━━━╇━━━━━━━━━━━━━━━━━━━━━━━━━━━━━╇━━━━━━━━━━━━━━━━━━━━━┩\n",
       "│\u001b[38;5;33m \u001b[0m\u001b[38;5;33madata.obs['MidGrainModified']\u001b[0m\u001b[38;5;33m \u001b[0m│\u001b[32m \u001b[0m\u001b[32m   AtrialCardiomyocytes    \u001b[0m\u001b[32m \u001b[0m│\u001b[38;5;128m \u001b[0m\u001b[38;5;128m         0         \u001b[0m\u001b[38;5;128m \u001b[0m│\n",
       "│\u001b[38;5;33m \u001b[0m\u001b[38;5;33m                             \u001b[0m\u001b[38;5;33m \u001b[0m│\u001b[32m \u001b[0m\u001b[32mBloodVesselEndothelialCells\u001b[0m\u001b[32m \u001b[0m│\u001b[38;5;128m \u001b[0m\u001b[38;5;128m         1         \u001b[0m\u001b[38;5;128m \u001b[0m│\n",
       "│\u001b[38;5;33m \u001b[0m\u001b[38;5;33m                             \u001b[0m\u001b[38;5;33m \u001b[0m│\u001b[32m \u001b[0m\u001b[32m     EndocardialCells      \u001b[0m\u001b[32m \u001b[0m│\u001b[38;5;128m \u001b[0m\u001b[38;5;128m         2         \u001b[0m\u001b[38;5;128m \u001b[0m│\n",
       "│\u001b[38;5;33m \u001b[0m\u001b[38;5;33m                             \u001b[0m\u001b[38;5;33m \u001b[0m│\u001b[32m \u001b[0m\u001b[32m      EpicardialCells      \u001b[0m\u001b[32m \u001b[0m│\u001b[38;5;128m \u001b[0m\u001b[38;5;128m         3         \u001b[0m\u001b[38;5;128m \u001b[0m│\n",
       "│\u001b[38;5;33m \u001b[0m\u001b[38;5;33m                             \u001b[0m\u001b[38;5;33m \u001b[0m│\u001b[32m \u001b[0m\u001b[32m        Fibroblasts        \u001b[0m\u001b[32m \u001b[0m│\u001b[38;5;128m \u001b[0m\u001b[38;5;128m         4         \u001b[0m\u001b[38;5;128m \u001b[0m│\n",
       "│\u001b[38;5;33m \u001b[0m\u001b[38;5;33m                             \u001b[0m\u001b[38;5;33m \u001b[0m│\u001b[32m \u001b[0m\u001b[32m           Glia            \u001b[0m\u001b[32m \u001b[0m│\u001b[38;5;128m \u001b[0m\u001b[38;5;128m         5         \u001b[0m\u001b[38;5;128m \u001b[0m│\n",
       "│\u001b[38;5;33m \u001b[0m\u001b[38;5;33m                             \u001b[0m\u001b[38;5;33m \u001b[0m│\u001b[32m \u001b[0m\u001b[32m LymphaticEndothelialCells \u001b[0m\u001b[32m \u001b[0m│\u001b[38;5;128m \u001b[0m\u001b[38;5;128m         6         \u001b[0m\u001b[38;5;128m \u001b[0m│\n",
       "│\u001b[38;5;33m \u001b[0m\u001b[38;5;33m                             \u001b[0m\u001b[38;5;33m \u001b[0m│\u001b[32m \u001b[0m\u001b[32m       LymphoidCells       \u001b[0m\u001b[32m \u001b[0m│\u001b[38;5;128m \u001b[0m\u001b[38;5;128m         7         \u001b[0m\u001b[38;5;128m \u001b[0m│\n",
       "│\u001b[38;5;33m \u001b[0m\u001b[38;5;33m                             \u001b[0m\u001b[38;5;33m \u001b[0m│\u001b[32m \u001b[0m\u001b[32m        MuralCells         \u001b[0m\u001b[32m \u001b[0m│\u001b[38;5;128m \u001b[0m\u001b[38;5;128m         8         \u001b[0m\u001b[38;5;128m \u001b[0m│\n",
       "│\u001b[38;5;33m \u001b[0m\u001b[38;5;33m                             \u001b[0m\u001b[38;5;33m \u001b[0m│\u001b[32m \u001b[0m\u001b[32m       MyeloidCells        \u001b[0m\u001b[32m \u001b[0m│\u001b[38;5;128m \u001b[0m\u001b[38;5;128m         9         \u001b[0m\u001b[38;5;128m \u001b[0m│\n",
       "│\u001b[38;5;33m \u001b[0m\u001b[38;5;33m                             \u001b[0m\u001b[38;5;33m \u001b[0m│\u001b[32m \u001b[0m\u001b[32m          Neurons          \u001b[0m\u001b[32m \u001b[0m│\u001b[38;5;128m \u001b[0m\u001b[38;5;128m        10         \u001b[0m\u001b[38;5;128m \u001b[0m│\n",
       "│\u001b[38;5;33m \u001b[0m\u001b[38;5;33m                             \u001b[0m\u001b[38;5;33m \u001b[0m│\u001b[32m \u001b[0m\u001b[32m     PericardialCells      \u001b[0m\u001b[32m \u001b[0m│\u001b[38;5;128m \u001b[0m\u001b[38;5;128m        11         \u001b[0m\u001b[38;5;128m \u001b[0m│\n",
       "│\u001b[38;5;33m \u001b[0m\u001b[38;5;33m                             \u001b[0m\u001b[38;5;33m \u001b[0m│\u001b[32m \u001b[0m\u001b[32m VentricularCardiomyocytes \u001b[0m\u001b[32m \u001b[0m│\u001b[38;5;128m \u001b[0m\u001b[38;5;128m        12         \u001b[0m\u001b[38;5;128m \u001b[0m│\n",
       "└───────────────────────────────┴─────────────────────────────┴─────────────────────┘\n"
      ]
     },
     "metadata": {},
     "output_type": "display_data"
    },
    {
     "data": {
      "text/html": [
       "<pre style=\"white-space:pre;overflow-x:auto;line-height:normal;font-family:Menlo,'DejaVu Sans Mono',consolas,'Courier New',monospace\"><span style=\"font-style: italic\">  extra_continuous_covs State   </span>\n",
       "<span style=\"font-style: italic\">            Registry            </span>\n",
       "┏━━━━━━━━━━━━━━━━━━━━━━━━━━━━━━┓\n",
       "┃<span style=\"font-weight: bold\">       Source Location        </span>┃\n",
       "┡━━━━━━━━━━━━━━━━━━━━━━━━━━━━━━┩\n",
       "│<span style=\"color: #0087ff; text-decoration-color: #0087ff\">  adata.obs['total_counts']   </span>│\n",
       "│<span style=\"color: #0087ff; text-decoration-color: #0087ff\">  adata.obs['pct_counts_mt']  </span>│\n",
       "│<span style=\"color: #0087ff; text-decoration-color: #0087ff\"> adata.obs['pct_counts_ribo'] </span>│\n",
       "└──────────────────────────────┘\n",
       "</pre>\n"
      ],
      "text/plain": [
       "\u001b[3m  extra_continuous_covs State   \u001b[0m\n",
       "\u001b[3m            Registry            \u001b[0m\n",
       "┏━━━━━━━━━━━━━━━━━━━━━━━━━━━━━━┓\n",
       "┃\u001b[1m \u001b[0m\u001b[1m      Source Location       \u001b[0m\u001b[1m \u001b[0m┃\n",
       "┡━━━━━━━━━━━━━━━━━━━━━━━━━━━━━━┩\n",
       "│\u001b[38;5;33m \u001b[0m\u001b[38;5;33m adata.obs['total_counts']  \u001b[0m\u001b[38;5;33m \u001b[0m│\n",
       "│\u001b[38;5;33m \u001b[0m\u001b[38;5;33m adata.obs['pct_counts_mt'] \u001b[0m\u001b[38;5;33m \u001b[0m│\n",
       "│\u001b[38;5;33m \u001b[0m\u001b[38;5;33madata.obs['pct_counts_ribo']\u001b[0m\u001b[38;5;33m \u001b[0m│\n",
       "└──────────────────────────────┘\n"
      ]
     },
     "metadata": {},
     "output_type": "display_data"
    }
   ],
   "source": [
    "vae.view_anndata_setup(adata_ref)"
   ]
  },
  {
   "cell_type": "code",
   "execution_count": null,
   "id": "f185d6ea",
   "metadata": {},
   "outputs": [
    {
     "name": "stderr",
     "output_type": "stream",
     "text": [
      "INFO:pytorch_lightning.utilities.rank_zero:GPU available: True (cuda), used: True\n",
      "INFO:pytorch_lightning.utilities.rank_zero:TPU available: False, using: 0 TPU cores\n",
      "INFO:pytorch_lightning.utilities.rank_zero:IPU available: False, using: 0 IPUs\n",
      "INFO:pytorch_lightning.utilities.rank_zero:HPU available: False, using: 0 HPUs\n",
      "INFO:pytorch_lightning.accelerators.cuda:LOCAL_RANK: 0 - CUDA_VISIBLE_DEVICES: [0]\n"
     ]
    },
    {
     "name": "stdout",
     "output_type": "stream",
     "text": [
      "Epoch 1/27:   0%|                                                                                                                     | 0/27 [00:00<?, ?it/s]"
     ]
    }
   ],
   "source": [
    "# Train the VAE\n",
    "vae.train()"
   ]
  },
  {
   "cell_type": "code",
   "execution_count": null,
   "id": "e69238e3",
   "metadata": {},
   "outputs": [],
   "source": [
    "# Initialise a SCANVI model from the VAE\n",
    "scanvae = sca.models.SCANVI.from_scvi_model(vae,unlabeled_category = \"Unknown\")"
   ]
  },
  {
   "cell_type": "code",
   "execution_count": null,
   "id": "fdda0e80",
   "metadata": {},
   "outputs": [],
   "source": [
    "print(\"Labelled Indices: \", len(scanvae._labeled_indices))\n",
    "print(\"Unlabelled Indices: \", len(scanvae._unlabeled_indices))"
   ]
  },
  {
   "cell_type": "code",
   "execution_count": null,
   "id": "d55b85d2",
   "metadata": {},
   "outputs": [],
   "source": [
    "scanvae.view_anndata_setup(adata_ref)"
   ]
  },
  {
   "cell_type": "code",
   "execution_count": null,
   "id": "c348c673",
   "metadata": {
    "scrolled": true
   },
   "outputs": [],
   "source": [
    "# Train the SCANVI model\n",
    "scanvae.train(max_epochs=20)"
   ]
  },
  {
   "cell_type": "markdown",
   "id": "cc8fa3e7",
   "metadata": {},
   "source": [
    "## Save models"
   ]
  },
  {
   "cell_type": "code",
   "execution_count": null,
   "id": "a1ac2365",
   "metadata": {},
   "outputs": [],
   "source": [
    "vae_path=os.path.join(models_path,f'{job_name}_ref_vae')\n",
    "scanvae_path = os.path.join(models_path,f'{job_name}_ref_scanvae')"
   ]
  },
  {
   "cell_type": "code",
   "execution_count": null,
   "id": "4383f2dc",
   "metadata": {},
   "outputs": [],
   "source": [
    "vae.save(vae_path, overwrite=True)\n",
    "scanvae.save(scanvae_path, overwrite=True)"
   ]
  },
  {
   "cell_type": "markdown",
   "id": "825ea058",
   "metadata": {},
   "source": [
    "# Extract latent variables for reference object"
   ]
  },
  {
   "cell_type": "code",
   "execution_count": null,
   "id": "fe4c9a7f",
   "metadata": {},
   "outputs": [],
   "source": [
    "reference_latent = sc.AnnData(scanvae.get_latent_representation())\n",
    "reference_latent.obs[\"cell_type\"] = adata_ref.obs[cell_type_key].tolist()\n",
    "reference_latent.obs[\"batch\"] = adata_ref.obs[batch_key].tolist()"
   ]
  },
  {
   "cell_type": "code",
   "execution_count": null,
   "id": "6c72e144",
   "metadata": {},
   "outputs": [],
   "source": [
    "reference_latent.obs['predictions'] = scanvae.predict()\n",
    "print(\"Acc: {}\".format(np.mean(reference_latent.obs.predictions == reference_latent.obs.cell_type)))"
   ]
  },
  {
   "cell_type": "markdown",
   "id": "24c05f8b",
   "metadata": {},
   "source": [
    "## Inspect reference latent"
   ]
  },
  {
   "cell_type": "code",
   "execution_count": null,
   "id": "84d46c9d",
   "metadata": {},
   "outputs": [],
   "source": [
    "reference_latent"
   ]
  },
  {
   "cell_type": "code",
   "execution_count": null,
   "id": "1a1eeb8a-e395-4df8-ad35-917aceb43296",
   "metadata": {},
   "outputs": [],
   "source": [
    "%%time\n",
    "# Optional: UMAP of reference embedding using scANVI latent variables\n",
    "'''\n",
    "sc.pp.neighbors(reference_latent)\n",
    "sc.tl.umap(reference_latent)\n",
    "sc.pl.umap(reference_latent,\n",
    "           color=['batch', 'cell_type'],\n",
    "           wspace=0.8\n",
    ")\n",
    "'''"
   ]
  },
  {
   "cell_type": "markdown",
   "id": "424ee942",
   "metadata": {},
   "source": [
    "## Save reference latent adata"
   ]
  },
  {
   "cell_type": "code",
   "execution_count": null,
   "id": "90c4e744",
   "metadata": {},
   "outputs": [],
   "source": [
    "# save\n",
    "file_path=os.path.join(adata_path,f'{job_name}_reference_latent.h5ad')\n",
    "reference_latent.write(file_path)"
   ]
  },
  {
   "cell_type": "markdown",
   "id": "7b7cbbe5",
   "metadata": {},
   "source": [
    "# Update the base model with the query data ('perform surgery')"
   ]
  },
  {
   "cell_type": "markdown",
   "id": "376d2066",
   "metadata": {},
   "source": [
    "one has to preprocess ‘target_adata’ in the following way:\n",
    "\n",
    "If there are new celltypes in there, save the original labels in other column and replace all labels with unlabeled category:\n",
    "\n",
    "`target_adata.obs['orig_cell_types'] = target_adata.obs[cell_type_key].copy()`\n",
    "\n",
    "`target_adata.obs[cell_type_key] = scanvae.unlabeled_category_`\n",
    "\n",
    "If there is no ‘.obs’ column for cell types:\n",
    "\n",
    "`target_adata.obs[cell_type_key] = scanvae.unlabeled_category_`"
   ]
  },
  {
   "cell_type": "code",
   "execution_count": null,
   "id": "d43e4168",
   "metadata": {},
   "outputs": [],
   "source": [
    "adata_que.obs[cell_type_key] = scanvae.unlabeled_category_"
   ]
  },
  {
   "cell_type": "code",
   "execution_count": null,
   "id": "6684888e",
   "metadata": {},
   "outputs": [],
   "source": [
    "# Initialise\n",
    "# This take the original scanvae model we just made and embeds the query data within it\n",
    "\n",
    "adata_que=adata_que.copy()\n",
    "\n",
    "model = sca.models.SCANVI.load_query_data(adata_que,\n",
    "                                          scanvae_path,\n",
    "                                          freeze_dropout = True)"
   ]
  },
  {
   "cell_type": "code",
   "execution_count": null,
   "id": "88b2c84c",
   "metadata": {},
   "outputs": [],
   "source": [
    "model._unlabeled_indices = np.arange(adata_que.n_obs)\n",
    "model._labeled_indices = []\n",
    "print(\"Labelled Indices: \", len(model._labeled_indices))\n",
    "print(\"Unlabelled Indices: \", len(model._unlabeled_indices))"
   ]
  },
  {
   "cell_type": "code",
   "execution_count": null,
   "id": "e67f8d52",
   "metadata": {
    "scrolled": true
   },
   "outputs": [],
   "source": [
    "# train the model\n",
    "model.train(max_epochs=100,\n",
    "            plan_kwargs=dict(weight_decay=0.0),\n",
    "            check_val_every_n_epoch=10,\n",
    ")"
   ]
  },
  {
   "cell_type": "markdown",
   "id": "cee57921",
   "metadata": {},
   "source": [
    "## Save model"
   ]
  },
  {
   "cell_type": "code",
   "execution_count": null,
   "id": "12371210",
   "metadata": {},
   "outputs": [],
   "source": [
    "# Save the 'surgery' model\n",
    "file_path=os.path.join(models_path,f'{job_name}_surgery_model')\n",
    "model.save(file_path, overwrite=True)"
   ]
  },
  {
   "cell_type": "markdown",
   "id": "f7811fa0",
   "metadata": {},
   "source": [
    "# Extract latent variables for query object"
   ]
  },
  {
   "cell_type": "code",
   "execution_count": null,
   "id": "032968ed",
   "metadata": {},
   "outputs": [],
   "source": [
    "query_latent = sc.AnnData(model.get_latent_representation())\n",
    "query_latent.obs['cell_type'] = adata_que.obs[cell_type_key].tolist()\n",
    "query_latent.obs['batch'] = adata_que.obs[batch_key].tolist()\n",
    "query_latent.obs_names = model.adata.obs_names.copy() # added"
   ]
  },
  {
   "cell_type": "code",
   "execution_count": null,
   "id": "2ec8909f",
   "metadata": {},
   "outputs": [],
   "source": [
    "query_latent.obs['predictions'] = model.predict()\n",
    "print(\"Acc: {}\".format(np.mean(query_latent.obs.predictions == query_latent.obs.cell_type)))"
   ]
  },
  {
   "cell_type": "markdown",
   "id": "67f79c87",
   "metadata": {},
   "source": [
    "## Inspect query latent"
   ]
  },
  {
   "cell_type": "code",
   "execution_count": null,
   "id": "1072f66c",
   "metadata": {},
   "outputs": [],
   "source": [
    "query_latent"
   ]
  },
  {
   "cell_type": "raw",
   "id": "958b6d71",
   "metadata": {},
   "source": [
    "%%time\n",
    "sc.pp.neighbors(query_latent)\n",
    "sc.tl.umap(query_latent)\n",
    "sc.pl.umap(query_latent,\n",
    "           color=['batch', 'cell_type'],\n",
    "           wspace=0.8\n",
    ")"
   ]
  },
  {
   "cell_type": "markdown",
   "id": "36364f17",
   "metadata": {},
   "source": [
    "## Save query latent adata"
   ]
  },
  {
   "cell_type": "code",
   "execution_count": null,
   "id": "a0ce6e1d",
   "metadata": {},
   "outputs": [],
   "source": [
    "# save\n",
    "file_path=os.path.join(adata_path,f'{job_name}_query_latent.h5ad')\n",
    "query_latent.write(file_path)"
   ]
  },
  {
   "cell_type": "markdown",
   "id": "0bf325e8",
   "metadata": {},
   "source": [
    "# Combine query and reference objects"
   ]
  },
  {
   "cell_type": "code",
   "execution_count": null,
   "id": "3fe1de68",
   "metadata": {},
   "outputs": [],
   "source": [
    "# add scANVI prediction outs to reference adata\n",
    "adata_ref.obs['scANVI_predictions'] = scanvae.predict()"
   ]
  },
  {
   "cell_type": "code",
   "execution_count": null,
   "id": "c81ac357",
   "metadata": {},
   "outputs": [],
   "source": [
    "adata_full = adata_ref.concatenate(adata_que,\n",
    "                                  index_unique = None,\n",
    "                                  batch_key= 'original_or_new',\n",
    "                                  batch_categories=['original','new'])\n",
    "\n",
    "full_latent = sc.AnnData(model.get_latent_representation(adata=adata_full))\n",
    "\n",
    "full_latent.obs['cell_type'] = adata_full.obs[cell_type_key].tolist()\n",
    "full_latent.obs['batch'] = adata_full.obs[batch_key].tolist()\n",
    "full_latent.obs['predictions'] = model.predict(adata=adata_full)\n",
    "full_latent.obs_names = adata_full.obs_names.copy()\n",
    "full_latent.obs['original_or_new'] = adata_full.obs['original_or_new'].tolist()"
   ]
  },
  {
   "cell_type": "markdown",
   "id": "74186503",
   "metadata": {},
   "source": [
    "## Inspect full latent"
   ]
  },
  {
   "cell_type": "code",
   "execution_count": null,
   "id": "4288094e",
   "metadata": {},
   "outputs": [],
   "source": [
    "full_latent"
   ]
  },
  {
   "cell_type": "code",
   "execution_count": null,
   "id": "b907fa36",
   "metadata": {},
   "outputs": [],
   "source": [
    "%%time\n",
    "sc.pp.neighbors(full_latent)"
   ]
  },
  {
   "cell_type": "code",
   "execution_count": null,
   "id": "ee5456ce-7267-491a-88db-303e6ef17613",
   "metadata": {},
   "outputs": [],
   "source": [
    "%%time\n",
    "sc.tl.umap(full_latent)"
   ]
  },
  {
   "cell_type": "code",
   "execution_count": null,
   "id": "22432117-eee0-4ee2-8f27-ebb7bd1a7ffe",
   "metadata": {},
   "outputs": [],
   "source": [
    "%%time\n",
    "sc.pl.umap(full_latent,\n",
    "           color=[\"predictions\",\"batch\", \"cell_type\",\"original_or_new\"],\n",
    "           wspace=0.8,\n",
    "           ncols=2\n",
    ")"
   ]
  },
  {
   "cell_type": "markdown",
   "id": "1d71f4d9",
   "metadata": {},
   "source": [
    "## Save full latent adata"
   ]
  },
  {
   "cell_type": "code",
   "execution_count": null,
   "id": "8b62ecf1",
   "metadata": {},
   "outputs": [],
   "source": [
    "# save\n",
    "file_path=os.path.join(adata_path,f'{job_name}_full_latent.h5ad')\n",
    "full_latent.write(file_path)"
   ]
  }
 ],
 "metadata": {
  "environment": {
   "kernel": "python3",
   "name": "pytorch-gpu.1-12.m100",
   "type": "gcloud",
   "uri": "gcr.io/deeplearning-platform-release/pytorch-gpu.1-12:m100"
  },
  "kernelspec": {
   "display_name": "scarches_env",
   "language": "python",
   "name": "scarches_env"
  },
  "language_info": {
   "codemirror_mode": {
    "name": "ipython",
    "version": 3
   },
   "file_extension": ".py",
   "mimetype": "text/x-python",
   "name": "python",
   "nbconvert_exporter": "python",
   "pygments_lexer": "ipython3",
   "version": "3.9.16"
  }
 },
 "nbformat": 4,
 "nbformat_minor": 5
}
