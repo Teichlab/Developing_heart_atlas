{
 "cells": [
  {
   "cell_type": "markdown",
   "id": "fancy-fifty",
   "metadata": {
    "id": "fancy-fifty"
   },
   "source": [
    "# Annotate T21 data using CellTypist\n",
    "In this notebook we will:\n",
    "- read in pre-made models trained on atlas fine/mid/coarse labels\n",
    "- read in T21 data\n",
    "- run model on T21 data to get predicted labels\n",
    "- save these barcode+label files as .csv for later use"
   ]
  },
  {
   "cell_type": "markdown",
   "id": "greater-sapphire",
   "metadata": {
    "id": "greater-sapphire"
   },
   "source": [
    "## Install CellTypist"
   ]
  },
  {
   "cell_type": "code",
   "execution_count": 1,
   "id": "living-preference",
   "metadata": {
    "id": "living-preference"
   },
   "outputs": [
    {
     "name": "stderr",
     "output_type": "stream",
     "text": [
      "/lustre/scratch126/cellgen/team205/jc48/miniconda3/envs/scanpy_env/lib/python3.9/site-packages/umap/distances.py:1063: NumbaDeprecationWarning: The 'nopython' keyword argument was not supplied to the 'numba.jit' decorator. The implicit default value for this argument is currently False, but it will be changed to True in Numba 0.59.0. See https://numba.readthedocs.io/en/stable/reference/deprecation.html#deprecation-of-object-mode-fall-back-behaviour-when-using-jit for details.\n",
      "  @numba.jit()\n",
      "/lustre/scratch126/cellgen/team205/jc48/miniconda3/envs/scanpy_env/lib/python3.9/site-packages/umap/distances.py:1071: NumbaDeprecationWarning: The 'nopython' keyword argument was not supplied to the 'numba.jit' decorator. The implicit default value for this argument is currently False, but it will be changed to True in Numba 0.59.0. See https://numba.readthedocs.io/en/stable/reference/deprecation.html#deprecation-of-object-mode-fall-back-behaviour-when-using-jit for details.\n",
      "  @numba.jit()\n",
      "/lustre/scratch126/cellgen/team205/jc48/miniconda3/envs/scanpy_env/lib/python3.9/site-packages/umap/distances.py:1086: NumbaDeprecationWarning: The 'nopython' keyword argument was not supplied to the 'numba.jit' decorator. The implicit default value for this argument is currently False, but it will be changed to True in Numba 0.59.0. See https://numba.readthedocs.io/en/stable/reference/deprecation.html#deprecation-of-object-mode-fall-back-behaviour-when-using-jit for details.\n",
      "  @numba.jit()\n",
      "/lustre/scratch126/cellgen/team205/jc48/miniconda3/envs/scanpy_env/lib/python3.9/site-packages/tqdm/auto.py:21: TqdmWarning: IProgress not found. Please update jupyter and ipywidgets. See https://ipywidgets.readthedocs.io/en/stable/user_install.html\n",
      "  from .autonotebook import tqdm as notebook_tqdm\n",
      "/lustre/scratch126/cellgen/team205/jc48/miniconda3/envs/scanpy_env/lib/python3.9/site-packages/umap/umap_.py:660: NumbaDeprecationWarning: The 'nopython' keyword argument was not supplied to the 'numba.jit' decorator. The implicit default value for this argument is currently False, but it will be changed to True in Numba 0.59.0. See https://numba.readthedocs.io/en/stable/reference/deprecation.html#deprecation-of-object-mode-fall-back-behaviour-when-using-jit for details.\n",
      "  @numba.jit()\n"
     ]
    }
   ],
   "source": [
    "import scanpy as sc\n",
    "import celltypist\n",
    "import time\n",
    "import numpy as np\n",
    "import os\n",
    "import pickle\n",
    "import pandas as pd"
   ]
  },
  {
   "cell_type": "markdown",
   "id": "lucky-diversity",
   "metadata": {
    "id": "lucky-diversity"
   },
   "source": [
    "## Paths and variables"
   ]
  },
  {
   "cell_type": "code",
   "execution_count": 2,
   "id": "3f508c11-b4ee-42f4-b3fb-6389fec8ca8e",
   "metadata": {},
   "outputs": [
    {
     "data": {
      "text/plain": [
       "'AtlasT21_WithContCovariates_MidGrainModified_AllCompartments'"
      ]
     },
     "execution_count": 2,
     "metadata": {},
     "output_type": "execute_result"
    }
   ],
   "source": [
    "#set relevant label key\n",
    "compartment='AllCompartments'\n",
    "cell_type_key = 'MidGrainModified'\n",
    "batch_key='batch_key'\n",
    "job_name=f'AtlasT21_WithContCovariates_{cell_type_key}_{compartment}'\n",
    "job_name"
   ]
  },
  {
   "cell_type": "code",
   "execution_count": 3,
   "id": "77291401-8d6c-4637-9fda-0ca28e8312b5",
   "metadata": {},
   "outputs": [],
   "source": [
    "#paths\n",
    "base_path='/lustre/scratch126/cellgen/team205/jc48/jupyter/scArches'\n",
    "data_dir=os.path.join(base_path,'data')\n",
    "results_dir=os.path.join(base_path,f'results/{job_name}')\n",
    "adata_path=os.path.join(results_dir,'anndata/')\n",
    "models_path=os.path.join(results_dir,'models/')"
   ]
  },
  {
   "cell_type": "code",
   "execution_count": 4,
   "id": "4a5a5be4-639c-4c70-ac93-4bab2d5326a2",
   "metadata": {},
   "outputs": [],
   "source": [
    "dataset='T21'"
   ]
  },
  {
   "cell_type": "markdown",
   "id": "ccefd0c0-d61d-48cf-b060-07d222e4ff6c",
   "metadata": {
    "id": "lucky-diversity"
   },
   "source": [
    "## Read in adata"
   ]
  },
  {
   "cell_type": "markdown",
   "id": "7a947fbe-a74f-4295-9db4-b608d44da295",
   "metadata": {},
   "source": [
    "Data format:\n",
    "- all genes\n",
    "- norm-logged in adata.X"
   ]
  },
  {
   "cell_type": "code",
   "execution_count": 5,
   "id": "86b88035-0598-4ec6-9fb0-3fea2eb14a81",
   "metadata": {},
   "outputs": [
    {
     "name": "stdout",
     "output_type": "stream",
     "text": [
      "[ 3.  1.  1.  2. 24.  7.  4.  1.  1. 14.]\n"
     ]
    }
   ],
   "source": [
    "file_path=os.path.join(data_dir,'T21HeartsExtracardiacRemovedRaw.h5ad')\n",
    "adata_que=sc.read(file_path)\n",
    "\n",
    "print(adata_que.X.data[:10])"
   ]
  },
  {
   "cell_type": "code",
   "execution_count": 6,
   "id": "f8d35030-f43f-4a31-8100-af0323015223",
   "metadata": {},
   "outputs": [
    {
     "name": "stdout",
     "output_type": "stream",
     "text": [
      "(76358, 36601)\n",
      "(76358, 36601)\n"
     ]
    }
   ],
   "source": [
    "print(adata_que.shape)\n",
    "adata = adata_que.copy()\n",
    "print(adata.shape)"
   ]
  },
  {
   "cell_type": "code",
   "execution_count": 7,
   "id": "c571bc7f-def9-46c5-a3f1-b6eaf07ac74d",
   "metadata": {},
   "outputs": [],
   "source": [
    "adata.layers[\"counts\"]=adata.X.copy()\n",
    "\n",
    "sc.pp.normalize_total(adata, target_sum = 1e4)\n",
    "sc.pp.log1p(adata)"
   ]
  },
  {
   "cell_type": "markdown",
   "id": "7fc0feb0-77b1-441c-a4e0-b89f0ea1efb1",
   "metadata": {
    "id": "lucky-diversity"
   },
   "source": [
    "## Apply celltypist model"
   ]
  },
  {
   "cell_type": "code",
   "execution_count": 8,
   "id": "657701f9-fb3f-41ee-ac64-805d8927d931",
   "metadata": {},
   "outputs": [
    {
     "name": "stderr",
     "output_type": "stream",
     "text": [
      "🔬 Input data has 76358 cells and 36601 genes\n",
      "🔗 Matching reference genes in the model\n",
      "🧬 30003 features used for prediction\n",
      "⚖️ Scaling input data\n",
      "🖋️ Predicting labels\n",
      "✅ Prediction done!\n",
      "👀 Detected a neighborhood graph in the input object, will run over-clustering on the basis of it\n",
      "⛓️ Over-clustering input data with resolution set to 20\n",
      "🗳️ Majority voting the predictions\n",
      "✅ Majority voting done!\n",
      "🔬 Input data has 76358 cells and 36601 genes\n",
      "🔗 Matching reference genes in the model\n"
     ]
    },
    {
     "name": "stdout",
     "output_type": "stream",
     "text": [
      "fine completed in : 113.90490245819092 seconds\n"
     ]
    },
    {
     "name": "stderr",
     "output_type": "stream",
     "text": [
      "🧬 30003 features used for prediction\n",
      "⚖️ Scaling input data\n",
      "🖋️ Predicting labels\n",
      "✅ Prediction done!\n",
      "👀 Detected a neighborhood graph in the input object, will run over-clustering on the basis of it\n",
      "⛓️ Over-clustering input data with resolution set to 20\n",
      "🗳️ Majority voting the predictions\n",
      "✅ Majority voting done!\n",
      "🔬 Input data has 76358 cells and 36601 genes\n",
      "🔗 Matching reference genes in the model\n"
     ]
    },
    {
     "name": "stdout",
     "output_type": "stream",
     "text": [
      "mid completed in : 117.49377703666687 seconds\n"
     ]
    },
    {
     "name": "stderr",
     "output_type": "stream",
     "text": [
      "🧬 30003 features used for prediction\n",
      "⚖️ Scaling input data\n",
      "🖋️ Predicting labels\n",
      "✅ Prediction done!\n",
      "👀 Detected a neighborhood graph in the input object, will run over-clustering on the basis of it\n",
      "⛓️ Over-clustering input data with resolution set to 20\n",
      "🗳️ Majority voting the predictions\n",
      "✅ Majority voting done!\n"
     ]
    },
    {
     "name": "stdout",
     "output_type": "stream",
     "text": [
      "coarse completed in : 98.2516131401062 seconds\n"
     ]
    },
    {
     "data": {
      "text/html": [
       "<div>\n",
       "<style scoped>\n",
       "    .dataframe tbody tr th:only-of-type {\n",
       "        vertical-align: middle;\n",
       "    }\n",
       "\n",
       "    .dataframe tbody tr th {\n",
       "        vertical-align: top;\n",
       "    }\n",
       "\n",
       "    .dataframe thead th {\n",
       "        text-align: right;\n",
       "    }\n",
       "</style>\n",
       "<table border=\"1\" class=\"dataframe\">\n",
       "  <thead>\n",
       "    <tr style=\"text-align: right;\">\n",
       "      <th></th>\n",
       "      <th>fine_CellTypist_predicted_labels</th>\n",
       "      <th>fine_CellTypist_over_clustering</th>\n",
       "      <th>fine_CellTypist_majority_voting</th>\n",
       "      <th>fine_CellTypist_conf_score</th>\n",
       "      <th>mid_CellTypist_predicted_labels</th>\n",
       "      <th>mid_CellTypist_over_clustering</th>\n",
       "      <th>mid_CellTypist_majority_voting</th>\n",
       "      <th>mid_CellTypist_conf_score</th>\n",
       "      <th>coarse_CellTypist_predicted_labels</th>\n",
       "      <th>coarse_CellTypist_over_clustering</th>\n",
       "      <th>coarse_CellTypist_majority_voting</th>\n",
       "      <th>coarse_CellTypist_conf_score</th>\n",
       "    </tr>\n",
       "    <tr>\n",
       "      <th>barcode</th>\n",
       "      <th></th>\n",
       "      <th></th>\n",
       "      <th></th>\n",
       "      <th></th>\n",
       "      <th></th>\n",
       "      <th></th>\n",
       "      <th></th>\n",
       "      <th></th>\n",
       "      <th></th>\n",
       "      <th></th>\n",
       "      <th></th>\n",
       "      <th></th>\n",
       "    </tr>\n",
       "  </thead>\n",
       "  <tbody>\n",
       "    <tr>\n",
       "      <th>BHF_F_Hea13188319_BHF_F_Hea13187621_TAAGGACCATGTCAAT-1</th>\n",
       "      <td>CoronarySmoothMuscleCells</td>\n",
       "      <td>176</td>\n",
       "      <td>CoronaryCapillaryEndothelialCells</td>\n",
       "      <td>0.255889</td>\n",
       "      <td>MuralCells</td>\n",
       "      <td>176</td>\n",
       "      <td>BloodVesselEndothelialCells</td>\n",
       "      <td>0.402490</td>\n",
       "      <td>Mesenchymal</td>\n",
       "      <td>176</td>\n",
       "      <td>Endothelium</td>\n",
       "      <td>0.929917</td>\n",
       "    </tr>\n",
       "    <tr>\n",
       "      <th>BHF_F_Hea13188319_BHF_F_Hea13187621_CGTTTCTCATGAATCT-1</th>\n",
       "      <td>CoronarySmoothMuscleCells</td>\n",
       "      <td>176</td>\n",
       "      <td>CoronaryCapillaryEndothelialCells</td>\n",
       "      <td>0.023086</td>\n",
       "      <td>BloodVesselEndothelialCells</td>\n",
       "      <td>176</td>\n",
       "      <td>BloodVesselEndothelialCells</td>\n",
       "      <td>0.993314</td>\n",
       "      <td>Endothelium</td>\n",
       "      <td>176</td>\n",
       "      <td>Endothelium</td>\n",
       "      <td>0.970691</td>\n",
       "    </tr>\n",
       "    <tr>\n",
       "      <th>BHF_F_Hea13188319_BHF_F_Hea13187621_GATCACTAGCACGTTG-1</th>\n",
       "      <td>GreatVesselAdventitialFibroblasts</td>\n",
       "      <td>118</td>\n",
       "      <td>PericardialCells1</td>\n",
       "      <td>0.007167</td>\n",
       "      <td>PericardialCells</td>\n",
       "      <td>118</td>\n",
       "      <td>PericardialCells</td>\n",
       "      <td>0.817508</td>\n",
       "      <td>Mesenchymal</td>\n",
       "      <td>118</td>\n",
       "      <td>Mesenchymal</td>\n",
       "      <td>0.999997</td>\n",
       "    </tr>\n",
       "    <tr>\n",
       "      <th>BHF_F_Hea13188319_BHF_F_Hea13187621_AGCGCTCAGGATGATG-1</th>\n",
       "      <td>LymphaticEndothelialCells</td>\n",
       "      <td>27</td>\n",
       "      <td>LymphaticEndothelialCells</td>\n",
       "      <td>0.952143</td>\n",
       "      <td>LymphaticEndothelialCells</td>\n",
       "      <td>27</td>\n",
       "      <td>LymphaticEndothelialCells</td>\n",
       "      <td>0.952143</td>\n",
       "      <td>Endothelium</td>\n",
       "      <td>27</td>\n",
       "      <td>Endothelium</td>\n",
       "      <td>0.989049</td>\n",
       "    </tr>\n",
       "    <tr>\n",
       "      <th>BHF_F_Hea13188319_BHF_F_Hea13187621_AGGTCCGGTTAACAGT-1</th>\n",
       "      <td>LymphaticEndothelialCells</td>\n",
       "      <td>27</td>\n",
       "      <td>LymphaticEndothelialCells</td>\n",
       "      <td>0.351521</td>\n",
       "      <td>LymphaticEndothelialCells</td>\n",
       "      <td>27</td>\n",
       "      <td>LymphaticEndothelialCells</td>\n",
       "      <td>0.351521</td>\n",
       "      <td>Endothelium</td>\n",
       "      <td>27</td>\n",
       "      <td>Endothelium</td>\n",
       "      <td>0.905470</td>\n",
       "    </tr>\n",
       "    <tr>\n",
       "      <th>...</th>\n",
       "      <td>...</td>\n",
       "      <td>...</td>\n",
       "      <td>...</td>\n",
       "      <td>...</td>\n",
       "      <td>...</td>\n",
       "      <td>...</td>\n",
       "      <td>...</td>\n",
       "      <td>...</td>\n",
       "      <td>...</td>\n",
       "      <td>...</td>\n",
       "      <td>...</td>\n",
       "      <td>...</td>\n",
       "    </tr>\n",
       "    <tr>\n",
       "      <th>BHF_F_Hea13188327_BHF_F_Hea13187629_AGGTTTATCAAGTGTC-1</th>\n",
       "      <td>MyocardialInterstitialFibroblasts1</td>\n",
       "      <td>34</td>\n",
       "      <td>Myofibroblasts</td>\n",
       "      <td>0.046293</td>\n",
       "      <td>Fibroblasts</td>\n",
       "      <td>34</td>\n",
       "      <td>Fibroblasts</td>\n",
       "      <td>0.999968</td>\n",
       "      <td>Mesenchymal</td>\n",
       "      <td>34</td>\n",
       "      <td>Mesenchymal</td>\n",
       "      <td>0.999960</td>\n",
       "    </tr>\n",
       "    <tr>\n",
       "      <th>BHF_F_Hea13188327_BHF_F_Hea13187629_CGATTTGCAGCTAACC-1</th>\n",
       "      <td>AtrioventricularNodeCardiomyocytes</td>\n",
       "      <td>245</td>\n",
       "      <td>VentricularConductionSystemDistal</td>\n",
       "      <td>0.002770</td>\n",
       "      <td>CardiacConductionSystem</td>\n",
       "      <td>245</td>\n",
       "      <td>CardiacConductionSystem</td>\n",
       "      <td>0.022795</td>\n",
       "      <td>Cardiomyocytes</td>\n",
       "      <td>245</td>\n",
       "      <td>Cardiomyocytes</td>\n",
       "      <td>0.995044</td>\n",
       "    </tr>\n",
       "    <tr>\n",
       "      <th>BHF_F_Hea13188327_BHF_F_Hea13187629_TGCCGGTAGGATGATG-1</th>\n",
       "      <td>VentricularCardiomyocytesLeftTrabeculated</td>\n",
       "      <td>213</td>\n",
       "      <td>VentricularCardiomyocytesLeftTrabeculated</td>\n",
       "      <td>0.002224</td>\n",
       "      <td>VentricularCardiomyocytes</td>\n",
       "      <td>213</td>\n",
       "      <td>VentricularCardiomyocytes</td>\n",
       "      <td>0.959690</td>\n",
       "      <td>Cardiomyocytes</td>\n",
       "      <td>213</td>\n",
       "      <td>Cardiomyocytes</td>\n",
       "      <td>0.999810</td>\n",
       "    </tr>\n",
       "    <tr>\n",
       "      <th>BHF_F_Hea13188327_BHF_F_Hea13187629_TGATGATGTTTACGTC-1</th>\n",
       "      <td>VentricularCardiomyocytesRightTrabeculated</td>\n",
       "      <td>212</td>\n",
       "      <td>VentricularCardiomyocytesLeftCompact</td>\n",
       "      <td>0.000857</td>\n",
       "      <td>VentricularCardiomyocytes</td>\n",
       "      <td>212</td>\n",
       "      <td>VentricularCardiomyocytes</td>\n",
       "      <td>0.446339</td>\n",
       "      <td>Cardiomyocytes</td>\n",
       "      <td>212</td>\n",
       "      <td>Cardiomyocytes</td>\n",
       "      <td>0.999071</td>\n",
       "    </tr>\n",
       "    <tr>\n",
       "      <th>BHF_F_Hea13188327_BHF_F_Hea13187629_TTATCCTAGTATTGTG-1</th>\n",
       "      <td>EndocardialCells</td>\n",
       "      <td>134</td>\n",
       "      <td>EndocardialCells</td>\n",
       "      <td>0.266857</td>\n",
       "      <td>EndocardialCells</td>\n",
       "      <td>134</td>\n",
       "      <td>EndocardialCells</td>\n",
       "      <td>0.726080</td>\n",
       "      <td>Endothelium</td>\n",
       "      <td>134</td>\n",
       "      <td>Endothelium</td>\n",
       "      <td>0.995012</td>\n",
       "    </tr>\n",
       "  </tbody>\n",
       "</table>\n",
       "<p>76358 rows × 12 columns</p>\n",
       "</div>"
      ],
      "text/plain": [
       "                                                              fine_CellTypist_predicted_labels  \\\n",
       "barcode                                                                                          \n",
       "BHF_F_Hea13188319_BHF_F_Hea13187621_TAAGGACCATG...                   CoronarySmoothMuscleCells   \n",
       "BHF_F_Hea13188319_BHF_F_Hea13187621_CGTTTCTCATG...                   CoronarySmoothMuscleCells   \n",
       "BHF_F_Hea13188319_BHF_F_Hea13187621_GATCACTAGCA...           GreatVesselAdventitialFibroblasts   \n",
       "BHF_F_Hea13188319_BHF_F_Hea13187621_AGCGCTCAGGA...                   LymphaticEndothelialCells   \n",
       "BHF_F_Hea13188319_BHF_F_Hea13187621_AGGTCCGGTTA...                   LymphaticEndothelialCells   \n",
       "...                                                                                        ...   \n",
       "BHF_F_Hea13188327_BHF_F_Hea13187629_AGGTTTATCAA...          MyocardialInterstitialFibroblasts1   \n",
       "BHF_F_Hea13188327_BHF_F_Hea13187629_CGATTTGCAGC...          AtrioventricularNodeCardiomyocytes   \n",
       "BHF_F_Hea13188327_BHF_F_Hea13187629_TGCCGGTAGGA...   VentricularCardiomyocytesLeftTrabeculated   \n",
       "BHF_F_Hea13188327_BHF_F_Hea13187629_TGATGATGTTT...  VentricularCardiomyocytesRightTrabeculated   \n",
       "BHF_F_Hea13188327_BHF_F_Hea13187629_TTATCCTAGTA...                            EndocardialCells   \n",
       "\n",
       "                                                   fine_CellTypist_over_clustering  \\\n",
       "barcode                                                                              \n",
       "BHF_F_Hea13188319_BHF_F_Hea13187621_TAAGGACCATG...                             176   \n",
       "BHF_F_Hea13188319_BHF_F_Hea13187621_CGTTTCTCATG...                             176   \n",
       "BHF_F_Hea13188319_BHF_F_Hea13187621_GATCACTAGCA...                             118   \n",
       "BHF_F_Hea13188319_BHF_F_Hea13187621_AGCGCTCAGGA...                              27   \n",
       "BHF_F_Hea13188319_BHF_F_Hea13187621_AGGTCCGGTTA...                              27   \n",
       "...                                                                            ...   \n",
       "BHF_F_Hea13188327_BHF_F_Hea13187629_AGGTTTATCAA...                              34   \n",
       "BHF_F_Hea13188327_BHF_F_Hea13187629_CGATTTGCAGC...                             245   \n",
       "BHF_F_Hea13188327_BHF_F_Hea13187629_TGCCGGTAGGA...                             213   \n",
       "BHF_F_Hea13188327_BHF_F_Hea13187629_TGATGATGTTT...                             212   \n",
       "BHF_F_Hea13188327_BHF_F_Hea13187629_TTATCCTAGTA...                             134   \n",
       "\n",
       "                                                              fine_CellTypist_majority_voting  \\\n",
       "barcode                                                                                         \n",
       "BHF_F_Hea13188319_BHF_F_Hea13187621_TAAGGACCATG...          CoronaryCapillaryEndothelialCells   \n",
       "BHF_F_Hea13188319_BHF_F_Hea13187621_CGTTTCTCATG...          CoronaryCapillaryEndothelialCells   \n",
       "BHF_F_Hea13188319_BHF_F_Hea13187621_GATCACTAGCA...                          PericardialCells1   \n",
       "BHF_F_Hea13188319_BHF_F_Hea13187621_AGCGCTCAGGA...                  LymphaticEndothelialCells   \n",
       "BHF_F_Hea13188319_BHF_F_Hea13187621_AGGTCCGGTTA...                  LymphaticEndothelialCells   \n",
       "...                                                                                       ...   \n",
       "BHF_F_Hea13188327_BHF_F_Hea13187629_AGGTTTATCAA...                             Myofibroblasts   \n",
       "BHF_F_Hea13188327_BHF_F_Hea13187629_CGATTTGCAGC...          VentricularConductionSystemDistal   \n",
       "BHF_F_Hea13188327_BHF_F_Hea13187629_TGCCGGTAGGA...  VentricularCardiomyocytesLeftTrabeculated   \n",
       "BHF_F_Hea13188327_BHF_F_Hea13187629_TGATGATGTTT...       VentricularCardiomyocytesLeftCompact   \n",
       "BHF_F_Hea13188327_BHF_F_Hea13187629_TTATCCTAGTA...                           EndocardialCells   \n",
       "\n",
       "                                                    fine_CellTypist_conf_score  \\\n",
       "barcode                                                                          \n",
       "BHF_F_Hea13188319_BHF_F_Hea13187621_TAAGGACCATG...                    0.255889   \n",
       "BHF_F_Hea13188319_BHF_F_Hea13187621_CGTTTCTCATG...                    0.023086   \n",
       "BHF_F_Hea13188319_BHF_F_Hea13187621_GATCACTAGCA...                    0.007167   \n",
       "BHF_F_Hea13188319_BHF_F_Hea13187621_AGCGCTCAGGA...                    0.952143   \n",
       "BHF_F_Hea13188319_BHF_F_Hea13187621_AGGTCCGGTTA...                    0.351521   \n",
       "...                                                                        ...   \n",
       "BHF_F_Hea13188327_BHF_F_Hea13187629_AGGTTTATCAA...                    0.046293   \n",
       "BHF_F_Hea13188327_BHF_F_Hea13187629_CGATTTGCAGC...                    0.002770   \n",
       "BHF_F_Hea13188327_BHF_F_Hea13187629_TGCCGGTAGGA...                    0.002224   \n",
       "BHF_F_Hea13188327_BHF_F_Hea13187629_TGATGATGTTT...                    0.000857   \n",
       "BHF_F_Hea13188327_BHF_F_Hea13187629_TTATCCTAGTA...                    0.266857   \n",
       "\n",
       "                                                   mid_CellTypist_predicted_labels  \\\n",
       "barcode                                                                              \n",
       "BHF_F_Hea13188319_BHF_F_Hea13187621_TAAGGACCATG...                      MuralCells   \n",
       "BHF_F_Hea13188319_BHF_F_Hea13187621_CGTTTCTCATG...     BloodVesselEndothelialCells   \n",
       "BHF_F_Hea13188319_BHF_F_Hea13187621_GATCACTAGCA...                PericardialCells   \n",
       "BHF_F_Hea13188319_BHF_F_Hea13187621_AGCGCTCAGGA...       LymphaticEndothelialCells   \n",
       "BHF_F_Hea13188319_BHF_F_Hea13187621_AGGTCCGGTTA...       LymphaticEndothelialCells   \n",
       "...                                                                            ...   \n",
       "BHF_F_Hea13188327_BHF_F_Hea13187629_AGGTTTATCAA...                     Fibroblasts   \n",
       "BHF_F_Hea13188327_BHF_F_Hea13187629_CGATTTGCAGC...         CardiacConductionSystem   \n",
       "BHF_F_Hea13188327_BHF_F_Hea13187629_TGCCGGTAGGA...       VentricularCardiomyocytes   \n",
       "BHF_F_Hea13188327_BHF_F_Hea13187629_TGATGATGTTT...       VentricularCardiomyocytes   \n",
       "BHF_F_Hea13188327_BHF_F_Hea13187629_TTATCCTAGTA...                EndocardialCells   \n",
       "\n",
       "                                                   mid_CellTypist_over_clustering  \\\n",
       "barcode                                                                             \n",
       "BHF_F_Hea13188319_BHF_F_Hea13187621_TAAGGACCATG...                            176   \n",
       "BHF_F_Hea13188319_BHF_F_Hea13187621_CGTTTCTCATG...                            176   \n",
       "BHF_F_Hea13188319_BHF_F_Hea13187621_GATCACTAGCA...                            118   \n",
       "BHF_F_Hea13188319_BHF_F_Hea13187621_AGCGCTCAGGA...                             27   \n",
       "BHF_F_Hea13188319_BHF_F_Hea13187621_AGGTCCGGTTA...                             27   \n",
       "...                                                                           ...   \n",
       "BHF_F_Hea13188327_BHF_F_Hea13187629_AGGTTTATCAA...                             34   \n",
       "BHF_F_Hea13188327_BHF_F_Hea13187629_CGATTTGCAGC...                            245   \n",
       "BHF_F_Hea13188327_BHF_F_Hea13187629_TGCCGGTAGGA...                            213   \n",
       "BHF_F_Hea13188327_BHF_F_Hea13187629_TGATGATGTTT...                            212   \n",
       "BHF_F_Hea13188327_BHF_F_Hea13187629_TTATCCTAGTA...                            134   \n",
       "\n",
       "                                                   mid_CellTypist_majority_voting  \\\n",
       "barcode                                                                             \n",
       "BHF_F_Hea13188319_BHF_F_Hea13187621_TAAGGACCATG...    BloodVesselEndothelialCells   \n",
       "BHF_F_Hea13188319_BHF_F_Hea13187621_CGTTTCTCATG...    BloodVesselEndothelialCells   \n",
       "BHF_F_Hea13188319_BHF_F_Hea13187621_GATCACTAGCA...               PericardialCells   \n",
       "BHF_F_Hea13188319_BHF_F_Hea13187621_AGCGCTCAGGA...      LymphaticEndothelialCells   \n",
       "BHF_F_Hea13188319_BHF_F_Hea13187621_AGGTCCGGTTA...      LymphaticEndothelialCells   \n",
       "...                                                                           ...   \n",
       "BHF_F_Hea13188327_BHF_F_Hea13187629_AGGTTTATCAA...                    Fibroblasts   \n",
       "BHF_F_Hea13188327_BHF_F_Hea13187629_CGATTTGCAGC...        CardiacConductionSystem   \n",
       "BHF_F_Hea13188327_BHF_F_Hea13187629_TGCCGGTAGGA...      VentricularCardiomyocytes   \n",
       "BHF_F_Hea13188327_BHF_F_Hea13187629_TGATGATGTTT...      VentricularCardiomyocytes   \n",
       "BHF_F_Hea13188327_BHF_F_Hea13187629_TTATCCTAGTA...               EndocardialCells   \n",
       "\n",
       "                                                    mid_CellTypist_conf_score  \\\n",
       "barcode                                                                         \n",
       "BHF_F_Hea13188319_BHF_F_Hea13187621_TAAGGACCATG...                   0.402490   \n",
       "BHF_F_Hea13188319_BHF_F_Hea13187621_CGTTTCTCATG...                   0.993314   \n",
       "BHF_F_Hea13188319_BHF_F_Hea13187621_GATCACTAGCA...                   0.817508   \n",
       "BHF_F_Hea13188319_BHF_F_Hea13187621_AGCGCTCAGGA...                   0.952143   \n",
       "BHF_F_Hea13188319_BHF_F_Hea13187621_AGGTCCGGTTA...                   0.351521   \n",
       "...                                                                       ...   \n",
       "BHF_F_Hea13188327_BHF_F_Hea13187629_AGGTTTATCAA...                   0.999968   \n",
       "BHF_F_Hea13188327_BHF_F_Hea13187629_CGATTTGCAGC...                   0.022795   \n",
       "BHF_F_Hea13188327_BHF_F_Hea13187629_TGCCGGTAGGA...                   0.959690   \n",
       "BHF_F_Hea13188327_BHF_F_Hea13187629_TGATGATGTTT...                   0.446339   \n",
       "BHF_F_Hea13188327_BHF_F_Hea13187629_TTATCCTAGTA...                   0.726080   \n",
       "\n",
       "                                                   coarse_CellTypist_predicted_labels  \\\n",
       "barcode                                                                                 \n",
       "BHF_F_Hea13188319_BHF_F_Hea13187621_TAAGGACCATG...                        Mesenchymal   \n",
       "BHF_F_Hea13188319_BHF_F_Hea13187621_CGTTTCTCATG...                        Endothelium   \n",
       "BHF_F_Hea13188319_BHF_F_Hea13187621_GATCACTAGCA...                        Mesenchymal   \n",
       "BHF_F_Hea13188319_BHF_F_Hea13187621_AGCGCTCAGGA...                        Endothelium   \n",
       "BHF_F_Hea13188319_BHF_F_Hea13187621_AGGTCCGGTTA...                        Endothelium   \n",
       "...                                                                               ...   \n",
       "BHF_F_Hea13188327_BHF_F_Hea13187629_AGGTTTATCAA...                        Mesenchymal   \n",
       "BHF_F_Hea13188327_BHF_F_Hea13187629_CGATTTGCAGC...                     Cardiomyocytes   \n",
       "BHF_F_Hea13188327_BHF_F_Hea13187629_TGCCGGTAGGA...                     Cardiomyocytes   \n",
       "BHF_F_Hea13188327_BHF_F_Hea13187629_TGATGATGTTT...                     Cardiomyocytes   \n",
       "BHF_F_Hea13188327_BHF_F_Hea13187629_TTATCCTAGTA...                        Endothelium   \n",
       "\n",
       "                                                   coarse_CellTypist_over_clustering  \\\n",
       "barcode                                                                                \n",
       "BHF_F_Hea13188319_BHF_F_Hea13187621_TAAGGACCATG...                               176   \n",
       "BHF_F_Hea13188319_BHF_F_Hea13187621_CGTTTCTCATG...                               176   \n",
       "BHF_F_Hea13188319_BHF_F_Hea13187621_GATCACTAGCA...                               118   \n",
       "BHF_F_Hea13188319_BHF_F_Hea13187621_AGCGCTCAGGA...                                27   \n",
       "BHF_F_Hea13188319_BHF_F_Hea13187621_AGGTCCGGTTA...                                27   \n",
       "...                                                                              ...   \n",
       "BHF_F_Hea13188327_BHF_F_Hea13187629_AGGTTTATCAA...                                34   \n",
       "BHF_F_Hea13188327_BHF_F_Hea13187629_CGATTTGCAGC...                               245   \n",
       "BHF_F_Hea13188327_BHF_F_Hea13187629_TGCCGGTAGGA...                               213   \n",
       "BHF_F_Hea13188327_BHF_F_Hea13187629_TGATGATGTTT...                               212   \n",
       "BHF_F_Hea13188327_BHF_F_Hea13187629_TTATCCTAGTA...                               134   \n",
       "\n",
       "                                                   coarse_CellTypist_majority_voting  \\\n",
       "barcode                                                                                \n",
       "BHF_F_Hea13188319_BHF_F_Hea13187621_TAAGGACCATG...                       Endothelium   \n",
       "BHF_F_Hea13188319_BHF_F_Hea13187621_CGTTTCTCATG...                       Endothelium   \n",
       "BHF_F_Hea13188319_BHF_F_Hea13187621_GATCACTAGCA...                       Mesenchymal   \n",
       "BHF_F_Hea13188319_BHF_F_Hea13187621_AGCGCTCAGGA...                       Endothelium   \n",
       "BHF_F_Hea13188319_BHF_F_Hea13187621_AGGTCCGGTTA...                       Endothelium   \n",
       "...                                                                              ...   \n",
       "BHF_F_Hea13188327_BHF_F_Hea13187629_AGGTTTATCAA...                       Mesenchymal   \n",
       "BHF_F_Hea13188327_BHF_F_Hea13187629_CGATTTGCAGC...                    Cardiomyocytes   \n",
       "BHF_F_Hea13188327_BHF_F_Hea13187629_TGCCGGTAGGA...                    Cardiomyocytes   \n",
       "BHF_F_Hea13188327_BHF_F_Hea13187629_TGATGATGTTT...                    Cardiomyocytes   \n",
       "BHF_F_Hea13188327_BHF_F_Hea13187629_TTATCCTAGTA...                       Endothelium   \n",
       "\n",
       "                                                    coarse_CellTypist_conf_score  \n",
       "barcode                                                                           \n",
       "BHF_F_Hea13188319_BHF_F_Hea13187621_TAAGGACCATG...                      0.929917  \n",
       "BHF_F_Hea13188319_BHF_F_Hea13187621_CGTTTCTCATG...                      0.970691  \n",
       "BHF_F_Hea13188319_BHF_F_Hea13187621_GATCACTAGCA...                      0.999997  \n",
       "BHF_F_Hea13188319_BHF_F_Hea13187621_AGCGCTCAGGA...                      0.989049  \n",
       "BHF_F_Hea13188319_BHF_F_Hea13187621_AGGTCCGGTTA...                      0.905470  \n",
       "...                                                                          ...  \n",
       "BHF_F_Hea13188327_BHF_F_Hea13187629_AGGTTTATCAA...                      0.999960  \n",
       "BHF_F_Hea13188327_BHF_F_Hea13187629_CGATTTGCAGC...                      0.995044  \n",
       "BHF_F_Hea13188327_BHF_F_Hea13187629_TGCCGGTAGGA...                      0.999810  \n",
       "BHF_F_Hea13188327_BHF_F_Hea13187629_TGATGATGTTT...                      0.999071  \n",
       "BHF_F_Hea13188327_BHF_F_Hea13187629_TTATCCTAGTA...                      0.995012  \n",
       "\n",
       "[76358 rows x 12 columns]"
      ]
     },
     "execution_count": 8,
     "metadata": {},
     "output_type": "execute_result"
    }
   ],
   "source": [
    "saved_models = os.listdir(os.path.join(data_dir, 'CellTypistModels'))\n",
    "\n",
    "annotation_levels = ['fine', 'mid', 'coarse']\n",
    "\n",
    "list_of_prediction_dfs=[]\n",
    "\n",
    "for annotation_level in annotation_levels:\n",
    "\n",
    "        # Read in models (pre-generated)    \n",
    "        saved_model = [m for m in saved_models if annotation_level in m][0]\n",
    "        model_file_path = os.path.join(data_dir, 'CellTypistModels', saved_model)\n",
    "        \n",
    "        # CellTypist prediction\n",
    "        t_start = time.time()\n",
    "        predictions = celltypist.annotate(adata, model = model_file_path, majority_voting = True)\n",
    "        t_end = time.time()\n",
    "\n",
    "        # Collate predictions\n",
    "        list_of_prediction_dfs.append(predictions.to_adata(prefix=annotation_level+'_CellTypist_').obs.iloc[:,-4:])\n",
    "        print(f\"{annotation_level} completed in : {t_end - t_start} seconds\")\n",
    "\n",
    "predictions_df=pd.concat(list_of_prediction_dfs, axis=1)\n",
    "predictions_df"
   ]
  },
  {
   "cell_type": "markdown",
   "id": "collect-saturn",
   "metadata": {
    "id": "collect-saturn"
   },
   "source": [
    "By default (`majority_voting = False`), CellTypist will infer the identity of each query cell independently. This leads to raw predicted cell type labels, and usually finishes within seconds. You can also turn on the majority-voting classifier (`majority_voting = True`), which refines cell identities within local subclusters after an over-clustering approach at the cost of increased runtime."
   ]
  },
  {
   "cell_type": "markdown",
   "id": "cbcbf44d-1261-4e72-8255-a4fbf7a851c5",
   "metadata": {
    "id": "concerned-cache"
   },
   "source": [
    "The results include both predicted cell type labels (`predicted_labels`), over-clustering result (`over_clustering`), and predicted labels after majority voting in local subclusters (`majority_voting`). Note in the `predicted_labels`, each query cell gets its inferred label by choosing the most probable cell type among all possible cell types in the given model."
   ]
  },
  {
   "cell_type": "code",
   "execution_count": 9,
   "id": "48386938-2cec-430c-8be3-26a534807353",
   "metadata": {},
   "outputs": [],
   "source": [
    "#save\n",
    "file_path=os.path.join(results_dir,dataset+'_predictions_df.csv')\n",
    "predictions_df.to_csv(file_path)"
   ]
  },
  {
   "cell_type": "code",
   "execution_count": null,
   "id": "c8125dbc-3929-4f77-8b74-242f57029107",
   "metadata": {},
   "outputs": [],
   "source": []
  }
 ],
 "metadata": {
  "colab": {
   "provenance": []
  },
  "kernelspec": {
   "display_name": "scanpy_env",
   "language": "python",
   "name": "scanpy_env"
  },
  "language_info": {
   "codemirror_mode": {
    "name": "ipython",
    "version": 3
   },
   "file_extension": ".py",
   "mimetype": "text/x-python",
   "name": "python",
   "nbconvert_exporter": "python",
   "pygments_lexer": "ipython3",
   "version": "3.9.16"
  }
 },
 "nbformat": 4,
 "nbformat_minor": 5
}
