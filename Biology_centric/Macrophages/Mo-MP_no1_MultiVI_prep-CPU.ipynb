{
 "cells": [
  {
   "cell_type": "code",
   "execution_count": 1,
   "id": "separate-package",
   "metadata": {},
   "outputs": [],
   "source": [
    "import scanpy as sc\n",
    "import pandas as pd\n",
    "import numpy as np\n",
    "import anndata\n",
    "import scipy\n",
    "\n",
    "from scipy.io import mmwrite, mmread\n",
    "from scipy.sparse import csr_matrix\n",
    "\n",
    "import sctk"
   ]
  },
  {
   "cell_type": "code",
   "execution_count": 2,
   "id": "fossil-entertainment",
   "metadata": {},
   "outputs": [
    {
     "data": {
      "text/html": [
       "<details>\n",
       "<summary>Click to view session information</summary>\n",
       "<pre>\n",
       "-----\n",
       "anndata             0.8.0\n",
       "numpy               1.21.5\n",
       "pandas              1.3.5\n",
       "scanpy              1.8.2\n",
       "scipy               1.7.3\n",
       "sctk                NA\n",
       "session_info        1.0.0\n",
       "-----\n",
       "</pre>\n",
       "<details>\n",
       "<summary>Click to view modules imported as dependencies</summary>\n",
       "<pre>\n",
       "PIL                 9.1.1\n",
       "asciitree           NA\n",
       "backcall            0.2.0\n",
       "beta_ufunc          NA\n",
       "binom_ufunc         NA\n",
       "cached_property     1.5.1\n",
       "cairo               1.20.0\n",
       "cffi                1.14.4\n",
       "cloudpickle         1.6.0\n",
       "colorama            0.4.4\n",
       "cycler              0.10.0\n",
       "cython_runtime      NA\n",
       "cytoolz             0.11.2\n",
       "dask                2022.01.0\n",
       "dateutil            2.8.1\n",
       "decorator           4.4.2\n",
       "defusedxml          0.6.0\n",
       "fasteners           0.17.3\n",
       "fsspec              2022.01.0\n",
       "google              NA\n",
       "h5py                3.1.0\n",
       "igraph              0.10.2\n",
       "importlib_metadata  1.7.0\n",
       "ipykernel           5.4.2\n",
       "ipython_genutils    0.2.0\n",
       "ipywidgets          7.6.3\n",
       "jedi                0.17.2\n",
       "jinja2              3.1.2\n",
       "joblib              1.0.0\n",
       "kiwisolver          1.3.1\n",
       "leidenalg           0.9.0\n",
       "llvmlite            0.35.0\n",
       "louvain             0.7.0\n",
       "markupsafe          2.1.1\n",
       "matplotlib          3.5.2\n",
       "mpl_toolkits        NA\n",
       "msgpack             1.0.3\n",
       "natsort             7.1.0\n",
       "nbinom_ufunc        NA\n",
       "numba               0.52.0\n",
       "numcodecs           0.9.1\n",
       "numexpr             2.7.2\n",
       "numpy_groupies      0.9.13\n",
       "packaging           21.3\n",
       "parso               0.7.1\n",
       "pexpect             4.8.0\n",
       "pickleshare         0.7.5\n",
       "pkg_resources       NA\n",
       "plotly              5.10.0\n",
       "prompt_toolkit      3.0.10\n",
       "psutil              5.9.0\n",
       "ptyprocess          0.7.0\n",
       "pyarrow             9.0.0\n",
       "pygments            2.13.0\n",
       "pyparsing           2.4.7\n",
       "pytz                2020.5\n",
       "scvelo              0.2.4\n",
       "seaborn             0.11.1\n",
       "setuptools_scm      NA\n",
       "sinfo               0.3.1\n",
       "six                 1.14.0\n",
       "sklearn             1.0.2\n",
       "sphinxcontrib       NA\n",
       "statsmodels         0.12.1\n",
       "storemagic          NA\n",
       "tables              3.6.1\n",
       "tblib               1.7.0\n",
       "texttable           1.6.3\n",
       "threadpoolctl       2.1.0\n",
       "tlz                 0.11.2\n",
       "toolz               0.11.2\n",
       "tornado             6.1\n",
       "traitlets           5.0.5\n",
       "typing_extensions   NA\n",
       "wcwidth             0.2.5\n",
       "yaml                5.4.1\n",
       "zarr                2.11.3\n",
       "zipp                NA\n",
       "zmq                 21.0.1\n",
       "zope                NA\n",
       "</pre>\n",
       "</details> <!-- seems like this ends pre, so might as well be explicit -->\n",
       "<pre>\n",
       "-----\n",
       "IPython             7.19.0\n",
       "jupyter_client      6.1.11\n",
       "jupyter_core        4.7.0\n",
       "notebook            6.2.0\n",
       "-----\n",
       "Python 3.7.9 | packaged by conda-forge | (default, Dec  9 2020, 21:08:20) [GCC 9.3.0]\n",
       "Linux-4.15.0-158-generic-x86_64-with-debian-bullseye-sid\n",
       "-----\n",
       "Session information updated at 2023-03-15 10:59\n",
       "</pre>\n",
       "</details>"
      ],
      "text/plain": [
       "<IPython.core.display.HTML object>"
      ]
     },
     "execution_count": 2,
     "metadata": {},
     "output_type": "execute_result"
    }
   ],
   "source": [
    "import session_info\n",
    "session_info.show()"
   ]
  },
  {
   "cell_type": "code",
   "execution_count": 13,
   "id": "dutch-longitude",
   "metadata": {},
   "outputs": [],
   "source": [
    "sc.settings.set_figure_params(dpi=120)"
   ]
  },
  {
   "cell_type": "markdown",
   "id": "broad-asian",
   "metadata": {},
   "source": [
    "# Variables"
   ]
  },
  {
   "cell_type": "code",
   "execution_count": 7,
   "id": "spoken-shopper",
   "metadata": {},
   "outputs": [],
   "source": [
    "cells_to_analyse = ['MonocytesMPOpos', \n",
    "                        'Monocytes', \n",
    "                        'MonocyteDerivedCells',\n",
    "                        'MacrophagesCX3CR1pos', \n",
    "                        'MacrophagesTIMD4pos', \n",
    "                        'MacrophagesLYVE1pos',\n",
    "                        'MacrophagesATF3pos'\n",
    "                   ]\n",
    "\n",
    "celltype_key = 'fine_grain'\n",
    "\n",
    "region_to_analyse = ['whole sample']"
   ]
  },
  {
   "cell_type": "code",
   "execution_count": null,
   "id": "wicked-graphics",
   "metadata": {},
   "outputs": [],
   "source": []
  },
  {
   "cell_type": "markdown",
   "id": "veterinary-helping",
   "metadata": {},
   "source": [
    "# Read in"
   ]
  },
  {
   "cell_type": "code",
   "execution_count": 10,
   "id": "progressive-humanitarian",
   "metadata": {},
   "outputs": [
    {
     "name": "stdout",
     "output_type": "stream",
     "text": [
      "14Feb_fromSemih\t\t      metadata\n",
      "archive\t\t\t      multiome_ATAC\n",
      "Feb28ObjectRaw.h5ad\t      QC\n",
      "Feb28ObjectRaw_Multiome.h5ad  RNA_foetal_post-scVI_raw.h5ad\n",
      "Feb28ObjectRaw_Multiome.rds   RNA_foetal_raw.h5ad\n",
      "Feb28ObjectRaw.obs.csv\t      scVI\n",
      "Feb28ObjectRaw_original.h5ad  visium_foetal_raw.h5ad\n",
      "Immune\n"
     ]
    }
   ],
   "source": [
    "!ls /nfs/team205/heart/anndata_objects/Foetal"
   ]
  },
  {
   "cell_type": "code",
   "execution_count": 22,
   "id": "south-officer",
   "metadata": {},
   "outputs": [
    {
     "name": "stdout",
     "output_type": "stream",
     "text": [
      "GreatVesselAdventitialFibroblasts        61593\n",
      "GreatVesselSmoothMuscleCells             22992\n",
      "VentricularCardiomyocytesRightCompact    16215\n",
      "VentricularCardiomyocytesLeftCompact     15591\n",
      "MyocardialInterstitialFibroblasts1       13880\n",
      "                                         ...  \n",
      "MacrophagesTIMD4pos                        470\n",
      "MonocytesMPOpos                            414\n",
      "Megakaryocytes                             360\n",
      "ChromaffinCells                            228\n",
      "DendriticCellsMature                       184\n",
      "Name: fine_grain, Length: 63, dtype: int64\n"
     ]
    },
    {
     "data": {
      "text/plain": [
       "AnnData object with n_obs × n_vars = 7905 × 36601\n",
       "    obs: 'latent_RT_efficiency', 'latent_cell_probability', 'latent_scale', 'sangerID', 'combinedID', 'donor', 'region', 'age', 'facility', 'cell_or_nuclei', 'modality', 'kit_10x', 'scrublet_score', 'doublet_pval', 'doublet_bh_pval', 'n_genes', 'n_counts', 'n_genes_by_counts', 'log1p_n_genes_by_counts', 'total_counts', 'log1p_total_counts', 'total_counts_mt', 'log1p_total_counts_mt', 'pct_counts_mt', 'total_counts_ribo', 'log1p_total_counts_ribo', 'pct_counts_ribo', 'HB_score', 'donor_by_library-prep', 'multiplexed', 'SOC | status', 'SOC | log_prob_singleton', 'SOC | log_prob_doublet', 'batch_key', '_scvi_batch', 'FACSgate', 'fine_grain', 'mid_grain', 'coarse_grain', 'sex', 'week', 'trimester', 'heart_or_greatvessels', 'cycling', 'S_score', 'G2M_score', 'phase', '_scvi_labels', 'stress_score', 'hb1_score'\n",
       "    var: 'gene_name_scRNA-0', 'gene_id', 'modality'\n",
       "    uns: 'FACSgate_colors', '_scvi_manager_uuid', '_scvi_uuid', 'age_colors', 'cell_or_nuclei_colors', 'coarse_grain_colors', 'cycling_colors', 'donor_colors', 'fine_grain_colors', 'heart_or_greatvessels_colors', 'hvg', 'kit_10x_colors', 'modality_colors', 'neighbors', 'phase_colors', 'region_colors', 'sex_colors', 'trimester_colors', 'umap', 'week_colors'\n",
       "    obsm: 'X_scVI', 'X_umap', '_scvi_extra_categorical_covs', '_scvi_extra_continuous', '_scvi_extra_continuous_covs', 'latent_gene_encoding'\n",
       "    obsp: 'connectivities', 'distances'"
      ]
     },
     "execution_count": 22,
     "metadata": {},
     "output_type": "execute_result"
    }
   ],
   "source": [
    "# rna\n",
    "adata_rna = sc.read_h5ad('/nfs/team205/heart/anndata_objects/Foetal/Feb28ObjectRaw.h5ad')\n",
    "print(adata_rna.obs[celltype_key].value_counts())\n",
    "\n",
    "# subset cells\n",
    "adata_rna = adata_rna[adata_rna.obs[celltype_key].isin(cells_to_analyse)]\n",
    "\n",
    "# subset regions\n",
    "adata_rna = adata_rna[adata_rna.obs['region'].isin(region_to_analyse)]\n",
    "\n",
    "# add modality to .var\n",
    "adata_rna.var['modality']='Gene Expression'\n",
    "\n",
    "adata_rna"
   ]
  },
  {
   "cell_type": "code",
   "execution_count": 23,
   "id": "refined-officer",
   "metadata": {},
   "outputs": [
    {
     "data": {
      "text/html": [
       "<div>\n",
       "<style scoped>\n",
       "    .dataframe tbody tr th:only-of-type {\n",
       "        vertical-align: middle;\n",
       "    }\n",
       "\n",
       "    .dataframe tbody tr th {\n",
       "        vertical-align: top;\n",
       "    }\n",
       "\n",
       "    .dataframe thead th {\n",
       "        text-align: right;\n",
       "    }\n",
       "</style>\n",
       "<table border=\"1\" class=\"dataframe\">\n",
       "  <thead>\n",
       "    <tr style=\"text-align: right;\">\n",
       "      <th>region</th>\n",
       "      <th>whole sample</th>\n",
       "    </tr>\n",
       "    <tr>\n",
       "      <th>fine_grain</th>\n",
       "      <th></th>\n",
       "    </tr>\n",
       "  </thead>\n",
       "  <tbody>\n",
       "    <tr>\n",
       "      <th>MonocytesMPOpos</th>\n",
       "      <td>204</td>\n",
       "    </tr>\n",
       "    <tr>\n",
       "      <th>Monocytes</th>\n",
       "      <td>498</td>\n",
       "    </tr>\n",
       "    <tr>\n",
       "      <th>MonocyteDerivedCells</th>\n",
       "      <td>207</td>\n",
       "    </tr>\n",
       "    <tr>\n",
       "      <th>MacrophagesCX3CR1pos</th>\n",
       "      <td>835</td>\n",
       "    </tr>\n",
       "    <tr>\n",
       "      <th>MacrophagesTIMD4pos</th>\n",
       "      <td>116</td>\n",
       "    </tr>\n",
       "    <tr>\n",
       "      <th>MacrophagesLYVE1pos</th>\n",
       "      <td>5117</td>\n",
       "    </tr>\n",
       "    <tr>\n",
       "      <th>MacrophagesATF3pos</th>\n",
       "      <td>928</td>\n",
       "    </tr>\n",
       "  </tbody>\n",
       "</table>\n",
       "</div>"
      ],
      "text/plain": [
       "region                whole sample\n",
       "fine_grain                        \n",
       "MonocytesMPOpos                204\n",
       "Monocytes                      498\n",
       "MonocyteDerivedCells           207\n",
       "MacrophagesCX3CR1pos           835\n",
       "MacrophagesTIMD4pos            116\n",
       "MacrophagesLYVE1pos           5117\n",
       "MacrophagesATF3pos             928"
      ]
     },
     "execution_count": 23,
     "metadata": {},
     "output_type": "execute_result"
    }
   ],
   "source": [
    "pd.crosstab(adata_rna.obs[celltype_key],adata_rna.obs['region'])"
   ]
  },
  {
   "cell_type": "code",
   "execution_count": 24,
   "id": "behavioral-obligation",
   "metadata": {},
   "outputs": [
    {
     "data": {
      "text/html": [
       "<div>\n",
       "<style scoped>\n",
       "    .dataframe tbody tr th:only-of-type {\n",
       "        vertical-align: middle;\n",
       "    }\n",
       "\n",
       "    .dataframe tbody tr th {\n",
       "        vertical-align: top;\n",
       "    }\n",
       "\n",
       "    .dataframe thead th {\n",
       "        text-align: right;\n",
       "    }\n",
       "</style>\n",
       "<table border=\"1\" class=\"dataframe\">\n",
       "  <thead>\n",
       "    <tr style=\"text-align: right;\">\n",
       "      <th>kit_10x</th>\n",
       "      <th>5prime-v2</th>\n",
       "      <th>Multiome-v1</th>\n",
       "    </tr>\n",
       "    <tr>\n",
       "      <th>fine_grain</th>\n",
       "      <th></th>\n",
       "      <th></th>\n",
       "    </tr>\n",
       "  </thead>\n",
       "  <tbody>\n",
       "    <tr>\n",
       "      <th>MonocytesMPOpos</th>\n",
       "      <td>201</td>\n",
       "      <td>3</td>\n",
       "    </tr>\n",
       "    <tr>\n",
       "      <th>Monocytes</th>\n",
       "      <td>468</td>\n",
       "      <td>30</td>\n",
       "    </tr>\n",
       "    <tr>\n",
       "      <th>MonocyteDerivedCells</th>\n",
       "      <td>137</td>\n",
       "      <td>70</td>\n",
       "    </tr>\n",
       "    <tr>\n",
       "      <th>MacrophagesCX3CR1pos</th>\n",
       "      <td>695</td>\n",
       "      <td>140</td>\n",
       "    </tr>\n",
       "    <tr>\n",
       "      <th>MacrophagesTIMD4pos</th>\n",
       "      <td>79</td>\n",
       "      <td>37</td>\n",
       "    </tr>\n",
       "    <tr>\n",
       "      <th>MacrophagesLYVE1pos</th>\n",
       "      <td>3556</td>\n",
       "      <td>1561</td>\n",
       "    </tr>\n",
       "    <tr>\n",
       "      <th>MacrophagesATF3pos</th>\n",
       "      <td>639</td>\n",
       "      <td>289</td>\n",
       "    </tr>\n",
       "  </tbody>\n",
       "</table>\n",
       "</div>"
      ],
      "text/plain": [
       "kit_10x               5prime-v2  Multiome-v1\n",
       "fine_grain                                  \n",
       "MonocytesMPOpos             201            3\n",
       "Monocytes                   468           30\n",
       "MonocyteDerivedCells        137           70\n",
       "MacrophagesCX3CR1pos        695          140\n",
       "MacrophagesTIMD4pos          79           37\n",
       "MacrophagesLYVE1pos        3556         1561\n",
       "MacrophagesATF3pos          639          289"
      ]
     },
     "execution_count": 24,
     "metadata": {},
     "output_type": "execute_result"
    }
   ],
   "source": [
    "pd.crosstab(adata_rna.obs[celltype_key],adata_rna.obs['kit_10x'])"
   ]
  },
  {
   "cell_type": "code",
   "execution_count": 25,
   "id": "french-puzzle",
   "metadata": {},
   "outputs": [
    {
     "data": {
      "text/html": [
       "<div>\n",
       "<style scoped>\n",
       "    .dataframe tbody tr th:only-of-type {\n",
       "        vertical-align: middle;\n",
       "    }\n",
       "\n",
       "    .dataframe tbody tr th {\n",
       "        vertical-align: top;\n",
       "    }\n",
       "\n",
       "    .dataframe thead th {\n",
       "        text-align: right;\n",
       "    }\n",
       "</style>\n",
       "<table border=\"1\" class=\"dataframe\">\n",
       "  <thead>\n",
       "    <tr style=\"text-align: right;\">\n",
       "      <th>cycling</th>\n",
       "      <th>no</th>\n",
       "      <th>yes</th>\n",
       "    </tr>\n",
       "    <tr>\n",
       "      <th>fine_grain</th>\n",
       "      <th></th>\n",
       "      <th></th>\n",
       "    </tr>\n",
       "  </thead>\n",
       "  <tbody>\n",
       "    <tr>\n",
       "      <th>MonocytesMPOpos</th>\n",
       "      <td>21</td>\n",
       "      <td>183</td>\n",
       "    </tr>\n",
       "    <tr>\n",
       "      <th>Monocytes</th>\n",
       "      <td>431</td>\n",
       "      <td>67</td>\n",
       "    </tr>\n",
       "    <tr>\n",
       "      <th>MonocyteDerivedCells</th>\n",
       "      <td>179</td>\n",
       "      <td>28</td>\n",
       "    </tr>\n",
       "    <tr>\n",
       "      <th>MacrophagesCX3CR1pos</th>\n",
       "      <td>644</td>\n",
       "      <td>191</td>\n",
       "    </tr>\n",
       "    <tr>\n",
       "      <th>MacrophagesTIMD4pos</th>\n",
       "      <td>108</td>\n",
       "      <td>8</td>\n",
       "    </tr>\n",
       "    <tr>\n",
       "      <th>MacrophagesLYVE1pos</th>\n",
       "      <td>4145</td>\n",
       "      <td>972</td>\n",
       "    </tr>\n",
       "    <tr>\n",
       "      <th>MacrophagesATF3pos</th>\n",
       "      <td>857</td>\n",
       "      <td>71</td>\n",
       "    </tr>\n",
       "  </tbody>\n",
       "</table>\n",
       "</div>"
      ],
      "text/plain": [
       "cycling                 no  yes\n",
       "fine_grain                     \n",
       "MonocytesMPOpos         21  183\n",
       "Monocytes              431   67\n",
       "MonocyteDerivedCells   179   28\n",
       "MacrophagesCX3CR1pos   644  191\n",
       "MacrophagesTIMD4pos    108    8\n",
       "MacrophagesLYVE1pos   4145  972\n",
       "MacrophagesATF3pos     857   71"
      ]
     },
     "execution_count": 25,
     "metadata": {},
     "output_type": "execute_result"
    }
   ],
   "source": [
    "pd.crosstab(adata_rna.obs[celltype_key],adata_rna.obs['cycling'])"
   ]
  },
  {
   "cell_type": "code",
   "execution_count": 26,
   "id": "absolute-nigeria",
   "metadata": {},
   "outputs": [
    {
     "data": {
      "text/plain": [
       "5prime-v2      5775\n",
       "Multiome-v1    2130\n",
       "Name: kit_10x, dtype: int64"
      ]
     },
     "execution_count": 26,
     "metadata": {},
     "output_type": "execute_result"
    }
   ],
   "source": [
    "adata_rna.obs['kit_10x'].value_counts()"
   ]
  },
  {
   "cell_type": "code",
   "execution_count": 16,
   "id": "passing-opposition",
   "metadata": {},
   "outputs": [
    {
     "name": "stdout",
     "output_type": "stream",
     "text": [
      "MacrophagesLYVE1pos     4157\n",
      "MacrophagesATF3pos       611\n",
      "MacrophagesCX3CR1pos     551\n",
      "MonocyteDerivedCells     386\n",
      "MacrophagesTIMD4pos      303\n",
      "Monocytes                117\n",
      "MonocytesMPOpos           34\n",
      "Name: fine_grain, dtype: int64\n"
     ]
    },
    {
     "data": {
      "text/plain": [
       "AnnData object with n_obs × n_vars = 1899 × 508040\n",
       "    obs: 'sangerID', 'combinedID', 'donor', 'facility', 'cell_or_nuclei', 'modality', 'kit_10x', 'scrublet_score', 'doublet_pval', 'doublet_bh_pval', 'n_genes', 'n_counts', 'n_genes_by_counts', 'log1p_n_genes_by_counts', 'total_counts', 'log1p_total_counts', 'total_counts_mt', 'log1p_total_counts_mt', 'pct_counts_mt', 'total_counts_ribo', 'log1p_total_counts_ribo', 'pct_counts_ribo', 'HB_score', 'multiplexed', 'batch_key', 'region', 'FACSgate', 'sex', 'week', 'trimester', 'fine_grain', 'mid_grain', 'coarse_grain', 'heart_or_greatvessels', 'cycling', 'S_score', 'G2M_score', 'phase', 'stress_score', 'hb1_score'\n",
       "    var: 'modality'"
      ]
     },
     "execution_count": 16,
     "metadata": {},
     "output_type": "execute_result"
    }
   ],
   "source": [
    "# atac\n",
    "# ie only Multiome data\n",
    "adata_atac = sc.read_h5ad('/nfs/team205/heart/anndata_objects/Foetal/multiome_ATAC/ArchR/project_output/PeakMatrix/Foetal_Peaks.h5ad')\n",
    "\n",
    "# subset cells\n",
    "adata_atac = adata_atac[adata_atac.obs[celltype_key].isin(cells_to_analyse)]\n",
    "print(adata_atac.obs[celltype_key].value_counts())\n",
    "\n",
    "# subset regions\n",
    "adata_atac = adata_atac[adata_atac.obs['region'].isin(region_to_analyse)]\n",
    "\n",
    "# add modality to .var\n",
    "adata_atac.var['modality']='Peaks'\n",
    "\n",
    "adata_atac"
   ]
  },
  {
   "cell_type": "code",
   "execution_count": 17,
   "id": "shaped-buffer",
   "metadata": {},
   "outputs": [
    {
     "data": {
      "text/html": [
       "<div>\n",
       "<style scoped>\n",
       "    .dataframe tbody tr th:only-of-type {\n",
       "        vertical-align: middle;\n",
       "    }\n",
       "\n",
       "    .dataframe tbody tr th {\n",
       "        vertical-align: top;\n",
       "    }\n",
       "\n",
       "    .dataframe thead th {\n",
       "        text-align: right;\n",
       "    }\n",
       "</style>\n",
       "<table border=\"1\" class=\"dataframe\">\n",
       "  <thead>\n",
       "    <tr style=\"text-align: right;\">\n",
       "      <th>region</th>\n",
       "      <th>whole sample</th>\n",
       "    </tr>\n",
       "    <tr>\n",
       "      <th>fine_grain</th>\n",
       "      <th></th>\n",
       "    </tr>\n",
       "  </thead>\n",
       "  <tbody>\n",
       "    <tr>\n",
       "      <th>MacrophagesATF3pos</th>\n",
       "      <td>259</td>\n",
       "    </tr>\n",
       "    <tr>\n",
       "      <th>MacrophagesCX3CR1pos</th>\n",
       "      <td>131</td>\n",
       "    </tr>\n",
       "    <tr>\n",
       "      <th>MacrophagesLYVE1pos</th>\n",
       "      <td>1383</td>\n",
       "    </tr>\n",
       "    <tr>\n",
       "      <th>MacrophagesTIMD4pos</th>\n",
       "      <td>33</td>\n",
       "    </tr>\n",
       "    <tr>\n",
       "      <th>MonocyteDerivedCells</th>\n",
       "      <td>62</td>\n",
       "    </tr>\n",
       "    <tr>\n",
       "      <th>Monocytes</th>\n",
       "      <td>28</td>\n",
       "    </tr>\n",
       "    <tr>\n",
       "      <th>MonocytesMPOpos</th>\n",
       "      <td>3</td>\n",
       "    </tr>\n",
       "  </tbody>\n",
       "</table>\n",
       "</div>"
      ],
      "text/plain": [
       "region                whole sample\n",
       "fine_grain                        \n",
       "MacrophagesATF3pos             259\n",
       "MacrophagesCX3CR1pos           131\n",
       "MacrophagesLYVE1pos           1383\n",
       "MacrophagesTIMD4pos             33\n",
       "MonocyteDerivedCells            62\n",
       "Monocytes                       28\n",
       "MonocytesMPOpos                  3"
      ]
     },
     "execution_count": 17,
     "metadata": {},
     "output_type": "execute_result"
    }
   ],
   "source": [
    "pd.crosstab(adata_atac.obs[celltype_key],adata_atac.obs['region'])"
   ]
  },
  {
   "cell_type": "code",
   "execution_count": null,
   "id": "south-disorder",
   "metadata": {},
   "outputs": [],
   "source": []
  },
  {
   "cell_type": "markdown",
   "id": "international-marking",
   "metadata": {},
   "source": [
    "# Prepare paired anndata"
   ]
  },
  {
   "cell_type": "code",
   "execution_count": 28,
   "id": "adopted-salmon",
   "metadata": {},
   "outputs": [
    {
     "data": {
      "text/plain": [
       "AnnData object with n_obs × n_vars = 1899 × 544641\n",
       "    obs: 'sangerID', 'combinedID', 'donor', 'facility', 'cell_or_nuclei', 'modality', 'kit_10x', 'scrublet_score', 'doublet_pval', 'doublet_bh_pval', 'n_genes', 'n_counts', 'n_genes_by_counts', 'log1p_n_genes_by_counts', 'total_counts', 'log1p_total_counts', 'total_counts_mt', 'log1p_total_counts_mt', 'pct_counts_mt', 'total_counts_ribo', 'log1p_total_counts_ribo', 'pct_counts_ribo', 'HB_score', 'multiplexed', 'batch_key', 'region', 'FACSgate', 'sex', 'week', 'trimester', 'fine_grain', 'mid_grain', 'coarse_grain', 'heart_or_greatvessels', 'cycling', 'S_score', 'G2M_score', 'phase', 'stress_score', 'hb1_score'\n",
       "    var: 'modality', 'gene_name_scRNA-0', 'gene_id'"
      ]
     },
     "execution_count": 28,
     "metadata": {},
     "output_type": "execute_result"
    }
   ],
   "source": [
    "# shared barcodes, ie Multiome data (not all, since MultiomeRNA has a bit more data than MultiomeATAC)\n",
    "barcodes_inter=list(set(adata_rna.obs_names).intersection(adata_atac.obs_names))\n",
    "len(barcodes_inter)\n",
    "\n",
    "# take shared cells\n",
    "multiome_rna=adata_rna[barcodes_inter,:]\n",
    "multiome_atac=adata_atac[barcodes_inter,:]\n",
    "\n",
    "# concatenate\n",
    "adata_paired=anndata.AnnData(\n",
    "    X=scipy.sparse.hstack([multiome_rna.X,multiome_atac.X]).tocsr(), # concatenate sparse matrix and convert to Compressed Sparse Row format\n",
    "    obs=multiome_rna.obs[['sangerID', 'combinedID', 'donor', \n",
    "                       'facility', 'cell_or_nuclei', 'modality', 'kit_10x', \n",
    "                       'scrublet_score', 'doublet_pval', 'doublet_bh_pval', 'n_genes', 'n_counts',\n",
    "                       'n_genes_by_counts', 'log1p_n_genes_by_counts', 'total_counts',\n",
    "                       'log1p_total_counts', 'total_counts_mt', 'log1p_total_counts_mt',\n",
    "                       'pct_counts_mt', 'total_counts_ribo', 'log1p_total_counts_ribo',\n",
    "                       'pct_counts_ribo', 'HB_score', 'multiplexed',\n",
    "                        'batch_key','region','FACSgate','sex','week','trimester',\n",
    "                     'fine_grain','mid_grain','coarse_grain',\n",
    "                     'heart_or_greatvessels','cycling','S_score','G2M_score','phase','stress_score','hb1_score']],\n",
    "    var=pd.concat([multiome_rna.var[['modality','gene_name_scRNA-0','gene_id']], \\\n",
    "                   multiome_atac.var[['modality']]\n",
    "                  ],axis=0)\n",
    ")\n",
    "adata_paired"
   ]
  },
  {
   "cell_type": "code",
   "execution_count": 29,
   "id": "norman-journalist",
   "metadata": {},
   "outputs": [
    {
     "data": {
      "text/plain": [
       "Multiome    1899\n",
       "Name: modality, dtype: int64"
      ]
     },
     "execution_count": 29,
     "metadata": {},
     "output_type": "execute_result"
    }
   ],
   "source": [
    "# modify modality columns in .obs\n",
    "adata_paired.obs['modality'] = 'Multiome'\n",
    "adata_paired.obs['modality'].value_counts()"
   ]
  },
  {
   "cell_type": "code",
   "execution_count": 31,
   "id": "sharp-academy",
   "metadata": {},
   "outputs": [],
   "source": [
    "# save\n",
    "adata_paired.write('/nfs/team205/heart/anndata_objects/Foetal/Immune/MultiVI-pre_paired_foetal_MoMP_raw.h5ad')"
   ]
  },
  {
   "cell_type": "code",
   "execution_count": null,
   "id": "close-medium",
   "metadata": {},
   "outputs": [],
   "source": [
    "adata_paired.obs.head()"
   ]
  },
  {
   "cell_type": "code",
   "execution_count": null,
   "id": "hawaiian-damages",
   "metadata": {},
   "outputs": [],
   "source": []
  },
  {
   "cell_type": "markdown",
   "id": "alike-happening",
   "metadata": {},
   "source": [
    "# Prepare RNA data"
   ]
  },
  {
   "cell_type": "code",
   "execution_count": 32,
   "id": "deadly-sharing",
   "metadata": {},
   "outputs": [
    {
     "data": {
      "text/plain": [
       "5prime-v2    5775\n",
       "Name: kit_10x, dtype: int64"
      ]
     },
     "execution_count": 32,
     "metadata": {},
     "output_type": "execute_result"
    }
   ],
   "source": [
    "# select single-cell data (3p and 5p)\n",
    "adata_scrna = adata_rna[adata_rna.obs['kit_10x'].isin(['3prime-v3','5prime-v2'])]\n",
    "adata_scrna.obs['kit_10x'].value_counts()"
   ]
  },
  {
   "cell_type": "code",
   "execution_count": 33,
   "id": "planned-conflict",
   "metadata": {},
   "outputs": [
    {
     "data": {
      "text/plain": [
       "array([1., 5., 1., 2., 1., 3., 1., 1., 2., 1.], dtype=float32)"
      ]
     },
     "execution_count": 33,
     "metadata": {},
     "output_type": "execute_result"
    }
   ],
   "source": [
    "adata_scrna.X.data[:10]"
   ]
  },
  {
   "cell_type": "code",
   "execution_count": 34,
   "id": "solved-shelter",
   "metadata": {},
   "outputs": [
    {
     "data": {
      "text/plain": [
       "AnnData object with n_obs × n_vars = 5775 × 36601\n",
       "    obs: 'sangerID', 'combinedID', 'donor', 'facility', 'cell_or_nuclei', 'modality', 'kit_10x', 'scrublet_score', 'doublet_pval', 'doublet_bh_pval', 'n_genes', 'n_counts', 'n_genes_by_counts', 'log1p_n_genes_by_counts', 'total_counts', 'log1p_total_counts', 'total_counts_mt', 'log1p_total_counts_mt', 'pct_counts_mt', 'total_counts_ribo', 'log1p_total_counts_ribo', 'pct_counts_ribo', 'HB_score', 'multiplexed', 'batch_key', 'region', 'FACSgate', 'sex', 'week', 'trimester', 'fine_grain', 'mid_grain', 'coarse_grain', 'heart_or_greatvessels', 'cycling', 'S_score', 'G2M_score', 'phase', 'stress_score', 'hb1_score'\n",
       "    var: 'modality', 'gene_name_scRNA-0', 'gene_id'"
      ]
     },
     "execution_count": 34,
     "metadata": {},
     "output_type": "execute_result"
    }
   ],
   "source": [
    "# recreate anndata\n",
    "adata_scrna=anndata.AnnData(\n",
    "    X=adata_scrna.X, # concatenate sparse matrix and convert to Compressed Sparse Row format\n",
    "    obs=adata_scrna.obs[['sangerID', 'combinedID', 'donor', \n",
    "                       'facility', 'cell_or_nuclei', 'modality', 'kit_10x', \n",
    "                       'scrublet_score', 'doublet_pval', 'doublet_bh_pval', 'n_genes', 'n_counts',\n",
    "                       'n_genes_by_counts', 'log1p_n_genes_by_counts', 'total_counts',\n",
    "                       'log1p_total_counts', 'total_counts_mt', 'log1p_total_counts_mt',\n",
    "                       'pct_counts_mt', 'total_counts_ribo', 'log1p_total_counts_ribo',\n",
    "                       'pct_counts_ribo', 'HB_score', 'multiplexed',\n",
    "                        'batch_key','region','FACSgate','sex','week','trimester',\n",
    "                     'fine_grain','mid_grain','coarse_grain',\n",
    "                     'heart_or_greatvessels','cycling','S_score','G2M_score','phase','stress_score','hb1_score']],\n",
    "    var=adata_scrna.var[['modality','gene_name_scRNA-0','gene_id']]\n",
    ")\n",
    "adata_scrna"
   ]
  },
  {
   "cell_type": "code",
   "execution_count": 35,
   "id": "violent-characteristic",
   "metadata": {},
   "outputs": [
    {
     "data": {
      "text/plain": [
       "scRNA    5775\n",
       "Name: modality, dtype: int64"
      ]
     },
     "execution_count": 35,
     "metadata": {},
     "output_type": "execute_result"
    }
   ],
   "source": [
    "# modify modality columns in .obs\n",
    "adata_scrna.obs['modality'] = 'scRNA'\n",
    "adata_scrna.obs['modality'].value_counts()"
   ]
  },
  {
   "cell_type": "code",
   "execution_count": 36,
   "id": "consecutive-southeast",
   "metadata": {},
   "outputs": [
    {
     "data": {
      "text/html": [
       "<div>\n",
       "<style scoped>\n",
       "    .dataframe tbody tr th:only-of-type {\n",
       "        vertical-align: middle;\n",
       "    }\n",
       "\n",
       "    .dataframe tbody tr th {\n",
       "        vertical-align: top;\n",
       "    }\n",
       "\n",
       "    .dataframe thead th {\n",
       "        text-align: right;\n",
       "    }\n",
       "</style>\n",
       "<table border=\"1\" class=\"dataframe\">\n",
       "  <thead>\n",
       "    <tr style=\"text-align: right;\">\n",
       "      <th></th>\n",
       "      <th>modality</th>\n",
       "      <th>gene_name_scRNA-0</th>\n",
       "      <th>gene_id</th>\n",
       "    </tr>\n",
       "    <tr>\n",
       "      <th>gene_name_multiome-1</th>\n",
       "      <th></th>\n",
       "      <th></th>\n",
       "      <th></th>\n",
       "    </tr>\n",
       "  </thead>\n",
       "  <tbody>\n",
       "    <tr>\n",
       "      <th>MIR1302-2HG</th>\n",
       "      <td>Gene Expression</td>\n",
       "      <td>MIR1302-2HG</td>\n",
       "      <td>ENSG00000243485</td>\n",
       "    </tr>\n",
       "    <tr>\n",
       "      <th>FAM138A</th>\n",
       "      <td>Gene Expression</td>\n",
       "      <td>FAM138A</td>\n",
       "      <td>ENSG00000237613</td>\n",
       "    </tr>\n",
       "    <tr>\n",
       "      <th>OR4F5</th>\n",
       "      <td>Gene Expression</td>\n",
       "      <td>OR4F5</td>\n",
       "      <td>ENSG00000186092</td>\n",
       "    </tr>\n",
       "    <tr>\n",
       "      <th>AL627309.1</th>\n",
       "      <td>Gene Expression</td>\n",
       "      <td>AL627309.1</td>\n",
       "      <td>ENSG00000238009</td>\n",
       "    </tr>\n",
       "    <tr>\n",
       "      <th>AL627309.3</th>\n",
       "      <td>Gene Expression</td>\n",
       "      <td>AL627309.3</td>\n",
       "      <td>ENSG00000239945</td>\n",
       "    </tr>\n",
       "    <tr>\n",
       "      <th>...</th>\n",
       "      <td>...</td>\n",
       "      <td>...</td>\n",
       "      <td>...</td>\n",
       "    </tr>\n",
       "    <tr>\n",
       "      <th>AC141272.1</th>\n",
       "      <td>Gene Expression</td>\n",
       "      <td>AC141272.1</td>\n",
       "      <td>ENSG00000277836</td>\n",
       "    </tr>\n",
       "    <tr>\n",
       "      <th>AC023491.2</th>\n",
       "      <td>Gene Expression</td>\n",
       "      <td>AC023491.2</td>\n",
       "      <td>ENSG00000278633</td>\n",
       "    </tr>\n",
       "    <tr>\n",
       "      <th>AC007325.1</th>\n",
       "      <td>Gene Expression</td>\n",
       "      <td>AC007325.1</td>\n",
       "      <td>ENSG00000276017</td>\n",
       "    </tr>\n",
       "    <tr>\n",
       "      <th>AC007325.4</th>\n",
       "      <td>Gene Expression</td>\n",
       "      <td>AC007325.4</td>\n",
       "      <td>ENSG00000278817</td>\n",
       "    </tr>\n",
       "    <tr>\n",
       "      <th>AC007325.2</th>\n",
       "      <td>Gene Expression</td>\n",
       "      <td>AC007325.2</td>\n",
       "      <td>ENSG00000277196</td>\n",
       "    </tr>\n",
       "  </tbody>\n",
       "</table>\n",
       "<p>36601 rows × 3 columns</p>\n",
       "</div>"
      ],
      "text/plain": [
       "                             modality gene_name_scRNA-0          gene_id\n",
       "gene_name_multiome-1                                                    \n",
       "MIR1302-2HG           Gene Expression       MIR1302-2HG  ENSG00000243485\n",
       "FAM138A               Gene Expression           FAM138A  ENSG00000237613\n",
       "OR4F5                 Gene Expression             OR4F5  ENSG00000186092\n",
       "AL627309.1            Gene Expression        AL627309.1  ENSG00000238009\n",
       "AL627309.3            Gene Expression        AL627309.3  ENSG00000239945\n",
       "...                               ...               ...              ...\n",
       "AC141272.1            Gene Expression        AC141272.1  ENSG00000277836\n",
       "AC023491.2            Gene Expression        AC023491.2  ENSG00000278633\n",
       "AC007325.1            Gene Expression        AC007325.1  ENSG00000276017\n",
       "AC007325.4            Gene Expression        AC007325.4  ENSG00000278817\n",
       "AC007325.2            Gene Expression        AC007325.2  ENSG00000277196\n",
       "\n",
       "[36601 rows x 3 columns]"
      ]
     },
     "execution_count": 36,
     "metadata": {},
     "output_type": "execute_result"
    }
   ],
   "source": [
    "adata_scrna.var"
   ]
  },
  {
   "cell_type": "code",
   "execution_count": 37,
   "id": "north-london",
   "metadata": {},
   "outputs": [],
   "source": [
    "# save\n",
    "adata_scrna.write('/nfs/team205/heart/anndata_objects/Foetal/Immune/MultiVI-pre_scRNA_foetal_MoMP_raw.h5ad')"
   ]
  },
  {
   "cell_type": "code",
   "execution_count": null,
   "id": "cooked-cuisine",
   "metadata": {},
   "outputs": [],
   "source": []
  },
  {
   "cell_type": "code",
   "execution_count": null,
   "id": "overall-parliament",
   "metadata": {},
   "outputs": [],
   "source": []
  },
  {
   "cell_type": "code",
   "execution_count": null,
   "id": "champion-strap",
   "metadata": {},
   "outputs": [],
   "source": []
  }
 ],
 "metadata": {
  "kernelspec": {
   "display_name": "cellpymc",
   "language": "python",
   "name": "cellpymc"
  },
  "language_info": {
   "codemirror_mode": {
    "name": "ipython",
    "version": 3
   },
   "file_extension": ".py",
   "mimetype": "text/x-python",
   "name": "python",
   "nbconvert_exporter": "python",
   "pygments_lexer": "ipython3",
   "version": "3.7.9"
  }
 },
 "nbformat": 4,
 "nbformat_minor": 5
}
