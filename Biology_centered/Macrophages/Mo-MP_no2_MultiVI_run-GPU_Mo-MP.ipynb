{
 "cells": [
  {
   "cell_type": "markdown",
   "metadata": {
    "id": "Bo3ACEE1ALEw"
   },
   "source": [
    "## Import modules"
   ]
  },
  {
   "cell_type": "code",
   "execution_count": 1,
   "metadata": {
    "colab": {
     "base_uri": "https://localhost:8080/"
    },
    "executionInfo": {
     "elapsed": 8522,
     "status": "ok",
     "timestamp": 1630962117458,
     "user": {
      "displayName": "Kazumasa Kanemaru",
      "photoUrl": "https://lh3.googleusercontent.com/a/default-user=s64",
      "userId": "09579449744665019665"
     },
     "user_tz": -60
    },
    "id": "Kz5pURyJAG_L",
    "outputId": "41124ca8-a427-4e11-f272-e3a2ed47e941"
   },
   "outputs": [
    {
     "name": "stderr",
     "output_type": "stream",
     "text": [
      "Global seed set to 0\n",
      "/nfs/team205/kk18/miniconda3/envs/scvi0190_env/lib/python3.9/site-packages/flax/core/frozen_dict.py:169: FutureWarning: jax.tree_util.register_keypaths is deprecated, and will be removed in a future release. Please use `register_pytree_with_keys()` instead.\n",
      "  jax.tree_util.register_keypaths(\n",
      "/nfs/team205/kk18/miniconda3/envs/scvi0190_env/lib/python3.9/site-packages/pytorch_lightning/utilities/warnings.py:53: LightningDeprecationWarning: pytorch_lightning.utilities.warnings.rank_zero_deprecation has been deprecated in v1.6 and will be removed in v1.8. Use the equivalent function from the pytorch_lightning.utilities.rank_zero module instead.\n",
      "  new_rank_zero_deprecation(\n",
      "/nfs/team205/kk18/miniconda3/envs/scvi0190_env/lib/python3.9/site-packages/pytorch_lightning/utilities/warnings.py:58: LightningDeprecationWarning: The `pytorch_lightning.loggers.base.rank_zero_experiment` is deprecated in v1.7 and will be removed in v1.9. Please use `pytorch_lightning.loggers.logger.rank_zero_experiment` instead.\n",
      "  return new_rank_zero_deprecation(*args, **kwargs)\n",
      "Global seed set to 420\n"
     ]
    }
   ],
   "source": [
    "import scvi\n",
    "import anndata\n",
    "import numpy as np\n",
    "import pandas as pd\n",
    "import scanpy as sc\n",
    "import matplotlib.pyplot as plt\n",
    "\n",
    "scvi.settings.seed = 420"
   ]
  },
  {
   "cell_type": "code",
   "execution_count": 2,
   "metadata": {
    "colab": {
     "base_uri": "https://localhost:8080/",
     "height": 34
    },
    "executionInfo": {
     "elapsed": 261,
     "status": "ok",
     "timestamp": 1630962117716,
     "user": {
      "displayName": "Kazumasa Kanemaru",
      "photoUrl": "https://lh3.googleusercontent.com/a/default-user=s64",
      "userId": "09579449744665019665"
     },
     "user_tz": -60
    },
    "id": "rIlaJnwlASLg",
    "outputId": "4622ab27-d21d-4673-8ac0-335f7f8f3027"
   },
   "outputs": [
    {
     "data": {
      "text/html": [
       "<details>\n",
       "<summary>Click to view session information</summary>\n",
       "<pre>\n",
       "-----\n",
       "anndata             0.8.0\n",
       "matplotlib          3.7.1\n",
       "numpy               1.23.5\n",
       "pandas              1.5.3\n",
       "scanpy              1.9.3\n",
       "scvi                0.19.0\n",
       "session_info        1.0.0\n",
       "-----\n",
       "</pre>\n",
       "<details>\n",
       "<summary>Click to view modules imported as dependencies</summary>\n",
       "<pre>\n",
       "PIL                 9.4.0\n",
       "absl                NA\n",
       "asttokens           NA\n",
       "attr                22.2.0\n",
       "backcall            0.2.0\n",
       "certifi             2022.12.07\n",
       "cffi                1.15.1\n",
       "charset_normalizer  3.1.0\n",
       "chex                0.1.6\n",
       "comm                0.1.2\n",
       "contextlib2         NA\n",
       "cycler              0.10.0\n",
       "cython_runtime      NA\n",
       "dateutil            2.8.2\n",
       "debugpy             1.6.6\n",
       "decorator           5.1.1\n",
       "defusedxml          0.7.1\n",
       "deprecate           0.3.2\n",
       "docrep              0.3.2\n",
       "etils               1.1.0\n",
       "executing           1.2.0\n",
       "flax                0.6.7\n",
       "fsspec              2023.3.0\n",
       "google              NA\n",
       "h5py                3.8.0\n",
       "idna                3.4\n",
       "igraph              0.10.4\n",
       "importlib_metadata  NA\n",
       "importlib_resources NA\n",
       "ipykernel           6.21.3\n",
       "ipython_genutils    0.2.0\n",
       "ipywidgets          8.0.4\n",
       "jax                 0.4.6\n",
       "jaxlib              0.4.6\n",
       "jedi                0.18.2\n",
       "joblib              1.2.0\n",
       "kiwisolver          1.4.4\n",
       "leidenalg           0.9.1\n",
       "llvmlite            0.39.1\n",
       "ml_collections      NA\n",
       "mpl_toolkits        NA\n",
       "msgpack             1.0.5\n",
       "mudata              0.2.1\n",
       "multipledispatch    0.6.0\n",
       "natsort             8.3.1\n",
       "numba               0.56.4\n",
       "numpyro             0.11.0\n",
       "nvidia              NA\n",
       "opt_einsum          v3.3.0\n",
       "optax               0.1.4\n",
       "packaging           23.0\n",
       "parso               0.8.3\n",
       "pexpect             4.8.0\n",
       "pickleshare         0.7.5\n",
       "pkg_resources       NA\n",
       "platformdirs        3.1.1\n",
       "prompt_toolkit      3.0.38\n",
       "psutil              5.9.4\n",
       "ptyprocess          0.7.0\n",
       "pure_eval           0.2.2\n",
       "pydev_ipython       NA\n",
       "pydevconsole        NA\n",
       "pydevd              2.9.5\n",
       "pydevd_file_utils   NA\n",
       "pydevd_plugins      NA\n",
       "pydevd_tracing      NA\n",
       "pygments            2.14.0\n",
       "pyparsing           3.0.9\n",
       "pyro                1.8.4\n",
       "pytorch_lightning   1.7.7\n",
       "pytz                2022.7.1\n",
       "requests            2.28.2\n",
       "rich                NA\n",
       "scipy               1.10.1\n",
       "setuptools          65.6.3\n",
       "six                 1.16.0\n",
       "sklearn             1.2.2\n",
       "stack_data          0.6.2\n",
       "tensorboard         2.12.0\n",
       "texttable           1.6.7\n",
       "threadpoolctl       3.1.0\n",
       "toolz               0.12.0\n",
       "torch               1.13.1+cu117\n",
       "torchmetrics        0.11.4\n",
       "torchvision         0.14.1+cu117\n",
       "tornado             6.2\n",
       "tqdm                4.65.0\n",
       "traitlets           5.9.0\n",
       "tree                0.1.8\n",
       "typing_extensions   NA\n",
       "urllib3             1.26.15\n",
       "wcwidth             0.2.6\n",
       "yaml                6.0\n",
       "zipp                NA\n",
       "zmq                 25.0.1\n",
       "zoneinfo            NA\n",
       "</pre>\n",
       "</details> <!-- seems like this ends pre, so might as well be explicit -->\n",
       "<pre>\n",
       "-----\n",
       "IPython             8.11.0\n",
       "jupyter_client      8.0.3\n",
       "jupyter_core        5.2.0\n",
       "notebook            6.5.3\n",
       "-----\n",
       "Python 3.9.16 (main, Mar  8 2023, 14:00:05) [GCC 11.2.0]\n",
       "Linux-4.15.0-200-generic-x86_64-with-glibc2.27\n",
       "-----\n",
       "Session information updated at 2023-03-13 21:45\n",
       "</pre>\n",
       "</details>"
      ],
      "text/plain": [
       "<IPython.core.display.HTML object>"
      ]
     },
     "execution_count": 2,
     "metadata": {},
     "output_type": "execute_result"
    }
   ],
   "source": [
    "import session_info\n",
    "session_info.show()"
   ]
  },
  {
   "cell_type": "markdown",
   "metadata": {
    "id": "JMpCCPgZAeiO"
   },
   "source": [
    "## Read in data"
   ]
  },
  {
   "cell_type": "code",
   "execution_count": 3,
   "metadata": {},
   "outputs": [
    {
     "data": {
      "text/plain": [
       "AnnData object with n_obs × n_vars = 1899 × 544641\n",
       "    obs: 'sangerID', 'combinedID', 'donor', 'facility', 'cell_or_nuclei', 'modality', 'kit_10x', 'scrublet_score', 'doublet_pval', 'doublet_bh_pval', 'n_genes', 'n_counts', 'n_genes_by_counts', 'log1p_n_genes_by_counts', 'total_counts', 'log1p_total_counts', 'total_counts_mt', 'log1p_total_counts_mt', 'pct_counts_mt', 'total_counts_ribo', 'log1p_total_counts_ribo', 'pct_counts_ribo', 'HB_score', 'multiplexed', 'batch_key', 'region', 'FACSgate', 'sex', 'week', 'trimester', 'fine_grain', 'mid_grain', 'coarse_grain', 'heart_or_greatvessels', 'cycling', 'S_score', 'G2M_score', 'phase', 'stress_score', 'hb1_score'\n",
       "    var: 'modality', 'gene_name_scRNA-0', 'gene_id'"
      ]
     },
     "execution_count": 3,
     "metadata": {},
     "output_type": "execute_result"
    }
   ],
   "source": [
    "# paired\n",
    "adata_paired = sc.read_h5ad('/nfs/team205/heart/anndata_objects/Foetal/Immune/MultiVI-pre_paired_foetal_MoMP_raw.h5ad')\n",
    "adata_paired"
   ]
  },
  {
   "cell_type": "code",
   "execution_count": 4,
   "metadata": {},
   "outputs": [
    {
     "data": {
      "text/html": [
       "<div>\n",
       "<style scoped>\n",
       "    .dataframe tbody tr th:only-of-type {\n",
       "        vertical-align: middle;\n",
       "    }\n",
       "\n",
       "    .dataframe tbody tr th {\n",
       "        vertical-align: top;\n",
       "    }\n",
       "\n",
       "    .dataframe thead th {\n",
       "        text-align: right;\n",
       "    }\n",
       "</style>\n",
       "<table border=\"1\" class=\"dataframe\">\n",
       "  <thead>\n",
       "    <tr style=\"text-align: right;\">\n",
       "      <th></th>\n",
       "      <th>sangerID</th>\n",
       "      <th>combinedID</th>\n",
       "      <th>donor</th>\n",
       "      <th>facility</th>\n",
       "      <th>cell_or_nuclei</th>\n",
       "      <th>modality</th>\n",
       "      <th>kit_10x</th>\n",
       "      <th>scrublet_score</th>\n",
       "      <th>doublet_pval</th>\n",
       "      <th>doublet_bh_pval</th>\n",
       "      <th>...</th>\n",
       "      <th>fine_grain</th>\n",
       "      <th>mid_grain</th>\n",
       "      <th>coarse_grain</th>\n",
       "      <th>heart_or_greatvessels</th>\n",
       "      <th>cycling</th>\n",
       "      <th>S_score</th>\n",
       "      <th>G2M_score</th>\n",
       "      <th>phase</th>\n",
       "      <th>stress_score</th>\n",
       "      <th>hb1_score</th>\n",
       "    </tr>\n",
       "    <tr>\n",
       "      <th>barcode</th>\n",
       "      <th></th>\n",
       "      <th></th>\n",
       "      <th></th>\n",
       "      <th></th>\n",
       "      <th></th>\n",
       "      <th></th>\n",
       "      <th></th>\n",
       "      <th></th>\n",
       "      <th></th>\n",
       "      <th></th>\n",
       "      <th></th>\n",
       "      <th></th>\n",
       "      <th></th>\n",
       "      <th></th>\n",
       "      <th></th>\n",
       "      <th></th>\n",
       "      <th></th>\n",
       "      <th></th>\n",
       "      <th></th>\n",
       "      <th></th>\n",
       "      <th></th>\n",
       "    </tr>\n",
       "  </thead>\n",
       "  <tbody>\n",
       "    <tr>\n",
       "      <th>BHF_F_Hea11933668_BHF_F_Hea11596621_CATAGTCAGCAATAGG-1</th>\n",
       "      <td>BHF_F_Hea11933668</td>\n",
       "      <td>BHF_F_Hea11933668_BHF_F_Hea11596621</td>\n",
       "      <td>Hst33</td>\n",
       "      <td>Sanger</td>\n",
       "      <td>nuclei</td>\n",
       "      <td>Multiome</td>\n",
       "      <td>Multiome-v1</td>\n",
       "      <td>0.051643</td>\n",
       "      <td>0.530428</td>\n",
       "      <td>0.925448</td>\n",
       "      <td>...</td>\n",
       "      <td>Monocytes</td>\n",
       "      <td>MyeloidCells</td>\n",
       "      <td>Leukocytes</td>\n",
       "      <td>mix</td>\n",
       "      <td>no</td>\n",
       "      <td>-0.275917</td>\n",
       "      <td>-0.193263</td>\n",
       "      <td>G1</td>\n",
       "      <td>0.093001</td>\n",
       "      <td>-0.254929</td>\n",
       "    </tr>\n",
       "    <tr>\n",
       "      <th>BHF_F_Hea11933669_BHF_F_Hea11596622_TTCGGTACAGCACGTT-1</th>\n",
       "      <td>BHF_F_Hea11933669</td>\n",
       "      <td>BHF_F_Hea11933669_BHF_F_Hea11596622</td>\n",
       "      <td>Hst33</td>\n",
       "      <td>Sanger</td>\n",
       "      <td>nuclei</td>\n",
       "      <td>Multiome</td>\n",
       "      <td>Multiome-v1</td>\n",
       "      <td>0.032020</td>\n",
       "      <td>0.827202</td>\n",
       "      <td>0.881283</td>\n",
       "      <td>...</td>\n",
       "      <td>MacrophagesLYVE1pos</td>\n",
       "      <td>MyeloidCells</td>\n",
       "      <td>Leukocytes</td>\n",
       "      <td>mix</td>\n",
       "      <td>no</td>\n",
       "      <td>-0.217876</td>\n",
       "      <td>-0.143517</td>\n",
       "      <td>G1</td>\n",
       "      <td>0.565223</td>\n",
       "      <td>-0.247341</td>\n",
       "    </tr>\n",
       "    <tr>\n",
       "      <th>BHF_F_Hea11933667_BHF_F_Hea11596620_TCATGCCTCGTTATCT-1</th>\n",
       "      <td>BHF_F_Hea11933667</td>\n",
       "      <td>BHF_F_Hea11933667_BHF_F_Hea11596620</td>\n",
       "      <td>Hst33</td>\n",
       "      <td>Sanger</td>\n",
       "      <td>nuclei</td>\n",
       "      <td>Multiome</td>\n",
       "      <td>Multiome-v1</td>\n",
       "      <td>0.040106</td>\n",
       "      <td>0.888282</td>\n",
       "      <td>0.941734</td>\n",
       "      <td>...</td>\n",
       "      <td>MacrophagesLYVE1pos</td>\n",
       "      <td>MyeloidCells</td>\n",
       "      <td>Leukocytes</td>\n",
       "      <td>mix</td>\n",
       "      <td>no</td>\n",
       "      <td>-0.243927</td>\n",
       "      <td>-0.134643</td>\n",
       "      <td>G1</td>\n",
       "      <td>0.320393</td>\n",
       "      <td>-0.317302</td>\n",
       "    </tr>\n",
       "    <tr>\n",
       "      <th>BHF_F_Hea11933667_BHF_F_Hea11596620_TCTAATCTCCTCACTA-1</th>\n",
       "      <td>BHF_F_Hea11933667</td>\n",
       "      <td>BHF_F_Hea11933667_BHF_F_Hea11596620</td>\n",
       "      <td>Hst33</td>\n",
       "      <td>Sanger</td>\n",
       "      <td>nuclei</td>\n",
       "      <td>Multiome</td>\n",
       "      <td>Multiome-v1</td>\n",
       "      <td>0.099366</td>\n",
       "      <td>0.895206</td>\n",
       "      <td>0.941734</td>\n",
       "      <td>...</td>\n",
       "      <td>MacrophagesATF3pos</td>\n",
       "      <td>MyeloidCells</td>\n",
       "      <td>Leukocytes</td>\n",
       "      <td>mix</td>\n",
       "      <td>no</td>\n",
       "      <td>-0.149452</td>\n",
       "      <td>-0.184194</td>\n",
       "      <td>G1</td>\n",
       "      <td>-0.076030</td>\n",
       "      <td>-0.249038</td>\n",
       "    </tr>\n",
       "    <tr>\n",
       "      <th>7089STDY13216927_BHF_F_Hea13242534_GTTTCTAGTCCTAGTT-1</th>\n",
       "      <td>7089STDY13216927</td>\n",
       "      <td>7089STDY13216927_BHF_F_Hea13242534</td>\n",
       "      <td>Hst36</td>\n",
       "      <td>Sanger</td>\n",
       "      <td>nuclei</td>\n",
       "      <td>Multiome</td>\n",
       "      <td>Multiome-v1</td>\n",
       "      <td>0.024310</td>\n",
       "      <td>0.767897</td>\n",
       "      <td>0.841935</td>\n",
       "      <td>...</td>\n",
       "      <td>MacrophagesLYVE1pos</td>\n",
       "      <td>MyeloidCells</td>\n",
       "      <td>Leukocytes</td>\n",
       "      <td>mix</td>\n",
       "      <td>no</td>\n",
       "      <td>-0.092662</td>\n",
       "      <td>-0.107972</td>\n",
       "      <td>G1</td>\n",
       "      <td>0.046032</td>\n",
       "      <td>-0.140022</td>\n",
       "    </tr>\n",
       "    <tr>\n",
       "      <th>...</th>\n",
       "      <td>...</td>\n",
       "      <td>...</td>\n",
       "      <td>...</td>\n",
       "      <td>...</td>\n",
       "      <td>...</td>\n",
       "      <td>...</td>\n",
       "      <td>...</td>\n",
       "      <td>...</td>\n",
       "      <td>...</td>\n",
       "      <td>...</td>\n",
       "      <td>...</td>\n",
       "      <td>...</td>\n",
       "      <td>...</td>\n",
       "      <td>...</td>\n",
       "      <td>...</td>\n",
       "      <td>...</td>\n",
       "      <td>...</td>\n",
       "      <td>...</td>\n",
       "      <td>...</td>\n",
       "      <td>...</td>\n",
       "      <td>...</td>\n",
       "    </tr>\n",
       "    <tr>\n",
       "      <th>BHF_F_Hea11933668_BHF_F_Hea11596621_ATCACACAGCTATATG-1</th>\n",
       "      <td>BHF_F_Hea11933668</td>\n",
       "      <td>BHF_F_Hea11933668_BHF_F_Hea11596621</td>\n",
       "      <td>Hst33</td>\n",
       "      <td>Sanger</td>\n",
       "      <td>nuclei</td>\n",
       "      <td>Multiome</td>\n",
       "      <td>Multiome-v1</td>\n",
       "      <td>0.009334</td>\n",
       "      <td>0.917480</td>\n",
       "      <td>0.925448</td>\n",
       "      <td>...</td>\n",
       "      <td>MacrophagesLYVE1pos</td>\n",
       "      <td>MyeloidCells</td>\n",
       "      <td>Leukocytes</td>\n",
       "      <td>mix</td>\n",
       "      <td>no</td>\n",
       "      <td>-0.192901</td>\n",
       "      <td>-0.216730</td>\n",
       "      <td>G1</td>\n",
       "      <td>0.438321</td>\n",
       "      <td>-0.293559</td>\n",
       "    </tr>\n",
       "    <tr>\n",
       "      <th>7089STDY13216922_BHF_F_Hea13242529_TTGGCTTGTACTTCAC-1</th>\n",
       "      <td>7089STDY13216922</td>\n",
       "      <td>7089STDY13216922_BHF_F_Hea13242529</td>\n",
       "      <td>Hst36</td>\n",
       "      <td>Sanger</td>\n",
       "      <td>nuclei</td>\n",
       "      <td>Multiome</td>\n",
       "      <td>Multiome-v1</td>\n",
       "      <td>0.024599</td>\n",
       "      <td>0.777483</td>\n",
       "      <td>0.892857</td>\n",
       "      <td>...</td>\n",
       "      <td>MacrophagesLYVE1pos</td>\n",
       "      <td>MyeloidCells</td>\n",
       "      <td>Leukocytes</td>\n",
       "      <td>mix</td>\n",
       "      <td>no</td>\n",
       "      <td>-0.186634</td>\n",
       "      <td>-0.160566</td>\n",
       "      <td>G1</td>\n",
       "      <td>0.178089</td>\n",
       "      <td>-0.146193</td>\n",
       "    </tr>\n",
       "    <tr>\n",
       "      <th>BHF_F_Hea11064672_BHF_F_Hea11031825_AACTGTTCAACTAGCC-1</th>\n",
       "      <td>BHF_F_Hea11064672</td>\n",
       "      <td>BHF_F_Hea11064672_BHF_F_Hea11031825</td>\n",
       "      <td>C87</td>\n",
       "      <td>Sanger</td>\n",
       "      <td>nuclei</td>\n",
       "      <td>Multiome</td>\n",
       "      <td>Multiome-v1</td>\n",
       "      <td>0.034045</td>\n",
       "      <td>0.697631</td>\n",
       "      <td>0.799445</td>\n",
       "      <td>...</td>\n",
       "      <td>MacrophagesATF3pos</td>\n",
       "      <td>MyeloidCells</td>\n",
       "      <td>Leukocytes</td>\n",
       "      <td>mix</td>\n",
       "      <td>no</td>\n",
       "      <td>-0.030232</td>\n",
       "      <td>-0.168109</td>\n",
       "      <td>G1</td>\n",
       "      <td>0.372042</td>\n",
       "      <td>-0.305780</td>\n",
       "    </tr>\n",
       "    <tr>\n",
       "      <th>BHF_F_Hea11933674_BHF_F_Hea11596627_CTATGGCCAAAGGCCA-1</th>\n",
       "      <td>BHF_F_Hea11933674</td>\n",
       "      <td>BHF_F_Hea11933674_BHF_F_Hea11596627</td>\n",
       "      <td>C98</td>\n",
       "      <td>Sanger</td>\n",
       "      <td>nuclei</td>\n",
       "      <td>Multiome</td>\n",
       "      <td>Multiome-v1</td>\n",
       "      <td>0.038700</td>\n",
       "      <td>0.633088</td>\n",
       "      <td>0.659111</td>\n",
       "      <td>...</td>\n",
       "      <td>MacrophagesLYVE1pos</td>\n",
       "      <td>MyeloidCells</td>\n",
       "      <td>Leukocytes</td>\n",
       "      <td>mix</td>\n",
       "      <td>no</td>\n",
       "      <td>-0.264604</td>\n",
       "      <td>-0.162614</td>\n",
       "      <td>G1</td>\n",
       "      <td>0.086808</td>\n",
       "      <td>-0.092650</td>\n",
       "    </tr>\n",
       "    <tr>\n",
       "      <th>BHF_F_Hea11064670_BHF_F_Hea11031823_ACGACAAAGGACGTAA-1</th>\n",
       "      <td>BHF_F_Hea11064670</td>\n",
       "      <td>BHF_F_Hea11064670_BHF_F_Hea11031823</td>\n",
       "      <td>C82</td>\n",
       "      <td>Sanger</td>\n",
       "      <td>nuclei</td>\n",
       "      <td>Multiome</td>\n",
       "      <td>Multiome-v1</td>\n",
       "      <td>0.047859</td>\n",
       "      <td>0.804019</td>\n",
       "      <td>0.928673</td>\n",
       "      <td>...</td>\n",
       "      <td>MacrophagesLYVE1pos</td>\n",
       "      <td>MyeloidCells</td>\n",
       "      <td>Leukocytes</td>\n",
       "      <td>mix</td>\n",
       "      <td>no</td>\n",
       "      <td>-0.233919</td>\n",
       "      <td>-0.200671</td>\n",
       "      <td>G1</td>\n",
       "      <td>0.583126</td>\n",
       "      <td>-0.264195</td>\n",
       "    </tr>\n",
       "  </tbody>\n",
       "</table>\n",
       "<p>1899 rows × 40 columns</p>\n",
       "</div>"
      ],
      "text/plain": [
       "                                                             sangerID  \\\n",
       "barcode                                                                 \n",
       "BHF_F_Hea11933668_BHF_F_Hea11596621_CATAGTCAGCA...  BHF_F_Hea11933668   \n",
       "BHF_F_Hea11933669_BHF_F_Hea11596622_TTCGGTACAGC...  BHF_F_Hea11933669   \n",
       "BHF_F_Hea11933667_BHF_F_Hea11596620_TCATGCCTCGT...  BHF_F_Hea11933667   \n",
       "BHF_F_Hea11933667_BHF_F_Hea11596620_TCTAATCTCCT...  BHF_F_Hea11933667   \n",
       "7089STDY13216927_BHF_F_Hea13242534_GTTTCTAGTCCT...   7089STDY13216927   \n",
       "...                                                               ...   \n",
       "BHF_F_Hea11933668_BHF_F_Hea11596621_ATCACACAGCT...  BHF_F_Hea11933668   \n",
       "7089STDY13216922_BHF_F_Hea13242529_TTGGCTTGTACT...   7089STDY13216922   \n",
       "BHF_F_Hea11064672_BHF_F_Hea11031825_AACTGTTCAAC...  BHF_F_Hea11064672   \n",
       "BHF_F_Hea11933674_BHF_F_Hea11596627_CTATGGCCAAA...  BHF_F_Hea11933674   \n",
       "BHF_F_Hea11064670_BHF_F_Hea11031823_ACGACAAAGGA...  BHF_F_Hea11064670   \n",
       "\n",
       "                                                                             combinedID  \\\n",
       "barcode                                                                                   \n",
       "BHF_F_Hea11933668_BHF_F_Hea11596621_CATAGTCAGCA...  BHF_F_Hea11933668_BHF_F_Hea11596621   \n",
       "BHF_F_Hea11933669_BHF_F_Hea11596622_TTCGGTACAGC...  BHF_F_Hea11933669_BHF_F_Hea11596622   \n",
       "BHF_F_Hea11933667_BHF_F_Hea11596620_TCATGCCTCGT...  BHF_F_Hea11933667_BHF_F_Hea11596620   \n",
       "BHF_F_Hea11933667_BHF_F_Hea11596620_TCTAATCTCCT...  BHF_F_Hea11933667_BHF_F_Hea11596620   \n",
       "7089STDY13216927_BHF_F_Hea13242534_GTTTCTAGTCCT...   7089STDY13216927_BHF_F_Hea13242534   \n",
       "...                                                                                 ...   \n",
       "BHF_F_Hea11933668_BHF_F_Hea11596621_ATCACACAGCT...  BHF_F_Hea11933668_BHF_F_Hea11596621   \n",
       "7089STDY13216922_BHF_F_Hea13242529_TTGGCTTGTACT...   7089STDY13216922_BHF_F_Hea13242529   \n",
       "BHF_F_Hea11064672_BHF_F_Hea11031825_AACTGTTCAAC...  BHF_F_Hea11064672_BHF_F_Hea11031825   \n",
       "BHF_F_Hea11933674_BHF_F_Hea11596627_CTATGGCCAAA...  BHF_F_Hea11933674_BHF_F_Hea11596627   \n",
       "BHF_F_Hea11064670_BHF_F_Hea11031823_ACGACAAAGGA...  BHF_F_Hea11064670_BHF_F_Hea11031823   \n",
       "\n",
       "                                                    donor facility  \\\n",
       "barcode                                                              \n",
       "BHF_F_Hea11933668_BHF_F_Hea11596621_CATAGTCAGCA...  Hst33   Sanger   \n",
       "BHF_F_Hea11933669_BHF_F_Hea11596622_TTCGGTACAGC...  Hst33   Sanger   \n",
       "BHF_F_Hea11933667_BHF_F_Hea11596620_TCATGCCTCGT...  Hst33   Sanger   \n",
       "BHF_F_Hea11933667_BHF_F_Hea11596620_TCTAATCTCCT...  Hst33   Sanger   \n",
       "7089STDY13216927_BHF_F_Hea13242534_GTTTCTAGTCCT...  Hst36   Sanger   \n",
       "...                                                   ...      ...   \n",
       "BHF_F_Hea11933668_BHF_F_Hea11596621_ATCACACAGCT...  Hst33   Sanger   \n",
       "7089STDY13216922_BHF_F_Hea13242529_TTGGCTTGTACT...  Hst36   Sanger   \n",
       "BHF_F_Hea11064672_BHF_F_Hea11031825_AACTGTTCAAC...    C87   Sanger   \n",
       "BHF_F_Hea11933674_BHF_F_Hea11596627_CTATGGCCAAA...    C98   Sanger   \n",
       "BHF_F_Hea11064670_BHF_F_Hea11031823_ACGACAAAGGA...    C82   Sanger   \n",
       "\n",
       "                                                   cell_or_nuclei  modality  \\\n",
       "barcode                                                                       \n",
       "BHF_F_Hea11933668_BHF_F_Hea11596621_CATAGTCAGCA...         nuclei  Multiome   \n",
       "BHF_F_Hea11933669_BHF_F_Hea11596622_TTCGGTACAGC...         nuclei  Multiome   \n",
       "BHF_F_Hea11933667_BHF_F_Hea11596620_TCATGCCTCGT...         nuclei  Multiome   \n",
       "BHF_F_Hea11933667_BHF_F_Hea11596620_TCTAATCTCCT...         nuclei  Multiome   \n",
       "7089STDY13216927_BHF_F_Hea13242534_GTTTCTAGTCCT...         nuclei  Multiome   \n",
       "...                                                           ...       ...   \n",
       "BHF_F_Hea11933668_BHF_F_Hea11596621_ATCACACAGCT...         nuclei  Multiome   \n",
       "7089STDY13216922_BHF_F_Hea13242529_TTGGCTTGTACT...         nuclei  Multiome   \n",
       "BHF_F_Hea11064672_BHF_F_Hea11031825_AACTGTTCAAC...         nuclei  Multiome   \n",
       "BHF_F_Hea11933674_BHF_F_Hea11596627_CTATGGCCAAA...         nuclei  Multiome   \n",
       "BHF_F_Hea11064670_BHF_F_Hea11031823_ACGACAAAGGA...         nuclei  Multiome   \n",
       "\n",
       "                                                        kit_10x  \\\n",
       "barcode                                                           \n",
       "BHF_F_Hea11933668_BHF_F_Hea11596621_CATAGTCAGCA...  Multiome-v1   \n",
       "BHF_F_Hea11933669_BHF_F_Hea11596622_TTCGGTACAGC...  Multiome-v1   \n",
       "BHF_F_Hea11933667_BHF_F_Hea11596620_TCATGCCTCGT...  Multiome-v1   \n",
       "BHF_F_Hea11933667_BHF_F_Hea11596620_TCTAATCTCCT...  Multiome-v1   \n",
       "7089STDY13216927_BHF_F_Hea13242534_GTTTCTAGTCCT...  Multiome-v1   \n",
       "...                                                         ...   \n",
       "BHF_F_Hea11933668_BHF_F_Hea11596621_ATCACACAGCT...  Multiome-v1   \n",
       "7089STDY13216922_BHF_F_Hea13242529_TTGGCTTGTACT...  Multiome-v1   \n",
       "BHF_F_Hea11064672_BHF_F_Hea11031825_AACTGTTCAAC...  Multiome-v1   \n",
       "BHF_F_Hea11933674_BHF_F_Hea11596627_CTATGGCCAAA...  Multiome-v1   \n",
       "BHF_F_Hea11064670_BHF_F_Hea11031823_ACGACAAAGGA...  Multiome-v1   \n",
       "\n",
       "                                                    scrublet_score  \\\n",
       "barcode                                                              \n",
       "BHF_F_Hea11933668_BHF_F_Hea11596621_CATAGTCAGCA...        0.051643   \n",
       "BHF_F_Hea11933669_BHF_F_Hea11596622_TTCGGTACAGC...        0.032020   \n",
       "BHF_F_Hea11933667_BHF_F_Hea11596620_TCATGCCTCGT...        0.040106   \n",
       "BHF_F_Hea11933667_BHF_F_Hea11596620_TCTAATCTCCT...        0.099366   \n",
       "7089STDY13216927_BHF_F_Hea13242534_GTTTCTAGTCCT...        0.024310   \n",
       "...                                                            ...   \n",
       "BHF_F_Hea11933668_BHF_F_Hea11596621_ATCACACAGCT...        0.009334   \n",
       "7089STDY13216922_BHF_F_Hea13242529_TTGGCTTGTACT...        0.024599   \n",
       "BHF_F_Hea11064672_BHF_F_Hea11031825_AACTGTTCAAC...        0.034045   \n",
       "BHF_F_Hea11933674_BHF_F_Hea11596627_CTATGGCCAAA...        0.038700   \n",
       "BHF_F_Hea11064670_BHF_F_Hea11031823_ACGACAAAGGA...        0.047859   \n",
       "\n",
       "                                                    doublet_pval  \\\n",
       "barcode                                                            \n",
       "BHF_F_Hea11933668_BHF_F_Hea11596621_CATAGTCAGCA...      0.530428   \n",
       "BHF_F_Hea11933669_BHF_F_Hea11596622_TTCGGTACAGC...      0.827202   \n",
       "BHF_F_Hea11933667_BHF_F_Hea11596620_TCATGCCTCGT...      0.888282   \n",
       "BHF_F_Hea11933667_BHF_F_Hea11596620_TCTAATCTCCT...      0.895206   \n",
       "7089STDY13216927_BHF_F_Hea13242534_GTTTCTAGTCCT...      0.767897   \n",
       "...                                                          ...   \n",
       "BHF_F_Hea11933668_BHF_F_Hea11596621_ATCACACAGCT...      0.917480   \n",
       "7089STDY13216922_BHF_F_Hea13242529_TTGGCTTGTACT...      0.777483   \n",
       "BHF_F_Hea11064672_BHF_F_Hea11031825_AACTGTTCAAC...      0.697631   \n",
       "BHF_F_Hea11933674_BHF_F_Hea11596627_CTATGGCCAAA...      0.633088   \n",
       "BHF_F_Hea11064670_BHF_F_Hea11031823_ACGACAAAGGA...      0.804019   \n",
       "\n",
       "                                                    doublet_bh_pval  ...  \\\n",
       "barcode                                                              ...   \n",
       "BHF_F_Hea11933668_BHF_F_Hea11596621_CATAGTCAGCA...         0.925448  ...   \n",
       "BHF_F_Hea11933669_BHF_F_Hea11596622_TTCGGTACAGC...         0.881283  ...   \n",
       "BHF_F_Hea11933667_BHF_F_Hea11596620_TCATGCCTCGT...         0.941734  ...   \n",
       "BHF_F_Hea11933667_BHF_F_Hea11596620_TCTAATCTCCT...         0.941734  ...   \n",
       "7089STDY13216927_BHF_F_Hea13242534_GTTTCTAGTCCT...         0.841935  ...   \n",
       "...                                                             ...  ...   \n",
       "BHF_F_Hea11933668_BHF_F_Hea11596621_ATCACACAGCT...         0.925448  ...   \n",
       "7089STDY13216922_BHF_F_Hea13242529_TTGGCTTGTACT...         0.892857  ...   \n",
       "BHF_F_Hea11064672_BHF_F_Hea11031825_AACTGTTCAAC...         0.799445  ...   \n",
       "BHF_F_Hea11933674_BHF_F_Hea11596627_CTATGGCCAAA...         0.659111  ...   \n",
       "BHF_F_Hea11064670_BHF_F_Hea11031823_ACGACAAAGGA...         0.928673  ...   \n",
       "\n",
       "                                                             fine_grain  \\\n",
       "barcode                                                                   \n",
       "BHF_F_Hea11933668_BHF_F_Hea11596621_CATAGTCAGCA...            Monocytes   \n",
       "BHF_F_Hea11933669_BHF_F_Hea11596622_TTCGGTACAGC...  MacrophagesLYVE1pos   \n",
       "BHF_F_Hea11933667_BHF_F_Hea11596620_TCATGCCTCGT...  MacrophagesLYVE1pos   \n",
       "BHF_F_Hea11933667_BHF_F_Hea11596620_TCTAATCTCCT...   MacrophagesATF3pos   \n",
       "7089STDY13216927_BHF_F_Hea13242534_GTTTCTAGTCCT...  MacrophagesLYVE1pos   \n",
       "...                                                                 ...   \n",
       "BHF_F_Hea11933668_BHF_F_Hea11596621_ATCACACAGCT...  MacrophagesLYVE1pos   \n",
       "7089STDY13216922_BHF_F_Hea13242529_TTGGCTTGTACT...  MacrophagesLYVE1pos   \n",
       "BHF_F_Hea11064672_BHF_F_Hea11031825_AACTGTTCAAC...   MacrophagesATF3pos   \n",
       "BHF_F_Hea11933674_BHF_F_Hea11596627_CTATGGCCAAA...  MacrophagesLYVE1pos   \n",
       "BHF_F_Hea11064670_BHF_F_Hea11031823_ACGACAAAGGA...  MacrophagesLYVE1pos   \n",
       "\n",
       "                                                       mid_grain  \\\n",
       "barcode                                                            \n",
       "BHF_F_Hea11933668_BHF_F_Hea11596621_CATAGTCAGCA...  MyeloidCells   \n",
       "BHF_F_Hea11933669_BHF_F_Hea11596622_TTCGGTACAGC...  MyeloidCells   \n",
       "BHF_F_Hea11933667_BHF_F_Hea11596620_TCATGCCTCGT...  MyeloidCells   \n",
       "BHF_F_Hea11933667_BHF_F_Hea11596620_TCTAATCTCCT...  MyeloidCells   \n",
       "7089STDY13216927_BHF_F_Hea13242534_GTTTCTAGTCCT...  MyeloidCells   \n",
       "...                                                          ...   \n",
       "BHF_F_Hea11933668_BHF_F_Hea11596621_ATCACACAGCT...  MyeloidCells   \n",
       "7089STDY13216922_BHF_F_Hea13242529_TTGGCTTGTACT...  MyeloidCells   \n",
       "BHF_F_Hea11064672_BHF_F_Hea11031825_AACTGTTCAAC...  MyeloidCells   \n",
       "BHF_F_Hea11933674_BHF_F_Hea11596627_CTATGGCCAAA...  MyeloidCells   \n",
       "BHF_F_Hea11064670_BHF_F_Hea11031823_ACGACAAAGGA...  MyeloidCells   \n",
       "\n",
       "                                                    coarse_grain  \\\n",
       "barcode                                                            \n",
       "BHF_F_Hea11933668_BHF_F_Hea11596621_CATAGTCAGCA...    Leukocytes   \n",
       "BHF_F_Hea11933669_BHF_F_Hea11596622_TTCGGTACAGC...    Leukocytes   \n",
       "BHF_F_Hea11933667_BHF_F_Hea11596620_TCATGCCTCGT...    Leukocytes   \n",
       "BHF_F_Hea11933667_BHF_F_Hea11596620_TCTAATCTCCT...    Leukocytes   \n",
       "7089STDY13216927_BHF_F_Hea13242534_GTTTCTAGTCCT...    Leukocytes   \n",
       "...                                                          ...   \n",
       "BHF_F_Hea11933668_BHF_F_Hea11596621_ATCACACAGCT...    Leukocytes   \n",
       "7089STDY13216922_BHF_F_Hea13242529_TTGGCTTGTACT...    Leukocytes   \n",
       "BHF_F_Hea11064672_BHF_F_Hea11031825_AACTGTTCAAC...    Leukocytes   \n",
       "BHF_F_Hea11933674_BHF_F_Hea11596627_CTATGGCCAAA...    Leukocytes   \n",
       "BHF_F_Hea11064670_BHF_F_Hea11031823_ACGACAAAGGA...    Leukocytes   \n",
       "\n",
       "                                                    heart_or_greatvessels  \\\n",
       "barcode                                                                     \n",
       "BHF_F_Hea11933668_BHF_F_Hea11596621_CATAGTCAGCA...                    mix   \n",
       "BHF_F_Hea11933669_BHF_F_Hea11596622_TTCGGTACAGC...                    mix   \n",
       "BHF_F_Hea11933667_BHF_F_Hea11596620_TCATGCCTCGT...                    mix   \n",
       "BHF_F_Hea11933667_BHF_F_Hea11596620_TCTAATCTCCT...                    mix   \n",
       "7089STDY13216927_BHF_F_Hea13242534_GTTTCTAGTCCT...                    mix   \n",
       "...                                                                   ...   \n",
       "BHF_F_Hea11933668_BHF_F_Hea11596621_ATCACACAGCT...                    mix   \n",
       "7089STDY13216922_BHF_F_Hea13242529_TTGGCTTGTACT...                    mix   \n",
       "BHF_F_Hea11064672_BHF_F_Hea11031825_AACTGTTCAAC...                    mix   \n",
       "BHF_F_Hea11933674_BHF_F_Hea11596627_CTATGGCCAAA...                    mix   \n",
       "BHF_F_Hea11064670_BHF_F_Hea11031823_ACGACAAAGGA...                    mix   \n",
       "\n",
       "                                                    cycling   S_score  \\\n",
       "barcode                                                                 \n",
       "BHF_F_Hea11933668_BHF_F_Hea11596621_CATAGTCAGCA...       no -0.275917   \n",
       "BHF_F_Hea11933669_BHF_F_Hea11596622_TTCGGTACAGC...       no -0.217876   \n",
       "BHF_F_Hea11933667_BHF_F_Hea11596620_TCATGCCTCGT...       no -0.243927   \n",
       "BHF_F_Hea11933667_BHF_F_Hea11596620_TCTAATCTCCT...       no -0.149452   \n",
       "7089STDY13216927_BHF_F_Hea13242534_GTTTCTAGTCCT...       no -0.092662   \n",
       "...                                                     ...       ...   \n",
       "BHF_F_Hea11933668_BHF_F_Hea11596621_ATCACACAGCT...       no -0.192901   \n",
       "7089STDY13216922_BHF_F_Hea13242529_TTGGCTTGTACT...       no -0.186634   \n",
       "BHF_F_Hea11064672_BHF_F_Hea11031825_AACTGTTCAAC...       no -0.030232   \n",
       "BHF_F_Hea11933674_BHF_F_Hea11596627_CTATGGCCAAA...       no -0.264604   \n",
       "BHF_F_Hea11064670_BHF_F_Hea11031823_ACGACAAAGGA...       no -0.233919   \n",
       "\n",
       "                                                    G2M_score  phase  \\\n",
       "barcode                                                                \n",
       "BHF_F_Hea11933668_BHF_F_Hea11596621_CATAGTCAGCA...  -0.193263     G1   \n",
       "BHF_F_Hea11933669_BHF_F_Hea11596622_TTCGGTACAGC...  -0.143517     G1   \n",
       "BHF_F_Hea11933667_BHF_F_Hea11596620_TCATGCCTCGT...  -0.134643     G1   \n",
       "BHF_F_Hea11933667_BHF_F_Hea11596620_TCTAATCTCCT...  -0.184194     G1   \n",
       "7089STDY13216927_BHF_F_Hea13242534_GTTTCTAGTCCT...  -0.107972     G1   \n",
       "...                                                       ...    ...   \n",
       "BHF_F_Hea11933668_BHF_F_Hea11596621_ATCACACAGCT...  -0.216730     G1   \n",
       "7089STDY13216922_BHF_F_Hea13242529_TTGGCTTGTACT...  -0.160566     G1   \n",
       "BHF_F_Hea11064672_BHF_F_Hea11031825_AACTGTTCAAC...  -0.168109     G1   \n",
       "BHF_F_Hea11933674_BHF_F_Hea11596627_CTATGGCCAAA...  -0.162614     G1   \n",
       "BHF_F_Hea11064670_BHF_F_Hea11031823_ACGACAAAGGA...  -0.200671     G1   \n",
       "\n",
       "                                                    stress_score  hb1_score  \n",
       "barcode                                                                      \n",
       "BHF_F_Hea11933668_BHF_F_Hea11596621_CATAGTCAGCA...      0.093001  -0.254929  \n",
       "BHF_F_Hea11933669_BHF_F_Hea11596622_TTCGGTACAGC...      0.565223  -0.247341  \n",
       "BHF_F_Hea11933667_BHF_F_Hea11596620_TCATGCCTCGT...      0.320393  -0.317302  \n",
       "BHF_F_Hea11933667_BHF_F_Hea11596620_TCTAATCTCCT...     -0.076030  -0.249038  \n",
       "7089STDY13216927_BHF_F_Hea13242534_GTTTCTAGTCCT...      0.046032  -0.140022  \n",
       "...                                                          ...        ...  \n",
       "BHF_F_Hea11933668_BHF_F_Hea11596621_ATCACACAGCT...      0.438321  -0.293559  \n",
       "7089STDY13216922_BHF_F_Hea13242529_TTGGCTTGTACT...      0.178089  -0.146193  \n",
       "BHF_F_Hea11064672_BHF_F_Hea11031825_AACTGTTCAAC...      0.372042  -0.305780  \n",
       "BHF_F_Hea11933674_BHF_F_Hea11596627_CTATGGCCAAA...      0.086808  -0.092650  \n",
       "BHF_F_Hea11064670_BHF_F_Hea11031823_ACGACAAAGGA...      0.583126  -0.264195  \n",
       "\n",
       "[1899 rows x 40 columns]"
      ]
     },
     "execution_count": 4,
     "metadata": {},
     "output_type": "execute_result"
    }
   ],
   "source": [
    "adata_paired.obs"
   ]
  },
  {
   "cell_type": "code",
   "execution_count": 5,
   "metadata": {},
   "outputs": [
    {
     "data": {
      "text/plain": [
       "36601"
      ]
     },
     "execution_count": 5,
     "metadata": {},
     "output_type": "execute_result"
    }
   ],
   "source": [
    "sum(adata_paired.var['modality']=='Gene Expression')"
   ]
  },
  {
   "cell_type": "code",
   "execution_count": 6,
   "metadata": {},
   "outputs": [
    {
     "data": {
      "text/plain": [
       "AnnData object with n_obs × n_vars = 5775 × 36601\n",
       "    obs: 'sangerID', 'combinedID', 'donor', 'facility', 'cell_or_nuclei', 'modality', 'kit_10x', 'scrublet_score', 'doublet_pval', 'doublet_bh_pval', 'n_genes', 'n_counts', 'n_genes_by_counts', 'log1p_n_genes_by_counts', 'total_counts', 'log1p_total_counts', 'total_counts_mt', 'log1p_total_counts_mt', 'pct_counts_mt', 'total_counts_ribo', 'log1p_total_counts_ribo', 'pct_counts_ribo', 'HB_score', 'multiplexed', 'batch_key', 'region', 'FACSgate', 'sex', 'week', 'trimester', 'fine_grain', 'mid_grain', 'coarse_grain', 'heart_or_greatvessels', 'cycling', 'S_score', 'G2M_score', 'phase', 'stress_score', 'hb1_score'\n",
       "    var: 'modality', 'gene_name_scRNA-0', 'gene_id'"
      ]
     },
     "execution_count": 6,
     "metadata": {},
     "output_type": "execute_result"
    }
   ],
   "source": [
    "# scrna\n",
    "adata_scrna = sc.read_h5ad('/nfs/team205/heart/anndata_objects/Foetal/Immune/MultiVI-pre_scRNA_foetal_MoMP_raw.h5ad')\n",
    "adata_scrna"
   ]
  },
  {
   "cell_type": "code",
   "execution_count": null,
   "metadata": {},
   "outputs": [],
   "source": []
  },
  {
   "cell_type": "markdown",
   "metadata": {},
   "source": [
    "## Concatenate anndata"
   ]
  },
  {
   "cell_type": "code",
   "execution_count": 7,
   "metadata": {},
   "outputs": [
    {
     "name": "stderr",
     "output_type": "stream",
     "text": [
      "/nfs/team205/kk18/miniconda3/envs/scvi0190_env/lib/python3.9/site-packages/anndata/_core/anndata.py:1785: FutureWarning: X.dtype being converted to np.float32 from float64. In the next version of anndata (0.9) conversion will not be automatic. Pass dtype explicitly to avoid this warning. Pass `AnnData(X, dtype=X.dtype, ...)` to get the future behavour.\n",
      "  [AnnData(sparse.csr_matrix(a.shape), obs=a.obs) for a in all_adatas],\n",
      "/nfs/team205/kk18/miniconda3/envs/scvi0190_env/lib/python3.9/site-packages/anndata/_core/anndata.py:1785: FutureWarning: X.dtype being converted to np.float32 from float64. In the next version of anndata (0.9) conversion will not be automatic. Pass dtype explicitly to avoid this warning. Pass `AnnData(X, dtype=X.dtype, ...)` to get the future behavour.\n",
      "  [AnnData(sparse.csr_matrix(a.shape), obs=a.obs) for a in all_adatas],\n"
     ]
    },
    {
     "data": {
      "text/plain": [
       "AnnData object with n_obs × n_vars = 7674 × 544641\n",
       "    obs: 'sangerID', 'combinedID', 'donor', 'facility', 'cell_or_nuclei', 'modality', 'kit_10x', 'scrublet_score', 'doublet_pval', 'doublet_bh_pval', 'n_genes', 'n_counts', 'n_genes_by_counts', 'log1p_n_genes_by_counts', 'total_counts', 'log1p_total_counts', 'total_counts_mt', 'log1p_total_counts_mt', 'pct_counts_mt', 'total_counts_ribo', 'log1p_total_counts_ribo', 'pct_counts_ribo', 'HB_score', 'multiplexed', 'batch_key', 'region', 'FACSgate', 'sex', 'week', 'trimester', 'fine_grain', 'mid_grain', 'coarse_grain', 'heart_or_greatvessels', 'cycling', 'S_score', 'G2M_score', 'phase', 'stress_score', 'hb1_score'\n",
       "    var: 'modality', 'gene_name_scRNA-0', 'gene_id'"
      ]
     },
     "execution_count": 7,
     "metadata": {},
     "output_type": "execute_result"
    }
   ],
   "source": [
    "adata_mvi = scvi.data.organize_multiome_anndatas(adata_paired, adata_scrna)\n",
    "adata_mvi"
   ]
  },
  {
   "cell_type": "code",
   "execution_count": 8,
   "metadata": {},
   "outputs": [
    {
     "data": {
      "text/html": [
       "<div>\n",
       "<style scoped>\n",
       "    .dataframe tbody tr th:only-of-type {\n",
       "        vertical-align: middle;\n",
       "    }\n",
       "\n",
       "    .dataframe tbody tr th {\n",
       "        vertical-align: top;\n",
       "    }\n",
       "\n",
       "    .dataframe thead th {\n",
       "        text-align: right;\n",
       "    }\n",
       "</style>\n",
       "<table border=\"1\" class=\"dataframe\">\n",
       "  <thead>\n",
       "    <tr style=\"text-align: right;\">\n",
       "      <th></th>\n",
       "      <th>modality</th>\n",
       "    </tr>\n",
       "  </thead>\n",
       "  <tbody>\n",
       "    <tr>\n",
       "      <th>BHF_F_Hea11933668_BHF_F_Hea11596621_CATAGTCAGCAATAGG-1_paired</th>\n",
       "      <td>paired</td>\n",
       "    </tr>\n",
       "    <tr>\n",
       "      <th>BHF_F_Hea11933669_BHF_F_Hea11596622_TTCGGTACAGCACGTT-1_paired</th>\n",
       "      <td>paired</td>\n",
       "    </tr>\n",
       "    <tr>\n",
       "      <th>BHF_F_Hea11933667_BHF_F_Hea11596620_TCATGCCTCGTTATCT-1_paired</th>\n",
       "      <td>paired</td>\n",
       "    </tr>\n",
       "    <tr>\n",
       "      <th>BHF_F_Hea11933667_BHF_F_Hea11596620_TCTAATCTCCTCACTA-1_paired</th>\n",
       "      <td>paired</td>\n",
       "    </tr>\n",
       "    <tr>\n",
       "      <th>7089STDY13216927_BHF_F_Hea13242534_GTTTCTAGTCCTAGTT-1_paired</th>\n",
       "      <td>paired</td>\n",
       "    </tr>\n",
       "    <tr>\n",
       "      <th>...</th>\n",
       "      <td>...</td>\n",
       "    </tr>\n",
       "    <tr>\n",
       "      <th>BHF_F_Hea11192328_AAGACCTCACACGCTG-1_expression</th>\n",
       "      <td>expression</td>\n",
       "    </tr>\n",
       "    <tr>\n",
       "      <th>BHF_F_Hea11192328_CATATGGCAGCTCGCA-1_expression</th>\n",
       "      <td>expression</td>\n",
       "    </tr>\n",
       "    <tr>\n",
       "      <th>BHF_F_Hea11192328_CAACCAACACGCGAAA-1_expression</th>\n",
       "      <td>expression</td>\n",
       "    </tr>\n",
       "    <tr>\n",
       "      <th>BHF_F_Hea11192328_CATCAAGTCGTAGATC-1_expression</th>\n",
       "      <td>expression</td>\n",
       "    </tr>\n",
       "    <tr>\n",
       "      <th>BHF_F_Hea11192328_GGATGTTGTGTTTGTG-1_expression</th>\n",
       "      <td>expression</td>\n",
       "    </tr>\n",
       "  </tbody>\n",
       "</table>\n",
       "<p>7674 rows × 1 columns</p>\n",
       "</div>"
      ],
      "text/plain": [
       "                                                      modality\n",
       "BHF_F_Hea11933668_BHF_F_Hea11596621_CATAGTCAGCA...      paired\n",
       "BHF_F_Hea11933669_BHF_F_Hea11596622_TTCGGTACAGC...      paired\n",
       "BHF_F_Hea11933667_BHF_F_Hea11596620_TCATGCCTCGT...      paired\n",
       "BHF_F_Hea11933667_BHF_F_Hea11596620_TCTAATCTCCT...      paired\n",
       "7089STDY13216927_BHF_F_Hea13242534_GTTTCTAGTCCT...      paired\n",
       "...                                                        ...\n",
       "BHF_F_Hea11192328_AAGACCTCACACGCTG-1_expression     expression\n",
       "BHF_F_Hea11192328_CATATGGCAGCTCGCA-1_expression     expression\n",
       "BHF_F_Hea11192328_CAACCAACACGCGAAA-1_expression     expression\n",
       "BHF_F_Hea11192328_CATCAAGTCGTAGATC-1_expression     expression\n",
       "BHF_F_Hea11192328_GGATGTTGTGTTTGTG-1_expression     expression\n",
       "\n",
       "[7674 rows x 1 columns]"
      ]
     },
     "execution_count": 8,
     "metadata": {},
     "output_type": "execute_result"
    }
   ],
   "source": [
    "adata_mvi.obs[['modality']]"
   ]
  },
  {
   "cell_type": "code",
   "execution_count": 9,
   "metadata": {},
   "outputs": [
    {
     "data": {
      "text/html": [
       "<div>\n",
       "<style scoped>\n",
       "    .dataframe tbody tr th:only-of-type {\n",
       "        vertical-align: middle;\n",
       "    }\n",
       "\n",
       "    .dataframe tbody tr th {\n",
       "        vertical-align: top;\n",
       "    }\n",
       "\n",
       "    .dataframe thead th {\n",
       "        text-align: right;\n",
       "    }\n",
       "</style>\n",
       "<table border=\"1\" class=\"dataframe\">\n",
       "  <thead>\n",
       "    <tr style=\"text-align: right;\">\n",
       "      <th></th>\n",
       "      <th>modality</th>\n",
       "      <th>gene_name_scRNA-0</th>\n",
       "      <th>gene_id</th>\n",
       "    </tr>\n",
       "  </thead>\n",
       "  <tbody>\n",
       "    <tr>\n",
       "      <th>MIR1302-2HG</th>\n",
       "      <td>Gene Expression</td>\n",
       "      <td>MIR1302-2HG</td>\n",
       "      <td>ENSG00000243485</td>\n",
       "    </tr>\n",
       "    <tr>\n",
       "      <th>AL391261.2</th>\n",
       "      <td>Gene Expression</td>\n",
       "      <td>AL391261.2</td>\n",
       "      <td>ENSG00000258847</td>\n",
       "    </tr>\n",
       "    <tr>\n",
       "      <th>FUT8-AS1</th>\n",
       "      <td>Gene Expression</td>\n",
       "      <td>FUT8-AS1</td>\n",
       "      <td>ENSG00000276116</td>\n",
       "    </tr>\n",
       "    <tr>\n",
       "      <th>FUT8</th>\n",
       "      <td>Gene Expression</td>\n",
       "      <td>FUT8</td>\n",
       "      <td>ENSG00000033170</td>\n",
       "    </tr>\n",
       "    <tr>\n",
       "      <th>AL355076.2</th>\n",
       "      <td>Gene Expression</td>\n",
       "      <td>AL355076.2</td>\n",
       "      <td>ENSG00000258760</td>\n",
       "    </tr>\n",
       "    <tr>\n",
       "      <th>...</th>\n",
       "      <td>...</td>\n",
       "      <td>...</td>\n",
       "      <td>...</td>\n",
       "    </tr>\n",
       "    <tr>\n",
       "      <th>chr5:177134858_177135358</th>\n",
       "      <td>Peaks</td>\n",
       "      <td>NaN</td>\n",
       "      <td>NaN</td>\n",
       "    </tr>\n",
       "    <tr>\n",
       "      <th>chr5:177134341_177134841</th>\n",
       "      <td>Peaks</td>\n",
       "      <td>NaN</td>\n",
       "      <td>NaN</td>\n",
       "    </tr>\n",
       "    <tr>\n",
       "      <th>chr5:177133469_177133969</th>\n",
       "      <td>Peaks</td>\n",
       "      <td>NaN</td>\n",
       "      <td>NaN</td>\n",
       "    </tr>\n",
       "    <tr>\n",
       "      <th>chr5:177194851_177195351</th>\n",
       "      <td>Peaks</td>\n",
       "      <td>NaN</td>\n",
       "      <td>NaN</td>\n",
       "    </tr>\n",
       "    <tr>\n",
       "      <th>chrX:155881618_155882118</th>\n",
       "      <td>Peaks</td>\n",
       "      <td>NaN</td>\n",
       "      <td>NaN</td>\n",
       "    </tr>\n",
       "  </tbody>\n",
       "</table>\n",
       "<p>544641 rows × 3 columns</p>\n",
       "</div>"
      ],
      "text/plain": [
       "                                 modality gene_name_scRNA-0          gene_id\n",
       "MIR1302-2HG               Gene Expression       MIR1302-2HG  ENSG00000243485\n",
       "AL391261.2                Gene Expression        AL391261.2  ENSG00000258847\n",
       "FUT8-AS1                  Gene Expression          FUT8-AS1  ENSG00000276116\n",
       "FUT8                      Gene Expression              FUT8  ENSG00000033170\n",
       "AL355076.2                Gene Expression        AL355076.2  ENSG00000258760\n",
       "...                                   ...               ...              ...\n",
       "chr5:177134858_177135358            Peaks               NaN              NaN\n",
       "chr5:177134341_177134841            Peaks               NaN              NaN\n",
       "chr5:177133469_177133969            Peaks               NaN              NaN\n",
       "chr5:177194851_177195351            Peaks               NaN              NaN\n",
       "chrX:155881618_155882118            Peaks               NaN              NaN\n",
       "\n",
       "[544641 rows x 3 columns]"
      ]
     },
     "execution_count": 9,
     "metadata": {},
     "output_type": "execute_result"
    }
   ],
   "source": [
    "# MultiVI requires the features to be ordered, \n",
    "# such that genes appear before genomic regions. In this case this is already the case, but it’s always good to verify:\n",
    "adata_mvi = adata_mvi[:, adata_mvi.var[\"modality\"].argsort()].copy()\n",
    "adata_mvi.var"
   ]
  },
  {
   "cell_type": "code",
   "execution_count": 10,
   "metadata": {},
   "outputs": [
    {
     "name": "stdout",
     "output_type": "stream",
     "text": [
      "(7674, 544641)\n",
      "(7674, 142283)\n"
     ]
    }
   ],
   "source": [
    "# We also filter features to remove those that appear in fewer than 1% of the cells\n",
    "# modified to 0.3% to retain around 100000 features\n",
    "print(adata_mvi.shape)\n",
    "sc.pp.filter_genes(adata_mvi, min_cells=int(adata_mvi.shape[0] * 0.003))\n",
    "print(adata_mvi.shape)"
   ]
  },
  {
   "cell_type": "code",
   "execution_count": 11,
   "metadata": {},
   "outputs": [
    {
     "data": {
      "text/plain": [
       "Peaks              126361\n",
       "Gene Expression     15922\n",
       "Name: modality, dtype: int64"
      ]
     },
     "execution_count": 11,
     "metadata": {},
     "output_type": "execute_result"
    }
   ],
   "source": [
    "adata_mvi.var['modality'].value_counts()"
   ]
  },
  {
   "cell_type": "code",
   "execution_count": null,
   "metadata": {},
   "outputs": [],
   "source": []
  },
  {
   "cell_type": "markdown",
   "metadata": {},
   "source": [
    "## Setup and training MultiVI (with continuous covariates)"
   ]
  },
  {
   "cell_type": "markdown",
   "metadata": {},
   "source": [
    "MultiVI requires the main batch annotation to correspond to the modality of the samples.<br> Other batch annotation, such as in the case of multiple RNA-only batches, can be specified using categorical_covariate_keys.\n",
    "\n"
   ]
  },
  {
   "cell_type": "code",
   "execution_count": 12,
   "metadata": {},
   "outputs": [
    {
     "data": {
      "text/plain": [
       "expression    5775\n",
       "paired        1899\n",
       "Name: modality, dtype: int64"
      ]
     },
     "execution_count": 12,
     "metadata": {},
     "output_type": "execute_result"
    }
   ],
   "source": [
    "adata_mvi.obs['modality'].value_counts()"
   ]
  },
  {
   "cell_type": "code",
   "execution_count": 13,
   "metadata": {},
   "outputs": [
    {
     "data": {
      "text/plain": [
       "C99_Cell_5prime-v2          4129\n",
       "C94_Cell_5prime-v2          1080\n",
       "Hst33_Nuclei_Multiome-v1     838\n",
       "C86_Cell_5prime-v2           566\n",
       "C92_Nuclei_Multiome-v1       417\n",
       "C98_Nuclei_Multiome-v1       319\n",
       "Hst36_Nuclei_Multiome-v1     120\n",
       "C85_Nuclei_Multiome-v1        81\n",
       "C87_Nuclei_Multiome-v1        74\n",
       "C82_Nuclei_Multiome-v1        50\n",
       "Name: batch_key, dtype: int64"
      ]
     },
     "execution_count": 13,
     "metadata": {},
     "output_type": "execute_result"
    }
   ],
   "source": [
    "adata_mvi.obs['batch_key'].value_counts()"
   ]
  },
  {
   "cell_type": "code",
   "execution_count": 14,
   "metadata": {},
   "outputs": [
    {
     "name": "stderr",
     "output_type": "stream",
     "text": [
      "No GPU/TPU found, falling back to CPU. (Set TF_CPP_MIN_LOG_LEVEL=0 and rerun for more info.)\n"
     ]
    }
   ],
   "source": [
    "scvi.model.MULTIVI.setup_anndata(adata_mvi, batch_key='modality',\n",
    "                                categorical_covariate_keys=['batch_key'],\n",
    "                                continuous_covariate_keys=['total_counts','pct_counts_mt','pct_counts_ribo',\n",
    "                                                          'S_score','G2M_score'])"
   ]
  },
  {
   "cell_type": "code",
   "execution_count": 15,
   "metadata": {},
   "outputs": [
    {
     "name": "stderr",
     "output_type": "stream",
     "text": [
      "/nfs/team205/kk18/miniconda3/envs/scvi0190_env/lib/python3.9/site-packages/torch/nn/init.py:405: UserWarning: Initializing zero-element tensors is a no-op\n",
      "  warnings.warn(\"Initializing zero-element tensors is a no-op\")\n"
     ]
    },
    {
     "data": {
      "text/html": [
       "<pre style=\"white-space:pre;overflow-x:auto;line-height:normal;font-family:Menlo,'DejaVu Sans Mono',consolas,'Courier New',monospace\">Anndata setup with scvi-tools version <span style=\"color: #008080; text-decoration-color: #008080; font-weight: bold\">0.19</span>.<span style=\"color: #008080; text-decoration-color: #008080; font-weight: bold\">0</span>.\n",
       "</pre>\n"
      ],
      "text/plain": [
       "Anndata setup with scvi-tools version \u001b[1;36m0.19\u001b[0m.\u001b[1;36m0\u001b[0m.\n"
      ]
     },
     "metadata": {},
     "output_type": "display_data"
    },
    {
     "data": {
      "text/html": [
       "<pre style=\"white-space:pre;overflow-x:auto;line-height:normal;font-family:Menlo,'DejaVu Sans Mono',consolas,'Courier New',monospace\">\n",
       "</pre>\n"
      ],
      "text/plain": [
       "\n"
      ]
     },
     "metadata": {},
     "output_type": "display_data"
    },
    {
     "data": {
      "text/html": [
       "<pre style=\"white-space:pre;overflow-x:auto;line-height:normal;font-family:Menlo,'DejaVu Sans Mono',consolas,'Courier New',monospace\">Setup via `MULTIVI.setup_anndata` with arguments:\n",
       "</pre>\n"
      ],
      "text/plain": [
       "Setup via `MULTIVI.setup_anndata` with arguments:\n"
      ]
     },
     "metadata": {},
     "output_type": "display_data"
    },
    {
     "data": {
      "text/html": [
       "<pre style=\"white-space:pre;overflow-x:auto;line-height:normal;font-family:Menlo,'DejaVu Sans Mono',consolas,'Courier New',monospace\"><span style=\"font-weight: bold\">{</span>\n",
       "<span style=\"color: #7fbf7f; text-decoration-color: #7fbf7f\">│   </span><span style=\"color: #008000; text-decoration-color: #008000\">'layer'</span>: <span style=\"color: #800080; text-decoration-color: #800080; font-style: italic\">None</span>,\n",
       "<span style=\"color: #7fbf7f; text-decoration-color: #7fbf7f\">│   </span><span style=\"color: #008000; text-decoration-color: #008000\">'batch_key'</span>: <span style=\"color: #008000; text-decoration-color: #008000\">'modality'</span>,\n",
       "<span style=\"color: #7fbf7f; text-decoration-color: #7fbf7f\">│   </span><span style=\"color: #008000; text-decoration-color: #008000\">'size_factor_key'</span>: <span style=\"color: #800080; text-decoration-color: #800080; font-style: italic\">None</span>,\n",
       "<span style=\"color: #7fbf7f; text-decoration-color: #7fbf7f\">│   </span><span style=\"color: #008000; text-decoration-color: #008000\">'categorical_covariate_keys'</span>: <span style=\"font-weight: bold\">[</span><span style=\"color: #008000; text-decoration-color: #008000\">'batch_key'</span><span style=\"font-weight: bold\">]</span>,\n",
       "<span style=\"color: #7fbf7f; text-decoration-color: #7fbf7f\">│   </span><span style=\"color: #008000; text-decoration-color: #008000\">'continuous_covariate_keys'</span>: <span style=\"font-weight: bold\">[</span><span style=\"color: #008000; text-decoration-color: #008000\">'total_counts'</span>, <span style=\"color: #008000; text-decoration-color: #008000\">'pct_counts_mt'</span>, <span style=\"color: #008000; text-decoration-color: #008000\">'pct_counts_ribo'</span>, <span style=\"color: #008000; text-decoration-color: #008000\">'S_score'</span>, <span style=\"color: #008000; text-decoration-color: #008000\">'G2M_score'</span><span style=\"font-weight: bold\">]</span>,\n",
       "<span style=\"color: #7fbf7f; text-decoration-color: #7fbf7f\">│   </span><span style=\"color: #008000; text-decoration-color: #008000\">'protein_expression_obsm_key'</span>: <span style=\"color: #800080; text-decoration-color: #800080; font-style: italic\">None</span>,\n",
       "<span style=\"color: #7fbf7f; text-decoration-color: #7fbf7f\">│   </span><span style=\"color: #008000; text-decoration-color: #008000\">'protein_names_uns_key'</span>: <span style=\"color: #800080; text-decoration-color: #800080; font-style: italic\">None</span>\n",
       "<span style=\"font-weight: bold\">}</span>\n",
       "</pre>\n"
      ],
      "text/plain": [
       "\u001b[1m{\u001b[0m\n",
       "\u001b[2;32m│   \u001b[0m\u001b[32m'layer'\u001b[0m: \u001b[3;35mNone\u001b[0m,\n",
       "\u001b[2;32m│   \u001b[0m\u001b[32m'batch_key'\u001b[0m: \u001b[32m'modality'\u001b[0m,\n",
       "\u001b[2;32m│   \u001b[0m\u001b[32m'size_factor_key'\u001b[0m: \u001b[3;35mNone\u001b[0m,\n",
       "\u001b[2;32m│   \u001b[0m\u001b[32m'categorical_covariate_keys'\u001b[0m: \u001b[1m[\u001b[0m\u001b[32m'batch_key'\u001b[0m\u001b[1m]\u001b[0m,\n",
       "\u001b[2;32m│   \u001b[0m\u001b[32m'continuous_covariate_keys'\u001b[0m: \u001b[1m[\u001b[0m\u001b[32m'total_counts'\u001b[0m, \u001b[32m'pct_counts_mt'\u001b[0m, \u001b[32m'pct_counts_ribo'\u001b[0m, \u001b[32m'S_score'\u001b[0m, \u001b[32m'G2M_score'\u001b[0m\u001b[1m]\u001b[0m,\n",
       "\u001b[2;32m│   \u001b[0m\u001b[32m'protein_expression_obsm_key'\u001b[0m: \u001b[3;35mNone\u001b[0m,\n",
       "\u001b[2;32m│   \u001b[0m\u001b[32m'protein_names_uns_key'\u001b[0m: \u001b[3;35mNone\u001b[0m\n",
       "\u001b[1m}\u001b[0m\n"
      ]
     },
     "metadata": {},
     "output_type": "display_data"
    },
    {
     "data": {
      "text/html": [
       "<pre style=\"white-space:pre;overflow-x:auto;line-height:normal;font-family:Menlo,'DejaVu Sans Mono',consolas,'Courier New',monospace\">\n",
       "</pre>\n"
      ],
      "text/plain": [
       "\n"
      ]
     },
     "metadata": {},
     "output_type": "display_data"
    },
    {
     "data": {
      "text/html": [
       "<pre style=\"white-space:pre;overflow-x:auto;line-height:normal;font-family:Menlo,'DejaVu Sans Mono',consolas,'Courier New',monospace\"><span style=\"font-style: italic\">         Summary Statistics          </span>\n",
       "┏━━━━━━━━━━━━━━━━━━━━━━━━━━┳━━━━━━━━┓\n",
       "┃<span style=\"font-weight: bold\">     Summary Stat Key     </span>┃<span style=\"font-weight: bold\"> Value  </span>┃\n",
       "┡━━━━━━━━━━━━━━━━━━━━━━━━━━╇━━━━━━━━┩\n",
       "│<span style=\"color: #0087ff; text-decoration-color: #0087ff\">         n_batch          </span>│<span style=\"color: #af00d7; text-decoration-color: #af00d7\">   2    </span>│\n",
       "│<span style=\"color: #0087ff; text-decoration-color: #0087ff\">         n_cells          </span>│<span style=\"color: #af00d7; text-decoration-color: #af00d7\">  7674  </span>│\n",
       "│<span style=\"color: #0087ff; text-decoration-color: #0087ff\"> n_extra_categorical_covs </span>│<span style=\"color: #af00d7; text-decoration-color: #af00d7\">   1    </span>│\n",
       "│<span style=\"color: #0087ff; text-decoration-color: #0087ff\"> n_extra_continuous_covs  </span>│<span style=\"color: #af00d7; text-decoration-color: #af00d7\">   5    </span>│\n",
       "│<span style=\"color: #0087ff; text-decoration-color: #0087ff\">         n_labels         </span>│<span style=\"color: #af00d7; text-decoration-color: #af00d7\">   1    </span>│\n",
       "│<span style=\"color: #0087ff; text-decoration-color: #0087ff\">          n_vars          </span>│<span style=\"color: #af00d7; text-decoration-color: #af00d7\"> 142283 </span>│\n",
       "└──────────────────────────┴────────┘\n",
       "</pre>\n"
      ],
      "text/plain": [
       "\u001b[3m         Summary Statistics          \u001b[0m\n",
       "┏━━━━━━━━━━━━━━━━━━━━━━━━━━┳━━━━━━━━┓\n",
       "┃\u001b[1m \u001b[0m\u001b[1m    Summary Stat Key    \u001b[0m\u001b[1m \u001b[0m┃\u001b[1m \u001b[0m\u001b[1mValue \u001b[0m\u001b[1m \u001b[0m┃\n",
       "┡━━━━━━━━━━━━━━━━━━━━━━━━━━╇━━━━━━━━┩\n",
       "│\u001b[38;5;33m \u001b[0m\u001b[38;5;33m        n_batch         \u001b[0m\u001b[38;5;33m \u001b[0m│\u001b[38;5;128m \u001b[0m\u001b[38;5;128m  2   \u001b[0m\u001b[38;5;128m \u001b[0m│\n",
       "│\u001b[38;5;33m \u001b[0m\u001b[38;5;33m        n_cells         \u001b[0m\u001b[38;5;33m \u001b[0m│\u001b[38;5;128m \u001b[0m\u001b[38;5;128m 7674 \u001b[0m\u001b[38;5;128m \u001b[0m│\n",
       "│\u001b[38;5;33m \u001b[0m\u001b[38;5;33mn_extra_categorical_covs\u001b[0m\u001b[38;5;33m \u001b[0m│\u001b[38;5;128m \u001b[0m\u001b[38;5;128m  1   \u001b[0m\u001b[38;5;128m \u001b[0m│\n",
       "│\u001b[38;5;33m \u001b[0m\u001b[38;5;33mn_extra_continuous_covs \u001b[0m\u001b[38;5;33m \u001b[0m│\u001b[38;5;128m \u001b[0m\u001b[38;5;128m  5   \u001b[0m\u001b[38;5;128m \u001b[0m│\n",
       "│\u001b[38;5;33m \u001b[0m\u001b[38;5;33m        n_labels        \u001b[0m\u001b[38;5;33m \u001b[0m│\u001b[38;5;128m \u001b[0m\u001b[38;5;128m  1   \u001b[0m\u001b[38;5;128m \u001b[0m│\n",
       "│\u001b[38;5;33m \u001b[0m\u001b[38;5;33m         n_vars         \u001b[0m\u001b[38;5;33m \u001b[0m│\u001b[38;5;128m \u001b[0m\u001b[38;5;128m142283\u001b[0m\u001b[38;5;128m \u001b[0m│\n",
       "└──────────────────────────┴────────┘\n"
      ]
     },
     "metadata": {},
     "output_type": "display_data"
    },
    {
     "data": {
      "text/html": [
       "<pre style=\"white-space:pre;overflow-x:auto;line-height:normal;font-family:Menlo,'DejaVu Sans Mono',consolas,'Courier New',monospace\"><span style=\"font-style: italic\">                             Data Registry                             </span>\n",
       "┏━━━━━━━━━━━━━━━━━━━━━━━━┳━━━━━━━━━━━━━━━━━━━━━━━━━━━━━━━━━━━━━━━━━━━━┓\n",
       "┃<span style=\"font-weight: bold\">      Registry Key      </span>┃<span style=\"font-weight: bold\">            scvi-tools Location             </span>┃\n",
       "┡━━━━━━━━━━━━━━━━━━━━━━━━╇━━━━━━━━━━━━━━━━━━━━━━━━━━━━━━━━━━━━━━━━━━━━┩\n",
       "│<span style=\"color: #0087ff; text-decoration-color: #0087ff\">           X            </span>│<span style=\"color: #af00d7; text-decoration-color: #af00d7\">                  adata.X                   </span>│\n",
       "│<span style=\"color: #0087ff; text-decoration-color: #0087ff\">         batch          </span>│<span style=\"color: #af00d7; text-decoration-color: #af00d7\">          adata.obs['_scvi_batch']          </span>│\n",
       "│<span style=\"color: #0087ff; text-decoration-color: #0087ff\"> extra_categorical_covs </span>│<span style=\"color: #af00d7; text-decoration-color: #af00d7\"> adata.obsm['_scvi_extra_categorical_covs'] </span>│\n",
       "│<span style=\"color: #0087ff; text-decoration-color: #0087ff\"> extra_continuous_covs  </span>│<span style=\"color: #af00d7; text-decoration-color: #af00d7\"> adata.obsm['_scvi_extra_continuous_covs']  </span>│\n",
       "│<span style=\"color: #0087ff; text-decoration-color: #0087ff\">         ind_x          </span>│<span style=\"color: #af00d7; text-decoration-color: #af00d7\">           adata.obs['_indices']            </span>│\n",
       "│<span style=\"color: #0087ff; text-decoration-color: #0087ff\">         labels         </span>│<span style=\"color: #af00d7; text-decoration-color: #af00d7\">         adata.obs['_scvi_labels']          </span>│\n",
       "└────────────────────────┴────────────────────────────────────────────┘\n",
       "</pre>\n"
      ],
      "text/plain": [
       "\u001b[3m                             Data Registry                             \u001b[0m\n",
       "┏━━━━━━━━━━━━━━━━━━━━━━━━┳━━━━━━━━━━━━━━━━━━━━━━━━━━━━━━━━━━━━━━━━━━━━┓\n",
       "┃\u001b[1m \u001b[0m\u001b[1m     Registry Key     \u001b[0m\u001b[1m \u001b[0m┃\u001b[1m \u001b[0m\u001b[1m           scvi-tools Location            \u001b[0m\u001b[1m \u001b[0m┃\n",
       "┡━━━━━━━━━━━━━━━━━━━━━━━━╇━━━━━━━━━━━━━━━━━━━━━━━━━━━━━━━━━━━━━━━━━━━━┩\n",
       "│\u001b[38;5;33m \u001b[0m\u001b[38;5;33m          X           \u001b[0m\u001b[38;5;33m \u001b[0m│\u001b[38;5;128m \u001b[0m\u001b[38;5;128m                 adata.X                  \u001b[0m\u001b[38;5;128m \u001b[0m│\n",
       "│\u001b[38;5;33m \u001b[0m\u001b[38;5;33m        batch         \u001b[0m\u001b[38;5;33m \u001b[0m│\u001b[38;5;128m \u001b[0m\u001b[38;5;128m         adata.obs['_scvi_batch']         \u001b[0m\u001b[38;5;128m \u001b[0m│\n",
       "│\u001b[38;5;33m \u001b[0m\u001b[38;5;33mextra_categorical_covs\u001b[0m\u001b[38;5;33m \u001b[0m│\u001b[38;5;128m \u001b[0m\u001b[38;5;128madata.obsm['_scvi_extra_categorical_covs']\u001b[0m\u001b[38;5;128m \u001b[0m│\n",
       "│\u001b[38;5;33m \u001b[0m\u001b[38;5;33mextra_continuous_covs \u001b[0m\u001b[38;5;33m \u001b[0m│\u001b[38;5;128m \u001b[0m\u001b[38;5;128madata.obsm['_scvi_extra_continuous_covs'] \u001b[0m\u001b[38;5;128m \u001b[0m│\n",
       "│\u001b[38;5;33m \u001b[0m\u001b[38;5;33m        ind_x         \u001b[0m\u001b[38;5;33m \u001b[0m│\u001b[38;5;128m \u001b[0m\u001b[38;5;128m          adata.obs['_indices']           \u001b[0m\u001b[38;5;128m \u001b[0m│\n",
       "│\u001b[38;5;33m \u001b[0m\u001b[38;5;33m        labels        \u001b[0m\u001b[38;5;33m \u001b[0m│\u001b[38;5;128m \u001b[0m\u001b[38;5;128m        adata.obs['_scvi_labels']         \u001b[0m\u001b[38;5;128m \u001b[0m│\n",
       "└────────────────────────┴────────────────────────────────────────────┘\n"
      ]
     },
     "metadata": {},
     "output_type": "display_data"
    },
    {
     "data": {
      "text/html": [
       "<pre style=\"white-space:pre;overflow-x:auto;line-height:normal;font-family:Menlo,'DejaVu Sans Mono',consolas,'Courier New',monospace\"><span style=\"font-style: italic\">                    batch State Registry                    </span>\n",
       "┏━━━━━━━━━━━━━━━━━━━━━━━┳━━━━━━━━━━━━┳━━━━━━━━━━━━━━━━━━━━━┓\n",
       "┃<span style=\"font-weight: bold\">    Source Location    </span>┃<span style=\"font-weight: bold\"> Categories </span>┃<span style=\"font-weight: bold\"> scvi-tools Encoding </span>┃\n",
       "┡━━━━━━━━━━━━━━━━━━━━━━━╇━━━━━━━━━━━━╇━━━━━━━━━━━━━━━━━━━━━┩\n",
       "│<span style=\"color: #0087ff; text-decoration-color: #0087ff\"> adata.obs['modality'] </span>│<span style=\"color: #008000; text-decoration-color: #008000\"> expression </span>│<span style=\"color: #af00d7; text-decoration-color: #af00d7\">          0          </span>│\n",
       "│<span style=\"color: #0087ff; text-decoration-color: #0087ff\">                       </span>│<span style=\"color: #008000; text-decoration-color: #008000\">   paired   </span>│<span style=\"color: #af00d7; text-decoration-color: #af00d7\">          1          </span>│\n",
       "└───────────────────────┴────────────┴─────────────────────┘\n",
       "</pre>\n"
      ],
      "text/plain": [
       "\u001b[3m                    batch State Registry                    \u001b[0m\n",
       "┏━━━━━━━━━━━━━━━━━━━━━━━┳━━━━━━━━━━━━┳━━━━━━━━━━━━━━━━━━━━━┓\n",
       "┃\u001b[1m \u001b[0m\u001b[1m   Source Location   \u001b[0m\u001b[1m \u001b[0m┃\u001b[1m \u001b[0m\u001b[1mCategories\u001b[0m\u001b[1m \u001b[0m┃\u001b[1m \u001b[0m\u001b[1mscvi-tools Encoding\u001b[0m\u001b[1m \u001b[0m┃\n",
       "┡━━━━━━━━━━━━━━━━━━━━━━━╇━━━━━━━━━━━━╇━━━━━━━━━━━━━━━━━━━━━┩\n",
       "│\u001b[38;5;33m \u001b[0m\u001b[38;5;33madata.obs['modality']\u001b[0m\u001b[38;5;33m \u001b[0m│\u001b[32m \u001b[0m\u001b[32mexpression\u001b[0m\u001b[32m \u001b[0m│\u001b[38;5;128m \u001b[0m\u001b[38;5;128m         0         \u001b[0m\u001b[38;5;128m \u001b[0m│\n",
       "│\u001b[38;5;33m \u001b[0m\u001b[38;5;33m                     \u001b[0m\u001b[38;5;33m \u001b[0m│\u001b[32m \u001b[0m\u001b[32m  paired  \u001b[0m\u001b[32m \u001b[0m│\u001b[38;5;128m \u001b[0m\u001b[38;5;128m         1         \u001b[0m\u001b[38;5;128m \u001b[0m│\n",
       "└───────────────────────┴────────────┴─────────────────────┘\n"
      ]
     },
     "metadata": {},
     "output_type": "display_data"
    },
    {
     "data": {
      "text/html": [
       "<pre style=\"white-space:pre;overflow-x:auto;line-height:normal;font-family:Menlo,'DejaVu Sans Mono',consolas,'Courier New',monospace\"><span style=\"font-style: italic\">                     labels State Registry                      </span>\n",
       "┏━━━━━━━━━━━━━━━━━━━━━━━━━━━┳━━━━━━━━━━━━┳━━━━━━━━━━━━━━━━━━━━━┓\n",
       "┃<span style=\"font-weight: bold\">      Source Location      </span>┃<span style=\"font-weight: bold\"> Categories </span>┃<span style=\"font-weight: bold\"> scvi-tools Encoding </span>┃\n",
       "┡━━━━━━━━━━━━━━━━━━━━━━━━━━━╇━━━━━━━━━━━━╇━━━━━━━━━━━━━━━━━━━━━┩\n",
       "│<span style=\"color: #0087ff; text-decoration-color: #0087ff\"> adata.obs['_scvi_labels'] </span>│<span style=\"color: #008000; text-decoration-color: #008000\">     0      </span>│<span style=\"color: #af00d7; text-decoration-color: #af00d7\">          0          </span>│\n",
       "└───────────────────────────┴────────────┴─────────────────────┘\n",
       "</pre>\n"
      ],
      "text/plain": [
       "\u001b[3m                     labels State Registry                      \u001b[0m\n",
       "┏━━━━━━━━━━━━━━━━━━━━━━━━━━━┳━━━━━━━━━━━━┳━━━━━━━━━━━━━━━━━━━━━┓\n",
       "┃\u001b[1m \u001b[0m\u001b[1m     Source Location     \u001b[0m\u001b[1m \u001b[0m┃\u001b[1m \u001b[0m\u001b[1mCategories\u001b[0m\u001b[1m \u001b[0m┃\u001b[1m \u001b[0m\u001b[1mscvi-tools Encoding\u001b[0m\u001b[1m \u001b[0m┃\n",
       "┡━━━━━━━━━━━━━━━━━━━━━━━━━━━╇━━━━━━━━━━━━╇━━━━━━━━━━━━━━━━━━━━━┩\n",
       "│\u001b[38;5;33m \u001b[0m\u001b[38;5;33madata.obs['_scvi_labels']\u001b[0m\u001b[38;5;33m \u001b[0m│\u001b[32m \u001b[0m\u001b[32m    0     \u001b[0m\u001b[32m \u001b[0m│\u001b[38;5;128m \u001b[0m\u001b[38;5;128m         0         \u001b[0m\u001b[38;5;128m \u001b[0m│\n",
       "└───────────────────────────┴────────────┴─────────────────────┘\n"
      ]
     },
     "metadata": {},
     "output_type": "display_data"
    },
    {
     "data": {
      "text/html": [
       "<pre style=\"white-space:pre;overflow-x:auto;line-height:normal;font-family:Menlo,'DejaVu Sans Mono',consolas,'Courier New',monospace\"><span style=\"font-style: italic\">                    batch State Registry                    </span>\n",
       "┏━━━━━━━━━━━━━━━━━━━━━━━┳━━━━━━━━━━━━┳━━━━━━━━━━━━━━━━━━━━━┓\n",
       "┃<span style=\"font-weight: bold\">    Source Location    </span>┃<span style=\"font-weight: bold\"> Categories </span>┃<span style=\"font-weight: bold\"> scvi-tools Encoding </span>┃\n",
       "┡━━━━━━━━━━━━━━━━━━━━━━━╇━━━━━━━━━━━━╇━━━━━━━━━━━━━━━━━━━━━┩\n",
       "│<span style=\"color: #0087ff; text-decoration-color: #0087ff\"> adata.obs['modality'] </span>│<span style=\"color: #008000; text-decoration-color: #008000\"> expression </span>│<span style=\"color: #af00d7; text-decoration-color: #af00d7\">          0          </span>│\n",
       "│<span style=\"color: #0087ff; text-decoration-color: #0087ff\">                       </span>│<span style=\"color: #008000; text-decoration-color: #008000\">   paired   </span>│<span style=\"color: #af00d7; text-decoration-color: #af00d7\">          1          </span>│\n",
       "└───────────────────────┴────────────┴─────────────────────┘\n",
       "</pre>\n"
      ],
      "text/plain": [
       "\u001b[3m                    batch State Registry                    \u001b[0m\n",
       "┏━━━━━━━━━━━━━━━━━━━━━━━┳━━━━━━━━━━━━┳━━━━━━━━━━━━━━━━━━━━━┓\n",
       "┃\u001b[1m \u001b[0m\u001b[1m   Source Location   \u001b[0m\u001b[1m \u001b[0m┃\u001b[1m \u001b[0m\u001b[1mCategories\u001b[0m\u001b[1m \u001b[0m┃\u001b[1m \u001b[0m\u001b[1mscvi-tools Encoding\u001b[0m\u001b[1m \u001b[0m┃\n",
       "┡━━━━━━━━━━━━━━━━━━━━━━━╇━━━━━━━━━━━━╇━━━━━━━━━━━━━━━━━━━━━┩\n",
       "│\u001b[38;5;33m \u001b[0m\u001b[38;5;33madata.obs['modality']\u001b[0m\u001b[38;5;33m \u001b[0m│\u001b[32m \u001b[0m\u001b[32mexpression\u001b[0m\u001b[32m \u001b[0m│\u001b[38;5;128m \u001b[0m\u001b[38;5;128m         0         \u001b[0m\u001b[38;5;128m \u001b[0m│\n",
       "│\u001b[38;5;33m \u001b[0m\u001b[38;5;33m                     \u001b[0m\u001b[38;5;33m \u001b[0m│\u001b[32m \u001b[0m\u001b[32m  paired  \u001b[0m\u001b[32m \u001b[0m│\u001b[38;5;128m \u001b[0m\u001b[38;5;128m         1         \u001b[0m\u001b[38;5;128m \u001b[0m│\n",
       "└───────────────────────┴────────────┴─────────────────────┘\n"
      ]
     },
     "metadata": {},
     "output_type": "display_data"
    },
    {
     "data": {
      "text/html": [
       "<pre style=\"white-space:pre;overflow-x:auto;line-height:normal;font-family:Menlo,'DejaVu Sans Mono',consolas,'Courier New',monospace\"><span style=\"font-style: italic\">                   extra_categorical_covs State Registry                   </span>\n",
       "┏━━━━━━━━━━━━━━━━━━━━━━━━┳━━━━━━━━━━━━━━━━━━━━━━━━━━┳━━━━━━━━━━━━━━━━━━━━━┓\n",
       "┃<span style=\"font-weight: bold\">    Source Location     </span>┃<span style=\"font-weight: bold\">        Categories        </span>┃<span style=\"font-weight: bold\"> scvi-tools Encoding </span>┃\n",
       "┡━━━━━━━━━━━━━━━━━━━━━━━━╇━━━━━━━━━━━━━━━━━━━━━━━━━━╇━━━━━━━━━━━━━━━━━━━━━┩\n",
       "│<span style=\"color: #0087ff; text-decoration-color: #0087ff\"> adata.obs['batch_key'] </span>│<span style=\"color: #008000; text-decoration-color: #008000\">  C82_Nuclei_Multiome-v1  </span>│<span style=\"color: #af00d7; text-decoration-color: #af00d7\">          0          </span>│\n",
       "│<span style=\"color: #0087ff; text-decoration-color: #0087ff\">                        </span>│<span style=\"color: #008000; text-decoration-color: #008000\">  C85_Nuclei_Multiome-v1  </span>│<span style=\"color: #af00d7; text-decoration-color: #af00d7\">          1          </span>│\n",
       "│<span style=\"color: #0087ff; text-decoration-color: #0087ff\">                        </span>│<span style=\"color: #008000; text-decoration-color: #008000\">    C86_Cell_5prime-v2    </span>│<span style=\"color: #af00d7; text-decoration-color: #af00d7\">          2          </span>│\n",
       "│<span style=\"color: #0087ff; text-decoration-color: #0087ff\">                        </span>│<span style=\"color: #008000; text-decoration-color: #008000\">  C87_Nuclei_Multiome-v1  </span>│<span style=\"color: #af00d7; text-decoration-color: #af00d7\">          3          </span>│\n",
       "│<span style=\"color: #0087ff; text-decoration-color: #0087ff\">                        </span>│<span style=\"color: #008000; text-decoration-color: #008000\">  C92_Nuclei_Multiome-v1  </span>│<span style=\"color: #af00d7; text-decoration-color: #af00d7\">          4          </span>│\n",
       "│<span style=\"color: #0087ff; text-decoration-color: #0087ff\">                        </span>│<span style=\"color: #008000; text-decoration-color: #008000\">    C94_Cell_5prime-v2    </span>│<span style=\"color: #af00d7; text-decoration-color: #af00d7\">          5          </span>│\n",
       "│<span style=\"color: #0087ff; text-decoration-color: #0087ff\">                        </span>│<span style=\"color: #008000; text-decoration-color: #008000\">  C98_Nuclei_Multiome-v1  </span>│<span style=\"color: #af00d7; text-decoration-color: #af00d7\">          6          </span>│\n",
       "│<span style=\"color: #0087ff; text-decoration-color: #0087ff\">                        </span>│<span style=\"color: #008000; text-decoration-color: #008000\">    C99_Cell_5prime-v2    </span>│<span style=\"color: #af00d7; text-decoration-color: #af00d7\">          7          </span>│\n",
       "│<span style=\"color: #0087ff; text-decoration-color: #0087ff\">                        </span>│<span style=\"color: #008000; text-decoration-color: #008000\"> Hst33_Nuclei_Multiome-v1 </span>│<span style=\"color: #af00d7; text-decoration-color: #af00d7\">          8          </span>│\n",
       "│<span style=\"color: #0087ff; text-decoration-color: #0087ff\">                        </span>│<span style=\"color: #008000; text-decoration-color: #008000\"> Hst36_Nuclei_Multiome-v1 </span>│<span style=\"color: #af00d7; text-decoration-color: #af00d7\">          9          </span>│\n",
       "│<span style=\"color: #0087ff; text-decoration-color: #0087ff\">                        </span>│<span style=\"color: #008000; text-decoration-color: #008000\">                          </span>│<span style=\"color: #af00d7; text-decoration-color: #af00d7\">                     </span>│\n",
       "└────────────────────────┴──────────────────────────┴─────────────────────┘\n",
       "</pre>\n"
      ],
      "text/plain": [
       "\u001b[3m                   extra_categorical_covs State Registry                   \u001b[0m\n",
       "┏━━━━━━━━━━━━━━━━━━━━━━━━┳━━━━━━━━━━━━━━━━━━━━━━━━━━┳━━━━━━━━━━━━━━━━━━━━━┓\n",
       "┃\u001b[1m \u001b[0m\u001b[1m   Source Location    \u001b[0m\u001b[1m \u001b[0m┃\u001b[1m \u001b[0m\u001b[1m       Categories       \u001b[0m\u001b[1m \u001b[0m┃\u001b[1m \u001b[0m\u001b[1mscvi-tools Encoding\u001b[0m\u001b[1m \u001b[0m┃\n",
       "┡━━━━━━━━━━━━━━━━━━━━━━━━╇━━━━━━━━━━━━━━━━━━━━━━━━━━╇━━━━━━━━━━━━━━━━━━━━━┩\n",
       "│\u001b[38;5;33m \u001b[0m\u001b[38;5;33madata.obs['batch_key']\u001b[0m\u001b[38;5;33m \u001b[0m│\u001b[32m \u001b[0m\u001b[32m C82_Nuclei_Multiome-v1 \u001b[0m\u001b[32m \u001b[0m│\u001b[38;5;128m \u001b[0m\u001b[38;5;128m         0         \u001b[0m\u001b[38;5;128m \u001b[0m│\n",
       "│\u001b[38;5;33m \u001b[0m\u001b[38;5;33m                      \u001b[0m\u001b[38;5;33m \u001b[0m│\u001b[32m \u001b[0m\u001b[32m C85_Nuclei_Multiome-v1 \u001b[0m\u001b[32m \u001b[0m│\u001b[38;5;128m \u001b[0m\u001b[38;5;128m         1         \u001b[0m\u001b[38;5;128m \u001b[0m│\n",
       "│\u001b[38;5;33m \u001b[0m\u001b[38;5;33m                      \u001b[0m\u001b[38;5;33m \u001b[0m│\u001b[32m \u001b[0m\u001b[32m   C86_Cell_5prime-v2   \u001b[0m\u001b[32m \u001b[0m│\u001b[38;5;128m \u001b[0m\u001b[38;5;128m         2         \u001b[0m\u001b[38;5;128m \u001b[0m│\n",
       "│\u001b[38;5;33m \u001b[0m\u001b[38;5;33m                      \u001b[0m\u001b[38;5;33m \u001b[0m│\u001b[32m \u001b[0m\u001b[32m C87_Nuclei_Multiome-v1 \u001b[0m\u001b[32m \u001b[0m│\u001b[38;5;128m \u001b[0m\u001b[38;5;128m         3         \u001b[0m\u001b[38;5;128m \u001b[0m│\n",
       "│\u001b[38;5;33m \u001b[0m\u001b[38;5;33m                      \u001b[0m\u001b[38;5;33m \u001b[0m│\u001b[32m \u001b[0m\u001b[32m C92_Nuclei_Multiome-v1 \u001b[0m\u001b[32m \u001b[0m│\u001b[38;5;128m \u001b[0m\u001b[38;5;128m         4         \u001b[0m\u001b[38;5;128m \u001b[0m│\n",
       "│\u001b[38;5;33m \u001b[0m\u001b[38;5;33m                      \u001b[0m\u001b[38;5;33m \u001b[0m│\u001b[32m \u001b[0m\u001b[32m   C94_Cell_5prime-v2   \u001b[0m\u001b[32m \u001b[0m│\u001b[38;5;128m \u001b[0m\u001b[38;5;128m         5         \u001b[0m\u001b[38;5;128m \u001b[0m│\n",
       "│\u001b[38;5;33m \u001b[0m\u001b[38;5;33m                      \u001b[0m\u001b[38;5;33m \u001b[0m│\u001b[32m \u001b[0m\u001b[32m C98_Nuclei_Multiome-v1 \u001b[0m\u001b[32m \u001b[0m│\u001b[38;5;128m \u001b[0m\u001b[38;5;128m         6         \u001b[0m\u001b[38;5;128m \u001b[0m│\n",
       "│\u001b[38;5;33m \u001b[0m\u001b[38;5;33m                      \u001b[0m\u001b[38;5;33m \u001b[0m│\u001b[32m \u001b[0m\u001b[32m   C99_Cell_5prime-v2   \u001b[0m\u001b[32m \u001b[0m│\u001b[38;5;128m \u001b[0m\u001b[38;5;128m         7         \u001b[0m\u001b[38;5;128m \u001b[0m│\n",
       "│\u001b[38;5;33m \u001b[0m\u001b[38;5;33m                      \u001b[0m\u001b[38;5;33m \u001b[0m│\u001b[32m \u001b[0m\u001b[32mHst33_Nuclei_Multiome-v1\u001b[0m\u001b[32m \u001b[0m│\u001b[38;5;128m \u001b[0m\u001b[38;5;128m         8         \u001b[0m\u001b[38;5;128m \u001b[0m│\n",
       "│\u001b[38;5;33m \u001b[0m\u001b[38;5;33m                      \u001b[0m\u001b[38;5;33m \u001b[0m│\u001b[32m \u001b[0m\u001b[32mHst36_Nuclei_Multiome-v1\u001b[0m\u001b[32m \u001b[0m│\u001b[38;5;128m \u001b[0m\u001b[38;5;128m         9         \u001b[0m\u001b[38;5;128m \u001b[0m│\n",
       "│\u001b[38;5;33m \u001b[0m\u001b[38;5;33m                      \u001b[0m\u001b[38;5;33m \u001b[0m│\u001b[32m \u001b[0m\u001b[32m                        \u001b[0m\u001b[32m \u001b[0m│\u001b[38;5;128m \u001b[0m\u001b[38;5;128m                   \u001b[0m\u001b[38;5;128m \u001b[0m│\n",
       "└────────────────────────┴──────────────────────────┴─────────────────────┘\n"
      ]
     },
     "metadata": {},
     "output_type": "display_data"
    },
    {
     "data": {
      "text/html": [
       "<pre style=\"white-space:pre;overflow-x:auto;line-height:normal;font-family:Menlo,'DejaVu Sans Mono',consolas,'Courier New',monospace\"><span style=\"font-style: italic\">  extra_continuous_covs State   </span>\n",
       "<span style=\"font-style: italic\">            Registry            </span>\n",
       "┏━━━━━━━━━━━━━━━━━━━━━━━━━━━━━━┓\n",
       "┃<span style=\"font-weight: bold\">       Source Location        </span>┃\n",
       "┡━━━━━━━━━━━━━━━━━━━━━━━━━━━━━━┩\n",
       "│<span style=\"color: #0087ff; text-decoration-color: #0087ff\">  adata.obs['total_counts']   </span>│\n",
       "│<span style=\"color: #0087ff; text-decoration-color: #0087ff\">  adata.obs['pct_counts_mt']  </span>│\n",
       "│<span style=\"color: #0087ff; text-decoration-color: #0087ff\"> adata.obs['pct_counts_ribo'] </span>│\n",
       "│<span style=\"color: #0087ff; text-decoration-color: #0087ff\">     adata.obs['S_score']     </span>│\n",
       "│<span style=\"color: #0087ff; text-decoration-color: #0087ff\">    adata.obs['G2M_score']    </span>│\n",
       "└──────────────────────────────┘\n",
       "</pre>\n"
      ],
      "text/plain": [
       "\u001b[3m  extra_continuous_covs State   \u001b[0m\n",
       "\u001b[3m            Registry            \u001b[0m\n",
       "┏━━━━━━━━━━━━━━━━━━━━━━━━━━━━━━┓\n",
       "┃\u001b[1m \u001b[0m\u001b[1m      Source Location       \u001b[0m\u001b[1m \u001b[0m┃\n",
       "┡━━━━━━━━━━━━━━━━━━━━━━━━━━━━━━┩\n",
       "│\u001b[38;5;33m \u001b[0m\u001b[38;5;33m adata.obs['total_counts']  \u001b[0m\u001b[38;5;33m \u001b[0m│\n",
       "│\u001b[38;5;33m \u001b[0m\u001b[38;5;33m adata.obs['pct_counts_mt'] \u001b[0m\u001b[38;5;33m \u001b[0m│\n",
       "│\u001b[38;5;33m \u001b[0m\u001b[38;5;33madata.obs['pct_counts_ribo']\u001b[0m\u001b[38;5;33m \u001b[0m│\n",
       "│\u001b[38;5;33m \u001b[0m\u001b[38;5;33m    adata.obs['S_score']    \u001b[0m\u001b[38;5;33m \u001b[0m│\n",
       "│\u001b[38;5;33m \u001b[0m\u001b[38;5;33m   adata.obs['G2M_score']   \u001b[0m\u001b[38;5;33m \u001b[0m│\n",
       "└──────────────────────────────┘\n"
      ]
     },
     "metadata": {},
     "output_type": "display_data"
    }
   ],
   "source": [
    "# When creating the object, we need to specify how many of the features are genes, and how many are genomic regions. \n",
    "# This is so MultiVI can determine the exact architecture for each modality.\n",
    "mvi = scvi.model.MULTIVI(\n",
    "    adata_mvi,\n",
    "    n_genes=(adata_mvi.var['modality']=='Gene Expression').sum(),\n",
    "    n_regions=(adata_mvi.var['modality']=='Peaks').sum(),\n",
    ")\n",
    "mvi.view_anndata_setup()"
   ]
  },
  {
   "cell_type": "code",
   "execution_count": 16,
   "metadata": {},
   "outputs": [
    {
     "name": "stderr",
     "output_type": "stream",
     "text": [
      "GPU available: True (cuda), used: True\n",
      "TPU available: False, using: 0 TPU cores\n",
      "IPU available: False, using: 0 IPUs\n",
      "HPU available: False, using: 0 HPUs\n",
      "/nfs/team205/kk18/miniconda3/envs/scvi0190_env/lib/python3.9/site-packages/pytorch_lightning/trainer/configuration_validator.py:267: LightningDeprecationWarning: The `Callback.on_epoch_end` hook was deprecated in v1.6 and will be removed in v1.8. Please use `Callback.on_<train/validation/test>_epoch_end` instead.\n",
      "  rank_zero_deprecation(\n",
      "LOCAL_RANK: 0 - CUDA_VISIBLE_DEVICES: [0]\n"
     ]
    },
    {
     "name": "stdout",
     "output_type": "stream",
     "text": [
      "Epoch 404/500:  81%|██████████████████████████████████████████████████████████████████████████████████████████████████████████████████████████████                              | 404/500 [52:59<12:35,  7.87s/it, loss=6.21e+03, v_num=1]\n",
      "Monitored metric reconstruction_loss_validation did not improve in the last 50 records. Best score: 12617.060. Signaling Trainer to stop.\n"
     ]
    }
   ],
   "source": [
    "mvi.train()"
   ]
  },
  {
   "cell_type": "code",
   "execution_count": 17,
   "metadata": {
    "executionInfo": {
     "elapsed": 2835,
     "status": "ok",
     "timestamp": 1630971485279,
     "user": {
      "displayName": "Kazumasa Kanemaru",
      "photoUrl": "https://lh3.googleusercontent.com/a/default-user=s64",
      "userId": "09579449744665019665"
     },
     "user_tz": -60
    },
    "id": "p86-aohjuzoF"
   },
   "outputs": [],
   "source": [
    "mvi.save(\"/nfs/team205/heart/anndata_objects/Foetal/Immune/MultiVI-model_foetal_Mono-MP_withContCov-CCCov_13Mar2023\")"
   ]
  },
  {
   "cell_type": "code",
   "execution_count": 18,
   "metadata": {
    "executionInfo": {
     "elapsed": 16769,
     "status": "ok",
     "timestamp": 1630971502045,
     "user": {
      "displayName": "Kazumasa Kanemaru",
      "photoUrl": "https://lh3.googleusercontent.com/a/default-user=s64",
      "userId": "09579449744665019665"
     },
     "user_tz": -60
    },
    "id": "p-GNr9cJvW8F"
   },
   "outputs": [],
   "source": [
    "adata_mvi.obsm[\"MultiVI_latent\"] = mvi.get_latent_representation()"
   ]
  },
  {
   "cell_type": "code",
   "execution_count": 19,
   "metadata": {
    "executionInfo": {
     "elapsed": 5463,
     "status": "ok",
     "timestamp": 1630971507505,
     "user": {
      "displayName": "Kazumasa Kanemaru",
      "photoUrl": "https://lh3.googleusercontent.com/a/default-user=s64",
      "userId": "09579449744665019665"
     },
     "user_tz": -60
    },
    "id": "dokQ3TafvZzF"
   },
   "outputs": [],
   "source": [
    "adata_mvi.write('/nfs/team205/heart/anndata_objects/Foetal/Immune/MultiVI-post_foetal_Mono-MP_withContCov-CCCov_13Mar2023.h5ad')"
   ]
  },
  {
   "cell_type": "code",
   "execution_count": 20,
   "metadata": {},
   "outputs": [
    {
     "data": {
      "image/png": "[encoded data removed]",
      "text/plain": [
       "<Figure size 640x480 with 1 Axes>"
      ]
     },
     "metadata": {},
     "output_type": "display_data"
    }
   ],
   "source": [
    "# Convergency plot\n",
    "mvi.history['elbo_train']\n",
    "x = np.linspace(1, (len(mvi.history['elbo_train'])), (len(mvi.history['elbo_train'])))\n",
    "plt.plot(x, mvi.history['elbo_train'], label=\"train\")\n",
    "plt.xlabel('epoch')\n",
    "plt.ylabel('elbo_train')\n",
    "plt.show()"
   ]
  },
  {
   "cell_type": "code",
   "execution_count": null,
   "metadata": {},
   "outputs": [],
   "source": []
  }
 ],
 "metadata": {
  "accelerator": "GPU",
  "colab": {
   "authorship_tag": "ABX9TyP8dftkXIq4ic4InSf6yIDe",
   "name": "kk36_Adult-heart_MultiVI_20210906.ipynb",
   "provenance": []
  },
  "kernelspec": {
   "display_name": "Environment (scvi0190_env)",
   "language": "python",
   "name": "scvi0190_env"
  },
  "language_info": {
   "codemirror_mode": {
    "name": "ipython",
    "version": 3
   },
   "file_extension": ".py",
   "mimetype": "text/x-python",
   "name": "python",
   "nbconvert_exporter": "python",
   "pygments_lexer": "ipython3",
   "version": "3.9.16"
  }
 },
 "nbformat": 4,
 "nbformat_minor": 4
}
