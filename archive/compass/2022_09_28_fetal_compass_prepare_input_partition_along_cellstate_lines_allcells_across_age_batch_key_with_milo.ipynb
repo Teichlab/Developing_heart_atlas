{
 "cells": [
  {
   "cell_type": "markdown",
   "id": "romantic-manhattan",
   "metadata": {},
   "source": [
    "# Prepare Compass inputs, random groups within cell states"
   ]
  },
  {
   "cell_type": "markdown",
   "id": "aggressive-rogers",
   "metadata": {},
   "source": [
    "Try to capture biological and technical variation by partitioning within replicates divided by age bin, cell/nuclei, cell state"
   ]
  },
  {
   "cell_type": "markdown",
   "id": "rotary-initial",
   "metadata": {},
   "source": [
    "## Setup"
   ]
  },
  {
   "cell_type": "code",
   "execution_count": 18,
   "id": "suitable-visiting",
   "metadata": {},
   "outputs": [],
   "source": [
    "import numpy as np\n",
    "import pandas as pd\n",
    "import scanpy as sc\n",
    "import matplotlib.pyplot as plt\n",
    "import seaborn as sns\n",
    "from matplotlib.pyplot import rc_context\n",
    "import bbknn\n",
    "import re\n",
    "import sctk\n",
    "import milopy\n",
    "import milopy.core as milo"
   ]
  },
  {
   "cell_type": "code",
   "execution_count": 19,
   "id": "coordinated-addition",
   "metadata": {},
   "outputs": [
    {
     "name": "stdout",
     "output_type": "stream",
     "text": [
      "scanpy==1.9.1 anndata==0.8.0 umap==0.5.3 numpy==1.22.4 scipy==1.8.1 pandas==1.4.3 scikit-learn==1.1.1 statsmodels==0.13.2 python-igraph==0.9.11 pynndescent==0.5.7\n"
     ]
    }
   ],
   "source": [
    "sc.settings.verbosity = 0            # verbosity: errors (0), warnings (1), info (2), hints (3)\n",
    "sc.logging.print_header()\n",
    "sc.settings.set_figure_params(dpi=80, facecolor='white', color_map = 'Reds', figsize = (5, 5),dpi_save=300)"
   ]
  },
  {
   "cell_type": "code",
   "execution_count": 20,
   "id": "ranging-electric",
   "metadata": {},
   "outputs": [],
   "source": [
    "# Perform pseudobulk on sc data\n",
    "\n",
    "import scipy.sparse as sp\n",
    "\n",
    "def pseudo_bulk(\n",
    "        adata, groupby, use_rep='X', highly_variable=False, FUN=np.mean):\n",
    "    \"\"\"Make pseudo bulk data from grouped sc data\n",
    "    \"\"\"\n",
    "    if adata.obs[groupby].dtype.name == 'category':\n",
    "        group_attr = adata.obs[groupby].values\n",
    "        groups = adata.obs[groupby].cat.categories.values\n",
    "    else:\n",
    "        group_attr = adata.obs[groupby].astype(str).values\n",
    "        groups = np.unique(group_attr)\n",
    "    n_level = len(groups)\n",
    "    if highly_variable:\n",
    "        if isinstance(highly_variable, (list, tuple)):\n",
    "            if use_rep == 'raw':\n",
    "                k_hv = adata.raw.var_names.isin(highly_variable)\n",
    "            else:\n",
    "                k_hv = adata.var_names.isin(highly_variable)\n",
    "        else:\n",
    "            k_hv = adata.var['highly_variable'].values\n",
    "    if use_rep == 'X':\n",
    "        x = adata.X\n",
    "        features = adata.var_names.values\n",
    "        if highly_variable:\n",
    "            x = x[:, k_hv]\n",
    "            features = features[k_hv]\n",
    "    elif use_rep == 'raw':\n",
    "        x = adata.raw.X\n",
    "        features = adata.raw.var_names.values\n",
    "        if highly_variable:\n",
    "            x = x[:, k_hv]\n",
    "            features = features[k_hv]\n",
    "    elif use_rep in adata.layers.keys():\n",
    "        x = adata.layers[use_rep]\n",
    "        features = adata.var_names.values\n",
    "        if highly_variable:\n",
    "            x = x[:, k_hv]\n",
    "            features = features[k_hv]\n",
    "    elif use_rep in adata.obsm.keys():\n",
    "        x = adata.obsm[use_rep]\n",
    "        features = np.arange(x.shape[1])\n",
    "    elif (isinstance(use_rep, np.ndarray) and\n",
    "            use_rep.shape[0] == adata.shape[0]):\n",
    "        x = use_rep\n",
    "        features = np.arange(x.shape[1])\n",
    "    else:\n",
    "        raise KeyError(f'{use_rep} invalid.')\n",
    "    summarised = np.zeros((n_level, x.shape[1]))\n",
    "    for i, grp in enumerate(groups):\n",
    "        k_grp = group_attr == grp\n",
    "        if sp.issparse(x):\n",
    "            summarised[i] = FUN(x[k_grp, :], axis=0)\n",
    "        else:\n",
    "            summarised[i] = FUN(x[k_grp, :], axis=0, keepdims=True)\n",
    "    return pd.DataFrame(summarised.T, columns=groups, index=features)\n",
    "\n",
    "def random_partition(\n",
    "    adata,\n",
    "    partition_size,\n",
    "    groupby=None,\n",
    "    method=\"random_even\",\n",
    "    key_added=\"partition_labels\",\n",
    "    random_state=0,\n",
    "):\n",
    "    np.random.seed(random_state)\n",
    "    if groupby:\n",
    "        if groupby not in adata.obs.columns:\n",
    "            raise KeyError(f\"{groupby} is not a valid obs annotation.\")\n",
    "        groups = adata.obs[groupby].unique()\n",
    "        label_df = adata.obs[[groupby]].astype(str).rename(columns={groupby: key_added})\n",
    "        for grp in groups:\n",
    "            k = adata.obs[groupby] == grp\n",
    "            grp_size = sum(k)\n",
    "            n_partition = max(np.round(grp_size / partition_size).astype(int), 1)\n",
    "            if method == \"random\":\n",
    "                part_idx = np.random.randint(low=0, high=n_partition, size=grp_size)\n",
    "            elif method == \"random_even\":\n",
    "                part_sizes = list(map(len, np.array_split(np.arange(grp_size), n_partition)))\n",
    "                part_idx = np.repeat(np.arange(n_partition), part_sizes)\n",
    "                np.random.shuffle(part_idx)\n",
    "            else:\n",
    "                raise NotImplementedError(method)\n",
    "            label_df.loc[k, key_added] = [f\"{grp},{i}\" for i in part_idx]\n",
    "        adata.obs[key_added] = label_df[key_added]\n",
    "    else:\n",
    "        n_partition = max(np.round(adata.n_obs / partition_size).astype(int), 1)\n",
    "        if method == \"random\":\n",
    "            part_idx = np.random.randint(low=0, high=n_partition, size=adata.n_obs)\n",
    "        elif method == \"random_even\":\n",
    "            part_sizes = list(map(len, np.array_split(np.arange(adata.n_obs), n_partition)))\n",
    "            part_idx = np.repeat(np.arange(n_partition), part_sizes)\n",
    "            np.random.shuffle(part_idx)\n",
    "        else:\n",
    "            raise NotImplementedError(method)\n",
    "        adata.obs[key_added] = part_idx.astype(str)\n",
    "        \n",
    "def dummy_to_categorical(mat, random_state=0):\n",
    "    \"\"\"Convert a sparse dummy matrix into a list of category indices, when a row\n",
    "       has multiple entries, randomly assign to one of them.\n",
    "\n",
    "        mat: a csr_matrix of ones, with cells on the rows and nhoods on the\n",
    "        columns\n",
    "        random_state: seed\n",
    "    \"\"\"\n",
    "    import numpy as np\n",
    "    np.random.seed(random_state)\n",
    "    nrow = mat.shape[0]\n",
    "    nhoods = []\n",
    "    for i in range(nrow):\n",
    "        k = (mat[i, ] == 1).indices\n",
    "        if k.size == 1:\n",
    "            idx = k[0]\n",
    "        elif k.size > 1:\n",
    "            idx = np.random.choice(k, 1)[0]\n",
    "        else:\n",
    "            idx = -1\n",
    "        nhoods.append(idx)\n",
    "    return nhoods"
   ]
  },
  {
   "cell_type": "markdown",
   "id": "innovative-kruger",
   "metadata": {},
   "source": [
    "## Import suspension data"
   ]
  },
  {
   "cell_type": "code",
   "execution_count": 21,
   "id": "extraordinary-lesson",
   "metadata": {},
   "outputs": [
    {
     "data": {
      "text/plain": [
       "AnnData object with n_obs × n_vars = 176050 × 3311\n",
       "    obs: 'latent_RT_efficiency', 'latent_cell_probability', 'latent_scale', 'sangerID', 'combinedID', 'donor', 'donor_type', 'region_finest', 'facility', 'cell_or_nuclei', 'modality', 'kit_10x', 'flushed', 'scrublet_score', 'scrublet_leiden', 'cluster_scrublet_score', 'doublet_pval', 'doublet_bh_pval', 'n_genes', 'n_counts', 'n_genes_by_counts', 'log1p_n_genes_by_counts', 'total_counts', 'log1p_total_counts', 'total_counts_mt', 'log1p_total_counts_mt', 'pct_counts_mt', 'total_counts_ribo', 'log1p_total_counts_ribo', 'pct_counts_ribo', 'HB_score', 'batch_key', '_scvi_batch', '_scvi_labels', 'annotation_Semih', 'leiden_scVI', 'cell_type_pre', 'pth', 'ito', 'FACSgate', 'leiden_scVI_0.05', 'leiden_scVI_0.01', 'leiden_scVI_0.1', 'leiden_scVI_0.15', 'leiden_scVI_0.2', 'leiden_scVI_0.25', 'leiden_scVI_0.3', 'leiden_scVI_0.35', 'leiden_scVI_0.4', 'cell_type', 'coarse_grain', 'fine_grain', 'region', 'sex', 'age', 'cycling', 'S_score', 'G2M_score', 'phase', 'stress_score', 'hb1_score'\n",
       "    var: 'gene_name_scRNA-0', 'gene_id', 'highly_variable', 'means', 'dispersions', 'dispersions_norm', 'highly_variable_nbatches', 'highly_variable_intersection'\n",
       "    uns: '_scvi_manager_uuid', '_scvi_uuid', 'age_colors', 'cell_or_nuclei_colors', 'cell_type_colors', 'coarse_grain_colors', 'cycling_colors', 'donor_colors', 'fine_grain_colors', 'hvg', 'kit_10x_colors', 'neighbors', 'phase_colors', 'region_colors', 'sex_colors', 'umap'\n",
       "    obsm: 'X_scVI', 'X_umap', '_scvi_extra_categorical_covs', '_scvi_extra_continuous', '_scvi_extra_continuous_covs', 'latent_gene_encoding'\n",
       "    layers: 'counts'\n",
       "    obsp: 'connectivities', 'distances'"
      ]
     },
     "execution_count": 21,
     "metadata": {},
     "output_type": "execute_result"
    }
   ],
   "source": [
    "adata = sc.read('/nfs/team205/heart/anndata_objects/Foetal/final_annotation/FetalHearts13Aug.h5ad')\n",
    "adata"
   ]
  },
  {
   "cell_type": "code",
   "execution_count": 22,
   "id": "liquid-submission",
   "metadata": {},
   "outputs": [
    {
     "name": "stdout",
     "output_type": "stream",
     "text": [
      "(176050, 3311)\n",
      "(176050, 36601)\n"
     ]
    }
   ],
   "source": [
    "# Recover log-normed data for all genes to adata.X (allows Compass to calculate reactions across all genes, not just HVG-subsetted!)\n",
    "print(adata.shape)\n",
    "adata=adata.raw.to_adata()\n",
    "print(adata.shape)"
   ]
  },
  {
   "cell_type": "code",
   "execution_count": 23,
   "id": "romantic-benchmark",
   "metadata": {},
   "outputs": [
    {
     "name": "stdout",
     "output_type": "stream",
     "text": [
      "Index(['MIR1302-2HG', 'FAM138A'], dtype='object', name='gene_name_multiome-1')\n",
      "[0.09802545 0.09802545 0.41538525 0.41538525 0.6009918 ]\n"
     ]
    }
   ],
   "source": [
    "# Check var_names are gene symbols, and the data is log-normed\n",
    "print(adata.var.index[:2])\n",
    "print(adata.X.data[:5])"
   ]
  },
  {
   "cell_type": "code",
   "execution_count": 24,
   "id": "phantom-calculation",
   "metadata": {},
   "outputs": [
    {
     "data": {
      "text/plain": [
       "AnnData object with n_obs × n_vars = 176050 × 36601\n",
       "    obs: 'latent_RT_efficiency', 'latent_cell_probability', 'latent_scale', 'sangerID', 'combinedID', 'donor', 'donor_type', 'region_finest', 'facility', 'cell_or_nuclei', 'modality', 'kit_10x', 'flushed', 'scrublet_score', 'scrublet_leiden', 'cluster_scrublet_score', 'doublet_pval', 'doublet_bh_pval', 'n_genes', 'n_counts', 'n_genes_by_counts', 'log1p_n_genes_by_counts', 'total_counts', 'log1p_total_counts', 'total_counts_mt', 'log1p_total_counts_mt', 'pct_counts_mt', 'total_counts_ribo', 'log1p_total_counts_ribo', 'pct_counts_ribo', 'HB_score', 'batch_key', '_scvi_batch', '_scvi_labels', 'annotation_Semih', 'leiden_scVI', 'cell_type_pre', 'pth', 'ito', 'FACSgate', 'leiden_scVI_0.05', 'leiden_scVI_0.01', 'leiden_scVI_0.1', 'leiden_scVI_0.15', 'leiden_scVI_0.2', 'leiden_scVI_0.25', 'leiden_scVI_0.3', 'leiden_scVI_0.35', 'leiden_scVI_0.4', 'cell_type', 'coarse_grain', 'fine_grain', 'region', 'sex', 'age', 'cycling', 'S_score', 'G2M_score', 'phase', 'stress_score', 'hb1_score'\n",
       "    var: 'gene_name_scRNA-0', 'gene_id', 'highly_variable', 'means', 'dispersions', 'dispersions_norm', 'highly_variable_nbatches', 'highly_variable_intersection'\n",
       "    uns: '_scvi_manager_uuid', '_scvi_uuid', 'age_colors', 'cell_or_nuclei_colors', 'cell_type_colors', 'coarse_grain_colors', 'cycling_colors', 'donor_colors', 'fine_grain_colors', 'hvg', 'kit_10x_colors', 'neighbors', 'phase_colors', 'region_colors', 'sex_colors', 'umap'\n",
       "    obsm: 'X_scVI', 'X_umap', '_scvi_extra_categorical_covs', '_scvi_extra_continuous', '_scvi_extra_continuous_covs', 'latent_gene_encoding'\n",
       "    obsp: 'connectivities', 'distances'"
      ]
     },
     "execution_count": 24,
     "metadata": {},
     "output_type": "execute_result"
    }
   ],
   "source": [
    "adata"
   ]
  },
  {
   "cell_type": "markdown",
   "id": "separated-election",
   "metadata": {},
   "source": [
    "# Prepare data for Compass\n",
    "\"The input gene expression matrix can be either a tab-delimited text file (tsv) or a matrix market format (mtx) containing gene expression estimates (CPM, TPM, or similar scaled units) with one row per gene, one column per sample.\""
   ]
  },
  {
   "cell_type": "markdown",
   "id": "regulation-aquarium",
   "metadata": {},
   "source": [
    "## .mtx method (gene x sampleID, 3 files)\n",
    "This allows you to specify the 'samples', so rather than calculating reactions in all single cells individually (or micro-pooled) we can make our own \"samples\" (pseudobulking them)\n",
    "\n",
    "Need to ensure the samples are representative of the sample. Here we use a new batch key of cell state and the previous batch key  to form the 'samples'\n",
    "This requires 3 files, to inputted thus ```--data expression.mtx genes.tsv sample_names.tsv```\n",
    "\n",
    "Another option would be to use Milo or Metacell to make small samples, below I am going to just use the batch key to make samples within each cell state."
   ]
  },
  {
   "cell_type": "markdown",
   "id": "laughing-naples",
   "metadata": {},
   "source": [
    "### Make a compass label, incorporating variables: age, cell_v_nuc, cell_state"
   ]
  },
  {
   "cell_type": "code",
   "execution_count": null,
   "id": "thick-parent",
   "metadata": {},
   "outputs": [],
   "source": [
    "age_to_agebins = {\n",
    "    '15W1D':'T2',\n",
    "    '10W4D':'lateT1',\n",
    "    '7W4D':'earlyT1',\n",
    "    '9W4D':'lateT1',\n",
    "    '9W1D':'lateT1',\n",
    "    '8W1D':'earlyT1',\n",
    "    '9W6D':'lateT1',\n",
    "    '8W2D':'earlyT1',\n",
    "    '11W3D':'lateT1',\n",
    "    '12W5D':'lateT1',\n",
    "    '9W3D':'lateT1',\n",
    "    '8W5D':'earlyT1',\n",
    "    '11W2D':'lateT1',\n",
    "}\n",
    "adata.obs['age_binned'] = (\n",
    "    adata.obs['age']\n",
    "    .map(age_to_agebins)\n",
    "    .astype('category')\n",
    ")"
   ]
  },
  {
   "cell_type": "code",
   "execution_count": 26,
   "id": "classified-humidity",
   "metadata": {},
   "outputs": [
    {
     "data": {
      "text/plain": [
       "<AxesSubplot:>"
      ]
     },
     "execution_count": 26,
     "metadata": {},
     "output_type": "execute_result"
    },
    {
     "data": {
      "image/png": "[encoded data removed]",
      "text/plain": [
       "<Figure size 400x400 with 1 Axes>"
      ]
     },
     "metadata": {
      "image/png": {
       "height": 352,
       "width": 395
      }
     },
     "output_type": "display_data"
    }
   ],
   "source": [
    "adata.obs['age_binned'].value_counts().plot.bar()\n",
    "#adata.obs['compass_label'].value_counts()#.hist(bins = 200)"
   ]
  },
  {
   "cell_type": "code",
   "execution_count": 27,
   "id": "worse-vegetation",
   "metadata": {},
   "outputs": [],
   "source": [
    "# make a label combining cell state, age, and cell vs nuclei\n",
    "adata.obs['compass_label']=adata.obs['fine_grain'].astype(str)+'_'+adata.obs['age_binned'].astype(str)+'_'+adata.obs['cell_or_nuclei'].astype(str)"
   ]
  },
  {
   "cell_type": "code",
   "execution_count": 28,
   "id": "attached-noise",
   "metadata": {},
   "outputs": [
    {
     "data": {
      "text/plain": [
       "141"
      ]
     },
     "execution_count": 28,
     "metadata": {},
     "output_type": "execute_result"
    }
   ],
   "source": [
    "# how many compass_label categories are there\n",
    "len(adata.obs['compass_label'].unique())"
   ]
  },
  {
   "cell_type": "code",
   "execution_count": 29,
   "id": "northern-plant",
   "metadata": {},
   "outputs": [
    {
     "data": {
      "text/plain": [
       "VentricularCardiomyocytesCompact_T2_Nuclei     10393\n",
       "GreatVesselAdventitialFibroblasts_T1_Cell       9765\n",
       "GreatVesselProgenitors_T1_Cell                  8658\n",
       "MyocardialInterstitialFibroblasts_T1_Cell       8658\n",
       "VentricularCardiomyocytesPRRX1pos_T2_Nuclei     8368\n",
       "                                               ...  \n",
       "ChromaffinCells_T2_Nuclei                         12\n",
       "TCells_T1_Nuclei                                   9\n",
       "SatelliteGlialCellProgenitors_T2_Nuclei            5\n",
       "MastCells_T1_Nuclei                                4\n",
       "NeuronProgenitors_T2_Nuclei                        3\n",
       "Name: compass_label, Length: 141, dtype: int64"
      ]
     },
     "execution_count": 29,
     "metadata": {},
     "output_type": "execute_result"
    }
   ],
   "source": [
    "# how many cells in each compass_label category\n",
    "adata.obs['compass_label'].value_counts()#.hist(bins = 50)"
   ]
  },
  {
   "cell_type": "markdown",
   "id": "bridal-seventh",
   "metadata": {},
   "source": [
    "### Use Milo to make neighbourhoods (and then assign each neighbourhood to a 'compass label' group)"
   ]
  },
  {
   "cell_type": "code",
   "execution_count": 30,
   "id": "massive-prototype",
   "metadata": {},
   "outputs": [
    {
     "name": "stderr",
     "output_type": "stream",
     "text": [
      "WARNING:root:Using X_pca as default embedding\n"
     ]
    },
    {
     "name": "stdout",
     "output_type": "stream",
     "text": [
      "CPU times: user 33min 39s, sys: 9min 46s, total: 43min 25s\n",
      "Wall time: 7min 48s\n"
     ]
    },
    {
     "name": "stderr",
     "output_type": "stream",
     "text": [
      "/home/jovyan/my-conda-envs/scanpy/lib/python3.9/site-packages/anndata/_core/anndata.py:121: ImplicitModificationWarning: Transforming to str index.\n",
      "  warnings.warn(\"Transforming to str index.\", ImplicitModificationWarning)\n"
     ]
    }
   ],
   "source": [
    "%%time\n",
    "## Build KNN graph\n",
    "sc.pp.neighbors(adata, n_neighbors=100, n_pcs=30)\n",
    "\n",
    "## Assign cells to neighbourhoods\n",
    "milo.make_nhoods(adata)\n",
    "\n",
    "## Count cells from each sample in each nhood\n",
    "milo.count_nhoods(adata, sample_col=\"fine_grain\")"
   ]
  },
  {
   "cell_type": "code",
   "execution_count": 31,
   "id": "promising-resolution",
   "metadata": {},
   "outputs": [
    {
     "data": {
      "image/png": "[encoded data removed]",
      "text/plain": [
       "<Figure size 400x400 with 1 Axes>"
      ]
     },
     "metadata": {
      "image/png": {
       "height": 342,
       "width": 365
      }
     },
     "output_type": "display_data"
    }
   ],
   "source": [
    "nhood_size = np.array(adata.obsm[\"nhoods\"].sum(0)).ravel()\n",
    "plt.hist(nhood_size, bins=100);"
   ]
  },
  {
   "cell_type": "code",
   "execution_count": 32,
   "id": "lucky-engine",
   "metadata": {},
   "outputs": [],
   "source": [
    "adata.obs[\"age_binned_continuous\"] = adata.obs[\"age_binned\"].cat.codes"
   ]
  },
  {
   "cell_type": "code",
   "execution_count": 33,
   "id": "minimal-updating",
   "metadata": {},
   "outputs": [
    {
     "ename": "ValueError",
     "evalue": "Covariates cannot be unambiguously assigned to each sample -- each sample value should match a single covariate value",
     "output_type": "error",
     "traceback": [
      "\u001b[0;31m---------------------------------------------------------------------------\u001b[0m",
      "\u001b[0;31mAssertionError\u001b[0m                            Traceback (most recent call last)",
      "File \u001b[0;32m~/my-conda-envs/scanpy/lib/python3.9/site-packages/milopy/core.py:204\u001b[0m, in \u001b[0;36mDA_nhoods\u001b[0;34m(adata, design, model_contrasts, subset_samples, add_intercept)\u001b[0m\n\u001b[1;32m    203\u001b[0m \u001b[38;5;28;01mtry\u001b[39;00m:\n\u001b[0;32m--> 204\u001b[0m     \u001b[38;5;28;01massert\u001b[39;00m nhoods_var\u001b[38;5;241m.\u001b[39mloc[nhood_adata\u001b[38;5;241m.\u001b[39mvar_names]\u001b[38;5;241m.\u001b[39mshape[\u001b[38;5;241m0\u001b[39m] \u001b[38;5;241m==\u001b[39m \u001b[38;5;28mlen\u001b[39m(\n\u001b[1;32m    205\u001b[0m         nhood_adata\u001b[38;5;241m.\u001b[39mvar_names)\n\u001b[1;32m    206\u001b[0m \u001b[38;5;28;01mexcept\u001b[39;00m:\n",
      "\u001b[0;31mAssertionError\u001b[0m: ",
      "\nDuring handling of the above exception, another exception occurred:\n",
      "\u001b[0;31mValueError\u001b[0m                                Traceback (most recent call last)",
      "Input \u001b[0;32mIn [33]\u001b[0m, in \u001b[0;36m<cell line: 1>\u001b[0;34m()\u001b[0m\n\u001b[0;32m----> 1\u001b[0m \u001b[43mmilo\u001b[49m\u001b[38;5;241;43m.\u001b[39;49m\u001b[43mDA_nhoods\u001b[49m\u001b[43m(\u001b[49m\u001b[43madata\u001b[49m\u001b[43m,\u001b[49m\u001b[43m \u001b[49m\u001b[43mdesign\u001b[49m\u001b[38;5;241;43m=\u001b[39;49m\u001b[38;5;124;43m\"\u001b[39;49m\u001b[38;5;124;43m~age_binned_continuous\u001b[39;49m\u001b[38;5;124;43m\"\u001b[39;49m\u001b[43m)\u001b[49m\n",
      "File \u001b[0;32m~/my-conda-envs/scanpy/lib/python3.9/site-packages/milopy/core.py:207\u001b[0m, in \u001b[0;36mDA_nhoods\u001b[0;34m(adata, design, model_contrasts, subset_samples, add_intercept)\u001b[0m\n\u001b[1;32m    204\u001b[0m     \u001b[38;5;28;01massert\u001b[39;00m nhoods_var\u001b[38;5;241m.\u001b[39mloc[nhood_adata\u001b[38;5;241m.\u001b[39mvar_names]\u001b[38;5;241m.\u001b[39mshape[\u001b[38;5;241m0\u001b[39m] \u001b[38;5;241m==\u001b[39m \u001b[38;5;28mlen\u001b[39m(\n\u001b[1;32m    205\u001b[0m         nhood_adata\u001b[38;5;241m.\u001b[39mvar_names)\n\u001b[1;32m    206\u001b[0m \u001b[38;5;28;01mexcept\u001b[39;00m:\n\u001b[0;32m--> 207\u001b[0m     \u001b[38;5;28;01mraise\u001b[39;00m \u001b[38;5;167;01mValueError\u001b[39;00m(\n\u001b[1;32m    208\u001b[0m         \u001b[38;5;124m\"\u001b[39m\u001b[38;5;124mCovariates cannot be unambiguously assigned to each sample -- each sample value should match a single covariate value\u001b[39m\u001b[38;5;124m\"\u001b[39m)\n\u001b[1;32m    209\u001b[0m nhood_adata\u001b[38;5;241m.\u001b[39mvar \u001b[38;5;241m=\u001b[39m nhoods_var\u001b[38;5;241m.\u001b[39mloc[nhood_adata\u001b[38;5;241m.\u001b[39mvar_names]\n\u001b[1;32m    210\u001b[0m \u001b[38;5;66;03m# Get design dataframe\u001b[39;00m\n",
      "\u001b[0;31mValueError\u001b[0m: Covariates cannot be unambiguously assigned to each sample -- each sample value should match a single covariate value"
     ]
    }
   ],
   "source": [
    "milo.DA_nhoods(adata, design=\"~age_binned_continuous\")"
   ]
  },
  {
   "cell_type": "code",
   "execution_count": null,
   "id": "handled-reserve",
   "metadata": {},
   "outputs": [],
   "source": [
    "old_figsize = plt.rcParams[\"figure.figsize\"]\n",
    "plt.rcParams[\"figure.figsize\"] = [10,5]\n",
    "plt.subplot(1,2,1)\n",
    "plt.hist(adata.uns[\"nhood_adata\"].obs.PValue, bins=50);\n",
    "plt.xlabel(\"P-Vals\");\n",
    "plt.subplot(1,2,2)\n",
    "plt.plot(adata.uns[\"nhood_adata\"].obs.logFC, -np.log10(adata.uns[\"nhood_adata\"].obs.SpatialFDR), '.');\n",
    "plt.xlabel(\"log-Fold Change\");\n",
    "plt.ylabel(\"- log10(Spatial FDR)\");\n",
    "plt.tight_layout()\n",
    "plt.rcParams[\"figure.figsize\"] = old_figsize"
   ]
  },
  {
   "cell_type": "code",
   "execution_count": null,
   "id": "consistent-failing",
   "metadata": {},
   "outputs": [],
   "source": [
    "milopy.utils.build_nhood_graph(adata)"
   ]
  },
  {
   "cell_type": "code",
   "execution_count": null,
   "id": "occupied-panel",
   "metadata": {},
   "outputs": [],
   "source": [
    "plt.rcParams[\"figure.figsize\"] = [10,10]\n",
    "milopy.plot.plot_nhood_graph(adata, \n",
    "                        alpha=0.01, ## SpatialFDR level (1%) \n",
    "                        min_size=1 ## Size of smallest dot\n",
    "                       )"
   ]
  },
  {
   "cell_type": "code",
   "execution_count": null,
   "id": "heated-thousand",
   "metadata": {},
   "outputs": [],
   "source": [
    "milopy.utils.annotate_nhoods(adata, anno_col='fine_grain')\n"
   ]
  },
  {
   "cell_type": "code",
   "execution_count": null,
   "id": "worst-aside",
   "metadata": {},
   "outputs": [],
   "source": [
    "plt.hist(adata.uns['nhood_adata'].obs[\"nhood_annotation_frac\"]);\n",
    "plt.xlabel(\"celltype fraction\")"
   ]
  },
  {
   "cell_type": "code",
   "execution_count": null,
   "id": "international-transition",
   "metadata": {},
   "outputs": [],
   "source": [
    "adata.uns['nhood_adata'].obs.loc[adata.uns['nhood_adata'].obs[\"nhood_annotation_frac\"] < 0.9, \"nhood_annotation\"] = \"Mixed\""
   ]
  },
  {
   "cell_type": "code",
   "execution_count": null,
   "id": "white-outreach",
   "metadata": {},
   "outputs": [],
   "source": [
    "sc.pl.violin(adata.uns['nhood_adata'], \"logFC\", groupby=\"nhood_annotation\",rotation=90,\n",
    "             show=False);\n",
    "plt.axhline(y=0, color='black', linestyle='--');\n",
    "plt.show()"
   ]
  },
  {
   "cell_type": "code",
   "execution_count": null,
   "id": "perfect-thumb",
   "metadata": {},
   "outputs": [],
   "source": [
    "milopy.plot.plot_DA_beeswarm(adata)"
   ]
  },
  {
   "cell_type": "code",
   "execution_count": null,
   "id": "infrared-breakdown",
   "metadata": {},
   "outputs": [],
   "source": []
  },
  {
   "cell_type": "code",
   "execution_count": null,
   "id": "completed-stability",
   "metadata": {},
   "outputs": [],
   "source": []
  },
  {
   "cell_type": "code",
   "execution_count": null,
   "id": "bizarre-blackberry",
   "metadata": {},
   "outputs": [],
   "source": []
  },
  {
   "cell_type": "code",
   "execution_count": 15,
   "id": "sensitive-dividend",
   "metadata": {},
   "outputs": [
    {
     "name": "stderr",
     "output_type": "stream",
     "text": [
      "/home/jovyan/my-conda-envs/scanpy/lib/python3.9/site-packages/rpy2/robjects/vectors.py:1008: UserWarning: R object inheriting from \"POSIXct\" but without attribute \"tzone\".\n",
      "  warnings.warn('R object inheriting from \"POSIXct\" but without '\n",
      "/home/jovyan/my-conda-envs/scanpy/lib/python3.9/site-packages/pandas/core/arrays/datetimes.py:2236: PytzUsageWarning: The zone attribute is specific to pytz's interface; please migrate to a new time zone provider. For more details on how to do so, see https://pytz-deprecation-shim.readthedocs.io/en/latest/migration.html\n",
      "  values, tz_parsed = conversion.datetime_to_datetime64(data.ravel(\"K\"))\n",
      "/home/jovyan/my-conda-envs/scanpy/lib/python3.9/site-packages/milopy/core.py:285: FutureWarning: In a future version of pandas all arguments of concat except for the argument 'objs' will be keyword-only.\n",
      "  nhood_adata.obs = pd.concat([nhood_adata.obs, res], 1)\n"
     ]
    },
    {
     "name": "stdout",
     "output_type": "stream",
     "text": [
      "CPU times: user 23.8 s, sys: 75.4 ms, total: 23.9 s\n",
      "Wall time: 24 s\n"
     ]
    }
   ],
   "source": [
    "%%time\n",
    "milo.DA_nhoods(adata, design=\"~ age_binned\")"
   ]
  },
  {
   "cell_type": "code",
   "execution_count": 100,
   "id": "running-match",
   "metadata": {},
   "outputs": [
    {
     "ename": "KeyError",
     "evalue": "'logFC'",
     "output_type": "error",
     "traceback": [
      "\u001b[0;31m---------------------------------------------------------------------------\u001b[0m",
      "\u001b[0;31mKeyError\u001b[0m                                  Traceback (most recent call last)",
      "File \u001b[0;32m~/my-conda-envs/scanpy/lib/python3.9/site-packages/pandas/core/indexes/base.py:3621\u001b[0m, in \u001b[0;36mIndex.get_loc\u001b[0;34m(self, key, method, tolerance)\u001b[0m\n\u001b[1;32m   3620\u001b[0m \u001b[38;5;28;01mtry\u001b[39;00m:\n\u001b[0;32m-> 3621\u001b[0m     \u001b[38;5;28;01mreturn\u001b[39;00m \u001b[38;5;28;43mself\u001b[39;49m\u001b[38;5;241;43m.\u001b[39;49m\u001b[43m_engine\u001b[49m\u001b[38;5;241;43m.\u001b[39;49m\u001b[43mget_loc\u001b[49m\u001b[43m(\u001b[49m\u001b[43mcasted_key\u001b[49m\u001b[43m)\u001b[49m\n\u001b[1;32m   3622\u001b[0m \u001b[38;5;28;01mexcept\u001b[39;00m \u001b[38;5;167;01mKeyError\u001b[39;00m \u001b[38;5;28;01mas\u001b[39;00m err:\n",
      "File \u001b[0;32m~/my-conda-envs/scanpy/lib/python3.9/site-packages/pandas/_libs/index.pyx:136\u001b[0m, in \u001b[0;36mpandas._libs.index.IndexEngine.get_loc\u001b[0;34m()\u001b[0m\n",
      "File \u001b[0;32m~/my-conda-envs/scanpy/lib/python3.9/site-packages/pandas/_libs/index.pyx:163\u001b[0m, in \u001b[0;36mpandas._libs.index.IndexEngine.get_loc\u001b[0;34m()\u001b[0m\n",
      "File \u001b[0;32mpandas/_libs/hashtable_class_helper.pxi:5198\u001b[0m, in \u001b[0;36mpandas._libs.hashtable.PyObjectHashTable.get_item\u001b[0;34m()\u001b[0m\n",
      "File \u001b[0;32mpandas/_libs/hashtable_class_helper.pxi:5206\u001b[0m, in \u001b[0;36mpandas._libs.hashtable.PyObjectHashTable.get_item\u001b[0;34m()\u001b[0m\n",
      "\u001b[0;31mKeyError\u001b[0m: 'logFC'",
      "\nThe above exception was the direct cause of the following exception:\n",
      "\u001b[0;31mKeyError\u001b[0m                                  Traceback (most recent call last)",
      "Input \u001b[0;32mIn [100]\u001b[0m, in \u001b[0;36m<cell line: 2>\u001b[0;34m()\u001b[0m\n\u001b[1;32m      1\u001b[0m milopy\u001b[38;5;241m.\u001b[39mutils\u001b[38;5;241m.\u001b[39mbuild_nhood_graph(adata)\n\u001b[0;32m----> 2\u001b[0m \u001b[43mmilopy\u001b[49m\u001b[38;5;241;43m.\u001b[39;49m\u001b[43mplot\u001b[49m\u001b[38;5;241;43m.\u001b[39;49m\u001b[43mplot_nhood_graph\u001b[49m\u001b[43m(\u001b[49m\u001b[43madata\u001b[49m\u001b[43m,\u001b[49m\u001b[43m \u001b[49m\u001b[43malpha\u001b[49m\u001b[38;5;241;43m=\u001b[39;49m\u001b[38;5;241;43m0.2\u001b[39;49m\u001b[43m,\u001b[49m\u001b[43m \u001b[49m\u001b[43mmin_size\u001b[49m\u001b[38;5;241;43m=\u001b[39;49m\u001b[38;5;241;43m2\u001b[39;49m\u001b[43m)\u001b[49m\n",
      "File \u001b[0;32m~/my-conda-envs/scanpy/lib/python3.9/site-packages/milopy/plot.py:42\u001b[0m, in \u001b[0;36mplot_nhood_graph\u001b[0;34m(adata, alpha, min_logFC, min_size, plot_edges, title, **kwargs)\u001b[0m\n\u001b[1;32m     36\u001b[0m \u001b[38;5;28;01mif\u001b[39;00m \u001b[38;5;124m\"\u001b[39m\u001b[38;5;124mNhood_size\u001b[39m\u001b[38;5;124m\"\u001b[39m \u001b[38;5;129;01mnot\u001b[39;00m \u001b[38;5;129;01min\u001b[39;00m nhood_adata\u001b[38;5;241m.\u001b[39mobs\u001b[38;5;241m.\u001b[39mcolumns:\n\u001b[1;32m     37\u001b[0m     \u001b[38;5;28;01mraise\u001b[39;00m \u001b[38;5;167;01mKeyError\u001b[39;00m(\n\u001b[1;32m     38\u001b[0m         \u001b[38;5;124m'\u001b[39m\u001b[38;5;124mCannot find \u001b[39m\u001b[38;5;124m\"\u001b[39m\u001b[38;5;124mNhood_size\u001b[39m\u001b[38;5;124m\"\u001b[39m\u001b[38;5;124m column in adata.uns[\u001b[39m\u001b[38;5;124m\"\u001b[39m\u001b[38;5;124mnhood_adata\u001b[39m\u001b[38;5;124m\"\u001b[39m\u001b[38;5;124m].obs -- \u001b[39m\u001b[38;5;130;01m\\\u001b[39;00m\n\u001b[1;32m     39\u001b[0m \u001b[38;5;124m            please run milopy.utils.build_nhood_graph(adata)\u001b[39m\u001b[38;5;124m'\u001b[39m\n\u001b[1;32m     40\u001b[0m     )\n\u001b[0;32m---> 42\u001b[0m nhood_adata\u001b[38;5;241m.\u001b[39mobs[\u001b[38;5;124m\"\u001b[39m\u001b[38;5;124mgraph_color\u001b[39m\u001b[38;5;124m\"\u001b[39m] \u001b[38;5;241m=\u001b[39m \u001b[43mnhood_adata\u001b[49m\u001b[38;5;241;43m.\u001b[39;49m\u001b[43mobs\u001b[49m\u001b[43m[\u001b[49m\u001b[38;5;124;43m\"\u001b[39;49m\u001b[38;5;124;43mlogFC\u001b[39;49m\u001b[38;5;124;43m\"\u001b[39;49m\u001b[43m]\u001b[49m\n\u001b[1;32m     43\u001b[0m nhood_adata\u001b[38;5;241m.\u001b[39mobs\u001b[38;5;241m.\u001b[39mloc[nhood_adata\u001b[38;5;241m.\u001b[39mobs[\u001b[38;5;124m\"\u001b[39m\u001b[38;5;124mSpatialFDR\u001b[39m\u001b[38;5;124m\"\u001b[39m]\n\u001b[1;32m     44\u001b[0m                     \u001b[38;5;241m>\u001b[39m alpha, \u001b[38;5;124m\"\u001b[39m\u001b[38;5;124mgraph_color\u001b[39m\u001b[38;5;124m\"\u001b[39m] \u001b[38;5;241m=\u001b[39m np\u001b[38;5;241m.\u001b[39mnan\n\u001b[1;32m     45\u001b[0m nhood_adata\u001b[38;5;241m.\u001b[39mobs[\u001b[38;5;124m\"\u001b[39m\u001b[38;5;124mabs_logFC\u001b[39m\u001b[38;5;124m\"\u001b[39m] \u001b[38;5;241m=\u001b[39m \u001b[38;5;28mabs\u001b[39m(nhood_adata\u001b[38;5;241m.\u001b[39mobs[\u001b[38;5;124m\"\u001b[39m\u001b[38;5;124mlogFC\u001b[39m\u001b[38;5;124m\"\u001b[39m])\n",
      "File \u001b[0;32m~/my-conda-envs/scanpy/lib/python3.9/site-packages/pandas/core/frame.py:3505\u001b[0m, in \u001b[0;36mDataFrame.__getitem__\u001b[0;34m(self, key)\u001b[0m\n\u001b[1;32m   3503\u001b[0m \u001b[38;5;28;01mif\u001b[39;00m \u001b[38;5;28mself\u001b[39m\u001b[38;5;241m.\u001b[39mcolumns\u001b[38;5;241m.\u001b[39mnlevels \u001b[38;5;241m>\u001b[39m \u001b[38;5;241m1\u001b[39m:\n\u001b[1;32m   3504\u001b[0m     \u001b[38;5;28;01mreturn\u001b[39;00m \u001b[38;5;28mself\u001b[39m\u001b[38;5;241m.\u001b[39m_getitem_multilevel(key)\n\u001b[0;32m-> 3505\u001b[0m indexer \u001b[38;5;241m=\u001b[39m \u001b[38;5;28;43mself\u001b[39;49m\u001b[38;5;241;43m.\u001b[39;49m\u001b[43mcolumns\u001b[49m\u001b[38;5;241;43m.\u001b[39;49m\u001b[43mget_loc\u001b[49m\u001b[43m(\u001b[49m\u001b[43mkey\u001b[49m\u001b[43m)\u001b[49m\n\u001b[1;32m   3506\u001b[0m \u001b[38;5;28;01mif\u001b[39;00m is_integer(indexer):\n\u001b[1;32m   3507\u001b[0m     indexer \u001b[38;5;241m=\u001b[39m [indexer]\n",
      "File \u001b[0;32m~/my-conda-envs/scanpy/lib/python3.9/site-packages/pandas/core/indexes/base.py:3623\u001b[0m, in \u001b[0;36mIndex.get_loc\u001b[0;34m(self, key, method, tolerance)\u001b[0m\n\u001b[1;32m   3621\u001b[0m     \u001b[38;5;28;01mreturn\u001b[39;00m \u001b[38;5;28mself\u001b[39m\u001b[38;5;241m.\u001b[39m_engine\u001b[38;5;241m.\u001b[39mget_loc(casted_key)\n\u001b[1;32m   3622\u001b[0m \u001b[38;5;28;01mexcept\u001b[39;00m \u001b[38;5;167;01mKeyError\u001b[39;00m \u001b[38;5;28;01mas\u001b[39;00m err:\n\u001b[0;32m-> 3623\u001b[0m     \u001b[38;5;28;01mraise\u001b[39;00m \u001b[38;5;167;01mKeyError\u001b[39;00m(key) \u001b[38;5;28;01mfrom\u001b[39;00m \u001b[38;5;21;01merr\u001b[39;00m\n\u001b[1;32m   3624\u001b[0m \u001b[38;5;28;01mexcept\u001b[39;00m \u001b[38;5;167;01mTypeError\u001b[39;00m:\n\u001b[1;32m   3625\u001b[0m     \u001b[38;5;66;03m# If we have a listlike key, _check_indexing_error will raise\u001b[39;00m\n\u001b[1;32m   3626\u001b[0m     \u001b[38;5;66;03m#  InvalidIndexError. Otherwise we fall through and re-raise\u001b[39;00m\n\u001b[1;32m   3627\u001b[0m     \u001b[38;5;66;03m#  the TypeError.\u001b[39;00m\n\u001b[1;32m   3628\u001b[0m     \u001b[38;5;28mself\u001b[39m\u001b[38;5;241m.\u001b[39m_check_indexing_error(key)\n",
      "\u001b[0;31mKeyError\u001b[0m: 'logFC'"
     ]
    }
   ],
   "source": [
    "milopy.utils.build_nhood_graph(adata)\n",
    "milopy.plot.plot_nhood_graph(adata, alpha=0.2, min_size=2)"
   ]
  },
  {
   "cell_type": "code",
   "execution_count": null,
   "id": "raising-litigation",
   "metadata": {},
   "outputs": [],
   "source": [
    "milopy.utils.annotate_nhoods(adata, anno_col='celltype')"
   ]
  },
  {
   "cell_type": "code",
   "execution_count": null,
   "id": "herbal-wireless",
   "metadata": {},
   "outputs": [],
   "source": [
    "plt.hist(adata.uns['nhood_adata'].obs[\"nhood_annotation_frac\"]);\n",
    "plt.xlabel(\"celltype fraction\")"
   ]
  },
  {
   "cell_type": "code",
   "execution_count": null,
   "id": "mature-regard",
   "metadata": {},
   "outputs": [],
   "source": [
    "adata.uns['nhood_adata'].obs.loc[adata.uns['nhood_adata'].obs[\"nhood_annotation_frac\"] < 0.6, \"nhood_annotation\"] = \"Mixed\""
   ]
  },
  {
   "cell_type": "code",
   "execution_count": null,
   "id": "virtual-application",
   "metadata": {},
   "outputs": [],
   "source": [
    "sc.pl.violin(adata.uns['nhood_adata'], \"logFC\", groupby=\"nhood_annotation\", rotation=90, show=False);\n",
    "plt.axhline(y=0, color='black', linestyle='--');\n",
    "plt.show()"
   ]
  },
  {
   "cell_type": "code",
   "execution_count": 86,
   "id": "fossil-celebration",
   "metadata": {},
   "outputs": [
    {
     "name": "stdout",
     "output_type": "stream",
     "text": [
      "CPU times: user 21.5 s, sys: 202 ms, total: 21.7 s\n",
      "Wall time: 21.4 s\n"
     ]
    }
   ],
   "source": [
    "%%time\n",
    "# Make a .obs column with the attribution of each barcode to a neihbourhood (randomly assigning if a barcode is in >1 neighbourhood)\n",
    "adata.obs[\"nhood_idx\"] = dummy_to_categorical(adata.obsm[\"nhoods\"], random_state=0)"
   ]
  },
  {
   "cell_type": "code",
   "execution_count": 87,
   "id": "hundred-salvation",
   "metadata": {},
   "outputs": [
    {
     "data": {
      "text/plain": [
       "634"
      ]
     },
     "execution_count": 87,
     "metadata": {},
     "output_type": "execute_result"
    }
   ],
   "source": [
    "# Check how many barcodes are *not* assigned to any neighbourhood\n",
    "(adata.obsm[\"nhoods\"].sum(axis=1).A1 == 0).sum()"
   ]
  },
  {
   "cell_type": "code",
   "execution_count": 88,
   "id": "medium-breathing",
   "metadata": {},
   "outputs": [
    {
     "data": {
      "text/plain": [
       "12575"
      ]
     },
     "execution_count": 88,
     "metadata": {},
     "output_type": "execute_result"
    }
   ],
   "source": [
    "# Check how many neighbourhoods there are\n",
    "len(adata.obs[\"nhood_idx\"].unique())"
   ]
  },
  {
   "cell_type": "markdown",
   "id": "herbal-sussex",
   "metadata": {},
   "source": [
    "### Pseudobulk the neighbourhoods"
   ]
  },
  {
   "cell_type": "code",
   "execution_count": 91,
   "id": "assigned-mexico",
   "metadata": {},
   "outputs": [],
   "source": [
    "# Pseudobulk use Ni's psudobulk function\n",
    "pseudo_bulk = pseudo_bulk(adata,\n",
    "                         groupby='the nh label')"
   ]
  },
  {
   "cell_type": "code",
   "execution_count": 92,
   "id": "several-diversity",
   "metadata": {},
   "outputs": [
    {
     "name": "stdout",
     "output_type": "stream",
     "text": [
      "(36601, 8835)\n"
     ]
    },
    {
     "data": {
      "text/html": [
       "<div>\n",
       "<style scoped>\n",
       "    .dataframe tbody tr th:only-of-type {\n",
       "        vertical-align: middle;\n",
       "    }\n",
       "\n",
       "    .dataframe tbody tr th {\n",
       "        vertical-align: top;\n",
       "    }\n",
       "\n",
       "    .dataframe thead th {\n",
       "        text-align: right;\n",
       "    }\n",
       "</style>\n",
       "<table border=\"1\" class=\"dataframe\">\n",
       "  <thead>\n",
       "    <tr style=\"text-align: right;\">\n",
       "      <th></th>\n",
       "      <th>AtrialCardiomyocytesCycling_T2_Nuclei,0</th>\n",
       "      <th>AtrialCardiomyocytesCycling_earlyT1_Cell,0</th>\n",
       "      <th>AtrialCardiomyocytesCycling_earlyT1_Cell,1</th>\n",
       "      <th>AtrialCardiomyocytesCycling_earlyT1_Cell,2</th>\n",
       "      <th>AtrialCardiomyocytesCycling_earlyT1_Cell,3</th>\n",
       "      <th>AtrialCardiomyocytesCycling_earlyT1_Cell,4</th>\n",
       "      <th>AtrialCardiomyocytesCycling_earlyT1_Nuclei,0</th>\n",
       "      <th>AtrialCardiomyocytesCycling_lateT1_Cell,0</th>\n",
       "      <th>AtrialCardiomyocytesCycling_lateT1_Cell,1</th>\n",
       "      <th>AtrialCardiomyocytesCycling_lateT1_Cell,2</th>\n",
       "      <th>...</th>\n",
       "      <th>VentricularConductionSystemProximal_lateT1_Cell,4</th>\n",
       "      <th>VentricularConductionSystemProximal_lateT1_Cell,5</th>\n",
       "      <th>VentricularConductionSystemProximal_lateT1_Cell,6</th>\n",
       "      <th>VentricularConductionSystemProximal_lateT1_Cell,7</th>\n",
       "      <th>VentricularConductionSystemProximal_lateT1_Cell,8</th>\n",
       "      <th>VentricularConductionSystemProximal_lateT1_Cell,9</th>\n",
       "      <th>VentricularConductionSystemProximal_lateT1_Nuclei,0</th>\n",
       "      <th>VentricularConductionSystemProximal_lateT1_Nuclei,1</th>\n",
       "      <th>VentricularConductionSystemProximal_lateT1_Nuclei,2</th>\n",
       "      <th>VentricularConductionSystemProximal_lateT1_Nuclei,3</th>\n",
       "    </tr>\n",
       "  </thead>\n",
       "  <tbody>\n",
       "    <tr>\n",
       "      <th>MIR1302-2HG</th>\n",
       "      <td>0.0</td>\n",
       "      <td>0.0</td>\n",
       "      <td>0.0</td>\n",
       "      <td>0.0</td>\n",
       "      <td>0.0</td>\n",
       "      <td>0.0</td>\n",
       "      <td>0.0</td>\n",
       "      <td>0.0</td>\n",
       "      <td>0.0</td>\n",
       "      <td>0.0</td>\n",
       "      <td>...</td>\n",
       "      <td>0.0</td>\n",
       "      <td>0.0</td>\n",
       "      <td>0.0</td>\n",
       "      <td>0.0</td>\n",
       "      <td>0.0</td>\n",
       "      <td>0.0</td>\n",
       "      <td>0.0</td>\n",
       "      <td>0.0</td>\n",
       "      <td>0.0</td>\n",
       "      <td>0.0</td>\n",
       "    </tr>\n",
       "    <tr>\n",
       "      <th>FAM138A</th>\n",
       "      <td>0.0</td>\n",
       "      <td>0.0</td>\n",
       "      <td>0.0</td>\n",
       "      <td>0.0</td>\n",
       "      <td>0.0</td>\n",
       "      <td>0.0</td>\n",
       "      <td>0.0</td>\n",
       "      <td>0.0</td>\n",
       "      <td>0.0</td>\n",
       "      <td>0.0</td>\n",
       "      <td>...</td>\n",
       "      <td>0.0</td>\n",
       "      <td>0.0</td>\n",
       "      <td>0.0</td>\n",
       "      <td>0.0</td>\n",
       "      <td>0.0</td>\n",
       "      <td>0.0</td>\n",
       "      <td>0.0</td>\n",
       "      <td>0.0</td>\n",
       "      <td>0.0</td>\n",
       "      <td>0.0</td>\n",
       "    </tr>\n",
       "    <tr>\n",
       "      <th>OR4F5</th>\n",
       "      <td>0.0</td>\n",
       "      <td>0.0</td>\n",
       "      <td>0.0</td>\n",
       "      <td>0.0</td>\n",
       "      <td>0.0</td>\n",
       "      <td>0.0</td>\n",
       "      <td>0.0</td>\n",
       "      <td>0.0</td>\n",
       "      <td>0.0</td>\n",
       "      <td>0.0</td>\n",
       "      <td>...</td>\n",
       "      <td>0.0</td>\n",
       "      <td>0.0</td>\n",
       "      <td>0.0</td>\n",
       "      <td>0.0</td>\n",
       "      <td>0.0</td>\n",
       "      <td>0.0</td>\n",
       "      <td>0.0</td>\n",
       "      <td>0.0</td>\n",
       "      <td>0.0</td>\n",
       "      <td>0.0</td>\n",
       "    </tr>\n",
       "  </tbody>\n",
       "</table>\n",
       "<p>3 rows × 8835 columns</p>\n",
       "</div>"
      ],
      "text/plain": [
       "             AtrialCardiomyocytesCycling_T2_Nuclei,0  \\\n",
       "MIR1302-2HG                                      0.0   \n",
       "FAM138A                                          0.0   \n",
       "OR4F5                                            0.0   \n",
       "\n",
       "             AtrialCardiomyocytesCycling_earlyT1_Cell,0  \\\n",
       "MIR1302-2HG                                         0.0   \n",
       "FAM138A                                             0.0   \n",
       "OR4F5                                               0.0   \n",
       "\n",
       "             AtrialCardiomyocytesCycling_earlyT1_Cell,1  \\\n",
       "MIR1302-2HG                                         0.0   \n",
       "FAM138A                                             0.0   \n",
       "OR4F5                                               0.0   \n",
       "\n",
       "             AtrialCardiomyocytesCycling_earlyT1_Cell,2  \\\n",
       "MIR1302-2HG                                         0.0   \n",
       "FAM138A                                             0.0   \n",
       "OR4F5                                               0.0   \n",
       "\n",
       "             AtrialCardiomyocytesCycling_earlyT1_Cell,3  \\\n",
       "MIR1302-2HG                                         0.0   \n",
       "FAM138A                                             0.0   \n",
       "OR4F5                                               0.0   \n",
       "\n",
       "             AtrialCardiomyocytesCycling_earlyT1_Cell,4  \\\n",
       "MIR1302-2HG                                         0.0   \n",
       "FAM138A                                             0.0   \n",
       "OR4F5                                               0.0   \n",
       "\n",
       "             AtrialCardiomyocytesCycling_earlyT1_Nuclei,0  \\\n",
       "MIR1302-2HG                                           0.0   \n",
       "FAM138A                                               0.0   \n",
       "OR4F5                                                 0.0   \n",
       "\n",
       "             AtrialCardiomyocytesCycling_lateT1_Cell,0  \\\n",
       "MIR1302-2HG                                        0.0   \n",
       "FAM138A                                            0.0   \n",
       "OR4F5                                              0.0   \n",
       "\n",
       "             AtrialCardiomyocytesCycling_lateT1_Cell,1  \\\n",
       "MIR1302-2HG                                        0.0   \n",
       "FAM138A                                            0.0   \n",
       "OR4F5                                              0.0   \n",
       "\n",
       "             AtrialCardiomyocytesCycling_lateT1_Cell,2  ...  \\\n",
       "MIR1302-2HG                                        0.0  ...   \n",
       "FAM138A                                            0.0  ...   \n",
       "OR4F5                                              0.0  ...   \n",
       "\n",
       "             VentricularConductionSystemProximal_lateT1_Cell,4  \\\n",
       "MIR1302-2HG                                                0.0   \n",
       "FAM138A                                                    0.0   \n",
       "OR4F5                                                      0.0   \n",
       "\n",
       "             VentricularConductionSystemProximal_lateT1_Cell,5  \\\n",
       "MIR1302-2HG                                                0.0   \n",
       "FAM138A                                                    0.0   \n",
       "OR4F5                                                      0.0   \n",
       "\n",
       "             VentricularConductionSystemProximal_lateT1_Cell,6  \\\n",
       "MIR1302-2HG                                                0.0   \n",
       "FAM138A                                                    0.0   \n",
       "OR4F5                                                      0.0   \n",
       "\n",
       "             VentricularConductionSystemProximal_lateT1_Cell,7  \\\n",
       "MIR1302-2HG                                                0.0   \n",
       "FAM138A                                                    0.0   \n",
       "OR4F5                                                      0.0   \n",
       "\n",
       "             VentricularConductionSystemProximal_lateT1_Cell,8  \\\n",
       "MIR1302-2HG                                                0.0   \n",
       "FAM138A                                                    0.0   \n",
       "OR4F5                                                      0.0   \n",
       "\n",
       "             VentricularConductionSystemProximal_lateT1_Cell,9  \\\n",
       "MIR1302-2HG                                                0.0   \n",
       "FAM138A                                                    0.0   \n",
       "OR4F5                                                      0.0   \n",
       "\n",
       "             VentricularConductionSystemProximal_lateT1_Nuclei,0  \\\n",
       "MIR1302-2HG                                                0.0     \n",
       "FAM138A                                                    0.0     \n",
       "OR4F5                                                      0.0     \n",
       "\n",
       "             VentricularConductionSystemProximal_lateT1_Nuclei,1  \\\n",
       "MIR1302-2HG                                                0.0     \n",
       "FAM138A                                                    0.0     \n",
       "OR4F5                                                      0.0     \n",
       "\n",
       "             VentricularConductionSystemProximal_lateT1_Nuclei,2  \\\n",
       "MIR1302-2HG                                                0.0     \n",
       "FAM138A                                                    0.0     \n",
       "OR4F5                                                      0.0     \n",
       "\n",
       "             VentricularConductionSystemProximal_lateT1_Nuclei,3  \n",
       "MIR1302-2HG                                                0.0    \n",
       "FAM138A                                                    0.0    \n",
       "OR4F5                                                      0.0    \n",
       "\n",
       "[3 rows x 8835 columns]"
      ]
     },
     "execution_count": 92,
     "metadata": {},
     "output_type": "execute_result"
    }
   ],
   "source": [
    "print(pseudo_bulk.shape)\n",
    "pseudo_bulk.head(3)"
   ]
  },
  {
   "cell_type": "markdown",
   "id": "numerical-brisbane",
   "metadata": {},
   "source": [
    "### Make metadata files needed"
   ]
  },
  {
   "cell_type": "code",
   "execution_count": 93,
   "id": "personalized-algeria",
   "metadata": {},
   "outputs": [],
   "source": [
    "# make sample_names.tsv\n",
    "pseudo_bulk.columns.to_frame().to_csv('/nfs/team205/heart/compass/fetal_allcells_finegrain_agebin_cellnuc_batch_rand_20/sample_names.tsv', sep=\"\\t\", index=False, header=False)\n",
    "\n",
    "# make genes.tsv\n",
    "genes = pseudo_bulk.index.to_list()\n",
    "genes = pd.DataFrame(genes)\n",
    "genes.to_csv('/nfs/team205/heart/compass/fetal_allcells_finegrain_agebin_cellnuc_batch_rand_20/genes.tsv', sep=\"\\t\", index = False, header=False)\n",
    "\n",
    "# make expression.mtx\n",
    "from scipy.io import mmwrite, mmread\n",
    "from scipy.sparse import csr_matrix\n",
    "\n",
    "# Count Matrix (log normed, all genes, not HVG subsetted)\n",
    "sparce_mtx = csr_matrix(pseudo_bulk)\n",
    "sparce_mtx = sparce_mtx\n",
    "mmwrite('/nfs/team205/heart/compass/fetal_allcells_finegrain_agebin_cellnuc_batch_rand_20/expression.mtx', sparce_mtx)"
   ]
  },
  {
   "cell_type": "code",
   "execution_count": 94,
   "id": "outstanding-gibraltar",
   "metadata": {},
   "outputs": [],
   "source": [
    "# Alter so it includes things you need (a reference e.g. barcode and a cell type e.g. in fine_grain)\n",
    "adata.obs.to_csv('/nfs/team205/heart/compass/fetal_allcells_finegrain_agebin_cellnuc_batch_rand_20/cell_metadata.csv')"
   ]
  },
  {
   "cell_type": "markdown",
   "id": "outside-isaac",
   "metadata": {},
   "source": [
    "# Run Compass"
   ]
  },
  {
   "cell_type": "markdown",
   "id": "listed-strand",
   "metadata": {},
   "source": [
    "## bsub command\n",
    "\n",
    "```\n",
    "bsub \\\n",
    "-G teichlab \\\n",
    "-q hugemem \\\n",
    "-M600000 \\\n",
    "-R \"select[mem>600000] rusage[mem=600000] span[hosts=1]\" \\\n",
    "-n 30 \\\n",
    "-J allcells_batch_rand20 \\\n",
    "-o 'log/compass.%J.out' \\\n",
    "-e 'log/compass.%J.err' \\\n",
    "'/software/singularity-v3.6.4/bin/singularity run -B /nfs,/lustre -B ~/COMPASSResources:/usr/local/lib/python3.8/site-packages/compass/Resources /nfs/cellgeni/singularity/images/compass-v0.9.10.2-cplex-v20.10.sif compass --data-mtx /nfs/team205/heart/compass/fetal_allcells_finegrain_agebin_cellnuc_batch_rand_20/expression.mtx /nfs/team205/heart/compass/fetal_allcells_finegrain_agebin_cellnuc_batch_rand_20/genes.tsv /nfs/team205/heart/compass/fetal_allcells_finegrain_agebin_cellnuc_batch_rand_20/sample_names.tsv --species homo_sapiens --precache --calc-metabolites --output-dir /nfs/team205/heart/compass/fetal_allcells_finegrain_agebin_cellnuc_batch_rand_20/out/ --detailed-perf --num-processes 30'\n",
    "```"
   ]
  }
 ],
 "metadata": {
  "kernelspec": {
   "display_name": "scanpy",
   "language": "python",
   "name": "scanpy"
  },
  "language_info": {
   "codemirror_mode": {
    "name": "ipython",
    "version": 3
   },
   "file_extension": ".py",
   "mimetype": "text/x-python",
   "name": "python",
   "nbconvert_exporter": "python",
   "pygments_lexer": "ipython3",
   "version": "3.9.13"
  }
 },
 "nbformat": 4,
 "nbformat_minor": 5
}
