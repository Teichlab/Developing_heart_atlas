{
 "cells": [
  {
   "cell_type": "markdown",
   "id": "skilled-national",
   "metadata": {},
   "source": [
    "# Prepare Compass inputs, random groups within cell states"
   ]
  },
  {
   "cell_type": "markdown",
   "id": "realistic-indianapolis",
   "metadata": {},
   "source": [
    "https://yoseflab.github.io/Compass/\n",
    "\n",
    "Try to capture biological and technical variation by partitioning within replicates divided by age bin, cell/nuclei, cell state"
   ]
  },
  {
   "cell_type": "markdown",
   "id": "oriented-canberra",
   "metadata": {},
   "source": [
    "## Setup"
   ]
  },
  {
   "cell_type": "code",
   "execution_count": 1,
   "id": "threatened-newsletter",
   "metadata": {},
   "outputs": [
    {
     "name": "stderr",
     "output_type": "stream",
     "text": [
      "/home/jovyan/my-conda-envs/scanpy/lib/python3.9/site-packages/tqdm/auto.py:22: TqdmWarning: IProgress not found. Please update jupyter and ipywidgets. See https://ipywidgets.readthedocs.io/en/stable/user_install.html\n",
      "  from .autonotebook import tqdm as notebook_tqdm\n"
     ]
    }
   ],
   "source": [
    "import numpy as np\n",
    "import pandas as pd\n",
    "import scanpy as sc\n",
    "import matplotlib.pyplot as plt\n",
    "import seaborn as sns\n",
    "from matplotlib.pyplot import rc_context\n",
    "import bbknn\n",
    "import re\n",
    "import sctk\n",
    "import anndata as ad"
   ]
  },
  {
   "cell_type": "code",
   "execution_count": 2,
   "id": "renewable-berlin",
   "metadata": {},
   "outputs": [
    {
     "name": "stdout",
     "output_type": "stream",
     "text": [
      "scanpy==1.9.1 anndata==0.8.0 umap==0.5.3 numpy==1.22.4 scipy==1.8.1 pandas==1.4.3 scikit-learn==1.1.1 statsmodels==0.13.2 python-igraph==0.9.11 pynndescent==0.5.7\n"
     ]
    }
   ],
   "source": [
    "sc.settings.verbosity = 0            # verbosity: errors (0), warnings (1), info (2), hints (3)\n",
    "sc.logging.print_header()\n",
    "sc.settings.set_figure_params(dpi=80, facecolor='white', color_map = 'Reds', figsize = (5, 5),dpi_save=300)"
   ]
  },
  {
   "cell_type": "code",
   "execution_count": 3,
   "id": "personal-tuition",
   "metadata": {},
   "outputs": [],
   "source": [
    "# Perform pseudobulk on sc data\n",
    "\n",
    "import scipy.sparse as sp\n",
    "\n",
    "def pseudo_bulk(\n",
    "        adata, groupby, use_rep='X', highly_variable=False, FUN=np.mean):\n",
    "    \"\"\"Make pseudo bulk data from grouped sc data\n",
    "    \"\"\"\n",
    "    if adata.obs[groupby].dtype.name == 'category':\n",
    "        group_attr = adata.obs[groupby].values\n",
    "        groups = adata.obs[groupby].cat.categories.values\n",
    "    else:\n",
    "        group_attr = adata.obs[groupby].astype(str).values\n",
    "        groups = np.unique(group_attr)\n",
    "    n_level = len(groups)\n",
    "    if highly_variable:\n",
    "        if isinstance(highly_variable, (list, tuple)):\n",
    "            if use_rep == 'raw':\n",
    "                k_hv = adata.raw.var_names.isin(highly_variable)\n",
    "            else:\n",
    "                k_hv = adata.var_names.isin(highly_variable)\n",
    "        else:\n",
    "            k_hv = adata.var['highly_variable'].values\n",
    "    if use_rep == 'X':\n",
    "        x = adata.X\n",
    "        features = adata.var_names.values\n",
    "        if highly_variable:\n",
    "            x = x[:, k_hv]\n",
    "            features = features[k_hv]\n",
    "    elif use_rep == 'raw':\n",
    "        x = adata.raw.X\n",
    "        features = adata.raw.var_names.values\n",
    "        if highly_variable:\n",
    "            x = x[:, k_hv]\n",
    "            features = features[k_hv]\n",
    "    elif use_rep in adata.layers.keys():\n",
    "        x = adata.layers[use_rep]\n",
    "        features = adata.var_names.values\n",
    "        if highly_variable:\n",
    "            x = x[:, k_hv]\n",
    "            features = features[k_hv]\n",
    "    elif use_rep in adata.obsm.keys():\n",
    "        x = adata.obsm[use_rep]\n",
    "        features = np.arange(x.shape[1])\n",
    "    elif (isinstance(use_rep, np.ndarray) and\n",
    "            use_rep.shape[0] == adata.shape[0]):\n",
    "        x = use_rep\n",
    "        features = np.arange(x.shape[1])\n",
    "    else:\n",
    "        raise KeyError(f'{use_rep} invalid.')\n",
    "    summarised = np.zeros((n_level, x.shape[1]))\n",
    "    for i, grp in enumerate(groups):\n",
    "        k_grp = group_attr == grp\n",
    "        if sp.issparse(x):\n",
    "            summarised[i] = FUN(x[k_grp, :], axis=0)\n",
    "        else:\n",
    "            summarised[i] = FUN(x[k_grp, :], axis=0, keepdims=True)\n",
    "    return pd.DataFrame(summarised.T, columns=groups, index=features)\n",
    "\n",
    "def random_partition(\n",
    "    adata,\n",
    "    partition_size,\n",
    "    groupby=None,\n",
    "    method=\"random_even\",\n",
    "    key_added=\"partition_labels\",\n",
    "    random_state=0,\n",
    "):\n",
    "    np.random.seed(random_state)\n",
    "    if groupby:\n",
    "        if groupby not in adata.obs.columns:\n",
    "            raise KeyError(f\"{groupby} is not a valid obs annotation.\")\n",
    "        groups = adata.obs[groupby].unique()\n",
    "        label_df = adata.obs[[groupby]].astype(str).rename(columns={groupby: key_added})\n",
    "        for grp in groups:\n",
    "            k = adata.obs[groupby] == grp\n",
    "            grp_size = sum(k)\n",
    "            n_partition = max(np.round(grp_size / partition_size).astype(int), 1)\n",
    "            if method == \"random\":\n",
    "                part_idx = np.random.randint(low=0, high=n_partition, size=grp_size)\n",
    "            elif method == \"random_even\":\n",
    "                part_sizes = list(map(len, np.array_split(np.arange(grp_size), n_partition)))\n",
    "                part_idx = np.repeat(np.arange(n_partition), part_sizes)\n",
    "                np.random.shuffle(part_idx)\n",
    "            else:\n",
    "                raise NotImplementedError(method)\n",
    "            label_df.loc[k, key_added] = [f\"{grp},{i}\" for i in part_idx]\n",
    "        adata.obs[key_added] = label_df[key_added]\n",
    "    else:\n",
    "        n_partition = max(np.round(adata.n_obs / partition_size).astype(int), 1)\n",
    "        if method == \"random\":\n",
    "            part_idx = np.random.randint(low=0, high=n_partition, size=adata.n_obs)\n",
    "        elif method == \"random_even\":\n",
    "            part_sizes = list(map(len, np.array_split(np.arange(adata.n_obs), n_partition)))\n",
    "            part_idx = np.repeat(np.arange(n_partition), part_sizes)\n",
    "            np.random.shuffle(part_idx)\n",
    "        else:\n",
    "            raise NotImplementedError(method)\n",
    "        adata.obs[key_added] = part_idx.astype(str)"
   ]
  },
  {
   "cell_type": "markdown",
   "id": "terminal-calvin",
   "metadata": {},
   "source": [
    "## Import suspension data"
   ]
  },
  {
   "cell_type": "markdown",
   "id": "continuing-organic",
   "metadata": {},
   "source": [
    "### Adult"
   ]
  },
  {
   "cell_type": "code",
   "execution_count": 10,
   "id": "other-depression",
   "metadata": {},
   "outputs": [
    {
     "data": {
      "text/plain": [
       "AnnData object with n_obs × n_vars = 629041 × 32732\n",
       "    obs: 'sangerID', 'combinedID', 'donor', 'donor_type', 'region', 'region_finest', 'age', 'gender', 'facility', 'cell_or_nuclei', 'modality', 'kit_10x', 'flushed', 'n_genes', 'n_genes_by_counts', 'total_counts', 'total_counts_mt', 'pct_counts_mt', 'total_counts_ribo', 'pct_counts_ribo', 'scrublet_score', 'scrublet_leiden', 'cluster_scrublet_score', 'doublet_pval', 'doublet_bh_pval', 'batch_key', 'leiden_scVI', 'cell_type', 'cell_state_HCAv1', 'cell_state_scNym', 'cell_state_scNym_confidence', 'cell_state'\n",
       "    var: 'gene_name_scRNA-0', 'gene_name_snRNA-1', 'gene_name_multiome-2'\n",
       "    uns: 'cell_or_nuclei_colors', 'cell_state_HCAv1_colors', 'cell_state_colors', 'cell_state_scNym_colors', 'cell_type_colors', 'donor_colors', 'kit_10x_colors', 'leiden_scVI_colors', 'region_colors'\n",
       "    obsm: 'X_scVI', 'X_umap', '_scvi_extra_continuous', 'latent_gene_encoding'\n",
       "    obsp: 'connectivities', 'distances'"
      ]
     },
     "execution_count": 10,
     "metadata": {},
     "output_type": "execute_result"
    }
   ],
   "source": [
    "adata = sc.read('/nfs/team205/heart/anndata_objects/8regions/RNA_adult-8reg_raw_rmdblcls_cellstate-annotated.h5ad')\n",
    "adata"
   ]
  },
  {
   "cell_type": "code",
   "execution_count": 11,
   "id": "severe-tribe",
   "metadata": {},
   "outputs": [
    {
     "data": {
      "text/html": [
       "<div>\n",
       "<style scoped>\n",
       "    .dataframe tbody tr th:only-of-type {\n",
       "        vertical-align: middle;\n",
       "    }\n",
       "\n",
       "    .dataframe tbody tr th {\n",
       "        vertical-align: top;\n",
       "    }\n",
       "\n",
       "    .dataframe thead th {\n",
       "        text-align: right;\n",
       "    }\n",
       "</style>\n",
       "<table border=\"1\" class=\"dataframe\">\n",
       "  <thead>\n",
       "    <tr style=\"text-align: right;\">\n",
       "      <th></th>\n",
       "      <th>gene_name_scRNA-0</th>\n",
       "      <th>gene_name_snRNA-1</th>\n",
       "      <th>gene_id</th>\n",
       "    </tr>\n",
       "    <tr>\n",
       "      <th>gene_name_multiome-2</th>\n",
       "      <th></th>\n",
       "      <th></th>\n",
       "      <th></th>\n",
       "    </tr>\n",
       "  </thead>\n",
       "  <tbody>\n",
       "    <tr>\n",
       "      <th>MIR1302-2HG</th>\n",
       "      <td>MIR1302-2HG</td>\n",
       "      <td>MIR1302-2HG</td>\n",
       "      <td>ENSG00000243485</td>\n",
       "    </tr>\n",
       "    <tr>\n",
       "      <th>FAM138A</th>\n",
       "      <td>FAM138A</td>\n",
       "      <td>FAM138A</td>\n",
       "      <td>ENSG00000237613</td>\n",
       "    </tr>\n",
       "    <tr>\n",
       "      <th>OR4F5</th>\n",
       "      <td>OR4F5</td>\n",
       "      <td>OR4F5</td>\n",
       "      <td>ENSG00000186092</td>\n",
       "    </tr>\n",
       "    <tr>\n",
       "      <th>AL627309.1</th>\n",
       "      <td>AL627309.1</td>\n",
       "      <td>AL627309.1</td>\n",
       "      <td>ENSG00000238009</td>\n",
       "    </tr>\n",
       "    <tr>\n",
       "      <th>AL627309.3</th>\n",
       "      <td>AL627309.3</td>\n",
       "      <td>AL627309.3</td>\n",
       "      <td>ENSG00000239945</td>\n",
       "    </tr>\n",
       "    <tr>\n",
       "      <th>...</th>\n",
       "      <td>...</td>\n",
       "      <td>...</td>\n",
       "      <td>...</td>\n",
       "    </tr>\n",
       "    <tr>\n",
       "      <th>AC233755.2</th>\n",
       "      <td>AC233755.2</td>\n",
       "      <td>AC233755.2</td>\n",
       "      <td>ENSG00000277856</td>\n",
       "    </tr>\n",
       "    <tr>\n",
       "      <th>AC233755.1</th>\n",
       "      <td>AC233755.1</td>\n",
       "      <td>AC233755.1</td>\n",
       "      <td>ENSG00000275063</td>\n",
       "    </tr>\n",
       "    <tr>\n",
       "      <th>AC240274.1</th>\n",
       "      <td>AC240274.1</td>\n",
       "      <td>AC240274.1</td>\n",
       "      <td>ENSG00000271254</td>\n",
       "    </tr>\n",
       "    <tr>\n",
       "      <th>AC213203.2</th>\n",
       "      <td>AC213203.1</td>\n",
       "      <td>AC213203.1</td>\n",
       "      <td>ENSG00000277475</td>\n",
       "    </tr>\n",
       "    <tr>\n",
       "      <th>AC213203.1</th>\n",
       "      <td>FAM231C</td>\n",
       "      <td>FAM231C</td>\n",
       "      <td>ENSG00000268674</td>\n",
       "    </tr>\n",
       "  </tbody>\n",
       "</table>\n",
       "<p>32732 rows × 3 columns</p>\n",
       "</div>"
      ],
      "text/plain": [
       "                     gene_name_scRNA-0 gene_name_snRNA-1          gene_id\n",
       "gene_name_multiome-2                                                     \n",
       "MIR1302-2HG                MIR1302-2HG       MIR1302-2HG  ENSG00000243485\n",
       "FAM138A                        FAM138A           FAM138A  ENSG00000237613\n",
       "OR4F5                            OR4F5             OR4F5  ENSG00000186092\n",
       "AL627309.1                  AL627309.1        AL627309.1  ENSG00000238009\n",
       "AL627309.3                  AL627309.3        AL627309.3  ENSG00000239945\n",
       "...                                ...               ...              ...\n",
       "AC233755.2                  AC233755.2        AC233755.2  ENSG00000277856\n",
       "AC233755.1                  AC233755.1        AC233755.1  ENSG00000275063\n",
       "AC240274.1                  AC240274.1        AC240274.1  ENSG00000271254\n",
       "AC213203.2                  AC213203.1        AC213203.1  ENSG00000277475\n",
       "AC213203.1                     FAM231C           FAM231C  ENSG00000268674\n",
       "\n",
       "[32732 rows x 3 columns]"
      ]
     },
     "execution_count": 11,
     "metadata": {},
     "output_type": "execute_result"
    }
   ],
   "source": [
    "# set gene name as var_names \n",
    "adata.var['gene_id']=adata.var_names.copy()\n",
    "adata.var.set_index('gene_name_multiome-2',inplace=True)\n",
    "adata.var_names=adata.var_names.astype('str')\n",
    "adata.var_names_make_unique()\n",
    "adata.var"
   ]
  },
  {
   "cell_type": "code",
   "execution_count": 12,
   "id": "qualified-amount",
   "metadata": {},
   "outputs": [
    {
     "name": "stdout",
     "output_type": "stream",
     "text": [
      "Index(['MIR1302-2HG', 'FAM138A'], dtype='object', name='gene_name_multiome-2')\n",
      "[1. 1. 1. 1. 2.]\n"
     ]
    }
   ],
   "source": [
    "# Check var_names are gene symbols, and the data is log-normed\n",
    "print(adata.var.index[:2])\n",
    "print(adata.X.data[:5])"
   ]
  },
  {
   "cell_type": "code",
   "execution_count": 13,
   "id": "certain-wagner",
   "metadata": {},
   "outputs": [],
   "source": [
    "sc.pp.log1p(adata)"
   ]
  },
  {
   "cell_type": "code",
   "execution_count": 14,
   "id": "covered-cocktail",
   "metadata": {},
   "outputs": [
    {
     "name": "stdout",
     "output_type": "stream",
     "text": [
      "Index(['MIR1302-2HG', 'FAM138A'], dtype='object', name='gene_name_multiome-2')\n",
      "[0.6931472 0.6931472 0.6931472 0.6931472 1.0986123]\n"
     ]
    }
   ],
   "source": [
    "# Check var_names are gene symbols, and the data is log-normed\n",
    "print(adata.var.index[:2])\n",
    "print(adata.X.data[:5])"
   ]
  },
  {
   "cell_type": "code",
   "execution_count": 15,
   "id": "romance-wrestling",
   "metadata": {},
   "outputs": [
    {
     "name": "stdout",
     "output_type": "stream",
     "text": [
      "(629041, 32732)\n",
      "(226971, 32732)\n"
     ]
    }
   ],
   "source": [
    "#subset by CMs only\n",
    "print(adata.shape)\n",
    "adata=adata[adata.obs['cell_type'].isin(['Ventricular Cardiomyocyte','Atrial Cardiomyocyte'])]\n",
    "print(adata.shape)"
   ]
  },
  {
   "cell_type": "code",
   "execution_count": 16,
   "id": "specialized-hopkins",
   "metadata": {},
   "outputs": [],
   "source": [
    "adult=adata.copy()"
   ]
  },
  {
   "cell_type": "markdown",
   "id": "meaning-driver",
   "metadata": {},
   "source": [
    "### Fetal"
   ]
  },
  {
   "cell_type": "code",
   "execution_count": 25,
   "id": "impossible-manor",
   "metadata": {},
   "outputs": [
    {
     "data": {
      "text/plain": [
       "AnnData object with n_obs × n_vars = 176050 × 36601\n",
       "    obs: 'latent_RT_efficiency', 'latent_cell_probability', 'latent_scale', 'sangerID', 'combinedID', 'donor', 'donor_type', 'region_finest', 'facility', 'cell_or_nuclei', 'modality', 'kit_10x', 'flushed', 'scrublet_score', 'scrublet_leiden', 'cluster_scrublet_score', 'doublet_pval', 'doublet_bh_pval', 'n_genes', 'n_counts', 'n_genes_by_counts', 'log1p_n_genes_by_counts', 'total_counts', 'log1p_total_counts', 'total_counts_mt', 'log1p_total_counts_mt', 'pct_counts_mt', 'total_counts_ribo', 'log1p_total_counts_ribo', 'pct_counts_ribo', 'HB_score', 'batch_key', '_scvi_batch', '_scvi_labels', 'annotation_Semih', 'leiden_scVI', 'cell_type_pre', 'pth', 'ito', 'FACSgate', 'leiden_scVI_0.05', 'leiden_scVI_0.01', 'leiden_scVI_0.1', 'leiden_scVI_0.15', 'leiden_scVI_0.2', 'leiden_scVI_0.25', 'leiden_scVI_0.3', 'leiden_scVI_0.35', 'leiden_scVI_0.4', 'cell_type', 'coarse_grain', 'fine_grain', 'region', 'sex', 'age', 'cycling', 'S_score', 'G2M_score', 'phase', 'stress_score', 'hb1_score'\n",
       "    var: 'gene_name_scRNA-0', 'gene_name_multiome-1'\n",
       "    uns: '_scvi_manager_uuid', '_scvi_uuid', 'age_colors', 'cell_or_nuclei_colors', 'cell_type_colors', 'coarse_grain_colors', 'cycling_colors', 'donor_colors', 'fine_grain_colors', 'hvg', 'kit_10x_colors', 'neighbors', 'phase_colors', 'region_colors', 'sex_colors', 'umap'\n",
       "    obsm: 'X_scVI', 'X_umap', '_scvi_extra_categorical_covs', '_scvi_extra_continuous', '_scvi_extra_continuous_covs', 'latent_gene_encoding'\n",
       "    obsp: 'connectivities', 'distances'"
      ]
     },
     "execution_count": 25,
     "metadata": {},
     "output_type": "execute_result"
    }
   ],
   "source": [
    "adata = sc.read('/nfs/team205/heart/anndata_objects/Foetal/final_annotation/FetalHearts13Aug_raw.h5ad')\n",
    "adata"
   ]
  },
  {
   "cell_type": "code",
   "execution_count": 26,
   "id": "trying-implementation",
   "metadata": {},
   "outputs": [
    {
     "data": {
      "text/html": [
       "<div>\n",
       "<style scoped>\n",
       "    .dataframe tbody tr th:only-of-type {\n",
       "        vertical-align: middle;\n",
       "    }\n",
       "\n",
       "    .dataframe tbody tr th {\n",
       "        vertical-align: top;\n",
       "    }\n",
       "\n",
       "    .dataframe thead th {\n",
       "        text-align: right;\n",
       "    }\n",
       "</style>\n",
       "<table border=\"1\" class=\"dataframe\">\n",
       "  <thead>\n",
       "    <tr style=\"text-align: right;\">\n",
       "      <th></th>\n",
       "      <th>gene_name_scRNA-0</th>\n",
       "      <th>gene_id</th>\n",
       "    </tr>\n",
       "    <tr>\n",
       "      <th>gene_name_multiome-1</th>\n",
       "      <th></th>\n",
       "      <th></th>\n",
       "    </tr>\n",
       "  </thead>\n",
       "  <tbody>\n",
       "    <tr>\n",
       "      <th>MIR1302-2HG</th>\n",
       "      <td>MIR1302-2HG</td>\n",
       "      <td>ENSG00000243485</td>\n",
       "    </tr>\n",
       "    <tr>\n",
       "      <th>FAM138A</th>\n",
       "      <td>FAM138A</td>\n",
       "      <td>ENSG00000237613</td>\n",
       "    </tr>\n",
       "    <tr>\n",
       "      <th>OR4F5</th>\n",
       "      <td>OR4F5</td>\n",
       "      <td>ENSG00000186092</td>\n",
       "    </tr>\n",
       "    <tr>\n",
       "      <th>AL627309.1</th>\n",
       "      <td>AL627309.1</td>\n",
       "      <td>ENSG00000238009</td>\n",
       "    </tr>\n",
       "    <tr>\n",
       "      <th>AL627309.3</th>\n",
       "      <td>AL627309.3</td>\n",
       "      <td>ENSG00000239945</td>\n",
       "    </tr>\n",
       "    <tr>\n",
       "      <th>...</th>\n",
       "      <td>...</td>\n",
       "      <td>...</td>\n",
       "    </tr>\n",
       "    <tr>\n",
       "      <th>AC141272.1</th>\n",
       "      <td>AC141272.1</td>\n",
       "      <td>ENSG00000277836</td>\n",
       "    </tr>\n",
       "    <tr>\n",
       "      <th>AC023491.2</th>\n",
       "      <td>AC023491.2</td>\n",
       "      <td>ENSG00000278633</td>\n",
       "    </tr>\n",
       "    <tr>\n",
       "      <th>AC007325.1</th>\n",
       "      <td>AC007325.1</td>\n",
       "      <td>ENSG00000276017</td>\n",
       "    </tr>\n",
       "    <tr>\n",
       "      <th>AC007325.4</th>\n",
       "      <td>AC007325.4</td>\n",
       "      <td>ENSG00000278817</td>\n",
       "    </tr>\n",
       "    <tr>\n",
       "      <th>AC007325.2</th>\n",
       "      <td>AC007325.2</td>\n",
       "      <td>ENSG00000277196</td>\n",
       "    </tr>\n",
       "  </tbody>\n",
       "</table>\n",
       "<p>36601 rows × 2 columns</p>\n",
       "</div>"
      ],
      "text/plain": [
       "                     gene_name_scRNA-0          gene_id\n",
       "gene_name_multiome-1                                   \n",
       "MIR1302-2HG                MIR1302-2HG  ENSG00000243485\n",
       "FAM138A                        FAM138A  ENSG00000237613\n",
       "OR4F5                            OR4F5  ENSG00000186092\n",
       "AL627309.1                  AL627309.1  ENSG00000238009\n",
       "AL627309.3                  AL627309.3  ENSG00000239945\n",
       "...                                ...              ...\n",
       "AC141272.1                  AC141272.1  ENSG00000277836\n",
       "AC023491.2                  AC023491.2  ENSG00000278633\n",
       "AC007325.1                  AC007325.1  ENSG00000276017\n",
       "AC007325.4                  AC007325.4  ENSG00000278817\n",
       "AC007325.2                  AC007325.2  ENSG00000277196\n",
       "\n",
       "[36601 rows x 2 columns]"
      ]
     },
     "execution_count": 26,
     "metadata": {},
     "output_type": "execute_result"
    }
   ],
   "source": [
    "# set gene name as var_names \n",
    "adata.var['gene_id']=adata.var_names.copy()\n",
    "adata.var.set_index('gene_name_multiome-1',inplace=True)\n",
    "adata.var_names=adata.var_names.astype('str')\n",
    "adata.var_names_make_unique()\n",
    "adata.var"
   ]
  },
  {
   "cell_type": "code",
   "execution_count": 27,
   "id": "charitable-graduate",
   "metadata": {},
   "outputs": [
    {
     "name": "stdout",
     "output_type": "stream",
     "text": [
      "Index(['MIR1302-2HG', 'FAM138A'], dtype='object', name='gene_name_multiome-1')\n",
      "[1. 1. 5. 5. 8.]\n"
     ]
    }
   ],
   "source": [
    "# Check var_names are gene symbols, and the data is log-normed\n",
    "print(adata.var.index[:2])\n",
    "print(adata.X.data[:5])"
   ]
  },
  {
   "cell_type": "code",
   "execution_count": 28,
   "id": "accurate-zimbabwe",
   "metadata": {},
   "outputs": [
    {
     "name": "stdout",
     "output_type": "stream",
     "text": [
      "(176050, 36601)\n",
      "(64751, 36601)\n"
     ]
    }
   ],
   "source": [
    "#subset by CMs only\n",
    "print(adata.shape)\n",
    "adata=adata[adata.obs['coarse_grain']=='Cardiomyocytes']\n",
    "print(adata.shape)"
   ]
  },
  {
   "cell_type": "code",
   "execution_count": 29,
   "id": "driving-month",
   "metadata": {},
   "outputs": [
    {
     "name": "stderr",
     "output_type": "stream",
     "text": [
      "/home/jovyan/my-conda-envs/scanpy/lib/python3.9/site-packages/scanpy/preprocessing/_simple.py:373: UserWarning: Received a view of an AnnData. Making a copy.\n",
      "  view_to_actual(adata)\n"
     ]
    }
   ],
   "source": [
    "sc.pp.log1p(adata)"
   ]
  },
  {
   "cell_type": "code",
   "execution_count": 30,
   "id": "suited-language",
   "metadata": {},
   "outputs": [
    {
     "name": "stdout",
     "output_type": "stream",
     "text": [
      "Index(['MIR1302-2HG', 'FAM138A'], dtype='object', name='gene_name_multiome-1')\n",
      "[1.9459102 0.6931472 1.3862944 0.6931472 0.6931472]\n"
     ]
    }
   ],
   "source": [
    "# Check var_names are gene symbols, and the data is log-normed\n",
    "print(adata.var.index[:2])\n",
    "print(adata.X.data[:5])"
   ]
  },
  {
   "cell_type": "code",
   "execution_count": 31,
   "id": "median-theory",
   "metadata": {},
   "outputs": [],
   "source": [
    "fetal=adata.copy()"
   ]
  },
  {
   "cell_type": "markdown",
   "id": "conventional-profile",
   "metadata": {},
   "source": [
    "### make a combined object by concatenation"
   ]
  },
  {
   "cell_type": "code",
   "execution_count": 32,
   "id": "colored-december",
   "metadata": {},
   "outputs": [],
   "source": [
    "# make a label denoting agea\n",
    "\n",
    "# adult\n",
    "adult.obs['age_binned']='adult'\n",
    "\n",
    "# fetal\n",
    "age_to_agebins = {\n",
    "    '15W1D':'T2',\n",
    "    '10W4D':'lateT1',\n",
    "    '7W4D':'earlyT1',\n",
    "    '9W4D':'lateT1',\n",
    "    '9W1D':'lateT1',\n",
    "    '8W1D':'earlyT1',\n",
    "    '9W6D':'lateT1',\n",
    "    '8W2D':'earlyT1',\n",
    "    '11W3D':'lateT1',\n",
    "    '12W5D':'lateT1',\n",
    "    '9W3D':'lateT1',\n",
    "    '8W5D':'earlyT1',\n",
    "    '11W2D':'lateT1',\n",
    "}\n",
    "fetal.obs['age_binned'] = (\n",
    "    fetal.obs['age']\n",
    "    .map(age_to_agebins)\n",
    "    .astype('category')\n",
    ")"
   ]
  },
  {
   "cell_type": "code",
   "execution_count": 33,
   "id": "selective-hammer",
   "metadata": {},
   "outputs": [],
   "source": [
    "# make a common label for fine_grain\n",
    "adult.obs['fine_grain']=adult.obs['cell_state']"
   ]
  },
  {
   "cell_type": "code",
   "execution_count": 34,
   "id": "numerous-envelope",
   "metadata": {},
   "outputs": [
    {
     "data": {
      "text/plain": [
       "AnnData object with n_obs × n_vars = 291722 × 32732\n",
       "    obs: 'sangerID', 'combinedID', 'donor', 'donor_type', 'region', 'region_finest', 'age', 'facility', 'cell_or_nuclei', 'modality', 'kit_10x', 'flushed', 'n_genes', 'n_genes_by_counts', 'total_counts', 'total_counts_mt', 'pct_counts_mt', 'total_counts_ribo', 'pct_counts_ribo', 'scrublet_score', 'scrublet_leiden', 'cluster_scrublet_score', 'doublet_pval', 'doublet_bh_pval', 'batch_key', 'leiden_scVI', 'cell_type', 'age_binned', 'fine_grain'\n",
       "    obsm: 'X_scVI', 'X_umap', '_scvi_extra_continuous', 'latent_gene_encoding'"
      ]
     },
     "execution_count": 34,
     "metadata": {},
     "output_type": "execute_result"
    }
   ],
   "source": [
    "#perform concatenation\n",
    "combined = ad.concat([adult, fetal], join=\"inner\", index_unique=None)\n",
    "combined"
   ]
  },
  {
   "cell_type": "code",
   "execution_count": 35,
   "id": "abroad-beaver",
   "metadata": {},
   "outputs": [
    {
     "name": "stdout",
     "output_type": "stream",
     "text": [
      "(226971, 32732)\n",
      "(64751, 36601)\n",
      "(291722, 32732)\n"
     ]
    }
   ],
   "source": [
    "print(adult.shape)\n",
    "print(fetal.shape)\n",
    "print(combined.shape)"
   ]
  },
  {
   "cell_type": "code",
   "execution_count": 36,
   "id": "rubber-marriage",
   "metadata": {},
   "outputs": [
    {
     "data": {
      "text/plain": [
       "<AxesSubplot:>"
      ]
     },
     "execution_count": 36,
     "metadata": {},
     "output_type": "execute_result"
    },
    {
     "data": {
      "image/png": "[encoded data removed]",
      "text/plain": [
       "<Figure size 400x400 with 1 Axes>"
      ]
     },
     "metadata": {
      "image/png": {
       "height": 386,
       "width": 395
      }
     },
     "output_type": "display_data"
    }
   ],
   "source": [
    "combined.obs['age_binned'].value_counts().plot.bar()"
   ]
  },
  {
   "cell_type": "code",
   "execution_count": 37,
   "id": "chinese-insurance",
   "metadata": {},
   "outputs": [],
   "source": [
    "adata=combined"
   ]
  },
  {
   "cell_type": "markdown",
   "id": "stainless-spotlight",
   "metadata": {},
   "source": [
    "# Prepare data for Compass\n",
    "\"The input gene expression matrix can be either a tab-delimited text file (tsv) or a matrix market format (mtx) containing gene expression estimates (CPM, TPM, or similar scaled units) with one row per gene, one column per sample.\""
   ]
  },
  {
   "cell_type": "markdown",
   "id": "provincial-bargain",
   "metadata": {},
   "source": [
    "## .mtx method (gene x sampleID, 3 files)\n",
    "This allows you to specify the 'samples', so rather than calculating reactions in all single cells individually (or micro-pooled) we can make our own \"samples\" (pseudobulking them)\n",
    "\n",
    "Need to ensure the samples are representative of the sample. Here we use a new batch key of cell state and the previous batch key  to form the 'samples'\n",
    "This requires 3 files, to inputted thus ```--data expression.mtx genes.tsv sample_names.tsv```\n",
    "\n",
    "Another option would be to use Milo or Metacell to make small samples, below I am going to just use the batch key to make samples within each cell state."
   ]
  },
  {
   "cell_type": "code",
   "execution_count": 38,
   "id": "verified-guarantee",
   "metadata": {},
   "outputs": [],
   "source": [
    "# make a label combining cell state, age, and cell vs nuclei\n",
    "adata.obs['compass_label']=adata.obs['fine_grain'].astype(str)+'_'+adata.obs['age_binned'].astype(str)+'_'+adata.obs['cell_or_nuclei'].astype(str)"
   ]
  },
  {
   "cell_type": "code",
   "execution_count": 39,
   "id": "vietnamese-factory",
   "metadata": {},
   "outputs": [
    {
     "data": {
      "text/plain": [
       "vCM1_adult_Nuclei                             97536\n",
       "vCM2_adult_Nuclei                             34573\n",
       "vCM4_adult_Nuclei                             27285\n",
       "vCM3_adult_Nuclei                             25417\n",
       "aCM1_adult_Nuclei                             17624\n",
       "                                              ...  \n",
       "AtrialCardiomyocytesCycling_lateT1_Nuclei        27\n",
       "AtrialCardiomyocytesCycling_T2_Nuclei            16\n",
       "AtrialCardiomyocytesCycling_earlyT1_Nuclei        7\n",
       "aCM1_adult_Cell                                   2\n",
       "vCM1_adult_Cell                                   2\n",
       "Name: compass_label, Length: 79, dtype: int64"
      ]
     },
     "execution_count": 39,
     "metadata": {},
     "output_type": "execute_result"
    }
   ],
   "source": [
    "adata.obs['compass_label'].value_counts()"
   ]
  },
  {
   "cell_type": "code",
   "execution_count": 40,
   "id": "suburban-commander",
   "metadata": {},
   "outputs": [
    {
     "data": {
      "text/plain": [
       "<AxesSubplot:>"
      ]
     },
     "execution_count": 40,
     "metadata": {},
     "output_type": "execute_result"
    },
    {
     "data": {
      "image/png": "[encoded data removed]",
      "text/plain": [
       "<Figure size 400x400 with 1 Axes>"
      ]
     },
     "metadata": {
      "image/png": {
       "height": 342,
       "width": 378
      }
     },
     "output_type": "display_data"
    }
   ],
   "source": [
    "adata.obs['compass_label'].value_counts().hist(bins = 200)"
   ]
  },
  {
   "cell_type": "code",
   "execution_count": 41,
   "id": "integrated-excellence",
   "metadata": {},
   "outputs": [],
   "source": [
    "# Make random partition using sctk\n",
    "random_partition(adata, partition_size=20, groupby=\"compass_label\", key_added=\"partition_20\")"
   ]
  },
  {
   "cell_type": "code",
   "execution_count": 42,
   "id": "appointed-rally",
   "metadata": {},
   "outputs": [
    {
     "data": {
      "text/plain": [
       "14591"
      ]
     },
     "execution_count": 42,
     "metadata": {},
     "output_type": "execute_result"
    }
   ],
   "source": [
    "#find out how many groups were made during partitioning\n",
    "len(adata.obs['partition_20'].unique())"
   ]
  },
  {
   "cell_type": "code",
   "execution_count": 43,
   "id": "broke-imaging",
   "metadata": {},
   "outputs": [
    {
     "data": {
      "text/plain": [
       "<AxesSubplot:>"
      ]
     },
     "execution_count": 43,
     "metadata": {},
     "output_type": "execute_result"
    },
    {
     "data": {
      "image/png": "[encoded data removed]",
      "text/plain": [
       "<Figure size 400x400 with 1 Axes>"
      ]
     },
     "metadata": {
      "image/png": {
       "height": 342,
       "width": 355
      }
     },
     "output_type": "display_data"
    }
   ],
   "source": [
    "tmp=adata.obs['partition_20'].value_counts()\n",
    "tmp[tmp<19].hist(bins = 20)"
   ]
  },
  {
   "cell_type": "code",
   "execution_count": 44,
   "id": "reported-saskatchewan",
   "metadata": {},
   "outputs": [],
   "source": [
    "# Pseudobulk use Ni's psudobulk function\n",
    "pseudo_bulk = pseudo_bulk(adata,\n",
    "                         groupby='partition_20')"
   ]
  },
  {
   "cell_type": "code",
   "execution_count": 45,
   "id": "emotional-reading",
   "metadata": {},
   "outputs": [
    {
     "name": "stdout",
     "output_type": "stream",
     "text": [
      "(32732, 14591)\n"
     ]
    },
    {
     "data": {
      "text/html": [
       "<div>\n",
       "<style scoped>\n",
       "    .dataframe tbody tr th:only-of-type {\n",
       "        vertical-align: middle;\n",
       "    }\n",
       "\n",
       "    .dataframe tbody tr th {\n",
       "        vertical-align: top;\n",
       "    }\n",
       "\n",
       "    .dataframe thead th {\n",
       "        text-align: right;\n",
       "    }\n",
       "</style>\n",
       "<table border=\"1\" class=\"dataframe\">\n",
       "  <thead>\n",
       "    <tr style=\"text-align: right;\">\n",
       "      <th></th>\n",
       "      <th>AVN_P_cell_adult_Nuclei,0</th>\n",
       "      <th>AVN_P_cell_adult_Nuclei,1</th>\n",
       "      <th>AVN_P_cell_adult_Nuclei,2</th>\n",
       "      <th>AVN_P_cell_adult_Nuclei,3</th>\n",
       "      <th>AVN_P_cell_adult_Nuclei,4</th>\n",
       "      <th>AVN_P_cell_adult_Nuclei,5</th>\n",
       "      <th>AVN_P_cell_adult_Nuclei,6</th>\n",
       "      <th>AVN_P_cell_adult_Nuclei,7</th>\n",
       "      <th>AVN_bundle_cell_adult_Nuclei,0</th>\n",
       "      <th>AVN_bundle_cell_adult_Nuclei,1</th>\n",
       "      <th>...</th>\n",
       "      <th>vCM5_adult_Nuclei,1</th>\n",
       "      <th>vCM5_adult_Nuclei,10</th>\n",
       "      <th>vCM5_adult_Nuclei,2</th>\n",
       "      <th>vCM5_adult_Nuclei,3</th>\n",
       "      <th>vCM5_adult_Nuclei,4</th>\n",
       "      <th>vCM5_adult_Nuclei,5</th>\n",
       "      <th>vCM5_adult_Nuclei,6</th>\n",
       "      <th>vCM5_adult_Nuclei,7</th>\n",
       "      <th>vCM5_adult_Nuclei,8</th>\n",
       "      <th>vCM5_adult_Nuclei,9</th>\n",
       "    </tr>\n",
       "  </thead>\n",
       "  <tbody>\n",
       "    <tr>\n",
       "      <th>MIR1302-2HG</th>\n",
       "      <td>0.0</td>\n",
       "      <td>0.0</td>\n",
       "      <td>0.0</td>\n",
       "      <td>0.0</td>\n",
       "      <td>0.0</td>\n",
       "      <td>0.0</td>\n",
       "      <td>0.0</td>\n",
       "      <td>0.0</td>\n",
       "      <td>0.0</td>\n",
       "      <td>0.0</td>\n",
       "      <td>...</td>\n",
       "      <td>0.0</td>\n",
       "      <td>0.0</td>\n",
       "      <td>0.0</td>\n",
       "      <td>0.0</td>\n",
       "      <td>0.0</td>\n",
       "      <td>0.0</td>\n",
       "      <td>0.0</td>\n",
       "      <td>0.0</td>\n",
       "      <td>0.0</td>\n",
       "      <td>0.0</td>\n",
       "    </tr>\n",
       "    <tr>\n",
       "      <th>FAM138A</th>\n",
       "      <td>0.0</td>\n",
       "      <td>0.0</td>\n",
       "      <td>0.0</td>\n",
       "      <td>0.0</td>\n",
       "      <td>0.0</td>\n",
       "      <td>0.0</td>\n",
       "      <td>0.0</td>\n",
       "      <td>0.0</td>\n",
       "      <td>0.0</td>\n",
       "      <td>0.0</td>\n",
       "      <td>...</td>\n",
       "      <td>0.0</td>\n",
       "      <td>0.0</td>\n",
       "      <td>0.0</td>\n",
       "      <td>0.0</td>\n",
       "      <td>0.0</td>\n",
       "      <td>0.0</td>\n",
       "      <td>0.0</td>\n",
       "      <td>0.0</td>\n",
       "      <td>0.0</td>\n",
       "      <td>0.0</td>\n",
       "    </tr>\n",
       "    <tr>\n",
       "      <th>OR4F5</th>\n",
       "      <td>0.0</td>\n",
       "      <td>0.0</td>\n",
       "      <td>0.0</td>\n",
       "      <td>0.0</td>\n",
       "      <td>0.0</td>\n",
       "      <td>0.0</td>\n",
       "      <td>0.0</td>\n",
       "      <td>0.0</td>\n",
       "      <td>0.0</td>\n",
       "      <td>0.0</td>\n",
       "      <td>...</td>\n",
       "      <td>0.0</td>\n",
       "      <td>0.0</td>\n",
       "      <td>0.0</td>\n",
       "      <td>0.0</td>\n",
       "      <td>0.0</td>\n",
       "      <td>0.0</td>\n",
       "      <td>0.0</td>\n",
       "      <td>0.0</td>\n",
       "      <td>0.0</td>\n",
       "      <td>0.0</td>\n",
       "    </tr>\n",
       "  </tbody>\n",
       "</table>\n",
       "<p>3 rows × 14591 columns</p>\n",
       "</div>"
      ],
      "text/plain": [
       "             AVN_P_cell_adult_Nuclei,0  AVN_P_cell_adult_Nuclei,1  \\\n",
       "MIR1302-2HG                        0.0                        0.0   \n",
       "FAM138A                            0.0                        0.0   \n",
       "OR4F5                              0.0                        0.0   \n",
       "\n",
       "             AVN_P_cell_adult_Nuclei,2  AVN_P_cell_adult_Nuclei,3  \\\n",
       "MIR1302-2HG                        0.0                        0.0   \n",
       "FAM138A                            0.0                        0.0   \n",
       "OR4F5                              0.0                        0.0   \n",
       "\n",
       "             AVN_P_cell_adult_Nuclei,4  AVN_P_cell_adult_Nuclei,5  \\\n",
       "MIR1302-2HG                        0.0                        0.0   \n",
       "FAM138A                            0.0                        0.0   \n",
       "OR4F5                              0.0                        0.0   \n",
       "\n",
       "             AVN_P_cell_adult_Nuclei,6  AVN_P_cell_adult_Nuclei,7  \\\n",
       "MIR1302-2HG                        0.0                        0.0   \n",
       "FAM138A                            0.0                        0.0   \n",
       "OR4F5                              0.0                        0.0   \n",
       "\n",
       "             AVN_bundle_cell_adult_Nuclei,0  AVN_bundle_cell_adult_Nuclei,1  \\\n",
       "MIR1302-2HG                             0.0                             0.0   \n",
       "FAM138A                                 0.0                             0.0   \n",
       "OR4F5                                   0.0                             0.0   \n",
       "\n",
       "             ...  vCM5_adult_Nuclei,1  vCM5_adult_Nuclei,10  \\\n",
       "MIR1302-2HG  ...                  0.0                   0.0   \n",
       "FAM138A      ...                  0.0                   0.0   \n",
       "OR4F5        ...                  0.0                   0.0   \n",
       "\n",
       "             vCM5_adult_Nuclei,2  vCM5_adult_Nuclei,3  vCM5_adult_Nuclei,4  \\\n",
       "MIR1302-2HG                  0.0                  0.0                  0.0   \n",
       "FAM138A                      0.0                  0.0                  0.0   \n",
       "OR4F5                        0.0                  0.0                  0.0   \n",
       "\n",
       "             vCM5_adult_Nuclei,5  vCM5_adult_Nuclei,6  vCM5_adult_Nuclei,7  \\\n",
       "MIR1302-2HG                  0.0                  0.0                  0.0   \n",
       "FAM138A                      0.0                  0.0                  0.0   \n",
       "OR4F5                        0.0                  0.0                  0.0   \n",
       "\n",
       "             vCM5_adult_Nuclei,8  vCM5_adult_Nuclei,9  \n",
       "MIR1302-2HG                  0.0                  0.0  \n",
       "FAM138A                      0.0                  0.0  \n",
       "OR4F5                        0.0                  0.0  \n",
       "\n",
       "[3 rows x 14591 columns]"
      ]
     },
     "execution_count": 45,
     "metadata": {},
     "output_type": "execute_result"
    }
   ],
   "source": [
    "print(pseudo_bulk.shape)\n",
    "pseudo_bulk.head(3)"
   ]
  },
  {
   "cell_type": "code",
   "execution_count": 46,
   "id": "green-instrument",
   "metadata": {},
   "outputs": [],
   "source": [
    "# make sample_names.tsv\n",
    "pseudo_bulk.columns.to_frame().to_csv('/nfs/team205/heart/compass/fetal_adult_combined_batch_rand20/sample_names.tsv', sep=\"\\t\", index=False, header=False)\n",
    "\n",
    "# make genes.tsv\n",
    "genes = pseudo_bulk.index.to_list()\n",
    "genes = pd.DataFrame(genes)\n",
    "genes.to_csv('/nfs/team205/heart/compass/fetal_adult_combined_batch_rand20/genes.tsv', sep=\"\\t\", index = False, header=False)\n",
    "\n",
    "# make expression.mtx\n",
    "from scipy.io import mmwrite, mmread\n",
    "from scipy.sparse import csr_matrix\n",
    "\n",
    "# Count Matrix (log normed, all genes, not HVG subsetted)\n",
    "sparce_mtx = csr_matrix(pseudo_bulk)\n",
    "sparce_mtx = sparce_mtx\n",
    "mmwrite('/nfs/team205/heart/compass/fetal_adult_combined_batch_rand20/expression.mtx', sparce_mtx)"
   ]
  },
  {
   "cell_type": "markdown",
   "id": "immune-louisiana",
   "metadata": {},
   "source": [
    "# Export cell metadata"
   ]
  },
  {
   "cell_type": "code",
   "execution_count": 47,
   "id": "efficient-singapore",
   "metadata": {},
   "outputs": [],
   "source": [
    "# Alter so it includes things you need (a reference e.g. barcode and a cell type e.g. in fine_grain)\n",
    "adata.obs.to_csv('/nfs/team205/heart/compass/fetal_adult_combined_batch_rand20/cell_metadata.csv')"
   ]
  },
  {
   "cell_type": "markdown",
   "id": "infectious-appearance",
   "metadata": {},
   "source": [
    "# Run Compass"
   ]
  },
  {
   "cell_type": "markdown",
   "id": "coordinate-drain",
   "metadata": {},
   "source": [
    "## bsub command\n",
    "\n",
    "```\n",
    "bsub \\\n",
    "-G teichlab \\\n",
    "-q hugemem \\\n",
    "-M600000 \\\n",
    "-R \"select[mem>600000] rusage[mem=600000] span[hosts=1]\" \\\n",
    "-n 30 \\\n",
    "-J adult_fetal_CM_combo_batch_rand20 \\\n",
    "-o 'log/compass.%J.out' \\\n",
    "-e 'log/compass.%J.err' \\\n",
    "'/software/singularity-v3.6.4/bin/singularity run -B /nfs,/lustre -B ~/COMPASSResources:/usr/local/lib/python3.8/site-packages/compass/Resources /nfs/cellgeni/singularity/images/compass-v0.9.10.2-cplex-v20.10.sif compass --data-mtx /nfs/team205/heart/compass/fetal_adult_combined_batch_rand20/expression.mtx /nfs/team205/heart/compass/fetal_adult_combined_batch_rand20/genes.tsv /nfs/team205/heart/compass/fetal_adult_combined_batch_rand20/sample_names.tsv --species homo_sapiens --precache --calc-metabolites --output-dir /nfs/team205/heart/compass/fetal_adult_combined_batch_rand20/out/ --detailed-perf --num-processes 30'\n",
    "```"
   ]
  }
 ],
 "metadata": {
  "kernelspec": {
   "display_name": "scanpy",
   "language": "python",
   "name": "scanpy"
  },
  "language_info": {
   "codemirror_mode": {
    "name": "ipython",
    "version": 3
   },
   "file_extension": ".py",
   "mimetype": "text/x-python",
   "name": "python",
   "nbconvert_exporter": "python",
   "pygments_lexer": "ipython3",
   "version": "3.9.13"
  }
 },
 "nbformat": 4,
 "nbformat_minor": 5
}
