{
 "cells": [
  {
   "cell_type": "markdown",
   "id": "equipped-button",
   "metadata": {},
   "source": [
    "# Prepare Compass inputs, random groups within cell states"
   ]
  },
  {
   "cell_type": "markdown",
   "id": "mediterranean-newton",
   "metadata": {},
   "source": [
    "Due to large numbers of micropool clusters being contaminated with cells from other annotated groups, we will divide up cells within each celltype into groups of 20 (CM) and 50 (all cells)"
   ]
  },
  {
   "cell_type": "markdown",
   "id": "wooden-amino",
   "metadata": {},
   "source": [
    "## Setup"
   ]
  },
  {
   "cell_type": "code",
   "execution_count": 1,
   "id": "fundamental-halifax",
   "metadata": {},
   "outputs": [
    {
     "name": "stderr",
     "output_type": "stream",
     "text": [
      "/home/jovyan/my-conda-envs/scanpy/lib/python3.9/site-packages/tqdm/auto.py:22: TqdmWarning: IProgress not found. Please update jupyter and ipywidgets. See https://ipywidgets.readthedocs.io/en/stable/user_install.html\n",
      "  from .autonotebook import tqdm as notebook_tqdm\n"
     ]
    }
   ],
   "source": [
    "import numpy as np\n",
    "import pandas as pd\n",
    "import scanpy as sc\n",
    "import anndata as ad\n",
    "import matplotlib.pyplot as plt\n",
    "import seaborn as sns\n",
    "from matplotlib.pyplot import rc_context\n",
    "import bbknn\n",
    "import re\n",
    "import sctk\n",
    "import milopy\n",
    "import milopy.core as milo"
   ]
  },
  {
   "cell_type": "code",
   "execution_count": 2,
   "id": "scientific-universe",
   "metadata": {},
   "outputs": [
    {
     "name": "stdout",
     "output_type": "stream",
     "text": [
      "scanpy==1.9.1 anndata==0.8.0 umap==0.5.3 numpy==1.22.4 scipy==1.8.1 pandas==1.4.3 scikit-learn==1.1.1 statsmodels==0.13.2 python-igraph==0.9.11 pynndescent==0.5.7\n"
     ]
    }
   ],
   "source": [
    "sc.settings.verbosity = 0            # verbosity: errors (0), warnings (1), info (2), hints (3)\n",
    "sc.logging.print_header()\n",
    "sc.settings.set_figure_params(dpi=80, facecolor='white', color_map = 'Reds', figsize = (5, 5),dpi_save=300)"
   ]
  },
  {
   "cell_type": "code",
   "execution_count": 3,
   "id": "authentic-enough",
   "metadata": {},
   "outputs": [],
   "source": [
    "# Perform pseudobulk on sc data\n",
    "\n",
    "import scipy.sparse as sp\n",
    "\n",
    "def pseudo_bulk(\n",
    "        adata, groupby, use_rep='X', highly_variable=False, FUN=np.mean):\n",
    "    \"\"\"Make pseudo bulk data from grouped sc data\n",
    "    \"\"\"\n",
    "    if adata.obs[groupby].dtype.name == 'category':\n",
    "        group_attr = adata.obs[groupby].values\n",
    "        groups = adata.obs[groupby].cat.categories.values\n",
    "    else:\n",
    "        group_attr = adata.obs[groupby].astype(str).values\n",
    "        groups = np.unique(group_attr)\n",
    "    n_level = len(groups)\n",
    "    if highly_variable:\n",
    "        if isinstance(highly_variable, (list, tuple)):\n",
    "            if use_rep == 'raw':\n",
    "                k_hv = adata.raw.var_names.isin(highly_variable)\n",
    "            else:\n",
    "                k_hv = adata.var_names.isin(highly_variable)\n",
    "        else:\n",
    "            k_hv = adata.var['highly_variable'].values\n",
    "    if use_rep == 'X':\n",
    "        x = adata.X\n",
    "        features = adata.var_names.values\n",
    "        if highly_variable:\n",
    "            x = x[:, k_hv]\n",
    "            features = features[k_hv]\n",
    "    elif use_rep == 'raw':\n",
    "        x = adata.raw.X\n",
    "        features = adata.raw.var_names.values\n",
    "        if highly_variable:\n",
    "            x = x[:, k_hv]\n",
    "            features = features[k_hv]\n",
    "    elif use_rep in adata.layers.keys():\n",
    "        x = adata.layers[use_rep]\n",
    "        features = adata.var_names.values\n",
    "        if highly_variable:\n",
    "            x = x[:, k_hv]\n",
    "            features = features[k_hv]\n",
    "    elif use_rep in adata.obsm.keys():\n",
    "        x = adata.obsm[use_rep]\n",
    "        features = np.arange(x.shape[1])\n",
    "    elif (isinstance(use_rep, np.ndarray) and\n",
    "            use_rep.shape[0] == adata.shape[0]):\n",
    "        x = use_rep\n",
    "        features = np.arange(x.shape[1])\n",
    "    else:\n",
    "        raise KeyError(f'{use_rep} invalid.')\n",
    "    summarised = np.zeros((n_level, x.shape[1]))\n",
    "    for i, grp in enumerate(groups):\n",
    "        k_grp = group_attr == grp\n",
    "        if sp.issparse(x):\n",
    "            summarised[i] = FUN(x[k_grp, :], axis=0)\n",
    "        else:\n",
    "            summarised[i] = FUN(x[k_grp, :], axis=0, keepdims=True)\n",
    "    return pd.DataFrame(summarised.T, columns=groups, index=features)\n",
    "\n",
    "def random_partition(\n",
    "    adata,\n",
    "    partition_size,\n",
    "    groupby=None,\n",
    "    method=\"random_even\",\n",
    "    key_added=\"partition_labels\",\n",
    "    random_state=0,\n",
    "):\n",
    "    np.random.seed(random_state)\n",
    "    if groupby:\n",
    "        if groupby not in adata.obs.columns:\n",
    "            raise KeyError(f\"{groupby} is not a valid obs annotation.\")\n",
    "        groups = adata.obs[groupby].unique()\n",
    "        label_df = adata.obs[[groupby]].astype(str).rename(columns={groupby: key_added})\n",
    "        for grp in groups:\n",
    "            k = adata.obs[groupby] == grp\n",
    "            grp_size = sum(k)\n",
    "            n_partition = max(np.round(grp_size / partition_size).astype(int), 1)\n",
    "            if method == \"random\":\n",
    "                part_idx = np.random.randint(low=0, high=n_partition, size=grp_size)\n",
    "            elif method == \"random_even\":\n",
    "                part_sizes = list(map(len, np.array_split(np.arange(grp_size), n_partition)))\n",
    "                part_idx = np.repeat(np.arange(n_partition), part_sizes)\n",
    "                np.random.shuffle(part_idx)\n",
    "            else:\n",
    "                raise NotImplementedError(method)\n",
    "            label_df.loc[k, key_added] = [f\"{grp},{i}\" for i in part_idx]\n",
    "        adata.obs[key_added] = label_df[key_added]\n",
    "    else:\n",
    "        n_partition = max(np.round(adata.n_obs / partition_size).astype(int), 1)\n",
    "        if method == \"random\":\n",
    "            part_idx = np.random.randint(low=0, high=n_partition, size=adata.n_obs)\n",
    "        elif method == \"random_even\":\n",
    "            part_sizes = list(map(len, np.array_split(np.arange(adata.n_obs), n_partition)))\n",
    "            part_idx = np.repeat(np.arange(n_partition), part_sizes)\n",
    "            np.random.shuffle(part_idx)\n",
    "        else:\n",
    "            raise NotImplementedError(method)\n",
    "        adata.obs[key_added] = part_idx.astype(str)"
   ]
  },
  {
   "cell_type": "markdown",
   "id": "stock-ideal",
   "metadata": {},
   "source": [
    "## Import suspension data"
   ]
  },
  {
   "cell_type": "code",
   "execution_count": 4,
   "id": "numeric-conducting",
   "metadata": {},
   "outputs": [
    {
     "data": {
      "text/plain": [
       "AnnData object with n_obs × n_vars = 176050 × 3311\n",
       "    obs: 'latent_RT_efficiency', 'latent_cell_probability', 'latent_scale', 'sangerID', 'combinedID', 'donor', 'donor_type', 'region_finest', 'facility', 'cell_or_nuclei', 'modality', 'kit_10x', 'flushed', 'scrublet_score', 'scrublet_leiden', 'cluster_scrublet_score', 'doublet_pval', 'doublet_bh_pval', 'n_genes', 'n_counts', 'n_genes_by_counts', 'log1p_n_genes_by_counts', 'total_counts', 'log1p_total_counts', 'total_counts_mt', 'log1p_total_counts_mt', 'pct_counts_mt', 'total_counts_ribo', 'log1p_total_counts_ribo', 'pct_counts_ribo', 'HB_score', 'batch_key', '_scvi_batch', '_scvi_labels', 'annotation_Semih', 'leiden_scVI', 'cell_type_pre', 'pth', 'ito', 'FACSgate', 'leiden_scVI_0.05', 'leiden_scVI_0.01', 'leiden_scVI_0.1', 'leiden_scVI_0.15', 'leiden_scVI_0.2', 'leiden_scVI_0.25', 'leiden_scVI_0.3', 'leiden_scVI_0.35', 'leiden_scVI_0.4', 'cell_type', 'coarse_grain', 'fine_grain', 'region', 'sex', 'age', 'cycling', 'S_score', 'G2M_score', 'phase', 'stress_score', 'hb1_score'\n",
       "    var: 'gene_name_scRNA-0', 'gene_id', 'highly_variable', 'means', 'dispersions', 'dispersions_norm', 'highly_variable_nbatches', 'highly_variable_intersection'\n",
       "    uns: '_scvi_manager_uuid', '_scvi_uuid', 'age_colors', 'cell_or_nuclei_colors', 'cell_type_colors', 'coarse_grain_colors', 'cycling_colors', 'donor_colors', 'fine_grain_colors', 'hvg', 'kit_10x_colors', 'neighbors', 'phase_colors', 'region_colors', 'sex_colors', 'umap'\n",
       "    obsm: 'X_scVI', 'X_umap', '_scvi_extra_categorical_covs', '_scvi_extra_continuous', '_scvi_extra_continuous_covs', 'latent_gene_encoding'\n",
       "    layers: 'counts'\n",
       "    obsp: 'connectivities', 'distances'"
      ]
     },
     "execution_count": 4,
     "metadata": {},
     "output_type": "execute_result"
    }
   ],
   "source": [
    "fetal = sc.read('/nfs/team205/heart/anndata_objects/Foetal/final_annotation/FetalHearts13Aug.h5ad')\n",
    "fetal"
   ]
  },
  {
   "cell_type": "code",
   "execution_count": 5,
   "id": "convertible-portal",
   "metadata": {},
   "outputs": [
    {
     "name": "stdout",
     "output_type": "stream",
     "text": [
      "(176050, 3311)\n",
      "(176050, 36601)\n"
     ]
    }
   ],
   "source": [
    "# Recover log-normed data for all genes to adata.X (allows Compass to calculate reactions across all genes, not just HVG-subsetted!)\n",
    "print(fetal.shape)\n",
    "fetal=fetal.raw.to_adata()\n",
    "print(fetal.shape)"
   ]
  },
  {
   "cell_type": "code",
   "execution_count": 6,
   "id": "laden-begin",
   "metadata": {},
   "outputs": [
    {
     "name": "stdout",
     "output_type": "stream",
     "text": [
      "Index(['MIR1302-2HG', 'FAM138A'], dtype='object', name='gene_name_multiome-1')\n",
      "[0.09802545 0.09802545 0.41538525 0.41538525 0.6009918 ]\n"
     ]
    }
   ],
   "source": [
    "# Check var_names are gene symbols, and the data is log-normed\n",
    "print(fetal.var.index[:2])\n",
    "print(fetal.X.data[:5])"
   ]
  },
  {
   "cell_type": "code",
   "execution_count": 7,
   "id": "greater-defense",
   "metadata": {},
   "outputs": [
    {
     "data": {
      "text/plain": [
       "AnnData object with n_obs × n_vars = 486134 × 33538\n",
       "    obs: 'NRP', 'age_group', 'cell_source', 'cell_type', 'donor', 'gender', 'n_counts', 'n_genes', 'percent_mito', 'percent_ribo', 'region', 'sample', 'scrublet_score', 'source', 'type', 'version', 'cell_states', 'Used'\n",
       "    var: 'gene_ids-Harvard-Nuclei', 'feature_types-Harvard-Nuclei', 'gene_ids-Sanger-Nuclei', 'feature_types-Sanger-Nuclei', 'gene_ids-Sanger-Cells', 'feature_types-Sanger-Cells', 'gene_ids-Sanger-CD45', 'feature_types-Sanger-CD45'\n",
       "    uns: 'cell_type_colors'\n",
       "    obsm: 'X_pca', 'X_umap'"
      ]
     },
     "execution_count": 7,
     "metadata": {},
     "output_type": "execute_result"
    }
   ],
   "source": [
    "adult = sc.read('/nfs/team205/heart/anndata_objects/HCAv1_6_region/global_raw.h5ad')\n",
    "adult"
   ]
  },
  {
   "cell_type": "code",
   "execution_count": 8,
   "id": "olympic-bathroom",
   "metadata": {},
   "outputs": [
    {
     "name": "stdout",
     "output_type": "stream",
     "text": [
      "Index(['MIR1302-2HG', 'FAM138A'], dtype='object')\n",
      "[2. 1. 1. 1. 1.]\n"
     ]
    }
   ],
   "source": [
    "# Check var_names are gene syvalue_countsnd the data is log-normed\n",
    "print(adult.var.index[:2])\n",
    "print(adult.X.data[:5])"
   ]
  },
  {
   "cell_type": "markdown",
   "id": "operational-yacht",
   "metadata": {},
   "source": [
    "# Subset to CMs only"
   ]
  },
  {
   "cell_type": "code",
   "execution_count": 9,
   "id": "consolidated-miller",
   "metadata": {},
   "outputs": [
    {
     "name": "stdout",
     "output_type": "stream",
     "text": [
      "(486134, 33538)\n",
      "(148772, 33538)\n"
     ]
    }
   ],
   "source": [
    "print(adult.shape)\n",
    "adult=adult[adult.obs['cell_type'].isin(['Atrial_Cardiomyocyte','Ventricular_Cardiomyocyte'])]\n",
    "print(adult.shape)"
   ]
  },
  {
   "cell_type": "code",
   "execution_count": 10,
   "id": "formal-headquarters",
   "metadata": {},
   "outputs": [
    {
     "name": "stdout",
     "output_type": "stream",
     "text": [
      "(176050, 36601)\n",
      "(64751, 36601)\n"
     ]
    }
   ],
   "source": [
    "print(fetal.shape)\n",
    "fetal=fetal[fetal.obs['coarse_grain'].isin(['Cardiomyocytes'])]\n",
    "print(fetal.shape)"
   ]
  },
  {
   "cell_type": "code",
   "execution_count": 11,
   "id": "applied-situation",
   "metadata": {},
   "outputs": [],
   "source": [
    "# Concatenate adult and fetal CM data"
   ]
  },
  {
   "cell_type": "code",
   "execution_count": 32,
   "id": "front-franchise",
   "metadata": {},
   "outputs": [
    {
     "data": {
      "text/plain": [
       "['vCM1', 'vCM2', 'vCM3', 'vCM4', 'vCM5', 'aCM1', 'aCM4', 'aCM2', 'aCM5', 'aCM3']\n",
       "Categories (10, object): ['aCM1', 'aCM2', 'aCM3', 'aCM4', ..., 'vCM2', 'vCM3', 'vCM4', 'vCM5']"
      ]
     },
     "execution_count": 32,
     "metadata": {},
     "output_type": "execute_result"
    }
   ],
   "source": [
    "adult.obs['cell_states'].unique()"
   ]
  },
  {
   "cell_type": "code",
   "execution_count": 33,
   "id": "anonymous-velvet",
   "metadata": {},
   "outputs": [],
   "source": [
    "fetal.obs['cell_states'] = fetal.obs['fine_grain']"
   ]
  },
  {
   "cell_type": "code",
   "execution_count": 34,
   "id": "industrial-energy",
   "metadata": {},
   "outputs": [
    {
     "name": "stdout",
     "output_type": "stream",
     "text": [
      "(148772, 33538)\n",
      "(64751, 36601)\n"
     ]
    }
   ],
   "source": [
    "print(adult.shape)\n",
    "print(fetal.shape)"
   ]
  },
  {
   "cell_type": "code",
   "execution_count": 35,
   "id": "square-hardwood",
   "metadata": {},
   "outputs": [
    {
     "data": {
      "text/plain": [
       "AnnData object with n_obs × n_vars = 213523 × 31915\n",
       "    obs: 'cell_type', 'donor', 'n_counts', 'n_genes', 'region', 'scrublet_score', 'type', 'cell_states'\n",
       "    obsm: 'X_umap'"
      ]
     },
     "execution_count": 35,
     "metadata": {},
     "output_type": "execute_result"
    }
   ],
   "source": [
    "adult.obs['type']='adult'\n",
    "fetal.obs['type']='fetal'\n",
    "combined = ad.concat([adult, fetal], join=\"inner\", index_unique=None)\n",
    "combined"
   ]
  },
  {
   "cell_type": "code",
   "execution_count": 36,
   "id": "abroad-burlington",
   "metadata": {},
   "outputs": [
    {
     "data": {
      "text/plain": [
       "vCM1                                     71162\n",
       "vCM2                                     25658\n",
       "vCM3                                     20168\n",
       "VentricularCardiomyocytesCompact         13740\n",
       "aCM1                                     12885\n",
       "VentricularCardiomyocytesPRRX1pos        11627\n",
       "VentricularCardiomyocytesCycling         11297\n",
       "vCM4                                      7651\n",
       "VentricularCardiomyocytesTrabeculated     6936\n",
       "AtrialCardiomyocytesLeft                  6304\n",
       "AtrialCardiomyocytesRight                 5452\n",
       "Cardiofibromyocytes                       5278\n",
       "aCM2                                      4733\n",
       "aCM3                                      4096\n",
       "aCM4                                      1581\n",
       "VentricularConductionSystemDistal         1568\n",
       "SinoatrialNodeCardiomyocytes               814\n",
       "VentricularConductionSystemProximal        730\n",
       "AtrioventricularNodeCardiomyocytes         689\n",
       "vCM5                                       650\n",
       "AtrialCardiomyocytesCycling                316\n",
       "aCM5                                       188\n",
       "Name: cell_states, dtype: int64"
      ]
     },
     "execution_count": 36,
     "metadata": {},
     "output_type": "execute_result"
    }
   ],
   "source": [
    "combined.obs['cell_states'].value_counts()"
   ]
  },
  {
   "cell_type": "code",
   "execution_count": 37,
   "id": "auburn-robert",
   "metadata": {},
   "outputs": [],
   "source": [
    "adata = combined"
   ]
  },
  {
   "cell_type": "code",
   "execution_count": 38,
   "id": "determined-kentucky",
   "metadata": {},
   "outputs": [],
   "source": [
    "# Make random partition using sctk\n",
    "random_partition(adata, partition_size=20, groupby=\"cell_states\", key_added=\"partition_20\")"
   ]
  },
  {
   "cell_type": "code",
   "execution_count": 39,
   "id": "primary-netscape",
   "metadata": {},
   "outputs": [
    {
     "data": {
      "text/html": [
       "<div>\n",
       "<style scoped>\n",
       "    .dataframe tbody tr th:only-of-type {\n",
       "        vertical-align: middle;\n",
       "    }\n",
       "\n",
       "    .dataframe tbody tr th {\n",
       "        vertical-align: top;\n",
       "    }\n",
       "\n",
       "    .dataframe thead th {\n",
       "        text-align: right;\n",
       "    }\n",
       "</style>\n",
       "<table border=\"1\" class=\"dataframe\">\n",
       "  <thead>\n",
       "    <tr style=\"text-align: right;\">\n",
       "      <th></th>\n",
       "      <th>cell_type</th>\n",
       "      <th>donor</th>\n",
       "      <th>n_counts</th>\n",
       "      <th>n_genes</th>\n",
       "      <th>region</th>\n",
       "      <th>scrublet_score</th>\n",
       "      <th>type</th>\n",
       "      <th>cell_states</th>\n",
       "      <th>partition_20</th>\n",
       "    </tr>\n",
       "  </thead>\n",
       "  <tbody>\n",
       "    <tr>\n",
       "      <th>AAACCCAAGCAAACAT-1-H0015_apex</th>\n",
       "      <td>Ventricular_Cardiomyocyte</td>\n",
       "      <td>H5</td>\n",
       "      <td>3216.0</td>\n",
       "      <td>1365</td>\n",
       "      <td>AX</td>\n",
       "      <td>0.147122</td>\n",
       "      <td>adult</td>\n",
       "      <td>vCM1</td>\n",
       "      <td>vCM1,2959</td>\n",
       "    </tr>\n",
       "    <tr>\n",
       "      <th>AAACCCAAGCTACTGT-1-H0015_apex</th>\n",
       "      <td>Ventricular_Cardiomyocyte</td>\n",
       "      <td>H5</td>\n",
       "      <td>3182.0</td>\n",
       "      <td>1521</td>\n",
       "      <td>AX</td>\n",
       "      <td>0.185751</td>\n",
       "      <td>adult</td>\n",
       "      <td>vCM1</td>\n",
       "      <td>vCM1,1294</td>\n",
       "    </tr>\n",
       "    <tr>\n",
       "      <th>AAACCCATCAAACCCA-1-H0015_apex</th>\n",
       "      <td>Ventricular_Cardiomyocyte</td>\n",
       "      <td>H5</td>\n",
       "      <td>3804.0</td>\n",
       "      <td>1584</td>\n",
       "      <td>AX</td>\n",
       "      <td>0.108062</td>\n",
       "      <td>adult</td>\n",
       "      <td>vCM2</td>\n",
       "      <td>vCM2,422</td>\n",
       "    </tr>\n",
       "    <tr>\n",
       "      <th>AAACCCATCTGGTCAA-1-H0015_apex</th>\n",
       "      <td>Ventricular_Cardiomyocyte</td>\n",
       "      <td>H5</td>\n",
       "      <td>3906.0</td>\n",
       "      <td>1677</td>\n",
       "      <td>AX</td>\n",
       "      <td>0.102990</td>\n",
       "      <td>adult</td>\n",
       "      <td>vCM2</td>\n",
       "      <td>vCM2,960</td>\n",
       "    </tr>\n",
       "    <tr>\n",
       "      <th>AAACGAAAGATAGGGA-1-H0015_apex</th>\n",
       "      <td>Ventricular_Cardiomyocyte</td>\n",
       "      <td>H5</td>\n",
       "      <td>3139.0</td>\n",
       "      <td>1523</td>\n",
       "      <td>AX</td>\n",
       "      <td>0.155556</td>\n",
       "      <td>adult</td>\n",
       "      <td>vCM2</td>\n",
       "      <td>vCM2,552</td>\n",
       "    </tr>\n",
       "    <tr>\n",
       "      <th>...</th>\n",
       "      <td>...</td>\n",
       "      <td>...</td>\n",
       "      <td>...</td>\n",
       "      <td>...</td>\n",
       "      <td>...</td>\n",
       "      <td>...</td>\n",
       "      <td>...</td>\n",
       "      <td>...</td>\n",
       "      <td>...</td>\n",
       "    </tr>\n",
       "    <tr>\n",
       "      <th>BHF_F_Hea11933675_BHF_F_Hea11596628_CCTGTTGGTTGTGACA-1</th>\n",
       "      <td>Cardiomyocyte</td>\n",
       "      <td>C98</td>\n",
       "      <td>2086.0</td>\n",
       "      <td>1081</td>\n",
       "      <td>WholeHeart</td>\n",
       "      <td>0.034335</td>\n",
       "      <td>fetal</td>\n",
       "      <td>VentricularCardiomyocytesPRRX1pos</td>\n",
       "      <td>VentricularCardiomyocytesPRRX1pos,37</td>\n",
       "    </tr>\n",
       "    <tr>\n",
       "      <th>BHF_F_Hea11933675_BHF_F_Hea11596628_GCGCTAGGTGTTGCTT-1</th>\n",
       "      <td>Cardiomyocyte</td>\n",
       "      <td>C98</td>\n",
       "      <td>1806.0</td>\n",
       "      <td>1298</td>\n",
       "      <td>WholeHeart</td>\n",
       "      <td>0.131579</td>\n",
       "      <td>fetal</td>\n",
       "      <td>Cardiofibromyocytes</td>\n",
       "      <td>Cardiofibromyocytes,57</td>\n",
       "    </tr>\n",
       "    <tr>\n",
       "      <th>BHF_F_Hea11933675_BHF_F_Hea11596628_AGCTACGTCTTGTCTG-1</th>\n",
       "      <td>Cardiomyocyte</td>\n",
       "      <td>C98</td>\n",
       "      <td>1334.0</td>\n",
       "      <td>889</td>\n",
       "      <td>WholeHeart</td>\n",
       "      <td>0.041667</td>\n",
       "      <td>fetal</td>\n",
       "      <td>VentricularCardiomyocytesCycling</td>\n",
       "      <td>VentricularCardiomyocytesCycling,129</td>\n",
       "    </tr>\n",
       "    <tr>\n",
       "      <th>BHF_F_Hea11933675_BHF_F_Hea11596628_CTGCTATGTTTGGTTC-1</th>\n",
       "      <td>Cardiomyocyte</td>\n",
       "      <td>C98</td>\n",
       "      <td>1251.0</td>\n",
       "      <td>792</td>\n",
       "      <td>WholeHeart</td>\n",
       "      <td>0.037862</td>\n",
       "      <td>fetal</td>\n",
       "      <td>VentricularCardiomyocytesPRRX1pos</td>\n",
       "      <td>VentricularCardiomyocytesPRRX1pos,222</td>\n",
       "    </tr>\n",
       "    <tr>\n",
       "      <th>BHF_F_Hea11933675_BHF_F_Hea11596628_GGCCTTAAGGCCTAAT-1</th>\n",
       "      <td>Cardiomyocyte</td>\n",
       "      <td>C98</td>\n",
       "      <td>1025.0</td>\n",
       "      <td>858</td>\n",
       "      <td>WholeHeart</td>\n",
       "      <td>0.131579</td>\n",
       "      <td>fetal</td>\n",
       "      <td>Cardiofibromyocytes</td>\n",
       "      <td>Cardiofibromyocytes,84</td>\n",
       "    </tr>\n",
       "  </tbody>\n",
       "</table>\n",
       "<p>213523 rows × 9 columns</p>\n",
       "</div>"
      ],
      "text/plain": [
       "                                                                    cell_type  \\\n",
       "AAACCCAAGCAAACAT-1-H0015_apex                       Ventricular_Cardiomyocyte   \n",
       "AAACCCAAGCTACTGT-1-H0015_apex                       Ventricular_Cardiomyocyte   \n",
       "AAACCCATCAAACCCA-1-H0015_apex                       Ventricular_Cardiomyocyte   \n",
       "AAACCCATCTGGTCAA-1-H0015_apex                       Ventricular_Cardiomyocyte   \n",
       "AAACGAAAGATAGGGA-1-H0015_apex                       Ventricular_Cardiomyocyte   \n",
       "...                                                                       ...   \n",
       "BHF_F_Hea11933675_BHF_F_Hea11596628_CCTGTTGGTTG...              Cardiomyocyte   \n",
       "BHF_F_Hea11933675_BHF_F_Hea11596628_GCGCTAGGTGT...              Cardiomyocyte   \n",
       "BHF_F_Hea11933675_BHF_F_Hea11596628_AGCTACGTCTT...              Cardiomyocyte   \n",
       "BHF_F_Hea11933675_BHF_F_Hea11596628_CTGCTATGTTT...              Cardiomyocyte   \n",
       "BHF_F_Hea11933675_BHF_F_Hea11596628_GGCCTTAAGGC...              Cardiomyocyte   \n",
       "\n",
       "                                                   donor  n_counts  n_genes  \\\n",
       "AAACCCAAGCAAACAT-1-H0015_apex                         H5    3216.0     1365   \n",
       "AAACCCAAGCTACTGT-1-H0015_apex                         H5    3182.0     1521   \n",
       "AAACCCATCAAACCCA-1-H0015_apex                         H5    3804.0     1584   \n",
       "AAACCCATCTGGTCAA-1-H0015_apex                         H5    3906.0     1677   \n",
       "AAACGAAAGATAGGGA-1-H0015_apex                         H5    3139.0     1523   \n",
       "...                                                  ...       ...      ...   \n",
       "BHF_F_Hea11933675_BHF_F_Hea11596628_CCTGTTGGTTG...   C98    2086.0     1081   \n",
       "BHF_F_Hea11933675_BHF_F_Hea11596628_GCGCTAGGTGT...   C98    1806.0     1298   \n",
       "BHF_F_Hea11933675_BHF_F_Hea11596628_AGCTACGTCTT...   C98    1334.0      889   \n",
       "BHF_F_Hea11933675_BHF_F_Hea11596628_CTGCTATGTTT...   C98    1251.0      792   \n",
       "BHF_F_Hea11933675_BHF_F_Hea11596628_GGCCTTAAGGC...   C98    1025.0      858   \n",
       "\n",
       "                                                        region  \\\n",
       "AAACCCAAGCAAACAT-1-H0015_apex                               AX   \n",
       "AAACCCAAGCTACTGT-1-H0015_apex                               AX   \n",
       "AAACCCATCAAACCCA-1-H0015_apex                               AX   \n",
       "AAACCCATCTGGTCAA-1-H0015_apex                               AX   \n",
       "AAACGAAAGATAGGGA-1-H0015_apex                               AX   \n",
       "...                                                        ...   \n",
       "BHF_F_Hea11933675_BHF_F_Hea11596628_CCTGTTGGTTG...  WholeHeart   \n",
       "BHF_F_Hea11933675_BHF_F_Hea11596628_GCGCTAGGTGT...  WholeHeart   \n",
       "BHF_F_Hea11933675_BHF_F_Hea11596628_AGCTACGTCTT...  WholeHeart   \n",
       "BHF_F_Hea11933675_BHF_F_Hea11596628_CTGCTATGTTT...  WholeHeart   \n",
       "BHF_F_Hea11933675_BHF_F_Hea11596628_GGCCTTAAGGC...  WholeHeart   \n",
       "\n",
       "                                                    scrublet_score   type  \\\n",
       "AAACCCAAGCAAACAT-1-H0015_apex                             0.147122  adult   \n",
       "AAACCCAAGCTACTGT-1-H0015_apex                             0.185751  adult   \n",
       "AAACCCATCAAACCCA-1-H0015_apex                             0.108062  adult   \n",
       "AAACCCATCTGGTCAA-1-H0015_apex                             0.102990  adult   \n",
       "AAACGAAAGATAGGGA-1-H0015_apex                             0.155556  adult   \n",
       "...                                                            ...    ...   \n",
       "BHF_F_Hea11933675_BHF_F_Hea11596628_CCTGTTGGTTG...        0.034335  fetal   \n",
       "BHF_F_Hea11933675_BHF_F_Hea11596628_GCGCTAGGTGT...        0.131579  fetal   \n",
       "BHF_F_Hea11933675_BHF_F_Hea11596628_AGCTACGTCTT...        0.041667  fetal   \n",
       "BHF_F_Hea11933675_BHF_F_Hea11596628_CTGCTATGTTT...        0.037862  fetal   \n",
       "BHF_F_Hea11933675_BHF_F_Hea11596628_GGCCTTAAGGC...        0.131579  fetal   \n",
       "\n",
       "                                                                          cell_states  \\\n",
       "AAACCCAAGCAAACAT-1-H0015_apex                                                    vCM1   \n",
       "AAACCCAAGCTACTGT-1-H0015_apex                                                    vCM1   \n",
       "AAACCCATCAAACCCA-1-H0015_apex                                                    vCM2   \n",
       "AAACCCATCTGGTCAA-1-H0015_apex                                                    vCM2   \n",
       "AAACGAAAGATAGGGA-1-H0015_apex                                                    vCM2   \n",
       "...                                                                               ...   \n",
       "BHF_F_Hea11933675_BHF_F_Hea11596628_CCTGTTGGTTG...  VentricularCardiomyocytesPRRX1pos   \n",
       "BHF_F_Hea11933675_BHF_F_Hea11596628_GCGCTAGGTGT...                Cardiofibromyocytes   \n",
       "BHF_F_Hea11933675_BHF_F_Hea11596628_AGCTACGTCTT...   VentricularCardiomyocytesCycling   \n",
       "BHF_F_Hea11933675_BHF_F_Hea11596628_CTGCTATGTTT...  VentricularCardiomyocytesPRRX1pos   \n",
       "BHF_F_Hea11933675_BHF_F_Hea11596628_GGCCTTAAGGC...                Cardiofibromyocytes   \n",
       "\n",
       "                                                                             partition_20  \n",
       "AAACCCAAGCAAACAT-1-H0015_apex                                                   vCM1,2959  \n",
       "AAACCCAAGCTACTGT-1-H0015_apex                                                   vCM1,1294  \n",
       "AAACCCATCAAACCCA-1-H0015_apex                                                    vCM2,422  \n",
       "AAACCCATCTGGTCAA-1-H0015_apex                                                    vCM2,960  \n",
       "AAACGAAAGATAGGGA-1-H0015_apex                                                    vCM2,552  \n",
       "...                                                                                   ...  \n",
       "BHF_F_Hea11933675_BHF_F_Hea11596628_CCTGTTGGTTG...   VentricularCardiomyocytesPRRX1pos,37  \n",
       "BHF_F_Hea11933675_BHF_F_Hea11596628_GCGCTAGGTGT...                 Cardiofibromyocytes,57  \n",
       "BHF_F_Hea11933675_BHF_F_Hea11596628_AGCTACGTCTT...   VentricularCardiomyocytesCycling,129  \n",
       "BHF_F_Hea11933675_BHF_F_Hea11596628_CTGCTATGTTT...  VentricularCardiomyocytesPRRX1pos,222  \n",
       "BHF_F_Hea11933675_BHF_F_Hea11596628_GGCCTTAAGGC...                 Cardiofibromyocytes,84  \n",
       "\n",
       "[213523 rows x 9 columns]"
      ]
     },
     "execution_count": 39,
     "metadata": {},
     "output_type": "execute_result"
    }
   ],
   "source": [
    "adata.obs"
   ]
  },
  {
   "cell_type": "code",
   "execution_count": 40,
   "id": "optimum-interstate",
   "metadata": {},
   "outputs": [],
   "source": [
    "# Pseudobulk use Ni's psudobulk function\n",
    "pseudo_bulk = pseudo_bulk(adata,\n",
    "                         groupby='partition_20')"
   ]
  },
  {
   "cell_type": "code",
   "execution_count": 41,
   "id": "therapeutic-bryan",
   "metadata": {},
   "outputs": [
    {
     "name": "stdout",
     "output_type": "stream",
     "text": [
      "(31915, 10675)\n"
     ]
    },
    {
     "data": {
      "text/html": [
       "<div>\n",
       "<style scoped>\n",
       "    .dataframe tbody tr th:only-of-type {\n",
       "        vertical-align: middle;\n",
       "    }\n",
       "\n",
       "    .dataframe tbody tr th {\n",
       "        vertical-align: top;\n",
       "    }\n",
       "\n",
       "    .dataframe thead th {\n",
       "        text-align: right;\n",
       "    }\n",
       "</style>\n",
       "<table border=\"1\" class=\"dataframe\">\n",
       "  <thead>\n",
       "    <tr style=\"text-align: right;\">\n",
       "      <th></th>\n",
       "      <th>AtrialCardiomyocytesCycling,0</th>\n",
       "      <th>AtrialCardiomyocytesCycling,1</th>\n",
       "      <th>AtrialCardiomyocytesCycling,10</th>\n",
       "      <th>AtrialCardiomyocytesCycling,11</th>\n",
       "      <th>AtrialCardiomyocytesCycling,12</th>\n",
       "      <th>AtrialCardiomyocytesCycling,13</th>\n",
       "      <th>AtrialCardiomyocytesCycling,14</th>\n",
       "      <th>AtrialCardiomyocytesCycling,15</th>\n",
       "      <th>AtrialCardiomyocytesCycling,2</th>\n",
       "      <th>AtrialCardiomyocytesCycling,3</th>\n",
       "      <th>...</th>\n",
       "      <th>vCM5,29</th>\n",
       "      <th>vCM5,3</th>\n",
       "      <th>vCM5,30</th>\n",
       "      <th>vCM5,31</th>\n",
       "      <th>vCM5,4</th>\n",
       "      <th>vCM5,5</th>\n",
       "      <th>vCM5,6</th>\n",
       "      <th>vCM5,7</th>\n",
       "      <th>vCM5,8</th>\n",
       "      <th>vCM5,9</th>\n",
       "    </tr>\n",
       "  </thead>\n",
       "  <tbody>\n",
       "    <tr>\n",
       "      <th>MIR1302-2HG</th>\n",
       "      <td>0.0</td>\n",
       "      <td>0.0</td>\n",
       "      <td>0.0</td>\n",
       "      <td>0.0</td>\n",
       "      <td>0.0</td>\n",
       "      <td>0.0</td>\n",
       "      <td>0.0</td>\n",
       "      <td>0.0</td>\n",
       "      <td>0.0</td>\n",
       "      <td>0.0</td>\n",
       "      <td>...</td>\n",
       "      <td>0.0</td>\n",
       "      <td>0.0</td>\n",
       "      <td>0.0</td>\n",
       "      <td>0.0</td>\n",
       "      <td>0.0</td>\n",
       "      <td>0.0</td>\n",
       "      <td>0.0</td>\n",
       "      <td>0.0</td>\n",
       "      <td>0.0</td>\n",
       "      <td>0.0</td>\n",
       "    </tr>\n",
       "    <tr>\n",
       "      <th>FAM138A</th>\n",
       "      <td>0.0</td>\n",
       "      <td>0.0</td>\n",
       "      <td>0.0</td>\n",
       "      <td>0.0</td>\n",
       "      <td>0.0</td>\n",
       "      <td>0.0</td>\n",
       "      <td>0.0</td>\n",
       "      <td>0.0</td>\n",
       "      <td>0.0</td>\n",
       "      <td>0.0</td>\n",
       "      <td>...</td>\n",
       "      <td>0.0</td>\n",
       "      <td>0.0</td>\n",
       "      <td>0.0</td>\n",
       "      <td>0.0</td>\n",
       "      <td>0.0</td>\n",
       "      <td>0.0</td>\n",
       "      <td>0.0</td>\n",
       "      <td>0.0</td>\n",
       "      <td>0.0</td>\n",
       "      <td>0.0</td>\n",
       "    </tr>\n",
       "    <tr>\n",
       "      <th>OR4F5</th>\n",
       "      <td>0.0</td>\n",
       "      <td>0.0</td>\n",
       "      <td>0.0</td>\n",
       "      <td>0.0</td>\n",
       "      <td>0.0</td>\n",
       "      <td>0.0</td>\n",
       "      <td>0.0</td>\n",
       "      <td>0.0</td>\n",
       "      <td>0.0</td>\n",
       "      <td>0.0</td>\n",
       "      <td>...</td>\n",
       "      <td>0.0</td>\n",
       "      <td>0.0</td>\n",
       "      <td>0.0</td>\n",
       "      <td>0.0</td>\n",
       "      <td>0.0</td>\n",
       "      <td>0.0</td>\n",
       "      <td>0.0</td>\n",
       "      <td>0.0</td>\n",
       "      <td>0.0</td>\n",
       "      <td>0.0</td>\n",
       "    </tr>\n",
       "  </tbody>\n",
       "</table>\n",
       "<p>3 rows × 10675 columns</p>\n",
       "</div>"
      ],
      "text/plain": [
       "             AtrialCardiomyocytesCycling,0  AtrialCardiomyocytesCycling,1  \\\n",
       "MIR1302-2HG                            0.0                            0.0   \n",
       "FAM138A                                0.0                            0.0   \n",
       "OR4F5                                  0.0                            0.0   \n",
       "\n",
       "             AtrialCardiomyocytesCycling,10  AtrialCardiomyocytesCycling,11  \\\n",
       "MIR1302-2HG                             0.0                             0.0   \n",
       "FAM138A                                 0.0                             0.0   \n",
       "OR4F5                                   0.0                             0.0   \n",
       "\n",
       "             AtrialCardiomyocytesCycling,12  AtrialCardiomyocytesCycling,13  \\\n",
       "MIR1302-2HG                             0.0                             0.0   \n",
       "FAM138A                                 0.0                             0.0   \n",
       "OR4F5                                   0.0                             0.0   \n",
       "\n",
       "             AtrialCardiomyocytesCycling,14  AtrialCardiomyocytesCycling,15  \\\n",
       "MIR1302-2HG                             0.0                             0.0   \n",
       "FAM138A                                 0.0                             0.0   \n",
       "OR4F5                                   0.0                             0.0   \n",
       "\n",
       "             AtrialCardiomyocytesCycling,2  AtrialCardiomyocytesCycling,3  \\\n",
       "MIR1302-2HG                            0.0                            0.0   \n",
       "FAM138A                                0.0                            0.0   \n",
       "OR4F5                                  0.0                            0.0   \n",
       "\n",
       "             ...  vCM5,29  vCM5,3  vCM5,30  vCM5,31  vCM5,4  vCM5,5  vCM5,6  \\\n",
       "MIR1302-2HG  ...      0.0     0.0      0.0      0.0     0.0     0.0     0.0   \n",
       "FAM138A      ...      0.0     0.0      0.0      0.0     0.0     0.0     0.0   \n",
       "OR4F5        ...      0.0     0.0      0.0      0.0     0.0     0.0     0.0   \n",
       "\n",
       "             vCM5,7  vCM5,8  vCM5,9  \n",
       "MIR1302-2HG     0.0     0.0     0.0  \n",
       "FAM138A         0.0     0.0     0.0  \n",
       "OR4F5           0.0     0.0     0.0  \n",
       "\n",
       "[3 rows x 10675 columns]"
      ]
     },
     "execution_count": 41,
     "metadata": {},
     "output_type": "execute_result"
    }
   ],
   "source": [
    "print(pseudo_bulk.shape)\n",
    "pseudo_bulk.head(3)"
   ]
  },
  {
   "cell_type": "code",
   "execution_count": 42,
   "id": "constitutional-chrome",
   "metadata": {},
   "outputs": [],
   "source": [
    "# make sample_names.tsv\n",
    "pseudo_bulk.columns.to_frame().to_csv('/nfs/team205/heart/compass/fetal_adult_combined_rand20/sample_names.tsv', sep=\"\\t\", index=False, header=False)\n",
    "\n",
    "\n",
    "# make genes.tsv\n",
    "genes = pseudo_bulk.index.to_list()\n",
    "genes = pd.DataFrame(genes)\n",
    "genes.to_csv('/nfs/team205/heart/compass/fetal_adult_combined_rand20/genes.tsv', sep=\"\\t\", index = False, header=False)\n",
    "\n",
    "# make expression.mtx\n",
    "from scipy.io import mmwrite, mmread\n",
    "from scipy.sparse import csr_matrix\n",
    "\n",
    "# Count Matrix (log normed, all genes, not HVG subsetted)\n",
    "sparce_mtx = csr_matrix(pseudo_bulk)\n",
    "sparce_mtx = sparce_mtx\n",
    "mmwrite('/nfs/team205/heart/compass/fetal_adult_combined_rand20/expression.mtx', sparce_mtx)"
   ]
  },
  {
   "cell_type": "markdown",
   "id": "static-blocking",
   "metadata": {},
   "source": [
    "# Export cell metadata"
   ]
  },
  {
   "cell_type": "code",
   "execution_count": 43,
   "id": "legislative-venezuela",
   "metadata": {},
   "outputs": [],
   "source": [
    "# Alter so it includes things you need (a reference e.g. barcode and a cell type e.g. in fine_grain)\n",
    "adata.obs.to_csv('/nfs/team205/heart/compass/fetal_adult_combined_rand20/cell_metadata.csv')"
   ]
  }
 ],
 "metadata": {
  "kernelspec": {
   "display_name": "scanpy",
   "language": "python",
   "name": "scanpy"
  },
  "language_info": {
   "codemirror_mode": {
    "name": "ipython",
    "version": 3
   },
   "file_extension": ".py",
   "mimetype": "text/x-python",
   "name": "python",
   "nbconvert_exporter": "python",
   "pygments_lexer": "ipython3",
   "version": "3.9.13"
  }
 },
 "nbformat": 4,
 "nbformat_minor": 5
}
