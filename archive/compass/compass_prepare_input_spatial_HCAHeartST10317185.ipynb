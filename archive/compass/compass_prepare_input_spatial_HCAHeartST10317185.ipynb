{
 "cells": [
  {
   "cell_type": "markdown",
   "id": "ordered-quantum",
   "metadata": {},
   "source": [
    "# Prepare Compass inputs, random groups within cell states"
   ]
  },
  {
   "cell_type": "markdown",
   "id": "blocked-record",
   "metadata": {},
   "source": [
    "Try to capture biological and technical variation by partitioning within replicates divided by age bin, cell/nuclei, cell state"
   ]
  },
  {
   "cell_type": "markdown",
   "id": "correct-therapist",
   "metadata": {},
   "source": [
    "## Setup"
   ]
  },
  {
   "cell_type": "code",
   "execution_count": 5,
   "id": "yellow-winter",
   "metadata": {},
   "outputs": [],
   "source": [
    "import numpy as np\n",
    "import pandas as pd\n",
    "import scanpy as sc\n",
    "import matplotlib.pyplot as plt\n",
    "import seaborn as sns\n",
    "from matplotlib.pyplot import rc_context\n",
    "import bbknn\n",
    "import re\n",
    "import sctk"
   ]
  },
  {
   "cell_type": "code",
   "execution_count": 6,
   "id": "amateur-barrier",
   "metadata": {},
   "outputs": [
    {
     "name": "stdout",
     "output_type": "stream",
     "text": [
      "scanpy==1.9.1 anndata==0.8.0 umap==0.5.3 numpy==1.22.4 scipy==1.8.1 pandas==1.4.3 scikit-learn==1.1.1 statsmodels==0.13.2 python-igraph==0.9.11 pynndescent==0.5.7\n"
     ]
    }
   ],
   "source": [
    "sc.settings.verbosity = 0            # verbosity: errors (0), warnings (1), info (2), hints (3)\n",
    "sc.logging.print_header()\n",
    "sc.settings.set_figure_params(dpi=80, facecolor='white', color_map = 'Reds', figsize = (5, 5),dpi_save=300)"
   ]
  },
  {
   "cell_type": "code",
   "execution_count": 7,
   "id": "commercial-catch",
   "metadata": {},
   "outputs": [],
   "source": [
    "# Perform pseudobulk on sc data\n",
    "\n",
    "import scipy.sparse as sp\n",
    "\n",
    "def pseudo_bulk(\n",
    "        adata, groupby, use_rep='X', highly_variable=False, FUN=np.mean):\n",
    "    \"\"\"Make pseudo bulk data from grouped sc data\n",
    "    \"\"\"\n",
    "    if adata.obs[groupby].dtype.name == 'category':\n",
    "        group_attr = adata.obs[groupby].values\n",
    "        groups = adata.obs[groupby].cat.categories.values\n",
    "    else:\n",
    "        group_attr = adata.obs[groupby].astype(str).values\n",
    "        groups = np.unique(group_attr)\n",
    "    n_level = len(groups)\n",
    "    if highly_variable:\n",
    "        if isinstance(highly_variable, (list, tuple)):\n",
    "            if use_rep == 'raw':\n",
    "                k_hv = adata.raw.var_names.isin(highly_variable)\n",
    "            else:\n",
    "                k_hv = adata.var_names.isin(highly_variable)\n",
    "        else:\n",
    "            k_hv = adata.var['highly_variable'].values\n",
    "    if use_rep == 'X':\n",
    "        x = adata.X\n",
    "        features = adata.var_names.values\n",
    "        if highly_variable:\n",
    "            x = x[:, k_hv]\n",
    "            features = features[k_hv]\n",
    "    elif use_rep == 'raw':\n",
    "        x = adata.raw.X\n",
    "        features = adata.raw.var_names.values\n",
    "        if highly_variable:\n",
    "            x = x[:, k_hv]\n",
    "            features = features[k_hv]\n",
    "    elif use_rep in adata.layers.keys():\n",
    "        x = adata.layers[use_rep]\n",
    "        features = adata.var_names.values\n",
    "        if highly_variable:\n",
    "            x = x[:, k_hv]\n",
    "            features = features[k_hv]\n",
    "    elif use_rep in adata.obsm.keys():\n",
    "        x = adata.obsm[use_rep]\n",
    "        features = np.arange(x.shape[1])\n",
    "    elif (isinstance(use_rep, np.ndarray) and\n",
    "            use_rep.shape[0] == adata.shape[0]):\n",
    "        x = use_rep\n",
    "        features = np.arange(x.shape[1])\n",
    "    else:\n",
    "        raise KeyError(f'{use_rep} invalid.')\n",
    "    summarised = np.zeros((n_level, x.shape[1]))\n",
    "    for i, grp in enumerate(groups):\n",
    "        k_grp = group_attr == grp\n",
    "        if sp.issparse(x):\n",
    "            summarised[i] = FUN(x[k_grp, :], axis=0)\n",
    "        else:\n",
    "            summarised[i] = FUN(x[k_grp, :], axis=0, keepdims=True)\n",
    "    return pd.DataFrame(summarised.T, columns=groups, index=features)\n",
    "\n",
    "def random_partition(\n",
    "    adata,\n",
    "    partition_size,\n",
    "    groupby=None,\n",
    "    method=\"random_even\",\n",
    "    key_added=\"partition_labels\",\n",
    "    random_state=0,\n",
    "):\n",
    "    np.random.seed(random_state)\n",
    "    if groupby:\n",
    "        if groupby not in adata.obs.columns:\n",
    "            raise KeyError(f\"{groupby} is not a valid obs annotation.\")\n",
    "        groups = adata.obs[groupby].unique()\n",
    "        label_df = adata.obs[[groupby]].astype(str).rename(columns={groupby: key_added})\n",
    "        for grp in groups:\n",
    "            k = adata.obs[groupby] == grp\n",
    "            grp_size = sum(k)\n",
    "            n_partition = max(np.round(grp_size / partition_size).astype(int), 1)\n",
    "            if method == \"random\":\n",
    "                part_idx = np.random.randint(low=0, high=n_partition, size=grp_size)\n",
    "            elif method == \"random_even\":\n",
    "                part_sizes = list(map(len, np.array_split(np.arange(grp_size), n_partition)))\n",
    "                part_idx = np.repeat(np.arange(n_partition), part_sizes)\n",
    "                np.random.shuffle(part_idx)\n",
    "            else:\n",
    "                raise NotImplementedError(method)\n",
    "            label_df.loc[k, key_added] = [f\"{grp},{i}\" for i in part_idx]\n",
    "        adata.obs[key_added] = label_df[key_added]\n",
    "    else:\n",
    "        n_partition = max(np.round(adata.n_obs / partition_size).astype(int), 1)\n",
    "        if method == \"random\":\n",
    "            part_idx = np.random.randint(low=0, high=n_partition, size=adata.n_obs)\n",
    "        elif method == \"random_even\":\n",
    "            part_sizes = list(map(len, np.array_split(np.arange(adata.n_obs), n_partition)))\n",
    "            part_idx = np.repeat(np.arange(n_partition), part_sizes)\n",
    "            np.random.shuffle(part_idx)\n",
    "        else:\n",
    "            raise NotImplementedError(method)\n",
    "        adata.obs[key_added] = part_idx.astype(str)"
   ]
  },
  {
   "cell_type": "markdown",
   "id": "distinct-bridge",
   "metadata": {},
   "source": [
    "## Import spatial data"
   ]
  },
  {
   "cell_type": "code",
   "execution_count": 2,
   "id": "physical-cable",
   "metadata": {},
   "outputs": [],
   "source": [
    "file='HCAHeartST10317185'\n",
    "path='/nfs/team205/heart/mapped/spaceranger110/'"
   ]
  },
  {
   "cell_type": "code",
   "execution_count": 9,
   "id": "electric-switch",
   "metadata": {},
   "outputs": [
    {
     "name": "stderr",
     "output_type": "stream",
     "text": [
      "/home/jovyan/my-conda-envs/scanpy/lib/python3.9/site-packages/anndata/_core/anndata.py:1830: UserWarning: Variable names are not unique. To make them unique, call `.var_names_make_unique`.\n",
      "  utils.warn_names_duplicates(\"var\")\n"
     ]
    },
    {
     "data": {
      "text/plain": [
       "AnnData object with n_obs × n_vars = 830 × 33538\n",
       "    var: 'gene_ids', 'feature_types', 'genome'"
      ]
     },
     "execution_count": 9,
     "metadata": {},
     "output_type": "execute_result"
    }
   ],
   "source": [
    "adata = sc.read_10x_h5('/nfs/team205/heart/mapped/spaceranger110/HCAHeartST10317185/filtered_feature_bc_matrix.h5')\n",
    "adata"
   ]
  },
  {
   "cell_type": "code",
   "execution_count": 14,
   "id": "scientific-glory",
   "metadata": {},
   "outputs": [
    {
     "name": "stdout",
     "output_type": "stream",
     "text": [
      "Index(['MIR1302-2HG', 'FAM138A'], dtype='object')\n",
      "[1. 1. 1. 1. 2.]\n"
     ]
    }
   ],
   "source": [
    "# Check var_names are gene symbols, and the data is log-normed\n",
    "print(adata.var.index[:2])\n",
    "print(adata.X.data[:5])"
   ]
  },
  {
   "cell_type": "code",
   "execution_count": 15,
   "id": "intellectual-structure",
   "metadata": {},
   "outputs": [],
   "source": [
    "# If data needs to be log normed\n",
    "sc.pp.normalize_total(adata, target_sum=1e4)\n",
    "sc.pp.log1p(adata)"
   ]
  },
  {
   "cell_type": "code",
   "execution_count": 16,
   "id": "comprehensive-particular",
   "metadata": {},
   "outputs": [],
   "source": [
    "# If need to change gene ids change var names to gene symbols\n",
    "#genename_column='gene_name_multiome-2'\n",
    "#adata.var['gene_id']=adata.var_names\n",
    "#adata.var.set_index(genename_column, inplace=True)\n",
    "#adata.var_names=adata.var_names.astype('str')\n",
    "#adata.var_names_make_unique()"
   ]
  },
  {
   "cell_type": "code",
   "execution_count": 17,
   "id": "scenic-invalid",
   "metadata": {},
   "outputs": [
    {
     "name": "stdout",
     "output_type": "stream",
     "text": [
      "Index(['MIR1302-2HG', 'FAM138A'], dtype='object')\n",
      "[1.0076405 1.0076405 1.0076405 1.0076405 1.4992348]\n"
     ]
    }
   ],
   "source": [
    "# Check var_names are gene symbols, and the data is log-normed\n",
    "print(adata.var.index[:2])\n",
    "print(adata.X.data[:5])"
   ]
  },
  {
   "cell_type": "markdown",
   "id": "breathing-manufacturer",
   "metadata": {},
   "source": [
    "# Prepare data for Compass\n",
    "\"The input gene expression matrix can be either a tab-delimited text file (tsv) or a matrix market format (mtx) containing gene expression estimates (CPM, TPM, or similar scaled units) with one row per gene, one column per sample.\""
   ]
  },
  {
   "cell_type": "code",
   "execution_count": 19,
   "id": "adolescent-uniform",
   "metadata": {},
   "outputs": [
    {
     "data": {
      "text/html": [
       "<div>\n",
       "<style scoped>\n",
       "    .dataframe tbody tr th:only-of-type {\n",
       "        vertical-align: middle;\n",
       "    }\n",
       "\n",
       "    .dataframe tbody tr th {\n",
       "        vertical-align: top;\n",
       "    }\n",
       "\n",
       "    .dataframe thead th {\n",
       "        text-align: right;\n",
       "    }\n",
       "</style>\n",
       "<table border=\"1\" class=\"dataframe\">\n",
       "  <thead>\n",
       "    <tr style=\"text-align: right;\">\n",
       "      <th></th>\n",
       "      <th>AAACACCAATAACTGC-1</th>\n",
       "      <th>AAACCGTTCGTCCAGG-1</th>\n",
       "      <th>AAACTGCTGGCTCCAA-1</th>\n",
       "      <th>AAAGGCTACGGACCAT-1</th>\n",
       "      <th>AAAGGCTCTCGCGCCG-1</th>\n",
       "      <th>AAAGTAGCATTGCTCA-1</th>\n",
       "      <th>AAAGTGTGATTTATCT-1</th>\n",
       "      <th>AAAGTTGACTCCCGTA-1</th>\n",
       "      <th>AAATACCTATAAGCAT-1</th>\n",
       "      <th>AAATAGGGTGCTATTG-1</th>\n",
       "      <th>...</th>\n",
       "      <th>TTGGAAGAATACAGTC-1</th>\n",
       "      <th>TTGGACCTATAACAGT-1</th>\n",
       "      <th>TTGGATATCGTCTACG-1</th>\n",
       "      <th>TTGGTCACACTCGTAA-1</th>\n",
       "      <th>TTGTGAACCTAATCCG-1</th>\n",
       "      <th>TTGTGCAGCCACGTCA-1</th>\n",
       "      <th>TTGTGGTAGGAGGGAT-1</th>\n",
       "      <th>TTGTGTATGCCACCAA-1</th>\n",
       "      <th>TTGTGTTTCCCGAAAG-1</th>\n",
       "      <th>TTGTTTCCATACAACT-1</th>\n",
       "    </tr>\n",
       "  </thead>\n",
       "  <tbody>\n",
       "    <tr>\n",
       "      <th>MIR1302-2HG</th>\n",
       "      <td>0.0</td>\n",
       "      <td>0.0</td>\n",
       "      <td>0.0</td>\n",
       "      <td>0.0</td>\n",
       "      <td>0.0</td>\n",
       "      <td>0.0</td>\n",
       "      <td>0.0</td>\n",
       "      <td>0.0</td>\n",
       "      <td>0.0</td>\n",
       "      <td>0.0</td>\n",
       "      <td>...</td>\n",
       "      <td>0.0</td>\n",
       "      <td>0.0</td>\n",
       "      <td>0.0</td>\n",
       "      <td>0.0</td>\n",
       "      <td>0.0</td>\n",
       "      <td>0.0</td>\n",
       "      <td>0.0</td>\n",
       "      <td>0.0</td>\n",
       "      <td>0.0</td>\n",
       "      <td>0.0</td>\n",
       "    </tr>\n",
       "    <tr>\n",
       "      <th>FAM138A</th>\n",
       "      <td>0.0</td>\n",
       "      <td>0.0</td>\n",
       "      <td>0.0</td>\n",
       "      <td>0.0</td>\n",
       "      <td>0.0</td>\n",
       "      <td>0.0</td>\n",
       "      <td>0.0</td>\n",
       "      <td>0.0</td>\n",
       "      <td>0.0</td>\n",
       "      <td>0.0</td>\n",
       "      <td>...</td>\n",
       "      <td>0.0</td>\n",
       "      <td>0.0</td>\n",
       "      <td>0.0</td>\n",
       "      <td>0.0</td>\n",
       "      <td>0.0</td>\n",
       "      <td>0.0</td>\n",
       "      <td>0.0</td>\n",
       "      <td>0.0</td>\n",
       "      <td>0.0</td>\n",
       "      <td>0.0</td>\n",
       "    </tr>\n",
       "    <tr>\n",
       "      <th>OR4F5</th>\n",
       "      <td>0.0</td>\n",
       "      <td>0.0</td>\n",
       "      <td>0.0</td>\n",
       "      <td>0.0</td>\n",
       "      <td>0.0</td>\n",
       "      <td>0.0</td>\n",
       "      <td>0.0</td>\n",
       "      <td>0.0</td>\n",
       "      <td>0.0</td>\n",
       "      <td>0.0</td>\n",
       "      <td>...</td>\n",
       "      <td>0.0</td>\n",
       "      <td>0.0</td>\n",
       "      <td>0.0</td>\n",
       "      <td>0.0</td>\n",
       "      <td>0.0</td>\n",
       "      <td>0.0</td>\n",
       "      <td>0.0</td>\n",
       "      <td>0.0</td>\n",
       "      <td>0.0</td>\n",
       "      <td>0.0</td>\n",
       "    </tr>\n",
       "  </tbody>\n",
       "</table>\n",
       "<p>3 rows × 830 columns</p>\n",
       "</div>"
      ],
      "text/plain": [
       "             AAACACCAATAACTGC-1  AAACCGTTCGTCCAGG-1  AAACTGCTGGCTCCAA-1  \\\n",
       "MIR1302-2HG                 0.0                 0.0                 0.0   \n",
       "FAM138A                     0.0                 0.0                 0.0   \n",
       "OR4F5                       0.0                 0.0                 0.0   \n",
       "\n",
       "             AAAGGCTACGGACCAT-1  AAAGGCTCTCGCGCCG-1  AAAGTAGCATTGCTCA-1  \\\n",
       "MIR1302-2HG                 0.0                 0.0                 0.0   \n",
       "FAM138A                     0.0                 0.0                 0.0   \n",
       "OR4F5                       0.0                 0.0                 0.0   \n",
       "\n",
       "             AAAGTGTGATTTATCT-1  AAAGTTGACTCCCGTA-1  AAATACCTATAAGCAT-1  \\\n",
       "MIR1302-2HG                 0.0                 0.0                 0.0   \n",
       "FAM138A                     0.0                 0.0                 0.0   \n",
       "OR4F5                       0.0                 0.0                 0.0   \n",
       "\n",
       "             AAATAGGGTGCTATTG-1  ...  TTGGAAGAATACAGTC-1  TTGGACCTATAACAGT-1  \\\n",
       "MIR1302-2HG                 0.0  ...                 0.0                 0.0   \n",
       "FAM138A                     0.0  ...                 0.0                 0.0   \n",
       "OR4F5                       0.0  ...                 0.0                 0.0   \n",
       "\n",
       "             TTGGATATCGTCTACG-1  TTGGTCACACTCGTAA-1  TTGTGAACCTAATCCG-1  \\\n",
       "MIR1302-2HG                 0.0                 0.0                 0.0   \n",
       "FAM138A                     0.0                 0.0                 0.0   \n",
       "OR4F5                       0.0                 0.0                 0.0   \n",
       "\n",
       "             TTGTGCAGCCACGTCA-1  TTGTGGTAGGAGGGAT-1  TTGTGTATGCCACCAA-1  \\\n",
       "MIR1302-2HG                 0.0                 0.0                 0.0   \n",
       "FAM138A                     0.0                 0.0                 0.0   \n",
       "OR4F5                       0.0                 0.0                 0.0   \n",
       "\n",
       "             TTGTGTTTCCCGAAAG-1  TTGTTTCCATACAACT-1  \n",
       "MIR1302-2HG                 0.0                 0.0  \n",
       "FAM138A                     0.0                 0.0  \n",
       "OR4F5                       0.0                 0.0  \n",
       "\n",
       "[3 rows x 830 columns]"
      ]
     },
     "execution_count": 19,
     "metadata": {},
     "output_type": "execute_result"
    }
   ],
   "source": [
    "# export the count matrix tsv\n",
    "df = adata.to_df()\n",
    "df = df.T # transpose to get barcodes x genes (cols x rows)\n",
    "df.to_csv('/nfs/team205/heart/compass/HCAHeartST10317185/count_matrix.tsv', sep=\"\\t\")\n",
    "df.head(3)"
   ]
  },
  {
   "cell_type": "markdown",
   "id": "acknowledged-jaguar",
   "metadata": {},
   "source": [
    "# Export cell metadata"
   ]
  },
  {
   "cell_type": "code",
   "execution_count": 20,
   "id": "unauthorized-palmer",
   "metadata": {},
   "outputs": [],
   "source": [
    "# Alter so it includes things you need (a reference e.g. barcode and a cell type e.g. in fine_grain)\n",
    "adata.obs.to_csv('/nfs/team205/heart/compass/HCAHeartST10317185/cell_metadata.csv')"
   ]
  },
  {
   "cell_type": "code",
   "execution_count": 21,
   "id": "blind-messenger",
   "metadata": {},
   "outputs": [
    {
     "name": "stdout",
     "output_type": "stream",
     "text": [
      "ready to bsub\n"
     ]
    }
   ],
   "source": [
    "print('ready to bsub')"
   ]
  },
  {
   "cell_type": "markdown",
   "id": "legendary-explorer",
   "metadata": {},
   "source": [
    "# Run Compass"
   ]
  },
  {
   "cell_type": "markdown",
   "id": "nasty-bishop",
   "metadata": {},
   "source": [
    "## bsub command\n",
    "\n",
    "```\n",
    "bsub \\\n",
    "-G teichlab \\\n",
    "-q basement \\\n",
    "-M50000 \\\n",
    "-R \"select[mem>50000] rusage[mem=50000] span[hosts=1]\" \\\n",
    "-n 30 \\\n",
    "-J HCAHeartST10317185 \\\n",
    "-o 'log/compass.%J.out' \\\n",
    "-e 'log/compass.%J.err' \\\n",
    "'/software/singularity-v3.6.4/bin/singularity run -B /nfs,/lustre -B ~/COMPASSResources:/usr/local/lib/python3.8/site-packages/compass/Resources /nfs/cellgeni/singularity/images/compass-v0.9.10.2-cplex-v20.10.sif compass --data /nfs/team205/heart/compass/HCAHeartST10317185/count_matrix.tsv --species homo_sapiens --precache --calc-metabolites --output-dir /nfs/team205/heart/compass/HCAHeartST10317185/out/ --detailed-perf --num-processes 30'\n",
    "```"
   ]
  }
 ],
 "metadata": {
  "kernelspec": {
   "display_name": "scanpy",
   "language": "python",
   "name": "scanpy"
  },
  "language_info": {
   "codemirror_mode": {
    "name": "ipython",
    "version": 3
   },
   "file_extension": ".py",
   "mimetype": "text/x-python",
   "name": "python",
   "nbconvert_exporter": "python",
   "pygments_lexer": "ipython3",
   "version": "3.9.13"
  }
 },
 "nbformat": 4,
 "nbformat_minor": 5
}
