{
 "cells": [
  {
   "cell_type": "markdown",
   "id": "absolute-publication",
   "metadata": {},
   "source": [
    "# Prepare Compass inputs, random groups within cell states"
   ]
  },
  {
   "cell_type": "markdown",
   "id": "different-offset",
   "metadata": {},
   "source": [
    "Try to capture biological and technical variation by partitioning within replicates divided by age bin, cell/nuclei, cell state"
   ]
  },
  {
   "cell_type": "markdown",
   "id": "breeding-automation",
   "metadata": {},
   "source": [
    "## Setup"
   ]
  },
  {
   "cell_type": "code",
   "execution_count": 6,
   "id": "provincial-brunswick",
   "metadata": {},
   "outputs": [],
   "source": [
    "import numpy as np\n",
    "import pandas as pd\n",
    "import scanpy as sc\n",
    "import matplotlib.pyplot as plt\n",
    "import seaborn as sns\n",
    "from matplotlib.pyplot import rc_context\n",
    "import bbknn\n",
    "import re\n",
    "import sctk"
   ]
  },
  {
   "cell_type": "code",
   "execution_count": 7,
   "id": "vocational-agency",
   "metadata": {},
   "outputs": [
    {
     "name": "stdout",
     "output_type": "stream",
     "text": [
      "scanpy==1.9.1 anndata==0.8.0 umap==0.5.3 numpy==1.22.4 scipy==1.8.1 pandas==1.4.3 scikit-learn==1.1.1 statsmodels==0.13.2 python-igraph==0.9.11 pynndescent==0.5.7\n"
     ]
    }
   ],
   "source": [
    "sc.settings.verbosity = 0            # verbosity: errors (0), warnings (1), info (2), hints (3)\n",
    "sc.logging.print_header()\n",
    "sc.settings.set_figure_params(dpi=80, facecolor='white', color_map = 'Reds', figsize = (5, 5),dpi_save=300)"
   ]
  },
  {
   "cell_type": "code",
   "execution_count": 8,
   "id": "grateful-bahamas",
   "metadata": {},
   "outputs": [],
   "source": [
    "# Perform pseudobulk on sc data\n",
    "\n",
    "import scipy.sparse as sp\n",
    "\n",
    "def pseudo_bulk(\n",
    "        adata, groupby, use_rep='X', highly_variable=False, FUN=np.mean):\n",
    "    \"\"\"Make pseudo bulk data from grouped sc data\n",
    "    \"\"\"\n",
    "    if adata.obs[groupby].dtype.name == 'category':\n",
    "        group_attr = adata.obs[groupby].values\n",
    "        groups = adata.obs[groupby].cat.categories.values\n",
    "    else:\n",
    "        group_attr = adata.obs[groupby].astype(str).values\n",
    "        groups = np.unique(group_attr)\n",
    "    n_level = len(groups)\n",
    "    if highly_variable:\n",
    "        if isinstance(highly_variable, (list, tuple)):\n",
    "            if use_rep == 'raw':\n",
    "                k_hv = adata.raw.var_names.isin(highly_variable)\n",
    "            else:\n",
    "                k_hv = adata.var_names.isin(highly_variable)\n",
    "        else:\n",
    "            k_hv = adata.var['highly_variable'].values\n",
    "    if use_rep == 'X':\n",
    "        x = adata.X\n",
    "        features = adata.var_names.values\n",
    "        if highly_variable:\n",
    "            x = x[:, k_hv]\n",
    "            features = features[k_hv]\n",
    "    elif use_rep == 'raw':\n",
    "        x = adata.raw.X\n",
    "        features = adata.raw.var_names.values\n",
    "        if highly_variable:\n",
    "            x = x[:, k_hv]\n",
    "            features = features[k_hv]\n",
    "    elif use_rep in adata.layers.keys():\n",
    "        x = adata.layers[use_rep]\n",
    "        features = adata.var_names.values\n",
    "        if highly_variable:\n",
    "            x = x[:, k_hv]\n",
    "            features = features[k_hv]\n",
    "    elif use_rep in adata.obsm.keys():\n",
    "        x = adata.obsm[use_rep]\n",
    "        features = np.arange(x.shape[1])\n",
    "    elif (isinstance(use_rep, np.ndarray) and\n",
    "            use_rep.shape[0] == adata.shape[0]):\n",
    "        x = use_rep\n",
    "        features = np.arange(x.shape[1])\n",
    "    else:\n",
    "        raise KeyError(f'{use_rep} invalid.')\n",
    "    summarised = np.zeros((n_level, x.shape[1]))\n",
    "    for i, grp in enumerate(groups):\n",
    "        k_grp = group_attr == grp\n",
    "        if sp.issparse(x):\n",
    "            summarised[i] = FUN(x[k_grp, :], axis=0)\n",
    "        else:\n",
    "            summarised[i] = FUN(x[k_grp, :], axis=0, keepdims=True)\n",
    "    return pd.DataFrame(summarised.T, columns=groups, index=features)\n",
    "\n",
    "def random_partition(\n",
    "    adata,\n",
    "    partition_size,\n",
    "    groupby=None,\n",
    "    method=\"random_even\",\n",
    "    key_added=\"partition_labels\",\n",
    "    random_state=0,\n",
    "):\n",
    "    np.random.seed(random_state)\n",
    "    if groupby:\n",
    "        if groupby not in adata.obs.columns:\n",
    "            raise KeyError(f\"{groupby} is not a valid obs annotation.\")\n",
    "        groups = adata.obs[groupby].unique()\n",
    "        label_df = adata.obs[[groupby]].astype(str).rename(columns={groupby: key_added})\n",
    "        for grp in groups:\n",
    "            k = adata.obs[groupby] == grp\n",
    "            grp_size = sum(k)\n",
    "            n_partition = max(np.round(grp_size / partition_size).astype(int), 1)\n",
    "            if method == \"random\":\n",
    "                part_idx = np.random.randint(low=0, high=n_partition, size=grp_size)\n",
    "            elif method == \"random_even\":\n",
    "                part_sizes = list(map(len, np.array_split(np.arange(grp_size), n_partition)))\n",
    "                part_idx = np.repeat(np.arange(n_partition), part_sizes)\n",
    "                np.random.shuffle(part_idx)\n",
    "            else:\n",
    "                raise NotImplementedError(method)\n",
    "            label_df.loc[k, key_added] = [f\"{grp},{i}\" for i in part_idx]\n",
    "        adata.obs[key_added] = label_df[key_added]\n",
    "    else:\n",
    "        n_partition = max(np.round(adata.n_obs / partition_size).astype(int), 1)\n",
    "        if method == \"random\":\n",
    "            part_idx = np.random.randint(low=0, high=n_partition, size=adata.n_obs)\n",
    "        elif method == \"random_even\":\n",
    "            part_sizes = list(map(len, np.array_split(np.arange(adata.n_obs), n_partition)))\n",
    "            part_idx = np.repeat(np.arange(n_partition), part_sizes)\n",
    "            np.random.shuffle(part_idx)\n",
    "        else:\n",
    "            raise NotImplementedError(method)\n",
    "        adata.obs[key_added] = part_idx.astype(str)"
   ]
  },
  {
   "cell_type": "markdown",
   "id": "accredited-shift",
   "metadata": {},
   "source": [
    "## Import spatial data"
   ]
  },
  {
   "cell_type": "code",
   "execution_count": 10,
   "id": "chinese-rochester",
   "metadata": {},
   "outputs": [],
   "source": [
    "file='HCAHeartST11605165'\n",
    "path='/nfs/team205/heart/mapped/spaceranger110/'"
   ]
  },
  {
   "cell_type": "code",
   "execution_count": 11,
   "id": "anticipated-visiting",
   "metadata": {},
   "outputs": [
    {
     "name": "stderr",
     "output_type": "stream",
     "text": [
      "/home/jovyan/my-conda-envs/scanpy/lib/python3.9/site-packages/anndata/_core/anndata.py:1830: UserWarning: Variable names are not unique. To make them unique, call `.var_names_make_unique`.\n",
      "  utils.warn_names_duplicates(\"var\")\n"
     ]
    },
    {
     "data": {
      "text/plain": [
       "AnnData object with n_obs × n_vars = 2431 × 33538\n",
       "    var: 'gene_ids', 'feature_types', 'genome'"
      ]
     },
     "execution_count": 11,
     "metadata": {},
     "output_type": "execute_result"
    }
   ],
   "source": [
    "adata = sc.read_10x_h5(f'{path}{file}/filtered_feature_bc_matrix.h5')\n",
    "adata"
   ]
  },
  {
   "cell_type": "code",
   "execution_count": 12,
   "id": "regulation-documentary",
   "metadata": {},
   "outputs": [
    {
     "name": "stdout",
     "output_type": "stream",
     "text": [
      "Index(['MIR1302-2HG', 'FAM138A'], dtype='object')\n",
      "[1. 1. 1. 1. 1.]\n"
     ]
    }
   ],
   "source": [
    "# Check var_names are gene symbols, and the data is log-normed\n",
    "print(adata.var.index[:2])\n",
    "print(adata.X.data[:5])"
   ]
  },
  {
   "cell_type": "code",
   "execution_count": 13,
   "id": "velvet-clearing",
   "metadata": {},
   "outputs": [],
   "source": [
    "# If data needs to be log normed\n",
    "sc.pp.normalize_total(adata, target_sum=1e4)\n",
    "sc.pp.log1p(adata)"
   ]
  },
  {
   "cell_type": "code",
   "execution_count": 14,
   "id": "refined-receptor",
   "metadata": {},
   "outputs": [],
   "source": [
    "# If need to change gene ids change var names to gene symbols\n",
    "#genename_column='gene_name_multiome-2'\n",
    "#adata.var['gene_id']=adata.var_names\n",
    "#adata.var.set_index(genename_column, inplace=True)\n",
    "#adata.var_names=adata.var_names.astype('str')\n",
    "#adata.var_names_make_unique()"
   ]
  },
  {
   "cell_type": "code",
   "execution_count": 15,
   "id": "welsh-meeting",
   "metadata": {},
   "outputs": [
    {
     "name": "stdout",
     "output_type": "stream",
     "text": [
      "Index(['MIR1302-2HG', 'FAM138A'], dtype='object')\n",
      "[0.5464213 0.5464213 0.5464213 0.5464213 0.5464213]\n"
     ]
    }
   ],
   "source": [
    "# Check var_names are gene symbols, and the data is log-normed\n",
    "print(adata.var.index[:2])\n",
    "print(adata.X.data[:5])"
   ]
  },
  {
   "cell_type": "markdown",
   "id": "military-phrase",
   "metadata": {},
   "source": [
    "# Prepare data for Compass\n",
    "\"The input gene expression matrix can be either a tab-delimited text file (tsv) or a matrix market format (mtx) containing gene expression estimates (CPM, TPM, or similar scaled units) with one row per gene, one column per sample.\""
   ]
  },
  {
   "cell_type": "code",
   "execution_count": 19,
   "id": "static-bermuda",
   "metadata": {},
   "outputs": [],
   "source": [
    "import os\n",
    "os.mkdir(f'/nfs/team205/heart/compass/{file}/')"
   ]
  },
  {
   "cell_type": "code",
   "execution_count": 20,
   "id": "expressed-external",
   "metadata": {},
   "outputs": [
    {
     "data": {
      "text/html": [
       "<div>\n",
       "<style scoped>\n",
       "    .dataframe tbody tr th:only-of-type {\n",
       "        vertical-align: middle;\n",
       "    }\n",
       "\n",
       "    .dataframe tbody tr th {\n",
       "        vertical-align: top;\n",
       "    }\n",
       "\n",
       "    .dataframe thead th {\n",
       "        text-align: right;\n",
       "    }\n",
       "</style>\n",
       "<table border=\"1\" class=\"dataframe\">\n",
       "  <thead>\n",
       "    <tr style=\"text-align: right;\">\n",
       "      <th></th>\n",
       "      <th>AAACAAGTATCTCCCA-1</th>\n",
       "      <th>AAACAGAGCGACTCCT-1</th>\n",
       "      <th>AAACCGGGTAGGTACC-1</th>\n",
       "      <th>AAACCGTTCGTCCAGG-1</th>\n",
       "      <th>AAACCTAAGCAGCCGG-1</th>\n",
       "      <th>AAACCTCATGAAGTTG-1</th>\n",
       "      <th>AAACGAGACGGTTGAT-1</th>\n",
       "      <th>AAACGGGCGTACGGGT-1</th>\n",
       "      <th>AAACTCGTGATATAAG-1</th>\n",
       "      <th>AAACTGCTGGCTCCAA-1</th>\n",
       "      <th>...</th>\n",
       "      <th>TTGTGAACCTAATCCG-1</th>\n",
       "      <th>TTGTGGCCCTGACAGT-1</th>\n",
       "      <th>TTGTGGTATAGGTATG-1</th>\n",
       "      <th>TTGTGGTGGTACTAAG-1</th>\n",
       "      <th>TTGTGTATGCCACCAA-1</th>\n",
       "      <th>TTGTGTTTCCCGAAAG-1</th>\n",
       "      <th>TTGTTAGCAAATTCGA-1</th>\n",
       "      <th>TTGTTCAGTGTGCTAC-1</th>\n",
       "      <th>TTGTTGTGTGTCAAGA-1</th>\n",
       "      <th>TTGTTTCCATACAACT-1</th>\n",
       "    </tr>\n",
       "  </thead>\n",
       "  <tbody>\n",
       "    <tr>\n",
       "      <th>MIR1302-2HG</th>\n",
       "      <td>0.0</td>\n",
       "      <td>0.0</td>\n",
       "      <td>0.0</td>\n",
       "      <td>0.0</td>\n",
       "      <td>0.0</td>\n",
       "      <td>0.0</td>\n",
       "      <td>0.0</td>\n",
       "      <td>0.0</td>\n",
       "      <td>0.0</td>\n",
       "      <td>0.0</td>\n",
       "      <td>...</td>\n",
       "      <td>0.0</td>\n",
       "      <td>0.0</td>\n",
       "      <td>0.0</td>\n",
       "      <td>0.0</td>\n",
       "      <td>0.0</td>\n",
       "      <td>0.0</td>\n",
       "      <td>0.0</td>\n",
       "      <td>0.0</td>\n",
       "      <td>0.0</td>\n",
       "      <td>0.0</td>\n",
       "    </tr>\n",
       "    <tr>\n",
       "      <th>FAM138A</th>\n",
       "      <td>0.0</td>\n",
       "      <td>0.0</td>\n",
       "      <td>0.0</td>\n",
       "      <td>0.0</td>\n",
       "      <td>0.0</td>\n",
       "      <td>0.0</td>\n",
       "      <td>0.0</td>\n",
       "      <td>0.0</td>\n",
       "      <td>0.0</td>\n",
       "      <td>0.0</td>\n",
       "      <td>...</td>\n",
       "      <td>0.0</td>\n",
       "      <td>0.0</td>\n",
       "      <td>0.0</td>\n",
       "      <td>0.0</td>\n",
       "      <td>0.0</td>\n",
       "      <td>0.0</td>\n",
       "      <td>0.0</td>\n",
       "      <td>0.0</td>\n",
       "      <td>0.0</td>\n",
       "      <td>0.0</td>\n",
       "    </tr>\n",
       "    <tr>\n",
       "      <th>OR4F5</th>\n",
       "      <td>0.0</td>\n",
       "      <td>0.0</td>\n",
       "      <td>0.0</td>\n",
       "      <td>0.0</td>\n",
       "      <td>0.0</td>\n",
       "      <td>0.0</td>\n",
       "      <td>0.0</td>\n",
       "      <td>0.0</td>\n",
       "      <td>0.0</td>\n",
       "      <td>0.0</td>\n",
       "      <td>...</td>\n",
       "      <td>0.0</td>\n",
       "      <td>0.0</td>\n",
       "      <td>0.0</td>\n",
       "      <td>0.0</td>\n",
       "      <td>0.0</td>\n",
       "      <td>0.0</td>\n",
       "      <td>0.0</td>\n",
       "      <td>0.0</td>\n",
       "      <td>0.0</td>\n",
       "      <td>0.0</td>\n",
       "    </tr>\n",
       "  </tbody>\n",
       "</table>\n",
       "<p>3 rows × 2431 columns</p>\n",
       "</div>"
      ],
      "text/plain": [
       "             AAACAAGTATCTCCCA-1  AAACAGAGCGACTCCT-1  AAACCGGGTAGGTACC-1  \\\n",
       "MIR1302-2HG                 0.0                 0.0                 0.0   \n",
       "FAM138A                     0.0                 0.0                 0.0   \n",
       "OR4F5                       0.0                 0.0                 0.0   \n",
       "\n",
       "             AAACCGTTCGTCCAGG-1  AAACCTAAGCAGCCGG-1  AAACCTCATGAAGTTG-1  \\\n",
       "MIR1302-2HG                 0.0                 0.0                 0.0   \n",
       "FAM138A                     0.0                 0.0                 0.0   \n",
       "OR4F5                       0.0                 0.0                 0.0   \n",
       "\n",
       "             AAACGAGACGGTTGAT-1  AAACGGGCGTACGGGT-1  AAACTCGTGATATAAG-1  \\\n",
       "MIR1302-2HG                 0.0                 0.0                 0.0   \n",
       "FAM138A                     0.0                 0.0                 0.0   \n",
       "OR4F5                       0.0                 0.0                 0.0   \n",
       "\n",
       "             AAACTGCTGGCTCCAA-1  ...  TTGTGAACCTAATCCG-1  TTGTGGCCCTGACAGT-1  \\\n",
       "MIR1302-2HG                 0.0  ...                 0.0                 0.0   \n",
       "FAM138A                     0.0  ...                 0.0                 0.0   \n",
       "OR4F5                       0.0  ...                 0.0                 0.0   \n",
       "\n",
       "             TTGTGGTATAGGTATG-1  TTGTGGTGGTACTAAG-1  TTGTGTATGCCACCAA-1  \\\n",
       "MIR1302-2HG                 0.0                 0.0                 0.0   \n",
       "FAM138A                     0.0                 0.0                 0.0   \n",
       "OR4F5                       0.0                 0.0                 0.0   \n",
       "\n",
       "             TTGTGTTTCCCGAAAG-1  TTGTTAGCAAATTCGA-1  TTGTTCAGTGTGCTAC-1  \\\n",
       "MIR1302-2HG                 0.0                 0.0                 0.0   \n",
       "FAM138A                     0.0                 0.0                 0.0   \n",
       "OR4F5                       0.0                 0.0                 0.0   \n",
       "\n",
       "             TTGTTGTGTGTCAAGA-1  TTGTTTCCATACAACT-1  \n",
       "MIR1302-2HG                 0.0                 0.0  \n",
       "FAM138A                     0.0                 0.0  \n",
       "OR4F5                       0.0                 0.0  \n",
       "\n",
       "[3 rows x 2431 columns]"
      ]
     },
     "execution_count": 20,
     "metadata": {},
     "output_type": "execute_result"
    }
   ],
   "source": [
    "# export the count matrix tsv\n",
    "df = adata.to_df()\n",
    "df = df.T # transpose to get barcodes x genes (cols x rows)\n",
    "df.to_csv(f'/nfs/team205/heart/compass/{file}/count_matrix.tsv', sep=\"\\t\")\n",
    "df.head(3)"
   ]
  },
  {
   "cell_type": "markdown",
   "id": "saved-robinson",
   "metadata": {},
   "source": [
    "# Export cell metadata"
   ]
  },
  {
   "cell_type": "code",
   "execution_count": 21,
   "id": "mysterious-compatibility",
   "metadata": {},
   "outputs": [],
   "source": [
    "# Alter so it includes things you need (a reference e.g. barcode and a cell type e.g. in fine_grain)\n",
    "adata.obs.to_csv(f'/nfs/team205/heart/compass/{file}/cell_metadata.csv')"
   ]
  },
  {
   "cell_type": "code",
   "execution_count": 22,
   "id": "geological-table",
   "metadata": {},
   "outputs": [
    {
     "name": "stdout",
     "output_type": "stream",
     "text": [
      "/nfs/team205/heart/compass/HCAHeartST11605165/\n"
     ]
    }
   ],
   "source": [
    "print(f'/nfs/team205/heart/compass/{file}/')"
   ]
  },
  {
   "cell_type": "markdown",
   "id": "closed-meaning",
   "metadata": {},
   "source": [
    "# Run Compass"
   ]
  },
  {
   "cell_type": "markdown",
   "id": "placed-fleece",
   "metadata": {},
   "source": [
    "## bsub command"
   ]
  },
  {
   "cell_type": "markdown",
   "id": "worth-writing",
   "metadata": {},
   "source": [
    "```\n",
    "bsub \\\n",
    "-G teichlab \\\n",
    "-q basement \\\n",
    "-M50000 \\\n",
    "-R \"select[mem>50000] rusage[mem=50000] span[hosts=1]\" \\\n",
    "-n 30 \\\n",
    "-J HCAHeartST10317185 \\\n",
    "-o 'log/compass.%J.out' \\\n",
    "-e 'log/compass.%J.err' \\\n",
    "'/software/singularity-v3.6.4/bin/singularity run -B /nfs,/lustre -B ~/COMPASSResources:/usr/local/lib/python3.8/site-packages/compass/Resources /nfs/cellgeni/singularity/images/compass-v0.9.10.2-cplex-v20.10.sif compass --data /nfs/team205/heart/compass/HCAHeartST11605165/count_matrix.tsv --species homo_sapiens --precache --calc-metabolites --output-dir /nfs/team205/heart/compass/HCAHeartST11605165/out/ --detailed-perf --num-processes 30'\n",
    "```"
   ]
  }
 ],
 "metadata": {
  "kernelspec": {
   "display_name": "scanpy",
   "language": "python",
   "name": "scanpy"
  },
  "language_info": {
   "codemirror_mode": {
    "name": "ipython",
    "version": 3
   },
   "file_extension": ".py",
   "mimetype": "text/x-python",
   "name": "python",
   "nbconvert_exporter": "python",
   "pygments_lexer": "ipython3",
   "version": "3.9.13"
  }
 },
 "nbformat": 4,
 "nbformat_minor": 5
}
