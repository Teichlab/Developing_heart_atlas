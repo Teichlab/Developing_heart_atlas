{
 "cells": [
  {
   "cell_type": "markdown",
   "id": "federal-trade",
   "metadata": {},
   "source": [
    "## Loading packages"
   ]
  },
  {
   "cell_type": "code",
   "execution_count": 1,
   "id": "american-found",
   "metadata": {},
   "outputs": [
    {
     "name": "stderr",
     "output_type": "stream",
     "text": [
      "Global seed set to 0\n"
     ]
    }
   ],
   "source": [
    "import sys\n",
    "import scanpy as sc\n",
    "import anndata\n",
    "import pandas as pd\n",
    "import numpy as np\n",
    "import matplotlib.pyplot as plt \n",
    "import matplotlib as mpl\n",
    "\n",
    "import cell2location\n",
    "import scvi\n",
    "\n",
    "from matplotlib import rcParams\n",
    "rcParams['pdf.fonttype'] = 42 # enables correct plotting of text\n",
    "import seaborn as sns"
   ]
  },
  {
   "cell_type": "code",
   "execution_count": 2,
   "id": "finnish-bangkok",
   "metadata": {},
   "outputs": [
    {
     "data": {
      "text/html": [
       "<details>\n",
       "<summary>Click to view session information</summary>\n",
       "<pre>\n",
       "-----\n",
       "anndata             0.7.8\n",
       "cell2location       NA\n",
       "matplotlib          3.5.0\n",
       "numpy               1.20.3\n",
       "pandas              1.3.4\n",
       "scanpy              1.9.3\n",
       "scvi                0.14.4\n",
       "seaborn             0.11.2\n",
       "session_info        1.0.0\n",
       "-----\n",
       "</pre>\n",
       "<details>\n",
       "<summary>Click to view modules imported as dependencies</summary>\n",
       "<pre>\n",
       "PIL                         8.4.0\n",
       "absl                        NA\n",
       "adjustText                  NA\n",
       "arviz                       0.10.0\n",
       "attr                        21.2.0\n",
       "backcall                    0.2.0\n",
       "beta_ufunc                  NA\n",
       "binom_ufunc                 NA\n",
       "cffi                        1.15.0\n",
       "cftime                      1.5.1.1\n",
       "colorama                    0.4.4\n",
       "cycler                      0.10.0\n",
       "cython_runtime              NA\n",
       "dateutil                    2.8.2\n",
       "debugpy                     1.5.1\n",
       "decorator                   5.1.0\n",
       "defusedxml                  0.7.1\n",
       "deprecate                   0.3.0\n",
       "descartes                   NA\n",
       "dill                        0.3.4\n",
       "docrep                      0.3.2\n",
       "entrypoints                 0.3\n",
       "fastprogress                0.2.7\n",
       "fontTools                   4.28.1\n",
       "fsspec                      2021.11.0\n",
       "google                      NA\n",
       "h5py                        3.6.0\n",
       "igraph                      0.9.8\n",
       "ipykernel                   6.5.1\n",
       "ipython_genutils            0.2.0\n",
       "ipywidgets                  7.6.5\n",
       "jedi                        0.18.1\n",
       "joblib                      1.1.0\n",
       "kiwisolver                  1.3.2\n",
       "lazylinker_ext              NA\n",
       "leidenalg                   0.8.8\n",
       "llvmlite                    0.37.0\n",
       "matplotlib_inline           NA\n",
       "mizani                      0.7.3\n",
       "mpl_toolkits                NA\n",
       "natsort                     8.0.0\n",
       "nbinom_ufunc                NA\n",
       "netCDF4                     1.5.8\n",
       "numba                       0.54.1\n",
       "numexpr                     2.7.3\n",
       "opt_einsum                  v3.3.0\n",
       "packaging                   21.3\n",
       "palettable                  3.3.0\n",
       "parso                       0.8.2\n",
       "patsy                       0.5.2\n",
       "pexpect                     4.8.0\n",
       "pickleshare                 0.7.5\n",
       "pkg_resources               NA\n",
       "plotnine                    0.8.0\n",
       "prompt_toolkit              3.0.22\n",
       "ptyprocess                  0.7.0\n",
       "pycparser                   2.21\n",
       "pydev_ipython               NA\n",
       "pydevconsole                NA\n",
       "pydevd                      2.6.0\n",
       "pydevd_concurrency_analyser NA\n",
       "pydevd_file_utils           NA\n",
       "pydevd_plugins              NA\n",
       "pydevd_tracing              NA\n",
       "pyexpat                     NA\n",
       "pygments                    2.10.0\n",
       "pymc3                       3.10.0\n",
       "pynndescent                 0.5.5\n",
       "pyparsing                   3.0.6\n",
       "pyro                        1.7.0\n",
       "pytorch_lightning           1.3.8\n",
       "pytz                        2021.3\n",
       "rich                        NA\n",
       "scipy                       1.7.2\n",
       "setuptools                  58.0.4\n",
       "setuptools_scm              NA\n",
       "six                         1.16.0\n",
       "sklearn                     1.0.1\n",
       "statsmodels                 0.13.1\n",
       "storemagic                  NA\n",
       "tensorboard                 2.7.0\n",
       "texttable                   1.6.4\n",
       "theano                      1.0.11\n",
       "threadpoolctl               3.0.0\n",
       "torch                       1.10.0+cu102\n",
       "torchmetrics                0.6.0\n",
       "tornado                     6.1\n",
       "tqdm                        4.62.3\n",
       "traitlets                   5.1.1\n",
       "typing_extensions           NA\n",
       "umap                        0.5.2\n",
       "wcwidth                     0.2.5\n",
       "xarray                      0.20.1\n",
       "yaml                        5.4.1\n",
       "zmq                         22.3.0\n",
       "</pre>\n",
       "</details> <!-- seems like this ends pre, so might as well be explicit -->\n",
       "<pre>\n",
       "-----\n",
       "IPython             7.29.0\n",
       "jupyter_client      7.0.6\n",
       "jupyter_core        4.9.1\n",
       "notebook            6.4.6\n",
       "-----\n",
       "Python 3.9.7 (default, Sep 16 2021, 13:09:58) [GCC 7.5.0]\n",
       "Linux-4.15.0-200-generic-x86_64-with-glibc2.27\n",
       "-----\n",
       "Session information updated at 2023-03-14 11:24\n",
       "</pre>\n",
       "</details>"
      ],
      "text/plain": [
       "<IPython.core.display.HTML object>"
      ]
     },
     "execution_count": 2,
     "metadata": {},
     "output_type": "execute_result"
    }
   ],
   "source": [
    "import session_info\n",
    "session_info.show()"
   ]
  },
  {
   "cell_type": "code",
   "execution_count": 3,
   "id": "asian-subdivision",
   "metadata": {},
   "outputs": [],
   "source": [
    "results_folder = '/nfs/team205/heart/cell2location/foetal'\n",
    "\n",
    "# create paths and names to results folders for reference regression and cell2location models\n",
    "ref_run_name = f'{results_folder}/reference_signatures/ver28Feb2023'\n",
    "run_name = f'{results_folder}/cell2location_map/ver28Feb2023'"
   ]
  },
  {
   "cell_type": "markdown",
   "id": "minor-stake",
   "metadata": {},
   "source": [
    "## Data, parameters"
   ]
  },
  {
   "cell_type": "code",
   "execution_count": 4,
   "id": "soviet-plenty",
   "metadata": {},
   "outputs": [],
   "source": [
    "scRNA_path='/nfs/team205/heart/anndata_objects/Foetal/Feb28ObjectRaw.h5ad'\n",
    "celltype_key='fine_grain'"
   ]
  },
  {
   "cell_type": "markdown",
   "id": "reverse-instrument",
   "metadata": {},
   "source": [
    "## Loading scRNA-seq reference data"
   ]
  },
  {
   "cell_type": "code",
   "execution_count": 5,
   "id": "premier-framework",
   "metadata": {},
   "outputs": [
    {
     "data": {
      "text/plain": [
       "AnnData object with n_obs × n_vars = 297473 × 36601\n",
       "    obs: 'latent_RT_efficiency', 'latent_cell_probability', 'latent_scale', 'sangerID', 'combinedID', 'donor', 'region', 'age', 'facility', 'cell_or_nuclei', 'modality', 'kit_10x', 'scrublet_score', 'doublet_pval', 'doublet_bh_pval', 'n_genes', 'n_counts', 'n_genes_by_counts', 'log1p_n_genes_by_counts', 'total_counts', 'log1p_total_counts', 'total_counts_mt', 'log1p_total_counts_mt', 'pct_counts_mt', 'total_counts_ribo', 'log1p_total_counts_ribo', 'pct_counts_ribo', 'HB_score', 'donor_by_library-prep', 'multiplexed', 'SOC | status', 'SOC | log_prob_singleton', 'SOC | log_prob_doublet', 'batch_key', '_scvi_batch', 'FACSgate', 'fine_grain', 'mid_grain', 'coarse_grain', 'sex', 'week', 'trimester', 'heart_or_greatvessels', 'cycling', 'S_score', 'G2M_score', 'phase', '_scvi_labels', 'stress_score', 'hb1_score'\n",
       "    var: 'gene_name_scRNA-0', 'gene_id'\n",
       "    uns: 'FACSgate_colors', '_scvi_manager_uuid', '_scvi_uuid', 'age_colors', 'cell_or_nuclei_colors', 'coarse_grain_colors', 'cycling_colors', 'donor_colors', 'fine_grain_colors', 'heart_or_greatvessels_colors', 'hvg', 'kit_10x_colors', 'mid_grain_colors', 'modality_colors', 'neighbors', 'phase_colors', 'region_colors', 'sex_colors', 'trimester_colors', 'umap', 'week_colors'\n",
       "    obsm: 'X_scVI', 'X_umap', '_scvi_extra_categorical_covs', '_scvi_extra_continuous', '_scvi_extra_continuous_covs', 'latent_gene_encoding'\n",
       "    obsp: 'connectivities', 'distances'"
      ]
     },
     "execution_count": 5,
     "metadata": {},
     "output_type": "execute_result"
    }
   ],
   "source": [
    "# Read scRNA data\n",
    "adata = sc.read(scRNA_path)\n",
    "adata"
   ]
  },
  {
   "cell_type": "code",
   "execution_count": 6,
   "id": "fatty-friendship",
   "metadata": {},
   "outputs": [
    {
     "data": {
      "text/plain": [
       "array([ 1.,  1.,  5.,  5.,  8.,  4., 13.,  4.,  3.,  1.], dtype=float32)"
      ]
     },
     "execution_count": 6,
     "metadata": {},
     "output_type": "execute_result"
    }
   ],
   "source": [
    "adata.X.data[:10]"
   ]
  },
  {
   "cell_type": "code",
   "execution_count": 7,
   "id": "advisory-inspector",
   "metadata": {},
   "outputs": [
    {
     "data": {
      "text/plain": [
       "{'AtrialCardiomyocytesCycling',\n",
       " 'AtrialCardiomyocytesLeft',\n",
       " 'AtrialCardiomyocytesRight',\n",
       " 'AtrioventricularNodeCardiomyocytes',\n",
       " 'BCells',\n",
       " 'BCellsMS4A1pos',\n",
       " 'ChromaffinCells',\n",
       " 'CoronaryArterialEndothelialCells',\n",
       " 'CoronaryCapillaryEndothelialCells',\n",
       " 'CoronaryPericytes',\n",
       " 'CoronarySmoothMuscleCells',\n",
       " 'CoronaryVenousEndothelialCells',\n",
       " 'CoronaryVesselAdventitialFibroblasts',\n",
       " 'DendriticCellsMature',\n",
       " 'DendriticCellsType1',\n",
       " 'DuctusArteriosusSmoothMuscleCells',\n",
       " 'EndocardialCells',\n",
       " 'EndocardialCushionCells',\n",
       " 'EpicardiumDerivedCells',\n",
       " 'GreatVesselAdventitialFibroblasts',\n",
       " 'GreatVesselArterialEndothelialCells',\n",
       " 'GreatVesselSmoothMuscleCells',\n",
       " 'GreatVesselVenousEndothelialCells',\n",
       " 'InnateLymphoidCells',\n",
       " 'LymphNodeFibroblasticReticularCells',\n",
       " 'LymphaticEndothelialCells',\n",
       " 'MacrophagesATF3pos',\n",
       " 'MacrophagesCX3CR1pos',\n",
       " 'MacrophagesLYVE1pos',\n",
       " 'MacrophagesTIMD4pos',\n",
       " 'MastCells',\n",
       " 'Megakaryocytes',\n",
       " 'MesothelialEpicardialCells',\n",
       " 'MonocyteDerivedCells',\n",
       " 'Monocytes',\n",
       " 'MonocytesMPOpos',\n",
       " 'MyocardialInterstitialFibroblasts1',\n",
       " 'MyocardialInterstitialFibroblasts2',\n",
       " 'Myofibroblasts',\n",
       " 'NaturalKillerCells',\n",
       " 'NeuronPrecursors',\n",
       " 'ParaympatheticNeurons',\n",
       " 'PericardialCells1',\n",
       " 'PericardialCells2',\n",
       " 'PericardialCells3',\n",
       " 'PlasmacytoidDendriticCells',\n",
       " 'ProBCells',\n",
       " 'SchwannCellPrecursors',\n",
       " 'SchwannCells',\n",
       " 'SinoatrialNodeCardiomyocytes',\n",
       " 'SympatheticNeurons',\n",
       " 'TCellsCD4pos',\n",
       " 'TCellsCD8pos',\n",
       " 'TregsCD4pos',\n",
       " 'ValveEndothelialCells',\n",
       " 'ValveInterstitialCells',\n",
       " 'VentricularCardiomyocytesCycling',\n",
       " 'VentricularCardiomyocytesLeftCompact',\n",
       " 'VentricularCardiomyocytesLeftTrabeculated',\n",
       " 'VentricularCardiomyocytesRightCompact',\n",
       " 'VentricularCardiomyocytesRightTrabeculated',\n",
       " 'VentricularConductionSystemDistal',\n",
       " 'VentricularConductionSystemProximal'}"
      ]
     },
     "execution_count": 7,
     "metadata": {},
     "output_type": "execute_result"
    }
   ],
   "source": [
    "set(adata.obs[celltype_key])"
   ]
  },
  {
   "cell_type": "code",
   "execution_count": 8,
   "id": "dirty-country",
   "metadata": {},
   "outputs": [
    {
     "data": {
      "text/html": [
       "<div>\n",
       "<style scoped>\n",
       "    .dataframe tbody tr th:only-of-type {\n",
       "        vertical-align: middle;\n",
       "    }\n",
       "\n",
       "    .dataframe tbody tr th {\n",
       "        vertical-align: top;\n",
       "    }\n",
       "\n",
       "    .dataframe thead th {\n",
       "        text-align: right;\n",
       "    }\n",
       "</style>\n",
       "<table border=\"1\" class=\"dataframe\">\n",
       "  <thead>\n",
       "    <tr style=\"text-align: right;\">\n",
       "      <th></th>\n",
       "      <th>gene_name_scRNA-0</th>\n",
       "      <th>gene_id</th>\n",
       "    </tr>\n",
       "    <tr>\n",
       "      <th>gene_name_multiome-1</th>\n",
       "      <th></th>\n",
       "      <th></th>\n",
       "    </tr>\n",
       "  </thead>\n",
       "  <tbody>\n",
       "    <tr>\n",
       "      <th>MIR1302-2HG</th>\n",
       "      <td>MIR1302-2HG</td>\n",
       "      <td>ENSG00000243485</td>\n",
       "    </tr>\n",
       "    <tr>\n",
       "      <th>FAM138A</th>\n",
       "      <td>FAM138A</td>\n",
       "      <td>ENSG00000237613</td>\n",
       "    </tr>\n",
       "    <tr>\n",
       "      <th>OR4F5</th>\n",
       "      <td>OR4F5</td>\n",
       "      <td>ENSG00000186092</td>\n",
       "    </tr>\n",
       "    <tr>\n",
       "      <th>AL627309.1</th>\n",
       "      <td>AL627309.1</td>\n",
       "      <td>ENSG00000238009</td>\n",
       "    </tr>\n",
       "    <tr>\n",
       "      <th>AL627309.3</th>\n",
       "      <td>AL627309.3</td>\n",
       "      <td>ENSG00000239945</td>\n",
       "    </tr>\n",
       "  </tbody>\n",
       "</table>\n",
       "</div>"
      ],
      "text/plain": [
       "                     gene_name_scRNA-0          gene_id\n",
       "gene_name_multiome-1                                   \n",
       "MIR1302-2HG                MIR1302-2HG  ENSG00000243485\n",
       "FAM138A                        FAM138A  ENSG00000237613\n",
       "OR4F5                            OR4F5  ENSG00000186092\n",
       "AL627309.1                  AL627309.1  ENSG00000238009\n",
       "AL627309.3                  AL627309.3  ENSG00000239945"
      ]
     },
     "execution_count": 8,
     "metadata": {},
     "output_type": "execute_result"
    }
   ],
   "source": [
    "# Make sure .var_names are ENSEMBL IDs\n",
    "adata.var.head()"
   ]
  },
  {
   "cell_type": "code",
   "execution_count": 9,
   "id": "likely-allah",
   "metadata": {},
   "outputs": [
    {
     "data": {
      "text/plain": [
       "Hst41_Nuclei_Multiome-v1    104878\n",
       "Hst33_Nuclei_Multiome-v1     38234\n",
       "Hst39_Nuclei_Multiome-v1     25386\n",
       "C99_Cell_5prime-v2           17547\n",
       "C92_Nuclei_Multiome-v1       13770\n",
       "C94_Cell_5prime-v2           12985\n",
       "Hst40_Nuclei_Multiome-v1      9708\n",
       "C97_Cell_5prime-v2            9702\n",
       "BRC2251_Cell_3prime-v3        9121\n",
       "BRC2256_Cell_3prime-v3        7948\n",
       "Hst36_Nuclei_Multiome-v1      7268\n",
       "BRC2252_Cell_3prime-v3        6854\n",
       "C86_Cell_5prime-v2            6376\n",
       "BRC2260_Cell_3prime-v3        6004\n",
       "BRC2263_Cell_3prime-v3        5662\n",
       "BRC2262_Cell_3prime-v3        4129\n",
       "C87_Nuclei_Multiome-v1        3907\n",
       "C98_Nuclei_Multiome-v1        2660\n",
       "C104_Nuclei_Multiome-v1       2490\n",
       "C85_Nuclei_Multiome-v1        2436\n",
       "C82_Nuclei_Multiome-v1         408\n",
       "Name: batch_key, dtype: int64"
      ]
     },
     "execution_count": 9,
     "metadata": {},
     "output_type": "execute_result"
    }
   ],
   "source": [
    "adata.obs['batch_key'].value_counts()"
   ]
  },
  {
   "cell_type": "code",
   "execution_count": 10,
   "id": "occupational-purchase",
   "metadata": {},
   "outputs": [
    {
     "data": {
      "text/plain": [
       "{'BRC2251_Cell_3prime-v3',\n",
       " 'BRC2252_Cell_3prime-v3',\n",
       " 'BRC2256_Cell_3prime-v3',\n",
       " 'BRC2260_Cell_3prime-v3',\n",
       " 'BRC2262_Cell_3prime-v3',\n",
       " 'BRC2263_Cell_3prime-v3',\n",
       " 'C104_Nuclei_Multiome-v1',\n",
       " 'C82_Nuclei_Multiome-v1',\n",
       " 'C85_Nuclei_Multiome-v1',\n",
       " 'C86_Cell_5prime-v2',\n",
       " 'C87_Nuclei_Multiome-v1',\n",
       " 'C92_Nuclei_Multiome-v1',\n",
       " 'C94_Cell_5prime-v2',\n",
       " 'C97_Cell_5prime-v2',\n",
       " 'C98_Nuclei_Multiome-v1',\n",
       " 'C99_Cell_5prime-v2',\n",
       " 'Hst33_Nuclei_Multiome-v1',\n",
       " 'Hst36_Nuclei_Multiome-v1',\n",
       " 'Hst39_Nuclei_Multiome-v1',\n",
       " 'Hst40_Nuclei_Multiome-v1',\n",
       " 'Hst41_Nuclei_Multiome-v1'}"
      ]
     },
     "execution_count": 10,
     "metadata": {},
     "output_type": "execute_result"
    }
   ],
   "source": [
    "set(adata.obs['batch_key'])"
   ]
  },
  {
   "cell_type": "code",
   "execution_count": null,
   "id": "portuguese-breath",
   "metadata": {},
   "outputs": [],
   "source": []
  },
  {
   "cell_type": "markdown",
   "id": "statistical-retailer",
   "metadata": {},
   "source": [
    "## Remove cells"
   ]
  },
  {
   "cell_type": "markdown",
   "id": "heated-helen",
   "metadata": {},
   "source": [
    "* Cycling cells\n",
    "* Pericardial cells\n",
    "* Ductus arterial SMCs"
   ]
  },
  {
   "cell_type": "code",
   "execution_count": 11,
   "id": "committed-catch",
   "metadata": {},
   "outputs": [
    {
     "data": {
      "text/plain": [
       "(185953, 36601)"
      ]
     },
     "execution_count": 11,
     "metadata": {},
     "output_type": "execute_result"
    }
   ],
   "source": [
    "# remove pericardial cells\n",
    "adata = adata[adata.obs['fine_grain'].isin(['PericardialCells1','PericardialCells2','PericardialCells3'])==False]\n",
    "\n",
    "# remove ductus arterial SMCs\n",
    "adata = adata[adata.obs['fine_grain'].isin(['DuctusArteriosusSmoothMuscleCells'])==False]\n",
    "\n",
    "# remove cycling cells\n",
    "adata = adata[adata.obs['cycling']=='no']\n",
    "\n",
    "adata.shape"
   ]
  },
  {
   "cell_type": "code",
   "execution_count": null,
   "id": "helpful-generator",
   "metadata": {},
   "outputs": [],
   "source": []
  },
  {
   "cell_type": "markdown",
   "id": "talented-heater",
   "metadata": {},
   "source": [
    "## <del>Add Atria Ventricle key"
   ]
  },
  {
   "cell_type": "code",
   "execution_count": null,
   "id": "suspected-watson",
   "metadata": {},
   "outputs": [],
   "source": [
    "'''\n",
    "atrial_or_ventricular = {\n",
    "    # 'AtrialCardiomyocytesCycling':'atrial',\n",
    " 'AtrialCardiomyocytesLeft':'atrial',\n",
    " 'AtrialCardiomyocytesRight':'atrial',\n",
    " 'AtrioventricularNodeCardiomyocytes':'either',\n",
    " 'BCells':'either',\n",
    " 'BCellsMS4A1pos':'either',\n",
    " 'ChromaffinCells':'either',\n",
    " 'CoronaryArterialEndothelialCells':'either',\n",
    " 'CoronaryCapillaryEndothelialCells':'either',\n",
    " 'CoronaryPericytes':'either',\n",
    " 'CoronarySmoothMuscleCells':'either',\n",
    " 'CoronaryVenousEndothelialCells':'either',\n",
    " 'CoronaryVesselAdventitialFibroblasts':'either',\n",
    " 'DendriticCellsMature':'either',\n",
    " 'DendriticCellsType1':'either',\n",
    " # 'DuctusArteriosusSmoothMuscleCells':'atrial',\n",
    " 'EndocardialCells':'either',\n",
    " 'EndocardialCushionCells':'either',\n",
    " 'EpicardiumDerivedCells':'either',\n",
    " 'GreatVesselAdventitialFibroblasts':'atrial',\n",
    " 'GreatVesselArterialEndothelialCells':'atrial',\n",
    " 'GreatVesselSmoothMuscleCells':'atrial',\n",
    " 'GreatVesselVenousEndothelialCells':'atrial',\n",
    " 'InnateLymphoidCells':'either',\n",
    " 'LymphNodeFibroblasticReticularCells':'either',\n",
    " 'LymphaticEndothelialCells':'either',\n",
    " 'MacrophagesATF3pos':'either',\n",
    " 'MacrophagesCX3CR1pos':'either',\n",
    " 'MacrophagesLYVE1pos':'either',\n",
    " 'MacrophagesTIMD4pos':'either',\n",
    " 'MastCells':'either',\n",
    " 'Megakaryocytes':'either',\n",
    " 'MesothelialEpicardialCells':'either',\n",
    " 'MonocyteDerivedCells':'either',\n",
    " 'Monocytes':'either',\n",
    " 'MonocytesMPOpos':'either',\n",
    " 'MyocardialInterstitialFibroblasts1':'either',\n",
    " 'MyocardialInterstitialFibroblasts2':'either',\n",
    " 'Myofibroblasts':'either',\n",
    " 'NaturalKillerCells':'either',\n",
    " 'NeuronPrecursors':'either',\n",
    " 'ParaympatheticNeurons':'either',\n",
    " # 'PericardialCells1':'either',\n",
    " # 'PericardialCells2':'either',\n",
    " # 'PericardialCells3':'either',\n",
    " 'PlasmacytoidDendriticCells':'either',\n",
    " 'ProBCells':'either',\n",
    " 'SchwannCellPrecursors':'either',\n",
    " 'SchwannCells':'either',\n",
    " 'SinoatrialNodeCardiomyocytes':'atrial',\n",
    " 'SympatheticNeurons':'either',\n",
    " 'TCellsCD4pos':'either',\n",
    " 'TCellsCD8pos':'either',\n",
    " 'TregsCD4pos':'either',\n",
    " 'ValveEndothelialCells':'either',\n",
    " 'ValveInterstitialCells':'either',\n",
    " # 'VentricularCardiomyocytesCycling':'ventricular',\n",
    " 'VentricularCardiomyocytesLeftCompact':'ventricular',\n",
    " 'VentricularCardiomyocytesLeftTrabeculated':'ventricular',\n",
    " 'VentricularCardiomyocytesRightCompact':'ventricular',\n",
    " 'VentricularCardiomyocytesRightTrabeculated':'ventricular',\n",
    " 'VentricularConductionSystemDistal':'ventricular',\n",
    " 'VentricularConductionSystemProximal':'ventricular'}\n",
    "\n",
    "if set(adata.obs['fine_grain']) == set(atrial_or_ventricular.keys()):\n",
    "    adata.obs['atrialorventricular']=adata.obs['fine_grain'].astype('str').copy()\n",
    "    adata.obs.replace({'atrialorventricular':atrial_or_ventricular},inplace=True)\n",
    "else:\n",
    "    print('ERROR: the cell type names are not matching')\n",
    "\n",
    "pd.set_option(\"max_rows\", 100)\n",
    "pd.crosstab(adata.obs['fine_grain'],adata.obs['atrialorventricular'])\n",
    "'''"
   ]
  },
  {
   "cell_type": "code",
   "execution_count": null,
   "id": "german-mentor",
   "metadata": {},
   "outputs": [],
   "source": []
  },
  {
   "cell_type": "markdown",
   "id": "greek-broadway",
   "metadata": {},
   "source": [
    "## Estimation of reference cell type signatures (NB regression)"
   ]
  },
  {
   "cell_type": "code",
   "execution_count": 14,
   "id": "laden-builder",
   "metadata": {},
   "outputs": [],
   "source": [
    "regions = ['whole_woPeriCell_woDASMC'] #,'atrial','ventricular'"
   ]
  },
  {
   "cell_type": "code",
   "execution_count": 16,
   "id": "smaller-prison",
   "metadata": {},
   "outputs": [
    {
     "name": "stdout",
     "output_type": "stream",
     "text": [
      "##### whole_woPeriCell_woDASMC #####\n"
     ]
    },
    {
     "data": {
      "image/png": "[encoded data removed]",
      "text/plain": [
       "<Figure size 432x288 with 1 Axes>"
      ]
     },
     "metadata": {
      "needs_background": "light"
     },
     "output_type": "display_data"
    },
    {
     "name": "stdout",
     "output_type": "stream",
     "text": [
      "\u001b[34mINFO    \u001b[0m Using batches from adata.obs\u001b[1m[\u001b[0m\u001b[32m\"batch_key\"\u001b[0m\u001b[1m]\u001b[0m                                           \n",
      "\u001b[34mINFO    \u001b[0m Using labels from adata.obs\u001b[1m[\u001b[0m\u001b[32m\"fine_grain\"\u001b[0m\u001b[1m]\u001b[0m                                           \n",
      "\u001b[34mINFO    \u001b[0m Using data from adata.X                                                             \n"
     ]
    },
    {
     "name": "stderr",
     "output_type": "stream",
     "text": [
      "/lustre/scratch117/cellgen/team205/kk18/miniconda3/envs/cell2loc_env/lib/python3.9/site-packages/sklearn/utils/deprecation.py:87: FutureWarning: Function setup_anndata is deprecated; Please use the model-specific setup_anndata methods instead. The global method will be removed in version 0.15.0.\n"
     ]
    },
    {
     "name": "stdout",
     "output_type": "stream",
     "text": [
      "\u001b[34mINFO    \u001b[0m Successfully registered anndata object containing \u001b[1;36m185953\u001b[0m cells, \u001b[1;36m17286\u001b[0m vars, \u001b[1;36m21\u001b[0m      \n",
      "         batches, \u001b[1;36m57\u001b[0m labels, and \u001b[1;36m0\u001b[0m proteins. Also registered \u001b[1;36m0\u001b[0m extra categorical covariates  \n",
      "         and \u001b[1;36m0\u001b[0m extra continuous covariates.                                                  \n",
      "\u001b[34mINFO    \u001b[0m Please do not further modify adata until model is trained.                          \n"
     ]
    },
    {
     "name": "stderr",
     "output_type": "stream",
     "text": [
      "/lustre/scratch117/cellgen/team205/kk18/miniconda3/envs/cell2loc_env/lib/python3.9/site-packages/sklearn/utils/deprecation.py:87: FutureWarning: Function view_anndata_setup is deprecated; This method will be removed in 0.15.0. Please avoid building any new dependencies on it.\n"
     ]
    },
    {
     "data": {
      "text/html": [
       "<pre style=\"white-space:pre;overflow-x:auto;line-height:normal;font-family:Menlo,'DejaVu Sans Mono',consolas,'Courier New',monospace\">Anndata setup with scvi-tools version <span style=\"color: #008080; text-decoration-color: #008080; font-weight: bold\">0.14</span>.<span style=\"color: #008080; text-decoration-color: #008080; font-weight: bold\">4</span>.\n",
       "</pre>\n"
      ],
      "text/plain": [
       "Anndata setup with scvi-tools version \u001b[1;36m0.14\u001b[0m.\u001b[1;36m4\u001b[0m.\n"
      ]
     },
     "metadata": {},
     "output_type": "display_data"
    },
    {
     "data": {
      "text/html": [
       "<pre style=\"white-space:pre;overflow-x:auto;line-height:normal;font-family:Menlo,'DejaVu Sans Mono',consolas,'Courier New',monospace\"><span style=\"font-style: italic\">              Data Summary               </span>\n",
       "┏━━━━━━━━━━━━━━━━━━━━━━━━━━━━━━┳━━━━━━━━┓\n",
       "┃<span style=\"font-weight: bold\">             Data             </span>┃<span style=\"font-weight: bold\"> Count  </span>┃\n",
       "┡━━━━━━━━━━━━━━━━━━━━━━━━━━━━━━╇━━━━━━━━┩\n",
       "│<span style=\"color: #0087ff; text-decoration-color: #0087ff\">            Cells             </span>│<span style=\"color: #af00d7; text-decoration-color: #af00d7\"> 185953 </span>│\n",
       "│<span style=\"color: #0087ff; text-decoration-color: #0087ff\">             Vars             </span>│<span style=\"color: #af00d7; text-decoration-color: #af00d7\"> 17286  </span>│\n",
       "│<span style=\"color: #0087ff; text-decoration-color: #0087ff\">            Labels            </span>│<span style=\"color: #af00d7; text-decoration-color: #af00d7\">   57   </span>│\n",
       "│<span style=\"color: #0087ff; text-decoration-color: #0087ff\">           Batches            </span>│<span style=\"color: #af00d7; text-decoration-color: #af00d7\">   21   </span>│\n",
       "│<span style=\"color: #0087ff; text-decoration-color: #0087ff\">           Proteins           </span>│<span style=\"color: #af00d7; text-decoration-color: #af00d7\">   0    </span>│\n",
       "│<span style=\"color: #0087ff; text-decoration-color: #0087ff\"> Extra Categorical Covariates </span>│<span style=\"color: #af00d7; text-decoration-color: #af00d7\">   0    </span>│\n",
       "│<span style=\"color: #0087ff; text-decoration-color: #0087ff\"> Extra Continuous Covariates  </span>│<span style=\"color: #af00d7; text-decoration-color: #af00d7\">   0    </span>│\n",
       "└──────────────────────────────┴────────┘\n",
       "</pre>\n"
      ],
      "text/plain": [
       "\u001b[3m              Data Summary               \u001b[0m\n",
       "┏━━━━━━━━━━━━━━━━━━━━━━━━━━━━━━┳━━━━━━━━┓\n",
       "┃\u001b[1m \u001b[0m\u001b[1m            Data            \u001b[0m\u001b[1m \u001b[0m┃\u001b[1m \u001b[0m\u001b[1mCount \u001b[0m\u001b[1m \u001b[0m┃\n",
       "┡━━━━━━━━━━━━━━━━━━━━━━━━━━━━━━╇━━━━━━━━┩\n",
       "│\u001b[38;5;33m \u001b[0m\u001b[38;5;33m           Cells            \u001b[0m\u001b[38;5;33m \u001b[0m│\u001b[38;5;128m \u001b[0m\u001b[38;5;128m185953\u001b[0m\u001b[38;5;128m \u001b[0m│\n",
       "│\u001b[38;5;33m \u001b[0m\u001b[38;5;33m            Vars            \u001b[0m\u001b[38;5;33m \u001b[0m│\u001b[38;5;128m \u001b[0m\u001b[38;5;128m17286 \u001b[0m\u001b[38;5;128m \u001b[0m│\n",
       "│\u001b[38;5;33m \u001b[0m\u001b[38;5;33m           Labels           \u001b[0m\u001b[38;5;33m \u001b[0m│\u001b[38;5;128m \u001b[0m\u001b[38;5;128m  57  \u001b[0m\u001b[38;5;128m \u001b[0m│\n",
       "│\u001b[38;5;33m \u001b[0m\u001b[38;5;33m          Batches           \u001b[0m\u001b[38;5;33m \u001b[0m│\u001b[38;5;128m \u001b[0m\u001b[38;5;128m  21  \u001b[0m\u001b[38;5;128m \u001b[0m│\n",
       "│\u001b[38;5;33m \u001b[0m\u001b[38;5;33m          Proteins          \u001b[0m\u001b[38;5;33m \u001b[0m│\u001b[38;5;128m \u001b[0m\u001b[38;5;128m  0   \u001b[0m\u001b[38;5;128m \u001b[0m│\n",
       "│\u001b[38;5;33m \u001b[0m\u001b[38;5;33mExtra Categorical Covariates\u001b[0m\u001b[38;5;33m \u001b[0m│\u001b[38;5;128m \u001b[0m\u001b[38;5;128m  0   \u001b[0m\u001b[38;5;128m \u001b[0m│\n",
       "│\u001b[38;5;33m \u001b[0m\u001b[38;5;33mExtra Continuous Covariates \u001b[0m\u001b[38;5;33m \u001b[0m│\u001b[38;5;128m \u001b[0m\u001b[38;5;128m  0   \u001b[0m\u001b[38;5;128m \u001b[0m│\n",
       "└──────────────────────────────┴────────┘\n"
      ]
     },
     "metadata": {},
     "output_type": "display_data"
    },
    {
     "data": {
      "text/html": [
       "<pre style=\"white-space:pre;overflow-x:auto;line-height:normal;font-family:Menlo,'DejaVu Sans Mono',consolas,'Courier New',monospace\"><span style=\"font-style: italic\">             SCVI Data Registry              </span>\n",
       "┏━━━━━━━━━━━━━━━┳━━━━━━━━━━━━━━━━━━━━━━━━━━━┓\n",
       "┃<span style=\"font-weight: bold\">     Data      </span>┃<span style=\"font-weight: bold\">    scvi-tools Location    </span>┃\n",
       "┡━━━━━━━━━━━━━━━╇━━━━━━━━━━━━━━━━━━━━━━━━━━━┩\n",
       "│<span style=\"color: #0087ff; text-decoration-color: #0087ff\">       X       </span>│<span style=\"color: #af00d7; text-decoration-color: #af00d7\">          adata.X          </span>│\n",
       "│<span style=\"color: #0087ff; text-decoration-color: #0087ff\"> batch_indices </span>│<span style=\"color: #af00d7; text-decoration-color: #af00d7\"> adata.obs['_scvi_batch']  </span>│\n",
       "│<span style=\"color: #0087ff; text-decoration-color: #0087ff\">    labels     </span>│<span style=\"color: #af00d7; text-decoration-color: #af00d7\"> adata.obs['_scvi_labels'] </span>│\n",
       "└───────────────┴───────────────────────────┘\n",
       "</pre>\n"
      ],
      "text/plain": [
       "\u001b[3m             SCVI Data Registry              \u001b[0m\n",
       "┏━━━━━━━━━━━━━━━┳━━━━━━━━━━━━━━━━━━━━━━━━━━━┓\n",
       "┃\u001b[1m \u001b[0m\u001b[1m    Data     \u001b[0m\u001b[1m \u001b[0m┃\u001b[1m \u001b[0m\u001b[1m   scvi-tools Location   \u001b[0m\u001b[1m \u001b[0m┃\n",
       "┡━━━━━━━━━━━━━━━╇━━━━━━━━━━━━━━━━━━━━━━━━━━━┩\n",
       "│\u001b[38;5;33m \u001b[0m\u001b[38;5;33m      X      \u001b[0m\u001b[38;5;33m \u001b[0m│\u001b[38;5;128m \u001b[0m\u001b[38;5;128m         adata.X         \u001b[0m\u001b[38;5;128m \u001b[0m│\n",
       "│\u001b[38;5;33m \u001b[0m\u001b[38;5;33mbatch_indices\u001b[0m\u001b[38;5;33m \u001b[0m│\u001b[38;5;128m \u001b[0m\u001b[38;5;128madata.obs['_scvi_batch'] \u001b[0m\u001b[38;5;128m \u001b[0m│\n",
       "│\u001b[38;5;33m \u001b[0m\u001b[38;5;33m   labels    \u001b[0m\u001b[38;5;33m \u001b[0m│\u001b[38;5;128m \u001b[0m\u001b[38;5;128madata.obs['_scvi_labels']\u001b[0m\u001b[38;5;128m \u001b[0m│\n",
       "└───────────────┴───────────────────────────┘\n"
      ]
     },
     "metadata": {},
     "output_type": "display_data"
    },
    {
     "data": {
      "text/html": [
       "<pre style=\"white-space:pre;overflow-x:auto;line-height:normal;font-family:Menlo,'DejaVu Sans Mono',consolas,'Courier New',monospace\"><span style=\"font-style: italic\">                                      Label Categories                                       </span>\n",
       "┏━━━━━━━━━━━━━━━━━━━━━━━━━┳━━━━━━━━━━━━━━━━━━━━━━━━━━━━━━━━━━━━━━━━━━━━┳━━━━━━━━━━━━━━━━━━━━┓\n",
       "┃<span style=\"font-weight: bold\">     Source Location     </span>┃<span style=\"font-weight: bold\">                 Categories                 </span>┃<span style=\"font-weight: bold\"> scvi-tools Encodin </span>┃\n",
       "┡━━━━━━━━━━━━━━━━━━━━━━━━━╇━━━━━━━━━━━━━━━━━━━━━━━━━━━━━━━━━━━━━━━━━━━━╇━━━━━━━━━━━━━━━━━━━━┩\n",
       "│<span style=\"color: #0087ff; text-decoration-color: #0087ff\"> adata.obs['fine_grain'] </span>│<span style=\"color: #008000; text-decoration-color: #008000\">          AtrialCardiomyocytesLeft          </span>│<span style=\"color: #af00d7; text-decoration-color: #af00d7\">         0          </span>│\n",
       "│<span style=\"color: #0087ff; text-decoration-color: #0087ff\">                         </span>│<span style=\"color: #008000; text-decoration-color: #008000\">         AtrialCardiomyocytesRight          </span>│<span style=\"color: #af00d7; text-decoration-color: #af00d7\">         1          </span>│\n",
       "│<span style=\"color: #0087ff; text-decoration-color: #0087ff\">                         </span>│<span style=\"color: #008000; text-decoration-color: #008000\">    VentricularCardiomyocytesLeftCompact    </span>│<span style=\"color: #af00d7; text-decoration-color: #af00d7\">         2          </span>│\n",
       "│<span style=\"color: #0087ff; text-decoration-color: #0087ff\">                         </span>│<span style=\"color: #008000; text-decoration-color: #008000\">   VentricularCardiomyocytesRightCompact    </span>│<span style=\"color: #af00d7; text-decoration-color: #af00d7\">         3          </span>│\n",
       "│<span style=\"color: #0087ff; text-decoration-color: #0087ff\">                         </span>│<span style=\"color: #008000; text-decoration-color: #008000\"> VentricularCardiomyocytesLeftTrabeculated  </span>│<span style=\"color: #af00d7; text-decoration-color: #af00d7\">         4          </span>│\n",
       "│<span style=\"color: #0087ff; text-decoration-color: #0087ff\">                         </span>│<span style=\"color: #008000; text-decoration-color: #008000\"> VentricularCardiomyocytesRightTrabeculated </span>│<span style=\"color: #af00d7; text-decoration-color: #af00d7\">         5          </span>│\n",
       "│<span style=\"color: #0087ff; text-decoration-color: #0087ff\">                         </span>│<span style=\"color: #008000; text-decoration-color: #008000\">        SinoatrialNodeCardiomyocytes        </span>│<span style=\"color: #af00d7; text-decoration-color: #af00d7\">         6          </span>│\n",
       "│<span style=\"color: #0087ff; text-decoration-color: #0087ff\">                         </span>│<span style=\"color: #008000; text-decoration-color: #008000\">     AtrioventricularNodeCardiomyocytes     </span>│<span style=\"color: #af00d7; text-decoration-color: #af00d7\">         7          </span>│\n",
       "│<span style=\"color: #0087ff; text-decoration-color: #0087ff\">                         </span>│<span style=\"color: #008000; text-decoration-color: #008000\">    VentricularConductionSystemProximal     </span>│<span style=\"color: #af00d7; text-decoration-color: #af00d7\">         8          </span>│\n",
       "│<span style=\"color: #0087ff; text-decoration-color: #0087ff\">                         </span>│<span style=\"color: #008000; text-decoration-color: #008000\">     VentricularConductionSystemDistal      </span>│<span style=\"color: #af00d7; text-decoration-color: #af00d7\">         9          </span>│\n",
       "│<span style=\"color: #0087ff; text-decoration-color: #0087ff\">                         </span>│<span style=\"color: #008000; text-decoration-color: #008000\">     GreatVesselAdventitialFibroblasts      </span>│<span style=\"color: #af00d7; text-decoration-color: #af00d7\">         10         </span>│\n",
       "│<span style=\"color: #0087ff; text-decoration-color: #0087ff\">                         </span>│<span style=\"color: #008000; text-decoration-color: #008000\">    CoronaryVesselAdventitialFibroblasts    </span>│<span style=\"color: #af00d7; text-decoration-color: #af00d7\">         11         </span>│\n",
       "│<span style=\"color: #0087ff; text-decoration-color: #0087ff\">                         </span>│<span style=\"color: #008000; text-decoration-color: #008000\">     MyocardialInterstitialFibroblasts1     </span>│<span style=\"color: #af00d7; text-decoration-color: #af00d7\">         12         </span>│\n",
       "│<span style=\"color: #0087ff; text-decoration-color: #0087ff\">                         </span>│<span style=\"color: #008000; text-decoration-color: #008000\">     MyocardialInterstitialFibroblasts2     </span>│<span style=\"color: #af00d7; text-decoration-color: #af00d7\">         13         </span>│\n",
       "│<span style=\"color: #0087ff; text-decoration-color: #0087ff\">                         </span>│<span style=\"color: #008000; text-decoration-color: #008000\">               Myofibroblasts               </span>│<span style=\"color: #af00d7; text-decoration-color: #af00d7\">         14         </span>│\n",
       "│<span style=\"color: #0087ff; text-decoration-color: #0087ff\">                         </span>│<span style=\"color: #008000; text-decoration-color: #008000\">    LymphNodeFibroblasticReticularCells     </span>│<span style=\"color: #af00d7; text-decoration-color: #af00d7\">         15         </span>│\n",
       "│<span style=\"color: #0087ff; text-decoration-color: #0087ff\">                         </span>│<span style=\"color: #008000; text-decoration-color: #008000\">           ValveInterstitialCells           </span>│<span style=\"color: #af00d7; text-decoration-color: #af00d7\">         16         </span>│\n",
       "│<span style=\"color: #0087ff; text-decoration-color: #0087ff\">                         </span>│<span style=\"color: #008000; text-decoration-color: #008000\">        GreatVesselSmoothMuscleCells        </span>│<span style=\"color: #af00d7; text-decoration-color: #af00d7\">         17         </span>│\n",
       "│<span style=\"color: #0087ff; text-decoration-color: #0087ff\">                         </span>│<span style=\"color: #008000; text-decoration-color: #008000\">         CoronarySmoothMuscleCells          </span>│<span style=\"color: #af00d7; text-decoration-color: #af00d7\">         18         </span>│\n",
       "│<span style=\"color: #0087ff; text-decoration-color: #0087ff\">                         </span>│<span style=\"color: #008000; text-decoration-color: #008000\">             CoronaryPericytes              </span>│<span style=\"color: #af00d7; text-decoration-color: #af00d7\">         19         </span>│\n",
       "│<span style=\"color: #0087ff; text-decoration-color: #0087ff\">                         </span>│<span style=\"color: #008000; text-decoration-color: #008000\">    GreatVesselArterialEndothelialCells     </span>│<span style=\"color: #af00d7; text-decoration-color: #af00d7\">         20         </span>│\n",
       "│<span style=\"color: #0087ff; text-decoration-color: #0087ff\">                         </span>│<span style=\"color: #008000; text-decoration-color: #008000\">     GreatVesselVenousEndothelialCells      </span>│<span style=\"color: #af00d7; text-decoration-color: #af00d7\">         21         </span>│\n",
       "│<span style=\"color: #0087ff; text-decoration-color: #0087ff\">                         </span>│<span style=\"color: #008000; text-decoration-color: #008000\">      CoronaryArterialEndothelialCells      </span>│<span style=\"color: #af00d7; text-decoration-color: #af00d7\">         22         </span>│\n",
       "│<span style=\"color: #0087ff; text-decoration-color: #0087ff\">                         </span>│<span style=\"color: #008000; text-decoration-color: #008000\">       CoronaryVenousEndothelialCells       </span>│<span style=\"color: #af00d7; text-decoration-color: #af00d7\">         23         </span>│\n",
       "│<span style=\"color: #0087ff; text-decoration-color: #0087ff\">                         </span>│<span style=\"color: #008000; text-decoration-color: #008000\">     CoronaryCapillaryEndothelialCells      </span>│<span style=\"color: #af00d7; text-decoration-color: #af00d7\">         24         </span>│\n",
       "│<span style=\"color: #0087ff; text-decoration-color: #0087ff\">                         </span>│<span style=\"color: #008000; text-decoration-color: #008000\">              EndocardialCells              </span>│<span style=\"color: #af00d7; text-decoration-color: #af00d7\">         25         </span>│\n",
       "│<span style=\"color: #0087ff; text-decoration-color: #0087ff\">                         </span>│<span style=\"color: #008000; text-decoration-color: #008000\">          EndocardialCushionCells           </span>│<span style=\"color: #af00d7; text-decoration-color: #af00d7\">         26         </span>│\n",
       "│<span style=\"color: #0087ff; text-decoration-color: #0087ff\">                         </span>│<span style=\"color: #008000; text-decoration-color: #008000\">           ValveEndothelialCells            </span>│<span style=\"color: #af00d7; text-decoration-color: #af00d7\">         27         </span>│\n",
       "│<span style=\"color: #0087ff; text-decoration-color: #0087ff\">                         </span>│<span style=\"color: #008000; text-decoration-color: #008000\">         LymphaticEndothelialCells          </span>│<span style=\"color: #af00d7; text-decoration-color: #af00d7\">         28         </span>│\n",
       "│<span style=\"color: #0087ff; text-decoration-color: #0087ff\">                         </span>│<span style=\"color: #008000; text-decoration-color: #008000\">         MesothelialEpicardialCells         </span>│<span style=\"color: #af00d7; text-decoration-color: #af00d7\">         29         </span>│\n",
       "│<span style=\"color: #0087ff; text-decoration-color: #0087ff\">                         </span>│<span style=\"color: #008000; text-decoration-color: #008000\">           EpicardiumDerivedCells           </span>│<span style=\"color: #af00d7; text-decoration-color: #af00d7\">         30         </span>│\n",
       "│<span style=\"color: #0087ff; text-decoration-color: #0087ff\">                         </span>│<span style=\"color: #008000; text-decoration-color: #008000\">              NeuronPrecursors              </span>│<span style=\"color: #af00d7; text-decoration-color: #af00d7\">         31         </span>│\n",
       "│<span style=\"color: #0087ff; text-decoration-color: #0087ff\">                         </span>│<span style=\"color: #008000; text-decoration-color: #008000\">              ChromaffinCells               </span>│<span style=\"color: #af00d7; text-decoration-color: #af00d7\">         32         </span>│\n",
       "│<span style=\"color: #0087ff; text-decoration-color: #0087ff\">                         </span>│<span style=\"color: #008000; text-decoration-color: #008000\">             SympatheticNeurons             </span>│<span style=\"color: #af00d7; text-decoration-color: #af00d7\">         33         </span>│\n",
       "│<span style=\"color: #0087ff; text-decoration-color: #0087ff\">                         </span>│<span style=\"color: #008000; text-decoration-color: #008000\">           ParaympatheticNeurons            </span>│<span style=\"color: #af00d7; text-decoration-color: #af00d7\">         34         </span>│\n",
       "│<span style=\"color: #0087ff; text-decoration-color: #0087ff\">                         </span>│<span style=\"color: #008000; text-decoration-color: #008000\">           SchwannCellPrecursors            </span>│<span style=\"color: #af00d7; text-decoration-color: #af00d7\">         35         </span>│\n",
       "│<span style=\"color: #0087ff; text-decoration-color: #0087ff\">                         </span>│<span style=\"color: #008000; text-decoration-color: #008000\">                SchwannCells                </span>│<span style=\"color: #af00d7; text-decoration-color: #af00d7\">         36         </span>│\n",
       "│<span style=\"color: #0087ff; text-decoration-color: #0087ff\">                         </span>│<span style=\"color: #008000; text-decoration-color: #008000\">              MonocytesMPOpos               </span>│<span style=\"color: #af00d7; text-decoration-color: #af00d7\">         37         </span>│\n",
       "│<span style=\"color: #0087ff; text-decoration-color: #0087ff\">                         </span>│<span style=\"color: #008000; text-decoration-color: #008000\">                 Monocytes                  </span>│<span style=\"color: #af00d7; text-decoration-color: #af00d7\">         38         </span>│\n",
       "│<span style=\"color: #0087ff; text-decoration-color: #0087ff\">                         </span>│<span style=\"color: #008000; text-decoration-color: #008000\">            MonocyteDerivedCells            </span>│<span style=\"color: #af00d7; text-decoration-color: #af00d7\">         39         </span>│\n",
       "│<span style=\"color: #0087ff; text-decoration-color: #0087ff\">                         </span>│<span style=\"color: #008000; text-decoration-color: #008000\">            MacrophagesCX3CR1pos            </span>│<span style=\"color: #af00d7; text-decoration-color: #af00d7\">         40         </span>│\n",
       "│<span style=\"color: #0087ff; text-decoration-color: #0087ff\">                         </span>│<span style=\"color: #008000; text-decoration-color: #008000\">            MacrophagesTIMD4pos             </span>│<span style=\"color: #af00d7; text-decoration-color: #af00d7\">         41         </span>│\n",
       "│<span style=\"color: #0087ff; text-decoration-color: #0087ff\">                         </span>│<span style=\"color: #008000; text-decoration-color: #008000\">            MacrophagesLYVE1pos             </span>│<span style=\"color: #af00d7; text-decoration-color: #af00d7\">         42         </span>│\n",
       "│<span style=\"color: #0087ff; text-decoration-color: #0087ff\">                         </span>│<span style=\"color: #008000; text-decoration-color: #008000\">             MacrophagesATF3pos             </span>│<span style=\"color: #af00d7; text-decoration-color: #af00d7\">         43         </span>│\n",
       "│<span style=\"color: #0087ff; text-decoration-color: #0087ff\">                         </span>│<span style=\"color: #008000; text-decoration-color: #008000\">            DendriticCellsType1             </span>│<span style=\"color: #af00d7; text-decoration-color: #af00d7\">         44         </span>│\n",
       "│<span style=\"color: #0087ff; text-decoration-color: #0087ff\">                         </span>│<span style=\"color: #008000; text-decoration-color: #008000\">            DendriticCellsMature            </span>│<span style=\"color: #af00d7; text-decoration-color: #af00d7\">         45         </span>│\n",
       "│<span style=\"color: #0087ff; text-decoration-color: #0087ff\">                         </span>│<span style=\"color: #008000; text-decoration-color: #008000\">         PlasmacytoidDendriticCells         </span>│<span style=\"color: #af00d7; text-decoration-color: #af00d7\">         46         </span>│\n",
       "│<span style=\"color: #0087ff; text-decoration-color: #0087ff\">                         </span>│<span style=\"color: #008000; text-decoration-color: #008000\">                 MastCells                  </span>│<span style=\"color: #af00d7; text-decoration-color: #af00d7\">         47         </span>│\n",
       "│<span style=\"color: #0087ff; text-decoration-color: #0087ff\">                         </span>│<span style=\"color: #008000; text-decoration-color: #008000\">               Megakaryocytes               </span>│<span style=\"color: #af00d7; text-decoration-color: #af00d7\">         48         </span>│\n",
       "│<span style=\"color: #0087ff; text-decoration-color: #0087ff\">                         </span>│<span style=\"color: #008000; text-decoration-color: #008000\">                TCellsCD4pos                </span>│<span style=\"color: #af00d7; text-decoration-color: #af00d7\">         49         </span>│\n",
       "│<span style=\"color: #0087ff; text-decoration-color: #0087ff\">                         </span>│<span style=\"color: #008000; text-decoration-color: #008000\">                TCellsCD8pos                </span>│<span style=\"color: #af00d7; text-decoration-color: #af00d7\">         50         </span>│\n",
       "│<span style=\"color: #0087ff; text-decoration-color: #0087ff\">                         </span>│<span style=\"color: #008000; text-decoration-color: #008000\">                TregsCD4pos                 </span>│<span style=\"color: #af00d7; text-decoration-color: #af00d7\">         51         </span>│\n",
       "│<span style=\"color: #0087ff; text-decoration-color: #0087ff\">                         </span>│<span style=\"color: #008000; text-decoration-color: #008000\">                 ProBCells                  </span>│<span style=\"color: #af00d7; text-decoration-color: #af00d7\">         52         </span>│\n",
       "│<span style=\"color: #0087ff; text-decoration-color: #0087ff\">                         </span>│<span style=\"color: #008000; text-decoration-color: #008000\">                   BCells                   </span>│<span style=\"color: #af00d7; text-decoration-color: #af00d7\">         53         </span>│\n",
       "│<span style=\"color: #0087ff; text-decoration-color: #0087ff\">                         </span>│<span style=\"color: #008000; text-decoration-color: #008000\">               BCellsMS4A1pos               </span>│<span style=\"color: #af00d7; text-decoration-color: #af00d7\">         54         </span>│\n",
       "│<span style=\"color: #0087ff; text-decoration-color: #0087ff\">                         </span>│<span style=\"color: #008000; text-decoration-color: #008000\">             NaturalKillerCells             </span>│<span style=\"color: #af00d7; text-decoration-color: #af00d7\">         55         </span>│\n",
       "│<span style=\"color: #0087ff; text-decoration-color: #0087ff\">                         </span>│<span style=\"color: #008000; text-decoration-color: #008000\">            InnateLymphoidCells             </span>│<span style=\"color: #af00d7; text-decoration-color: #af00d7\">         56         </span>│\n",
       "└─────────────────────────┴────────────────────────────────────────────┴────────────────────┘\n",
       "</pre>\n"
      ],
      "text/plain": [
       "\u001b[3m                                      Label Categories                                       \u001b[0m\n",
       "┏━━━━━━━━━━━━━━━━━━━━━━━━━┳━━━━━━━━━━━━━━━━━━━━━━━━━━━━━━━━━━━━━━━━━━━━┳━━━━━━━━━━━━━━━━━━━━┓\n",
       "┃\u001b[1m \u001b[0m\u001b[1m    Source Location    \u001b[0m\u001b[1m \u001b[0m┃\u001b[1m \u001b[0m\u001b[1m                Categories                \u001b[0m\u001b[1m \u001b[0m┃\u001b[1m \u001b[0m\u001b[1mscvi-tools Encodin\u001b[0m\u001b[1m \u001b[0m┃\n",
       "┡━━━━━━━━━━━━━━━━━━━━━━━━━╇━━━━━━━━━━━━━━━━━━━━━━━━━━━━━━━━━━━━━━━━━━━━╇━━━━━━━━━━━━━━━━━━━━┩\n",
       "│\u001b[38;5;33m \u001b[0m\u001b[38;5;33madata.obs['fine_grain']\u001b[0m\u001b[38;5;33m \u001b[0m│\u001b[32m \u001b[0m\u001b[32m         AtrialCardiomyocytesLeft         \u001b[0m\u001b[32m \u001b[0m│\u001b[38;5;128m \u001b[0m\u001b[38;5;128m        0         \u001b[0m\u001b[38;5;128m \u001b[0m│\n",
       "│\u001b[38;5;33m \u001b[0m\u001b[38;5;33m                       \u001b[0m\u001b[38;5;33m \u001b[0m│\u001b[32m \u001b[0m\u001b[32m        AtrialCardiomyocytesRight         \u001b[0m\u001b[32m \u001b[0m│\u001b[38;5;128m \u001b[0m\u001b[38;5;128m        1         \u001b[0m\u001b[38;5;128m \u001b[0m│\n",
       "│\u001b[38;5;33m \u001b[0m\u001b[38;5;33m                       \u001b[0m\u001b[38;5;33m \u001b[0m│\u001b[32m \u001b[0m\u001b[32m   VentricularCardiomyocytesLeftCompact   \u001b[0m\u001b[32m \u001b[0m│\u001b[38;5;128m \u001b[0m\u001b[38;5;128m        2         \u001b[0m\u001b[38;5;128m \u001b[0m│\n",
       "│\u001b[38;5;33m \u001b[0m\u001b[38;5;33m                       \u001b[0m\u001b[38;5;33m \u001b[0m│\u001b[32m \u001b[0m\u001b[32m  VentricularCardiomyocytesRightCompact   \u001b[0m\u001b[32m \u001b[0m│\u001b[38;5;128m \u001b[0m\u001b[38;5;128m        3         \u001b[0m\u001b[38;5;128m \u001b[0m│\n",
       "│\u001b[38;5;33m \u001b[0m\u001b[38;5;33m                       \u001b[0m\u001b[38;5;33m \u001b[0m│\u001b[32m \u001b[0m\u001b[32mVentricularCardiomyocytesLeftTrabeculated \u001b[0m\u001b[32m \u001b[0m│\u001b[38;5;128m \u001b[0m\u001b[38;5;128m        4         \u001b[0m\u001b[38;5;128m \u001b[0m│\n",
       "│\u001b[38;5;33m \u001b[0m\u001b[38;5;33m                       \u001b[0m\u001b[38;5;33m \u001b[0m│\u001b[32m \u001b[0m\u001b[32mVentricularCardiomyocytesRightTrabeculated\u001b[0m\u001b[32m \u001b[0m│\u001b[38;5;128m \u001b[0m\u001b[38;5;128m        5         \u001b[0m\u001b[38;5;128m \u001b[0m│\n",
       "│\u001b[38;5;33m \u001b[0m\u001b[38;5;33m                       \u001b[0m\u001b[38;5;33m \u001b[0m│\u001b[32m \u001b[0m\u001b[32m       SinoatrialNodeCardiomyocytes       \u001b[0m\u001b[32m \u001b[0m│\u001b[38;5;128m \u001b[0m\u001b[38;5;128m        6         \u001b[0m\u001b[38;5;128m \u001b[0m│\n",
       "│\u001b[38;5;33m \u001b[0m\u001b[38;5;33m                       \u001b[0m\u001b[38;5;33m \u001b[0m│\u001b[32m \u001b[0m\u001b[32m    AtrioventricularNodeCardiomyocytes    \u001b[0m\u001b[32m \u001b[0m│\u001b[38;5;128m \u001b[0m\u001b[38;5;128m        7         \u001b[0m\u001b[38;5;128m \u001b[0m│\n",
       "│\u001b[38;5;33m \u001b[0m\u001b[38;5;33m                       \u001b[0m\u001b[38;5;33m \u001b[0m│\u001b[32m \u001b[0m\u001b[32m   VentricularConductionSystemProximal    \u001b[0m\u001b[32m \u001b[0m│\u001b[38;5;128m \u001b[0m\u001b[38;5;128m        8         \u001b[0m\u001b[38;5;128m \u001b[0m│\n",
       "│\u001b[38;5;33m \u001b[0m\u001b[38;5;33m                       \u001b[0m\u001b[38;5;33m \u001b[0m│\u001b[32m \u001b[0m\u001b[32m    VentricularConductionSystemDistal     \u001b[0m\u001b[32m \u001b[0m│\u001b[38;5;128m \u001b[0m\u001b[38;5;128m        9         \u001b[0m\u001b[38;5;128m \u001b[0m│\n",
       "│\u001b[38;5;33m \u001b[0m\u001b[38;5;33m                       \u001b[0m\u001b[38;5;33m \u001b[0m│\u001b[32m \u001b[0m\u001b[32m    GreatVesselAdventitialFibroblasts     \u001b[0m\u001b[32m \u001b[0m│\u001b[38;5;128m \u001b[0m\u001b[38;5;128m        10        \u001b[0m\u001b[38;5;128m \u001b[0m│\n",
       "│\u001b[38;5;33m \u001b[0m\u001b[38;5;33m                       \u001b[0m\u001b[38;5;33m \u001b[0m│\u001b[32m \u001b[0m\u001b[32m   CoronaryVesselAdventitialFibroblasts   \u001b[0m\u001b[32m \u001b[0m│\u001b[38;5;128m \u001b[0m\u001b[38;5;128m        11        \u001b[0m\u001b[38;5;128m \u001b[0m│\n",
       "│\u001b[38;5;33m \u001b[0m\u001b[38;5;33m                       \u001b[0m\u001b[38;5;33m \u001b[0m│\u001b[32m \u001b[0m\u001b[32m    MyocardialInterstitialFibroblasts1    \u001b[0m\u001b[32m \u001b[0m│\u001b[38;5;128m \u001b[0m\u001b[38;5;128m        12        \u001b[0m\u001b[38;5;128m \u001b[0m│\n",
       "│\u001b[38;5;33m \u001b[0m\u001b[38;5;33m                       \u001b[0m\u001b[38;5;33m \u001b[0m│\u001b[32m \u001b[0m\u001b[32m    MyocardialInterstitialFibroblasts2    \u001b[0m\u001b[32m \u001b[0m│\u001b[38;5;128m \u001b[0m\u001b[38;5;128m        13        \u001b[0m\u001b[38;5;128m \u001b[0m│\n",
       "│\u001b[38;5;33m \u001b[0m\u001b[38;5;33m                       \u001b[0m\u001b[38;5;33m \u001b[0m│\u001b[32m \u001b[0m\u001b[32m              Myofibroblasts              \u001b[0m\u001b[32m \u001b[0m│\u001b[38;5;128m \u001b[0m\u001b[38;5;128m        14        \u001b[0m\u001b[38;5;128m \u001b[0m│\n",
       "│\u001b[38;5;33m \u001b[0m\u001b[38;5;33m                       \u001b[0m\u001b[38;5;33m \u001b[0m│\u001b[32m \u001b[0m\u001b[32m   LymphNodeFibroblasticReticularCells    \u001b[0m\u001b[32m \u001b[0m│\u001b[38;5;128m \u001b[0m\u001b[38;5;128m        15        \u001b[0m\u001b[38;5;128m \u001b[0m│\n",
       "│\u001b[38;5;33m \u001b[0m\u001b[38;5;33m                       \u001b[0m\u001b[38;5;33m \u001b[0m│\u001b[32m \u001b[0m\u001b[32m          ValveInterstitialCells          \u001b[0m\u001b[32m \u001b[0m│\u001b[38;5;128m \u001b[0m\u001b[38;5;128m        16        \u001b[0m\u001b[38;5;128m \u001b[0m│\n",
       "│\u001b[38;5;33m \u001b[0m\u001b[38;5;33m                       \u001b[0m\u001b[38;5;33m \u001b[0m│\u001b[32m \u001b[0m\u001b[32m       GreatVesselSmoothMuscleCells       \u001b[0m\u001b[32m \u001b[0m│\u001b[38;5;128m \u001b[0m\u001b[38;5;128m        17        \u001b[0m\u001b[38;5;128m \u001b[0m│\n",
       "│\u001b[38;5;33m \u001b[0m\u001b[38;5;33m                       \u001b[0m\u001b[38;5;33m \u001b[0m│\u001b[32m \u001b[0m\u001b[32m        CoronarySmoothMuscleCells         \u001b[0m\u001b[32m \u001b[0m│\u001b[38;5;128m \u001b[0m\u001b[38;5;128m        18        \u001b[0m\u001b[38;5;128m \u001b[0m│\n",
       "│\u001b[38;5;33m \u001b[0m\u001b[38;5;33m                       \u001b[0m\u001b[38;5;33m \u001b[0m│\u001b[32m \u001b[0m\u001b[32m            CoronaryPericytes             \u001b[0m\u001b[32m \u001b[0m│\u001b[38;5;128m \u001b[0m\u001b[38;5;128m        19        \u001b[0m\u001b[38;5;128m \u001b[0m│\n",
       "│\u001b[38;5;33m \u001b[0m\u001b[38;5;33m                       \u001b[0m\u001b[38;5;33m \u001b[0m│\u001b[32m \u001b[0m\u001b[32m   GreatVesselArterialEndothelialCells    \u001b[0m\u001b[32m \u001b[0m│\u001b[38;5;128m \u001b[0m\u001b[38;5;128m        20        \u001b[0m\u001b[38;5;128m \u001b[0m│\n",
       "│\u001b[38;5;33m \u001b[0m\u001b[38;5;33m                       \u001b[0m\u001b[38;5;33m \u001b[0m│\u001b[32m \u001b[0m\u001b[32m    GreatVesselVenousEndothelialCells     \u001b[0m\u001b[32m \u001b[0m│\u001b[38;5;128m \u001b[0m\u001b[38;5;128m        21        \u001b[0m\u001b[38;5;128m \u001b[0m│\n",
       "│\u001b[38;5;33m \u001b[0m\u001b[38;5;33m                       \u001b[0m\u001b[38;5;33m \u001b[0m│\u001b[32m \u001b[0m\u001b[32m     CoronaryArterialEndothelialCells     \u001b[0m\u001b[32m \u001b[0m│\u001b[38;5;128m \u001b[0m\u001b[38;5;128m        22        \u001b[0m\u001b[38;5;128m \u001b[0m│\n",
       "│\u001b[38;5;33m \u001b[0m\u001b[38;5;33m                       \u001b[0m\u001b[38;5;33m \u001b[0m│\u001b[32m \u001b[0m\u001b[32m      CoronaryVenousEndothelialCells      \u001b[0m\u001b[32m \u001b[0m│\u001b[38;5;128m \u001b[0m\u001b[38;5;128m        23        \u001b[0m\u001b[38;5;128m \u001b[0m│\n",
       "│\u001b[38;5;33m \u001b[0m\u001b[38;5;33m                       \u001b[0m\u001b[38;5;33m \u001b[0m│\u001b[32m \u001b[0m\u001b[32m    CoronaryCapillaryEndothelialCells     \u001b[0m\u001b[32m \u001b[0m│\u001b[38;5;128m \u001b[0m\u001b[38;5;128m        24        \u001b[0m\u001b[38;5;128m \u001b[0m│\n",
       "│\u001b[38;5;33m \u001b[0m\u001b[38;5;33m                       \u001b[0m\u001b[38;5;33m \u001b[0m│\u001b[32m \u001b[0m\u001b[32m             EndocardialCells             \u001b[0m\u001b[32m \u001b[0m│\u001b[38;5;128m \u001b[0m\u001b[38;5;128m        25        \u001b[0m\u001b[38;5;128m \u001b[0m│\n",
       "│\u001b[38;5;33m \u001b[0m\u001b[38;5;33m                       \u001b[0m\u001b[38;5;33m \u001b[0m│\u001b[32m \u001b[0m\u001b[32m         EndocardialCushionCells          \u001b[0m\u001b[32m \u001b[0m│\u001b[38;5;128m \u001b[0m\u001b[38;5;128m        26        \u001b[0m\u001b[38;5;128m \u001b[0m│\n",
       "│\u001b[38;5;33m \u001b[0m\u001b[38;5;33m                       \u001b[0m\u001b[38;5;33m \u001b[0m│\u001b[32m \u001b[0m\u001b[32m          ValveEndothelialCells           \u001b[0m\u001b[32m \u001b[0m│\u001b[38;5;128m \u001b[0m\u001b[38;5;128m        27        \u001b[0m\u001b[38;5;128m \u001b[0m│\n",
       "│\u001b[38;5;33m \u001b[0m\u001b[38;5;33m                       \u001b[0m\u001b[38;5;33m \u001b[0m│\u001b[32m \u001b[0m\u001b[32m        LymphaticEndothelialCells         \u001b[0m\u001b[32m \u001b[0m│\u001b[38;5;128m \u001b[0m\u001b[38;5;128m        28        \u001b[0m\u001b[38;5;128m \u001b[0m│\n",
       "│\u001b[38;5;33m \u001b[0m\u001b[38;5;33m                       \u001b[0m\u001b[38;5;33m \u001b[0m│\u001b[32m \u001b[0m\u001b[32m        MesothelialEpicardialCells        \u001b[0m\u001b[32m \u001b[0m│\u001b[38;5;128m \u001b[0m\u001b[38;5;128m        29        \u001b[0m\u001b[38;5;128m \u001b[0m│\n",
       "│\u001b[38;5;33m \u001b[0m\u001b[38;5;33m                       \u001b[0m\u001b[38;5;33m \u001b[0m│\u001b[32m \u001b[0m\u001b[32m          EpicardiumDerivedCells          \u001b[0m\u001b[32m \u001b[0m│\u001b[38;5;128m \u001b[0m\u001b[38;5;128m        30        \u001b[0m\u001b[38;5;128m \u001b[0m│\n",
       "│\u001b[38;5;33m \u001b[0m\u001b[38;5;33m                       \u001b[0m\u001b[38;5;33m \u001b[0m│\u001b[32m \u001b[0m\u001b[32m             NeuronPrecursors             \u001b[0m\u001b[32m \u001b[0m│\u001b[38;5;128m \u001b[0m\u001b[38;5;128m        31        \u001b[0m\u001b[38;5;128m \u001b[0m│\n",
       "│\u001b[38;5;33m \u001b[0m\u001b[38;5;33m                       \u001b[0m\u001b[38;5;33m \u001b[0m│\u001b[32m \u001b[0m\u001b[32m             ChromaffinCells              \u001b[0m\u001b[32m \u001b[0m│\u001b[38;5;128m \u001b[0m\u001b[38;5;128m        32        \u001b[0m\u001b[38;5;128m \u001b[0m│\n",
       "│\u001b[38;5;33m \u001b[0m\u001b[38;5;33m                       \u001b[0m\u001b[38;5;33m \u001b[0m│\u001b[32m \u001b[0m\u001b[32m            SympatheticNeurons            \u001b[0m\u001b[32m \u001b[0m│\u001b[38;5;128m \u001b[0m\u001b[38;5;128m        33        \u001b[0m\u001b[38;5;128m \u001b[0m│\n",
       "│\u001b[38;5;33m \u001b[0m\u001b[38;5;33m                       \u001b[0m\u001b[38;5;33m \u001b[0m│\u001b[32m \u001b[0m\u001b[32m          ParaympatheticNeurons           \u001b[0m\u001b[32m \u001b[0m│\u001b[38;5;128m \u001b[0m\u001b[38;5;128m        34        \u001b[0m\u001b[38;5;128m \u001b[0m│\n",
       "│\u001b[38;5;33m \u001b[0m\u001b[38;5;33m                       \u001b[0m\u001b[38;5;33m \u001b[0m│\u001b[32m \u001b[0m\u001b[32m          SchwannCellPrecursors           \u001b[0m\u001b[32m \u001b[0m│\u001b[38;5;128m \u001b[0m\u001b[38;5;128m        35        \u001b[0m\u001b[38;5;128m \u001b[0m│\n",
       "│\u001b[38;5;33m \u001b[0m\u001b[38;5;33m                       \u001b[0m\u001b[38;5;33m \u001b[0m│\u001b[32m \u001b[0m\u001b[32m               SchwannCells               \u001b[0m\u001b[32m \u001b[0m│\u001b[38;5;128m \u001b[0m\u001b[38;5;128m        36        \u001b[0m\u001b[38;5;128m \u001b[0m│\n",
       "│\u001b[38;5;33m \u001b[0m\u001b[38;5;33m                       \u001b[0m\u001b[38;5;33m \u001b[0m│\u001b[32m \u001b[0m\u001b[32m             MonocytesMPOpos              \u001b[0m\u001b[32m \u001b[0m│\u001b[38;5;128m \u001b[0m\u001b[38;5;128m        37        \u001b[0m\u001b[38;5;128m \u001b[0m│\n",
       "│\u001b[38;5;33m \u001b[0m\u001b[38;5;33m                       \u001b[0m\u001b[38;5;33m \u001b[0m│\u001b[32m \u001b[0m\u001b[32m                Monocytes                 \u001b[0m\u001b[32m \u001b[0m│\u001b[38;5;128m \u001b[0m\u001b[38;5;128m        38        \u001b[0m\u001b[38;5;128m \u001b[0m│\n",
       "│\u001b[38;5;33m \u001b[0m\u001b[38;5;33m                       \u001b[0m\u001b[38;5;33m \u001b[0m│\u001b[32m \u001b[0m\u001b[32m           MonocyteDerivedCells           \u001b[0m\u001b[32m \u001b[0m│\u001b[38;5;128m \u001b[0m\u001b[38;5;128m        39        \u001b[0m\u001b[38;5;128m \u001b[0m│\n",
       "│\u001b[38;5;33m \u001b[0m\u001b[38;5;33m                       \u001b[0m\u001b[38;5;33m \u001b[0m│\u001b[32m \u001b[0m\u001b[32m           MacrophagesCX3CR1pos           \u001b[0m\u001b[32m \u001b[0m│\u001b[38;5;128m \u001b[0m\u001b[38;5;128m        40        \u001b[0m\u001b[38;5;128m \u001b[0m│\n",
       "│\u001b[38;5;33m \u001b[0m\u001b[38;5;33m                       \u001b[0m\u001b[38;5;33m \u001b[0m│\u001b[32m \u001b[0m\u001b[32m           MacrophagesTIMD4pos            \u001b[0m\u001b[32m \u001b[0m│\u001b[38;5;128m \u001b[0m\u001b[38;5;128m        41        \u001b[0m\u001b[38;5;128m \u001b[0m│\n",
       "│\u001b[38;5;33m \u001b[0m\u001b[38;5;33m                       \u001b[0m\u001b[38;5;33m \u001b[0m│\u001b[32m \u001b[0m\u001b[32m           MacrophagesLYVE1pos            \u001b[0m\u001b[32m \u001b[0m│\u001b[38;5;128m \u001b[0m\u001b[38;5;128m        42        \u001b[0m\u001b[38;5;128m \u001b[0m│\n",
       "│\u001b[38;5;33m \u001b[0m\u001b[38;5;33m                       \u001b[0m\u001b[38;5;33m \u001b[0m│\u001b[32m \u001b[0m\u001b[32m            MacrophagesATF3pos            \u001b[0m\u001b[32m \u001b[0m│\u001b[38;5;128m \u001b[0m\u001b[38;5;128m        43        \u001b[0m\u001b[38;5;128m \u001b[0m│\n",
       "│\u001b[38;5;33m \u001b[0m\u001b[38;5;33m                       \u001b[0m\u001b[38;5;33m \u001b[0m│\u001b[32m \u001b[0m\u001b[32m           DendriticCellsType1            \u001b[0m\u001b[32m \u001b[0m│\u001b[38;5;128m \u001b[0m\u001b[38;5;128m        44        \u001b[0m\u001b[38;5;128m \u001b[0m│\n",
       "│\u001b[38;5;33m \u001b[0m\u001b[38;5;33m                       \u001b[0m\u001b[38;5;33m \u001b[0m│\u001b[32m \u001b[0m\u001b[32m           DendriticCellsMature           \u001b[0m\u001b[32m \u001b[0m│\u001b[38;5;128m \u001b[0m\u001b[38;5;128m        45        \u001b[0m\u001b[38;5;128m \u001b[0m│\n",
       "│\u001b[38;5;33m \u001b[0m\u001b[38;5;33m                       \u001b[0m\u001b[38;5;33m \u001b[0m│\u001b[32m \u001b[0m\u001b[32m        PlasmacytoidDendriticCells        \u001b[0m\u001b[32m \u001b[0m│\u001b[38;5;128m \u001b[0m\u001b[38;5;128m        46        \u001b[0m\u001b[38;5;128m \u001b[0m│\n",
       "│\u001b[38;5;33m \u001b[0m\u001b[38;5;33m                       \u001b[0m\u001b[38;5;33m \u001b[0m│\u001b[32m \u001b[0m\u001b[32m                MastCells                 \u001b[0m\u001b[32m \u001b[0m│\u001b[38;5;128m \u001b[0m\u001b[38;5;128m        47        \u001b[0m\u001b[38;5;128m \u001b[0m│\n",
       "│\u001b[38;5;33m \u001b[0m\u001b[38;5;33m                       \u001b[0m\u001b[38;5;33m \u001b[0m│\u001b[32m \u001b[0m\u001b[32m              Megakaryocytes              \u001b[0m\u001b[32m \u001b[0m│\u001b[38;5;128m \u001b[0m\u001b[38;5;128m        48        \u001b[0m\u001b[38;5;128m \u001b[0m│\n",
       "│\u001b[38;5;33m \u001b[0m\u001b[38;5;33m                       \u001b[0m\u001b[38;5;33m \u001b[0m│\u001b[32m \u001b[0m\u001b[32m               TCellsCD4pos               \u001b[0m\u001b[32m \u001b[0m│\u001b[38;5;128m \u001b[0m\u001b[38;5;128m        49        \u001b[0m\u001b[38;5;128m \u001b[0m│\n",
       "│\u001b[38;5;33m \u001b[0m\u001b[38;5;33m                       \u001b[0m\u001b[38;5;33m \u001b[0m│\u001b[32m \u001b[0m\u001b[32m               TCellsCD8pos               \u001b[0m\u001b[32m \u001b[0m│\u001b[38;5;128m \u001b[0m\u001b[38;5;128m        50        \u001b[0m\u001b[38;5;128m \u001b[0m│\n",
       "│\u001b[38;5;33m \u001b[0m\u001b[38;5;33m                       \u001b[0m\u001b[38;5;33m \u001b[0m│\u001b[32m \u001b[0m\u001b[32m               TregsCD4pos                \u001b[0m\u001b[32m \u001b[0m│\u001b[38;5;128m \u001b[0m\u001b[38;5;128m        51        \u001b[0m\u001b[38;5;128m \u001b[0m│\n",
       "│\u001b[38;5;33m \u001b[0m\u001b[38;5;33m                       \u001b[0m\u001b[38;5;33m \u001b[0m│\u001b[32m \u001b[0m\u001b[32m                ProBCells                 \u001b[0m\u001b[32m \u001b[0m│\u001b[38;5;128m \u001b[0m\u001b[38;5;128m        52        \u001b[0m\u001b[38;5;128m \u001b[0m│\n",
       "│\u001b[38;5;33m \u001b[0m\u001b[38;5;33m                       \u001b[0m\u001b[38;5;33m \u001b[0m│\u001b[32m \u001b[0m\u001b[32m                  BCells                  \u001b[0m\u001b[32m \u001b[0m│\u001b[38;5;128m \u001b[0m\u001b[38;5;128m        53        \u001b[0m\u001b[38;5;128m \u001b[0m│\n",
       "│\u001b[38;5;33m \u001b[0m\u001b[38;5;33m                       \u001b[0m\u001b[38;5;33m \u001b[0m│\u001b[32m \u001b[0m\u001b[32m              BCellsMS4A1pos              \u001b[0m\u001b[32m \u001b[0m│\u001b[38;5;128m \u001b[0m\u001b[38;5;128m        54        \u001b[0m\u001b[38;5;128m \u001b[0m│\n",
       "│\u001b[38;5;33m \u001b[0m\u001b[38;5;33m                       \u001b[0m\u001b[38;5;33m \u001b[0m│\u001b[32m \u001b[0m\u001b[32m            NaturalKillerCells            \u001b[0m\u001b[32m \u001b[0m│\u001b[38;5;128m \u001b[0m\u001b[38;5;128m        55        \u001b[0m\u001b[38;5;128m \u001b[0m│\n",
       "│\u001b[38;5;33m \u001b[0m\u001b[38;5;33m                       \u001b[0m\u001b[38;5;33m \u001b[0m│\u001b[32m \u001b[0m\u001b[32m           InnateLymphoidCells            \u001b[0m\u001b[32m \u001b[0m│\u001b[38;5;128m \u001b[0m\u001b[38;5;128m        56        \u001b[0m\u001b[38;5;128m \u001b[0m│\n",
       "└─────────────────────────┴────────────────────────────────────────────┴────────────────────┘\n"
      ]
     },
     "metadata": {},
     "output_type": "display_data"
    },
    {
     "data": {
      "text/html": [
       "<pre style=\"white-space:pre;overflow-x:auto;line-height:normal;font-family:Menlo,'DejaVu Sans Mono',consolas,'Courier New',monospace\"><span style=\"font-style: italic\">                             Batch Categories                              </span>\n",
       "┏━━━━━━━━━━━━━━━━━━━━━━━━┳━━━━━━━━━━━━━━━━━━━━━━━━━━┳━━━━━━━━━━━━━━━━━━━━━┓\n",
       "┃<span style=\"font-weight: bold\">    Source Location     </span>┃<span style=\"font-weight: bold\">        Categories        </span>┃<span style=\"font-weight: bold\"> scvi-tools Encoding </span>┃\n",
       "┡━━━━━━━━━━━━━━━━━━━━━━━━╇━━━━━━━━━━━━━━━━━━━━━━━━━━╇━━━━━━━━━━━━━━━━━━━━━┩\n",
       "│<span style=\"color: #0087ff; text-decoration-color: #0087ff\"> adata.obs['batch_key'] </span>│<span style=\"color: #008000; text-decoration-color: #008000\">  BRC2251_Cell_3prime-v3  </span>│<span style=\"color: #af00d7; text-decoration-color: #af00d7\">          0          </span>│\n",
       "│<span style=\"color: #0087ff; text-decoration-color: #0087ff\">                        </span>│<span style=\"color: #008000; text-decoration-color: #008000\">  BRC2252_Cell_3prime-v3  </span>│<span style=\"color: #af00d7; text-decoration-color: #af00d7\">          1          </span>│\n",
       "│<span style=\"color: #0087ff; text-decoration-color: #0087ff\">                        </span>│<span style=\"color: #008000; text-decoration-color: #008000\">  BRC2256_Cell_3prime-v3  </span>│<span style=\"color: #af00d7; text-decoration-color: #af00d7\">          2          </span>│\n",
       "│<span style=\"color: #0087ff; text-decoration-color: #0087ff\">                        </span>│<span style=\"color: #008000; text-decoration-color: #008000\">  BRC2260_Cell_3prime-v3  </span>│<span style=\"color: #af00d7; text-decoration-color: #af00d7\">          3          </span>│\n",
       "│<span style=\"color: #0087ff; text-decoration-color: #0087ff\">                        </span>│<span style=\"color: #008000; text-decoration-color: #008000\">  BRC2262_Cell_3prime-v3  </span>│<span style=\"color: #af00d7; text-decoration-color: #af00d7\">          4          </span>│\n",
       "│<span style=\"color: #0087ff; text-decoration-color: #0087ff\">                        </span>│<span style=\"color: #008000; text-decoration-color: #008000\">  BRC2263_Cell_3prime-v3  </span>│<span style=\"color: #af00d7; text-decoration-color: #af00d7\">          5          </span>│\n",
       "│<span style=\"color: #0087ff; text-decoration-color: #0087ff\">                        </span>│<span style=\"color: #008000; text-decoration-color: #008000\">  C82_Nuclei_Multiome-v1  </span>│<span style=\"color: #af00d7; text-decoration-color: #af00d7\">          6          </span>│\n",
       "│<span style=\"color: #0087ff; text-decoration-color: #0087ff\">                        </span>│<span style=\"color: #008000; text-decoration-color: #008000\">  C85_Nuclei_Multiome-v1  </span>│<span style=\"color: #af00d7; text-decoration-color: #af00d7\">          7          </span>│\n",
       "│<span style=\"color: #0087ff; text-decoration-color: #0087ff\">                        </span>│<span style=\"color: #008000; text-decoration-color: #008000\">    C86_Cell_5prime-v2    </span>│<span style=\"color: #af00d7; text-decoration-color: #af00d7\">          8          </span>│\n",
       "│<span style=\"color: #0087ff; text-decoration-color: #0087ff\">                        </span>│<span style=\"color: #008000; text-decoration-color: #008000\">  C87_Nuclei_Multiome-v1  </span>│<span style=\"color: #af00d7; text-decoration-color: #af00d7\">          9          </span>│\n",
       "│<span style=\"color: #0087ff; text-decoration-color: #0087ff\">                        </span>│<span style=\"color: #008000; text-decoration-color: #008000\">  C92_Nuclei_Multiome-v1  </span>│<span style=\"color: #af00d7; text-decoration-color: #af00d7\">         10          </span>│\n",
       "│<span style=\"color: #0087ff; text-decoration-color: #0087ff\">                        </span>│<span style=\"color: #008000; text-decoration-color: #008000\">    C94_Cell_5prime-v2    </span>│<span style=\"color: #af00d7; text-decoration-color: #af00d7\">         11          </span>│\n",
       "│<span style=\"color: #0087ff; text-decoration-color: #0087ff\">                        </span>│<span style=\"color: #008000; text-decoration-color: #008000\">    C97_Cell_5prime-v2    </span>│<span style=\"color: #af00d7; text-decoration-color: #af00d7\">         12          </span>│\n",
       "│<span style=\"color: #0087ff; text-decoration-color: #0087ff\">                        </span>│<span style=\"color: #008000; text-decoration-color: #008000\">  C98_Nuclei_Multiome-v1  </span>│<span style=\"color: #af00d7; text-decoration-color: #af00d7\">         13          </span>│\n",
       "│<span style=\"color: #0087ff; text-decoration-color: #0087ff\">                        </span>│<span style=\"color: #008000; text-decoration-color: #008000\">    C99_Cell_5prime-v2    </span>│<span style=\"color: #af00d7; text-decoration-color: #af00d7\">         14          </span>│\n",
       "│<span style=\"color: #0087ff; text-decoration-color: #0087ff\">                        </span>│<span style=\"color: #008000; text-decoration-color: #008000\"> C104_Nuclei_Multiome-v1  </span>│<span style=\"color: #af00d7; text-decoration-color: #af00d7\">         15          </span>│\n",
       "│<span style=\"color: #0087ff; text-decoration-color: #0087ff\">                        </span>│<span style=\"color: #008000; text-decoration-color: #008000\"> Hst33_Nuclei_Multiome-v1 </span>│<span style=\"color: #af00d7; text-decoration-color: #af00d7\">         16          </span>│\n",
       "│<span style=\"color: #0087ff; text-decoration-color: #0087ff\">                        </span>│<span style=\"color: #008000; text-decoration-color: #008000\"> Hst36_Nuclei_Multiome-v1 </span>│<span style=\"color: #af00d7; text-decoration-color: #af00d7\">         17          </span>│\n",
       "│<span style=\"color: #0087ff; text-decoration-color: #0087ff\">                        </span>│<span style=\"color: #008000; text-decoration-color: #008000\"> Hst39_Nuclei_Multiome-v1 </span>│<span style=\"color: #af00d7; text-decoration-color: #af00d7\">         18          </span>│\n",
       "│<span style=\"color: #0087ff; text-decoration-color: #0087ff\">                        </span>│<span style=\"color: #008000; text-decoration-color: #008000\"> Hst40_Nuclei_Multiome-v1 </span>│<span style=\"color: #af00d7; text-decoration-color: #af00d7\">         19          </span>│\n",
       "│<span style=\"color: #0087ff; text-decoration-color: #0087ff\">                        </span>│<span style=\"color: #008000; text-decoration-color: #008000\"> Hst41_Nuclei_Multiome-v1 </span>│<span style=\"color: #af00d7; text-decoration-color: #af00d7\">         20          </span>│\n",
       "└────────────────────────┴──────────────────────────┴─────────────────────┘\n",
       "</pre>\n"
      ],
      "text/plain": [
       "\u001b[3m                             Batch Categories                              \u001b[0m\n",
       "┏━━━━━━━━━━━━━━━━━━━━━━━━┳━━━━━━━━━━━━━━━━━━━━━━━━━━┳━━━━━━━━━━━━━━━━━━━━━┓\n",
       "┃\u001b[1m \u001b[0m\u001b[1m   Source Location    \u001b[0m\u001b[1m \u001b[0m┃\u001b[1m \u001b[0m\u001b[1m       Categories       \u001b[0m\u001b[1m \u001b[0m┃\u001b[1m \u001b[0m\u001b[1mscvi-tools Encoding\u001b[0m\u001b[1m \u001b[0m┃\n",
       "┡━━━━━━━━━━━━━━━━━━━━━━━━╇━━━━━━━━━━━━━━━━━━━━━━━━━━╇━━━━━━━━━━━━━━━━━━━━━┩\n",
       "│\u001b[38;5;33m \u001b[0m\u001b[38;5;33madata.obs['batch_key']\u001b[0m\u001b[38;5;33m \u001b[0m│\u001b[32m \u001b[0m\u001b[32m BRC2251_Cell_3prime-v3 \u001b[0m\u001b[32m \u001b[0m│\u001b[38;5;128m \u001b[0m\u001b[38;5;128m         0         \u001b[0m\u001b[38;5;128m \u001b[0m│\n",
       "│\u001b[38;5;33m \u001b[0m\u001b[38;5;33m                      \u001b[0m\u001b[38;5;33m \u001b[0m│\u001b[32m \u001b[0m\u001b[32m BRC2252_Cell_3prime-v3 \u001b[0m\u001b[32m \u001b[0m│\u001b[38;5;128m \u001b[0m\u001b[38;5;128m         1         \u001b[0m\u001b[38;5;128m \u001b[0m│\n",
       "│\u001b[38;5;33m \u001b[0m\u001b[38;5;33m                      \u001b[0m\u001b[38;5;33m \u001b[0m│\u001b[32m \u001b[0m\u001b[32m BRC2256_Cell_3prime-v3 \u001b[0m\u001b[32m \u001b[0m│\u001b[38;5;128m \u001b[0m\u001b[38;5;128m         2         \u001b[0m\u001b[38;5;128m \u001b[0m│\n",
       "│\u001b[38;5;33m \u001b[0m\u001b[38;5;33m                      \u001b[0m\u001b[38;5;33m \u001b[0m│\u001b[32m \u001b[0m\u001b[32m BRC2260_Cell_3prime-v3 \u001b[0m\u001b[32m \u001b[0m│\u001b[38;5;128m \u001b[0m\u001b[38;5;128m         3         \u001b[0m\u001b[38;5;128m \u001b[0m│\n",
       "│\u001b[38;5;33m \u001b[0m\u001b[38;5;33m                      \u001b[0m\u001b[38;5;33m \u001b[0m│\u001b[32m \u001b[0m\u001b[32m BRC2262_Cell_3prime-v3 \u001b[0m\u001b[32m \u001b[0m│\u001b[38;5;128m \u001b[0m\u001b[38;5;128m         4         \u001b[0m\u001b[38;5;128m \u001b[0m│\n",
       "│\u001b[38;5;33m \u001b[0m\u001b[38;5;33m                      \u001b[0m\u001b[38;5;33m \u001b[0m│\u001b[32m \u001b[0m\u001b[32m BRC2263_Cell_3prime-v3 \u001b[0m\u001b[32m \u001b[0m│\u001b[38;5;128m \u001b[0m\u001b[38;5;128m         5         \u001b[0m\u001b[38;5;128m \u001b[0m│\n",
       "│\u001b[38;5;33m \u001b[0m\u001b[38;5;33m                      \u001b[0m\u001b[38;5;33m \u001b[0m│\u001b[32m \u001b[0m\u001b[32m C82_Nuclei_Multiome-v1 \u001b[0m\u001b[32m \u001b[0m│\u001b[38;5;128m \u001b[0m\u001b[38;5;128m         6         \u001b[0m\u001b[38;5;128m \u001b[0m│\n",
       "│\u001b[38;5;33m \u001b[0m\u001b[38;5;33m                      \u001b[0m\u001b[38;5;33m \u001b[0m│\u001b[32m \u001b[0m\u001b[32m C85_Nuclei_Multiome-v1 \u001b[0m\u001b[32m \u001b[0m│\u001b[38;5;128m \u001b[0m\u001b[38;5;128m         7         \u001b[0m\u001b[38;5;128m \u001b[0m│\n",
       "│\u001b[38;5;33m \u001b[0m\u001b[38;5;33m                      \u001b[0m\u001b[38;5;33m \u001b[0m│\u001b[32m \u001b[0m\u001b[32m   C86_Cell_5prime-v2   \u001b[0m\u001b[32m \u001b[0m│\u001b[38;5;128m \u001b[0m\u001b[38;5;128m         8         \u001b[0m\u001b[38;5;128m \u001b[0m│\n",
       "│\u001b[38;5;33m \u001b[0m\u001b[38;5;33m                      \u001b[0m\u001b[38;5;33m \u001b[0m│\u001b[32m \u001b[0m\u001b[32m C87_Nuclei_Multiome-v1 \u001b[0m\u001b[32m \u001b[0m│\u001b[38;5;128m \u001b[0m\u001b[38;5;128m         9         \u001b[0m\u001b[38;5;128m \u001b[0m│\n",
       "│\u001b[38;5;33m \u001b[0m\u001b[38;5;33m                      \u001b[0m\u001b[38;5;33m \u001b[0m│\u001b[32m \u001b[0m\u001b[32m C92_Nuclei_Multiome-v1 \u001b[0m\u001b[32m \u001b[0m│\u001b[38;5;128m \u001b[0m\u001b[38;5;128m        10         \u001b[0m\u001b[38;5;128m \u001b[0m│\n",
       "│\u001b[38;5;33m \u001b[0m\u001b[38;5;33m                      \u001b[0m\u001b[38;5;33m \u001b[0m│\u001b[32m \u001b[0m\u001b[32m   C94_Cell_5prime-v2   \u001b[0m\u001b[32m \u001b[0m│\u001b[38;5;128m \u001b[0m\u001b[38;5;128m        11         \u001b[0m\u001b[38;5;128m \u001b[0m│\n",
       "│\u001b[38;5;33m \u001b[0m\u001b[38;5;33m                      \u001b[0m\u001b[38;5;33m \u001b[0m│\u001b[32m \u001b[0m\u001b[32m   C97_Cell_5prime-v2   \u001b[0m\u001b[32m \u001b[0m│\u001b[38;5;128m \u001b[0m\u001b[38;5;128m        12         \u001b[0m\u001b[38;5;128m \u001b[0m│\n",
       "│\u001b[38;5;33m \u001b[0m\u001b[38;5;33m                      \u001b[0m\u001b[38;5;33m \u001b[0m│\u001b[32m \u001b[0m\u001b[32m C98_Nuclei_Multiome-v1 \u001b[0m\u001b[32m \u001b[0m│\u001b[38;5;128m \u001b[0m\u001b[38;5;128m        13         \u001b[0m\u001b[38;5;128m \u001b[0m│\n",
       "│\u001b[38;5;33m \u001b[0m\u001b[38;5;33m                      \u001b[0m\u001b[38;5;33m \u001b[0m│\u001b[32m \u001b[0m\u001b[32m   C99_Cell_5prime-v2   \u001b[0m\u001b[32m \u001b[0m│\u001b[38;5;128m \u001b[0m\u001b[38;5;128m        14         \u001b[0m\u001b[38;5;128m \u001b[0m│\n",
       "│\u001b[38;5;33m \u001b[0m\u001b[38;5;33m                      \u001b[0m\u001b[38;5;33m \u001b[0m│\u001b[32m \u001b[0m\u001b[32mC104_Nuclei_Multiome-v1 \u001b[0m\u001b[32m \u001b[0m│\u001b[38;5;128m \u001b[0m\u001b[38;5;128m        15         \u001b[0m\u001b[38;5;128m \u001b[0m│\n",
       "│\u001b[38;5;33m \u001b[0m\u001b[38;5;33m                      \u001b[0m\u001b[38;5;33m \u001b[0m│\u001b[32m \u001b[0m\u001b[32mHst33_Nuclei_Multiome-v1\u001b[0m\u001b[32m \u001b[0m│\u001b[38;5;128m \u001b[0m\u001b[38;5;128m        16         \u001b[0m\u001b[38;5;128m \u001b[0m│\n",
       "│\u001b[38;5;33m \u001b[0m\u001b[38;5;33m                      \u001b[0m\u001b[38;5;33m \u001b[0m│\u001b[32m \u001b[0m\u001b[32mHst36_Nuclei_Multiome-v1\u001b[0m\u001b[32m \u001b[0m│\u001b[38;5;128m \u001b[0m\u001b[38;5;128m        17         \u001b[0m\u001b[38;5;128m \u001b[0m│\n",
       "│\u001b[38;5;33m \u001b[0m\u001b[38;5;33m                      \u001b[0m\u001b[38;5;33m \u001b[0m│\u001b[32m \u001b[0m\u001b[32mHst39_Nuclei_Multiome-v1\u001b[0m\u001b[32m \u001b[0m│\u001b[38;5;128m \u001b[0m\u001b[38;5;128m        18         \u001b[0m\u001b[38;5;128m \u001b[0m│\n",
       "│\u001b[38;5;33m \u001b[0m\u001b[38;5;33m                      \u001b[0m\u001b[38;5;33m \u001b[0m│\u001b[32m \u001b[0m\u001b[32mHst40_Nuclei_Multiome-v1\u001b[0m\u001b[32m \u001b[0m│\u001b[38;5;128m \u001b[0m\u001b[38;5;128m        19         \u001b[0m\u001b[38;5;128m \u001b[0m│\n",
       "│\u001b[38;5;33m \u001b[0m\u001b[38;5;33m                      \u001b[0m\u001b[38;5;33m \u001b[0m│\u001b[32m \u001b[0m\u001b[32mHst41_Nuclei_Multiome-v1\u001b[0m\u001b[32m \u001b[0m│\u001b[38;5;128m \u001b[0m\u001b[38;5;128m        20         \u001b[0m\u001b[38;5;128m \u001b[0m│\n",
       "└────────────────────────┴──────────────────────────┴─────────────────────┘\n"
      ]
     },
     "metadata": {},
     "output_type": "display_data"
    },
    {
     "name": "stderr",
     "output_type": "stream",
     "text": [
      "GPU available: True, used: True\n",
      "TPU available: False, using: 0 TPU cores\n",
      "/lustre/scratch117/cellgen/team205/kk18/miniconda3/envs/cell2loc_env/lib/python3.9/site-packages/pytorch_lightning/trainer/configuration_validator.py:99: UserWarning: you passed in a val_dataloader but have no validation_step. Skipping val loop\n",
      "LOCAL_RANK: 0 - CUDA_VISIBLE_DEVICES: [0]\n"
     ]
    },
    {
     "name": "stdout",
     "output_type": "stream",
     "text": [
      "Epoch 1000/1000: 100%|█████████████████████████████████████████████████████████████████████████████████████████████████████████████████████████████████████████████████| 1000/1000 [6:02:33<00:00, 21.75s/it, v_num=1, elbo_train=1.19e+9]\n",
      "Sampling local variables, batch:   0%|                                                                                                                                                                             | 0/75 [00:00<?, ?it/s]\n",
      "Sampling global variables, sample: 100%|████████████████████████████████████████████████████████████████████████████████████████████████████████████████████████████████████████████████████████████████| 999/999 [00:16<00:00, 59.54it/s]\n"
     ]
    },
    {
     "name": "stderr",
     "output_type": "stream",
     "text": [
      "/lustre/scratch117/cellgen/team205/kk18/miniconda3/envs/cell2loc_env/lib/python3.9/site-packages/anndata/_core/anndata.py:1228: FutureWarning: The `inplace` parameter in pandas.Categorical.reorder_categories is deprecated and will be removed in a future version. Reordering categories will always return a new Categorical object.\n",
      "... storing 'atrialorventricular' as categorical\n"
     ]
    },
    {
     "data": {
      "image/png": "[encoded data removed]",
      "text/plain": [
       "<Figure size 432x288 with 1 Axes>"
      ]
     },
     "metadata": {
      "needs_background": "light"
     },
     "output_type": "display_data"
    },
    {
     "data": {
      "image/png": "[encoded data removed]",
      "text/plain": [
       "<Figure size 432x288 with 1 Axes>"
      ]
     },
     "metadata": {
      "needs_background": "light"
     },
     "output_type": "display_data"
    },
    {
     "name": "stdout",
     "output_type": "stream",
     "text": [
      "CPU times: user 5h 33min 38s, sys: 2h 59min 2s, total: 8h 32min 41s\n",
      "Wall time: 6h 5min 40s\n"
     ]
    }
   ],
   "source": [
    "%%time\n",
    "\n",
    "from cell2location.utils.filtering import filter_genes\n",
    "from cell2location.models import RegressionModel\n",
    "\n",
    "for reg in regions:\n",
    "    print(f'##### {reg} #####')\n",
    "    \n",
    "    # subset adata\n",
    "    if reg == 'whole_woPeriCell_woDASMC':\n",
    "        adata_ref = adata.copy()\n",
    "    else:\n",
    "        adata_ref = adata[adata.obs['atrialorventricular'].isin(['either',reg])]\n",
    "    \n",
    "    # show cell types\n",
    "    adata_ref.obs['fine_grain'].value_counts()\n",
    "    \n",
    "    # before we estimate the reference cell type signature we recommend to perform very permissive genes selection\n",
    "    # in this 2D histogram orange rectangle lays over excluded genes.\n",
    "    # In this case, the downloaded dataset was already filtered using this method,\n",
    "    # hence no density under the orange rectangle\n",
    "    selected = filter_genes(adata_ref, cell_count_cutoff=5, cell_percentage_cutoff2=0.03, nonz_mean_cutoff=1.12)\n",
    "    # filter the object\n",
    "    adata_ref = adata_ref[:, selected].copy()\n",
    "\n",
    "    # remove cell_states, which have only 2 cells or less\n",
    "    counts = adata_ref.obs[celltype_key].value_counts()\n",
    "    adata_ref = adata_ref[adata_ref.obs[celltype_key].isin(list(counts.keys()[counts>2]))]\n",
    "\n",
    "    # prepare anndata for the regression model\n",
    "    adata_ref=adata_ref.copy()\n",
    "    scvi.data.setup_anndata(adata=adata_ref, \n",
    "                            # 10X reaction / sample / batch\n",
    "                            batch_key='batch_key', \n",
    "                            # cell type, covariate used for constructing signatures\n",
    "                            labels_key=celltype_key, \n",
    "                            # multiplicative technical effects (platform, 3' vs 5', donor effect)\n",
    "                            # categorical_covariate_keys=['Method']\n",
    "                           )\n",
    "    scvi.data.view_anndata_setup(adata_ref)\n",
    "\n",
    "    # create and train the regression model\n",
    "    mod = RegressionModel(adata_ref) \n",
    "\n",
    "    # Use all data for training (validation not implemented yet, train_size=1)\n",
    "    mod.train(max_epochs=1000, batch_size=2500, train_size=1, lr=0.002, use_gpu=True)\n",
    "\n",
    "    # plot ELBO loss history during training, removing first 20 epochs from the plot\n",
    "    mod.plot_history(20)\n",
    "\n",
    "    # In this section, we export the estimated cell abundance (summary of the posterior distribution).\n",
    "    adata_ref = mod.export_posterior(\n",
    "        adata_ref, sample_kwargs={'num_samples': 1000, 'batch_size': 2500, 'use_gpu': True}\n",
    "    )\n",
    "\n",
    "    # Save model\n",
    "    mod.save(f\"{ref_run_name}/{reg}/\", overwrite=True)\n",
    "\n",
    "    # Save anndata object with results\n",
    "    # adata_file = f\"{ref_run_name}/{reg}/sc.h5ad\"\n",
    "    adata_ref.write(f\"{ref_run_name}/{reg}/sc.h5ad\")\n",
    "\n",
    "    mod.plot_QC()\n",
    "\n",
    "    # export estimated expression in each cluster\n",
    "    if 'means_per_cluster_mu_fg' in adata_ref.varm.keys():\n",
    "        inf_aver = adata_ref.varm['means_per_cluster_mu_fg'][[f'means_per_cluster_mu_fg_{i}' \n",
    "                                        for i in adata_ref.uns['mod']['factor_names']]].copy()\n",
    "    else:\n",
    "        inf_aver = adata_ref.var[[f'means_per_cluster_mu_fg_{i}' \n",
    "                                        for i in adata_ref.uns['mod']['factor_names']]].copy()\n",
    "    inf_aver.columns = adata_ref.uns['mod']['factor_names']\n",
    "    inf_aver.iloc[0:5, 0:5]\n",
    "\n",
    "    # save inf_aver\n",
    "    inf_aver.to_csv(f\"{ref_run_name}/{reg}/inf_aver.csv\")\n",
    "    \n",
    "    del adata_ref,mod,inf_aver,selected,counts"
   ]
  },
  {
   "cell_type": "code",
   "execution_count": null,
   "id": "juvenile-destination",
   "metadata": {},
   "outputs": [],
   "source": []
  },
  {
   "cell_type": "code",
   "execution_count": null,
   "id": "victorian-adams",
   "metadata": {},
   "outputs": [],
   "source": []
  },
  {
   "cell_type": "code",
   "execution_count": null,
   "id": "superb-break",
   "metadata": {},
   "outputs": [],
   "source": []
  }
 ],
 "metadata": {
  "kernelspec": {
   "display_name": "Environment (cell2loc_env)/",
   "language": "python",
   "name": "cell2loc_env"
  },
  "language_info": {
   "codemirror_mode": {
    "name": "ipython",
    "version": 3
   },
   "file_extension": ".py",
   "mimetype": "text/x-python",
   "name": "python",
   "nbconvert_exporter": "python",
   "pygments_lexer": "ipython3",
   "version": "3.9.7"
  }
 },
 "nbformat": 4,
 "nbformat_minor": 5
}
